{
 "cells": [
  {
   "cell_type": "markdown",
   "id": "f1fdca32",
   "metadata": {},
   "source": [
    "# Q1. 다음은 Calculator 클래스이다.\n",
    "```python\n",
    "class Calculator:\n",
    "    def __init__(self):\n",
    "        self.value = 0\n",
    "    def add(self, val):\n",
    "        self.value += val\n",
    "```\n",
    "위 클래스를 상속하는 UpgradeCalculator를 만들고 값을 뺄 수 잇는 minus 메서드를 추가해보자.   \n",
    "즉 다음과 같이 동작하는 클래스를 만들어야 한다.\n",
    "```python\n",
    "cal = UpgradeCalculator()\n",
    "cal.add(10)\n",
    "cal.minus(7)\n",
    "print(cal.calue) # 10에서 7을 뺀 3을 출력\n",
    "```"
   ]
  },
  {
   "cell_type": "code",
   "execution_count": 1,
   "id": "f3345c8c",
   "metadata": {},
   "outputs": [],
   "source": [
    "class Calculator:\n",
    "    def __init__(self):\n",
    "        self.value = 0\n",
    "    def add(self, val):\n",
    "        self.value += val"
   ]
  },
  {
   "cell_type": "code",
   "execution_count": 8,
   "id": "3c034248",
   "metadata": {},
   "outputs": [],
   "source": [
    "class UpgradeCalculator(Calculator):\n",
    "    def minus(self, val):\n",
    "        self.value -= val"
   ]
  },
  {
   "cell_type": "code",
   "execution_count": 11,
   "id": "8723c0e8",
   "metadata": {},
   "outputs": [
    {
     "name": "stdout",
     "output_type": "stream",
     "text": [
      "3\n"
     ]
    }
   ],
   "source": [
    "cal = UpgradeCalculator()\n",
    "cal.add(10)\n",
    "cal.minus(7)\n",
    "print(cal.value)"
   ]
  },
  {
   "cell_type": "markdown",
   "id": "75806738",
   "metadata": {},
   "source": [
    "# Q2. 객체 변수 value가 100 이상의 값은 가질 수 없도록 제한하는 MaxLimitCalculator 클래스를 만들어 보자. 즉 다음과 같이 동작해야 한다.\n",
    "```python\n",
    "cal = MaxLimitCalculator()\n",
    "cal.add(50) # 50 더하기\n",
    "cal.add(60) # 60 더하기\n",
    "\n",
    "print(cal.value) # 100 출력\n",
    "```\n",
    "\n",
    "단 반드시 다음과 같은 calculator 클래스를 상속해서 만들어야 한다.\n",
    "```python\n",
    "class Calculator:\n",
    "    def __init__(self):\n",
    "        self.value = 0\n",
    "    def add(self, val):\n",
    "        self.value += val\n",
    "```"
   ]
  },
  {
   "cell_type": "code",
   "execution_count": 12,
   "id": "d5bc73e1",
   "metadata": {},
   "outputs": [],
   "source": [
    "class Calculator:\n",
    "    def __init__(self):\n",
    "        self.value = 0\n",
    "    def add(self, val):\n",
    "        self.value += val"
   ]
  },
  {
   "cell_type": "code",
   "execution_count": 23,
   "id": "3f5e9685",
   "metadata": {},
   "outputs": [],
   "source": [
    "class MaxLimitCalculator(Calculator):\n",
    "    def __init__(self):\n",
    "        super().__init__()\n",
    "    \n",
    "    def add(self, val):\n",
    "        super().add(val)\n",
    "        if self.value >= 100:\n",
    "            self.value = 100\n",
    "        else:\n",
    "            self.value"
   ]
  },
  {
   "cell_type": "code",
   "execution_count": 24,
   "id": "04b8eac3",
   "metadata": {},
   "outputs": [
    {
     "name": "stdout",
     "output_type": "stream",
     "text": [
      "100\n"
     ]
    }
   ],
   "source": [
    "cal = MaxLimitCalculator()\n",
    "cal.add(50)\n",
    "cal.add(60)\n",
    "print(cal.value)"
   ]
  },
  {
   "cell_type": "markdown",
   "id": "7286e434",
   "metadata": {},
   "source": [
    "# Q3. 다음 결과를 예측해 보자.\n",
    "```python\n",
    "# 1.\n",
    ">>> all({1, 2, abs(-3)-3})\n",
    "\n",
    "# 2.\n",
    ">>> chr(ord('a')) == 'a'\n",
    "```"
   ]
  },
  {
   "cell_type": "code",
   "execution_count": 25,
   "id": "b686ab29",
   "metadata": {},
   "outputs": [
    {
     "data": {
      "text/plain": [
       "False"
      ]
     },
     "execution_count": 25,
     "metadata": {},
     "output_type": "execute_result"
    }
   ],
   "source": [
    "all({1, 2, abs(-3)-3})\n",
    "# False"
   ]
  },
  {
   "cell_type": "code",
   "execution_count": 28,
   "id": "479dd0e9",
   "metadata": {},
   "outputs": [
    {
     "data": {
      "text/plain": [
       "True"
      ]
     },
     "execution_count": 28,
     "metadata": {},
     "output_type": "execute_result"
    }
   ],
   "source": [
    "chr(ord('a')) == 'a'\n",
    "# True"
   ]
  },
  {
   "cell_type": "markdown",
   "id": "ff058604",
   "metadata": {},
   "source": [
    "# Q4. filter와 lambda를 사용하여 리스트 [1, -2, 3, -5, 8, -3]에서 음수를 모두 제거해 보자."
   ]
  },
  {
   "cell_type": "code",
   "execution_count": 37,
   "id": "4da2f202",
   "metadata": {},
   "outputs": [
    {
     "data": {
      "text/plain": [
       "[1, 3, 8]"
      ]
     },
     "execution_count": 37,
     "metadata": {},
     "output_type": "execute_result"
    }
   ],
   "source": [
    "list(filter(lambda x: x > 0, [1, -2, 3, -5, 8, -3]))"
   ]
  },
  {
   "cell_type": "markdown",
   "id": "3810c0b8",
   "metadata": {},
   "source": [
    "# Q5. 234라는 10진수의 16진수는 다음과 같이 구할 수 있다.\n",
    "```python\n",
    ">>> hex(234)\n",
    "'0xea'\n",
    "```\n",
    "이번에는 반대로 16진수 문자열 0xea를 10진수로 변경해 보자."
   ]
  },
  {
   "cell_type": "code",
   "execution_count": 38,
   "id": "c94be636",
   "metadata": {},
   "outputs": [
    {
     "data": {
      "text/plain": [
       "234"
      ]
     },
     "execution_count": 38,
     "metadata": {},
     "output_type": "execute_result"
    }
   ],
   "source": [
    "int('0xea', 16)"
   ]
  },
  {
   "cell_type": "markdown",
   "id": "6c563fc7",
   "metadata": {},
   "source": [
    "# Q6. map과 lambda를 사용하여 [1, 2, 3, 4] 리스트의 각 요솟값에 3이 곱해진 리스트 [3, 6, 9, 12]를 만들어 보자."
   ]
  },
  {
   "cell_type": "code",
   "execution_count": 40,
   "id": "f303e800",
   "metadata": {},
   "outputs": [
    {
     "data": {
      "text/plain": [
       "[3, 6, 9, 12]"
      ]
     },
     "execution_count": 40,
     "metadata": {},
     "output_type": "execute_result"
    }
   ],
   "source": [
    "list(map(lambda x:x * 3, [1, 2, 3, 4]))"
   ]
  },
  {
   "cell_type": "markdown",
   "id": "5abd78a0",
   "metadata": {},
   "source": [
    "# Q7. 다음 리스트의 최댓값과 최솟값의 합을 구해 보자.\n",
    "[-8, 2, 7, 5, -3, 5, 0, 1]"
   ]
  },
  {
   "cell_type": "code",
   "execution_count": 43,
   "id": "4527968b",
   "metadata": {},
   "outputs": [
    {
     "data": {
      "text/plain": [
       "-1"
      ]
     },
     "execution_count": 43,
     "metadata": {},
     "output_type": "execute_result"
    }
   ],
   "source": [
    "a = [-8, 2, 7, 5, -3, 5, 0, 1]\n",
    "max(a) + min(a)"
   ]
  },
  {
   "cell_type": "markdown",
   "id": "b64ed240",
   "metadata": {},
   "source": [
    "# Q8. 17 / 3의 결과는 다음과 같다.\n",
    "```python\n",
    ">>> 17 / 3\n",
    "5.666666666667\n",
    "```\n",
    "위와 같은 결괏값 5.6666666666667을 소숫점 4자리까지만 반올림하여 표시해 보자."
   ]
  },
  {
   "cell_type": "code",
   "execution_count": 46,
   "id": "730d116a",
   "metadata": {},
   "outputs": [
    {
     "data": {
      "text/plain": [
       "5.6667"
      ]
     },
     "execution_count": 46,
     "metadata": {},
     "output_type": "execute_result"
    }
   ],
   "source": [
    "round(17 / 3, 4)"
   ]
  },
  {
   "cell_type": "markdown",
   "id": "6ae88f19",
   "metadata": {},
   "source": [
    "# Q9. 다음과 같이 실행할 때 입력값을 모두 더하여 출력하는 스크립트(C:\\doit\\myargv.py)를 작성해 보자.\n",
    "```\n",
    "C:\\> cd doit\n",
    "C:\\dodit> python myargv.py 1 2 3 4 5 6 7 8 9 10\n",
    "```"
   ]
  },
  {
   "cell_type": "code",
   "execution_count": 69,
   "id": "93068ed8",
   "metadata": {},
   "outputs": [
    {
     "ename": "ValueError",
     "evalue": "invalid literal for int() with base 10: '-f'",
     "output_type": "error",
     "traceback": [
      "\u001b[1;31m---------------------------------------------------------------------------\u001b[0m",
      "\u001b[1;31mValueError\u001b[0m                                Traceback (most recent call last)",
      "Cell \u001b[1;32mIn[69], line 6\u001b[0m\n\u001b[0;32m      4\u001b[0m number \u001b[38;5;241m=\u001b[39m \u001b[38;5;241m0\u001b[39m\n\u001b[0;32m      5\u001b[0m \u001b[38;5;28;01mfor\u001b[39;00m i \u001b[38;5;129;01min\u001b[39;00m args:\n\u001b[1;32m----> 6\u001b[0m     number \u001b[38;5;241m+\u001b[39m\u001b[38;5;241m=\u001b[39m \u001b[38;5;28mint\u001b[39m(i)\n\u001b[0;32m      7\u001b[0m \u001b[38;5;28mprint\u001b[39m(number)\n",
      "\u001b[1;31mValueError\u001b[0m: invalid literal for int() with base 10: '-f'"
     ]
    }
   ],
   "source": [
    "import sys\n",
    "\n",
    "args = sys.argv[1:]\n",
    "number = 0\n",
    "for i in args:\n",
    "    number += int(i)\n",
    "print(number)"
   ]
  },
  {
   "cell_type": "markdown",
   "id": "ac41096a",
   "metadata": {},
   "source": [
    "# Q10. OS 모듈을 사용하여 다음과 같이 동작하도록 코드를 작성해 보자.\n",
    "1. C:\\doit 디렉터리로 이동한다.\n",
    "2. dir 명령을 실행하고 그 결과를 변수에 담는다.\n",
    "3. dir 명령의 결과를 출력한다."
   ]
  },
  {
   "cell_type": "code",
   "execution_count": 64,
   "id": "6cef3623",
   "metadata": {},
   "outputs": [
    {
     "data": {
      "text/plain": [
       "'C:\\\\workspace\\\\wassup2\\\\wassup2\\\\python_grammer'"
      ]
     },
     "execution_count": 64,
     "metadata": {},
     "output_type": "execute_result"
    }
   ],
   "source": [
    "pwd"
   ]
  },
  {
   "cell_type": "code",
   "execution_count": 67,
   "id": "cb1d4905",
   "metadata": {},
   "outputs": [],
   "source": [
    "data = dir()"
   ]
  },
  {
   "cell_type": "code",
   "execution_count": 68,
   "id": "340f594b",
   "metadata": {},
   "outputs": [
    {
     "name": "stdout",
     "output_type": "stream",
     "text": [
      "Calculator\n",
      "In\n",
      "MaxLimitCalculator\n",
      "Out\n",
      "UpgradeCalculator\n",
      "_\n",
      "_25\n",
      "_28\n",
      "_34\n",
      "_35\n",
      "_36\n",
      "_37\n",
      "_38\n",
      "_39\n",
      "_40\n",
      "_41\n",
      "_42\n",
      "_43\n",
      "_44\n",
      "_46\n",
      "_47\n",
      "_48\n",
      "_49\n",
      "_50\n",
      "_51\n",
      "_52\n",
      "_53\n",
      "_54\n",
      "_55\n",
      "_56\n",
      "_60\n",
      "_61\n",
      "_62\n",
      "_63\n",
      "_64\n",
      "_65\n",
      "_66\n",
      "__\n",
      "___\n",
      "__builtin__\n",
      "__builtins__\n",
      "__doc__\n",
      "__loader__\n",
      "__name__\n",
      "__package__\n",
      "__spec__\n",
      "_dh\n",
      "_i\n",
      "_i1\n",
      "_i10\n",
      "_i11\n",
      "_i12\n",
      "_i13\n",
      "_i14\n",
      "_i15\n",
      "_i16\n",
      "_i17\n",
      "_i18\n",
      "_i19\n",
      "_i2\n",
      "_i20\n",
      "_i21\n",
      "_i22\n",
      "_i23\n",
      "_i24\n",
      "_i25\n",
      "_i26\n",
      "_i27\n",
      "_i28\n",
      "_i29\n",
      "_i3\n",
      "_i30\n",
      "_i31\n",
      "_i32\n",
      "_i33\n",
      "_i34\n",
      "_i35\n",
      "_i36\n",
      "_i37\n",
      "_i38\n",
      "_i39\n",
      "_i4\n",
      "_i40\n",
      "_i41\n",
      "_i42\n",
      "_i43\n",
      "_i44\n",
      "_i45\n",
      "_i46\n",
      "_i47\n",
      "_i48\n",
      "_i49\n",
      "_i5\n",
      "_i50\n",
      "_i51\n",
      "_i52\n",
      "_i53\n",
      "_i54\n",
      "_i55\n",
      "_i56\n",
      "_i57\n",
      "_i58\n",
      "_i59\n",
      "_i6\n",
      "_i60\n",
      "_i61\n",
      "_i62\n",
      "_i63\n",
      "_i64\n",
      "_i65\n",
      "_i66\n",
      "_i67\n",
      "_i7\n",
      "_i8\n",
      "_i9\n",
      "_ih\n",
      "_ii\n",
      "_iii\n",
      "_oh\n",
      "a\n",
      "cal\n",
      "data\n",
      "exit\n",
      "get_ipython\n",
      "glob\n",
      "num1\n",
      "open\n",
      "quit\n",
      "random\n",
      "time\n"
     ]
    }
   ],
   "source": [
    "for i in data:\n",
    "    print(i)"
   ]
  },
  {
   "cell_type": "code",
   "execution_count": 72,
   "id": "f061f9c2",
   "metadata": {},
   "outputs": [
    {
     "name": "stdout",
     "output_type": "stream",
     "text": [
      " C 드라이브의 볼륨: OS\n",
      " 볼륨 일련 번호: 9EE6-2A95\n",
      "\n",
      " C:\\workspace\\wassup2\\wassup2\\python_grammer 디렉터리\n",
      "\n",
      "2024-03-12  오후 11:09    <DIR>          .\n",
      "2024-02-27  오후 01:25    <DIR>          ..\n",
      "2024-03-12  오후 11:07    <DIR>          .ipynb_checkpoints\n",
      "2024-02-29  오전 12:23           141,431 00_마크다운.ipynb\n",
      "2024-03-05  오전 01:28            16,104 01_자료형&변수_연습문제_실습용.ipynb\n",
      "2024-03-05  오전 11:49            16,417 01_자료형&변수_연습문제_정답.ipynb\n",
      "2024-03-06  오전 11:41           115,381 01_자료형과변수.ipynb\n",
      "2024-03-06  오전 11:41         2,580,022 02_제어문.ipynb\n",
      "2024-03-05  오후 11:24             9,160 02_제어문_연습문제_실습용.ipynb\n",
      "2024-03-07  오전 09:19             9,198 02_제어문_연습문제_정답.ipynb\n",
      "2024-03-07  오전 12:01             9,755 03_코딩연습_전화번호프로그램_실습용.ipynb\n",
      "2024-03-07  오후 12:12            10,922 04_함수&입출력_연습문제_실습용.ipynb\n",
      "2024-03-11  오전 11:10             9,725 04_함수&입출력_연습문제_정답.ipynb\n",
      "2024-03-07  오후 12:12            28,582 04_함수와입출력.ipynb\n",
      "2024-03-12  오후 11:09            18,294 05_클래스&내장함수_연습문제_실습용.ipynb\n",
      "2024-03-12  오후 11:07            18,914 05_클래스&내장함수_연습문제_정답.ipynb\n",
      "2024-03-12  오전 10:03           302,776 05_클래스와예외처리.ipynb\n",
      "2024-03-12  오후 01:01            42,542 06_내장함수와라이브러리.ipynb\n",
      "2024-03-12  오후 01:19    <DIR>          output\n",
      "2024-03-12  오후 01:48           299,248 초보자를위한파이썬300제_문제풀이.ipynb\n",
      "              16개 파일           3,628,471 바이트\n",
      "               4개 디렉터리  40,133,574,656 바이트 남음\n",
      "\n"
     ]
    }
   ],
   "source": [
    "import os\n",
    "\n",
    "os.getcwd()\n",
    "os.system('dir')\n",
    "f = os.popen(\"dir\")\n",
    "print(f.read())"
   ]
  },
  {
   "cell_type": "markdown",
   "id": "e1df445d",
   "metadata": {},
   "source": [
    "# Q11. glob 모듈을 사용하여 C:\\doit 디렉터리의 파일 중 확장자가 .ipynb인 파일만 출력하는 프로그램을 작성해 보자."
   ]
  },
  {
   "cell_type": "code",
   "execution_count": 47,
   "id": "b69ab522",
   "metadata": {},
   "outputs": [
    {
     "data": {
      "text/plain": [
       "'C:\\\\workspace\\\\wassup2\\\\wassup2\\\\python_grammer'"
      ]
     },
     "execution_count": 47,
     "metadata": {},
     "output_type": "execute_result"
    }
   ],
   "source": [
    "pwd"
   ]
  },
  {
   "cell_type": "code",
   "execution_count": 48,
   "id": "165dac80",
   "metadata": {},
   "outputs": [
    {
     "data": {
      "text/plain": [
       "['C:\\\\workspace\\\\wassup2\\\\wassup2\\\\python_grammer\\\\00_마크다운.ipynb',\n",
       " 'C:\\\\workspace\\\\wassup2\\\\wassup2\\\\python_grammer\\\\01_자료형&변수_연습문제_실습용.ipynb',\n",
       " 'C:\\\\workspace\\\\wassup2\\\\wassup2\\\\python_grammer\\\\01_자료형&변수_연습문제_정답.ipynb',\n",
       " 'C:\\\\workspace\\\\wassup2\\\\wassup2\\\\python_grammer\\\\01_자료형과변수.ipynb',\n",
       " 'C:\\\\workspace\\\\wassup2\\\\wassup2\\\\python_grammer\\\\02_제어문.ipynb',\n",
       " 'C:\\\\workspace\\\\wassup2\\\\wassup2\\\\python_grammer\\\\02_제어문_연습문제_실습용.ipynb',\n",
       " 'C:\\\\workspace\\\\wassup2\\\\wassup2\\\\python_grammer\\\\02_제어문_연습문제_정답.ipynb',\n",
       " 'C:\\\\workspace\\\\wassup2\\\\wassup2\\\\python_grammer\\\\03_코딩연습_전화번호프로그램_실습용.ipynb',\n",
       " 'C:\\\\workspace\\\\wassup2\\\\wassup2\\\\python_grammer\\\\04_함수&입출력_연습문제_실습용.ipynb',\n",
       " 'C:\\\\workspace\\\\wassup2\\\\wassup2\\\\python_grammer\\\\04_함수&입출력_연습문제_정답.ipynb',\n",
       " 'C:\\\\workspace\\\\wassup2\\\\wassup2\\\\python_grammer\\\\04_함수와입출력.ipynb',\n",
       " 'C:\\\\workspace\\\\wassup2\\\\wassup2\\\\python_grammer\\\\05_클래스&내장함수_연습문제_실습용.ipynb',\n",
       " 'C:\\\\workspace\\\\wassup2\\\\wassup2\\\\python_grammer\\\\05_클래스&내장함수_연습문제_정답.ipynb',\n",
       " 'C:\\\\workspace\\\\wassup2\\\\wassup2\\\\python_grammer\\\\05_클래스와예외처리.ipynb',\n",
       " 'C:\\\\workspace\\\\wassup2\\\\wassup2\\\\python_grammer\\\\06_내장함수와라이브러리.ipynb',\n",
       " 'C:\\\\workspace\\\\wassup2\\\\wassup2\\\\python_grammer\\\\초보자를위한파이썬300제_문제풀이.ipynb']"
      ]
     },
     "execution_count": 48,
     "metadata": {},
     "output_type": "execute_result"
    }
   ],
   "source": [
    "import glob\n",
    "\n",
    "glob.glob('C:\\workspace\\wassup2\\wassup2\\python_grammer\\*.ipynb')"
   ]
  },
  {
   "cell_type": "markdown",
   "id": "d7b91fea",
   "metadata": {},
   "source": [
    "# Q12. time 모듈을 사용하여 현재 날짜와 시간을 다음과 같은 형식으로 출력해 보자.\n",
    "2018/04/03 17:20:32"
   ]
  },
  {
   "cell_type": "code",
   "execution_count": 56,
   "id": "e2a5f482",
   "metadata": {},
   "outputs": [
    {
     "data": {
      "text/plain": [
       "'2024/03/12 23:01:01'"
      ]
     },
     "execution_count": 56,
     "metadata": {},
     "output_type": "execute_result"
    }
   ],
   "source": [
    "import time\n",
    "\n",
    "time.strftime('%Y/%m/%d %H:%M:%S', time.localtime(time.time()))"
   ]
  },
  {
   "cell_type": "markdown",
   "id": "393cd834",
   "metadata": {},
   "source": [
    "# Q13. random 모듈을 사용하여 로또 번호 (1~45 사이의 숫자 6개)를 생성해보자(단 중복된 숫자가 있으면 안됨)."
   ]
  },
  {
   "cell_type": "code",
   "execution_count": 91,
   "id": "c4b093dc",
   "metadata": {},
   "outputs": [
    {
     "data": {
      "text/plain": [
       "[40, 32, 2, 37, 12, 28]"
      ]
     },
     "execution_count": 91,
     "metadata": {},
     "output_type": "execute_result"
    }
   ],
   "source": [
    "import random\n",
    "\n",
    "data = range(1, 45)\n",
    "random.sample(data, 6)"
   ]
  },
  {
   "cell_type": "code",
   "execution_count": 73,
   "id": "e64b4caf",
   "metadata": {},
   "outputs": [
    {
     "name": "stdout",
     "output_type": "stream",
     "text": [
      "[6, 21, 35, 39, 27, 18]\n"
     ]
    }
   ],
   "source": [
    "import random\n",
    "result = []\n",
    "while len(result) < 6:\n",
    "    num = random.randint(1, 45)\n",
    "    if num not in result:\n",
    "        result.append(num)\n",
    "print(result)"
   ]
  },
  {
   "cell_type": "markdown",
   "id": "ee89ff74",
   "metadata": {},
   "source": [
    "\"성공은 매일 반복한 작은 노력들의 합이다.\"\n",
    "- 로버트 콜리어"
   ]
  }
 ],
 "metadata": {
  "kernelspec": {
   "display_name": "Python 3 (ipykernel)",
   "language": "python",
   "name": "python3"
  },
  "language_info": {
   "codemirror_mode": {
    "name": "ipython",
    "version": 3
   },
   "file_extension": ".py",
   "mimetype": "text/x-python",
   "name": "python",
   "nbconvert_exporter": "python",
   "pygments_lexer": "ipython3",
   "version": "3.11.5"
  },
  "toc": {
   "base_numbering": 1,
   "nav_menu": {},
   "number_sections": true,
   "sideBar": true,
   "skip_h1_title": false,
   "title_cell": "Table of Contents",
   "title_sidebar": "Contents",
   "toc_cell": false,
   "toc_position": {},
   "toc_section_display": true,
   "toc_window_display": false
  },
  "varInspector": {
   "cols": {
    "lenName": 16,
    "lenType": 16,
    "lenVar": 40
   },
   "kernels_config": {
    "python": {
     "delete_cmd_postfix": "",
     "delete_cmd_prefix": "del ",
     "library": "var_list.py",
     "varRefreshCmd": "print(var_dic_list())"
    },
    "r": {
     "delete_cmd_postfix": ") ",
     "delete_cmd_prefix": "rm(",
     "library": "var_list.r",
     "varRefreshCmd": "cat(var_dic_list()) "
    }
   },
   "types_to_exclude": [
    "module",
    "function",
    "builtin_function_or_method",
    "instance",
    "_Feature"
   ],
   "window_display": false
  }
 },
 "nbformat": 4,
 "nbformat_minor": 5
}
