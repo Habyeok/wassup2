{
 "cells": [
  {
   "cell_type": "code",
   "execution_count": 2,
   "id": "9c24918d",
   "metadata": {},
   "outputs": [
    {
     "name": "stdout",
     "output_type": "stream",
     "text": [
      "Requirement already satisfied: jupyter_nbextensions_configurator in c:\\users\\n2465\\anaconda3\\lib\\site-packages (0.6.3)\n",
      "Requirement already satisfied: jupyter_contrib_nbextensions in c:\\users\\n2465\\anaconda3\\lib\\site-packages (0.7.0)\n",
      "Requirement already satisfied: jupyter-contrib-core>=0.3.3 in c:\\users\\n2465\\anaconda3\\lib\\site-packages (from jupyter_nbextensions_configurator) (0.4.2)\n",
      "Requirement already satisfied: jupyter-core in c:\\users\\n2465\\anaconda3\\lib\\site-packages (from jupyter_nbextensions_configurator) (5.3.0)\n",
      "Requirement already satisfied: notebook>=6.0 in c:\\users\\n2465\\anaconda3\\lib\\site-packages (from jupyter_nbextensions_configurator) (6.5.4)\n",
      "Requirement already satisfied: pyyaml in c:\\users\\n2465\\anaconda3\\lib\\site-packages (from jupyter_nbextensions_configurator) (6.0)\n",
      "Requirement already satisfied: tornado in c:\\users\\n2465\\anaconda3\\lib\\site-packages (from jupyter_nbextensions_configurator) (6.3.2)\n",
      "Requirement already satisfied: traitlets in c:\\users\\n2465\\anaconda3\\lib\\site-packages (from jupyter_nbextensions_configurator) (5.7.1)\n",
      "Requirement already satisfied: ipython-genutils in c:\\users\\n2465\\anaconda3\\lib\\site-packages (from jupyter_contrib_nbextensions) (0.2.0)\n",
      "Requirement already satisfied: jupyter-highlight-selected-word>=0.1.1 in c:\\users\\n2465\\anaconda3\\lib\\site-packages (from jupyter_contrib_nbextensions) (0.2.0)\n",
      "Requirement already satisfied: nbconvert>=6.0 in c:\\users\\n2465\\anaconda3\\lib\\site-packages (from jupyter_contrib_nbextensions) (6.5.4)\n",
      "Requirement already satisfied: lxml in c:\\users\\n2465\\anaconda3\\lib\\site-packages (from jupyter_contrib_nbextensions) (4.9.3)\n",
      "Requirement already satisfied: setuptools in c:\\users\\n2465\\anaconda3\\lib\\site-packages (from jupyter-contrib-core>=0.3.3->jupyter_nbextensions_configurator) (68.0.0)\n",
      "Requirement already satisfied: beautifulsoup4 in c:\\users\\n2465\\anaconda3\\lib\\site-packages (from nbconvert>=6.0->jupyter_contrib_nbextensions) (4.12.2)\n",
      "Requirement already satisfied: bleach in c:\\users\\n2465\\anaconda3\\lib\\site-packages (from nbconvert>=6.0->jupyter_contrib_nbextensions) (4.1.0)\n",
      "Requirement already satisfied: defusedxml in c:\\users\\n2465\\anaconda3\\lib\\site-packages (from nbconvert>=6.0->jupyter_contrib_nbextensions) (0.7.1)\n",
      "Requirement already satisfied: entrypoints>=0.2.2 in c:\\users\\n2465\\anaconda3\\lib\\site-packages (from nbconvert>=6.0->jupyter_contrib_nbextensions) (0.4)\n",
      "Requirement already satisfied: jinja2>=3.0 in c:\\users\\n2465\\anaconda3\\lib\\site-packages (from nbconvert>=6.0->jupyter_contrib_nbextensions) (3.1.2)\n",
      "Requirement already satisfied: jupyterlab-pygments in c:\\users\\n2465\\anaconda3\\lib\\site-packages (from nbconvert>=6.0->jupyter_contrib_nbextensions) (0.1.2)\n",
      "Requirement already satisfied: MarkupSafe>=2.0 in c:\\users\\n2465\\anaconda3\\lib\\site-packages (from nbconvert>=6.0->jupyter_contrib_nbextensions) (2.1.1)\n",
      "Requirement already satisfied: mistune<2,>=0.8.1 in c:\\users\\n2465\\anaconda3\\lib\\site-packages (from nbconvert>=6.0->jupyter_contrib_nbextensions) (0.8.4)\n",
      "Requirement already satisfied: nbclient>=0.5.0 in c:\\users\\n2465\\anaconda3\\lib\\site-packages (from nbconvert>=6.0->jupyter_contrib_nbextensions) (0.5.13)\n",
      "Requirement already satisfied: nbformat>=5.1 in c:\\users\\n2465\\anaconda3\\lib\\site-packages (from nbconvert>=6.0->jupyter_contrib_nbextensions) (5.9.2)\n",
      "Requirement already satisfied: packaging in c:\\users\\n2465\\anaconda3\\lib\\site-packages (from nbconvert>=6.0->jupyter_contrib_nbextensions) (23.1)\n",
      "Requirement already satisfied: pandocfilters>=1.4.1 in c:\\users\\n2465\\anaconda3\\lib\\site-packages (from nbconvert>=6.0->jupyter_contrib_nbextensions) (1.5.0)\n",
      "Requirement already satisfied: pygments>=2.4.1 in c:\\users\\n2465\\anaconda3\\lib\\site-packages (from nbconvert>=6.0->jupyter_contrib_nbextensions) (2.15.1)\n",
      "Requirement already satisfied: tinycss2 in c:\\users\\n2465\\anaconda3\\lib\\site-packages (from nbconvert>=6.0->jupyter_contrib_nbextensions) (1.2.1)\n",
      "Requirement already satisfied: platformdirs>=2.5 in c:\\users\\n2465\\anaconda3\\lib\\site-packages (from jupyter-core->jupyter_nbextensions_configurator) (3.10.0)\n",
      "Requirement already satisfied: pywin32>=300 in c:\\users\\n2465\\anaconda3\\lib\\site-packages (from jupyter-core->jupyter_nbextensions_configurator) (305.1)\n",
      "Requirement already satisfied: pyzmq>=17 in c:\\users\\n2465\\anaconda3\\lib\\site-packages (from notebook>=6.0->jupyter_nbextensions_configurator) (23.2.0)\n",
      "Requirement already satisfied: argon2-cffi in c:\\users\\n2465\\anaconda3\\lib\\site-packages (from notebook>=6.0->jupyter_nbextensions_configurator) (21.3.0)\n",
      "Requirement already satisfied: jupyter-client>=5.3.4 in c:\\users\\n2465\\anaconda3\\lib\\site-packages (from notebook>=6.0->jupyter_nbextensions_configurator) (7.4.9)\n",
      "Requirement already satisfied: nest-asyncio>=1.5 in c:\\users\\n2465\\anaconda3\\lib\\site-packages (from notebook>=6.0->jupyter_nbextensions_configurator) (1.5.6)\n",
      "Requirement already satisfied: ipykernel in c:\\users\\n2465\\anaconda3\\lib\\site-packages (from notebook>=6.0->jupyter_nbextensions_configurator) (6.25.0)\n",
      "Requirement already satisfied: Send2Trash>=1.8.0 in c:\\users\\n2465\\anaconda3\\lib\\site-packages (from notebook>=6.0->jupyter_nbextensions_configurator) (1.8.0)\n",
      "Requirement already satisfied: terminado>=0.8.3 in c:\\users\\n2465\\anaconda3\\lib\\site-packages (from notebook>=6.0->jupyter_nbextensions_configurator) (0.17.1)\n",
      "Requirement already satisfied: prometheus-client in c:\\users\\n2465\\anaconda3\\lib\\site-packages (from notebook>=6.0->jupyter_nbextensions_configurator) (0.14.1)\n",
      "Requirement already satisfied: nbclassic>=0.4.7 in c:\\users\\n2465\\anaconda3\\lib\\site-packages (from notebook>=6.0->jupyter_nbextensions_configurator) (0.5.5)\n",
      "Requirement already satisfied: python-dateutil>=2.8.2 in c:\\users\\n2465\\anaconda3\\lib\\site-packages (from jupyter-client>=5.3.4->notebook>=6.0->jupyter_nbextensions_configurator) (2.8.2)\n",
      "Requirement already satisfied: jupyter-server>=1.8 in c:\\users\\n2465\\anaconda3\\lib\\site-packages (from nbclassic>=0.4.7->notebook>=6.0->jupyter_nbextensions_configurator) (1.23.4)\n",
      "Requirement already satisfied: notebook-shim>=0.1.0 in c:\\users\\n2465\\anaconda3\\lib\\site-packages (from nbclassic>=0.4.7->notebook>=6.0->jupyter_nbextensions_configurator) (0.2.2)\n",
      "Requirement already satisfied: fastjsonschema in c:\\users\\n2465\\anaconda3\\lib\\site-packages (from nbformat>=5.1->nbconvert>=6.0->jupyter_contrib_nbextensions) (2.16.2)\n",
      "Requirement already satisfied: jsonschema>=2.6 in c:\\users\\n2465\\anaconda3\\lib\\site-packages (from nbformat>=5.1->nbconvert>=6.0->jupyter_contrib_nbextensions) (4.17.3)\n",
      "Requirement already satisfied: pywinpty>=1.1.0 in c:\\users\\n2465\\anaconda3\\lib\\site-packages (from terminado>=0.8.3->notebook>=6.0->jupyter_nbextensions_configurator) (2.0.10)\n",
      "Requirement already satisfied: argon2-cffi-bindings in c:\\users\\n2465\\anaconda3\\lib\\site-packages (from argon2-cffi->notebook>=6.0->jupyter_nbextensions_configurator) (21.2.0)\n",
      "Requirement already satisfied: soupsieve>1.2 in c:\\users\\n2465\\anaconda3\\lib\\site-packages (from beautifulsoup4->nbconvert>=6.0->jupyter_contrib_nbextensions) (2.4)\n",
      "Requirement already satisfied: six>=1.9.0 in c:\\users\\n2465\\anaconda3\\lib\\site-packages (from bleach->nbconvert>=6.0->jupyter_contrib_nbextensions) (1.16.0)\n",
      "Requirement already satisfied: webencodings in c:\\users\\n2465\\anaconda3\\lib\\site-packages (from bleach->nbconvert>=6.0->jupyter_contrib_nbextensions) (0.5.1)\n",
      "Requirement already satisfied: comm>=0.1.1 in c:\\users\\n2465\\anaconda3\\lib\\site-packages (from ipykernel->notebook>=6.0->jupyter_nbextensions_configurator) (0.1.2)\n",
      "Requirement already satisfied: debugpy>=1.6.5 in c:\\users\\n2465\\anaconda3\\lib\\site-packages (from ipykernel->notebook>=6.0->jupyter_nbextensions_configurator) (1.6.7)\n",
      "Requirement already satisfied: ipython>=7.23.1 in c:\\users\\n2465\\anaconda3\\lib\\site-packages (from ipykernel->notebook>=6.0->jupyter_nbextensions_configurator) (8.15.0)\n",
      "Requirement already satisfied: matplotlib-inline>=0.1 in c:\\users\\n2465\\anaconda3\\lib\\site-packages (from ipykernel->notebook>=6.0->jupyter_nbextensions_configurator) (0.1.6)\n",
      "Requirement already satisfied: psutil in c:\\users\\n2465\\anaconda3\\lib\\site-packages (from ipykernel->notebook>=6.0->jupyter_nbextensions_configurator) (5.9.0)\n",
      "Requirement already satisfied: backcall in c:\\users\\n2465\\anaconda3\\lib\\site-packages (from ipython>=7.23.1->ipykernel->notebook>=6.0->jupyter_nbextensions_configurator) (0.2.0)\n",
      "Requirement already satisfied: decorator in c:\\users\\n2465\\anaconda3\\lib\\site-packages (from ipython>=7.23.1->ipykernel->notebook>=6.0->jupyter_nbextensions_configurator) (5.1.1)\n",
      "Requirement already satisfied: jedi>=0.16 in c:\\users\\n2465\\anaconda3\\lib\\site-packages (from ipython>=7.23.1->ipykernel->notebook>=6.0->jupyter_nbextensions_configurator) (0.18.1)\n",
      "Requirement already satisfied: pickleshare in c:\\users\\n2465\\anaconda3\\lib\\site-packages (from ipython>=7.23.1->ipykernel->notebook>=6.0->jupyter_nbextensions_configurator) (0.7.5)\n",
      "Requirement already satisfied: prompt-toolkit!=3.0.37,<3.1.0,>=3.0.30 in c:\\users\\n2465\\anaconda3\\lib\\site-packages (from ipython>=7.23.1->ipykernel->notebook>=6.0->jupyter_nbextensions_configurator) (3.0.36)\n",
      "Requirement already satisfied: stack-data in c:\\users\\n2465\\anaconda3\\lib\\site-packages (from ipython>=7.23.1->ipykernel->notebook>=6.0->jupyter_nbextensions_configurator) (0.2.0)\n",
      "Requirement already satisfied: colorama in c:\\users\\n2465\\anaconda3\\lib\\site-packages (from ipython>=7.23.1->ipykernel->notebook>=6.0->jupyter_nbextensions_configurator) (0.4.6)\n",
      "Requirement already satisfied: attrs>=17.4.0 in c:\\users\\n2465\\anaconda3\\lib\\site-packages (from jsonschema>=2.6->nbformat>=5.1->nbconvert>=6.0->jupyter_contrib_nbextensions) (22.1.0)\n",
      "Requirement already satisfied: pyrsistent!=0.17.0,!=0.17.1,!=0.17.2,>=0.14.0 in c:\\users\\n2465\\anaconda3\\lib\\site-packages (from jsonschema>=2.6->nbformat>=5.1->nbconvert>=6.0->jupyter_contrib_nbextensions) (0.18.0)\n",
      "Requirement already satisfied: anyio<4,>=3.1.0 in c:\\users\\n2465\\anaconda3\\lib\\site-packages (from jupyter-server>=1.8->nbclassic>=0.4.7->notebook>=6.0->jupyter_nbextensions_configurator) (3.5.0)\n",
      "Requirement already satisfied: websocket-client in c:\\users\\n2465\\anaconda3\\lib\\site-packages (from jupyter-server>=1.8->nbclassic>=0.4.7->notebook>=6.0->jupyter_nbextensions_configurator) (0.58.0)\n",
      "Requirement already satisfied: cffi>=1.0.1 in c:\\users\\n2465\\anaconda3\\lib\\site-packages (from argon2-cffi-bindings->argon2-cffi->notebook>=6.0->jupyter_nbextensions_configurator) (1.15.1)\n",
      "Requirement already satisfied: idna>=2.8 in c:\\users\\n2465\\anaconda3\\lib\\site-packages (from anyio<4,>=3.1.0->jupyter-server>=1.8->nbclassic>=0.4.7->notebook>=6.0->jupyter_nbextensions_configurator) (3.4)\n",
      "Requirement already satisfied: sniffio>=1.1 in c:\\users\\n2465\\anaconda3\\lib\\site-packages (from anyio<4,>=3.1.0->jupyter-server>=1.8->nbclassic>=0.4.7->notebook>=6.0->jupyter_nbextensions_configurator) (1.2.0)\n",
      "Requirement already satisfied: pycparser in c:\\users\\n2465\\anaconda3\\lib\\site-packages (from cffi>=1.0.1->argon2-cffi-bindings->argon2-cffi->notebook>=6.0->jupyter_nbextensions_configurator) (2.21)\n",
      "Requirement already satisfied: parso<0.9.0,>=0.8.0 in c:\\users\\n2465\\anaconda3\\lib\\site-packages (from jedi>=0.16->ipython>=7.23.1->ipykernel->notebook>=6.0->jupyter_nbextensions_configurator) (0.8.3)\n",
      "Requirement already satisfied: wcwidth in c:\\users\\n2465\\anaconda3\\lib\\site-packages (from prompt-toolkit!=3.0.37,<3.1.0,>=3.0.30->ipython>=7.23.1->ipykernel->notebook>=6.0->jupyter_nbextensions_configurator) (0.2.5)\n",
      "Requirement already satisfied: executing in c:\\users\\n2465\\anaconda3\\lib\\site-packages (from stack-data->ipython>=7.23.1->ipykernel->notebook>=6.0->jupyter_nbextensions_configurator) (0.8.3)\n",
      "Requirement already satisfied: asttokens in c:\\users\\n2465\\anaconda3\\lib\\site-packages (from stack-data->ipython>=7.23.1->ipykernel->notebook>=6.0->jupyter_nbextensions_configurator) (2.0.5)\n",
      "Requirement already satisfied: pure-eval in c:\\users\\n2465\\anaconda3\\lib\\site-packages (from stack-data->ipython>=7.23.1->ipykernel->notebook>=6.0->jupyter_nbextensions_configurator) (0.2.2)\n"
     ]
    },
    {
     "name": "stderr",
     "output_type": "stream",
     "text": [
      "[I 00:11:37 InstallContribNbextensionsApp] jupyter contrib nbextension install --user\n",
      "[I 00:11:37 InstallContribNbextensionsApp] Installing jupyter_contrib_nbextensions nbextension files to jupyter data directory\n",
      "[I 00:11:37 InstallContribNbextensionsApp] Installing C:\\Users\\n2465\\anaconda3\\Lib\\site-packages\\jupyter_contrib_nbextensions\\nbextensions\\addbefore -> addbefore\n",
      "[I 00:11:37 InstallContribNbextensionsApp] Up to date: C:\\Users\\n2465\\AppData\\Roaming\\jupyter\\nbextensions\\addbefore\\addbefore.yaml\n",
      "[I 00:11:37 InstallContribNbextensionsApp] Up to date: C:\\Users\\n2465\\AppData\\Roaming\\jupyter\\nbextensions\\addbefore\\icon.png\n",
      "[I 00:11:37 InstallContribNbextensionsApp] Up to date: C:\\Users\\n2465\\AppData\\Roaming\\jupyter\\nbextensions\\addbefore\\main.js\n",
      "[I 00:11:37 InstallContribNbextensionsApp] Up to date: C:\\Users\\n2465\\AppData\\Roaming\\jupyter\\nbextensions\\addbefore\\readme.md\n",
      "[I 00:11:37 InstallContribNbextensionsApp] - Validating: ok\n",
      "[I 00:11:37 InstallContribNbextensionsApp] Installing C:\\Users\\n2465\\anaconda3\\Lib\\site-packages\\jupyter_contrib_nbextensions\\nbextensions\\autosavetime -> autosavetime\n",
      "[I 00:11:37 InstallContribNbextensionsApp] Up to date: C:\\Users\\n2465\\AppData\\Roaming\\jupyter\\nbextensions\\autosavetime\\autosavetime.yaml\n",
      "[I 00:11:37 InstallContribNbextensionsApp] Up to date: C:\\Users\\n2465\\AppData\\Roaming\\jupyter\\nbextensions\\autosavetime\\icon.png\n",
      "[I 00:11:37 InstallContribNbextensionsApp] Up to date: C:\\Users\\n2465\\AppData\\Roaming\\jupyter\\nbextensions\\autosavetime\\main.js\n",
      "[I 00:11:37 InstallContribNbextensionsApp] Up to date: C:\\Users\\n2465\\AppData\\Roaming\\jupyter\\nbextensions\\autosavetime\\README.md\n",
      "[I 00:11:37 InstallContribNbextensionsApp] - Validating: ok\n",
      "[I 00:11:37 InstallContribNbextensionsApp] Installing C:\\Users\\n2465\\anaconda3\\Lib\\site-packages\\jupyter_contrib_nbextensions\\nbextensions\\autoscroll -> autoscroll\n",
      "[I 00:11:37 InstallContribNbextensionsApp] Up to date: C:\\Users\\n2465\\AppData\\Roaming\\jupyter\\nbextensions\\autoscroll\\autoscroll.yaml\n",
      "[I 00:11:37 InstallContribNbextensionsApp] Up to date: C:\\Users\\n2465\\AppData\\Roaming\\jupyter\\nbextensions\\autoscroll\\icon.png\n",
      "[I 00:11:37 InstallContribNbextensionsApp] Up to date: C:\\Users\\n2465\\AppData\\Roaming\\jupyter\\nbextensions\\autoscroll\\main.js\n",
      "[I 00:11:37 InstallContribNbextensionsApp] Up to date: C:\\Users\\n2465\\AppData\\Roaming\\jupyter\\nbextensions\\autoscroll\\README.md\n",
      "[I 00:11:37 InstallContribNbextensionsApp] - Validating: ok\n",
      "[I 00:11:37 InstallContribNbextensionsApp] Installing C:\\Users\\n2465\\anaconda3\\Lib\\site-packages\\jupyter_contrib_nbextensions\\nbextensions\\cell_filter -> cell_filter\n",
      "[I 00:11:37 InstallContribNbextensionsApp] Up to date: C:\\Users\\n2465\\AppData\\Roaming\\jupyter\\nbextensions\\cell_filter\\cell_filter.js\n",
      "[I 00:11:37 InstallContribNbextensionsApp] Up to date: C:\\Users\\n2465\\AppData\\Roaming\\jupyter\\nbextensions\\cell_filter\\cell_filter.yml\n",
      "[I 00:11:37 InstallContribNbextensionsApp] Up to date: C:\\Users\\n2465\\AppData\\Roaming\\jupyter\\nbextensions\\cell_filter\\README.md\n",
      "[I 00:11:37 InstallContribNbextensionsApp] - Validating: ok\n",
      "[I 00:11:37 InstallContribNbextensionsApp] Installing C:\\Users\\n2465\\anaconda3\\Lib\\site-packages\\jupyter_contrib_nbextensions\\nbextensions\\codefolding -> codefolding\n",
      "[I 00:11:37 InstallContribNbextensionsApp] Up to date: C:\\Users\\n2465\\AppData\\Roaming\\jupyter\\nbextensions\\codefolding\\blockcomment-fold.js\n",
      "[I 00:11:37 InstallContribNbextensionsApp] Up to date: C:\\Users\\n2465\\AppData\\Roaming\\jupyter\\nbextensions\\codefolding\\codefolding.yaml\n",
      "[I 00:11:37 InstallContribNbextensionsApp] Up to date: C:\\Users\\n2465\\AppData\\Roaming\\jupyter\\nbextensions\\codefolding\\codefolding_editor.png\n",
      "[I 00:11:37 InstallContribNbextensionsApp] Up to date: C:\\Users\\n2465\\AppData\\Roaming\\jupyter\\nbextensions\\codefolding\\codefolding_editor.yaml\n",
      "[I 00:11:37 InstallContribNbextensionsApp] Up to date: C:\\Users\\n2465\\AppData\\Roaming\\jupyter\\nbextensions\\codefolding\\codefolding_firstline_folded.png\n",
      "[I 00:11:37 InstallContribNbextensionsApp] Up to date: C:\\Users\\n2465\\AppData\\Roaming\\jupyter\\nbextensions\\codefolding\\codefolding_firstline_unfolded.png\n",
      "[I 00:11:37 InstallContribNbextensionsApp] Up to date: C:\\Users\\n2465\\AppData\\Roaming\\jupyter\\nbextensions\\codefolding\\codefolding_indent_folded_1.png\n",
      "[I 00:11:37 InstallContribNbextensionsApp] Up to date: C:\\Users\\n2465\\AppData\\Roaming\\jupyter\\nbextensions\\codefolding\\codefolding_indent_folded_2.png\n",
      "[I 00:11:37 InstallContribNbextensionsApp] Up to date: C:\\Users\\n2465\\AppData\\Roaming\\jupyter\\nbextensions\\codefolding\\codefolding_indent_unfolded.png\n",
      "[I 00:11:37 InstallContribNbextensionsApp] Up to date: C:\\Users\\n2465\\AppData\\Roaming\\jupyter\\nbextensions\\codefolding\\edit.js\n",
      "[I 00:11:37 InstallContribNbextensionsApp] Up to date: C:\\Users\\n2465\\AppData\\Roaming\\jupyter\\nbextensions\\codefolding\\firstline-fold.js\n",
      "[I 00:11:37 InstallContribNbextensionsApp] Up to date: C:\\Users\\n2465\\AppData\\Roaming\\jupyter\\nbextensions\\codefolding\\foldgutter.css\n",
      "[I 00:11:37 InstallContribNbextensionsApp] Up to date: C:\\Users\\n2465\\AppData\\Roaming\\jupyter\\nbextensions\\codefolding\\icon.png\n",
      "[I 00:11:37 InstallContribNbextensionsApp] Up to date: C:\\Users\\n2465\\AppData\\Roaming\\jupyter\\nbextensions\\codefolding\\magic-fold.js\n",
      "[I 00:11:37 InstallContribNbextensionsApp] Up to date: C:\\Users\\n2465\\AppData\\Roaming\\jupyter\\nbextensions\\codefolding\\magic-folded.png\n",
      "[I 00:11:37 InstallContribNbextensionsApp] Up to date: C:\\Users\\n2465\\AppData\\Roaming\\jupyter\\nbextensions\\codefolding\\magic-unfolded.png\n",
      "[I 00:11:37 InstallContribNbextensionsApp] Up to date: C:\\Users\\n2465\\AppData\\Roaming\\jupyter\\nbextensions\\codefolding\\main.js\n",
      "[I 00:11:37 InstallContribNbextensionsApp] Up to date: C:\\Users\\n2465\\AppData\\Roaming\\jupyter\\nbextensions\\codefolding\\readme.md\n",
      "[I 00:11:37 InstallContribNbextensionsApp] - Validating: ok\n",
      "[I 00:11:37 InstallContribNbextensionsApp] Installing C:\\Users\\n2465\\anaconda3\\Lib\\site-packages\\jupyter_contrib_nbextensions\\nbextensions\\codefolding -> codefolding\n",
      "[I 00:11:37 InstallContribNbextensionsApp] Up to date: C:\\Users\\n2465\\AppData\\Roaming\\jupyter\\nbextensions\\codefolding\\blockcomment-fold.js\n",
      "[I 00:11:37 InstallContribNbextensionsApp] Up to date: C:\\Users\\n2465\\AppData\\Roaming\\jupyter\\nbextensions\\codefolding\\codefolding.yaml\n",
      "[I 00:11:37 InstallContribNbextensionsApp] Up to date: C:\\Users\\n2465\\AppData\\Roaming\\jupyter\\nbextensions\\codefolding\\codefolding_editor.png\n",
      "[I 00:11:37 InstallContribNbextensionsApp] Up to date: C:\\Users\\n2465\\AppData\\Roaming\\jupyter\\nbextensions\\codefolding\\codefolding_editor.yaml\n",
      "[I 00:11:37 InstallContribNbextensionsApp] Up to date: C:\\Users\\n2465\\AppData\\Roaming\\jupyter\\nbextensions\\codefolding\\codefolding_firstline_folded.png\n",
      "[I 00:11:37 InstallContribNbextensionsApp] Up to date: C:\\Users\\n2465\\AppData\\Roaming\\jupyter\\nbextensions\\codefolding\\codefolding_firstline_unfolded.png\n",
      "[I 00:11:37 InstallContribNbextensionsApp] Up to date: C:\\Users\\n2465\\AppData\\Roaming\\jupyter\\nbextensions\\codefolding\\codefolding_indent_folded_1.png\n",
      "[I 00:11:37 InstallContribNbextensionsApp] Up to date: C:\\Users\\n2465\\AppData\\Roaming\\jupyter\\nbextensions\\codefolding\\codefolding_indent_folded_2.png\n",
      "[I 00:11:37 InstallContribNbextensionsApp] Up to date: C:\\Users\\n2465\\AppData\\Roaming\\jupyter\\nbextensions\\codefolding\\codefolding_indent_unfolded.png\n",
      "[I 00:11:37 InstallContribNbextensionsApp] Up to date: C:\\Users\\n2465\\AppData\\Roaming\\jupyter\\nbextensions\\codefolding\\edit.js\n",
      "[I 00:11:37 InstallContribNbextensionsApp] Up to date: C:\\Users\\n2465\\AppData\\Roaming\\jupyter\\nbextensions\\codefolding\\firstline-fold.js\n",
      "[I 00:11:37 InstallContribNbextensionsApp] Up to date: C:\\Users\\n2465\\AppData\\Roaming\\jupyter\\nbextensions\\codefolding\\foldgutter.css\n",
      "[I 00:11:37 InstallContribNbextensionsApp] Up to date: C:\\Users\\n2465\\AppData\\Roaming\\jupyter\\nbextensions\\codefolding\\icon.png\n",
      "[I 00:11:37 InstallContribNbextensionsApp] Up to date: C:\\Users\\n2465\\AppData\\Roaming\\jupyter\\nbextensions\\codefolding\\magic-fold.js\n",
      "[I 00:11:37 InstallContribNbextensionsApp] Up to date: C:\\Users\\n2465\\AppData\\Roaming\\jupyter\\nbextensions\\codefolding\\magic-folded.png\n",
      "[I 00:11:37 InstallContribNbextensionsApp] Up to date: C:\\Users\\n2465\\AppData\\Roaming\\jupyter\\nbextensions\\codefolding\\magic-unfolded.png\n",
      "[I 00:11:37 InstallContribNbextensionsApp] Up to date: C:\\Users\\n2465\\AppData\\Roaming\\jupyter\\nbextensions\\codefolding\\main.js\n",
      "[I 00:11:37 InstallContribNbextensionsApp] Up to date: C:\\Users\\n2465\\AppData\\Roaming\\jupyter\\nbextensions\\codefolding\\readme.md\n",
      "[I 00:11:37 InstallContribNbextensionsApp] - Validating: ok\n",
      "[I 00:11:37 InstallContribNbextensionsApp] Installing C:\\Users\\n2465\\anaconda3\\Lib\\site-packages\\jupyter_contrib_nbextensions\\nbextensions\\codemirror_mode_extensions -> codemirror_mode_extensions\n",
      "[I 00:11:37 InstallContribNbextensionsApp] Up to date: C:\\Users\\n2465\\AppData\\Roaming\\jupyter\\nbextensions\\codemirror_mode_extensions\\codemirror_mode_extensions.yaml\n",
      "[I 00:11:37 InstallContribNbextensionsApp] Up to date: C:\\Users\\n2465\\AppData\\Roaming\\jupyter\\nbextensions\\codemirror_mode_extensions\\main.js\n",
      "[I 00:11:37 InstallContribNbextensionsApp] - Validating: ok\n",
      "[I 00:11:37 InstallContribNbextensionsApp] Installing C:\\Users\\n2465\\anaconda3\\Lib\\site-packages\\jupyter_contrib_nbextensions\\nbextensions\\code_font_size -> code_font_size\n",
      "[I 00:11:37 InstallContribNbextensionsApp] Up to date: C:\\Users\\n2465\\AppData\\Roaming\\jupyter\\nbextensions\\code_font_size\\code_font_size.js\n",
      "[I 00:11:37 InstallContribNbextensionsApp] Up to date: C:\\Users\\n2465\\AppData\\Roaming\\jupyter\\nbextensions\\code_font_size\\code_font_size.yaml\n",
      "[I 00:11:37 InstallContribNbextensionsApp] Up to date: C:\\Users\\n2465\\AppData\\Roaming\\jupyter\\nbextensions\\code_font_size\\README.md\n",
      "[I 00:11:37 InstallContribNbextensionsApp] - Validating: ok\n",
      "[I 00:11:37 InstallContribNbextensionsApp] Installing C:\\Users\\n2465\\anaconda3\\Lib\\site-packages\\jupyter_contrib_nbextensions\\nbextensions\\code_prettify -> code_prettify\n",
      "[I 00:11:37 InstallContribNbextensionsApp] Up to date: C:\\Users\\n2465\\AppData\\Roaming\\jupyter\\nbextensions\\code_prettify\\2to3.js\n",
      "[I 00:11:37 InstallContribNbextensionsApp] Up to date: C:\\Users\\n2465\\AppData\\Roaming\\jupyter\\nbextensions\\code_prettify\\2to3.yaml\n",
      "[I 00:11:37 InstallContribNbextensionsApp] Up to date: C:\\Users\\n2465\\AppData\\Roaming\\jupyter\\nbextensions\\code_prettify\\autopep8.js\n",
      "[I 00:11:37 InstallContribNbextensionsApp] Up to date: C:\\Users\\n2465\\AppData\\Roaming\\jupyter\\nbextensions\\code_prettify\\autopep8.yaml\n",
      "[I 00:11:37 InstallContribNbextensionsApp] Up to date: C:\\Users\\n2465\\AppData\\Roaming\\jupyter\\nbextensions\\code_prettify\\code_prettify.js\n",
      "[I 00:11:37 InstallContribNbextensionsApp] Up to date: C:\\Users\\n2465\\AppData\\Roaming\\jupyter\\nbextensions\\code_prettify\\code_prettify.yaml\n",
      "[I 00:11:37 InstallContribNbextensionsApp] Up to date: C:\\Users\\n2465\\AppData\\Roaming\\jupyter\\nbextensions\\code_prettify\\demo-jv.gif\n",
      "[I 00:11:37 InstallContribNbextensionsApp] Up to date: C:\\Users\\n2465\\AppData\\Roaming\\jupyter\\nbextensions\\code_prettify\\demo-py.gif\n",
      "[I 00:11:37 InstallContribNbextensionsApp] Up to date: C:\\Users\\n2465\\AppData\\Roaming\\jupyter\\nbextensions\\code_prettify\\demo-R.gif\n",
      "[I 00:11:37 InstallContribNbextensionsApp] Up to date: C:\\Users\\n2465\\AppData\\Roaming\\jupyter\\nbextensions\\code_prettify\\demo_2to3.gif\n",
      "[I 00:11:37 InstallContribNbextensionsApp] Up to date: C:\\Users\\n2465\\AppData\\Roaming\\jupyter\\nbextensions\\code_prettify\\isort.js\n",
      "[I 00:11:37 InstallContribNbextensionsApp] Up to date: C:\\Users\\n2465\\AppData\\Roaming\\jupyter\\nbextensions\\code_prettify\\isort.yaml\n",
      "[I 00:11:37 InstallContribNbextensionsApp] Up to date: C:\\Users\\n2465\\AppData\\Roaming\\jupyter\\nbextensions\\code_prettify\\kernel_exec_on_cell.js\n",
      "[I 00:11:37 InstallContribNbextensionsApp] Up to date: C:\\Users\\n2465\\AppData\\Roaming\\jupyter\\nbextensions\\code_prettify\\README.md\n",
      "[I 00:11:37 InstallContribNbextensionsApp] Up to date: C:\\Users\\n2465\\AppData\\Roaming\\jupyter\\nbextensions\\code_prettify\\README_2to3.md\n",
      "[I 00:11:37 InstallContribNbextensionsApp] Up to date: C:\\Users\\n2465\\AppData\\Roaming\\jupyter\\nbextensions\\code_prettify\\README_autopep8.md\n",
      "[I 00:11:37 InstallContribNbextensionsApp] Up to date: C:\\Users\\n2465\\AppData\\Roaming\\jupyter\\nbextensions\\code_prettify\\README_code_prettify.md\n",
      "[I 00:11:37 InstallContribNbextensionsApp] Up to date: C:\\Users\\n2465\\AppData\\Roaming\\jupyter\\nbextensions\\code_prettify\\README_isort.md\n",
      "[I 00:11:37 InstallContribNbextensionsApp] - Validating: ok\n",
      "[I 00:11:37 InstallContribNbextensionsApp] Installing C:\\Users\\n2465\\anaconda3\\Lib\\site-packages\\jupyter_contrib_nbextensions\\nbextensions\\code_prettify -> code_prettify\n",
      "[I 00:11:37 InstallContribNbextensionsApp] Up to date: C:\\Users\\n2465\\AppData\\Roaming\\jupyter\\nbextensions\\code_prettify\\2to3.js\n",
      "[I 00:11:37 InstallContribNbextensionsApp] Up to date: C:\\Users\\n2465\\AppData\\Roaming\\jupyter\\nbextensions\\code_prettify\\2to3.yaml\n",
      "[I 00:11:37 InstallContribNbextensionsApp] Up to date: C:\\Users\\n2465\\AppData\\Roaming\\jupyter\\nbextensions\\code_prettify\\autopep8.js\n",
      "[I 00:11:37 InstallContribNbextensionsApp] Up to date: C:\\Users\\n2465\\AppData\\Roaming\\jupyter\\nbextensions\\code_prettify\\autopep8.yaml\n",
      "[I 00:11:37 InstallContribNbextensionsApp] Up to date: C:\\Users\\n2465\\AppData\\Roaming\\jupyter\\nbextensions\\code_prettify\\code_prettify.js\n",
      "[I 00:11:37 InstallContribNbextensionsApp] Up to date: C:\\Users\\n2465\\AppData\\Roaming\\jupyter\\nbextensions\\code_prettify\\code_prettify.yaml\n",
      "[I 00:11:37 InstallContribNbextensionsApp] Up to date: C:\\Users\\n2465\\AppData\\Roaming\\jupyter\\nbextensions\\code_prettify\\demo-jv.gif\n",
      "[I 00:11:37 InstallContribNbextensionsApp] Up to date: C:\\Users\\n2465\\AppData\\Roaming\\jupyter\\nbextensions\\code_prettify\\demo-py.gif\n",
      "[I 00:11:37 InstallContribNbextensionsApp] Up to date: C:\\Users\\n2465\\AppData\\Roaming\\jupyter\\nbextensions\\code_prettify\\demo-R.gif\n",
      "[I 00:11:37 InstallContribNbextensionsApp] Up to date: C:\\Users\\n2465\\AppData\\Roaming\\jupyter\\nbextensions\\code_prettify\\demo_2to3.gif\n",
      "[I 00:11:37 InstallContribNbextensionsApp] Up to date: C:\\Users\\n2465\\AppData\\Roaming\\jupyter\\nbextensions\\code_prettify\\isort.js\n",
      "[I 00:11:37 InstallContribNbextensionsApp] Up to date: C:\\Users\\n2465\\AppData\\Roaming\\jupyter\\nbextensions\\code_prettify\\isort.yaml\n",
      "[I 00:11:37 InstallContribNbextensionsApp] Up to date: C:\\Users\\n2465\\AppData\\Roaming\\jupyter\\nbextensions\\code_prettify\\kernel_exec_on_cell.js\n",
      "[I 00:11:37 InstallContribNbextensionsApp] Up to date: C:\\Users\\n2465\\AppData\\Roaming\\jupyter\\nbextensions\\code_prettify\\README.md\n",
      "[I 00:11:37 InstallContribNbextensionsApp] Up to date: C:\\Users\\n2465\\AppData\\Roaming\\jupyter\\nbextensions\\code_prettify\\README_2to3.md\n",
      "[I 00:11:37 InstallContribNbextensionsApp] Up to date: C:\\Users\\n2465\\AppData\\Roaming\\jupyter\\nbextensions\\code_prettify\\README_autopep8.md\n",
      "[I 00:11:37 InstallContribNbextensionsApp] Up to date: C:\\Users\\n2465\\AppData\\Roaming\\jupyter\\nbextensions\\code_prettify\\README_code_prettify.md\n",
      "[I 00:11:37 InstallContribNbextensionsApp] Up to date: C:\\Users\\n2465\\AppData\\Roaming\\jupyter\\nbextensions\\code_prettify\\README_isort.md\n",
      "[I 00:11:37 InstallContribNbextensionsApp] - Validating: ok\n",
      "[I 00:11:37 InstallContribNbextensionsApp] Installing C:\\Users\\n2465\\anaconda3\\Lib\\site-packages\\jupyter_contrib_nbextensions\\nbextensions\\code_prettify -> code_prettify\n",
      "[I 00:11:37 InstallContribNbextensionsApp] Up to date: C:\\Users\\n2465\\AppData\\Roaming\\jupyter\\nbextensions\\code_prettify\\2to3.js\n",
      "[I 00:11:37 InstallContribNbextensionsApp] Up to date: C:\\Users\\n2465\\AppData\\Roaming\\jupyter\\nbextensions\\code_prettify\\2to3.yaml\n",
      "[I 00:11:37 InstallContribNbextensionsApp] Up to date: C:\\Users\\n2465\\AppData\\Roaming\\jupyter\\nbextensions\\code_prettify\\autopep8.js\n",
      "[I 00:11:37 InstallContribNbextensionsApp] Up to date: C:\\Users\\n2465\\AppData\\Roaming\\jupyter\\nbextensions\\code_prettify\\autopep8.yaml\n",
      "[I 00:11:37 InstallContribNbextensionsApp] Up to date: C:\\Users\\n2465\\AppData\\Roaming\\jupyter\\nbextensions\\code_prettify\\code_prettify.js\n",
      "[I 00:11:37 InstallContribNbextensionsApp] Up to date: C:\\Users\\n2465\\AppData\\Roaming\\jupyter\\nbextensions\\code_prettify\\code_prettify.yaml\n",
      "[I 00:11:37 InstallContribNbextensionsApp] Up to date: C:\\Users\\n2465\\AppData\\Roaming\\jupyter\\nbextensions\\code_prettify\\demo-jv.gif\n",
      "[I 00:11:37 InstallContribNbextensionsApp] Up to date: C:\\Users\\n2465\\AppData\\Roaming\\jupyter\\nbextensions\\code_prettify\\demo-py.gif\n",
      "[I 00:11:37 InstallContribNbextensionsApp] Up to date: C:\\Users\\n2465\\AppData\\Roaming\\jupyter\\nbextensions\\code_prettify\\demo-R.gif\n",
      "[I 00:11:37 InstallContribNbextensionsApp] Up to date: C:\\Users\\n2465\\AppData\\Roaming\\jupyter\\nbextensions\\code_prettify\\demo_2to3.gif\n",
      "[I 00:11:37 InstallContribNbextensionsApp] Up to date: C:\\Users\\n2465\\AppData\\Roaming\\jupyter\\nbextensions\\code_prettify\\isort.js\n",
      "[I 00:11:37 InstallContribNbextensionsApp] Up to date: C:\\Users\\n2465\\AppData\\Roaming\\jupyter\\nbextensions\\code_prettify\\isort.yaml\n",
      "[I 00:11:37 InstallContribNbextensionsApp] Up to date: C:\\Users\\n2465\\AppData\\Roaming\\jupyter\\nbextensions\\code_prettify\\kernel_exec_on_cell.js\n",
      "[I 00:11:37 InstallContribNbextensionsApp] Up to date: C:\\Users\\n2465\\AppData\\Roaming\\jupyter\\nbextensions\\code_prettify\\README.md\n",
      "[I 00:11:37 InstallContribNbextensionsApp] Up to date: C:\\Users\\n2465\\AppData\\Roaming\\jupyter\\nbextensions\\code_prettify\\README_2to3.md\n",
      "[I 00:11:37 InstallContribNbextensionsApp] Up to date: C:\\Users\\n2465\\AppData\\Roaming\\jupyter\\nbextensions\\code_prettify\\README_autopep8.md\n",
      "[I 00:11:37 InstallContribNbextensionsApp] Up to date: C:\\Users\\n2465\\AppData\\Roaming\\jupyter\\nbextensions\\code_prettify\\README_code_prettify.md\n",
      "[I 00:11:37 InstallContribNbextensionsApp] Up to date: C:\\Users\\n2465\\AppData\\Roaming\\jupyter\\nbextensions\\code_prettify\\README_isort.md\n",
      "[I 00:11:37 InstallContribNbextensionsApp] - Validating: ok\n",
      "[I 00:11:37 InstallContribNbextensionsApp] Installing C:\\Users\\n2465\\anaconda3\\Lib\\site-packages\\jupyter_contrib_nbextensions\\nbextensions\\code_prettify -> code_prettify\n",
      "[I 00:11:37 InstallContribNbextensionsApp] Up to date: C:\\Users\\n2465\\AppData\\Roaming\\jupyter\\nbextensions\\code_prettify\\2to3.js\n",
      "[I 00:11:37 InstallContribNbextensionsApp] Up to date: C:\\Users\\n2465\\AppData\\Roaming\\jupyter\\nbextensions\\code_prettify\\2to3.yaml\n",
      "[I 00:11:37 InstallContribNbextensionsApp] Up to date: C:\\Users\\n2465\\AppData\\Roaming\\jupyter\\nbextensions\\code_prettify\\autopep8.js\n",
      "[I 00:11:37 InstallContribNbextensionsApp] Up to date: C:\\Users\\n2465\\AppData\\Roaming\\jupyter\\nbextensions\\code_prettify\\autopep8.yaml\n",
      "[I 00:11:37 InstallContribNbextensionsApp] Up to date: C:\\Users\\n2465\\AppData\\Roaming\\jupyter\\nbextensions\\code_prettify\\code_prettify.js\n",
      "[I 00:11:37 InstallContribNbextensionsApp] Up to date: C:\\Users\\n2465\\AppData\\Roaming\\jupyter\\nbextensions\\code_prettify\\code_prettify.yaml\n",
      "[I 00:11:37 InstallContribNbextensionsApp] Up to date: C:\\Users\\n2465\\AppData\\Roaming\\jupyter\\nbextensions\\code_prettify\\demo-jv.gif\n",
      "[I 00:11:37 InstallContribNbextensionsApp] Up to date: C:\\Users\\n2465\\AppData\\Roaming\\jupyter\\nbextensions\\code_prettify\\demo-py.gif\n",
      "[I 00:11:37 InstallContribNbextensionsApp] Up to date: C:\\Users\\n2465\\AppData\\Roaming\\jupyter\\nbextensions\\code_prettify\\demo-R.gif\n",
      "[I 00:11:37 InstallContribNbextensionsApp] Up to date: C:\\Users\\n2465\\AppData\\Roaming\\jupyter\\nbextensions\\code_prettify\\demo_2to3.gif\n",
      "[I 00:11:37 InstallContribNbextensionsApp] Up to date: C:\\Users\\n2465\\AppData\\Roaming\\jupyter\\nbextensions\\code_prettify\\isort.js\n",
      "[I 00:11:37 InstallContribNbextensionsApp] Up to date: C:\\Users\\n2465\\AppData\\Roaming\\jupyter\\nbextensions\\code_prettify\\isort.yaml\n",
      "[I 00:11:37 InstallContribNbextensionsApp] Up to date: C:\\Users\\n2465\\AppData\\Roaming\\jupyter\\nbextensions\\code_prettify\\kernel_exec_on_cell.js\n",
      "[I 00:11:37 InstallContribNbextensionsApp] Up to date: C:\\Users\\n2465\\AppData\\Roaming\\jupyter\\nbextensions\\code_prettify\\README.md\n",
      "[I 00:11:37 InstallContribNbextensionsApp] Up to date: C:\\Users\\n2465\\AppData\\Roaming\\jupyter\\nbextensions\\code_prettify\\README_2to3.md\n",
      "[I 00:11:37 InstallContribNbextensionsApp] Up to date: C:\\Users\\n2465\\AppData\\Roaming\\jupyter\\nbextensions\\code_prettify\\README_autopep8.md\n",
      "[I 00:11:37 InstallContribNbextensionsApp] Up to date: C:\\Users\\n2465\\AppData\\Roaming\\jupyter\\nbextensions\\code_prettify\\README_code_prettify.md\n",
      "[I 00:11:37 InstallContribNbextensionsApp] Up to date: C:\\Users\\n2465\\AppData\\Roaming\\jupyter\\nbextensions\\code_prettify\\README_isort.md\n",
      "[I 00:11:37 InstallContribNbextensionsApp] - Validating: ok\n",
      "[I 00:11:37 InstallContribNbextensionsApp] Installing C:\\Users\\n2465\\anaconda3\\Lib\\site-packages\\jupyter_contrib_nbextensions\\nbextensions\\collapsible_headings -> collapsible_headings\n",
      "[I 00:11:37 InstallContribNbextensionsApp] Up to date: C:\\Users\\n2465\\AppData\\Roaming\\jupyter\\nbextensions\\collapsible_headings\\collapsible_headings.yaml\n",
      "[I 00:11:37 InstallContribNbextensionsApp] Up to date: C:\\Users\\n2465\\AppData\\Roaming\\jupyter\\nbextensions\\collapsible_headings\\icon.png\n",
      "[I 00:11:37 InstallContribNbextensionsApp] Up to date: C:\\Users\\n2465\\AppData\\Roaming\\jupyter\\nbextensions\\collapsible_headings\\main.css\n",
      "[I 00:11:37 InstallContribNbextensionsApp] Up to date: C:\\Users\\n2465\\AppData\\Roaming\\jupyter\\nbextensions\\collapsible_headings\\main.js\n",
      "[I 00:11:37 InstallContribNbextensionsApp] Up to date: C:\\Users\\n2465\\AppData\\Roaming\\jupyter\\nbextensions\\collapsible_headings\\readme.md\n",
      "[I 00:11:37 InstallContribNbextensionsApp] Up to date: C:\\Users\\n2465\\AppData\\Roaming\\jupyter\\nbextensions\\collapsible_headings\\screenshot.png\n",
      "[I 00:11:37 InstallContribNbextensionsApp] - Validating: ok\n",
      "[I 00:11:37 InstallContribNbextensionsApp] Installing C:\\Users\\n2465\\anaconda3\\Lib\\site-packages\\jupyter_contrib_nbextensions\\nbextensions\\comment-uncomment -> comment-uncomment\n",
      "[I 00:11:37 InstallContribNbextensionsApp] Up to date: C:\\Users\\n2465\\AppData\\Roaming\\jupyter\\nbextensions\\comment-uncomment\\comment-uncomment.yaml\n",
      "[I 00:11:37 InstallContribNbextensionsApp] Up to date: C:\\Users\\n2465\\AppData\\Roaming\\jupyter\\nbextensions\\comment-uncomment\\icon.png\n",
      "[I 00:11:37 InstallContribNbextensionsApp] Up to date: C:\\Users\\n2465\\AppData\\Roaming\\jupyter\\nbextensions\\comment-uncomment\\main.js\n",
      "[I 00:11:37 InstallContribNbextensionsApp] Up to date: C:\\Users\\n2465\\AppData\\Roaming\\jupyter\\nbextensions\\comment-uncomment\\readme.md\n",
      "[I 00:11:37 InstallContribNbextensionsApp] - Validating: ok\n",
      "[I 00:11:37 InstallContribNbextensionsApp] Installing C:\\Users\\n2465\\anaconda3\\Lib\\site-packages\\jupyter_contrib_nbextensions\\nbextensions\\contrib_nbextensions_help_item -> contrib_nbextensions_help_item\n",
      "[I 00:11:37 InstallContribNbextensionsApp] Up to date: C:\\Users\\n2465\\AppData\\Roaming\\jupyter\\nbextensions\\contrib_nbextensions_help_item\\contrib_nbextensions_help_item.yaml\n",
      "[I 00:11:37 InstallContribNbextensionsApp] Up to date: C:\\Users\\n2465\\AppData\\Roaming\\jupyter\\nbextensions\\contrib_nbextensions_help_item\\main.js\n",
      "[I 00:11:37 InstallContribNbextensionsApp] Up to date: C:\\Users\\n2465\\AppData\\Roaming\\jupyter\\nbextensions\\contrib_nbextensions_help_item\\README.md\n",
      "[I 00:11:37 InstallContribNbextensionsApp] - Validating: ok\n",
      "[I 00:11:37 InstallContribNbextensionsApp] Installing C:\\Users\\n2465\\anaconda3\\Lib\\site-packages\\jupyter_contrib_nbextensions\\nbextensions\\datestamper -> datestamper\n",
      "[I 00:11:37 InstallContribNbextensionsApp] Up to date: C:\\Users\\n2465\\AppData\\Roaming\\jupyter\\nbextensions\\datestamper\\icon.png\n",
      "[I 00:11:37 InstallContribNbextensionsApp] Up to date: C:\\Users\\n2465\\AppData\\Roaming\\jupyter\\nbextensions\\datestamper\\main.js\n",
      "[I 00:11:37 InstallContribNbextensionsApp] Up to date: C:\\Users\\n2465\\AppData\\Roaming\\jupyter\\nbextensions\\datestamper\\main.yaml\n",
      "[I 00:11:37 InstallContribNbextensionsApp] Up to date: C:\\Users\\n2465\\AppData\\Roaming\\jupyter\\nbextensions\\datestamper\\readme.md\n",
      "[I 00:11:37 InstallContribNbextensionsApp] - Validating: ok\n",
      "[I 00:11:37 InstallContribNbextensionsApp] Installing C:\\Users\\n2465\\anaconda3\\Lib\\site-packages\\jupyter_contrib_nbextensions\\nbextensions\\equation-numbering -> equation-numbering\n",
      "[I 00:11:37 InstallContribNbextensionsApp] Up to date: C:\\Users\\n2465\\AppData\\Roaming\\jupyter\\nbextensions\\equation-numbering\\button.png\n",
      "[I 00:11:37 InstallContribNbextensionsApp] Up to date: C:\\Users\\n2465\\AppData\\Roaming\\jupyter\\nbextensions\\equation-numbering\\icon.png\n",
      "[I 00:11:37 InstallContribNbextensionsApp] Up to date: C:\\Users\\n2465\\AppData\\Roaming\\jupyter\\nbextensions\\equation-numbering\\info.yaml\n",
      "[I 00:11:37 InstallContribNbextensionsApp] Up to date: C:\\Users\\n2465\\AppData\\Roaming\\jupyter\\nbextensions\\equation-numbering\\main.js\n",
      "[I 00:11:37 InstallContribNbextensionsApp] Up to date: C:\\Users\\n2465\\AppData\\Roaming\\jupyter\\nbextensions\\equation-numbering\\readme.md\n",
      "[I 00:11:37 InstallContribNbextensionsApp] - Validating: ok\n",
      "[I 00:11:37 InstallContribNbextensionsApp] Installing C:\\Users\\n2465\\anaconda3\\Lib\\site-packages\\jupyter_contrib_nbextensions\\nbextensions\\execute_time -> execute_time\n",
      "[I 00:11:37 InstallContribNbextensionsApp] Up to date: C:\\Users\\n2465\\AppData\\Roaming\\jupyter\\nbextensions\\execute_time\\ExecuteTime.css\n",
      "[I 00:11:37 InstallContribNbextensionsApp] Up to date: C:\\Users\\n2465\\AppData\\Roaming\\jupyter\\nbextensions\\execute_time\\ExecuteTime.js\n",
      "[I 00:11:37 InstallContribNbextensionsApp] Up to date: C:\\Users\\n2465\\AppData\\Roaming\\jupyter\\nbextensions\\execute_time\\ExecuteTime.yaml\n",
      "[I 00:11:37 InstallContribNbextensionsApp] Up to date: C:\\Users\\n2465\\AppData\\Roaming\\jupyter\\nbextensions\\execute_time\\execution-timings-box.png\n",
      "[I 00:11:37 InstallContribNbextensionsApp] Up to date: C:\\Users\\n2465\\AppData\\Roaming\\jupyter\\nbextensions\\execute_time\\execution-timings-menu.png\n",
      "[I 00:11:37 InstallContribNbextensionsApp] Up to date: C:\\Users\\n2465\\AppData\\Roaming\\jupyter\\nbextensions\\execute_time\\icon.png\n",
      "[I 00:11:37 InstallContribNbextensionsApp] Up to date: C:\\Users\\n2465\\AppData\\Roaming\\jupyter\\nbextensions\\execute_time\\readme.md\n",
      "[I 00:11:37 InstallContribNbextensionsApp] - Validating: ok\n",
      "[I 00:11:37 InstallContribNbextensionsApp] Installing C:\\Users\\n2465\\anaconda3\\Lib\\site-packages\\jupyter_contrib_nbextensions\\nbextensions\\execution_dependencies -> execution_dependencies\n",
      "[I 00:11:37 InstallContribNbextensionsApp] Up to date: C:\\Users\\n2465\\AppData\\Roaming\\jupyter\\nbextensions\\execution_dependencies\\execution_dependencies.js\n",
      "[I 00:11:37 InstallContribNbextensionsApp] Up to date: C:\\Users\\n2465\\AppData\\Roaming\\jupyter\\nbextensions\\execution_dependencies\\execution_dependencies.yml\n",
      "[I 00:11:37 InstallContribNbextensionsApp] Up to date: C:\\Users\\n2465\\AppData\\Roaming\\jupyter\\nbextensions\\execution_dependencies\\README.md\n",
      "[I 00:11:37 InstallContribNbextensionsApp] - Validating: ok\n",
      "[I 00:11:37 InstallContribNbextensionsApp] Installing C:\\Users\\n2465\\anaconda3\\Lib\\site-packages\\jupyter_contrib_nbextensions\\nbextensions\\exercise -> exercise\n",
      "[I 00:11:37 InstallContribNbextensionsApp] Up to date: C:\\Users\\n2465\\AppData\\Roaming\\jupyter\\nbextensions\\exercise\\exercise.yaml\n",
      "[I 00:11:37 InstallContribNbextensionsApp] Up to date: C:\\Users\\n2465\\AppData\\Roaming\\jupyter\\nbextensions\\exercise\\history.md\n",
      "[I 00:11:37 InstallContribNbextensionsApp] Up to date: C:\\Users\\n2465\\AppData\\Roaming\\jupyter\\nbextensions\\exercise\\icon.png\n",
      "[I 00:11:37 InstallContribNbextensionsApp] Up to date: C:\\Users\\n2465\\AppData\\Roaming\\jupyter\\nbextensions\\exercise\\image.gif\n",
      "[I 00:11:37 InstallContribNbextensionsApp] Up to date: C:\\Users\\n2465\\AppData\\Roaming\\jupyter\\nbextensions\\exercise\\main.css\n",
      "[I 00:11:37 InstallContribNbextensionsApp] Up to date: C:\\Users\\n2465\\AppData\\Roaming\\jupyter\\nbextensions\\exercise\\main.js\n",
      "[I 00:11:37 InstallContribNbextensionsApp] Up to date: C:\\Users\\n2465\\AppData\\Roaming\\jupyter\\nbextensions\\exercise\\readme.md\n",
      "[I 00:11:37 InstallContribNbextensionsApp] - Validating: ok\n",
      "[I 00:11:37 InstallContribNbextensionsApp] Installing C:\\Users\\n2465\\anaconda3\\Lib\\site-packages\\jupyter_contrib_nbextensions\\nbextensions\\exercise2 -> exercise2\n",
      "[I 00:11:37 InstallContribNbextensionsApp] Up to date: C:\\Users\\n2465\\AppData\\Roaming\\jupyter\\nbextensions\\exercise2\\exercise2.yaml\n",
      "[I 00:11:37 InstallContribNbextensionsApp] Up to date: C:\\Users\\n2465\\AppData\\Roaming\\jupyter\\nbextensions\\exercise2\\icon.png\n",
      "[I 00:11:37 InstallContribNbextensionsApp] Up to date: C:\\Users\\n2465\\AppData\\Roaming\\jupyter\\nbextensions\\exercise2\\image.gif\n",
      "[I 00:11:37 InstallContribNbextensionsApp] Up to date: C:\\Users\\n2465\\AppData\\Roaming\\jupyter\\nbextensions\\exercise2\\main.css\n",
      "[I 00:11:37 InstallContribNbextensionsApp] Up to date: C:\\Users\\n2465\\AppData\\Roaming\\jupyter\\nbextensions\\exercise2\\main.js\n",
      "[I 00:11:37 InstallContribNbextensionsApp] Up to date: C:\\Users\\n2465\\AppData\\Roaming\\jupyter\\nbextensions\\exercise2\\readme.md\n",
      "[I 00:11:37 InstallContribNbextensionsApp] - Validating: ok\n",
      "[I 00:11:37 InstallContribNbextensionsApp] Installing C:\\Users\\n2465\\anaconda3\\Lib\\site-packages\\jupyter_contrib_nbextensions\\nbextensions\\export_embedded -> export_embedded\n",
      "[I 00:11:37 InstallContribNbextensionsApp] Up to date: C:\\Users\\n2465\\AppData\\Roaming\\jupyter\\nbextensions\\export_embedded\\export_embedded.yaml\n",
      "[I 00:11:37 InstallContribNbextensionsApp] Up to date: C:\\Users\\n2465\\AppData\\Roaming\\jupyter\\nbextensions\\export_embedded\\icon.png\n",
      "[I 00:11:37 InstallContribNbextensionsApp] Up to date: C:\\Users\\n2465\\AppData\\Roaming\\jupyter\\nbextensions\\export_embedded\\main.js\n",
      "[I 00:11:37 InstallContribNbextensionsApp] Up to date: C:\\Users\\n2465\\AppData\\Roaming\\jupyter\\nbextensions\\export_embedded\\readme.md\n",
      "[I 00:11:37 InstallContribNbextensionsApp] - Validating: ok\n",
      "[I 00:11:37 InstallContribNbextensionsApp] Installing C:\\Users\\n2465\\anaconda3\\Lib\\site-packages\\jupyter_contrib_nbextensions\\nbextensions\\freeze -> freeze\n",
      "[I 00:11:37 InstallContribNbextensionsApp] Up to date: C:\\Users\\n2465\\AppData\\Roaming\\jupyter\\nbextensions\\freeze\\config.yaml\n",
      "[I 00:11:37 InstallContribNbextensionsApp] Up to date: C:\\Users\\n2465\\AppData\\Roaming\\jupyter\\nbextensions\\freeze\\icon.png\n",
      "[I 00:11:37 InstallContribNbextensionsApp] Up to date: C:\\Users\\n2465\\AppData\\Roaming\\jupyter\\nbextensions\\freeze\\main.js\n",
      "[I 00:11:37 InstallContribNbextensionsApp] Up to date: C:\\Users\\n2465\\AppData\\Roaming\\jupyter\\nbextensions\\freeze\\readme.md\n",
      "[I 00:11:37 InstallContribNbextensionsApp] - Validating: ok\n",
      "[I 00:11:37 InstallContribNbextensionsApp] Installing C:\\Users\\n2465\\anaconda3\\Lib\\site-packages\\jupyter_contrib_nbextensions\\nbextensions\\gist_it -> gist_it\n",
      "[I 00:11:37 InstallContribNbextensionsApp] Up to date: C:\\Users\\n2465\\AppData\\Roaming\\jupyter\\nbextensions\\gist_it\\gist_it.yaml\n",
      "[I 00:11:37 InstallContribNbextensionsApp] Up to date: C:\\Users\\n2465\\AppData\\Roaming\\jupyter\\nbextensions\\gist_it\\icon.png\n",
      "[I 00:11:37 InstallContribNbextensionsApp] Up to date: C:\\Users\\n2465\\AppData\\Roaming\\jupyter\\nbextensions\\gist_it\\main.js\n",
      "[I 00:11:37 InstallContribNbextensionsApp] Up to date: C:\\Users\\n2465\\AppData\\Roaming\\jupyter\\nbextensions\\gist_it\\readme.md\n",
      "[I 00:11:37 InstallContribNbextensionsApp] - Validating: ok\n",
      "[I 00:11:37 InstallContribNbextensionsApp] Installing C:\\Users\\n2465\\anaconda3\\Lib\\site-packages\\jupyter_contrib_nbextensions\\nbextensions\\go_to_current_running_cell -> go_to_current_running_cell\n",
      "[I 00:11:37 InstallContribNbextensionsApp] Up to date: C:\\Users\\n2465\\AppData\\Roaming\\jupyter\\nbextensions\\go_to_current_running_cell\\anchor.png\n",
      "[I 00:11:37 InstallContribNbextensionsApp] Up to date: C:\\Users\\n2465\\AppData\\Roaming\\jupyter\\nbextensions\\go_to_current_running_cell\\auto_focus.gif\n",
      "[I 00:11:37 InstallContribNbextensionsApp] Up to date: C:\\Users\\n2465\\AppData\\Roaming\\jupyter\\nbextensions\\go_to_current_running_cell\\eye.png\n",
      "[I 00:11:37 InstallContribNbextensionsApp] Up to date: C:\\Users\\n2465\\AppData\\Roaming\\jupyter\\nbextensions\\go_to_current_running_cell\\go_to_current_running_cell.yaml\n",
      "[I 00:11:37 InstallContribNbextensionsApp] Up to date: C:\\Users\\n2465\\AppData\\Roaming\\jupyter\\nbextensions\\go_to_current_running_cell\\jump_to_cell.gif\n",
      "[I 00:11:37 InstallContribNbextensionsApp] Up to date: C:\\Users\\n2465\\AppData\\Roaming\\jupyter\\nbextensions\\go_to_current_running_cell\\main.js\n",
      "[I 00:11:37 InstallContribNbextensionsApp] Up to date: C:\\Users\\n2465\\AppData\\Roaming\\jupyter\\nbextensions\\go_to_current_running_cell\\README.md\n",
      "[I 00:11:37 InstallContribNbextensionsApp] - Validating: ok\n",
      "[I 00:11:37 InstallContribNbextensionsApp] Installing C:\\Users\\n2465\\anaconda3\\Lib\\site-packages\\jupyter_contrib_nbextensions\\nbextensions\\help_panel -> help_panel\n",
      "[I 00:11:37 InstallContribNbextensionsApp] Up to date: C:\\Users\\n2465\\AppData\\Roaming\\jupyter\\nbextensions\\help_panel\\help_panel.css\n",
      "[I 00:11:37 InstallContribNbextensionsApp] Up to date: C:\\Users\\n2465\\AppData\\Roaming\\jupyter\\nbextensions\\help_panel\\help_panel.js\n",
      "[I 00:11:37 InstallContribNbextensionsApp] Up to date: C:\\Users\\n2465\\AppData\\Roaming\\jupyter\\nbextensions\\help_panel\\help_panel.yaml\n",
      "[I 00:11:37 InstallContribNbextensionsApp] Up to date: C:\\Users\\n2465\\AppData\\Roaming\\jupyter\\nbextensions\\help_panel\\help_panel_ext.png\n",
      "[I 00:11:37 InstallContribNbextensionsApp] Up to date: C:\\Users\\n2465\\AppData\\Roaming\\jupyter\\nbextensions\\help_panel\\help_panel_ext_fullscreen.png\n",
      "[I 00:11:37 InstallContribNbextensionsApp] Up to date: C:\\Users\\n2465\\AppData\\Roaming\\jupyter\\nbextensions\\help_panel\\icon.png\n",
      "[I 00:11:37 InstallContribNbextensionsApp] Up to date: C:\\Users\\n2465\\AppData\\Roaming\\jupyter\\nbextensions\\help_panel\\readme.md\n",
      "[I 00:11:37 InstallContribNbextensionsApp] Up to date: C:\\Users\\n2465\\AppData\\Roaming\\jupyter\\nbextensions\\help_panel\\img\\handle-v.png\n",
      "[I 00:11:37 InstallContribNbextensionsApp] - Validating: ok\n",
      "[I 00:11:37 InstallContribNbextensionsApp] Installing C:\\Users\\n2465\\anaconda3\\Lib\\site-packages\\jupyter_contrib_nbextensions\\nbextensions\\hide_header -> hide_header\n",
      "[I 00:11:37 InstallContribNbextensionsApp] Up to date: C:\\Users\\n2465\\AppData\\Roaming\\jupyter\\nbextensions\\hide_header\\hide_header.yaml\n",
      "[I 00:11:37 InstallContribNbextensionsApp] Up to date: C:\\Users\\n2465\\AppData\\Roaming\\jupyter\\nbextensions\\hide_header\\main.js\n",
      "[I 00:11:37 InstallContribNbextensionsApp] Up to date: C:\\Users\\n2465\\AppData\\Roaming\\jupyter\\nbextensions\\hide_header\\README.md\n",
      "[I 00:11:37 InstallContribNbextensionsApp] - Validating: ok\n",
      "[I 00:11:37 InstallContribNbextensionsApp] Installing C:\\Users\\n2465\\anaconda3\\Lib\\site-packages\\jupyter_contrib_nbextensions\\nbextensions\\hide_input -> hide_input\n",
      "[I 00:11:37 InstallContribNbextensionsApp] Up to date: C:\\Users\\n2465\\AppData\\Roaming\\jupyter\\nbextensions\\hide_input\\hide-input.yaml\n",
      "[I 00:11:37 InstallContribNbextensionsApp] Up to date: C:\\Users\\n2465\\AppData\\Roaming\\jupyter\\nbextensions\\hide_input\\icon.png\n",
      "[I 00:11:37 InstallContribNbextensionsApp] Up to date: C:\\Users\\n2465\\AppData\\Roaming\\jupyter\\nbextensions\\hide_input\\main.js\n",
      "[I 00:11:37 InstallContribNbextensionsApp] Up to date: C:\\Users\\n2465\\AppData\\Roaming\\jupyter\\nbextensions\\hide_input\\readme.md\n",
      "[I 00:11:37 InstallContribNbextensionsApp] - Validating: ok\n",
      "[I 00:11:37 InstallContribNbextensionsApp] Installing C:\\Users\\n2465\\anaconda3\\Lib\\site-packages\\jupyter_contrib_nbextensions\\nbextensions\\hide_input_all -> hide_input_all\n",
      "[I 00:11:37 InstallContribNbextensionsApp] Up to date: C:\\Users\\n2465\\AppData\\Roaming\\jupyter\\nbextensions\\hide_input_all\\hide_input_all.yaml\n",
      "[I 00:11:37 InstallContribNbextensionsApp] Up to date: C:\\Users\\n2465\\AppData\\Roaming\\jupyter\\nbextensions\\hide_input_all\\hide_input_all_hide.png\n",
      "[I 00:11:37 InstallContribNbextensionsApp] Up to date: C:\\Users\\n2465\\AppData\\Roaming\\jupyter\\nbextensions\\hide_input_all\\hide_input_all_show.png\n",
      "[I 00:11:37 InstallContribNbextensionsApp] Up to date: C:\\Users\\n2465\\AppData\\Roaming\\jupyter\\nbextensions\\hide_input_all\\icon.png\n",
      "[I 00:11:37 InstallContribNbextensionsApp] Up to date: C:\\Users\\n2465\\AppData\\Roaming\\jupyter\\nbextensions\\hide_input_all\\main.js\n",
      "[I 00:11:37 InstallContribNbextensionsApp] Up to date: C:\\Users\\n2465\\AppData\\Roaming\\jupyter\\nbextensions\\hide_input_all\\readme.md\n",
      "[I 00:11:37 InstallContribNbextensionsApp] - Validating: ok\n",
      "[I 00:11:37 InstallContribNbextensionsApp] Installing C:\\Users\\n2465\\anaconda3\\Lib\\site-packages\\jupyter_contrib_nbextensions\\nbextensions\\highlighter -> highlighter\n",
      "[I 00:11:37 InstallContribNbextensionsApp] Up to date: C:\\Users\\n2465\\AppData\\Roaming\\jupyter\\nbextensions\\highlighter\\demo_highlighter.html\n",
      "[I 00:11:37 InstallContribNbextensionsApp] Up to date: C:\\Users\\n2465\\AppData\\Roaming\\jupyter\\nbextensions\\highlighter\\demo_highlighter.ipynb\n",
      "[I 00:11:37 InstallContribNbextensionsApp] Up to date: C:\\Users\\n2465\\AppData\\Roaming\\jupyter\\nbextensions\\highlighter\\export_highlights.html\n",
      "[I 00:11:37 InstallContribNbextensionsApp] Up to date: C:\\Users\\n2465\\AppData\\Roaming\\jupyter\\nbextensions\\highlighter\\export_highlights.ipynb\n",
      "[I 00:11:37 InstallContribNbextensionsApp] Up to date: C:\\Users\\n2465\\AppData\\Roaming\\jupyter\\nbextensions\\highlighter\\export_highlights.pdf\n",
      "[I 00:11:37 InstallContribNbextensionsApp] Up to date: C:\\Users\\n2465\\AppData\\Roaming\\jupyter\\nbextensions\\highlighter\\export_highlights.tex\n",
      "[I 00:11:37 InstallContribNbextensionsApp] Up to date: C:\\Users\\n2465\\AppData\\Roaming\\jupyter\\nbextensions\\highlighter\\highlighter.css\n",
      "[I 00:11:37 InstallContribNbextensionsApp] Up to date: C:\\Users\\n2465\\AppData\\Roaming\\jupyter\\nbextensions\\highlighter\\highlighter.js\n",
      "[I 00:11:37 InstallContribNbextensionsApp] Up to date: C:\\Users\\n2465\\AppData\\Roaming\\jupyter\\nbextensions\\highlighter\\highlighter.yaml\n",
      "[I 00:11:37 InstallContribNbextensionsApp] Up to date: C:\\Users\\n2465\\AppData\\Roaming\\jupyter\\nbextensions\\highlighter\\icon.png\n",
      "[I 00:11:37 InstallContribNbextensionsApp] Up to date: C:\\Users\\n2465\\AppData\\Roaming\\jupyter\\nbextensions\\highlighter\\image.gif\n",
      "[I 00:11:37 InstallContribNbextensionsApp] Up to date: C:\\Users\\n2465\\AppData\\Roaming\\jupyter\\nbextensions\\highlighter\\readme.md\n",
      "[I 00:11:37 InstallContribNbextensionsApp] Up to date: C:\\Users\\n2465\\AppData\\Roaming\\jupyter\\nbextensions\\highlighter\\tst_highlights.html\n",
      "[I 00:11:37 InstallContribNbextensionsApp] Up to date: C:\\Users\\n2465\\AppData\\Roaming\\jupyter\\nbextensions\\highlighter\\tst_highlights.ipynb\n",
      "[I 00:11:37 InstallContribNbextensionsApp] Up to date: C:\\Users\\n2465\\AppData\\Roaming\\jupyter\\nbextensions\\highlighter\\tst_highlights.pdf\n",
      "[I 00:11:37 InstallContribNbextensionsApp] Up to date: C:\\Users\\n2465\\AppData\\Roaming\\jupyter\\nbextensions\\highlighter\\tst_highlights.tex\n",
      "[I 00:11:37 InstallContribNbextensionsApp] - Validating: ok\n",
      "[I 00:11:37 InstallContribNbextensionsApp] Installing C:\\Users\\n2465\\anaconda3\\Lib\\site-packages\\jupyter_contrib_nbextensions\\nbextensions\\hinterland -> hinterland\n",
      "[I 00:11:37 InstallContribNbextensionsApp] Up to date: C:\\Users\\n2465\\AppData\\Roaming\\jupyter\\nbextensions\\hinterland\\hinterland.js\n",
      "[I 00:11:37 InstallContribNbextensionsApp] Up to date: C:\\Users\\n2465\\AppData\\Roaming\\jupyter\\nbextensions\\hinterland\\hinterland.yaml\n",
      "[I 00:11:37 InstallContribNbextensionsApp] Up to date: C:\\Users\\n2465\\AppData\\Roaming\\jupyter\\nbextensions\\hinterland\\README.md\n",
      "[I 00:11:37 InstallContribNbextensionsApp] - Validating: ok\n",
      "[I 00:11:37 InstallContribNbextensionsApp] Installing C:\\Users\\n2465\\anaconda3\\Lib\\site-packages\\jupyter_contrib_nbextensions\\nbextensions\\init_cell -> init_cell\n",
      "[I 00:11:37 InstallContribNbextensionsApp] Up to date: C:\\Users\\n2465\\AppData\\Roaming\\jupyter\\nbextensions\\init_cell\\cell_toolbar_menu.png\n",
      "[I 00:11:37 InstallContribNbextensionsApp] Up to date: C:\\Users\\n2465\\AppData\\Roaming\\jupyter\\nbextensions\\init_cell\\icon.png\n",
      "[I 00:11:37 InstallContribNbextensionsApp] Up to date: C:\\Users\\n2465\\AppData\\Roaming\\jupyter\\nbextensions\\init_cell\\init_cell.yaml\n",
      "[I 00:11:37 InstallContribNbextensionsApp] Up to date: C:\\Users\\n2465\\AppData\\Roaming\\jupyter\\nbextensions\\init_cell\\main.js\n",
      "[I 00:11:37 InstallContribNbextensionsApp] Up to date: C:\\Users\\n2465\\AppData\\Roaming\\jupyter\\nbextensions\\init_cell\\README.md\n",
      "[I 00:11:37 InstallContribNbextensionsApp] - Validating: ok\n",
      "[I 00:11:37 InstallContribNbextensionsApp] Installing C:\\Users\\n2465\\anaconda3\\Lib\\site-packages\\jupyter_contrib_nbextensions\\nbextensions\\keyboard_shortcut_editor -> keyboard_shortcut_editor\n",
      "[I 00:11:37 InstallContribNbextensionsApp] Up to date: C:\\Users\\n2465\\AppData\\Roaming\\jupyter\\nbextensions\\keyboard_shortcut_editor\\icon.png\n",
      "[I 00:11:37 InstallContribNbextensionsApp] Up to date: C:\\Users\\n2465\\AppData\\Roaming\\jupyter\\nbextensions\\keyboard_shortcut_editor\\keyboard_shortcut_editor.yaml\n",
      "[I 00:11:37 InstallContribNbextensionsApp] Up to date: C:\\Users\\n2465\\AppData\\Roaming\\jupyter\\nbextensions\\keyboard_shortcut_editor\\kse_components.js\n",
      "[I 00:11:37 InstallContribNbextensionsApp] Up to date: C:\\Users\\n2465\\AppData\\Roaming\\jupyter\\nbextensions\\keyboard_shortcut_editor\\main.css\n",
      "[I 00:11:37 InstallContribNbextensionsApp] Up to date: C:\\Users\\n2465\\AppData\\Roaming\\jupyter\\nbextensions\\keyboard_shortcut_editor\\main.js\n",
      "[I 00:11:37 InstallContribNbextensionsApp] Up to date: C:\\Users\\n2465\\AppData\\Roaming\\jupyter\\nbextensions\\keyboard_shortcut_editor\\quickhelp_shim.js\n",
      "[I 00:11:37 InstallContribNbextensionsApp] Up to date: C:\\Users\\n2465\\AppData\\Roaming\\jupyter\\nbextensions\\keyboard_shortcut_editor\\README.md\n",
      "[I 00:11:37 InstallContribNbextensionsApp] Up to date: C:\\Users\\n2465\\AppData\\Roaming\\jupyter\\nbextensions\\keyboard_shortcut_editor\\readme_add_new_link.png\n",
      "[I 00:11:37 InstallContribNbextensionsApp] Up to date: C:\\Users\\n2465\\AppData\\Roaming\\jupyter\\nbextensions\\keyboard_shortcut_editor\\readme_add_new_select_action.png\n",
      "[I 00:11:37 InstallContribNbextensionsApp] Up to date: C:\\Users\\n2465\\AppData\\Roaming\\jupyter\\nbextensions\\keyboard_shortcut_editor\\readme_comma.png\n",
      "[I 00:11:37 InstallContribNbextensionsApp] Up to date: C:\\Users\\n2465\\AppData\\Roaming\\jupyter\\nbextensions\\keyboard_shortcut_editor\\readme_conflict.png\n",
      "[I 00:11:37 InstallContribNbextensionsApp] Up to date: C:\\Users\\n2465\\AppData\\Roaming\\jupyter\\nbextensions\\keyboard_shortcut_editor\\readme_dropdown.png\n",
      "[I 00:11:37 InstallContribNbextensionsApp] Up to date: C:\\Users\\n2465\\AppData\\Roaming\\jupyter\\nbextensions\\keyboard_shortcut_editor\\readme_menu_item.png\n",
      "[I 00:11:37 InstallContribNbextensionsApp] Up to date: C:\\Users\\n2465\\AppData\\Roaming\\jupyter\\nbextensions\\keyboard_shortcut_editor\\readme_reset_disabled.png\n",
      "[I 00:11:37 InstallContribNbextensionsApp] Up to date: C:\\Users\\n2465\\AppData\\Roaming\\jupyter\\nbextensions\\keyboard_shortcut_editor\\readme_shortcut_editor_blank.png\n",
      "[I 00:11:37 InstallContribNbextensionsApp] Up to date: C:\\Users\\n2465\\AppData\\Roaming\\jupyter\\nbextensions\\keyboard_shortcut_editor\\readme_shortcut_editor_success.png\n",
      "[I 00:11:37 InstallContribNbextensionsApp] Up to date: C:\\Users\\n2465\\AppData\\Roaming\\jupyter\\nbextensions\\keyboard_shortcut_editor\\readme_undefined_key.png\n",
      "[I 00:11:37 InstallContribNbextensionsApp] - Validating: ok\n",
      "[I 00:11:37 InstallContribNbextensionsApp] Installing C:\\Users\\n2465\\anaconda3\\Lib\\site-packages\\jupyter_contrib_nbextensions\\nbextensions\\limit_output -> limit_output\n",
      "[I 00:11:37 InstallContribNbextensionsApp] Up to date: C:\\Users\\n2465\\AppData\\Roaming\\jupyter\\nbextensions\\limit_output\\icon.png\n",
      "[I 00:11:37 InstallContribNbextensionsApp] Up to date: C:\\Users\\n2465\\AppData\\Roaming\\jupyter\\nbextensions\\limit_output\\limit-output.yaml\n",
      "[I 00:11:37 InstallContribNbextensionsApp] Up to date: C:\\Users\\n2465\\AppData\\Roaming\\jupyter\\nbextensions\\limit_output\\main.js\n",
      "[I 00:11:37 InstallContribNbextensionsApp] Up to date: C:\\Users\\n2465\\AppData\\Roaming\\jupyter\\nbextensions\\limit_output\\readme.md\n",
      "[I 00:11:37 InstallContribNbextensionsApp] - Validating: ok\n",
      "[I 00:11:37 InstallContribNbextensionsApp] Installing C:\\Users\\n2465\\anaconda3\\Lib\\site-packages\\jupyter_contrib_nbextensions\\nbextensions\\livemdpreview -> livemdpreview\n",
      "[I 00:11:37 InstallContribNbextensionsApp] Up to date: C:\\Users\\n2465\\AppData\\Roaming\\jupyter\\nbextensions\\livemdpreview\\livemdpreview.js\n",
      "[I 00:11:37 InstallContribNbextensionsApp] Up to date: C:\\Users\\n2465\\AppData\\Roaming\\jupyter\\nbextensions\\livemdpreview\\livemdpreview.yml\n",
      "[I 00:11:37 InstallContribNbextensionsApp] - Validating: ok\n",
      "[I 00:11:37 InstallContribNbextensionsApp] Installing C:\\Users\\n2465\\anaconda3\\Lib\\site-packages\\jupyter_contrib_nbextensions\\nbextensions\\load_tex_macros -> load_tex_macros\n",
      "[I 00:11:37 InstallContribNbextensionsApp] Up to date: C:\\Users\\n2465\\AppData\\Roaming\\jupyter\\nbextensions\\load_tex_macros\\icon.png\n",
      "[I 00:11:37 InstallContribNbextensionsApp] Up to date: C:\\Users\\n2465\\AppData\\Roaming\\jupyter\\nbextensions\\load_tex_macros\\load_tex_macros.yaml\n",
      "[I 00:11:37 InstallContribNbextensionsApp] Up to date: C:\\Users\\n2465\\AppData\\Roaming\\jupyter\\nbextensions\\load_tex_macros\\main.js\n",
      "[I 00:11:37 InstallContribNbextensionsApp] Up to date: C:\\Users\\n2465\\AppData\\Roaming\\jupyter\\nbextensions\\load_tex_macros\\readme.md\n",
      "[I 00:11:37 InstallContribNbextensionsApp] - Validating: ok\n",
      "[I 00:11:37 InstallContribNbextensionsApp] Installing C:\\Users\\n2465\\anaconda3\\Lib\\site-packages\\jupyter_contrib_nbextensions\\nbextensions\\move_selected_cells -> move_selected_cells\n",
      "[I 00:11:37 InstallContribNbextensionsApp] Up to date: C:\\Users\\n2465\\AppData\\Roaming\\jupyter\\nbextensions\\move_selected_cells\\main.js\n",
      "[I 00:11:37 InstallContribNbextensionsApp] Up to date: C:\\Users\\n2465\\AppData\\Roaming\\jupyter\\nbextensions\\move_selected_cells\\move_selected_cells.yaml\n",
      "[I 00:11:37 InstallContribNbextensionsApp] Up to date: C:\\Users\\n2465\\AppData\\Roaming\\jupyter\\nbextensions\\move_selected_cells\\README.md\n",
      "[I 00:11:37 InstallContribNbextensionsApp] - Validating: ok\n",
      "[I 00:11:37 InstallContribNbextensionsApp] Installing C:\\Users\\n2465\\anaconda3\\Lib\\site-packages\\jupyter_contrib_nbextensions\\nbextensions\\navigation-hotkeys -> navigation-hotkeys\n",
      "[I 00:11:37 InstallContribNbextensionsApp] Up to date: C:\\Users\\n2465\\AppData\\Roaming\\jupyter\\nbextensions\\navigation-hotkeys\\hotkeys.yaml\n",
      "[I 00:11:37 InstallContribNbextensionsApp] Up to date: C:\\Users\\n2465\\AppData\\Roaming\\jupyter\\nbextensions\\navigation-hotkeys\\icon.png\n",
      "[I 00:11:37 InstallContribNbextensionsApp] Up to date: C:\\Users\\n2465\\AppData\\Roaming\\jupyter\\nbextensions\\navigation-hotkeys\\main.js\n",
      "[I 00:11:37 InstallContribNbextensionsApp] Up to date: C:\\Users\\n2465\\AppData\\Roaming\\jupyter\\nbextensions\\navigation-hotkeys\\readme.md\n",
      "[I 00:11:37 InstallContribNbextensionsApp] - Validating: ok\n",
      "[I 00:11:37 InstallContribNbextensionsApp] Installing C:\\Users\\n2465\\anaconda3\\Lib\\site-packages\\jupyter_contrib_nbextensions\\nbextensions\\nbTranslate -> nbTranslate\n",
      "[I 00:11:37 InstallContribNbextensionsApp] Up to date: C:\\Users\\n2465\\AppData\\Roaming\\jupyter\\nbextensions\\nbTranslate\\demo1.gif\n",
      "[I 00:11:37 InstallContribNbextensionsApp] Up to date: C:\\Users\\n2465\\AppData\\Roaming\\jupyter\\nbextensions\\nbTranslate\\demo2.gif\n",
      "[I 00:11:37 InstallContribNbextensionsApp] Up to date: C:\\Users\\n2465\\AppData\\Roaming\\jupyter\\nbextensions\\nbTranslate\\languages.js\n",
      "[I 00:11:37 InstallContribNbextensionsApp] Up to date: C:\\Users\\n2465\\AppData\\Roaming\\jupyter\\nbextensions\\nbTranslate\\main.js\n",
      "[I 00:11:37 InstallContribNbextensionsApp] Up to date: C:\\Users\\n2465\\AppData\\Roaming\\jupyter\\nbextensions\\nbTranslate\\mutils.js\n",
      "[I 00:11:37 InstallContribNbextensionsApp] Up to date: C:\\Users\\n2465\\AppData\\Roaming\\jupyter\\nbextensions\\nbTranslate\\nbTranslate.js\n",
      "[I 00:11:37 InstallContribNbextensionsApp] Up to date: C:\\Users\\n2465\\AppData\\Roaming\\jupyter\\nbextensions\\nbTranslate\\nbTranslate.yaml\n",
      "[I 00:11:37 InstallContribNbextensionsApp] Up to date: C:\\Users\\n2465\\AppData\\Roaming\\jupyter\\nbextensions\\nbTranslate\\README.md\n",
      "[I 00:11:37 InstallContribNbextensionsApp] - Validating: ok\n",
      "[I 00:11:37 InstallContribNbextensionsApp] Installing C:\\Users\\n2465\\anaconda3\\Lib\\site-packages\\jupyter_contrib_nbextensions\\nbextensions\\notify -> notify\n",
      "[I 00:11:37 InstallContribNbextensionsApp] Up to date: C:\\Users\\n2465\\AppData\\Roaming\\jupyter\\nbextensions\\notify\\notification.png\n",
      "[I 00:11:37 InstallContribNbextensionsApp] Up to date: C:\\Users\\n2465\\AppData\\Roaming\\jupyter\\nbextensions\\notify\\notify.js\n",
      "[I 00:11:37 InstallContribNbextensionsApp] Up to date: C:\\Users\\n2465\\AppData\\Roaming\\jupyter\\nbextensions\\notify\\notify.mp3\n",
      "[I 00:11:37 InstallContribNbextensionsApp] Up to date: C:\\Users\\n2465\\AppData\\Roaming\\jupyter\\nbextensions\\notify\\notify.yaml\n",
      "[I 00:11:37 InstallContribNbextensionsApp] Up to date: C:\\Users\\n2465\\AppData\\Roaming\\jupyter\\nbextensions\\notify\\readme.md\n",
      "[I 00:11:37 InstallContribNbextensionsApp] - Validating: ok\n",
      "[I 00:11:37 InstallContribNbextensionsApp] Installing C:\\Users\\n2465\\anaconda3\\Lib\\site-packages\\jupyter_contrib_nbextensions\\nbextensions\\printview -> printview\n",
      "[I 00:11:37 InstallContribNbextensionsApp] Up to date: C:\\Users\\n2465\\AppData\\Roaming\\jupyter\\nbextensions\\printview\\icon.png\n",
      "[I 00:11:37 InstallContribNbextensionsApp] Up to date: C:\\Users\\n2465\\AppData\\Roaming\\jupyter\\nbextensions\\printview\\main.js\n",
      "[I 00:11:37 InstallContribNbextensionsApp] Up to date: C:\\Users\\n2465\\AppData\\Roaming\\jupyter\\nbextensions\\printview\\printview-button.png\n",
      "[I 00:11:37 InstallContribNbextensionsApp] Up to date: C:\\Users\\n2465\\AppData\\Roaming\\jupyter\\nbextensions\\printview\\printview.yaml\n",
      "[I 00:11:37 InstallContribNbextensionsApp] Up to date: C:\\Users\\n2465\\AppData\\Roaming\\jupyter\\nbextensions\\printview\\readme.md\n",
      "[I 00:11:37 InstallContribNbextensionsApp] - Validating: ok\n",
      "[I 00:11:37 InstallContribNbextensionsApp] Installing C:\\Users\\n2465\\anaconda3\\Lib\\site-packages\\jupyter_contrib_nbextensions\\nbextensions\\python-markdown -> python-markdown\n",
      "[I 00:11:37 InstallContribNbextensionsApp] Up to date: C:\\Users\\n2465\\AppData\\Roaming\\jupyter\\nbextensions\\python-markdown\\main.css\n",
      "[I 00:11:37 InstallContribNbextensionsApp] Up to date: C:\\Users\\n2465\\AppData\\Roaming\\jupyter\\nbextensions\\python-markdown\\main.js\n",
      "[I 00:11:37 InstallContribNbextensionsApp] Up to date: C:\\Users\\n2465\\AppData\\Roaming\\jupyter\\nbextensions\\python-markdown\\python-markdown-post.png\n",
      "[I 00:11:37 InstallContribNbextensionsApp] Up to date: C:\\Users\\n2465\\AppData\\Roaming\\jupyter\\nbextensions\\python-markdown\\python-markdown-pre.png\n",
      "[I 00:11:37 InstallContribNbextensionsApp] Up to date: C:\\Users\\n2465\\AppData\\Roaming\\jupyter\\nbextensions\\python-markdown\\python-markdown.png\n",
      "[I 00:11:37 InstallContribNbextensionsApp] Up to date: C:\\Users\\n2465\\AppData\\Roaming\\jupyter\\nbextensions\\python-markdown\\python-markdown.yaml\n",
      "[I 00:11:37 InstallContribNbextensionsApp] Up to date: C:\\Users\\n2465\\AppData\\Roaming\\jupyter\\nbextensions\\python-markdown\\readme.md\n",
      "[I 00:11:37 InstallContribNbextensionsApp] Up to date: C:\\Users\\n2465\\AppData\\Roaming\\jupyter\\nbextensions\\python-markdown\\trusted.png\n",
      "[I 00:11:37 InstallContribNbextensionsApp] Up to date: C:\\Users\\n2465\\AppData\\Roaming\\jupyter\\nbextensions\\python-markdown\\untrusted.png\n",
      "[I 00:11:37 InstallContribNbextensionsApp] - Validating: ok\n",
      "[I 00:11:37 InstallContribNbextensionsApp] Installing C:\\Users\\n2465\\anaconda3\\Lib\\site-packages\\jupyter_contrib_nbextensions\\nbextensions\\qtconsole -> qtconsole\n",
      "[I 00:11:37 InstallContribNbextensionsApp] Up to date: C:\\Users\\n2465\\AppData\\Roaming\\jupyter\\nbextensions\\qtconsole\\qtconsole.js\n",
      "[I 00:11:37 InstallContribNbextensionsApp] Up to date: C:\\Users\\n2465\\AppData\\Roaming\\jupyter\\nbextensions\\qtconsole\\qtconsole.yaml\n",
      "[I 00:11:37 InstallContribNbextensionsApp] Up to date: C:\\Users\\n2465\\AppData\\Roaming\\jupyter\\nbextensions\\qtconsole\\README.md\n",
      "[I 00:11:37 InstallContribNbextensionsApp] - Validating: ok\n",
      "[I 00:11:37 InstallContribNbextensionsApp] Installing C:\\Users\\n2465\\anaconda3\\Lib\\site-packages\\jupyter_contrib_nbextensions\\nbextensions\\rubberband -> rubberband\n",
      "[I 00:11:37 InstallContribNbextensionsApp] Up to date: C:\\Users\\n2465\\AppData\\Roaming\\jupyter\\nbextensions\\rubberband\\icon.png\n",
      "[I 00:11:37 InstallContribNbextensionsApp] Up to date: C:\\Users\\n2465\\AppData\\Roaming\\jupyter\\nbextensions\\rubberband\\main.css\n",
      "[I 00:11:37 InstallContribNbextensionsApp] Up to date: C:\\Users\\n2465\\AppData\\Roaming\\jupyter\\nbextensions\\rubberband\\main.js\n",
      "[I 00:11:37 InstallContribNbextensionsApp] Up to date: C:\\Users\\n2465\\AppData\\Roaming\\jupyter\\nbextensions\\rubberband\\readme.md\n",
      "[I 00:11:37 InstallContribNbextensionsApp] Up to date: C:\\Users\\n2465\\AppData\\Roaming\\jupyter\\nbextensions\\rubberband\\rubberband.yaml\n",
      "[I 00:11:37 InstallContribNbextensionsApp] - Validating: ok\n",
      "[I 00:11:37 InstallContribNbextensionsApp] Installing C:\\Users\\n2465\\anaconda3\\Lib\\site-packages\\jupyter_contrib_nbextensions\\nbextensions\\ruler -> ruler\n",
      "[I 00:11:37 InstallContribNbextensionsApp] Up to date: C:\\Users\\n2465\\AppData\\Roaming\\jupyter\\nbextensions\\ruler\\edit.js\n",
      "[I 00:11:37 InstallContribNbextensionsApp] Up to date: C:\\Users\\n2465\\AppData\\Roaming\\jupyter\\nbextensions\\ruler\\icon.png\n",
      "[I 00:11:37 InstallContribNbextensionsApp] Up to date: C:\\Users\\n2465\\AppData\\Roaming\\jupyter\\nbextensions\\ruler\\main.js\n",
      "[I 00:11:37 InstallContribNbextensionsApp] Up to date: C:\\Users\\n2465\\AppData\\Roaming\\jupyter\\nbextensions\\ruler\\readme.md\n",
      "[I 00:11:37 InstallContribNbextensionsApp] Up to date: C:\\Users\\n2465\\AppData\\Roaming\\jupyter\\nbextensions\\ruler\\ruler.yaml\n",
      "[I 00:11:37 InstallContribNbextensionsApp] Up to date: C:\\Users\\n2465\\AppData\\Roaming\\jupyter\\nbextensions\\ruler\\ruler_editor.yaml\n",
      "[I 00:11:37 InstallContribNbextensionsApp] - Validating: ok\n",
      "[I 00:11:37 InstallContribNbextensionsApp] Installing C:\\Users\\n2465\\anaconda3\\Lib\\site-packages\\jupyter_contrib_nbextensions\\nbextensions\\ruler -> ruler\n",
      "[I 00:11:37 InstallContribNbextensionsApp] Up to date: C:\\Users\\n2465\\AppData\\Roaming\\jupyter\\nbextensions\\ruler\\edit.js\n",
      "[I 00:11:37 InstallContribNbextensionsApp] Up to date: C:\\Users\\n2465\\AppData\\Roaming\\jupyter\\nbextensions\\ruler\\icon.png\n",
      "[I 00:11:37 InstallContribNbextensionsApp] Up to date: C:\\Users\\n2465\\AppData\\Roaming\\jupyter\\nbextensions\\ruler\\main.js\n",
      "[I 00:11:37 InstallContribNbextensionsApp] Up to date: C:\\Users\\n2465\\AppData\\Roaming\\jupyter\\nbextensions\\ruler\\readme.md\n",
      "[I 00:11:37 InstallContribNbextensionsApp] Up to date: C:\\Users\\n2465\\AppData\\Roaming\\jupyter\\nbextensions\\ruler\\ruler.yaml\n",
      "[I 00:11:37 InstallContribNbextensionsApp] Up to date: C:\\Users\\n2465\\AppData\\Roaming\\jupyter\\nbextensions\\ruler\\ruler_editor.yaml\n",
      "[I 00:11:37 InstallContribNbextensionsApp] - Validating: ok\n",
      "[I 00:11:37 InstallContribNbextensionsApp] Installing C:\\Users\\n2465\\anaconda3\\Lib\\site-packages\\jupyter_contrib_nbextensions\\nbextensions\\runtools -> runtools\n",
      "[I 00:11:37 InstallContribNbextensionsApp] Up to date: C:\\Users\\n2465\\AppData\\Roaming\\jupyter\\nbextensions\\runtools\\annotations.odg\n",
      "[I 00:11:37 InstallContribNbextensionsApp] Up to date: C:\\Users\\n2465\\AppData\\Roaming\\jupyter\\nbextensions\\runtools\\cellstate.js\n",
      "[I 00:11:37 InstallContribNbextensionsApp] Up to date: C:\\Users\\n2465\\AppData\\Roaming\\jupyter\\nbextensions\\runtools\\demo.gif\n",
      "[I 00:11:37 InstallContribNbextensionsApp] Up to date: C:\\Users\\n2465\\AppData\\Roaming\\jupyter\\nbextensions\\runtools\\gutter.css\n",
      "[I 00:11:37 InstallContribNbextensionsApp] Up to date: C:\\Users\\n2465\\AppData\\Roaming\\jupyter\\nbextensions\\runtools\\icon.png\n",
      "[I 00:11:37 InstallContribNbextensionsApp] Up to date: C:\\Users\\n2465\\AppData\\Roaming\\jupyter\\nbextensions\\runtools\\main.css\n",
      "[I 00:11:37 InstallContribNbextensionsApp] Up to date: C:\\Users\\n2465\\AppData\\Roaming\\jupyter\\nbextensions\\runtools\\main.js\n",
      "[I 00:11:37 InstallContribNbextensionsApp] Up to date: C:\\Users\\n2465\\AppData\\Roaming\\jupyter\\nbextensions\\runtools\\readme.md\n",
      "[I 00:11:37 InstallContribNbextensionsApp] Up to date: C:\\Users\\n2465\\AppData\\Roaming\\jupyter\\nbextensions\\runtools\\runtools.yaml\n",
      "[I 00:11:37 InstallContribNbextensionsApp] Up to date: C:\\Users\\n2465\\AppData\\Roaming\\jupyter\\nbextensions\\runtools\\runtools_execute.png\n",
      "[I 00:11:37 InstallContribNbextensionsApp] Up to date: C:\\Users\\n2465\\AppData\\Roaming\\jupyter\\nbextensions\\runtools\\runtools_lock.png\n",
      "[I 00:11:37 InstallContribNbextensionsApp] Up to date: C:\\Users\\n2465\\AppData\\Roaming\\jupyter\\nbextensions\\runtools\\runtools_marker.png\n",
      "[I 00:11:37 InstallContribNbextensionsApp] Up to date: C:\\Users\\n2465\\AppData\\Roaming\\jupyter\\nbextensions\\runtools\\runtools_nb.png\n",
      "[I 00:11:37 InstallContribNbextensionsApp] Up to date: C:\\Users\\n2465\\AppData\\Roaming\\jupyter\\nbextensions\\runtools\\runtools_show_hide.png\n",
      "[I 00:11:37 InstallContribNbextensionsApp] - Validating: ok\n",
      "[I 00:11:37 InstallContribNbextensionsApp] Installing C:\\Users\\n2465\\anaconda3\\Lib\\site-packages\\jupyter_contrib_nbextensions\\nbextensions\\scratchpad -> scratchpad\n",
      "[I 00:11:37 InstallContribNbextensionsApp] Up to date: C:\\Users\\n2465\\AppData\\Roaming\\jupyter\\nbextensions\\scratchpad\\demo.gif\n",
      "[I 00:11:37 InstallContribNbextensionsApp] Up to date: C:\\Users\\n2465\\AppData\\Roaming\\jupyter\\nbextensions\\scratchpad\\LICENSE\n",
      "[I 00:11:37 InstallContribNbextensionsApp] Up to date: C:\\Users\\n2465\\AppData\\Roaming\\jupyter\\nbextensions\\scratchpad\\main.js\n",
      "[I 00:11:37 InstallContribNbextensionsApp] Up to date: C:\\Users\\n2465\\AppData\\Roaming\\jupyter\\nbextensions\\scratchpad\\README.md\n",
      "[I 00:11:37 InstallContribNbextensionsApp] Up to date: C:\\Users\\n2465\\AppData\\Roaming\\jupyter\\nbextensions\\scratchpad\\scratchpad.css\n",
      "[I 00:11:37 InstallContribNbextensionsApp] Up to date: C:\\Users\\n2465\\AppData\\Roaming\\jupyter\\nbextensions\\scratchpad\\scratchpad.yaml\n",
      "[I 00:11:37 InstallContribNbextensionsApp] - Validating: ok\n",
      "[I 00:11:37 InstallContribNbextensionsApp] Installing C:\\Users\\n2465\\anaconda3\\Lib\\site-packages\\jupyter_contrib_nbextensions\\nbextensions\\scroll_down -> scroll_down\n",
      "[I 00:11:37 InstallContribNbextensionsApp] Up to date: C:\\Users\\n2465\\AppData\\Roaming\\jupyter\\nbextensions\\scroll_down\\config.yaml\n",
      "[I 00:11:37 InstallContribNbextensionsApp] Up to date: C:\\Users\\n2465\\AppData\\Roaming\\jupyter\\nbextensions\\scroll_down\\icon.png\n",
      "[I 00:11:37 InstallContribNbextensionsApp] Up to date: C:\\Users\\n2465\\AppData\\Roaming\\jupyter\\nbextensions\\scroll_down\\main.js\n",
      "[I 00:11:37 InstallContribNbextensionsApp] Up to date: C:\\Users\\n2465\\AppData\\Roaming\\jupyter\\nbextensions\\scroll_down\\readme.md\n",
      "[I 00:11:37 InstallContribNbextensionsApp] - Validating: ok\n",
      "[I 00:11:37 InstallContribNbextensionsApp] Installing C:\\Users\\n2465\\anaconda3\\Lib\\site-packages\\jupyter_contrib_nbextensions\\nbextensions\\select_keymap -> select_keymap\n",
      "[I 00:11:37 InstallContribNbextensionsApp] Up to date: C:\\Users\\n2465\\AppData\\Roaming\\jupyter\\nbextensions\\select_keymap\\main.js\n",
      "[I 00:11:37 InstallContribNbextensionsApp] Up to date: C:\\Users\\n2465\\AppData\\Roaming\\jupyter\\nbextensions\\select_keymap\\README.md\n",
      "[I 00:11:37 InstallContribNbextensionsApp] Up to date: C:\\Users\\n2465\\AppData\\Roaming\\jupyter\\nbextensions\\select_keymap\\select_keymap.png\n",
      "[I 00:11:37 InstallContribNbextensionsApp] Up to date: C:\\Users\\n2465\\AppData\\Roaming\\jupyter\\nbextensions\\select_keymap\\select_keymap.yaml\n",
      "[I 00:11:37 InstallContribNbextensionsApp] - Validating: ok\n",
      "[I 00:11:37 InstallContribNbextensionsApp] Installing C:\\Users\\n2465\\anaconda3\\Lib\\site-packages\\jupyter_contrib_nbextensions\\nbextensions\\skill -> skill\n",
      "[I 00:11:37 InstallContribNbextensionsApp] Up to date: C:\\Users\\n2465\\AppData\\Roaming\\jupyter\\nbextensions\\skill\\main.js\n",
      "[I 00:11:37 InstallContribNbextensionsApp] Up to date: C:\\Users\\n2465\\AppData\\Roaming\\jupyter\\nbextensions\\skill\\README.md\n",
      "[I 00:11:37 InstallContribNbextensionsApp] Up to date: C:\\Users\\n2465\\AppData\\Roaming\\jupyter\\nbextensions\\skill\\skill.js\n",
      "[I 00:11:37 InstallContribNbextensionsApp] Up to date: C:\\Users\\n2465\\AppData\\Roaming\\jupyter\\nbextensions\\skill\\skill.yaml\n",
      "[I 00:11:37 InstallContribNbextensionsApp] - Validating: ok\n",
      "[I 00:11:37 InstallContribNbextensionsApp] Installing C:\\Users\\n2465\\anaconda3\\Lib\\site-packages\\jupyter_contrib_nbextensions\\nbextensions\\skip-traceback -> skip-traceback\n",
      "[I 00:11:37 InstallContribNbextensionsApp] Up to date: C:\\Users\\n2465\\AppData\\Roaming\\jupyter\\nbextensions\\skip-traceback\\icon.png\n",
      "[I 00:11:37 InstallContribNbextensionsApp] Up to date: C:\\Users\\n2465\\AppData\\Roaming\\jupyter\\nbextensions\\skip-traceback\\main.js\n",
      "[I 00:11:37 InstallContribNbextensionsApp] Up to date: C:\\Users\\n2465\\AppData\\Roaming\\jupyter\\nbextensions\\skip-traceback\\readme.md\n",
      "[I 00:11:37 InstallContribNbextensionsApp] Up to date: C:\\Users\\n2465\\AppData\\Roaming\\jupyter\\nbextensions\\skip-traceback\\skip-traceback.png\n",
      "[I 00:11:37 InstallContribNbextensionsApp] Up to date: C:\\Users\\n2465\\AppData\\Roaming\\jupyter\\nbextensions\\skip-traceback\\skip-traceback.yaml\n",
      "[I 00:11:37 InstallContribNbextensionsApp] Up to date: C:\\Users\\n2465\\AppData\\Roaming\\jupyter\\nbextensions\\skip-traceback\\traceback.png\n",
      "[I 00:11:37 InstallContribNbextensionsApp] - Validating: ok\n",
      "[I 00:11:37 InstallContribNbextensionsApp] Installing C:\\Users\\n2465\\anaconda3\\Lib\\site-packages\\jupyter_contrib_nbextensions\\nbextensions\\snippets -> snippets\n",
      "[I 00:11:37 InstallContribNbextensionsApp] Up to date: C:\\Users\\n2465\\AppData\\Roaming\\jupyter\\nbextensions\\snippets\\main.js\n",
      "[I 00:11:37 InstallContribNbextensionsApp] Up to date: C:\\Users\\n2465\\AppData\\Roaming\\jupyter\\nbextensions\\snippets\\README.md\n",
      "[I 00:11:37 InstallContribNbextensionsApp] Up to date: C:\\Users\\n2465\\AppData\\Roaming\\jupyter\\nbextensions\\snippets\\snippets-demo.gif\n",
      "[I 00:11:37 InstallContribNbextensionsApp] Up to date: C:\\Users\\n2465\\AppData\\Roaming\\jupyter\\nbextensions\\snippets\\snippets.json\n",
      "[I 00:11:37 InstallContribNbextensionsApp] Up to date: C:\\Users\\n2465\\AppData\\Roaming\\jupyter\\nbextensions\\snippets\\snippets.yaml\n",
      "[I 00:11:37 InstallContribNbextensionsApp] - Validating: ok\n",
      "[I 00:11:37 InstallContribNbextensionsApp] Installing C:\\Users\\n2465\\anaconda3\\Lib\\site-packages\\jupyter_contrib_nbextensions\\nbextensions\\snippets_menu -> snippets_menu\n",
      "[I 00:11:37 InstallContribNbextensionsApp] Up to date: C:\\Users\\n2465\\AppData\\Roaming\\jupyter\\nbextensions\\snippets_menu\\config.yaml\n",
      "[I 00:11:37 InstallContribNbextensionsApp] Up to date: C:\\Users\\n2465\\AppData\\Roaming\\jupyter\\nbextensions\\snippets_menu\\examples_for_custom.js\n",
      "[I 00:11:37 InstallContribNbextensionsApp] Up to date: C:\\Users\\n2465\\AppData\\Roaming\\jupyter\\nbextensions\\snippets_menu\\main.js\n",
      "[I 00:11:37 InstallContribNbextensionsApp] Up to date: C:\\Users\\n2465\\AppData\\Roaming\\jupyter\\nbextensions\\snippets_menu\\readme.md\n",
      "[I 00:11:37 InstallContribNbextensionsApp] Up to date: C:\\Users\\n2465\\AppData\\Roaming\\jupyter\\nbextensions\\snippets_menu\\screenshot1.png\n",
      "[I 00:11:37 InstallContribNbextensionsApp] Up to date: C:\\Users\\n2465\\AppData\\Roaming\\jupyter\\nbextensions\\snippets_menu\\screenshot2.png\n",
      "[I 00:11:37 InstallContribNbextensionsApp] Up to date: C:\\Users\\n2465\\AppData\\Roaming\\jupyter\\nbextensions\\snippets_menu\\screenshot3.png\n",
      "[I 00:11:37 InstallContribNbextensionsApp] Up to date: C:\\Users\\n2465\\AppData\\Roaming\\jupyter\\nbextensions\\snippets_menu\\snippets_menu.css\n",
      "[I 00:11:37 InstallContribNbextensionsApp] Up to date: C:\\Users\\n2465\\AppData\\Roaming\\jupyter\\nbextensions\\snippets_menu\\snippets_submenu_markdown.js\n",
      "[I 00:11:37 InstallContribNbextensionsApp] Up to date: C:\\Users\\n2465\\AppData\\Roaming\\jupyter\\nbextensions\\snippets_menu\\snippets_submenu_python.js\n",
      "[I 00:11:37 InstallContribNbextensionsApp] Up to date: C:\\Users\\n2465\\AppData\\Roaming\\jupyter\\nbextensions\\snippets_menu\\thumbnail.png\n",
      "[I 00:11:37 InstallContribNbextensionsApp] Up to date: C:\\Users\\n2465\\AppData\\Roaming\\jupyter\\nbextensions\\snippets_menu\\snippets_submenus_python\\astropy.js\n",
      "[I 00:11:37 InstallContribNbextensionsApp] Up to date: C:\\Users\\n2465\\AppData\\Roaming\\jupyter\\nbextensions\\snippets_menu\\snippets_submenus_python\\h5py.js\n",
      "[I 00:11:37 InstallContribNbextensionsApp] Up to date: C:\\Users\\n2465\\AppData\\Roaming\\jupyter\\nbextensions\\snippets_menu\\snippets_submenus_python\\matplotlib.js\n",
      "[I 00:11:37 InstallContribNbextensionsApp] Up to date: C:\\Users\\n2465\\AppData\\Roaming\\jupyter\\nbextensions\\snippets_menu\\snippets_submenus_python\\numba.js\n",
      "[I 00:11:37 InstallContribNbextensionsApp] Up to date: C:\\Users\\n2465\\AppData\\Roaming\\jupyter\\nbextensions\\snippets_menu\\snippets_submenus_python\\numpy.js\n",
      "[I 00:11:37 InstallContribNbextensionsApp] Up to date: C:\\Users\\n2465\\AppData\\Roaming\\jupyter\\nbextensions\\snippets_menu\\snippets_submenus_python\\numpy_polynomial.js\n",
      "[I 00:11:37 InstallContribNbextensionsApp] Up to date: C:\\Users\\n2465\\AppData\\Roaming\\jupyter\\nbextensions\\snippets_menu\\snippets_submenus_python\\numpy_ufuncs.js\n",
      "[I 00:11:37 InstallContribNbextensionsApp] Up to date: C:\\Users\\n2465\\AppData\\Roaming\\jupyter\\nbextensions\\snippets_menu\\snippets_submenus_python\\pandas.js\n",
      "[I 00:11:37 InstallContribNbextensionsApp] Up to date: C:\\Users\\n2465\\AppData\\Roaming\\jupyter\\nbextensions\\snippets_menu\\snippets_submenus_python\\python.js\n",
      "[I 00:11:37 InstallContribNbextensionsApp] Up to date: C:\\Users\\n2465\\AppData\\Roaming\\jupyter\\nbextensions\\snippets_menu\\snippets_submenus_python\\python_regex.js\n",
      "[I 00:11:37 InstallContribNbextensionsApp] Up to date: C:\\Users\\n2465\\AppData\\Roaming\\jupyter\\nbextensions\\snippets_menu\\snippets_submenus_python\\scipy.js\n",
      "[I 00:11:37 InstallContribNbextensionsApp] Up to date: C:\\Users\\n2465\\AppData\\Roaming\\jupyter\\nbextensions\\snippets_menu\\snippets_submenus_python\\scipy_constants.js\n",
      "[I 00:11:37 InstallContribNbextensionsApp] Up to date: C:\\Users\\n2465\\AppData\\Roaming\\jupyter\\nbextensions\\snippets_menu\\snippets_submenus_python\\scipy_special.js\n",
      "[I 00:11:37 InstallContribNbextensionsApp] Up to date: C:\\Users\\n2465\\AppData\\Roaming\\jupyter\\nbextensions\\snippets_menu\\snippets_submenus_python\\sympy.js\n",
      "[I 00:11:37 InstallContribNbextensionsApp] Up to date: C:\\Users\\n2465\\AppData\\Roaming\\jupyter\\nbextensions\\snippets_menu\\snippets_submenus_python\\sympy_assumptions.js\n",
      "[I 00:11:37 InstallContribNbextensionsApp] Up to date: C:\\Users\\n2465\\AppData\\Roaming\\jupyter\\nbextensions\\snippets_menu\\snippets_submenus_python\\sympy_functions.js\n",
      "[I 00:11:37 InstallContribNbextensionsApp] - Validating: ok\n",
      "[I 00:11:37 InstallContribNbextensionsApp] Installing C:\\Users\\n2465\\anaconda3\\Lib\\site-packages\\jupyter_contrib_nbextensions\\nbextensions\\spellchecker -> spellchecker\n",
      "[I 00:11:37 InstallContribNbextensionsApp] Up to date: C:\\Users\\n2465\\AppData\\Roaming\\jupyter\\nbextensions\\spellchecker\\config.yaml\n",
      "[I 00:11:37 InstallContribNbextensionsApp] Up to date: C:\\Users\\n2465\\AppData\\Roaming\\jupyter\\nbextensions\\spellchecker\\download_new_dict.py\n",
      "[I 00:11:37 InstallContribNbextensionsApp] Up to date: C:\\Users\\n2465\\AppData\\Roaming\\jupyter\\nbextensions\\spellchecker\\main.css\n",
      "[I 00:11:37 InstallContribNbextensionsApp] Up to date: C:\\Users\\n2465\\AppData\\Roaming\\jupyter\\nbextensions\\spellchecker\\main.js\n",
      "[I 00:11:37 InstallContribNbextensionsApp] Up to date: C:\\Users\\n2465\\AppData\\Roaming\\jupyter\\nbextensions\\spellchecker\\README.md\n",
      "[I 00:11:37 InstallContribNbextensionsApp] Up to date: C:\\Users\\n2465\\AppData\\Roaming\\jupyter\\nbextensions\\spellchecker\\screenshot.png\n",
      "[I 00:11:37 InstallContribNbextensionsApp] Up to date: C:\\Users\\n2465\\AppData\\Roaming\\jupyter\\nbextensions\\spellchecker\\typo\\LICENSE.txt\n",
      "[I 00:11:37 InstallContribNbextensionsApp] Up to date: C:\\Users\\n2465\\AppData\\Roaming\\jupyter\\nbextensions\\spellchecker\\typo\\typo.js\n",
      "[I 00:11:37 InstallContribNbextensionsApp] Up to date: C:\\Users\\n2465\\AppData\\Roaming\\jupyter\\nbextensions\\spellchecker\\__pycache__\\download_new_dict.cpython-311.pyc\n",
      "[I 00:11:37 InstallContribNbextensionsApp] - Validating: ok\n",
      "[I 00:11:37 InstallContribNbextensionsApp] Installing C:\\Users\\n2465\\anaconda3\\Lib\\site-packages\\jupyter_contrib_nbextensions\\nbextensions\\splitcell -> splitcell\n",
      "[I 00:11:37 InstallContribNbextensionsApp] Up to date: C:\\Users\\n2465\\AppData\\Roaming\\jupyter\\nbextensions\\splitcell\\icon.png\n",
      "[I 00:11:37 InstallContribNbextensionsApp] Up to date: C:\\Users\\n2465\\AppData\\Roaming\\jupyter\\nbextensions\\splitcell\\readme.md\n",
      "[I 00:11:37 InstallContribNbextensionsApp] Up to date: C:\\Users\\n2465\\AppData\\Roaming\\jupyter\\nbextensions\\splitcell\\splitcell.js\n",
      "[I 00:11:37 InstallContribNbextensionsApp] Up to date: C:\\Users\\n2465\\AppData\\Roaming\\jupyter\\nbextensions\\splitcell\\splitcell.yaml\n",
      "[I 00:11:37 InstallContribNbextensionsApp] - Validating: ok\n",
      "[I 00:11:37 InstallContribNbextensionsApp] Installing C:\\Users\\n2465\\anaconda3\\Lib\\site-packages\\jupyter_contrib_nbextensions\\nbextensions\\table_beautifier -> table_beautifier\n",
      "[I 00:11:37 InstallContribNbextensionsApp] Up to date: C:\\Users\\n2465\\AppData\\Roaming\\jupyter\\nbextensions\\table_beautifier\\main.css\n",
      "[I 00:11:37 InstallContribNbextensionsApp] Up to date: C:\\Users\\n2465\\AppData\\Roaming\\jupyter\\nbextensions\\table_beautifier\\main.js\n",
      "[I 00:11:37 InstallContribNbextensionsApp] Up to date: C:\\Users\\n2465\\AppData\\Roaming\\jupyter\\nbextensions\\table_beautifier\\README.md\n",
      "[I 00:11:37 InstallContribNbextensionsApp] Up to date: C:\\Users\\n2465\\AppData\\Roaming\\jupyter\\nbextensions\\table_beautifier\\table_beautifier.yaml\n",
      "[I 00:11:37 InstallContribNbextensionsApp] - Validating: ok\n",
      "[I 00:11:37 InstallContribNbextensionsApp] Installing C:\\Users\\n2465\\anaconda3\\Lib\\site-packages\\jupyter_contrib_nbextensions\\nbextensions\\toc2 -> toc2\n",
      "[I 00:11:37 InstallContribNbextensionsApp] Up to date: C:\\Users\\n2465\\AppData\\Roaming\\jupyter\\nbextensions\\toc2\\demo.gif\n",
      "[I 00:11:37 InstallContribNbextensionsApp] Up to date: C:\\Users\\n2465\\AppData\\Roaming\\jupyter\\nbextensions\\toc2\\demo2.gif\n",
      "[I 00:11:37 InstallContribNbextensionsApp] Up to date: C:\\Users\\n2465\\AppData\\Roaming\\jupyter\\nbextensions\\toc2\\demo3.gif\n",
      "[I 00:11:37 InstallContribNbextensionsApp] Up to date: C:\\Users\\n2465\\AppData\\Roaming\\jupyter\\nbextensions\\toc2\\demo_dark.png\n",
      "[I 00:11:37 InstallContribNbextensionsApp] Up to date: C:\\Users\\n2465\\AppData\\Roaming\\jupyter\\nbextensions\\toc2\\icon.png\n",
      "[I 00:11:37 InstallContribNbextensionsApp] Up to date: C:\\Users\\n2465\\AppData\\Roaming\\jupyter\\nbextensions\\toc2\\image.png\n",
      "[I 00:11:37 InstallContribNbextensionsApp] Up to date: C:\\Users\\n2465\\AppData\\Roaming\\jupyter\\nbextensions\\toc2\\main.css\n",
      "[I 00:11:37 InstallContribNbextensionsApp] Up to date: C:\\Users\\n2465\\AppData\\Roaming\\jupyter\\nbextensions\\toc2\\main.js\n",
      "[I 00:11:37 InstallContribNbextensionsApp] Up to date: C:\\Users\\n2465\\AppData\\Roaming\\jupyter\\nbextensions\\toc2\\README.md\n",
      "[I 00:11:37 InstallContribNbextensionsApp] Up to date: C:\\Users\\n2465\\AppData\\Roaming\\jupyter\\nbextensions\\toc2\\toc2.js\n",
      "[I 00:11:37 InstallContribNbextensionsApp] Up to date: C:\\Users\\n2465\\AppData\\Roaming\\jupyter\\nbextensions\\toc2\\toc2.yaml\n",
      "[I 00:11:37 InstallContribNbextensionsApp] - Validating: ok\n",
      "[I 00:11:37 InstallContribNbextensionsApp] Installing C:\\Users\\n2465\\anaconda3\\Lib\\site-packages\\jupyter_contrib_nbextensions\\nbextensions\\toggle_all_line_numbers -> toggle_all_line_numbers\n",
      "[I 00:11:37 InstallContribNbextensionsApp] Up to date: C:\\Users\\n2465\\AppData\\Roaming\\jupyter\\nbextensions\\toggle_all_line_numbers\\icon.png\n",
      "[I 00:11:37 InstallContribNbextensionsApp] Up to date: C:\\Users\\n2465\\AppData\\Roaming\\jupyter\\nbextensions\\toggle_all_line_numbers\\main.js\n",
      "[I 00:11:37 InstallContribNbextensionsApp] Up to date: C:\\Users\\n2465\\AppData\\Roaming\\jupyter\\nbextensions\\toggle_all_line_numbers\\main.yaml\n",
      "[I 00:11:37 InstallContribNbextensionsApp] Up to date: C:\\Users\\n2465\\AppData\\Roaming\\jupyter\\nbextensions\\toggle_all_line_numbers\\readme.md\n",
      "[I 00:11:37 InstallContribNbextensionsApp] - Validating: ok\n",
      "[I 00:11:37 InstallContribNbextensionsApp] Installing C:\\Users\\n2465\\anaconda3\\Lib\\site-packages\\jupyter_contrib_nbextensions\\nbextensions\\tree-filter -> tree-filter\n",
      "[I 00:11:37 InstallContribNbextensionsApp] Up to date: C:\\Users\\n2465\\AppData\\Roaming\\jupyter\\nbextensions\\tree-filter\\demo.gif\n",
      "[I 00:11:37 InstallContribNbextensionsApp] Up to date: C:\\Users\\n2465\\AppData\\Roaming\\jupyter\\nbextensions\\tree-filter\\index.js\n",
      "[I 00:11:37 InstallContribNbextensionsApp] Up to date: C:\\Users\\n2465\\AppData\\Roaming\\jupyter\\nbextensions\\tree-filter\\readme.md\n",
      "[I 00:11:37 InstallContribNbextensionsApp] Up to date: C:\\Users\\n2465\\AppData\\Roaming\\jupyter\\nbextensions\\tree-filter\\tree-filter.yaml\n",
      "[I 00:11:37 InstallContribNbextensionsApp] - Validating: ok\n",
      "[I 00:11:37 InstallContribNbextensionsApp] Installing C:\\Users\\n2465\\anaconda3\\Lib\\site-packages\\jupyter_contrib_nbextensions\\nbextensions\\varInspector -> varInspector\n",
      "[I 00:11:37 InstallContribNbextensionsApp] Up to date: C:\\Users\\n2465\\AppData\\Roaming\\jupyter\\nbextensions\\varInspector\\demo.gif\n",
      "[I 00:11:37 InstallContribNbextensionsApp] Up to date: C:\\Users\\n2465\\AppData\\Roaming\\jupyter\\nbextensions\\varInspector\\icon.png\n",
      "[I 00:11:37 InstallContribNbextensionsApp] Up to date: C:\\Users\\n2465\\AppData\\Roaming\\jupyter\\nbextensions\\varInspector\\jquery.tablesorter.min.js\n",
      "[I 00:11:37 InstallContribNbextensionsApp] Up to date: C:\\Users\\n2465\\AppData\\Roaming\\jupyter\\nbextensions\\varInspector\\main.css\n",
      "[I 00:11:37 InstallContribNbextensionsApp] Up to date: C:\\Users\\n2465\\AppData\\Roaming\\jupyter\\nbextensions\\varInspector\\main.js\n",
      "[I 00:11:37 InstallContribNbextensionsApp] Up to date: C:\\Users\\n2465\\AppData\\Roaming\\jupyter\\nbextensions\\varInspector\\README.md\n",
      "[I 00:11:37 InstallContribNbextensionsApp] Up to date: C:\\Users\\n2465\\AppData\\Roaming\\jupyter\\nbextensions\\varInspector\\tablesorter_LICENSE.txt\n",
      "[I 00:11:37 InstallContribNbextensionsApp] Up to date: C:\\Users\\n2465\\AppData\\Roaming\\jupyter\\nbextensions\\varInspector\\varInspector.yaml\n",
      "[I 00:11:37 InstallContribNbextensionsApp] Up to date: C:\\Users\\n2465\\AppData\\Roaming\\jupyter\\nbextensions\\varInspector\\var_list.py\n",
      "[I 00:11:37 InstallContribNbextensionsApp] Up to date: C:\\Users\\n2465\\AppData\\Roaming\\jupyter\\nbextensions\\varInspector\\var_list.r\n",
      "[I 00:11:37 InstallContribNbextensionsApp] Up to date: C:\\Users\\n2465\\AppData\\Roaming\\jupyter\\nbextensions\\varInspector\\__pycache__\\var_list.cpython-311.pyc\n",
      "[I 00:11:37 InstallContribNbextensionsApp] - Validating: ok\n",
      "[I 00:11:37 InstallContribNbextensionsApp] Installing C:\\Users\\n2465\\anaconda3\\Lib\\site-packages\\jupyter_contrib_nbextensions\\nbextensions\\zenmode -> zenmode\n",
      "[I 00:11:37 InstallContribNbextensionsApp] Up to date: C:\\Users\\n2465\\AppData\\Roaming\\jupyter\\nbextensions\\zenmode\\main.css\n",
      "[I 00:11:37 InstallContribNbextensionsApp] Up to date: C:\\Users\\n2465\\AppData\\Roaming\\jupyter\\nbextensions\\zenmode\\main.js\n",
      "[I 00:11:37 InstallContribNbextensionsApp] Up to date: C:\\Users\\n2465\\AppData\\Roaming\\jupyter\\nbextensions\\zenmode\\README.md\n",
      "[I 00:11:37 InstallContribNbextensionsApp] Up to date: C:\\Users\\n2465\\AppData\\Roaming\\jupyter\\nbextensions\\zenmode\\zenmode.yaml\n",
      "[I 00:11:37 InstallContribNbextensionsApp] Up to date: C:\\Users\\n2465\\AppData\\Roaming\\jupyter\\nbextensions\\zenmode\\images\\back1.jpg\n",
      "[I 00:11:37 InstallContribNbextensionsApp] Up to date: C:\\Users\\n2465\\AppData\\Roaming\\jupyter\\nbextensions\\zenmode\\images\\back11.jpg\n",
      "[I 00:11:37 InstallContribNbextensionsApp] Up to date: C:\\Users\\n2465\\AppData\\Roaming\\jupyter\\nbextensions\\zenmode\\images\\back12.jpg\n",
      "[I 00:11:37 InstallContribNbextensionsApp] Up to date: C:\\Users\\n2465\\AppData\\Roaming\\jupyter\\nbextensions\\zenmode\\images\\back2.jpg\n",
      "[I 00:11:37 InstallContribNbextensionsApp] Up to date: C:\\Users\\n2465\\AppData\\Roaming\\jupyter\\nbextensions\\zenmode\\images\\back21.jpg\n",
      "[I 00:11:37 InstallContribNbextensionsApp] Up to date: C:\\Users\\n2465\\AppData\\Roaming\\jupyter\\nbextensions\\zenmode\\images\\back22.jpg\n",
      "[I 00:11:37 InstallContribNbextensionsApp] Up to date: C:\\Users\\n2465\\AppData\\Roaming\\jupyter\\nbextensions\\zenmode\\images\\back3.jpg\n",
      "[I 00:11:37 InstallContribNbextensionsApp] Up to date: C:\\Users\\n2465\\AppData\\Roaming\\jupyter\\nbextensions\\zenmode\\images\\ipynblogo0.png\n",
      "[I 00:11:37 InstallContribNbextensionsApp] Up to date: C:\\Users\\n2465\\AppData\\Roaming\\jupyter\\nbextensions\\zenmode\\images\\ipynblogo1.png\n",
      "[I 00:11:37 InstallContribNbextensionsApp] - Validating: ok\n",
      "[I 00:11:37 InstallContribNbextensionsApp] Installing C:\\Users\\n2465\\anaconda3\\Lib\\site-packages\\jupyter_highlight_selected_word\\static\\highlight_selected_word -> highlight_selected_word\n",
      "[I 00:11:37 InstallContribNbextensionsApp] Up to date: C:\\Users\\n2465\\AppData\\Roaming\\jupyter\\nbextensions\\highlight_selected_word\\configurator.yaml\n",
      "[I 00:11:37 InstallContribNbextensionsApp] Up to date: C:\\Users\\n2465\\AppData\\Roaming\\jupyter\\nbextensions\\highlight_selected_word\\main.js\n",
      "[I 00:11:37 InstallContribNbextensionsApp] Up to date: C:\\Users\\n2465\\AppData\\Roaming\\jupyter\\nbextensions\\highlight_selected_word\\README.md\n",
      "[I 00:11:37 InstallContribNbextensionsApp] - Validating: ok\n",
      "[I 00:11:37 InstallContribNbextensionsApp] Installing jupyter_contrib_nbextensions items to config in C:\\Users\\n2465\\.jupyter\n",
      "Enabling: jupyter_nbextensions_configurator\n",
      "- Writing config: C:\\Users\\n2465\\.jupyter\n",
      "    - Validating...\n",
      "      jupyter_nbextensions_configurator 0.6.3 ok\n",
      "Enabling notebook nbextension nbextensions_configurator/config_menu/main...\n",
      "Enabling tree nbextension nbextensions_configurator/tree_tab/main...\n",
      "[I 00:11:38 InstallContribNbextensionsApp] Enabling notebook extension contrib_nbextensions_help_item/main...\n",
      "[I 00:11:38 InstallContribNbextensionsApp]       - Validating: ok\n",
      "[I 00:11:38 InstallContribNbextensionsApp] - Editing config: C:\\Users\\n2465\\.jupyter\\jupyter_nbconvert_config.json\n",
      "[I 00:11:38 InstallContribNbextensionsApp] --  Configuring nbconvert template path\n",
      "[I 00:11:38 InstallContribNbextensionsApp] --  Configuring nbconvert preprocessors\n",
      "[I 00:11:38 InstallContribNbextensionsApp] - Writing config: C:\\Users\\n2465\\.jupyter\\jupyter_nbconvert_config.json\n",
      "[I 00:11:38 InstallContribNbextensionsApp] --  Writing updated config file C:\\Users\\n2465\\.jupyter\\jupyter_nbconvert_config.json\n"
     ]
    },
    {
     "name": "stderr",
     "output_type": "stream",
     "text": [
      "Enabling: jupyter_nbextensions_configurator\n",
      "- Writing config: C:\\Users\\n2465\\.jupyter\n",
      "    - Validating...\n",
      "      jupyter_nbextensions_configurator 0.6.3 ok\n",
      "Enabling notebook nbextension nbextensions_configurator/config_menu/main...\n",
      "Enabling tree nbextension nbextensions_configurator/tree_tab/main...\n"
     ]
    }
   ],
   "source": [
    "!pip install jupyter_nbextensions_configurator jupyter_contrib_nbextensions\n",
    "!jupyter contrib nbextension install --user\n",
    "!jupyter nbextensions_configurator enable --user"
   ]
  },
  {
   "cell_type": "code",
   "execution_count": 1,
   "id": "c1c399c6",
   "metadata": {},
   "outputs": [
    {
     "name": "stdout",
     "output_type": "stream",
     "text": [
      "Collecting jupyterthemesNote: you may need to restart the kernel to use updated packages.\n",
      "\n",
      "  Downloading jupyterthemes-0.20.0-py2.py3-none-any.whl (7.0 MB)\n",
      "     ---------------------------------------- 0.0/7.0 MB ? eta -:--:--\n",
      "     ---------------------------------------- 0.0/7.0 MB ? eta -:--:--\n",
      "     ---------------------------------------- 0.0/7.0 MB 330.3 kB/s eta 0:00:22\n",
      "     - -------------------------------------- 0.2/7.0 MB 1.6 MB/s eta 0:00:05\n",
      "     -- ------------------------------------- 0.5/7.0 MB 3.6 MB/s eta 0:00:02\n",
      "     ------- -------------------------------- 1.2/7.0 MB 5.6 MB/s eta 0:00:02\n",
      "     ---------- ----------------------------- 1.8/7.0 MB 6.6 MB/s eta 0:00:01\n",
      "     ------------ --------------------------- 2.2/7.0 MB 7.1 MB/s eta 0:00:01\n",
      "     --------------- ------------------------ 2.8/7.0 MB 8.0 MB/s eta 0:00:01\n",
      "     ------------------ --------------------- 3.3/7.0 MB 8.5 MB/s eta 0:00:01\n",
      "     --------------------- ------------------ 3.8/7.0 MB 8.8 MB/s eta 0:00:01\n",
      "     ------------------------- -------------- 4.4/7.0 MB 9.1 MB/s eta 0:00:01\n",
      "     --------------------------- ------------ 4.9/7.0 MB 9.2 MB/s eta 0:00:01\n",
      "     ------------------------------- -------- 5.5/7.0 MB 9.4 MB/s eta 0:00:01\n",
      "     ---------------------------------- ----- 6.0/7.0 MB 9.6 MB/s eta 0:00:01\n",
      "     ------------------------------------- -- 6.6/7.0 MB 9.7 MB/s eta 0:00:01\n",
      "     ---------------------------------------  7.0/7.0 MB 10.0 MB/s eta 0:00:01\n",
      "     ---------------------------------------- 7.0/7.0 MB 9.6 MB/s eta 0:00:00\n",
      "Requirement already satisfied: jupyter-core in c:\\users\\n2465\\anaconda3\\lib\\site-packages (from jupyterthemes) (5.3.0)\n",
      "Requirement already satisfied: notebook>=5.6.0 in c:\\users\\n2465\\anaconda3\\lib\\site-packages (from jupyterthemes) (6.5.4)\n",
      "Requirement already satisfied: ipython>=5.4.1 in c:\\users\\n2465\\anaconda3\\lib\\site-packages (from jupyterthemes) (8.15.0)\n",
      "Requirement already satisfied: matplotlib>=1.4.3 in c:\\users\\n2465\\anaconda3\\lib\\site-packages (from jupyterthemes) (3.7.2)\n",
      "Collecting lesscpy>=0.11.2 (from jupyterthemes)\n",
      "  Obtaining dependency information for lesscpy>=0.11.2 from https://files.pythonhosted.org/packages/2a/da/4a20ba69c9c71ce3d522da5a3c617254d1d1430b71f52b7d46dbf2c06b96/lesscpy-0.15.1-py2.py3-none-any.whl.metadata\n",
      "  Downloading lesscpy-0.15.1-py2.py3-none-any.whl.metadata (6.0 kB)\n",
      "Requirement already satisfied: backcall in c:\\users\\n2465\\anaconda3\\lib\\site-packages (from ipython>=5.4.1->jupyterthemes) (0.2.0)\n",
      "Requirement already satisfied: decorator in c:\\users\\n2465\\anaconda3\\lib\\site-packages (from ipython>=5.4.1->jupyterthemes) (5.1.1)\n",
      "Requirement already satisfied: jedi>=0.16 in c:\\users\\n2465\\anaconda3\\lib\\site-packages (from ipython>=5.4.1->jupyterthemes) (0.18.1)\n",
      "Requirement already satisfied: matplotlib-inline in c:\\users\\n2465\\anaconda3\\lib\\site-packages (from ipython>=5.4.1->jupyterthemes) (0.1.6)\n",
      "Requirement already satisfied: pickleshare in c:\\users\\n2465\\anaconda3\\lib\\site-packages (from ipython>=5.4.1->jupyterthemes) (0.7.5)\n",
      "Requirement already satisfied: prompt-toolkit!=3.0.37,<3.1.0,>=3.0.30 in c:\\users\\n2465\\anaconda3\\lib\\site-packages (from ipython>=5.4.1->jupyterthemes) (3.0.36)\n",
      "Requirement already satisfied: pygments>=2.4.0 in c:\\users\\n2465\\anaconda3\\lib\\site-packages (from ipython>=5.4.1->jupyterthemes) (2.15.1)\n",
      "Requirement already satisfied: stack-data in c:\\users\\n2465\\anaconda3\\lib\\site-packages (from ipython>=5.4.1->jupyterthemes) (0.2.0)\n",
      "Requirement already satisfied: traitlets>=5 in c:\\users\\n2465\\anaconda3\\lib\\site-packages (from ipython>=5.4.1->jupyterthemes) (5.7.1)\n",
      "Requirement already satisfied: colorama in c:\\users\\n2465\\anaconda3\\lib\\site-packages (from ipython>=5.4.1->jupyterthemes) (0.4.6)\n",
      "Requirement already satisfied: ply in c:\\users\\n2465\\anaconda3\\lib\\site-packages (from lesscpy>=0.11.2->jupyterthemes) (3.11)\n",
      "Requirement already satisfied: contourpy>=1.0.1 in c:\\users\\n2465\\anaconda3\\lib\\site-packages (from matplotlib>=1.4.3->jupyterthemes) (1.0.5)\n",
      "Requirement already satisfied: cycler>=0.10 in c:\\users\\n2465\\anaconda3\\lib\\site-packages (from matplotlib>=1.4.3->jupyterthemes) (0.11.0)\n",
      "Requirement already satisfied: fonttools>=4.22.0 in c:\\users\\n2465\\anaconda3\\lib\\site-packages (from matplotlib>=1.4.3->jupyterthemes) (4.25.0)\n",
      "Requirement already satisfied: kiwisolver>=1.0.1 in c:\\users\\n2465\\anaconda3\\lib\\site-packages (from matplotlib>=1.4.3->jupyterthemes) (1.4.4)\n",
      "Requirement already satisfied: numpy>=1.20 in c:\\users\\n2465\\anaconda3\\lib\\site-packages (from matplotlib>=1.4.3->jupyterthemes) (1.24.3)\n",
      "Requirement already satisfied: packaging>=20.0 in c:\\users\\n2465\\anaconda3\\lib\\site-packages (from matplotlib>=1.4.3->jupyterthemes) (23.1)\n",
      "Requirement already satisfied: pillow>=6.2.0 in c:\\users\\n2465\\anaconda3\\lib\\site-packages (from matplotlib>=1.4.3->jupyterthemes) (9.4.0)\n",
      "Requirement already satisfied: pyparsing<3.1,>=2.3.1 in c:\\users\\n2465\\anaconda3\\lib\\site-packages (from matplotlib>=1.4.3->jupyterthemes) (3.0.9)\n",
      "Requirement already satisfied: python-dateutil>=2.7 in c:\\users\\n2465\\anaconda3\\lib\\site-packages (from matplotlib>=1.4.3->jupyterthemes) (2.8.2)\n",
      "Requirement already satisfied: jinja2 in c:\\users\\n2465\\anaconda3\\lib\\site-packages (from notebook>=5.6.0->jupyterthemes) (3.1.2)\n",
      "Requirement already satisfied: tornado>=6.1 in c:\\users\\n2465\\anaconda3\\lib\\site-packages (from notebook>=5.6.0->jupyterthemes) (6.3.2)\n",
      "Requirement already satisfied: pyzmq>=17 in c:\\users\\n2465\\anaconda3\\lib\\site-packages (from notebook>=5.6.0->jupyterthemes) (23.2.0)\n",
      "Requirement already satisfied: argon2-cffi in c:\\users\\n2465\\anaconda3\\lib\\site-packages (from notebook>=5.6.0->jupyterthemes) (21.3.0)\n",
      "Requirement already satisfied: jupyter-client>=5.3.4 in c:\\users\\n2465\\anaconda3\\lib\\site-packages (from notebook>=5.6.0->jupyterthemes) (7.4.9)\n",
      "Requirement already satisfied: ipython-genutils in c:\\users\\n2465\\anaconda3\\lib\\site-packages (from notebook>=5.6.0->jupyterthemes) (0.2.0)\n",
      "Requirement already satisfied: nbformat in c:\\users\\n2465\\anaconda3\\lib\\site-packages (from notebook>=5.6.0->jupyterthemes) (5.9.2)\n",
      "Requirement already satisfied: nbconvert>=5 in c:\\users\\n2465\\anaconda3\\lib\\site-packages (from notebook>=5.6.0->jupyterthemes) (6.5.4)\n",
      "Requirement already satisfied: nest-asyncio>=1.5 in c:\\users\\n2465\\anaconda3\\lib\\site-packages (from notebook>=5.6.0->jupyterthemes) (1.5.6)\n",
      "Requirement already satisfied: ipykernel in c:\\users\\n2465\\anaconda3\\lib\\site-packages (from notebook>=5.6.0->jupyterthemes) (6.25.0)\n",
      "Requirement already satisfied: Send2Trash>=1.8.0 in c:\\users\\n2465\\anaconda3\\lib\\site-packages (from notebook>=5.6.0->jupyterthemes) (1.8.0)\n",
      "Requirement already satisfied: terminado>=0.8.3 in c:\\users\\n2465\\anaconda3\\lib\\site-packages (from notebook>=5.6.0->jupyterthemes) (0.17.1)\n",
      "Requirement already satisfied: prometheus-client in c:\\users\\n2465\\anaconda3\\lib\\site-packages (from notebook>=5.6.0->jupyterthemes) (0.14.1)\n",
      "Requirement already satisfied: nbclassic>=0.4.7 in c:\\users\\n2465\\anaconda3\\lib\\site-packages (from notebook>=5.6.0->jupyterthemes) (0.5.5)\n",
      "Requirement already satisfied: platformdirs>=2.5 in c:\\users\\n2465\\anaconda3\\lib\\site-packages (from jupyter-core->jupyterthemes) (3.10.0)\n",
      "Requirement already satisfied: pywin32>=300 in c:\\users\\n2465\\anaconda3\\lib\\site-packages (from jupyter-core->jupyterthemes) (305.1)\n",
      "Requirement already satisfied: parso<0.9.0,>=0.8.0 in c:\\users\\n2465\\anaconda3\\lib\\site-packages (from jedi>=0.16->ipython>=5.4.1->jupyterthemes) (0.8.3)\n",
      "Requirement already satisfied: entrypoints in c:\\users\\n2465\\anaconda3\\lib\\site-packages (from jupyter-client>=5.3.4->notebook>=5.6.0->jupyterthemes) (0.4)\n",
      "Requirement already satisfied: jupyter-server>=1.8 in c:\\users\\n2465\\anaconda3\\lib\\site-packages (from nbclassic>=0.4.7->notebook>=5.6.0->jupyterthemes) (1.23.4)\n",
      "Requirement already satisfied: notebook-shim>=0.1.0 in c:\\users\\n2465\\anaconda3\\lib\\site-packages (from nbclassic>=0.4.7->notebook>=5.6.0->jupyterthemes) (0.2.2)\n",
      "Requirement already satisfied: lxml in c:\\users\\n2465\\anaconda3\\lib\\site-packages (from nbconvert>=5->notebook>=5.6.0->jupyterthemes) (4.9.3)\n",
      "Requirement already satisfied: beautifulsoup4 in c:\\users\\n2465\\anaconda3\\lib\\site-packages (from nbconvert>=5->notebook>=5.6.0->jupyterthemes) (4.12.2)\n",
      "Requirement already satisfied: bleach in c:\\users\\n2465\\anaconda3\\lib\\site-packages (from nbconvert>=5->notebook>=5.6.0->jupyterthemes) (4.1.0)\n",
      "Requirement already satisfied: defusedxml in c:\\users\\n2465\\anaconda3\\lib\\site-packages (from nbconvert>=5->notebook>=5.6.0->jupyterthemes) (0.7.1)\n",
      "Requirement already satisfied: jupyterlab-pygments in c:\\users\\n2465\\anaconda3\\lib\\site-packages (from nbconvert>=5->notebook>=5.6.0->jupyterthemes) (0.1.2)\n",
      "Requirement already satisfied: MarkupSafe>=2.0 in c:\\users\\n2465\\anaconda3\\lib\\site-packages (from nbconvert>=5->notebook>=5.6.0->jupyterthemes) (2.1.1)\n",
      "Requirement already satisfied: mistune<2,>=0.8.1 in c:\\users\\n2465\\anaconda3\\lib\\site-packages (from nbconvert>=5->notebook>=5.6.0->jupyterthemes) (0.8.4)\n",
      "Requirement already satisfied: nbclient>=0.5.0 in c:\\users\\n2465\\anaconda3\\lib\\site-packages (from nbconvert>=5->notebook>=5.6.0->jupyterthemes) (0.5.13)\n",
      "Requirement already satisfied: pandocfilters>=1.4.1 in c:\\users\\n2465\\anaconda3\\lib\\site-packages (from nbconvert>=5->notebook>=5.6.0->jupyterthemes) (1.5.0)\n",
      "Requirement already satisfied: tinycss2 in c:\\users\\n2465\\anaconda3\\lib\\site-packages (from nbconvert>=5->notebook>=5.6.0->jupyterthemes) (1.2.1)\n",
      "Requirement already satisfied: fastjsonschema in c:\\users\\n2465\\anaconda3\\lib\\site-packages (from nbformat->notebook>=5.6.0->jupyterthemes) (2.16.2)\n",
      "Requirement already satisfied: jsonschema>=2.6 in c:\\users\\n2465\\anaconda3\\lib\\site-packages (from nbformat->notebook>=5.6.0->jupyterthemes) (4.17.3)\n",
      "Requirement already satisfied: wcwidth in c:\\users\\n2465\\anaconda3\\lib\\site-packages (from prompt-toolkit!=3.0.37,<3.1.0,>=3.0.30->ipython>=5.4.1->jupyterthemes) (0.2.5)\n",
      "Requirement already satisfied: six>=1.5 in c:\\users\\n2465\\anaconda3\\lib\\site-packages (from python-dateutil>=2.7->matplotlib>=1.4.3->jupyterthemes) (1.16.0)\n",
      "Requirement already satisfied: pywinpty>=1.1.0 in c:\\users\\n2465\\anaconda3\\lib\\site-packages (from terminado>=0.8.3->notebook>=5.6.0->jupyterthemes) (2.0.10)\n",
      "Requirement already satisfied: argon2-cffi-bindings in c:\\users\\n2465\\anaconda3\\lib\\site-packages (from argon2-cffi->notebook>=5.6.0->jupyterthemes) (21.2.0)\n",
      "Requirement already satisfied: comm>=0.1.1 in c:\\users\\n2465\\anaconda3\\lib\\site-packages (from ipykernel->notebook>=5.6.0->jupyterthemes) (0.1.2)\n",
      "Requirement already satisfied: debugpy>=1.6.5 in c:\\users\\n2465\\anaconda3\\lib\\site-packages (from ipykernel->notebook>=5.6.0->jupyterthemes) (1.6.7)\n",
      "Requirement already satisfied: psutil in c:\\users\\n2465\\anaconda3\\lib\\site-packages (from ipykernel->notebook>=5.6.0->jupyterthemes) (5.9.0)\n",
      "Requirement already satisfied: executing in c:\\users\\n2465\\anaconda3\\lib\\site-packages (from stack-data->ipython>=5.4.1->jupyterthemes) (0.8.3)\n",
      "Requirement already satisfied: asttokens in c:\\users\\n2465\\anaconda3\\lib\\site-packages (from stack-data->ipython>=5.4.1->jupyterthemes) (2.0.5)\n",
      "Requirement already satisfied: pure-eval in c:\\users\\n2465\\anaconda3\\lib\\site-packages (from stack-data->ipython>=5.4.1->jupyterthemes) (0.2.2)\n",
      "Requirement already satisfied: attrs>=17.4.0 in c:\\users\\n2465\\anaconda3\\lib\\site-packages (from jsonschema>=2.6->nbformat->notebook>=5.6.0->jupyterthemes) (22.1.0)\n",
      "Requirement already satisfied: pyrsistent!=0.17.0,!=0.17.1,!=0.17.2,>=0.14.0 in c:\\users\\n2465\\anaconda3\\lib\\site-packages (from jsonschema>=2.6->nbformat->notebook>=5.6.0->jupyterthemes) (0.18.0)\n",
      "Requirement already satisfied: anyio<4,>=3.1.0 in c:\\users\\n2465\\anaconda3\\lib\\site-packages (from jupyter-server>=1.8->nbclassic>=0.4.7->notebook>=5.6.0->jupyterthemes) (3.5.0)\n",
      "Requirement already satisfied: websocket-client in c:\\users\\n2465\\anaconda3\\lib\\site-packages (from jupyter-server>=1.8->nbclassic>=0.4.7->notebook>=5.6.0->jupyterthemes) (0.58.0)\n",
      "Requirement already satisfied: cffi>=1.0.1 in c:\\users\\n2465\\anaconda3\\lib\\site-packages (from argon2-cffi-bindings->argon2-cffi->notebook>=5.6.0->jupyterthemes) (1.15.1)\n",
      "Requirement already satisfied: soupsieve>1.2 in c:\\users\\n2465\\anaconda3\\lib\\site-packages (from beautifulsoup4->nbconvert>=5->notebook>=5.6.0->jupyterthemes) (2.4)\n",
      "Requirement already satisfied: webencodings in c:\\users\\n2465\\anaconda3\\lib\\site-packages (from bleach->nbconvert>=5->notebook>=5.6.0->jupyterthemes) (0.5.1)\n",
      "Requirement already satisfied: idna>=2.8 in c:\\users\\n2465\\anaconda3\\lib\\site-packages (from anyio<4,>=3.1.0->jupyter-server>=1.8->nbclassic>=0.4.7->notebook>=5.6.0->jupyterthemes) (3.4)\n",
      "Requirement already satisfied: sniffio>=1.1 in c:\\users\\n2465\\anaconda3\\lib\\site-packages (from anyio<4,>=3.1.0->jupyter-server>=1.8->nbclassic>=0.4.7->notebook>=5.6.0->jupyterthemes) (1.2.0)\n",
      "Requirement already satisfied: pycparser in c:\\users\\n2465\\anaconda3\\lib\\site-packages (from cffi>=1.0.1->argon2-cffi-bindings->argon2-cffi->notebook>=5.6.0->jupyterthemes) (2.21)\n",
      "Downloading lesscpy-0.15.1-py2.py3-none-any.whl (46 kB)\n",
      "   ---------------------------------------- 0.0/46.7 kB ? eta -:--:--\n",
      "   ---------------------------------------- 46.7/46.7 kB 2.3 MB/s eta 0:00:00\n",
      "Installing collected packages: lesscpy, jupyterthemes\n",
      "Successfully installed jupyterthemes-0.20.0 lesscpy-0.15.1\n"
     ]
    }
   ],
   "source": [
    "pip install --upgrade jupyterthemes"
   ]
  },
  {
   "cell_type": "markdown",
   "id": "6eb3a399",
   "metadata": {
    "id": "6eb3a399"
   },
   "source": [
    "[공통] 마크다운 markdown 작성법\n",
    "======================"
   ]
  },
  {
   "cell_type": "markdown",
   "id": "7418f77b",
   "metadata": {
    "id": "7418f77b"
   },
   "source": [
    "> 영어지만, 조금 더 상세하게 마크다운 사용법을 안내하고 있는    \n",
    "> \"Markdown Guide (https://www.markdownguide.org/)\" 를 보시는 것을 추천합니다. ^^\n",
    "\n",
    "> 아, 그리고 마크다운만으로 표현이 부족하다고 느끼신다면, HTML 태그를 활용하시는 것도 좋습니다."
   ]
  },
  {
   "cell_type": "markdown",
   "id": "b91cc751",
   "metadata": {
    "id": "b91cc751"
   },
   "source": [
    "# 마크다운에 관하여\n",
    "## 마크다운이란?\n",
    "[**Markdown**](https://www.markdownguide.org/getting-started/)은 텍스트 기반의 마크업언어로 2004년 존그루버에 의해 만들어졌으며 쉽게 쓰고 읽을 수 있으며 HTML로 변환이 가능하다. 특수기호와 문자를 이용한 매우 간단한 구조의 문법을 사용하여 웹에서도 보다 빠르게 컨텐츠를 작성하고 보다 직관적으로 인식할 수 있다.\n",
    "마크다운이 최근 각광받기 시작한 이유는 깃헙([https://github.com](https://github.com)) 덕분이다. 깃헙의 저장소Repository에 관한 정보를 기록하는 README.md는 깃헙을 사용하는 사람이라면 누구나 가장 먼저 접하게 되는 마크다운 문서였다. 마크다운을 통해서 설치방법, 소스코드 설명, 이슈 등을 간단하게 기록하고 가독성을 높일 수 있다는 강점이 부각되면서 점점 여러 곳으로 퍼져가게 된다."
   ]
  },
  {
   "cell_type": "markdown",
   "id": "52bee78f",
   "metadata": {
    "id": "52bee78f"
   },
   "source": [
    "## 마크다운의 장-단점\n",
    "### 장점\n",
    "\t1. 간결하다.\n",
    "\t2. 별도의 도구없이 작성가능하다.\n",
    "\t3. 다양한 형태로 변환이 가능하다.\n",
    "\t4. 텍스트(Text)로 저장되기 때문에 용량이 적어 보관이 용이하다.\n",
    "\t5. 텍스트파일이기 때문에 버전관리시스템을 이용하여 변경이력을 관리할 수 있다.\n",
    "\t6. 지원하는 프로그램과 플랫폼이 다양하다."
   ]
  },
  {
   "cell_type": "markdown",
   "id": "df062fba",
   "metadata": {
    "id": "df062fba"
   },
   "source": [
    "### 단점\n",
    "\t1. 표준이 없다.\n",
    "\t2. 표준이 없기 때문에 도구에 따라서 변환방식이나 생성물이 다르다.\n",
    "\t3. 모든 HTML 마크업을 대신하지 못한다."
   ]
  },
  {
   "cell_type": "markdown",
   "id": "f529052c",
   "metadata": {
    "id": "f529052c"
   },
   "source": [
    "****\n",
    "# 마크다운 사용법(문법)"
   ]
  },
  {
   "cell_type": "markdown",
   "id": "0f2a2101",
   "metadata": {
    "id": "0f2a2101"
   },
   "source": [
    "## 헤더Headers\n",
    "* 큰제목: 문서 제목\n",
    "    ```\n",
    "    This is an H1\n",
    "    =============\n",
    "    ```    "
   ]
  },
  {
   "cell_type": "markdown",
   "id": "c7da2399",
   "metadata": {
    "id": "9e17c2ce"
   },
   "source": [
    "This is an H1\n",
    "=========="
   ]
  },
  {
   "cell_type": "markdown",
   "id": "e1508f8b",
   "metadata": {
    "id": "e1508f8b"
   },
   "source": [
    "* 작은제목: 문서 부제목\n",
    "    ```\n",
    "    This is an H2\n",
    "    -------------\n",
    "    ```"
   ]
  },
  {
   "cell_type": "markdown",
   "id": "ecd73307",
   "metadata": {
    "id": "c0896897"
   },
   "source": [
    "This is an H2\n",
    "------------------"
   ]
  },
  {
   "cell_type": "markdown",
   "id": "82ccde72",
   "metadata": {
    "id": "82ccde72"
   },
   "source": [
    "* 글머리: 1~6까지만 지원\n",
    "```\n",
    "# This is a H1\n",
    "## This is a H2\n",
    "### This is a H3\n",
    "#### This is a H4\n",
    "##### This is a H5\n",
    "###### This is a H6\n",
    "```"
   ]
  },
  {
   "cell_type": "markdown",
   "id": "a1065bf5",
   "metadata": {
    "id": "8ce8c928"
   },
   "source": [
    "# This is a H1\n",
    "## This is a H2\n",
    "### This is a H3\n",
    "#### This is a H4\n",
    "##### This is a H5\n",
    "###### This is a H6"
   ]
  },
  {
   "cell_type": "markdown",
   "id": "32662848",
   "metadata": {
    "id": "32662848"
   },
   "source": [
    "## BlockQuote\n",
    "이메일에서 사용하는 ```>``` 블럭인용문자를 이용한다.\n",
    "```\n",
    "> This is a first blockqute.\n",
    ">\t> This is a second blockqute.\n",
    ">\t>\t> This is a third blockqute.\n",
    "```"
   ]
  },
  {
   "cell_type": "markdown",
   "id": "573e36f3",
   "metadata": {
    "id": "4facc1d7"
   },
   "source": [
    "> This is a first blockqute.\n",
    ">   > This is a second blockqute.\n",
    ">   >   > This is a third blockqute."
   ]
  },
  {
   "cell_type": "markdown",
   "id": "8ba88720",
   "metadata": {
    "id": "8ba88720"
   },
   "source": [
    "이 안에서는 다른 마크다운 요소를 포함할 수 있다.\n",
    "> ### This is a H3\n",
    "> * List\n",
    ">\t```\n",
    ">\tcode\n",
    ">\t```"
   ]
  },
  {
   "cell_type": "markdown",
   "id": "ce116b02",
   "metadata": {
    "id": "5b6bdf82"
   },
   "source": [
    "> ### This is a H3\n",
    "> * list    \n",
    "> code"
   ]
  },
  {
   "cell_type": "markdown",
   "id": "324b0d35",
   "metadata": {
    "id": "324b0d35"
   },
   "source": [
    "## 목록\n",
    "### ● 순서있는 목록(번호)\n",
    "순서있는 목록은 숫자와 점을 사용한다.\n",
    "```\n",
    "1. 첫번째\n",
    "2. 두번째\n",
    "3. 세번째\n",
    "```"
   ]
  },
  {
   "cell_type": "markdown",
   "id": "e3fe6814",
   "metadata": {
    "id": "94159d31"
   },
   "source": [
    "1. 첫번째\n",
    "2. 두번째\n",
    "3. 세번째"
   ]
  },
  {
   "cell_type": "markdown",
   "id": "8aa4ea17",
   "metadata": {
    "id": "8aa4ea17"
   },
   "source": [
    "**현재까지는 어떤 번호를 입력해도 순서는 내림차순으로 정의된다.**\n",
    "```\n",
    "1. 첫번째\n",
    "3. 세번째\n",
    "2. 두번째\n",
    "```\n",
    "딱히 개선될 것 같지는 않다. 존 그루버가 신경안쓰고 있다고..."
   ]
  },
  {
   "cell_type": "markdown",
   "id": "8f5246bc",
   "metadata": {
    "id": "4df5ea36"
   },
   "source": [
    "1. 첫번째\n",
    "3. 세번째\n",
    "2. 두번째"
   ]
  },
  {
   "cell_type": "markdown",
   "id": "f13ae310",
   "metadata": {
    "id": "f13ae310"
   },
   "source": [
    "### ● 순서없는 목록(글머리 기호: `*`, `+`, `-` 지원)\n",
    "```\n",
    "* 빨강\n",
    "  * 녹색\n",
    "    * 파랑\n",
    "\n",
    "+ 빨강\n",
    "  + 녹색\n",
    "    + 파랑\n",
    "\n",
    "- 빨강\n",
    "  - 녹색\n",
    "    - 파랑\n",
    "```"
   ]
  },
  {
   "cell_type": "markdown",
   "id": "a10bd983",
   "metadata": {
    "id": "366e5292"
   },
   "source": [
    "* 빨강\n",
    "    * 녹색\n",
    "        * 파랑\n",
    "+ 빨강\n",
    "    + 녹색\n",
    "        + 파랑\n",
    "- 빨강\n",
    "    - 녹색\n",
    "        - 파랑"
   ]
  },
  {
   "cell_type": "markdown",
   "id": "4d4d8af3",
   "metadata": {
    "id": "4d4d8af3"
   },
   "source": [
    "혼합해서 사용하는 것도 가능하다(내가 선호하는 방식)\n",
    "```\n",
    "* 1단계\n",
    "  - 2단계\n",
    "    + 3단계\n",
    "      + 4단계\n",
    "```"
   ]
  },
  {
   "cell_type": "markdown",
   "id": "7652b346",
   "metadata": {
    "id": "2d2cce2f"
   },
   "source": [
    "* 1단계\n",
    "  - 2단계\n",
    "    + 3단계\n",
    "      + 4단계"
   ]
  },
  {
   "cell_type": "markdown",
   "id": "8b9f2b4c",
   "metadata": {
    "id": "8b9f2b4c"
   },
   "source": [
    "## 코드\n",
    "4개의 공백 또는 하나의 탭으로 들여쓰기를 만나면 변환되기 시작하여 들여쓰지 않은 행을 만날때까지 변환이 계속된다.\n",
    "\n",
    "### 들여쓰기\n",
    "```\n",
    "This is a normal paragraph:\n",
    "\n",
    "    This is a code block.\n",
    "    \n",
    "end code block.\n",
    "```"
   ]
  },
  {
   "cell_type": "markdown",
   "id": "2c876f2c",
   "metadata": {
    "id": "2c876f2c"
   },
   "source": [
    "실제로 적용해보면,\n",
    "\n",
    "적용예:\n",
    "\n",
    "*****\n",
    "This is a normal paragraph:\n",
    "\n",
    "    This is a code block.\n",
    "\n",
    "end code block.\n",
    "*****"
   ]
  },
  {
   "cell_type": "markdown",
   "id": "12ddfb46",
   "metadata": {
    "id": "3977da6e"
   },
   "source": [
    "This is a normal paragraph:\n",
    "\n",
    "    This is a code block.\n",
    "    \n",
    "end code block."
   ]
  },
  {
   "cell_type": "markdown",
   "id": "89085d5b",
   "metadata": {
    "id": "89085d5b"
   },
   "source": [
    "> 한줄 띄어쓰지 않으면 인식이 제대로 안되는 문제가 발생합니다.\n",
    "\n",
    "```\n",
    "This is a normal paragraph:\n",
    "    This is a code block.\n",
    "end code block.\n",
    "```\n",
    "\n",
    "적용예:\n",
    "\n",
    "*****\n",
    "This is a normal paragraph:\n",
    "    This is a code block.\n",
    "end code block.\n",
    "*****"
   ]
  },
  {
   "cell_type": "markdown",
   "id": "e7cc0c91",
   "metadata": {
    "id": "c59b22fe"
   },
   "source": [
    "This is a normal paragraph:\n",
    "    This is a code block.\n",
    "end code block."
   ]
  },
  {
   "cell_type": "markdown",
   "id": "a802ec0d",
   "metadata": {
    "id": "a802ec0d"
   },
   "source": [
    "### 코드블럭\n",
    "코드블럭은 다음과 같이 2가지 방식을 사용할 수 있습니다:\n",
    "\n",
    "* `<pre><code>{code}</code></pre>` 이용방식\n",
    "\n",
    "```\n",
    "<pre>\n",
    "<code>\n",
    "public class BootSpringBootApplication {\n",
    "  public static void main(String[] args) {\n",
    "    System.out.println(\"Hello, Honeymon\");\n",
    "  }\n",
    "\n",
    "}\n",
    "</code>\n",
    "</pre>\n",
    "```"
   ]
  },
  {
   "cell_type": "markdown",
   "id": "1753b3e9",
   "metadata": {
    "id": "847a8c05"
   },
   "source": [
    "<pre>\n",
    "<code>\n",
    "public class BootSpringBootApplication {\n",
    "  public static void main(String[] args) {\n",
    "    System.out.println(\"Hello, Honeymon\");\n",
    "  }\n",
    "\n",
    "}\n",
    "</code>\n",
    "</pre>"
   ]
  },
  {
   "cell_type": "markdown",
   "id": "b2335af2",
   "metadata": {
    "id": "b2335af2"
   },
   "source": [
    "* 코드블럭코드(\"\\```\") 을 이용하는 방법\n",
    "\n",
    "```\n",
    "public class BootSpringBootApplication {\n",
    "  public static void main(String[] args) {\n",
    "    System.out.println(\"Hello, Honeymon\");\n",
    "  }\n",
    "}\n",
    "```\n"
   ]
  },
  {
   "cell_type": "markdown",
   "id": "59a3fe48",
   "metadata": {
    "id": "03f7529e"
   },
   "source": [
    "```\n",
    "public class BootSpringBootApplication {\n",
    "  public static void main(String[] args) {\n",
    "    System.out.println(\"Hello, Honeymon\");\n",
    "  }\n",
    "}\n",
    "```"
   ]
  },
  {
   "cell_type": "markdown",
   "id": "2b7ac88a",
   "metadata": {
    "id": "2b7ac88a"
   },
   "source": [
    "**깃헙**에서는 코드블럭코드(\"\\```\") 시작점에 사용하는 언어를 선언하여 [문법강조(Syntax highlighting)](https://docs.github.com/en/github/writing-on-github/creating-and-highlighting-code-blocks#syntax-highlighting)이 가능하다.\n",
    "```java\n",
    "public class BootSpringBootApplication {\n",
    "  public static void main(String[] args) {\n",
    "    System.out.println(\"Hello, Honeymon\");\n",
    "  }\n",
    "}\n",
    "```"
   ]
  },
  {
   "cell_type": "markdown",
   "id": "0cd6b21d",
   "metadata": {
    "id": "54b3b026"
   },
   "source": [
    "```java\n",
    "public class BootSpringBootApplication {\n",
    "  public static void main(String[] args) {\n",
    "    System.out.println(\"Hello, Honeymon\");\n",
    "  }\n",
    "}\n",
    "```"
   ]
  },
  {
   "cell_type": "markdown",
   "id": "383ba082",
   "metadata": {
    "id": "383ba082"
   },
   "source": [
    "## 수평선\n",
    "아래 줄은 모두 수평선을 만든다. 마크다운 문서를 미리보기로 출력할 때 *페이지 나누기* 용도로 많이 사용한다.\n",
    "\n",
    "```\n",
    "* * *\n",
    "\n",
    "***\n",
    "\n",
    "*****\n",
    "\n",
    "- - -\n",
    "\n",
    "---------------------------------------\n",
    "```"
   ]
  },
  {
   "cell_type": "markdown",
   "id": "de9b5662",
   "metadata": {
    "id": "595b4ec3"
   },
   "source": [
    "* * *\n",
    "***\n",
    "*****\n",
    "- - -\n",
    "------------------------------"
   ]
  },
  {
   "cell_type": "markdown",
   "id": "2b68ac1a",
   "metadata": {
    "id": "2b68ac1a"
   },
   "source": [
    "## 링크\n",
    "* 참조링크\n",
    "\n",
    "```\n",
    "[link keyword][id]\n",
    "\n",
    "[id]: URL \"Optional Title here\"\n",
    "\n",
    "// code\n",
    "Link: [Google][googlelink]\n",
    "\n",
    "[googlelink]: https://google.com \"Go google\"\n",
    "```"
   ]
  },
  {
   "cell_type": "markdown",
   "id": "37e60837",
   "metadata": {
    "id": "799de18d"
   },
   "source": [
    "link: [Naver][weblink]\n",
    "\n",
    "[weblink]: https://www.naver.com \"go to Naver\""
   ]
  },
  {
   "cell_type": "markdown",
   "id": "477f50c0",
   "metadata": {
    "id": "477f50c0"
   },
   "source": [
    "* 외부링크\n",
    "```\n",
    "사용문법: [Title](link)\n",
    "적용예: [Google](https://google.com \"google link\") # 쉼표를 주소로 인식하는 오류 주의\n",
    "```"
   ]
  },
  {
   "cell_type": "markdown",
   "id": "67535dcb",
   "metadata": {
    "id": "954b6e5e"
   },
   "source": [
    "[Naver](https://www.naver.com \"Naver link\")"
   ]
  },
  {
   "cell_type": "markdown",
   "id": "72d3745b",
   "metadata": {
    "id": "72d3745b"
   },
   "source": [
    "* 자동연결\n",
    "```\n",
    "일반적인 URL 혹은 이메일주소인 경우 적절한 형식으로 링크를 형성한다.\n",
    "\n",
    "* 외부링크: <http://example.com/>\n",
    "* 이메일링크: <address@example.com>\n",
    "```"
   ]
  },
  {
   "cell_type": "markdown",
   "id": "3870d38a",
   "metadata": {
    "id": "c8f9352b"
   },
   "source": [
    "* 외부 링크 : https://www.naver.com/"
   ]
  },
  {
   "cell_type": "markdown",
   "id": "9c503991",
   "metadata": {
    "id": "9c503991"
   },
   "source": [
    "## 2.7. 강조\n",
    "```\n",
    "*single asterisks*\n",
    "_single underscores_\n",
    "**double asterisks**\n",
    "__double underscores__\n",
    "~~cancelline~~\n",
    "```"
   ]
  },
  {
   "cell_type": "markdown",
   "id": "e50a4ec0",
   "metadata": {
    "id": "fa362d24"
   },
   "source": [
    "*강조*  \n",
    "_강조_  \n",
    "**강조**  \n",
    "__강조__  \n",
    "~~강조~~ "
   ]
  },
  {
   "cell_type": "markdown",
   "id": "10623985",
   "metadata": {
    "id": "10623985"
   },
   "source": [
    "> ```문장 중간에 사용할 경우에는 **띄어쓰기** 를 사용하는 것이 좋다.```   \n",
    "> 문장 중간에 사용할 경우에는 띄어쓰기를 사용하는 것이 좋다."
   ]
  },
  {
   "cell_type": "markdown",
   "id": "29e0c576",
   "metadata": {
    "id": "aeb219d6"
   },
   "source": [
    "문장 중간에 사용할 경우에는 **띄어쓰기**를 사용하는 것이 좋다."
   ]
  },
  {
   "cell_type": "markdown",
   "id": "87ff90be",
   "metadata": {
    "id": "87ff90be"
   },
   "source": [
    "## 이미지\n",
    "```\n",
    "# 마크다운 안에 삽입\n",
    "![Alt text](/path/to/img.jpg)\n",
    "![Alt text](/path/to/img.jpg \"Optional title\")\n",
    "# 코드블럭에 삽입\n",
    "![image.png](attachment:image.png)\n",
    "```\n",
    "\n",
    "![석촌호수 러버덕](http://cfile6.uf.tistory.com/image/2426E646543C9B4532C7B0)\n",
    "![석촌호수 러버덕](http://cfile6.uf.tistory.com/image/2426E646543C9B4532C7B0 \"RubberDuck\")"
   ]
  },
  {
   "cell_type": "markdown",
   "id": "9985328f",
   "metadata": {
    "id": "40b580d9"
   },
   "source": [
    "![Alt text](../dataset/wonka.jpg \"Wonka\")"
   ]
  },
  {
   "cell_type": "markdown",
   "id": "f9d46842",
   "metadata": {
    "id": "f9d46842"
   },
   "source": [
    "사이즈 조절 기능은 없기 때문에 ```<img width=\"\" height=\"\"></img>```를 이용한다.\n",
    "\n",
    "예\n",
    "```\n",
    "<img src=\"/path/to/img.jpg\" width=\"450px\" height=\"300px\" title=\"px(픽셀) 크기 설정\" alt=\"RubberDuck\"></img><br/>\n",
    "<img src=\"/path/to/img.jpg\" width=\"40%\" height=\"30%\" title=\"px(픽셀) 크기 설정\" alt=\"RubberDuck\"></img>\n",
    "```\n",
    "\n",
    "<img src=\"http://cfile6.uf.tistory.com/image/2426E646543C9B4532C7B0\" width=\"450px\" height=\"300px\" title=\"px(픽셀) 크기 설정\" alt=\"RubberDuck\"></img><br/>\n",
    "<img src=\"http://cfile6.uf.tistory.com/image/2426E646543C9B4532C7B0\" width=\"40%\" height=\"30%\" title=\"%(비율) 크기 설정\" alt=\"RubberDuck\"></img>"
   ]
  },
  {
   "cell_type": "code",
   "execution_count": 1,
   "id": "4de2526a",
   "metadata": {},
   "outputs": [
    {
     "data": {
      "text/plain": [
       "'C:\\\\workspace\\\\wassup2\\\\wassup2\\\\python_grammer'"
      ]
     },
     "execution_count": 1,
     "metadata": {},
     "output_type": "execute_result"
    }
   ],
   "source": [
    "pwd"
   ]
  },
  {
   "cell_type": "markdown",
   "id": "f6e15744",
   "metadata": {
    "id": "d63eaa67"
   },
   "source": [
    "<img src=\"https://file2.nocutnews.co.kr/newsroom/image/2024/01/23/202401232019090310_0.jpg\" width=\"450px\" height=\"300px\" title=\"px(픽셀) 크기 설정\" alt=\"Wonka\"></img><br/>\n",
    "<img src=\"../dataset/wonka.jpg\" width=\"40%\" height=\"30%\" title=\"px(픽셀) 크기 설정\" alt=\"Wonka\"></img>"
   ]
  },
  {
   "cell_type": "markdown",
   "id": "1a929d99",
   "metadata": {
    "id": "1a929d99"
   },
   "source": [
    "## 줄바꿈\n",
    "```\n",
    "* 줄 바꿈을 하기 위해서는 문장 마지막에서 3칸이상을 띄어쓰기해야 한다.\n",
    "이렇게\n",
    "\n",
    "* 줄 바꿈을 하기 위해서는 문장 마지막에서 3칸이상을 띄어쓰기해야 한다.___\\\\ 띄어쓰기\n",
    "이렇게\n",
    "```"
   ]
  },
  {
   "cell_type": "markdown",
   "id": "715d5364",
   "metadata": {
    "id": "a6054667"
   },
   "source": [
    "오오옹  \n",
    "오오옹"
   ]
  },
  {
   "cell_type": "markdown",
   "id": "dd6d2afd",
   "metadata": {
    "id": "dd6d2afd"
   },
   "source": [
    "## 테이블"
   ]
  },
  {
   "cell_type": "markdown",
   "id": "016a44ca",
   "metadata": {
    "id": "016a44ca"
   },
   "source": [
    "### 일반적인 표\n",
    "\n",
    "문자와 — 문자로 표를 만들 수 있습니다.\n",
    "```\n",
    "|제목|내용|설명|\n",
    "|------|---|---|\n",
    "|테스트1|테스트2|테스트3|\n",
    "|테스트1|테스트2|테스트3|\n",
    "|테스트1|테스트2|테스트3|\n",
    "```"
   ]
  },
  {
   "cell_type": "markdown",
   "id": "c0e8664b",
   "metadata": {
    "executionInfo": {
     "elapsed": 3,
     "status": "ok",
     "timestamp": 1700617950330,
     "user": {
      "displayName": "Seunghye Kim",
      "userId": "03123368174336215832"
     },
     "user_tz": -540
    },
    "id": "a3467ca3"
   },
   "source": [
    "|제목|내용|설명|\n",
    "|------|---|---|\n",
    "|테스트1|테스트2|테스트3|\n",
    "|테스트1|테스트2|테스트3|\n",
    "|테스트1|테스트2|테스트3|"
   ]
  },
  {
   "cell_type": "markdown",
   "id": "08613f3a",
   "metadata": {
    "id": "08613f3a"
   },
   "source": [
    "### 정렬\n",
    ": 문자로 정렬을 정의할 수 있습니다.\n",
    "```\n",
    "|제목|내용|설명|\n",
    "|:---|---:|:---:|\n",
    "|왼쪽정렬|오른쪽정렬|중앙정렬|\n",
    "|왼쪽정렬|오른쪽정렬|중앙정렬|\n",
    "|왼쪽정렬|오른쪽정렬|중앙정렬|\n",
    "```"
   ]
  },
  {
   "cell_type": "markdown",
   "id": "2ac87a61",
   "metadata": {
    "id": "96585085"
   },
   "source": [
    "|제목|내용|설명|\n",
    "|:---|---:|:---:|\n",
    "|왼쪽정렬|오른쪽정렬|중앙정렬|\n",
    "|왼쪽정렬|오른쪽정렬|중앙정렬|\n",
    "|왼쪽정렬|오른쪽정렬|중앙정렬|"
   ]
  },
  {
   "cell_type": "markdown",
   "id": "2420807a",
   "metadata": {
    "id": "2420807a"
   },
   "source": [
    "### 셀 확장\n",
    "사이가 비어있으면 자동 확장됩니다.\n",
    "```\n",
    "|제목|내용|설명|\n",
    "|:---|:---:|---:|\n",
    "||중앙에서확장||\n",
    "|||오른쪽에서 확장|\n",
    "|왼쪽에서확장||\n",
    "```"
   ]
  },
  {
   "cell_type": "markdown",
   "id": "2feec3c6",
   "metadata": {
    "id": "1e41e289"
   },
   "source": [
    "|제목|내용|설명|\n",
    "|:---|:---:|---:|\n",
    "||중앙에서확장||\n",
    "|||오른쪽에서 확장|\n",
    "|왼쪽에서확장||"
   ]
  },
  {
   "cell_type": "markdown",
   "id": "030c56ab",
   "metadata": {
    "id": "030c56ab"
   },
   "source": [
    "### 셀 강조\n",
    "일반적인 text와 마찬가지로 * 와 ** 를 통해 이탤릭/강조를 표시할 수 있습니다. span tag를 사용하면 컬러도 표시할 수 있습니다.\n",
    "```\n",
    "|제목|내용|설명|\n",
    "|---|---|---|\n",
    "|테스트1|*강조1*|테스트3|\n",
    "|테스트1|**강조2**|테스트3|\n",
    "|테스트1|<span style=\"color:red\">강조3</span>|테스트3|\n",
    "```"
   ]
  },
  {
   "cell_type": "markdown",
   "id": "8470a558",
   "metadata": {
    "id": "623c0509"
   },
   "source": [
    "|제목|내용|설명|\n",
    "|---|---|---|\n",
    "|테스트1|*강조1*|테스트3|\n",
    "|테스트1|**강조2**|테스트3|\n",
    "|테스트1|<span style=\"color:red\">강조3</span>|테스트3|"
   ]
  },
  {
   "cell_type": "markdown",
   "id": "57d175b2",
   "metadata": {
    "id": "57d175b2"
   },
   "source": [
    "#  수학 기호 LaTex표기법\n",
    "사칙연산, 분수, 제곱, 루트, 시그마, 로그, 행렬, 극한 등 수학 기호 및 수식 등 을 표현할 수 있다.\n",
    "[블로그 참고](https://velog.io/@d2h10s/LaTex-Markdown-%EC%88%98%EC%8B%9D-%EC%9E%91%EC%84%B1%EB%B2%95)"
   ]
  },
  {
   "cell_type": "markdown",
   "id": "84afbc0e",
   "metadata": {
    "id": "5c7beefd"
   },
   "source": [
    "$$\n",
    "f(x)=ax^2+bx+c\\\\\n",
    "g(x)=Ax^4\n",
    "$$"
   ]
  }
 ],
 "metadata": {
  "colab": {
   "provenance": []
  },
  "kernelspec": {
   "display_name": "Python 3 (ipykernel)",
   "language": "python",
   "name": "python3"
  },
  "language_info": {
   "codemirror_mode": {
    "name": "ipython",
    "version": 3
   },
   "file_extension": ".py",
   "mimetype": "text/x-python",
   "name": "python",
   "nbconvert_exporter": "python",
   "pygments_lexer": "ipython3",
   "version": "3.11.5"
  },
  "toc": {
   "base_numbering": 1,
   "nav_menu": {},
   "number_sections": true,
   "sideBar": true,
   "skip_h1_title": false,
   "title_cell": "Table of Contents",
   "title_sidebar": "Contents",
   "toc_cell": false,
   "toc_position": {
    "height": "calc(100% - 180px)",
    "left": "10px",
    "top": "150px",
    "width": "307.2px"
   },
   "toc_section_display": true,
   "toc_window_display": false
  },
  "varInspector": {
   "cols": {
    "lenName": 16,
    "lenType": 16,
    "lenVar": 40
   },
   "kernels_config": {
    "python": {
     "delete_cmd_postfix": "",
     "delete_cmd_prefix": "del ",
     "library": "var_list.py",
     "varRefreshCmd": "print(var_dic_list())"
    },
    "r": {
     "delete_cmd_postfix": ") ",
     "delete_cmd_prefix": "rm(",
     "library": "var_list.r",
     "varRefreshCmd": "cat(var_dic_list()) "
    }
   },
   "types_to_exclude": [
    "module",
    "function",
    "builtin_function_or_method",
    "instance",
    "_Feature"
   ],
   "window_display": false
  }
 },
 "nbformat": 4,
 "nbformat_minor": 5
}
