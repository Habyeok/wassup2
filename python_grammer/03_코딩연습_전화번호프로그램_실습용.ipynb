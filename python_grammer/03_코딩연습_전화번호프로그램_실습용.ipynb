{
 "cells": [
  {
   "cell_type": "markdown",
   "metadata": {},
   "source": [
    "# 전화번호 프로그램 만들기\n",
    "\n",
    "* 홍길동 010-123-4567\n",
    "* 기능1 : 연락처 추가\n",
    "* 기능2 : 연락처 전체 보기\n",
    "* 기능3 : 검색, 이름을 입력받아서 전화번호 조회\n",
    "* 기능4 : 수정, 이름을 입력받아서 전화번호 입력수정\n",
    "* 기능5 : 삭제, 이름 입력받아서 삭제\n",
    "* 기능6 : 프로그램 종료"
   ]
  },
  {
   "cell_type": "code",
   "execution_count": null,
   "metadata": {},
   "outputs": [],
   "source": [
    "number = {}\n",
    "while True:\n",
    "    info = input('이름:번호 = ')\n",
    "    \n",
    "    if info:\n",
    "        key, value = info.split(':')\n",
    "        number[key] = value\n",
    "    print(number)\n",
    "    search = input('이름 = ')\n",
    "    if search in number.keys():\n",
    "        print(number.values())\n",
    "        newnumber = input('번호 = ')\n",
    "        number[search] = newnumber\n",
    "        del number[search]\n",
    "break"
   ]
  },
  {
   "cell_type": "markdown",
   "metadata": {},
   "source": [
    "## 요구사항 분석 및 설계"
   ]
  },
  {
   "cell_type": "markdown",
   "metadata": {},
   "source": [
    "- I/O 데이터 정의\n",
    "- 홍길동, 010-123-4456 -> 딕셔너리 key:value\n",
    "- 사용자 입력을 받아야 되겠구나. input()\n",
    "- 프로그램 만들 때 while문 (반복해서 동작)\n",
    "- 기능1,2,3,4,5,6: if 분기문 -> interface 정책: 숫자를 입력했을 때 해당 기능이 동작 => 이 부분 생각을 구체적으로 못했다!\n",
    "- 기능1: dict[key] = value # dict.setdefault()\n",
    "- 기능2: print(dict) # dict.items()도 해보기\n",
    "- 기능3: dict[key]\n",
    "- 기능4: dict[key] = value\n",
    "- 기능5: del dict[key]\n",
    "- 기능6: break -> break 먼저 실행\n",
    "- 종료 -> 데이터 추가 -> 조회 -> 검색, 수정, ..."
   ]
  },
  {
   "cell_type": "code",
   "execution_count": 55,
   "metadata": {},
   "outputs": [
    {
     "name": "stdout",
     "output_type": "stream",
     "text": [
      "----- 전화번호부 프로그램 -----\n",
      "1.추가   2. 조회   3. 검색   4.수정   5.삭제      --- 9.종료\n",
      "메뉴를 선택해 주세요 (번호 입력): 1\n",
      "연락처를 추가합니다.\n",
      "이름: 김다혜\n",
      "전화번호(000-0000-0000): 010-1111-1111\n",
      "----- 전화번호부 프로그램 -----\n",
      "1.추가   2. 조회   3. 검색   4.수정   5.삭제      --- 9.종료\n",
      "메뉴를 선택해 주세요 (번호 입력): 2\n",
      "연락처를 조회합니다.\n",
      "김다혜 : 010-1111-1111\n",
      "----- 전화번호부 프로그램 -----\n",
      "1.추가   2. 조회   3. 검색   4.수정   5.삭제      --- 9.종료\n",
      "메뉴를 선택해 주세요 (번호 입력): 3\n",
      "연락처를 검색합니다.\n",
      "검색 이름: 김다혜\n",
      "010-1111-1111\n",
      "----- 전화번호부 프로그램 -----\n",
      "1.추가   2. 조회   3. 검색   4.수정   5.삭제      --- 9.종료\n",
      "메뉴를 선택해 주세요 (번호 입력): 4\n",
      "연락처를 수정합니다.\n",
      "수정 이름: 김다혜\n",
      "새 전화번호: 010-2222-2222\n",
      "----- 전화번호부 프로그램 -----\n",
      "1.추가   2. 조회   3. 검색   4.수정   5.삭제      --- 9.종료\n",
      "메뉴를 선택해 주세요 (번호 입력): 2\n",
      "연락처를 조회합니다.\n",
      "김다혜 : 010-2222-2222\n",
      "----- 전화번호부 프로그램 -----\n",
      "1.추가   2. 조회   3. 검색   4.수정   5.삭제      --- 9.종료\n",
      "메뉴를 선택해 주세요 (번호 입력): 4\n",
      "연락처를 수정합니다.\n",
      "수정 이름: ㅂㅂㅂ\n",
      "등록되지 않은 이름입니다.\n",
      "----- 전화번호부 프로그램 -----\n",
      "1.추가   2. 조회   3. 검색   4.수정   5.삭제      --- 9.종료\n",
      "메뉴를 선택해 주세요 (번호 입력): 5\n",
      "연락처를 삭제합니다.\n",
      "삭제 이름: ㅂㅂㅂ\n",
      "등록되지 않은 이름입니다.\n",
      "----- 전화번호부 프로그램 -----\n",
      "1.추가   2. 조회   3. 검색   4.수정   5.삭제      --- 9.종료\n",
      "메뉴를 선택해 주세요 (번호 입력): 5\n",
      "연락처를 삭제합니다.\n",
      "삭제 이름: 김다혜\n",
      "----- 전화번호부 프로그램 -----\n",
      "1.추가   2. 조회   3. 검색   4.수정   5.삭제      --- 9.종료\n",
      "메뉴를 선택해 주세요 (번호 입력): 2\n",
      "연락처를 조회합니다.\n",
      "----- 전화번호부 프로그램 -----\n",
      "1.추가   2. 조회   3. 검색   4.수정   5.삭제      --- 9.종료\n",
      "메뉴를 선택해 주세요 (번호 입력): 9\n",
      "프로그램을 종료합니다.\n"
     ]
    }
   ],
   "source": [
    "contact = {}\n",
    "\n",
    "while True:\n",
    "    print('----- 전화번호부 프로그램 -----')\n",
    "    print('1.추가   2. 조회   3. 검색   4.수정   5.삭제      --- 9.종료')\n",
    "    \n",
    "    menu = int(input('메뉴를 선택해 주세요 (번호 입력): '))\n",
    "    \n",
    "    if menu == 1:\n",
    "        print('연락처를 추가합니다.')\n",
    "        new_name = input('이름: ')\n",
    "        new_tel = input('전화번호(000-0000-0000): ')\n",
    "        # contact[new_name] = new_number # 덮어쓰기가 되어서 사용할 수 없다.\n",
    "        contact.setdefault(new_name, new_tel)\n",
    "        \n",
    "    elif menu == 2:\n",
    "        print('연락처를 조회합니다.')\n",
    "        for name, tel in contact.items():\n",
    "            print(name, ':', tel)\n",
    "        \n",
    "    elif menu == 3:\n",
    "        print('연락처를 검색합니다.')\n",
    "        search_name = input('검색 이름: ')\n",
    "        # print(contact[search_name])\n",
    "        print(contact.get(search_name, '없는 연락처입니다.'))\n",
    "        \n",
    "    elif menu == 4:\n",
    "        print('연락처를 수정합니다.')\n",
    "        mod_name = input('수정 이름: ') # 연락처에 있을 경우에만 새 전화번호를 묻는 것이 좋은 시나리오 아닐까?\n",
    "        \n",
    "        if mod_name in contact:\n",
    "            mod_tel = input('새 전화번호: ')\n",
    "            contact[mod_name] = mod_tel\n",
    "        else:\n",
    "            print('등록되지 않은 이름입니다.')\n",
    "        \n",
    "    elif menu == 5:\n",
    "        print('연락처를 삭제합니다.')\n",
    "        del_name = input('삭제 이름: ') # 연락처에 있을 경우에만 새 전화번호를 묻는 것이 좋은 시나리오 아닐까?\n",
    "        \n",
    "        if del_name in contact:\n",
    "            del contact[del_name]\n",
    "        else:\n",
    "            print('등록되지 않은 이름입니다.')\n",
    "        \n",
    "    elif menu == 9:\n",
    "        print('프로그램을 종료합니다.')\n",
    "        break\n",
    "    \n",
    "    else:\n",
    "        print('잘못된 입력입니다.')"
   ]
  },
  {
   "cell_type": "code",
   "execution_count": 46,
   "metadata": {},
   "outputs": [],
   "source": [
    "contact.setdefault?"
   ]
  },
  {
   "cell_type": "code",
   "execution_count": 52,
   "metadata": {},
   "outputs": [],
   "source": [
    "contact.get?"
   ]
  },
  {
   "cell_type": "code",
   "execution_count": null,
   "metadata": {},
   "outputs": [],
   "source": []
  }
 ],
 "metadata": {
  "kernelspec": {
   "display_name": "Python 3 (ipykernel)",
   "language": "python",
   "name": "python3"
  },
  "language_info": {
   "codemirror_mode": {
    "name": "ipython",
    "version": 3
   },
   "file_extension": ".py",
   "mimetype": "text/x-python",
   "name": "python",
   "nbconvert_exporter": "python",
   "pygments_lexer": "ipython3",
   "version": "3.11.5"
  },
  "toc": {
   "base_numbering": 1,
   "nav_menu": {},
   "number_sections": true,
   "sideBar": true,
   "skip_h1_title": false,
   "title_cell": "Table of Contents",
   "title_sidebar": "Contents",
   "toc_cell": false,
   "toc_position": {},
   "toc_section_display": true,
   "toc_window_display": false
  },
  "varInspector": {
   "cols": {
    "lenName": 16,
    "lenType": 16,
    "lenVar": 40
   },
   "kernels_config": {
    "python": {
     "delete_cmd_postfix": "",
     "delete_cmd_prefix": "del ",
     "library": "var_list.py",
     "varRefreshCmd": "print(var_dic_list())"
    },
    "r": {
     "delete_cmd_postfix": ") ",
     "delete_cmd_prefix": "rm(",
     "library": "var_list.r",
     "varRefreshCmd": "cat(var_dic_list()) "
    }
   },
   "types_to_exclude": [
    "module",
    "function",
    "builtin_function_or_method",
    "instance",
    "_Feature"
   ],
   "window_display": false
  }
 },
 "nbformat": 4,
 "nbformat_minor": 2
}
