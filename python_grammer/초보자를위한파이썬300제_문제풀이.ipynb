{
 "cells": [
  {
   "cell_type": "markdown",
   "id": "0a017329",
   "metadata": {},
   "source": [
    "# 파이썬 시작하기"
   ]
  },
  {
   "cell_type": "markdown",
   "id": "0dc647d2",
   "metadata": {},
   "source": [
    "[초보자를 위한 파이썬 300제](https://wikidocs.net/book/922 )"
   ]
  },
  {
   "cell_type": "markdown",
   "id": "f7711b32",
   "metadata": {},
   "source": [
    "## 1~10"
   ]
  },
  {
   "cell_type": "markdown",
   "id": "e76ad050",
   "metadata": {},
   "source": [
    "### 1~4. print 기초"
   ]
  },
  {
   "cell_type": "code",
   "execution_count": 1,
   "id": "c0c85497",
   "metadata": {},
   "outputs": [
    {
     "name": "stdout",
     "output_type": "stream",
     "text": [
      "Hello World\n"
     ]
    }
   ],
   "source": [
    "# 화면에 Hello World 문자열을 출력하세요.\n",
    "print('Hello World')"
   ]
  },
  {
   "cell_type": "code",
   "execution_count": 2,
   "id": "c54b0a6c",
   "metadata": {},
   "outputs": [
    {
     "name": "stdout",
     "output_type": "stream",
     "text": [
      "Mary's cosmetics\n"
     ]
    }
   ],
   "source": [
    "# 화면에 Mary's cosmetics을 출력하세요.\n",
    "print(\"Mary's cosmetics\")"
   ]
  },
  {
   "cell_type": "code",
   "execution_count": 3,
   "id": "a0dede82",
   "metadata": {},
   "outputs": [
    {
     "name": "stdout",
     "output_type": "stream",
     "text": [
      "신씨가 소리질렀다. \"도둑이야\".\n"
     ]
    }
   ],
   "source": [
    "# 신씨가 소리질렀다. \"도둑이야\".\n",
    "print('신씨가 소리질렀다. \"도둑이야\".')"
   ]
  },
  {
   "cell_type": "code",
   "execution_count": 4,
   "id": "77d1725c",
   "metadata": {},
   "outputs": [
    {
     "name": "stdout",
     "output_type": "stream",
     "text": [
      "C:\\Windows\n"
     ]
    }
   ],
   "source": [
    "print('C:\\Windows')"
   ]
  },
  {
   "cell_type": "markdown",
   "id": "e281161d",
   "metadata": {},
   "source": [
    "### 5. print 탭과 줄바꿈"
   ]
  },
  {
   "cell_type": "code",
   "execution_count": 5,
   "id": "18479f0a",
   "metadata": {},
   "outputs": [
    {
     "name": "stdout",
     "output_type": "stream",
     "text": [
      "안녕하세요.\n",
      "만나서\t\t반갑습니다.\n"
     ]
    }
   ],
   "source": [
    "print(\"안녕하세요.\\n만나서\\t\\t반갑습니다.\")\n",
    "# \\n: 줄바꿈\n",
    "# \\t: 탭"
   ]
  },
  {
   "cell_type": "markdown",
   "id": "40f108c3",
   "metadata": {},
   "source": [
    "### 6. print 여러 데이터 출력"
   ]
  },
  {
   "cell_type": "code",
   "execution_count": 8,
   "id": "08ab1761",
   "metadata": {},
   "outputs": [
    {
     "name": "stdout",
     "output_type": "stream",
     "text": [
      "오늘은 일요일\n"
     ]
    }
   ],
   "source": [
    "print (\"오늘은\", \"일요일\")\n",
    "# 오늘은 일요일\n",
    "# 내장함수 print의 기본 구분자는 공백이다."
   ]
  },
  {
   "cell_type": "markdown",
   "id": "7297053c",
   "metadata": {},
   "source": [
    "### 7~8. print 기초"
   ]
  },
  {
   "cell_type": "code",
   "execution_count": 17,
   "id": "fa41f026",
   "metadata": {},
   "outputs": [
    {
     "name": "stdout",
     "output_type": "stream",
     "text": [
      "naver;kakao;sk;samsung\n",
      "naver;kakao;sk;samsung\n"
     ]
    }
   ],
   "source": [
    "print('naver;kakao;sk;samsung')\n",
    "print('naver', 'kakao', 'sk', 'samsung', sep=';')"
   ]
  },
  {
   "cell_type": "code",
   "execution_count": 18,
   "id": "b9013636",
   "metadata": {},
   "outputs": [
    {
     "name": "stdout",
     "output_type": "stream",
     "text": [
      "naver/kakao/sk/samsung\n",
      "naver/kakao/sk/samsung\n"
     ]
    }
   ],
   "source": [
    "print('naver/kakao/sk/samsung')\n",
    "print('naver', 'kakao', 'sk', 'samsung', sep='/')"
   ]
  },
  {
   "cell_type": "markdown",
   "id": "84952dc7",
   "metadata": {},
   "source": [
    "### 9. print 줄바꿈"
   ]
  },
  {
   "cell_type": "code",
   "execution_count": 14,
   "id": "bfeb8817",
   "metadata": {},
   "outputs": [
    {
     "name": "stdout",
     "output_type": "stream",
     "text": [
      "firstsecond\n"
     ]
    }
   ],
   "source": [
    "print(\"first\", end='');print(\"second\")"
   ]
  },
  {
   "cell_type": "markdown",
   "id": "a495f551",
   "metadata": {},
   "source": [
    "### 10. 연산 결과 출력"
   ]
  },
  {
   "cell_type": "code",
   "execution_count": 15,
   "id": "6d9f1be7",
   "metadata": {},
   "outputs": [
    {
     "data": {
      "text/plain": [
       "1.6666666666666667"
      ]
     },
     "execution_count": 15,
     "metadata": {},
     "output_type": "execute_result"
    }
   ],
   "source": [
    "5/3"
   ]
  },
  {
   "cell_type": "code",
   "execution_count": 16,
   "id": "cac14acd",
   "metadata": {
    "scrolled": true
   },
   "outputs": [
    {
     "name": "stdout",
     "output_type": "stream",
     "text": [
      "1.6666666666666667\n"
     ]
    }
   ],
   "source": [
    "print(5/3)"
   ]
  },
  {
   "cell_type": "markdown",
   "id": "9d1691ee",
   "metadata": {},
   "source": [
    "# 파이썬 변수"
   ]
  },
  {
   "cell_type": "markdown",
   "id": "f8c915e9",
   "metadata": {},
   "source": [
    "## 11~20"
   ]
  },
  {
   "cell_type": "markdown",
   "id": "8b72e822",
   "metadata": {},
   "source": [
    "### 11~12. 변수 사용하기"
   ]
  },
  {
   "cell_type": "code",
   "execution_count": 2,
   "id": "94d4fb0c",
   "metadata": {},
   "outputs": [],
   "source": [
    "삼성전자 = 50000"
   ]
  },
  {
   "cell_type": "code",
   "execution_count": 55,
   "id": "69508b0d",
   "metadata": {},
   "outputs": [
    {
     "name": "stdout",
     "output_type": "stream",
     "text": [
      "500000\n"
     ]
    }
   ],
   "source": [
    "총평가금액 = 삼성전자 * 10\n",
    "print(총평가금액)"
   ]
  },
  {
   "cell_type": "code",
   "execution_count": 56,
   "id": "b50a2498",
   "metadata": {},
   "outputs": [
    {
     "name": "stdout",
     "output_type": "stream",
     "text": [
      "2980000000000 <class 'int'>\n",
      "50000 <class 'int'>\n",
      "15.79 <class 'float'>\n"
     ]
    }
   ],
   "source": [
    "시가총액 = 2980000000000\n",
    "현재가 = 50000\n",
    "PER = 15.79\n",
    "print(시가총액, type(시가총액))\n",
    "print(현재가, type(현재가))\n",
    "print(PER, type(PER))"
   ]
  },
  {
   "cell_type": "markdown",
   "id": "0c791cfd",
   "metadata": {},
   "source": [
    "### 13. 문자열 출력"
   ]
  },
  {
   "cell_type": "code",
   "execution_count": 5,
   "id": "82a79f72",
   "metadata": {},
   "outputs": [],
   "source": [
    "s = 'hello'\n",
    "t = 'python'"
   ]
  },
  {
   "cell_type": "code",
   "execution_count": 57,
   "id": "9af68ac7",
   "metadata": {},
   "outputs": [
    {
     "name": "stdout",
     "output_type": "stream",
     "text": [
      "hello! python\n"
     ]
    }
   ],
   "source": [
    "print(s, '! ', t, sep='')"
   ]
  },
  {
   "cell_type": "code",
   "execution_count": 59,
   "id": "73015189",
   "metadata": {},
   "outputs": [
    {
     "name": "stdout",
     "output_type": "stream",
     "text": [
      "hello! python\n"
     ]
    }
   ],
   "source": [
    "print(s+'!', t)"
   ]
  },
  {
   "cell_type": "markdown",
   "id": "c1ec6fa7",
   "metadata": {},
   "source": [
    "### 14. 파이썬을 이용한 값 계산"
   ]
  },
  {
   "cell_type": "code",
   "execution_count": 12,
   "id": "4533107a",
   "metadata": {},
   "outputs": [
    {
     "data": {
      "text/plain": [
       "8"
      ]
     },
     "execution_count": 12,
     "metadata": {},
     "output_type": "execute_result"
    }
   ],
   "source": [
    "2 + 2 * 3\n",
    "# 8"
   ]
  },
  {
   "cell_type": "markdown",
   "id": "1614a008",
   "metadata": {},
   "source": [
    "### 15. type 함수"
   ]
  },
  {
   "cell_type": "code",
   "execution_count": 13,
   "id": "8153a40b",
   "metadata": {},
   "outputs": [],
   "source": [
    "a = 128"
   ]
  },
  {
   "cell_type": "code",
   "execution_count": 14,
   "id": "9da8979d",
   "metadata": {},
   "outputs": [
    {
     "data": {
      "text/plain": [
       "int"
      ]
     },
     "execution_count": 14,
     "metadata": {},
     "output_type": "execute_result"
    }
   ],
   "source": [
    "type(a)"
   ]
  },
  {
   "cell_type": "code",
   "execution_count": 15,
   "id": "66b34369",
   "metadata": {},
   "outputs": [
    {
     "name": "stdout",
     "output_type": "stream",
     "text": [
      "<class 'int'>\n"
     ]
    }
   ],
   "source": [
    "print(type(a))"
   ]
  },
  {
   "cell_type": "code",
   "execution_count": 16,
   "id": "f056a8a2",
   "metadata": {},
   "outputs": [
    {
     "name": "stdout",
     "output_type": "stream",
     "text": [
      "<class 'str'>\n"
     ]
    }
   ],
   "source": [
    "a = '132'\n",
    "# class 'str'\n",
    "type(a); print(type(a))"
   ]
  },
  {
   "cell_type": "markdown",
   "id": "998d09c2",
   "metadata": {},
   "source": [
    "### 16. 문자열을 정수로 변환"
   ]
  },
  {
   "cell_type": "code",
   "execution_count": 31,
   "id": "abbb7a5d",
   "metadata": {},
   "outputs": [],
   "source": [
    "num_str = '720'"
   ]
  },
  {
   "cell_type": "code",
   "execution_count": 32,
   "id": "265b6265",
   "metadata": {
    "scrolled": true
   },
   "outputs": [
    {
     "data": {
      "text/plain": [
       "720"
      ]
     },
     "execution_count": 32,
     "metadata": {},
     "output_type": "execute_result"
    }
   ],
   "source": [
    "int(num_str)"
   ]
  },
  {
   "cell_type": "code",
   "execution_count": 60,
   "id": "5c7e1687",
   "metadata": {},
   "outputs": [],
   "source": [
    "num_int = int(num_str)"
   ]
  },
  {
   "cell_type": "code",
   "execution_count": 62,
   "id": "f506aff3",
   "metadata": {},
   "outputs": [
    {
     "name": "stdout",
     "output_type": "stream",
     "text": [
      "720 <class 'int'>\n"
     ]
    }
   ],
   "source": [
    "print(num_int, type(num_int))"
   ]
  },
  {
   "cell_type": "markdown",
   "id": "37a19e6c",
   "metadata": {},
   "source": [
    "### 17. 정수를 문자열 100으로 변환"
   ]
  },
  {
   "cell_type": "code",
   "execution_count": 33,
   "id": "691d5443",
   "metadata": {},
   "outputs": [],
   "source": [
    "num = 100"
   ]
  },
  {
   "cell_type": "code",
   "execution_count": 35,
   "id": "b34e84a2",
   "metadata": {},
   "outputs": [
    {
     "data": {
      "text/plain": [
       "'100'"
      ]
     },
     "execution_count": 35,
     "metadata": {},
     "output_type": "execute_result"
    }
   ],
   "source": [
    "str(num)"
   ]
  },
  {
   "cell_type": "code",
   "execution_count": 63,
   "id": "920fc662",
   "metadata": {},
   "outputs": [
    {
     "name": "stdout",
     "output_type": "stream",
     "text": [
      "100 <class 'str'>\n"
     ]
    }
   ],
   "source": [
    "result = str(num)\n",
    "print(result, type(result))"
   ]
  },
  {
   "cell_type": "markdown",
   "id": "a1a01c89",
   "metadata": {},
   "source": [
    "### 18. 문자열을 실수로 변환"
   ]
  },
  {
   "cell_type": "code",
   "execution_count": 37,
   "id": "320de8b4",
   "metadata": {},
   "outputs": [
    {
     "data": {
      "text/plain": [
       "15.79"
      ]
     },
     "execution_count": 37,
     "metadata": {},
     "output_type": "execute_result"
    }
   ],
   "source": [
    "float(15.79)"
   ]
  },
  {
   "cell_type": "code",
   "execution_count": 38,
   "id": "0d298b83",
   "metadata": {},
   "outputs": [
    {
     "data": {
      "text/plain": [
       "float"
      ]
     },
     "execution_count": 38,
     "metadata": {},
     "output_type": "execute_result"
    }
   ],
   "source": [
    "type(float(15.79))"
   ]
  },
  {
   "cell_type": "code",
   "execution_count": 66,
   "id": "73b97d2a",
   "metadata": {},
   "outputs": [
    {
     "name": "stdout",
     "output_type": "stream",
     "text": [
      "15.79 <class 'float'>\n"
     ]
    }
   ],
   "source": [
    "data = '15.79'\n",
    "data = float(data)\n",
    "print(data, type(data))"
   ]
  },
  {
   "cell_type": "markdown",
   "id": "075f8216",
   "metadata": {},
   "source": [
    "### 19. 문자열을 정수로 변환"
   ]
  },
  {
   "cell_type": "code",
   "execution_count": 39,
   "id": "8034b319",
   "metadata": {},
   "outputs": [],
   "source": [
    "year = '2020'"
   ]
  },
  {
   "cell_type": "code",
   "execution_count": 49,
   "id": "77d5cd2f",
   "metadata": {},
   "outputs": [],
   "source": [
    "a = int(year)"
   ]
  },
  {
   "cell_type": "code",
   "execution_count": 50,
   "id": "65e49214",
   "metadata": {},
   "outputs": [
    {
     "data": {
      "text/plain": [
       "2021"
      ]
     },
     "execution_count": 50,
     "metadata": {},
     "output_type": "execute_result"
    }
   ],
   "source": [
    "a + 1"
   ]
  },
  {
   "cell_type": "code",
   "execution_count": 51,
   "id": "04440a7f",
   "metadata": {},
   "outputs": [
    {
     "data": {
      "text/plain": [
       "2022"
      ]
     },
     "execution_count": 51,
     "metadata": {},
     "output_type": "execute_result"
    }
   ],
   "source": [
    "a + 2"
   ]
  },
  {
   "cell_type": "code",
   "execution_count": 52,
   "id": "785f432c",
   "metadata": {},
   "outputs": [
    {
     "data": {
      "text/plain": [
       "2023"
      ]
     },
     "execution_count": 52,
     "metadata": {},
     "output_type": "execute_result"
    }
   ],
   "source": [
    "a + 3"
   ]
  },
  {
   "cell_type": "code",
   "execution_count": 81,
   "id": "19bd7ac6",
   "metadata": {},
   "outputs": [
    {
     "name": "stdout",
     "output_type": "stream",
     "text": [
      "2017\n",
      "2018\n",
      "2019\n",
      "2019\n",
      "2018\n",
      "2017\n"
     ]
    }
   ],
   "source": [
    "print(int(year)-3)\n",
    "print(int(year)-2)\n",
    "print(int(year)-1)\n",
    "\n",
    "for i in range(1,4) :\n",
    "    print(int(year)-i)"
   ]
  },
  {
   "cell_type": "markdown",
   "id": "69479322",
   "metadata": {},
   "source": [
    "### 20. 파이썬 계산"
   ]
  },
  {
   "cell_type": "code",
   "execution_count": 53,
   "id": "0fdcceb9",
   "metadata": {},
   "outputs": [],
   "source": [
    "에어컨 = 48584 * 36"
   ]
  },
  {
   "cell_type": "code",
   "execution_count": 54,
   "id": "97285c82",
   "metadata": {},
   "outputs": [
    {
     "data": {
      "text/plain": [
       "1749024"
      ]
     },
     "execution_count": 54,
     "metadata": {},
     "output_type": "execute_result"
    }
   ],
   "source": [
    "에어컨"
   ]
  },
  {
   "cell_type": "code",
   "execution_count": 82,
   "id": "18104b83",
   "metadata": {},
   "outputs": [],
   "source": [
    "월금액 = 48584\n",
    "개월수 = 36\n",
    "총금액 = 월금액 * 개월수"
   ]
  },
  {
   "cell_type": "code",
   "execution_count": 83,
   "id": "5b11207b",
   "metadata": {},
   "outputs": [
    {
     "name": "stdout",
     "output_type": "stream",
     "text": [
      "1749024\n"
     ]
    }
   ],
   "source": [
    "print(총금액)"
   ]
  },
  {
   "cell_type": "markdown",
   "id": "bdaf24af",
   "metadata": {},
   "source": [
    "# 파이썬 문자열"
   ]
  },
  {
   "cell_type": "markdown",
   "id": "dbcf6f22",
   "metadata": {},
   "source": [
    "## 21~30"
   ]
  },
  {
   "cell_type": "markdown",
   "id": "0e403d9e",
   "metadata": {},
   "source": [
    "### 21. 문자열 인덱싱"
   ]
  },
  {
   "cell_type": "code",
   "execution_count": 1,
   "id": "75a902d3",
   "metadata": {},
   "outputs": [],
   "source": [
    "letters = 'python'"
   ]
  },
  {
   "cell_type": "code",
   "execution_count": 4,
   "id": "ae06fda0",
   "metadata": {},
   "outputs": [
    {
     "name": "stdout",
     "output_type": "stream",
     "text": [
      "p t\n"
     ]
    }
   ],
   "source": [
    "print(letters[0], letters[2])"
   ]
  },
  {
   "cell_type": "markdown",
   "id": "7940ddd9",
   "metadata": {},
   "source": [
    "### 22. 문자열 슬라이싱"
   ]
  },
  {
   "cell_type": "code",
   "execution_count": 5,
   "id": "697b8508",
   "metadata": {},
   "outputs": [],
   "source": [
    "license_plate = '24가 2210'"
   ]
  },
  {
   "cell_type": "code",
   "execution_count": 6,
   "id": "b830b645",
   "metadata": {},
   "outputs": [
    {
     "name": "stdout",
     "output_type": "stream",
     "text": [
      "2210\n"
     ]
    }
   ],
   "source": [
    "print(license_plate[-4:])"
   ]
  },
  {
   "cell_type": "markdown",
   "id": "39643123",
   "metadata": {},
   "source": [
    "### 23. 문자열 인덱싱"
   ]
  },
  {
   "cell_type": "markdown",
   "id": "dfea0a5e",
   "metadata": {},
   "source": [
    "슬라이싱할 때 `시작인덱스:끝인덱스:오프셋`을 지정할 수 있습니다."
   ]
  },
  {
   "cell_type": "code",
   "execution_count": 71,
   "id": "3cb1cfff",
   "metadata": {},
   "outputs": [],
   "source": [
    "string = '홀짝홀짝홀짝'"
   ]
  },
  {
   "cell_type": "code",
   "execution_count": 9,
   "id": "24163777",
   "metadata": {},
   "outputs": [
    {
     "name": "stdout",
     "output_type": "stream",
     "text": [
      "홀홀홀\n"
     ]
    }
   ],
   "source": [
    "print(string[0], string[2], string[4], sep='')"
   ]
  },
  {
   "cell_type": "code",
   "execution_count": 72,
   "id": "55e234d7",
   "metadata": {},
   "outputs": [
    {
     "name": "stdout",
     "output_type": "stream",
     "text": [
      "홀홀홀\n"
     ]
    }
   ],
   "source": [
    "print(string[::2])"
   ]
  },
  {
   "cell_type": "markdown",
   "id": "b9e3c188",
   "metadata": {},
   "source": [
    "### 24. 문자열 슬라이싱"
   ]
  },
  {
   "cell_type": "code",
   "execution_count": 10,
   "id": "b024c51b",
   "metadata": {},
   "outputs": [],
   "source": [
    "string = 'PYTHON'"
   ]
  },
  {
   "cell_type": "code",
   "execution_count": 34,
   "id": "e20eb09a",
   "metadata": {},
   "outputs": [
    {
     "data": {
      "text/plain": [
       "'NOHTYP'"
      ]
     },
     "execution_count": 34,
     "metadata": {},
     "output_type": "execute_result"
    }
   ],
   "source": [
    "string[::-1]"
   ]
  },
  {
   "cell_type": "markdown",
   "id": "f073e42e",
   "metadata": {},
   "source": [
    "### 25. 문자열 치환"
   ]
  },
  {
   "cell_type": "code",
   "execution_count": 73,
   "id": "c327abe6",
   "metadata": {},
   "outputs": [],
   "source": [
    "phone_number = '010-1111-2222'"
   ]
  },
  {
   "cell_type": "code",
   "execution_count": 55,
   "id": "03391103",
   "metadata": {},
   "outputs": [
    {
     "name": "stdout",
     "output_type": "stream",
     "text": [
      "010 1111 2222\n"
     ]
    }
   ],
   "source": [
    "print(phone_number[:3],phone_number[4:8], phone_number[9:])"
   ]
  },
  {
   "cell_type": "code",
   "execution_count": 77,
   "id": "4d85da76",
   "metadata": {},
   "outputs": [],
   "source": [
    "phone_number1 = phone_number.replace('-',' ')"
   ]
  },
  {
   "cell_type": "code",
   "execution_count": 78,
   "id": "98030cd9",
   "metadata": {},
   "outputs": [
    {
     "data": {
      "text/plain": [
       "'010 1111 2222'"
      ]
     },
     "execution_count": 78,
     "metadata": {},
     "output_type": "execute_result"
    }
   ],
   "source": [
    "phone_number1"
   ]
  },
  {
   "cell_type": "markdown",
   "id": "23ad58e5",
   "metadata": {},
   "source": [
    "### 26. 문자열 다루기"
   ]
  },
  {
   "cell_type": "code",
   "execution_count": 56,
   "id": "f0e0864b",
   "metadata": {},
   "outputs": [
    {
     "name": "stdout",
     "output_type": "stream",
     "text": [
      "01011112222\n"
     ]
    }
   ],
   "source": [
    "print(phone_number[:3],phone_number[4:8], phone_number[9:], sep='')"
   ]
  },
  {
   "cell_type": "code",
   "execution_count": 79,
   "id": "4ff88751",
   "metadata": {},
   "outputs": [],
   "source": [
    "phone_number2 = phone_number.replace('-','')"
   ]
  },
  {
   "cell_type": "code",
   "execution_count": 80,
   "id": "d73e79a3",
   "metadata": {},
   "outputs": [
    {
     "data": {
      "text/plain": [
       "'01011112222'"
      ]
     },
     "execution_count": 80,
     "metadata": {},
     "output_type": "execute_result"
    }
   ],
   "source": [
    "phone_number2"
   ]
  },
  {
   "cell_type": "markdown",
   "id": "1788d16e",
   "metadata": {},
   "source": [
    "### 27. 문자열 다루기"
   ]
  },
  {
   "cell_type": "code",
   "execution_count": 57,
   "id": "fe4c56d5",
   "metadata": {},
   "outputs": [],
   "source": [
    "url = 'http://sharebook.kr'"
   ]
  },
  {
   "cell_type": "code",
   "execution_count": 59,
   "id": "7b1b4864",
   "metadata": {},
   "outputs": [
    {
     "name": "stdout",
     "output_type": "stream",
     "text": [
      "kr\n"
     ]
    }
   ],
   "source": [
    "print(url[-2:])"
   ]
  },
  {
   "cell_type": "code",
   "execution_count": 82,
   "id": "785f627f",
   "metadata": {},
   "outputs": [],
   "source": [
    "url_split = url.split(sep='.')"
   ]
  },
  {
   "cell_type": "code",
   "execution_count": 85,
   "id": "9da5f125",
   "metadata": {},
   "outputs": [
    {
     "name": "stdout",
     "output_type": "stream",
     "text": [
      "kr\n"
     ]
    }
   ],
   "source": [
    "print(url_split[-1])"
   ]
  },
  {
   "cell_type": "markdown",
   "id": "85b476c3",
   "metadata": {},
   "source": [
    "### 28. 문자열은 immutable"
   ]
  },
  {
   "cell_type": "markdown",
   "id": "6730361d",
   "metadata": {},
   "source": [
    "문자열은 수정할 수 없습니다.  \n",
    "실행 결과를 확인해보면 문자열이 할당(assignment) 메서드를 지원하지 않음을 알 수 있습니다."
   ]
  },
  {
   "cell_type": "code",
   "execution_count": 61,
   "id": "8d6b0730",
   "metadata": {},
   "outputs": [
    {
     "ename": "TypeError",
     "evalue": "'str' object does not support item assignment",
     "output_type": "error",
     "traceback": [
      "\u001b[1;31m---------------------------------------------------------------------------\u001b[0m",
      "\u001b[1;31mTypeError\u001b[0m                                 Traceback (most recent call last)",
      "Cell \u001b[1;32mIn[61], line 2\u001b[0m\n\u001b[0;32m      1\u001b[0m lang \u001b[38;5;241m=\u001b[39m \u001b[38;5;124m'\u001b[39m\u001b[38;5;124mpython\u001b[39m\u001b[38;5;124m'\u001b[39m\n\u001b[1;32m----> 2\u001b[0m lang[\u001b[38;5;241m0\u001b[39m] \u001b[38;5;241m=\u001b[39m \u001b[38;5;124m'\u001b[39m\u001b[38;5;124mP\u001b[39m\u001b[38;5;124m'\u001b[39m\n\u001b[0;32m      3\u001b[0m \u001b[38;5;28mprint\u001b[39m(lang)\n",
      "\u001b[1;31mTypeError\u001b[0m: 'str' object does not support item assignment"
     ]
    }
   ],
   "source": [
    "lang = 'python'\n",
    "lang[0] = 'P'\n",
    "print(lang)\n",
    "# error"
   ]
  },
  {
   "cell_type": "markdown",
   "id": "bae9c7af",
   "metadata": {},
   "source": [
    "### 29. replace 메서드"
   ]
  },
  {
   "cell_type": "code",
   "execution_count": 63,
   "id": "5045247e",
   "metadata": {},
   "outputs": [],
   "source": [
    "string = 'abcdfe2a354a32a'"
   ]
  },
  {
   "cell_type": "code",
   "execution_count": 68,
   "id": "42ab262e",
   "metadata": {},
   "outputs": [
    {
     "data": {
      "text/plain": [
       "'Abcdfe2A354A32A'"
      ]
     },
     "execution_count": 68,
     "metadata": {},
     "output_type": "execute_result"
    }
   ],
   "source": [
    "string.replace('a', 'A')"
   ]
  },
  {
   "cell_type": "markdown",
   "id": "74654f82",
   "metadata": {},
   "source": [
    "### 30. replace 메서드"
   ]
  },
  {
   "cell_type": "markdown",
   "id": "6679894b",
   "metadata": {},
   "source": [
    "문자열은 변경할 수 없는 자료형  \n",
    "replace 메서드를 사용하면 원본은 그대로 둔채로 변경된 새로운 문자열 객체를 리턴해줍니다."
   ]
  },
  {
   "cell_type": "code",
   "execution_count": 69,
   "id": "cbac8671",
   "metadata": {},
   "outputs": [
    {
     "name": "stdout",
     "output_type": "stream",
     "text": [
      "abcd\n"
     ]
    }
   ],
   "source": [
    "string = 'abcd'\n",
    "string.replace('b', 'B')\n",
    "print(string)\n",
    "# abcd"
   ]
  },
  {
   "attachments": {
    "image.png": {
     "image/png": "[encoded data removed]"
    }
   },
   "cell_type": "markdown",
   "id": "f4cda6d2",
   "metadata": {},
   "source": [
    "![image.png](attachment:image.png)"
   ]
  },
  {
   "cell_type": "markdown",
   "id": "8c1290ba",
   "metadata": {},
   "source": [
    "### 31. 문자열 합치기"
   ]
  },
  {
   "cell_type": "markdown",
   "id": "190493fa",
   "metadata": {},
   "source": [
    "두 문자열에 대해 덧셈 기호는 문자열의 연결을 의미합니다.  \n",
    "따라서 \"34\"라는 새로운 문자열이 생성되고 그 값이 print 함수에 의해 화면에 출력됩니다."
   ]
  },
  {
   "cell_type": "code",
   "execution_count": 1,
   "id": "b55166c0",
   "metadata": {},
   "outputs": [
    {
     "name": "stdout",
     "output_type": "stream",
     "text": [
      "34\n"
     ]
    }
   ],
   "source": [
    "a = '3'\n",
    "b = '4'\n",
    "print(a + b)\n",
    "# 34"
   ]
  },
  {
   "cell_type": "markdown",
   "id": "5413fc4f",
   "metadata": {},
   "source": [
    "### 32. 문자열 곱하기"
   ]
  },
  {
   "cell_type": "code",
   "execution_count": 2,
   "id": "dd04e050",
   "metadata": {},
   "outputs": [
    {
     "name": "stdout",
     "output_type": "stream",
     "text": [
      "HiHiHi\n"
     ]
    }
   ],
   "source": [
    "print('Hi' * 3)\n",
    "#HiHiHi"
   ]
  },
  {
   "cell_type": "markdown",
   "id": "2abcc277",
   "metadata": {},
   "source": [
    "### 33. 문자열 곱하기"
   ]
  },
  {
   "cell_type": "code",
   "execution_count": 3,
   "id": "aabba8e6",
   "metadata": {},
   "outputs": [
    {
     "name": "stdout",
     "output_type": "stream",
     "text": [
      "--------------------------------------------------------------------------------\n"
     ]
    }
   ],
   "source": [
    "print('-' * 80)"
   ]
  },
  {
   "cell_type": "markdown",
   "id": "187015b9",
   "metadata": {},
   "source": [
    "### 34. 문자열 곱하기"
   ]
  },
  {
   "cell_type": "code",
   "execution_count": 4,
   "id": "6d625194",
   "metadata": {},
   "outputs": [],
   "source": [
    "t1 = 'python'\n",
    "t2 = 'java'"
   ]
  },
  {
   "cell_type": "code",
   "execution_count": 11,
   "id": "1f0772e6",
   "metadata": {},
   "outputs": [
    {
     "name": "stdout",
     "output_type": "stream",
     "text": [
      "('python', 'java', 'python', 'java', 'python', 'java', 'python', 'java')\n"
     ]
    }
   ],
   "source": [
    "print((t1, t2) * 4)"
   ]
  },
  {
   "cell_type": "code",
   "execution_count": 38,
   "id": "77a46312",
   "metadata": {},
   "outputs": [
    {
     "name": "stdout",
     "output_type": "stream",
     "text": [
      "python java python java python java python java \n"
     ]
    }
   ],
   "source": [
    "t3 = t1 + ' ' + t2 + ' '\n",
    "print(t3 * 4)"
   ]
  },
  {
   "cell_type": "markdown",
   "id": "683b7410",
   "metadata": {},
   "source": [
    "### 35. 문자열 출력"
   ]
  },
  {
   "cell_type": "code",
   "execution_count": 12,
   "id": "7ba8bf79",
   "metadata": {},
   "outputs": [],
   "source": [
    "name1 = '김민수'\n",
    "age1 = 10\n",
    "name2 = '이철희'\n",
    "age2 = 13"
   ]
  },
  {
   "cell_type": "code",
   "execution_count": 14,
   "id": "a0bda5cd",
   "metadata": {},
   "outputs": [
    {
     "name": "stdout",
     "output_type": "stream",
     "text": [
      "이름:  김민수 나이:  10\n",
      "이름:  이철희 나이:  13\n"
     ]
    }
   ],
   "source": [
    "print('이름: ', name1, '나이: ', age1)\n",
    "print('이름: ', name2, '나이: ', age2)"
   ]
  },
  {
   "cell_type": "code",
   "execution_count": 39,
   "id": "8a583c9b",
   "metadata": {},
   "outputs": [
    {
     "name": "stdout",
     "output_type": "stream",
     "text": [
      "이름: 김민수 나이: 10\n"
     ]
    }
   ],
   "source": [
    "print('이름: %s 나이: %d' % (name1, age1))"
   ]
  },
  {
   "cell_type": "code",
   "execution_count": 40,
   "id": "e86dae16",
   "metadata": {},
   "outputs": [
    {
     "name": "stdout",
     "output_type": "stream",
     "text": [
      "이름: 이철희 나이: 13\n"
     ]
    }
   ],
   "source": [
    "print('이름: %s 나이: %d' % (name2, age2))"
   ]
  },
  {
   "cell_type": "markdown",
   "id": "9f5319b9",
   "metadata": {},
   "source": [
    "### 36. 문자열 출력"
   ]
  },
  {
   "cell_type": "code",
   "execution_count": 18,
   "id": "c54dc958",
   "metadata": {},
   "outputs": [
    {
     "data": {
      "text/plain": [
       "'이름: 김민수 나이: 10'"
      ]
     },
     "execution_count": 18,
     "metadata": {},
     "output_type": "execute_result"
    }
   ],
   "source": [
    "'이름: {name} 나이: {age}'.format(name=name1, age=age1)"
   ]
  },
  {
   "cell_type": "code",
   "execution_count": 19,
   "id": "5c400fc6",
   "metadata": {},
   "outputs": [
    {
     "data": {
      "text/plain": [
       "'이름: 이철희 나이: 13'"
      ]
     },
     "execution_count": 19,
     "metadata": {},
     "output_type": "execute_result"
    }
   ],
   "source": [
    "'이름: {name} 나이: {age}'.format(name=name2, age=age2)"
   ]
  },
  {
   "cell_type": "markdown",
   "id": "dfd9e315",
   "metadata": {},
   "source": [
    "### 37. 문자열 출력"
   ]
  },
  {
   "cell_type": "code",
   "execution_count": 21,
   "id": "99465461",
   "metadata": {},
   "outputs": [
    {
     "data": {
      "text/plain": [
       "'이름: 김민수 나이: 10'"
      ]
     },
     "execution_count": 21,
     "metadata": {},
     "output_type": "execute_result"
    }
   ],
   "source": [
    "f'이름: {name1} 나이: {age1}'"
   ]
  },
  {
   "cell_type": "code",
   "execution_count": 22,
   "id": "21fb52ed",
   "metadata": {},
   "outputs": [
    {
     "data": {
      "text/plain": [
       "'이름: 이철희 나이: 13'"
      ]
     },
     "execution_count": 22,
     "metadata": {},
     "output_type": "execute_result"
    }
   ],
   "source": [
    "f'이름: {name2} 나이: {age2}'"
   ]
  },
  {
   "cell_type": "markdown",
   "id": "72460e7c",
   "metadata": {},
   "source": [
    "### 38. 컴마 제거하기"
   ]
  },
  {
   "cell_type": "code",
   "execution_count": 23,
   "id": "fc83c574",
   "metadata": {},
   "outputs": [],
   "source": [
    "상장주식수 = \"5,969,782,550\""
   ]
  },
  {
   "cell_type": "code",
   "execution_count": 27,
   "id": "70b24b95",
   "metadata": {},
   "outputs": [],
   "source": [
    "a = 상장주식수.replace(',', '')"
   ]
  },
  {
   "cell_type": "code",
   "execution_count": 28,
   "id": "fd7f70e6",
   "metadata": {},
   "outputs": [
    {
     "data": {
      "text/plain": [
       "'5969782550'"
      ]
     },
     "execution_count": 28,
     "metadata": {},
     "output_type": "execute_result"
    }
   ],
   "source": [
    "a"
   ]
  },
  {
   "cell_type": "code",
   "execution_count": 30,
   "id": "d018be70",
   "metadata": {},
   "outputs": [],
   "source": [
    "b = int(a)"
   ]
  },
  {
   "cell_type": "code",
   "execution_count": 32,
   "id": "73036e88",
   "metadata": {},
   "outputs": [
    {
     "data": {
      "text/plain": [
       "int"
      ]
     },
     "execution_count": 32,
     "metadata": {},
     "output_type": "execute_result"
    }
   ],
   "source": [
    "type(b)"
   ]
  },
  {
   "cell_type": "markdown",
   "id": "698dc590",
   "metadata": {},
   "source": [
    "### 39. 문자열 슬라이싱"
   ]
  },
  {
   "cell_type": "code",
   "execution_count": 33,
   "id": "6f8028f8",
   "metadata": {},
   "outputs": [],
   "source": [
    "분기 = \"2020/03(E) (IFRS연결)\""
   ]
  },
  {
   "cell_type": "code",
   "execution_count": 34,
   "id": "8b81b63c",
   "metadata": {},
   "outputs": [
    {
     "data": {
      "text/plain": [
       "'2020/03'"
      ]
     },
     "execution_count": 34,
     "metadata": {},
     "output_type": "execute_result"
    }
   ],
   "source": [
    "분기[:7]"
   ]
  },
  {
   "cell_type": "markdown",
   "id": "47587285",
   "metadata": {},
   "source": [
    "### 40. strip 메서드"
   ]
  },
  {
   "cell_type": "code",
   "execution_count": 35,
   "id": "46d02e23",
   "metadata": {},
   "outputs": [],
   "source": [
    "data = \"   삼성전자    \""
   ]
  },
  {
   "cell_type": "code",
   "execution_count": 37,
   "id": "e9383358",
   "metadata": {},
   "outputs": [
    {
     "data": {
      "text/plain": [
       "'삼성전자'"
      ]
     },
     "execution_count": 37,
     "metadata": {},
     "output_type": "execute_result"
    }
   ],
   "source": [
    "data.strip()"
   ]
  }
 ],
 "metadata": {
  "kernelspec": {
   "display_name": "Python 3 (ipykernel)",
   "language": "python",
   "name": "python3"
  },
  "language_info": {
   "codemirror_mode": {
    "name": "ipython",
    "version": 3
   },
   "file_extension": ".py",
   "mimetype": "text/x-python",
   "name": "python",
   "nbconvert_exporter": "python",
   "pygments_lexer": "ipython3",
   "version": "3.11.5"
  },
  "toc": {
   "base_numbering": 1,
   "nav_menu": {},
   "number_sections": true,
   "sideBar": true,
   "skip_h1_title": false,
   "title_cell": "Table of Contents",
   "title_sidebar": "Contents",
   "toc_cell": false,
   "toc_position": {
    "height": "calc(100% - 180px)",
    "left": "10px",
    "top": "150px",
    "width": "295.225px"
   },
   "toc_section_display": true,
   "toc_window_display": true
  }
 },
 "nbformat": 4,
 "nbformat_minor": 5
}
