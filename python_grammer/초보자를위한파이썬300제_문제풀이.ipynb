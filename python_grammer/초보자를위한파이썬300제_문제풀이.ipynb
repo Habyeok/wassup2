{
 "cells": [
  {
   "cell_type": "markdown",
   "id": "0a017329",
   "metadata": {},
   "source": [
    "# 파이썬 시작하기"
   ]
  },
  {
   "cell_type": "markdown",
   "id": "0dc647d2",
   "metadata": {},
   "source": [
    "[초보자를 위한 파이썬 300제](https://wikidocs.net/book/922 )"
   ]
  },
  {
   "cell_type": "markdown",
   "id": "f7711b32",
   "metadata": {},
   "source": [
    "## 1~10"
   ]
  },
  {
   "cell_type": "markdown",
   "id": "e76ad050",
   "metadata": {},
   "source": [
    "### 1~4. print 기초"
   ]
  },
  {
   "cell_type": "code",
   "execution_count": 1,
   "id": "c0c85497",
   "metadata": {},
   "outputs": [
    {
     "name": "stdout",
     "output_type": "stream",
     "text": [
      "Hello World\n"
     ]
    }
   ],
   "source": [
    "# 화면에 Hello World 문자열을 출력하세요.\n",
    "print('Hello World')"
   ]
  },
  {
   "cell_type": "code",
   "execution_count": 2,
   "id": "c54b0a6c",
   "metadata": {},
   "outputs": [
    {
     "name": "stdout",
     "output_type": "stream",
     "text": [
      "Mary's cosmetics\n"
     ]
    }
   ],
   "source": [
    "# 화면에 Mary's cosmetics을 출력하세요.\n",
    "print(\"Mary's cosmetics\")"
   ]
  },
  {
   "cell_type": "code",
   "execution_count": 3,
   "id": "a0dede82",
   "metadata": {},
   "outputs": [
    {
     "name": "stdout",
     "output_type": "stream",
     "text": [
      "신씨가 소리질렀다. \"도둑이야\".\n"
     ]
    }
   ],
   "source": [
    "# 신씨가 소리질렀다. \"도둑이야\".\n",
    "print('신씨가 소리질렀다. \"도둑이야\".')"
   ]
  },
  {
   "cell_type": "code",
   "execution_count": 4,
   "id": "77d1725c",
   "metadata": {
    "scrolled": true
   },
   "outputs": [
    {
     "name": "stdout",
     "output_type": "stream",
     "text": [
      "C:\\Windows\n"
     ]
    }
   ],
   "source": [
    "print('C:\\Windows')"
   ]
  },
  {
   "cell_type": "markdown",
   "id": "e281161d",
   "metadata": {},
   "source": [
    "### 5. print 탭과 줄바꿈"
   ]
  },
  {
   "cell_type": "code",
   "execution_count": 5,
   "id": "18479f0a",
   "metadata": {},
   "outputs": [
    {
     "name": "stdout",
     "output_type": "stream",
     "text": [
      "안녕하세요.\n",
      "만나서\t\t반갑습니다.\n"
     ]
    }
   ],
   "source": [
    "print(\"안녕하세요.\\n만나서\\t\\t반갑습니다.\")\n",
    "# \\n: 줄바꿈\n",
    "# \\t: 탭"
   ]
  },
  {
   "cell_type": "markdown",
   "id": "40f108c3",
   "metadata": {},
   "source": [
    "### 6. print 여러 데이터 출력"
   ]
  },
  {
   "cell_type": "code",
   "execution_count": 8,
   "id": "08ab1761",
   "metadata": {},
   "outputs": [
    {
     "name": "stdout",
     "output_type": "stream",
     "text": [
      "오늘은 일요일\n"
     ]
    }
   ],
   "source": [
    "print (\"오늘은\", \"일요일\")\n",
    "# 오늘은 일요일\n",
    "# 내장함수 print의 기본 구분자는 공백이다."
   ]
  },
  {
   "cell_type": "markdown",
   "id": "7297053c",
   "metadata": {},
   "source": [
    "### 7~8. print 기초"
   ]
  },
  {
   "cell_type": "code",
   "execution_count": 17,
   "id": "fa41f026",
   "metadata": {},
   "outputs": [
    {
     "name": "stdout",
     "output_type": "stream",
     "text": [
      "naver;kakao;sk;samsung\n",
      "naver;kakao;sk;samsung\n"
     ]
    }
   ],
   "source": [
    "print('naver;kakao;sk;samsung')\n",
    "print('naver', 'kakao', 'sk', 'samsung', sep=';')"
   ]
  },
  {
   "cell_type": "code",
   "execution_count": 18,
   "id": "b9013636",
   "metadata": {},
   "outputs": [
    {
     "name": "stdout",
     "output_type": "stream",
     "text": [
      "naver/kakao/sk/samsung\n",
      "naver/kakao/sk/samsung\n"
     ]
    }
   ],
   "source": [
    "print('naver/kakao/sk/samsung')\n",
    "print('naver', 'kakao', 'sk', 'samsung', sep='/')"
   ]
  },
  {
   "cell_type": "markdown",
   "id": "84952dc7",
   "metadata": {},
   "source": [
    "### 9. print 줄바꿈"
   ]
  },
  {
   "cell_type": "code",
   "execution_count": 14,
   "id": "bfeb8817",
   "metadata": {},
   "outputs": [
    {
     "name": "stdout",
     "output_type": "stream",
     "text": [
      "firstsecond\n"
     ]
    }
   ],
   "source": [
    "print(\"first\", end='');print(\"second\")"
   ]
  },
  {
   "cell_type": "markdown",
   "id": "a495f551",
   "metadata": {},
   "source": [
    "### 10. 연산 결과 출력"
   ]
  },
  {
   "cell_type": "code",
   "execution_count": 15,
   "id": "6d9f1be7",
   "metadata": {},
   "outputs": [
    {
     "data": {
      "text/plain": [
       "1.6666666666666667"
      ]
     },
     "execution_count": 15,
     "metadata": {},
     "output_type": "execute_result"
    }
   ],
   "source": [
    "5/3"
   ]
  },
  {
   "cell_type": "code",
   "execution_count": 16,
   "id": "cac14acd",
   "metadata": {
    "scrolled": true
   },
   "outputs": [
    {
     "name": "stdout",
     "output_type": "stream",
     "text": [
      "1.6666666666666667\n"
     ]
    }
   ],
   "source": [
    "print(5/3)"
   ]
  },
  {
   "cell_type": "markdown",
   "id": "9d1691ee",
   "metadata": {},
   "source": [
    "# 파이썬 변수"
   ]
  },
  {
   "cell_type": "markdown",
   "id": "f8c915e9",
   "metadata": {},
   "source": [
    "## 11~20"
   ]
  },
  {
   "cell_type": "markdown",
   "id": "8b72e822",
   "metadata": {},
   "source": [
    "### 11~12. 변수 사용하기"
   ]
  },
  {
   "cell_type": "code",
   "execution_count": 2,
   "id": "94d4fb0c",
   "metadata": {},
   "outputs": [],
   "source": [
    "삼성전자 = 50000"
   ]
  },
  {
   "cell_type": "code",
   "execution_count": 55,
   "id": "69508b0d",
   "metadata": {},
   "outputs": [
    {
     "name": "stdout",
     "output_type": "stream",
     "text": [
      "500000\n"
     ]
    }
   ],
   "source": [
    "총평가금액 = 삼성전자 * 10\n",
    "print(총평가금액)"
   ]
  },
  {
   "cell_type": "code",
   "execution_count": 56,
   "id": "b50a2498",
   "metadata": {},
   "outputs": [
    {
     "name": "stdout",
     "output_type": "stream",
     "text": [
      "2980000000000 <class 'int'>\n",
      "50000 <class 'int'>\n",
      "15.79 <class 'float'>\n"
     ]
    }
   ],
   "source": [
    "시가총액 = 2980000000000\n",
    "현재가 = 50000\n",
    "PER = 15.79\n",
    "print(시가총액, type(시가총액))\n",
    "print(현재가, type(현재가))\n",
    "print(PER, type(PER))"
   ]
  },
  {
   "cell_type": "markdown",
   "id": "0c791cfd",
   "metadata": {},
   "source": [
    "### 13. 문자열 출력"
   ]
  },
  {
   "cell_type": "code",
   "execution_count": 5,
   "id": "82a79f72",
   "metadata": {},
   "outputs": [],
   "source": [
    "s = 'hello'\n",
    "t = 'python'"
   ]
  },
  {
   "cell_type": "code",
   "execution_count": 57,
   "id": "9af68ac7",
   "metadata": {},
   "outputs": [
    {
     "name": "stdout",
     "output_type": "stream",
     "text": [
      "hello! python\n"
     ]
    }
   ],
   "source": [
    "print(s, '! ', t, sep='')"
   ]
  },
  {
   "cell_type": "code",
   "execution_count": 59,
   "id": "73015189",
   "metadata": {},
   "outputs": [
    {
     "name": "stdout",
     "output_type": "stream",
     "text": [
      "hello! python\n"
     ]
    }
   ],
   "source": [
    "print(s+'!', t)"
   ]
  },
  {
   "cell_type": "markdown",
   "id": "c1ec6fa7",
   "metadata": {},
   "source": [
    "### 14. 파이썬을 이용한 값 계산"
   ]
  },
  {
   "cell_type": "code",
   "execution_count": 12,
   "id": "4533107a",
   "metadata": {},
   "outputs": [
    {
     "data": {
      "text/plain": [
       "8"
      ]
     },
     "execution_count": 12,
     "metadata": {},
     "output_type": "execute_result"
    }
   ],
   "source": [
    "2 + 2 * 3\n",
    "# 8"
   ]
  },
  {
   "cell_type": "markdown",
   "id": "1614a008",
   "metadata": {},
   "source": [
    "### 15. type 함수"
   ]
  },
  {
   "cell_type": "code",
   "execution_count": 13,
   "id": "8153a40b",
   "metadata": {},
   "outputs": [],
   "source": [
    "a = 128"
   ]
  },
  {
   "cell_type": "code",
   "execution_count": 14,
   "id": "9da8979d",
   "metadata": {},
   "outputs": [
    {
     "data": {
      "text/plain": [
       "int"
      ]
     },
     "execution_count": 14,
     "metadata": {},
     "output_type": "execute_result"
    }
   ],
   "source": [
    "type(a)"
   ]
  },
  {
   "cell_type": "code",
   "execution_count": 15,
   "id": "66b34369",
   "metadata": {},
   "outputs": [
    {
     "name": "stdout",
     "output_type": "stream",
     "text": [
      "<class 'int'>\n"
     ]
    }
   ],
   "source": [
    "print(type(a))"
   ]
  },
  {
   "cell_type": "code",
   "execution_count": 16,
   "id": "f056a8a2",
   "metadata": {},
   "outputs": [
    {
     "name": "stdout",
     "output_type": "stream",
     "text": [
      "<class 'str'>\n"
     ]
    }
   ],
   "source": [
    "a = '132'\n",
    "# class 'str'\n",
    "type(a); print(type(a))"
   ]
  },
  {
   "cell_type": "markdown",
   "id": "998d09c2",
   "metadata": {},
   "source": [
    "### 16. 문자열을 정수로 변환"
   ]
  },
  {
   "cell_type": "code",
   "execution_count": 31,
   "id": "abbb7a5d",
   "metadata": {},
   "outputs": [],
   "source": [
    "num_str = '720'"
   ]
  },
  {
   "cell_type": "code",
   "execution_count": 32,
   "id": "265b6265",
   "metadata": {
    "scrolled": true
   },
   "outputs": [
    {
     "data": {
      "text/plain": [
       "720"
      ]
     },
     "execution_count": 32,
     "metadata": {},
     "output_type": "execute_result"
    }
   ],
   "source": [
    "int(num_str)"
   ]
  },
  {
   "cell_type": "code",
   "execution_count": 60,
   "id": "5c7e1687",
   "metadata": {},
   "outputs": [],
   "source": [
    "num_int = int(num_str)"
   ]
  },
  {
   "cell_type": "code",
   "execution_count": 62,
   "id": "f506aff3",
   "metadata": {},
   "outputs": [
    {
     "name": "stdout",
     "output_type": "stream",
     "text": [
      "720 <class 'int'>\n"
     ]
    }
   ],
   "source": [
    "print(num_int, type(num_int))"
   ]
  },
  {
   "cell_type": "markdown",
   "id": "37a19e6c",
   "metadata": {},
   "source": [
    "### 17. 정수를 문자열 100으로 변환"
   ]
  },
  {
   "cell_type": "code",
   "execution_count": 33,
   "id": "691d5443",
   "metadata": {},
   "outputs": [],
   "source": [
    "num = 100"
   ]
  },
  {
   "cell_type": "code",
   "execution_count": 35,
   "id": "b34e84a2",
   "metadata": {},
   "outputs": [
    {
     "data": {
      "text/plain": [
       "'100'"
      ]
     },
     "execution_count": 35,
     "metadata": {},
     "output_type": "execute_result"
    }
   ],
   "source": [
    "str(num)"
   ]
  },
  {
   "cell_type": "code",
   "execution_count": 63,
   "id": "920fc662",
   "metadata": {},
   "outputs": [
    {
     "name": "stdout",
     "output_type": "stream",
     "text": [
      "100 <class 'str'>\n"
     ]
    }
   ],
   "source": [
    "result = str(num)\n",
    "print(result, type(result))"
   ]
  },
  {
   "cell_type": "markdown",
   "id": "a1a01c89",
   "metadata": {},
   "source": [
    "### 18. 문자열을 실수로 변환"
   ]
  },
  {
   "cell_type": "code",
   "execution_count": 37,
   "id": "320de8b4",
   "metadata": {},
   "outputs": [
    {
     "data": {
      "text/plain": [
       "15.79"
      ]
     },
     "execution_count": 37,
     "metadata": {},
     "output_type": "execute_result"
    }
   ],
   "source": [
    "float(15.79)"
   ]
  },
  {
   "cell_type": "code",
   "execution_count": 38,
   "id": "0d298b83",
   "metadata": {},
   "outputs": [
    {
     "data": {
      "text/plain": [
       "float"
      ]
     },
     "execution_count": 38,
     "metadata": {},
     "output_type": "execute_result"
    }
   ],
   "source": [
    "type(float(15.79))"
   ]
  },
  {
   "cell_type": "code",
   "execution_count": 66,
   "id": "73b97d2a",
   "metadata": {},
   "outputs": [
    {
     "name": "stdout",
     "output_type": "stream",
     "text": [
      "15.79 <class 'float'>\n"
     ]
    }
   ],
   "source": [
    "data = '15.79'\n",
    "data = float(data)\n",
    "print(data, type(data))"
   ]
  },
  {
   "cell_type": "markdown",
   "id": "075f8216",
   "metadata": {},
   "source": [
    "### 19. 문자열을 정수로 변환"
   ]
  },
  {
   "cell_type": "code",
   "execution_count": 39,
   "id": "8034b319",
   "metadata": {},
   "outputs": [],
   "source": [
    "year = '2020'"
   ]
  },
  {
   "cell_type": "code",
   "execution_count": 49,
   "id": "77d5cd2f",
   "metadata": {},
   "outputs": [],
   "source": [
    "a = int(year)"
   ]
  },
  {
   "cell_type": "code",
   "execution_count": 50,
   "id": "65e49214",
   "metadata": {},
   "outputs": [
    {
     "data": {
      "text/plain": [
       "2021"
      ]
     },
     "execution_count": 50,
     "metadata": {},
     "output_type": "execute_result"
    }
   ],
   "source": [
    "a + 1"
   ]
  },
  {
   "cell_type": "code",
   "execution_count": 51,
   "id": "04440a7f",
   "metadata": {},
   "outputs": [
    {
     "data": {
      "text/plain": [
       "2022"
      ]
     },
     "execution_count": 51,
     "metadata": {},
     "output_type": "execute_result"
    }
   ],
   "source": [
    "a + 2"
   ]
  },
  {
   "cell_type": "code",
   "execution_count": 52,
   "id": "785f432c",
   "metadata": {},
   "outputs": [
    {
     "data": {
      "text/plain": [
       "2023"
      ]
     },
     "execution_count": 52,
     "metadata": {},
     "output_type": "execute_result"
    }
   ],
   "source": [
    "a + 3"
   ]
  },
  {
   "cell_type": "code",
   "execution_count": 81,
   "id": "19bd7ac6",
   "metadata": {},
   "outputs": [
    {
     "name": "stdout",
     "output_type": "stream",
     "text": [
      "2017\n",
      "2018\n",
      "2019\n",
      "2019\n",
      "2018\n",
      "2017\n"
     ]
    }
   ],
   "source": [
    "print(int(year)-3)\n",
    "print(int(year)-2)\n",
    "print(int(year)-1)\n",
    "\n",
    "for i in range(1,4) :\n",
    "    print(int(year)-i)"
   ]
  },
  {
   "cell_type": "markdown",
   "id": "69479322",
   "metadata": {},
   "source": [
    "### 20. 파이썬 계산"
   ]
  },
  {
   "cell_type": "code",
   "execution_count": 53,
   "id": "0fdcceb9",
   "metadata": {},
   "outputs": [],
   "source": [
    "에어컨 = 48584 * 36"
   ]
  },
  {
   "cell_type": "code",
   "execution_count": 54,
   "id": "97285c82",
   "metadata": {},
   "outputs": [
    {
     "data": {
      "text/plain": [
       "1749024"
      ]
     },
     "execution_count": 54,
     "metadata": {},
     "output_type": "execute_result"
    }
   ],
   "source": [
    "에어컨"
   ]
  },
  {
   "cell_type": "code",
   "execution_count": 82,
   "id": "18104b83",
   "metadata": {},
   "outputs": [],
   "source": [
    "월금액 = 48584\n",
    "개월수 = 36\n",
    "총금액 = 월금액 * 개월수"
   ]
  },
  {
   "cell_type": "code",
   "execution_count": 83,
   "id": "5b11207b",
   "metadata": {},
   "outputs": [
    {
     "name": "stdout",
     "output_type": "stream",
     "text": [
      "1749024\n"
     ]
    }
   ],
   "source": [
    "print(총금액)"
   ]
  },
  {
   "cell_type": "markdown",
   "id": "bdaf24af",
   "metadata": {},
   "source": [
    "# 파이썬 문자열"
   ]
  },
  {
   "cell_type": "markdown",
   "id": "dbcf6f22",
   "metadata": {},
   "source": [
    "## 21~50"
   ]
  },
  {
   "cell_type": "markdown",
   "id": "0e403d9e",
   "metadata": {},
   "source": [
    "### 21. 문자열 인덱싱"
   ]
  },
  {
   "cell_type": "code",
   "execution_count": 1,
   "id": "75a902d3",
   "metadata": {},
   "outputs": [],
   "source": [
    "letters = 'python'"
   ]
  },
  {
   "cell_type": "code",
   "execution_count": 4,
   "id": "ae06fda0",
   "metadata": {},
   "outputs": [
    {
     "name": "stdout",
     "output_type": "stream",
     "text": [
      "p t\n"
     ]
    }
   ],
   "source": [
    "print(letters[0], letters[2])"
   ]
  },
  {
   "cell_type": "markdown",
   "id": "7940ddd9",
   "metadata": {},
   "source": [
    "### 22. 문자열 슬라이싱"
   ]
  },
  {
   "cell_type": "code",
   "execution_count": 5,
   "id": "697b8508",
   "metadata": {},
   "outputs": [],
   "source": [
    "license_plate = '24가 2210'"
   ]
  },
  {
   "cell_type": "code",
   "execution_count": 6,
   "id": "b830b645",
   "metadata": {},
   "outputs": [
    {
     "name": "stdout",
     "output_type": "stream",
     "text": [
      "2210\n"
     ]
    }
   ],
   "source": [
    "print(license_plate[-4:])"
   ]
  },
  {
   "cell_type": "markdown",
   "id": "39643123",
   "metadata": {},
   "source": [
    "### 23. 문자열 인덱싱"
   ]
  },
  {
   "cell_type": "markdown",
   "id": "dfea0a5e",
   "metadata": {},
   "source": [
    "슬라이싱할 때 `시작인덱스:끝인덱스:오프셋`을 지정할 수 있습니다."
   ]
  },
  {
   "cell_type": "code",
   "execution_count": 71,
   "id": "3cb1cfff",
   "metadata": {},
   "outputs": [],
   "source": [
    "string = '홀짝홀짝홀짝'"
   ]
  },
  {
   "cell_type": "code",
   "execution_count": 9,
   "id": "24163777",
   "metadata": {},
   "outputs": [
    {
     "name": "stdout",
     "output_type": "stream",
     "text": [
      "홀홀홀\n"
     ]
    }
   ],
   "source": [
    "print(string[0], string[2], string[4], sep='')"
   ]
  },
  {
   "cell_type": "code",
   "execution_count": 72,
   "id": "55e234d7",
   "metadata": {},
   "outputs": [
    {
     "name": "stdout",
     "output_type": "stream",
     "text": [
      "홀홀홀\n"
     ]
    }
   ],
   "source": [
    "print(string[::2])"
   ]
  },
  {
   "cell_type": "markdown",
   "id": "b9e3c188",
   "metadata": {},
   "source": [
    "### 24. 문자열 슬라이싱"
   ]
  },
  {
   "cell_type": "code",
   "execution_count": 10,
   "id": "b024c51b",
   "metadata": {},
   "outputs": [],
   "source": [
    "string = 'PYTHON'"
   ]
  },
  {
   "cell_type": "code",
   "execution_count": 34,
   "id": "e20eb09a",
   "metadata": {},
   "outputs": [
    {
     "data": {
      "text/plain": [
       "'NOHTYP'"
      ]
     },
     "execution_count": 34,
     "metadata": {},
     "output_type": "execute_result"
    }
   ],
   "source": [
    "string[::-1]"
   ]
  },
  {
   "cell_type": "markdown",
   "id": "f073e42e",
   "metadata": {},
   "source": [
    "### 25. 문자열 치환"
   ]
  },
  {
   "cell_type": "code",
   "execution_count": 73,
   "id": "c327abe6",
   "metadata": {},
   "outputs": [],
   "source": [
    "phone_number = '010-1111-2222'"
   ]
  },
  {
   "cell_type": "code",
   "execution_count": 55,
   "id": "03391103",
   "metadata": {},
   "outputs": [
    {
     "name": "stdout",
     "output_type": "stream",
     "text": [
      "010 1111 2222\n"
     ]
    }
   ],
   "source": [
    "print(phone_number[:3],phone_number[4:8], phone_number[9:])"
   ]
  },
  {
   "cell_type": "code",
   "execution_count": 77,
   "id": "4d85da76",
   "metadata": {},
   "outputs": [],
   "source": [
    "phone_number1 = phone_number.replace('-',' ')"
   ]
  },
  {
   "cell_type": "code",
   "execution_count": 78,
   "id": "98030cd9",
   "metadata": {},
   "outputs": [
    {
     "data": {
      "text/plain": [
       "'010 1111 2222'"
      ]
     },
     "execution_count": 78,
     "metadata": {},
     "output_type": "execute_result"
    }
   ],
   "source": [
    "phone_number1"
   ]
  },
  {
   "cell_type": "markdown",
   "id": "23ad58e5",
   "metadata": {},
   "source": [
    "### 26. 문자열 다루기"
   ]
  },
  {
   "cell_type": "code",
   "execution_count": 56,
   "id": "f0e0864b",
   "metadata": {},
   "outputs": [
    {
     "name": "stdout",
     "output_type": "stream",
     "text": [
      "01011112222\n"
     ]
    }
   ],
   "source": [
    "print(phone_number[:3],phone_number[4:8], phone_number[9:], sep='')"
   ]
  },
  {
   "cell_type": "code",
   "execution_count": 79,
   "id": "4ff88751",
   "metadata": {},
   "outputs": [],
   "source": [
    "phone_number2 = phone_number.replace('-','')"
   ]
  },
  {
   "cell_type": "code",
   "execution_count": 80,
   "id": "d73e79a3",
   "metadata": {},
   "outputs": [
    {
     "data": {
      "text/plain": [
       "'01011112222'"
      ]
     },
     "execution_count": 80,
     "metadata": {},
     "output_type": "execute_result"
    }
   ],
   "source": [
    "phone_number2"
   ]
  },
  {
   "cell_type": "markdown",
   "id": "1788d16e",
   "metadata": {},
   "source": [
    "### 27. 문자열 다루기"
   ]
  },
  {
   "cell_type": "code",
   "execution_count": 57,
   "id": "fe4c56d5",
   "metadata": {},
   "outputs": [],
   "source": [
    "url = 'http://sharebook.kr'"
   ]
  },
  {
   "cell_type": "code",
   "execution_count": 59,
   "id": "7b1b4864",
   "metadata": {},
   "outputs": [
    {
     "name": "stdout",
     "output_type": "stream",
     "text": [
      "kr\n"
     ]
    }
   ],
   "source": [
    "print(url[-2:])"
   ]
  },
  {
   "cell_type": "code",
   "execution_count": 82,
   "id": "785f627f",
   "metadata": {},
   "outputs": [],
   "source": [
    "url_split = url.split(sep='.')"
   ]
  },
  {
   "cell_type": "code",
   "execution_count": 85,
   "id": "9da5f125",
   "metadata": {},
   "outputs": [
    {
     "name": "stdout",
     "output_type": "stream",
     "text": [
      "kr\n"
     ]
    }
   ],
   "source": [
    "print(url_split[-1])"
   ]
  },
  {
   "cell_type": "markdown",
   "id": "85b476c3",
   "metadata": {},
   "source": [
    "### 28. 문자열은 immutable"
   ]
  },
  {
   "cell_type": "markdown",
   "id": "6730361d",
   "metadata": {},
   "source": [
    "문자열은 수정할 수 없습니다.  \n",
    "실행 결과를 확인해보면 문자열이 할당(assignment) 메서드를 지원하지 않음을 알 수 있습니다."
   ]
  },
  {
   "cell_type": "code",
   "execution_count": 61,
   "id": "8d6b0730",
   "metadata": {},
   "outputs": [
    {
     "ename": "TypeError",
     "evalue": "'str' object does not support item assignment",
     "output_type": "error",
     "traceback": [
      "\u001b[1;31m---------------------------------------------------------------------------\u001b[0m",
      "\u001b[1;31mTypeError\u001b[0m                                 Traceback (most recent call last)",
      "Cell \u001b[1;32mIn[61], line 2\u001b[0m\n\u001b[0;32m      1\u001b[0m lang \u001b[38;5;241m=\u001b[39m \u001b[38;5;124m'\u001b[39m\u001b[38;5;124mpython\u001b[39m\u001b[38;5;124m'\u001b[39m\n\u001b[1;32m----> 2\u001b[0m lang[\u001b[38;5;241m0\u001b[39m] \u001b[38;5;241m=\u001b[39m \u001b[38;5;124m'\u001b[39m\u001b[38;5;124mP\u001b[39m\u001b[38;5;124m'\u001b[39m\n\u001b[0;32m      3\u001b[0m \u001b[38;5;28mprint\u001b[39m(lang)\n",
      "\u001b[1;31mTypeError\u001b[0m: 'str' object does not support item assignment"
     ]
    }
   ],
   "source": [
    "lang = 'python'\n",
    "lang[0] = 'P'\n",
    "print(lang)\n",
    "# error"
   ]
  },
  {
   "cell_type": "markdown",
   "id": "bae9c7af",
   "metadata": {},
   "source": [
    "### 29. replace 메서드"
   ]
  },
  {
   "cell_type": "code",
   "execution_count": 63,
   "id": "5045247e",
   "metadata": {},
   "outputs": [],
   "source": [
    "string = 'abcdfe2a354a32a'"
   ]
  },
  {
   "cell_type": "code",
   "execution_count": 68,
   "id": "42ab262e",
   "metadata": {},
   "outputs": [
    {
     "data": {
      "text/plain": [
       "'Abcdfe2A354A32A'"
      ]
     },
     "execution_count": 68,
     "metadata": {},
     "output_type": "execute_result"
    }
   ],
   "source": [
    "string.replace('a', 'A')"
   ]
  },
  {
   "cell_type": "markdown",
   "id": "74654f82",
   "metadata": {},
   "source": [
    "### 30. replace 메서드"
   ]
  },
  {
   "cell_type": "markdown",
   "id": "6679894b",
   "metadata": {},
   "source": [
    "문자열은 변경할 수 없는 자료형  \n",
    "replace 메서드를 사용하면 원본은 그대로 둔채로 변경된 새로운 문자열 객체를 리턴해줍니다."
   ]
  },
  {
   "cell_type": "code",
   "execution_count": 69,
   "id": "cbac8671",
   "metadata": {},
   "outputs": [
    {
     "name": "stdout",
     "output_type": "stream",
     "text": [
      "abcd\n"
     ]
    }
   ],
   "source": [
    "string = 'abcd'\n",
    "string.replace('b', 'B')\n",
    "print(string)\n",
    "# abcd"
   ]
  },
  {
   "attachments": {
    "image.png": {
     "image/png": "[encoded data removed]"
    }
   },
   "cell_type": "markdown",
   "id": "f4cda6d2",
   "metadata": {},
   "source": [
    "![image.png](attachment:image.png)"
   ]
  },
  {
   "cell_type": "markdown",
   "id": "8c1290ba",
   "metadata": {},
   "source": [
    "### 31. 문자열 합치기"
   ]
  },
  {
   "cell_type": "markdown",
   "id": "190493fa",
   "metadata": {},
   "source": [
    "두 문자열에 대해 덧셈 기호는 문자열의 연결을 의미합니다.  \n",
    "따라서 \"34\"라는 새로운 문자열이 생성되고 그 값이 print 함수에 의해 화면에 출력됩니다."
   ]
  },
  {
   "cell_type": "code",
   "execution_count": 1,
   "id": "b55166c0",
   "metadata": {},
   "outputs": [
    {
     "name": "stdout",
     "output_type": "stream",
     "text": [
      "34\n"
     ]
    }
   ],
   "source": [
    "a = '3'\n",
    "b = '4'\n",
    "print(a + b)\n",
    "# 34"
   ]
  },
  {
   "cell_type": "markdown",
   "id": "5413fc4f",
   "metadata": {},
   "source": [
    "### 32. 문자열 곱하기"
   ]
  },
  {
   "cell_type": "code",
   "execution_count": 2,
   "id": "dd04e050",
   "metadata": {},
   "outputs": [
    {
     "name": "stdout",
     "output_type": "stream",
     "text": [
      "HiHiHi\n"
     ]
    }
   ],
   "source": [
    "print('Hi' * 3)\n",
    "#HiHiHi"
   ]
  },
  {
   "cell_type": "markdown",
   "id": "2abcc277",
   "metadata": {},
   "source": [
    "### 33. 문자열 곱하기"
   ]
  },
  {
   "cell_type": "code",
   "execution_count": 3,
   "id": "aabba8e6",
   "metadata": {},
   "outputs": [
    {
     "name": "stdout",
     "output_type": "stream",
     "text": [
      "--------------------------------------------------------------------------------\n"
     ]
    }
   ],
   "source": [
    "print('-' * 80)"
   ]
  },
  {
   "cell_type": "markdown",
   "id": "187015b9",
   "metadata": {},
   "source": [
    "### 34. 문자열 곱하기"
   ]
  },
  {
   "cell_type": "code",
   "execution_count": 4,
   "id": "6d625194",
   "metadata": {},
   "outputs": [],
   "source": [
    "t1 = 'python'\n",
    "t2 = 'java'"
   ]
  },
  {
   "cell_type": "code",
   "execution_count": 11,
   "id": "1f0772e6",
   "metadata": {},
   "outputs": [
    {
     "name": "stdout",
     "output_type": "stream",
     "text": [
      "('python', 'java', 'python', 'java', 'python', 'java', 'python', 'java')\n"
     ]
    }
   ],
   "source": [
    "print((t1, t2) * 4)"
   ]
  },
  {
   "cell_type": "code",
   "execution_count": 38,
   "id": "77a46312",
   "metadata": {},
   "outputs": [
    {
     "name": "stdout",
     "output_type": "stream",
     "text": [
      "python java python java python java python java \n"
     ]
    }
   ],
   "source": [
    "t3 = t1 + ' ' + t2 + ' '\n",
    "print(t3 * 4)"
   ]
  },
  {
   "cell_type": "markdown",
   "id": "683b7410",
   "metadata": {},
   "source": [
    "### 35. 문자열 출력"
   ]
  },
  {
   "cell_type": "code",
   "execution_count": 12,
   "id": "7ba8bf79",
   "metadata": {},
   "outputs": [],
   "source": [
    "name1 = '김민수'\n",
    "age1 = 10\n",
    "name2 = '이철희'\n",
    "age2 = 13"
   ]
  },
  {
   "cell_type": "code",
   "execution_count": 14,
   "id": "a0bda5cd",
   "metadata": {},
   "outputs": [
    {
     "name": "stdout",
     "output_type": "stream",
     "text": [
      "이름:  김민수 나이:  10\n",
      "이름:  이철희 나이:  13\n"
     ]
    }
   ],
   "source": [
    "print('이름: ', name1, '나이: ', age1)\n",
    "print('이름: ', name2, '나이: ', age2)"
   ]
  },
  {
   "cell_type": "code",
   "execution_count": 39,
   "id": "8a583c9b",
   "metadata": {},
   "outputs": [
    {
     "name": "stdout",
     "output_type": "stream",
     "text": [
      "이름: 김민수 나이: 10\n"
     ]
    }
   ],
   "source": [
    "print('이름: %s 나이: %d' % (name1, age1))"
   ]
  },
  {
   "cell_type": "code",
   "execution_count": 40,
   "id": "e86dae16",
   "metadata": {},
   "outputs": [
    {
     "name": "stdout",
     "output_type": "stream",
     "text": [
      "이름: 이철희 나이: 13\n"
     ]
    }
   ],
   "source": [
    "print('이름: %s 나이: %d' % (name2, age2))"
   ]
  },
  {
   "cell_type": "markdown",
   "id": "9f5319b9",
   "metadata": {},
   "source": [
    "### 36. 문자열 출력"
   ]
  },
  {
   "cell_type": "code",
   "execution_count": 18,
   "id": "c54dc958",
   "metadata": {},
   "outputs": [
    {
     "data": {
      "text/plain": [
       "'이름: 김민수 나이: 10'"
      ]
     },
     "execution_count": 18,
     "metadata": {},
     "output_type": "execute_result"
    }
   ],
   "source": [
    "'이름: {name} 나이: {age}'.format(name=name1, age=age1)"
   ]
  },
  {
   "cell_type": "code",
   "execution_count": 19,
   "id": "5c400fc6",
   "metadata": {},
   "outputs": [
    {
     "data": {
      "text/plain": [
       "'이름: 이철희 나이: 13'"
      ]
     },
     "execution_count": 19,
     "metadata": {},
     "output_type": "execute_result"
    }
   ],
   "source": [
    "'이름: {name} 나이: {age}'.format(name=name2, age=age2)"
   ]
  },
  {
   "cell_type": "markdown",
   "id": "dfd9e315",
   "metadata": {},
   "source": [
    "### 37. 문자열 출력"
   ]
  },
  {
   "cell_type": "code",
   "execution_count": 21,
   "id": "99465461",
   "metadata": {},
   "outputs": [
    {
     "data": {
      "text/plain": [
       "'이름: 김민수 나이: 10'"
      ]
     },
     "execution_count": 21,
     "metadata": {},
     "output_type": "execute_result"
    }
   ],
   "source": [
    "f'이름: {name1} 나이: {age1}'"
   ]
  },
  {
   "cell_type": "code",
   "execution_count": 22,
   "id": "21fb52ed",
   "metadata": {},
   "outputs": [
    {
     "data": {
      "text/plain": [
       "'이름: 이철희 나이: 13'"
      ]
     },
     "execution_count": 22,
     "metadata": {},
     "output_type": "execute_result"
    }
   ],
   "source": [
    "f'이름: {name2} 나이: {age2}'"
   ]
  },
  {
   "cell_type": "markdown",
   "id": "72460e7c",
   "metadata": {},
   "source": [
    "### 38. 컴마 제거하기"
   ]
  },
  {
   "cell_type": "code",
   "execution_count": 23,
   "id": "fc83c574",
   "metadata": {},
   "outputs": [],
   "source": [
    "상장주식수 = \"5,969,782,550\""
   ]
  },
  {
   "cell_type": "code",
   "execution_count": 27,
   "id": "70b24b95",
   "metadata": {},
   "outputs": [],
   "source": [
    "a = 상장주식수.replace(',', '')"
   ]
  },
  {
   "cell_type": "code",
   "execution_count": 28,
   "id": "fd7f70e6",
   "metadata": {},
   "outputs": [
    {
     "data": {
      "text/plain": [
       "'5969782550'"
      ]
     },
     "execution_count": 28,
     "metadata": {},
     "output_type": "execute_result"
    }
   ],
   "source": [
    "a"
   ]
  },
  {
   "cell_type": "code",
   "execution_count": 30,
   "id": "d018be70",
   "metadata": {},
   "outputs": [],
   "source": [
    "b = int(a)"
   ]
  },
  {
   "cell_type": "code",
   "execution_count": 32,
   "id": "73036e88",
   "metadata": {},
   "outputs": [
    {
     "data": {
      "text/plain": [
       "int"
      ]
     },
     "execution_count": 32,
     "metadata": {},
     "output_type": "execute_result"
    }
   ],
   "source": [
    "type(b)"
   ]
  },
  {
   "cell_type": "markdown",
   "id": "698dc590",
   "metadata": {},
   "source": [
    "### 39. 문자열 슬라이싱"
   ]
  },
  {
   "cell_type": "code",
   "execution_count": 33,
   "id": "6f8028f8",
   "metadata": {},
   "outputs": [],
   "source": [
    "분기 = \"2020/03(E) (IFRS연결)\""
   ]
  },
  {
   "cell_type": "code",
   "execution_count": 34,
   "id": "8b81b63c",
   "metadata": {},
   "outputs": [
    {
     "data": {
      "text/plain": [
       "'2020/03'"
      ]
     },
     "execution_count": 34,
     "metadata": {},
     "output_type": "execute_result"
    }
   ],
   "source": [
    "분기[:7]"
   ]
  },
  {
   "cell_type": "markdown",
   "id": "47587285",
   "metadata": {},
   "source": [
    "### 40. strip 메서드"
   ]
  },
  {
   "cell_type": "code",
   "execution_count": 35,
   "id": "46d02e23",
   "metadata": {},
   "outputs": [],
   "source": [
    "data = \"   삼성전자    \""
   ]
  },
  {
   "cell_type": "code",
   "execution_count": 37,
   "id": "e9383358",
   "metadata": {
    "scrolled": true
   },
   "outputs": [
    {
     "data": {
      "text/plain": [
       "'삼성전자'"
      ]
     },
     "execution_count": 37,
     "metadata": {},
     "output_type": "execute_result"
    }
   ],
   "source": [
    "data.strip()"
   ]
  },
  {
   "cell_type": "markdown",
   "id": "b77376cc",
   "metadata": {},
   "source": [
    "### 41. upper 메서드"
   ]
  },
  {
   "cell_type": "markdown",
   "id": "9a493221",
   "metadata": {},
   "source": [
    "upper 메서드를 호출하면 문자열을 대문자로 만들 수 있습니다. 다만 이 경우에도 원본 문자열은 유지되고 대문자로 변경된 새로운 문자열 객체가 반환되는 겁니다. 반환된 새로운 객체를 새로운 변수로 바인딩한 후 이를 print 함수로 출력하면 됩니다."
   ]
  },
  {
   "cell_type": "code",
   "execution_count": 1,
   "id": "d1388935",
   "metadata": {},
   "outputs": [],
   "source": [
    "ticker = 'btc_krw'"
   ]
  },
  {
   "cell_type": "code",
   "execution_count": 2,
   "id": "1620d96f",
   "metadata": {},
   "outputs": [],
   "source": [
    "ticker_upper = ticker.upper()"
   ]
  },
  {
   "cell_type": "code",
   "execution_count": 3,
   "id": "c9f7ab99",
   "metadata": {},
   "outputs": [
    {
     "name": "stdout",
     "output_type": "stream",
     "text": [
      "BTC_KRW\n"
     ]
    }
   ],
   "source": [
    "print(ticker_upper)"
   ]
  },
  {
   "cell_type": "markdown",
   "id": "1502c80d",
   "metadata": {},
   "source": [
    "### 42. lower 메서드"
   ]
  },
  {
   "cell_type": "code",
   "execution_count": 4,
   "id": "0df627df",
   "metadata": {},
   "outputs": [],
   "source": [
    "ticker_lower = ticker_upper.lower()"
   ]
  },
  {
   "cell_type": "code",
   "execution_count": 5,
   "id": "99a96b69",
   "metadata": {},
   "outputs": [
    {
     "name": "stdout",
     "output_type": "stream",
     "text": [
      "btc_krw\n"
     ]
    }
   ],
   "source": [
    "print(ticker_lower)"
   ]
  },
  {
   "cell_type": "markdown",
   "id": "17cc431d",
   "metadata": {},
   "source": [
    "### 43. capitalize 메서드"
   ]
  },
  {
   "cell_type": "code",
   "execution_count": 6,
   "id": "37ec8240",
   "metadata": {},
   "outputs": [],
   "source": [
    "a = 'hello'"
   ]
  },
  {
   "cell_type": "code",
   "execution_count": 7,
   "id": "d1f0b6d8",
   "metadata": {},
   "outputs": [],
   "source": [
    "a_cap = a.capitalize()"
   ]
  },
  {
   "cell_type": "code",
   "execution_count": 8,
   "id": "727669e8",
   "metadata": {},
   "outputs": [
    {
     "name": "stdout",
     "output_type": "stream",
     "text": [
      "Hello\n"
     ]
    }
   ],
   "source": [
    "print(a_cap)"
   ]
  },
  {
   "cell_type": "markdown",
   "id": "d818fe3d",
   "metadata": {},
   "source": [
    "### 44. endswith 메서드"
   ]
  },
  {
   "cell_type": "code",
   "execution_count": 9,
   "id": "3351fe8b",
   "metadata": {},
   "outputs": [],
   "source": [
    "file_name = '보고서.xlsx'"
   ]
  },
  {
   "cell_type": "code",
   "execution_count": 11,
   "id": "7610d740",
   "metadata": {},
   "outputs": [],
   "source": [
    "file_name.endswith?"
   ]
  },
  {
   "cell_type": "code",
   "execution_count": 12,
   "id": "4dd625fc",
   "metadata": {},
   "outputs": [
    {
     "data": {
      "text/plain": [
       "True"
      ]
     },
     "execution_count": 12,
     "metadata": {},
     "output_type": "execute_result"
    }
   ],
   "source": [
    "file_name.endswith('xlsx')"
   ]
  },
  {
   "cell_type": "markdown",
   "id": "b1787a08",
   "metadata": {},
   "source": [
    "### 45. endswith 메서드"
   ]
  },
  {
   "cell_type": "code",
   "execution_count": 13,
   "id": "1c904924",
   "metadata": {},
   "outputs": [
    {
     "data": {
      "text/plain": [
       "False"
      ]
     },
     "execution_count": 13,
     "metadata": {},
     "output_type": "execute_result"
    }
   ],
   "source": [
    "file_name.endswith('xls', 3,)"
   ]
  },
  {
   "cell_type": "code",
   "execution_count": 32,
   "id": "3af21567",
   "metadata": {},
   "outputs": [
    {
     "data": {
      "text/plain": [
       "True"
      ]
     },
     "execution_count": 32,
     "metadata": {},
     "output_type": "execute_result"
    }
   ],
   "source": [
    "file_name.endswith(('xlsx', 'xls'))"
   ]
  },
  {
   "cell_type": "markdown",
   "id": "bc90df43",
   "metadata": {},
   "source": [
    "### 46. startswith 메서드"
   ]
  },
  {
   "cell_type": "code",
   "execution_count": 14,
   "id": "1167c44a",
   "metadata": {},
   "outputs": [],
   "source": [
    "file_name = '2020_보고서.xlsx'"
   ]
  },
  {
   "cell_type": "code",
   "execution_count": 15,
   "id": "42caf473",
   "metadata": {},
   "outputs": [
    {
     "data": {
      "text/plain": [
       "True"
      ]
     },
     "execution_count": 15,
     "metadata": {},
     "output_type": "execute_result"
    }
   ],
   "source": [
    "file_name.startswith('2020')"
   ]
  },
  {
   "cell_type": "markdown",
   "id": "401efb48",
   "metadata": {},
   "source": [
    "### 47. split 메서드"
   ]
  },
  {
   "cell_type": "code",
   "execution_count": 16,
   "id": "ff23baab",
   "metadata": {},
   "outputs": [],
   "source": [
    "a = 'hello world'"
   ]
  },
  {
   "cell_type": "code",
   "execution_count": 17,
   "id": "cd33a750",
   "metadata": {},
   "outputs": [],
   "source": [
    "a.split?"
   ]
  },
  {
   "cell_type": "code",
   "execution_count": 18,
   "id": "2a2bdae4",
   "metadata": {},
   "outputs": [
    {
     "data": {
      "text/plain": [
       "['hello', 'world']"
      ]
     },
     "execution_count": 18,
     "metadata": {},
     "output_type": "execute_result"
    }
   ],
   "source": [
    "a.split(sep=' ')"
   ]
  },
  {
   "cell_type": "markdown",
   "id": "f61e4fc3",
   "metadata": {},
   "source": [
    "### 48. split 메서드"
   ]
  },
  {
   "cell_type": "code",
   "execution_count": 19,
   "id": "ec0545c5",
   "metadata": {},
   "outputs": [],
   "source": [
    "ticker = 'btc_krw'"
   ]
  },
  {
   "cell_type": "code",
   "execution_count": 20,
   "id": "e554def3",
   "metadata": {},
   "outputs": [
    {
     "data": {
      "text/plain": [
       "['btc', 'krw']"
      ]
     },
     "execution_count": 20,
     "metadata": {},
     "output_type": "execute_result"
    }
   ],
   "source": [
    "ticker.split(sep='_')"
   ]
  },
  {
   "cell_type": "markdown",
   "id": "5ff6bec4",
   "metadata": {},
   "source": [
    "### 49. split 메서드"
   ]
  },
  {
   "cell_type": "code",
   "execution_count": 21,
   "id": "d14e45e3",
   "metadata": {},
   "outputs": [],
   "source": [
    "date = '2020-05-01'"
   ]
  },
  {
   "cell_type": "code",
   "execution_count": 23,
   "id": "f4d54096",
   "metadata": {},
   "outputs": [],
   "source": [
    "date_split = date.split(sep='-')"
   ]
  },
  {
   "cell_type": "code",
   "execution_count": 25,
   "id": "127bd458",
   "metadata": {},
   "outputs": [],
   "source": [
    "year = date_split[0]"
   ]
  },
  {
   "cell_type": "code",
   "execution_count": 26,
   "id": "e066e8b5",
   "metadata": {},
   "outputs": [],
   "source": [
    "month = date_split[1]"
   ]
  },
  {
   "cell_type": "code",
   "execution_count": 27,
   "id": "a1f9e702",
   "metadata": {},
   "outputs": [],
   "source": [
    "day = date_split[2]"
   ]
  },
  {
   "cell_type": "code",
   "execution_count": 28,
   "id": "97a476b4",
   "metadata": {},
   "outputs": [
    {
     "name": "stdout",
     "output_type": "stream",
     "text": [
      "2020 05 01\n"
     ]
    }
   ],
   "source": [
    "print(year, month, day)"
   ]
  },
  {
   "cell_type": "code",
   "execution_count": 33,
   "id": "2b7766e8",
   "metadata": {},
   "outputs": [
    {
     "data": {
      "text/plain": [
       "['2020', '05', '01']"
      ]
     },
     "execution_count": 33,
     "metadata": {},
     "output_type": "execute_result"
    }
   ],
   "source": [
    "date_split"
   ]
  },
  {
   "cell_type": "markdown",
   "id": "c5f75dd7",
   "metadata": {},
   "source": [
    "### 50. rstrip 메서드"
   ]
  },
  {
   "cell_type": "code",
   "execution_count": 29,
   "id": "12c52994",
   "metadata": {},
   "outputs": [],
   "source": [
    "data = \"039490     \""
   ]
  },
  {
   "cell_type": "code",
   "execution_count": 30,
   "id": "7bf79ede",
   "metadata": {},
   "outputs": [
    {
     "data": {
      "text/plain": [
       "'039490'"
      ]
     },
     "execution_count": 30,
     "metadata": {},
     "output_type": "execute_result"
    }
   ],
   "source": [
    "data.rstrip()"
   ]
  },
  {
   "cell_type": "code",
   "execution_count": 34,
   "id": "69fd3308",
   "metadata": {},
   "outputs": [],
   "source": [
    "data = data.rstrip()"
   ]
  },
  {
   "cell_type": "code",
   "execution_count": 35,
   "id": "df862f55",
   "metadata": {},
   "outputs": [
    {
     "data": {
      "text/plain": [
       "'039490'"
      ]
     },
     "execution_count": 35,
     "metadata": {},
     "output_type": "execute_result"
    }
   ],
   "source": [
    "data"
   ]
  },
  {
   "cell_type": "markdown",
   "id": "3d77d8d8",
   "metadata": {},
   "source": [
    "# 파이썬 리스트"
   ]
  },
  {
   "cell_type": "markdown",
   "id": "d3ccf2db",
   "metadata": {},
   "source": [
    "## 51~70"
   ]
  },
  {
   "cell_type": "markdown",
   "id": "989ac818",
   "metadata": {},
   "source": [
    "### 51. 리스트 생성"
   ]
  },
  {
   "cell_type": "code",
   "execution_count": 1,
   "id": "7c7b2bf0",
   "metadata": {},
   "outputs": [],
   "source": [
    "movie_rank = ['닥터 스트레인지', '스플릿', '럭키']"
   ]
  },
  {
   "cell_type": "code",
   "execution_count": 2,
   "id": "76142bf7",
   "metadata": {},
   "outputs": [
    {
     "name": "stdout",
     "output_type": "stream",
     "text": [
      "['닥터 스트레인지', '스플릿', '럭키']\n"
     ]
    }
   ],
   "source": [
    "print(movie_rank)"
   ]
  },
  {
   "cell_type": "markdown",
   "id": "21a79db6",
   "metadata": {},
   "source": [
    "### 52. 리스트에 원소 추가"
   ]
  },
  {
   "cell_type": "code",
   "execution_count": 3,
   "id": "dc726248",
   "metadata": {},
   "outputs": [],
   "source": [
    "movie_rank.append('배트맨')"
   ]
  },
  {
   "cell_type": "code",
   "execution_count": 4,
   "id": "70e84ef0",
   "metadata": {},
   "outputs": [
    {
     "data": {
      "text/plain": [
       "['닥터 스트레인지', '스플릿', '럭키', '배트맨']"
      ]
     },
     "execution_count": 4,
     "metadata": {},
     "output_type": "execute_result"
    }
   ],
   "source": [
    "movie_rank"
   ]
  },
  {
   "cell_type": "markdown",
   "id": "c6046a32",
   "metadata": {},
   "source": [
    "### 53"
   ]
  },
  {
   "cell_type": "code",
   "execution_count": 5,
   "id": "31897e71",
   "metadata": {},
   "outputs": [],
   "source": [
    "movie_rank.insert(1, '슈퍼맨')"
   ]
  },
  {
   "cell_type": "code",
   "execution_count": 6,
   "id": "7e67bbac",
   "metadata": {},
   "outputs": [
    {
     "data": {
      "text/plain": [
       "['닥터 스트레인지', '슈퍼맨', '스플릿', '럭키', '배트맨']"
      ]
     },
     "execution_count": 6,
     "metadata": {},
     "output_type": "execute_result"
    }
   ],
   "source": [
    "movie_rank"
   ]
  },
  {
   "cell_type": "markdown",
   "id": "8c14ce68",
   "metadata": {},
   "source": [
    "### 54"
   ]
  },
  {
   "cell_type": "code",
   "execution_count": 7,
   "id": "6676cc8b",
   "metadata": {},
   "outputs": [],
   "source": [
    "del movie_rank[3]"
   ]
  },
  {
   "cell_type": "code",
   "execution_count": 8,
   "id": "a9739dd8",
   "metadata": {},
   "outputs": [
    {
     "data": {
      "text/plain": [
       "['닥터 스트레인지', '슈퍼맨', '스플릿', '배트맨']"
      ]
     },
     "execution_count": 8,
     "metadata": {},
     "output_type": "execute_result"
    }
   ],
   "source": [
    "movie_rank"
   ]
  },
  {
   "cell_type": "markdown",
   "id": "a0cdee04",
   "metadata": {},
   "source": [
    "### 55"
   ]
  },
  {
   "cell_type": "code",
   "execution_count": 9,
   "id": "e3019d6e",
   "metadata": {},
   "outputs": [],
   "source": [
    "del movie_rank[2:]"
   ]
  },
  {
   "cell_type": "code",
   "execution_count": 10,
   "id": "8b8ba393",
   "metadata": {},
   "outputs": [
    {
     "data": {
      "text/plain": [
       "['닥터 스트레인지', '슈퍼맨']"
      ]
     },
     "execution_count": 10,
     "metadata": {},
     "output_type": "execute_result"
    }
   ],
   "source": [
    "movie_rank"
   ]
  },
  {
   "cell_type": "markdown",
   "id": "97692bb2",
   "metadata": {},
   "source": [
    "### 56"
   ]
  },
  {
   "cell_type": "code",
   "execution_count": 11,
   "id": "e8d795b5",
   "metadata": {},
   "outputs": [],
   "source": [
    "lang1 = [\"C\", \"C++\", \"JAVA\"]\n",
    "lang2 = [\"Python\", \"Go\", \"C#\"]"
   ]
  },
  {
   "cell_type": "code",
   "execution_count": 12,
   "id": "a62590c8",
   "metadata": {},
   "outputs": [],
   "source": [
    "langs = lang1 + lang2"
   ]
  },
  {
   "cell_type": "code",
   "execution_count": 13,
   "id": "c1c48784",
   "metadata": {},
   "outputs": [
    {
     "data": {
      "text/plain": [
       "['C', 'C++', 'JAVA', 'Python', 'Go', 'C#']"
      ]
     },
     "execution_count": 13,
     "metadata": {},
     "output_type": "execute_result"
    }
   ],
   "source": [
    "langs"
   ]
  },
  {
   "cell_type": "markdown",
   "id": "6eb630f0",
   "metadata": {},
   "source": [
    "### 57"
   ]
  },
  {
   "cell_type": "code",
   "execution_count": 14,
   "id": "296ac557",
   "metadata": {},
   "outputs": [],
   "source": [
    "nums = [1, 2, 3, 4, 5, 6, 7]"
   ]
  },
  {
   "cell_type": "code",
   "execution_count": 19,
   "id": "3d5f29ca",
   "metadata": {},
   "outputs": [
    {
     "name": "stdout",
     "output_type": "stream",
     "text": [
      "max: 7\n",
      "min: 1\n"
     ]
    }
   ],
   "source": [
    "print('max:', max(nums))\n",
    "print('min:', min(nums))"
   ]
  },
  {
   "cell_type": "markdown",
   "id": "38f6469d",
   "metadata": {},
   "source": [
    "### 58"
   ]
  },
  {
   "cell_type": "code",
   "execution_count": 20,
   "id": "d6546b37",
   "metadata": {},
   "outputs": [],
   "source": [
    "nums = [1, 2, 3, 4, 5]"
   ]
  },
  {
   "cell_type": "code",
   "execution_count": 21,
   "id": "9113827b",
   "metadata": {},
   "outputs": [
    {
     "data": {
      "text/plain": [
       "15"
      ]
     },
     "execution_count": 21,
     "metadata": {},
     "output_type": "execute_result"
    }
   ],
   "source": [
    "sum(nums)"
   ]
  },
  {
   "cell_type": "markdown",
   "id": "2da20173",
   "metadata": {},
   "source": [
    "### 59"
   ]
  },
  {
   "cell_type": "code",
   "execution_count": 22,
   "id": "5e17f5fe",
   "metadata": {},
   "outputs": [],
   "source": [
    "cook = [\"피자\", \"김밥\", \"만두\", \"양념치킨\", \"족발\", \"피자\", \"김치만두\", \"쫄면\", \"소시지\", \"라면\", \"팥빙수\", \"김치전\"]"
   ]
  },
  {
   "cell_type": "code",
   "execution_count": 23,
   "id": "5b7b0bc1",
   "metadata": {},
   "outputs": [
    {
     "data": {
      "text/plain": [
       "12"
      ]
     },
     "execution_count": 23,
     "metadata": {},
     "output_type": "execute_result"
    }
   ],
   "source": [
    "len(cook)"
   ]
  },
  {
   "cell_type": "markdown",
   "id": "f239a4f0",
   "metadata": {},
   "source": [
    "### 60"
   ]
  },
  {
   "cell_type": "code",
   "execution_count": 24,
   "id": "a817f7ba",
   "metadata": {},
   "outputs": [],
   "source": [
    "nums = [1, 2, 3, 4, 5]"
   ]
  },
  {
   "cell_type": "code",
   "execution_count": 28,
   "id": "f50d147d",
   "metadata": {},
   "outputs": [
    {
     "data": {
      "text/plain": [
       "3.0"
      ]
     },
     "execution_count": 28,
     "metadata": {},
     "output_type": "execute_result"
    }
   ],
   "source": [
    "sum(nums)/len(nums)"
   ]
  },
  {
   "cell_type": "markdown",
   "id": "7aa7df28",
   "metadata": {},
   "source": [
    "### 61"
   ]
  },
  {
   "cell_type": "code",
   "execution_count": 29,
   "id": "0da47367",
   "metadata": {},
   "outputs": [],
   "source": [
    "price = ['20180728', 100, 130, 140, 150, 160, 170]"
   ]
  },
  {
   "cell_type": "code",
   "execution_count": 30,
   "id": "be9668aa",
   "metadata": {},
   "outputs": [
    {
     "data": {
      "text/plain": [
       "[100, 130, 140, 150, 160, 170]"
      ]
     },
     "execution_count": 30,
     "metadata": {},
     "output_type": "execute_result"
    }
   ],
   "source": [
    "price[1:]"
   ]
  },
  {
   "cell_type": "markdown",
   "id": "669d9d9a",
   "metadata": {},
   "source": [
    "### 62"
   ]
  },
  {
   "cell_type": "code",
   "execution_count": 31,
   "id": "b14b2ef0",
   "metadata": {},
   "outputs": [],
   "source": [
    "nums = [1, 2, 3, 4, 5, 6, 7, 8, 9, 10]"
   ]
  },
  {
   "cell_type": "code",
   "execution_count": 33,
   "id": "94e73d57",
   "metadata": {},
   "outputs": [
    {
     "data": {
      "text/plain": [
       "[1, 3, 5, 7, 9]"
      ]
     },
     "execution_count": 33,
     "metadata": {},
     "output_type": "execute_result"
    }
   ],
   "source": [
    "nums[::2]"
   ]
  },
  {
   "cell_type": "markdown",
   "id": "4f101cba",
   "metadata": {},
   "source": [
    "### 63"
   ]
  },
  {
   "cell_type": "code",
   "execution_count": 34,
   "id": "b57a6a81",
   "metadata": {},
   "outputs": [],
   "source": [
    "nums = [1, 2, 3, 4, 5, 6, 7, 8, 9, 10]"
   ]
  },
  {
   "cell_type": "code",
   "execution_count": 35,
   "id": "db49b59a",
   "metadata": {},
   "outputs": [
    {
     "data": {
      "text/plain": [
       "[2, 4, 6, 8, 10]"
      ]
     },
     "execution_count": 35,
     "metadata": {},
     "output_type": "execute_result"
    }
   ],
   "source": [
    "nums[1::2]"
   ]
  },
  {
   "cell_type": "markdown",
   "id": "dfef60f2",
   "metadata": {},
   "source": [
    "### 64"
   ]
  },
  {
   "cell_type": "code",
   "execution_count": 36,
   "id": "2361eac5",
   "metadata": {},
   "outputs": [],
   "source": [
    "nums = [1, 2, 3, 4, 5]"
   ]
  },
  {
   "cell_type": "code",
   "execution_count": 37,
   "id": "63bbfe11",
   "metadata": {},
   "outputs": [
    {
     "data": {
      "text/plain": [
       "[5, 4, 3, 2, 1]"
      ]
     },
     "execution_count": 37,
     "metadata": {},
     "output_type": "execute_result"
    }
   ],
   "source": [
    "nums[::-1]"
   ]
  },
  {
   "cell_type": "markdown",
   "id": "33b40cfb",
   "metadata": {},
   "source": [
    "### 65"
   ]
  },
  {
   "cell_type": "code",
   "execution_count": 48,
   "id": "5f21388c",
   "metadata": {},
   "outputs": [],
   "source": [
    "interest = ['삼성전자', 'LG전자', 'Naver']"
   ]
  },
  {
   "cell_type": "code",
   "execution_count": 49,
   "id": "36b4c49a",
   "metadata": {},
   "outputs": [
    {
     "data": {
      "text/plain": [
       "'삼성전자 Naver'"
      ]
     },
     "execution_count": 49,
     "metadata": {},
     "output_type": "execute_result"
    }
   ],
   "source": [
    "' '.join(interest[::2])"
   ]
  },
  {
   "cell_type": "markdown",
   "id": "28e09d58",
   "metadata": {},
   "source": [
    "### 66. join 메서드"
   ]
  },
  {
   "cell_type": "code",
   "execution_count": 41,
   "id": "afcd58a5",
   "metadata": {},
   "outputs": [],
   "source": [
    "interest = ['삼성전자', 'LG전자', 'Naver', 'SK하이닉스', '미래에셋대우']"
   ]
  },
  {
   "cell_type": "code",
   "execution_count": 46,
   "id": "505ecaa7",
   "metadata": {},
   "outputs": [
    {
     "data": {
      "text/plain": [
       "'삼성전자 LG전자 Naver SK하이닉스 미래에셋대우'"
      ]
     },
     "execution_count": 46,
     "metadata": {},
     "output_type": "execute_result"
    }
   ],
   "source": [
    "' '.join(interest)"
   ]
  },
  {
   "cell_type": "markdown",
   "id": "2b0b0145",
   "metadata": {},
   "source": [
    "### 67. join 메서드"
   ]
  },
  {
   "cell_type": "code",
   "execution_count": 50,
   "id": "cff6f0d5",
   "metadata": {},
   "outputs": [],
   "source": [
    "interest = ['삼성전자', 'LG전자', 'Naver', 'SK하이닉스', '미래에셋대우']"
   ]
  },
  {
   "cell_type": "code",
   "execution_count": 51,
   "id": "117368ec",
   "metadata": {},
   "outputs": [
    {
     "data": {
      "text/plain": [
       "'삼성전자/LG전자/Naver/SK하이닉스/미래에셋대우'"
      ]
     },
     "execution_count": 51,
     "metadata": {},
     "output_type": "execute_result"
    }
   ],
   "source": [
    "'/'.join(interest)"
   ]
  },
  {
   "cell_type": "markdown",
   "id": "e80ef72d",
   "metadata": {},
   "source": [
    "### 68. join 메서드"
   ]
  },
  {
   "cell_type": "code",
   "execution_count": 52,
   "id": "5a881198",
   "metadata": {},
   "outputs": [],
   "source": [
    "interest = ['삼성전자', 'LG전자', 'Naver', 'SK하이닉스', '미래에셋대우']"
   ]
  },
  {
   "cell_type": "code",
   "execution_count": 59,
   "id": "8ab3f6bd",
   "metadata": {},
   "outputs": [
    {
     "name": "stdout",
     "output_type": "stream",
     "text": [
      "삼성전자\n",
      "LG전자\n",
      "Naver\n",
      "SK하이닉스\n",
      "미래에셋대우\n"
     ]
    }
   ],
   "source": [
    "print('\\n'.join(interest))"
   ]
  },
  {
   "cell_type": "markdown",
   "id": "96bc3ba9",
   "metadata": {},
   "source": [
    "### 69. 문자열 split 메서드"
   ]
  },
  {
   "cell_type": "code",
   "execution_count": 57,
   "id": "7156b9ea",
   "metadata": {},
   "outputs": [],
   "source": [
    "string = \"삼성전자/LG전자/Naver\""
   ]
  },
  {
   "cell_type": "code",
   "execution_count": 61,
   "id": "6341868d",
   "metadata": {},
   "outputs": [],
   "source": [
    "interest = string.split('/')"
   ]
  },
  {
   "cell_type": "code",
   "execution_count": 62,
   "id": "d24f5aff",
   "metadata": {},
   "outputs": [
    {
     "name": "stdout",
     "output_type": "stream",
     "text": [
      "['삼성전자', 'LG전자', 'Naver']\n"
     ]
    }
   ],
   "source": [
    "print(interest)"
   ]
  },
  {
   "cell_type": "markdown",
   "id": "3245312a",
   "metadata": {},
   "source": [
    "### 70. 리스트 정렬"
   ]
  },
  {
   "cell_type": "code",
   "execution_count": 63,
   "id": "d4fefa93",
   "metadata": {},
   "outputs": [],
   "source": [
    "data = [2, 4, 3, 1, 5, 10, 9]"
   ]
  },
  {
   "cell_type": "code",
   "execution_count": 64,
   "id": "d7d90bca",
   "metadata": {},
   "outputs": [],
   "source": [
    "data.sort()"
   ]
  },
  {
   "cell_type": "code",
   "execution_count": 65,
   "id": "3e365330",
   "metadata": {},
   "outputs": [
    {
     "data": {
      "text/plain": [
       "[1, 2, 3, 4, 5, 9, 10]"
      ]
     },
     "execution_count": 65,
     "metadata": {},
     "output_type": "execute_result"
    }
   ],
   "source": [
    "data"
   ]
  },
  {
   "cell_type": "markdown",
   "id": "31821e2f",
   "metadata": {},
   "source": [
    "# 파이썬 튜플"
   ]
  },
  {
   "cell_type": "markdown",
   "id": "05f3f923",
   "metadata": {},
   "source": [
    "순서가 있지만 수정 불가능한 자료구조"
   ]
  },
  {
   "cell_type": "markdown",
   "id": "3596b62e",
   "metadata": {},
   "source": [
    "## 71~80"
   ]
  },
  {
   "cell_type": "markdown",
   "id": "0e30ed8a",
   "metadata": {},
   "source": [
    "### 71"
   ]
  },
  {
   "cell_type": "code",
   "execution_count": 66,
   "id": "4b465c05",
   "metadata": {},
   "outputs": [],
   "source": [
    "my_variable = ()"
   ]
  },
  {
   "cell_type": "code",
   "execution_count": 67,
   "id": "ae665fd9",
   "metadata": {},
   "outputs": [
    {
     "data": {
      "text/plain": [
       "tuple"
      ]
     },
     "execution_count": 67,
     "metadata": {},
     "output_type": "execute_result"
    }
   ],
   "source": [
    "type(my_variable)"
   ]
  },
  {
   "cell_type": "markdown",
   "id": "1a6426cb",
   "metadata": {},
   "source": [
    "### 72"
   ]
  },
  {
   "cell_type": "code",
   "execution_count": 68,
   "id": "d2f4ba59",
   "metadata": {},
   "outputs": [],
   "source": [
    "movie_rank = ('닥터 스트레인지', '스플릿', '럭키')"
   ]
  },
  {
   "cell_type": "markdown",
   "id": "70093df3",
   "metadata": {},
   "source": [
    "### 73"
   ]
  },
  {
   "cell_type": "code",
   "execution_count": 71,
   "id": "3e420ad9",
   "metadata": {},
   "outputs": [],
   "source": [
    "a = (1,)"
   ]
  },
  {
   "cell_type": "code",
   "execution_count": 72,
   "id": "0726d92f",
   "metadata": {},
   "outputs": [
    {
     "data": {
      "text/plain": [
       "tuple"
      ]
     },
     "execution_count": 72,
     "metadata": {},
     "output_type": "execute_result"
    }
   ],
   "source": [
    "type(a)"
   ]
  },
  {
   "cell_type": "markdown",
   "id": "6e6a560d",
   "metadata": {},
   "source": [
    "### 74"
   ]
  },
  {
   "cell_type": "code",
   "execution_count": 75,
   "id": "ed774180",
   "metadata": {},
   "outputs": [
    {
     "ename": "TypeError",
     "evalue": "'tuple' object does not support item assignment",
     "output_type": "error",
     "traceback": [
      "\u001b[1;31m---------------------------------------------------------------------------\u001b[0m",
      "\u001b[1;31mTypeError\u001b[0m                                 Traceback (most recent call last)",
      "Cell \u001b[1;32mIn[75], line 2\u001b[0m\n\u001b[0;32m      1\u001b[0m t \u001b[38;5;241m=\u001b[39m (\u001b[38;5;241m1\u001b[39m, \u001b[38;5;241m2\u001b[39m, \u001b[38;5;241m3\u001b[39m)\n\u001b[1;32m----> 2\u001b[0m t[\u001b[38;5;241m0\u001b[39m] \u001b[38;5;241m=\u001b[39m \u001b[38;5;124m'\u001b[39m\u001b[38;5;124ma\u001b[39m\u001b[38;5;124m'\u001b[39m\n",
      "\u001b[1;31mTypeError\u001b[0m: 'tuple' object does not support item assignment"
     ]
    }
   ],
   "source": [
    "t = (1, 2, 3)\n",
    "t[0] = 'a'\n",
    "# 튜플은 수정이 불가능하다."
   ]
  },
  {
   "cell_type": "markdown",
   "id": "d7f5ee7c",
   "metadata": {},
   "source": [
    "### 75"
   ]
  },
  {
   "cell_type": "code",
   "execution_count": 77,
   "id": "c52ec7cd",
   "metadata": {},
   "outputs": [],
   "source": [
    "t = 1, 2, 3, 4\n",
    "# 튜플"
   ]
  },
  {
   "cell_type": "code",
   "execution_count": 78,
   "id": "14dfd2aa",
   "metadata": {},
   "outputs": [
    {
     "data": {
      "text/plain": [
       "tuple"
      ]
     },
     "execution_count": 78,
     "metadata": {},
     "output_type": "execute_result"
    }
   ],
   "source": [
    "type(t)"
   ]
  },
  {
   "cell_type": "markdown",
   "id": "9a5d9174",
   "metadata": {},
   "source": [
    "### 76"
   ]
  },
  {
   "cell_type": "code",
   "execution_count": 79,
   "id": "fa0fdc16",
   "metadata": {},
   "outputs": [],
   "source": [
    "t = ('a', 'b', 'c')"
   ]
  },
  {
   "cell_type": "code",
   "execution_count": 80,
   "id": "90959a9b",
   "metadata": {},
   "outputs": [],
   "source": [
    "t = ('A', 'b', 'c')"
   ]
  },
  {
   "cell_type": "code",
   "execution_count": 81,
   "id": "4219aaa0",
   "metadata": {},
   "outputs": [
    {
     "data": {
      "text/plain": [
       "('A', 'b', 'c')"
      ]
     },
     "execution_count": 81,
     "metadata": {},
     "output_type": "execute_result"
    }
   ],
   "source": [
    "t"
   ]
  },
  {
   "cell_type": "markdown",
   "id": "e3091cc9",
   "metadata": {},
   "source": [
    "### 77"
   ]
  },
  {
   "cell_type": "code",
   "execution_count": 82,
   "id": "da511aff",
   "metadata": {},
   "outputs": [],
   "source": [
    "interest = ('삼성전자', 'LG전자', 'SK Hynix')"
   ]
  },
  {
   "cell_type": "code",
   "execution_count": 85,
   "id": "5ec2e3eb",
   "metadata": {},
   "outputs": [],
   "source": [
    "interest = list(interest)"
   ]
  },
  {
   "cell_type": "code",
   "execution_count": 86,
   "id": "b9f2915f",
   "metadata": {},
   "outputs": [
    {
     "data": {
      "text/plain": [
       "['삼성전자', 'LG전자', 'SK Hynix']"
      ]
     },
     "execution_count": 86,
     "metadata": {},
     "output_type": "execute_result"
    }
   ],
   "source": [
    "interest"
   ]
  },
  {
   "cell_type": "markdown",
   "id": "c56aac41",
   "metadata": {},
   "source": [
    "### 78"
   ]
  },
  {
   "cell_type": "code",
   "execution_count": 87,
   "id": "3c26c1ed",
   "metadata": {},
   "outputs": [],
   "source": [
    "interest = ['삼성전자', 'LG전자', 'SK Hynix']"
   ]
  },
  {
   "cell_type": "code",
   "execution_count": 89,
   "id": "3d7a21c7",
   "metadata": {},
   "outputs": [],
   "source": [
    "interest = tuple(interest)"
   ]
  },
  {
   "cell_type": "code",
   "execution_count": 90,
   "id": "a6d18566",
   "metadata": {},
   "outputs": [
    {
     "data": {
      "text/plain": [
       "('삼성전자', 'LG전자', 'SK Hynix')"
      ]
     },
     "execution_count": 90,
     "metadata": {},
     "output_type": "execute_result"
    }
   ],
   "source": [
    "interest"
   ]
  },
  {
   "cell_type": "markdown",
   "id": "8e3bf9c6",
   "metadata": {},
   "source": [
    "### 79. 튜플 언팩킹"
   ]
  },
  {
   "cell_type": "code",
   "execution_count": 91,
   "id": "3e189f20",
   "metadata": {},
   "outputs": [
    {
     "name": "stdout",
     "output_type": "stream",
     "text": [
      "apple banana cake\n"
     ]
    }
   ],
   "source": [
    "temp = ('apple', 'banana', 'cake')\n",
    "a, b, c = temp\n",
    "print(a, b, c)\n",
    "# apple banana cake"
   ]
  },
  {
   "cell_type": "markdown",
   "id": "ecf8e129",
   "metadata": {},
   "source": [
    "### 80. range 함수"
   ]
  },
  {
   "cell_type": "code",
   "execution_count": 104,
   "id": "e0b30a16",
   "metadata": {},
   "outputs": [
    {
     "name": "stdout",
     "output_type": "stream",
     "text": [
      "(2, 4, 6, 8, 10, 12, 14, 16, 18, 20, 22, 24, 26, 28, 30, 32, 34, 36, 38, 40, 42, 44, 46, 48, 50, 52, 54, 56, 58, 60, 62, 64, 66, 68, 70, 72, 74, 76, 78, 80, 82, 84, 86, 88, 90, 92, 94, 96, 98)\n"
     ]
    }
   ],
   "source": [
    "print(tuple(range(2,100, 2)))"
   ]
  },
  {
   "cell_type": "markdown",
   "id": "4373815e",
   "metadata": {},
   "source": [
    "# 파이썬 딕셔너리"
   ]
  },
  {
   "cell_type": "markdown",
   "id": "58bae4a6",
   "metadata": {},
   "source": [
    "파이썬 딕셔너리는 순서는 없지만 key와 value 형태로 데이터를 저장합니다. 특히 key는 데이터의 레이블(label)을 지정하는 용도로 자주 사용됩니다."
   ]
  },
  {
   "cell_type": "markdown",
   "id": "73d371de",
   "metadata": {},
   "source": [
    "## 81~100"
   ]
  },
  {
   "cell_type": "markdown",
   "id": "245beec2",
   "metadata": {},
   "source": [
    "### 81. 별 표현식"
   ]
  },
  {
   "cell_type": "markdown",
   "id": "270469cd",
   "metadata": {},
   "source": [
    "기본적으로 데이터 언패킹은 좌변의 변수와 우변 데이터 개수가 같아야 합니다. 하지만 star expression을 사용하면 변수의 개수가 달라도 데이터 언패킹을 할 수 있습니다. 튜플에 저장된 데이터 중에서 앞에 있는 두 개의 데이터만 필요할 경우 나머지 데이터의 언패킹 코드를 작성할 필요가 없습니다."
   ]
  },
  {
   "cell_type": "code",
   "execution_count": 105,
   "id": "375d13d1",
   "metadata": {},
   "outputs": [],
   "source": [
    "a, b, *c = (0, 1, 2, 3, 4, 5)"
   ]
  },
  {
   "cell_type": "code",
   "execution_count": 106,
   "id": "36812491",
   "metadata": {},
   "outputs": [
    {
     "data": {
      "text/plain": [
       "0"
      ]
     },
     "execution_count": 106,
     "metadata": {},
     "output_type": "execute_result"
    }
   ],
   "source": [
    "a"
   ]
  },
  {
   "cell_type": "code",
   "execution_count": 107,
   "id": "d2e41420",
   "metadata": {},
   "outputs": [
    {
     "data": {
      "text/plain": [
       "1"
      ]
     },
     "execution_count": 107,
     "metadata": {},
     "output_type": "execute_result"
    }
   ],
   "source": [
    "b"
   ]
  },
  {
   "cell_type": "code",
   "execution_count": 108,
   "id": "bd2503b8",
   "metadata": {},
   "outputs": [
    {
     "data": {
      "text/plain": [
       "[2, 3, 4, 5]"
      ]
     },
     "execution_count": 108,
     "metadata": {},
     "output_type": "execute_result"
    }
   ],
   "source": [
    "c"
   ]
  },
  {
   "cell_type": "code",
   "execution_count": 109,
   "id": "778da2ed",
   "metadata": {},
   "outputs": [],
   "source": [
    "scores = [8.8, 8.9, 8.7, 9.2, 9.3, 9.7, 9.9, 9.5, 7.8, 9.4]"
   ]
  },
  {
   "cell_type": "code",
   "execution_count": 112,
   "id": "26f0cc99",
   "metadata": {},
   "outputs": [],
   "source": [
    "*valid_score, a ,b = scores"
   ]
  },
  {
   "cell_type": "code",
   "execution_count": 113,
   "id": "e49fd70f",
   "metadata": {},
   "outputs": [
    {
     "data": {
      "text/plain": [
       "[8.8, 8.9, 8.7, 9.2, 9.3, 9.7, 9.9, 9.5]"
      ]
     },
     "execution_count": 113,
     "metadata": {},
     "output_type": "execute_result"
    }
   ],
   "source": [
    "valid_score"
   ]
  },
  {
   "cell_type": "markdown",
   "id": "8427c5ae",
   "metadata": {},
   "source": [
    "### 82"
   ]
  },
  {
   "cell_type": "code",
   "execution_count": 114,
   "id": "2bdb5b4c",
   "metadata": {},
   "outputs": [],
   "source": [
    "scores = [8.8, 8.9, 8.7, 9.2, 9.3, 9.7, 9.9, 9.5, 7.8, 9.4]"
   ]
  },
  {
   "cell_type": "code",
   "execution_count": 115,
   "id": "31aeb9f5",
   "metadata": {},
   "outputs": [],
   "source": [
    "a, b, *valid_score = scores"
   ]
  },
  {
   "cell_type": "code",
   "execution_count": 117,
   "id": "f2a9671b",
   "metadata": {},
   "outputs": [
    {
     "data": {
      "text/plain": [
       "[8.7, 9.2, 9.3, 9.7, 9.9, 9.5, 7.8, 9.4]"
      ]
     },
     "execution_count": 117,
     "metadata": {},
     "output_type": "execute_result"
    }
   ],
   "source": [
    "valid_score"
   ]
  },
  {
   "cell_type": "markdown",
   "id": "8450d933",
   "metadata": {},
   "source": [
    "### 83"
   ]
  },
  {
   "cell_type": "code",
   "execution_count": 118,
   "id": "17ca1458",
   "metadata": {},
   "outputs": [],
   "source": [
    "scores = [8.8, 8.9, 8.7, 9.2, 9.3, 9.7, 9.9, 9.5, 7.8, 9.4]"
   ]
  },
  {
   "cell_type": "code",
   "execution_count": 119,
   "id": "f7c3e8a8",
   "metadata": {},
   "outputs": [],
   "source": [
    "a, *valid_score, b = scores"
   ]
  },
  {
   "cell_type": "code",
   "execution_count": 120,
   "id": "03265e4e",
   "metadata": {},
   "outputs": [
    {
     "data": {
      "text/plain": [
       "[8.9, 8.7, 9.2, 9.3, 9.7, 9.9, 9.5, 7.8]"
      ]
     },
     "execution_count": 120,
     "metadata": {},
     "output_type": "execute_result"
    }
   ],
   "source": [
    "valid_score"
   ]
  },
  {
   "cell_type": "markdown",
   "id": "4e1b6454",
   "metadata": {},
   "source": [
    "### 84. 비어있는 딕셔너리"
   ]
  },
  {
   "cell_type": "code",
   "execution_count": 121,
   "id": "6a67ba41",
   "metadata": {},
   "outputs": [],
   "source": [
    "temp = {}"
   ]
  },
  {
   "cell_type": "code",
   "execution_count": 122,
   "id": "8f8533d8",
   "metadata": {},
   "outputs": [
    {
     "data": {
      "text/plain": [
       "dict"
      ]
     },
     "execution_count": 122,
     "metadata": {},
     "output_type": "execute_result"
    }
   ],
   "source": [
    "type(temp)"
   ]
  },
  {
   "cell_type": "markdown",
   "id": "d60ba9e4",
   "metadata": {},
   "source": [
    "### 85"
   ]
  },
  {
   "cell_type": "code",
   "execution_count": 123,
   "id": "1c006ee7",
   "metadata": {},
   "outputs": [],
   "source": [
    "icecream = {'메로나':1000, '폴라포':1200, '빵빠레':1800}"
   ]
  },
  {
   "cell_type": "markdown",
   "id": "58521fc6",
   "metadata": {},
   "source": [
    "### 86"
   ]
  },
  {
   "cell_type": "code",
   "execution_count": 124,
   "id": "10824264",
   "metadata": {},
   "outputs": [],
   "source": [
    "icecream['죠스바'] = 1200"
   ]
  },
  {
   "cell_type": "code",
   "execution_count": 125,
   "id": "5d38ecd6",
   "metadata": {},
   "outputs": [
    {
     "data": {
      "text/plain": [
       "{'메로나': 1000, '폴라포': 1200, '빵빠레': 1800, '죠스바': 1200}"
      ]
     },
     "execution_count": 125,
     "metadata": {},
     "output_type": "execute_result"
    }
   ],
   "source": [
    "icecream"
   ]
  },
  {
   "cell_type": "code",
   "execution_count": 126,
   "id": "ee8284e8",
   "metadata": {},
   "outputs": [],
   "source": [
    "icecream['월드콘'] = 1500"
   ]
  },
  {
   "cell_type": "code",
   "execution_count": 127,
   "id": "d7d2619c",
   "metadata": {},
   "outputs": [
    {
     "data": {
      "text/plain": [
       "{'메로나': 1000, '폴라포': 1200, '빵빠레': 1800, '죠스바': 1200, '월드콘': 1500}"
      ]
     },
     "execution_count": 127,
     "metadata": {},
     "output_type": "execute_result"
    }
   ],
   "source": [
    "icecream"
   ]
  },
  {
   "cell_type": "markdown",
   "id": "6718ac81",
   "metadata": {},
   "source": [
    "### 87"
   ]
  },
  {
   "cell_type": "code",
   "execution_count": 128,
   "id": "0e85fb6e",
   "metadata": {},
   "outputs": [],
   "source": [
    "ice = {'메로나': 1000,\n",
    "       '폴로포': 1200,\n",
    "       '빵빠레': 1800,\n",
    "       '죠스바': 1200,\n",
    "       '월드콘': 1500}"
   ]
  },
  {
   "cell_type": "code",
   "execution_count": 132,
   "id": "0d328628",
   "metadata": {},
   "outputs": [
    {
     "name": "stdout",
     "output_type": "stream",
     "text": [
      "메로나 가격: 1000\n"
     ]
    }
   ],
   "source": [
    "print('메로나 가격:', ice['메로나'])"
   ]
  },
  {
   "cell_type": "markdown",
   "id": "abfe2111",
   "metadata": {},
   "source": [
    "### 88"
   ]
  },
  {
   "cell_type": "code",
   "execution_count": 133,
   "id": "2ce02e09",
   "metadata": {},
   "outputs": [],
   "source": [
    "ice = {'메로나': 1000,\n",
    "       '폴로포': 1200,\n",
    "       '빵빠레': 1800,\n",
    "       '죠스바': 1200,\n",
    "       '월드콘': 1500}"
   ]
  },
  {
   "cell_type": "code",
   "execution_count": 134,
   "id": "ffa33d8e",
   "metadata": {},
   "outputs": [],
   "source": [
    "ice['메로나'] = 1300"
   ]
  },
  {
   "cell_type": "code",
   "execution_count": 135,
   "id": "9cfc1f59",
   "metadata": {},
   "outputs": [
    {
     "data": {
      "text/plain": [
       "{'메로나': 1300, '폴로포': 1200, '빵빠레': 1800, '죠스바': 1200, '월드콘': 1500}"
      ]
     },
     "execution_count": 135,
     "metadata": {},
     "output_type": "execute_result"
    }
   ],
   "source": [
    "ice"
   ]
  },
  {
   "cell_type": "markdown",
   "id": "9219a092",
   "metadata": {},
   "source": [
    "### 89"
   ]
  },
  {
   "cell_type": "code",
   "execution_count": 136,
   "id": "bdc77bc1",
   "metadata": {},
   "outputs": [],
   "source": [
    "ice = {'메로나': 1000,\n",
    "       '폴로포': 1200,\n",
    "       '빵빠레': 1800,\n",
    "       '죠스바': 1200,\n",
    "       '월드콘': 1500}"
   ]
  },
  {
   "cell_type": "code",
   "execution_count": 137,
   "id": "2788cc72",
   "metadata": {},
   "outputs": [],
   "source": [
    "del ice['메로나']"
   ]
  },
  {
   "cell_type": "code",
   "execution_count": 138,
   "id": "3440dab0",
   "metadata": {},
   "outputs": [
    {
     "data": {
      "text/plain": [
       "{'폴로포': 1200, '빵빠레': 1800, '죠스바': 1200, '월드콘': 1500}"
      ]
     },
     "execution_count": 138,
     "metadata": {},
     "output_type": "execute_result"
    }
   ],
   "source": [
    "ice"
   ]
  },
  {
   "cell_type": "markdown",
   "id": "aca9ad3c",
   "metadata": {},
   "source": [
    "### 90"
   ]
  },
  {
   "cell_type": "code",
   "execution_count": 139,
   "id": "8a8ede17",
   "metadata": {},
   "outputs": [],
   "source": [
    "icecream = {'폴라포': 1200, '빵빠레': 1800, '월드콘': 1500, '메로나': 1000}"
   ]
  },
  {
   "cell_type": "code",
   "execution_count": 140,
   "id": "6a2451ee",
   "metadata": {},
   "outputs": [
    {
     "ename": "KeyError",
     "evalue": "'누가바'",
     "output_type": "error",
     "traceback": [
      "\u001b[1;31m---------------------------------------------------------------------------\u001b[0m",
      "\u001b[1;31mKeyError\u001b[0m                                  Traceback (most recent call last)",
      "Cell \u001b[1;32mIn[140], line 1\u001b[0m\n\u001b[1;32m----> 1\u001b[0m icecream[\u001b[38;5;124m'\u001b[39m\u001b[38;5;124m누가바\u001b[39m\u001b[38;5;124m'\u001b[39m]\n",
      "\u001b[1;31mKeyError\u001b[0m: '누가바'"
     ]
    }
   ],
   "source": [
    "icecream['누가바']\n",
    "# key 값에 누가바는 없다."
   ]
  },
  {
   "cell_type": "markdown",
   "id": "0e53845a",
   "metadata": {},
   "source": [
    "### 91. 딕셔너리 생성"
   ]
  },
  {
   "cell_type": "code",
   "execution_count": 141,
   "id": "050064d4",
   "metadata": {},
   "outputs": [],
   "source": [
    "inventory = {'메로나':[300,20], '비비빅':[400,3], '죠스바':[250,100]}"
   ]
  },
  {
   "cell_type": "code",
   "execution_count": 142,
   "id": "b25e54d8",
   "metadata": {},
   "outputs": [
    {
     "data": {
      "text/plain": [
       "{'메로나': [300, 20], '비비빅': [400, 3], '죠스바': [250, 100]}"
      ]
     },
     "execution_count": 142,
     "metadata": {},
     "output_type": "execute_result"
    }
   ],
   "source": [
    "inventory"
   ]
  },
  {
   "cell_type": "markdown",
   "id": "d562f248",
   "metadata": {},
   "source": [
    "### 92. 딕셔너리 인덱싱"
   ]
  },
  {
   "cell_type": "code",
   "execution_count": 143,
   "id": "b73a9b80",
   "metadata": {},
   "outputs": [],
   "source": [
    "inventory = {\"메로나\": [300, 20],\n",
    "              \"비비빅\": [400, 3],\n",
    "              \"죠스바\": [250, 100]}"
   ]
  },
  {
   "cell_type": "code",
   "execution_count": 146,
   "id": "68e019ca",
   "metadata": {},
   "outputs": [
    {
     "name": "stdout",
     "output_type": "stream",
     "text": [
      "300 원\n"
     ]
    }
   ],
   "source": [
    "print(inventory['메로나'][0], '원')"
   ]
  },
  {
   "cell_type": "markdown",
   "id": "dad94155",
   "metadata": {},
   "source": [
    "### 93. 딕셔너리 인덱싱"
   ]
  },
  {
   "cell_type": "code",
   "execution_count": 147,
   "id": "404d0b15",
   "metadata": {},
   "outputs": [],
   "source": [
    "inventory = {\"메로나\": [300, 20],\n",
    "              \"비비빅\": [400, 3],\n",
    "              \"죠스바\": [250, 100]}"
   ]
  },
  {
   "cell_type": "code",
   "execution_count": 149,
   "id": "0093cc86",
   "metadata": {},
   "outputs": [
    {
     "name": "stdout",
     "output_type": "stream",
     "text": [
      "20 개\n"
     ]
    }
   ],
   "source": [
    "print(inventory['메로나'][1], '개')"
   ]
  },
  {
   "cell_type": "markdown",
   "id": "2ad83858",
   "metadata": {},
   "source": [
    "### 94. 딕셔너리 추가"
   ]
  },
  {
   "cell_type": "code",
   "execution_count": 150,
   "id": "78e358cf",
   "metadata": {},
   "outputs": [],
   "source": [
    "inventory = {\"메로나\": [300, 20],\n",
    "              \"비비빅\": [400, 3],\n",
    "              \"죠스바\": [250, 100]}"
   ]
  },
  {
   "cell_type": "code",
   "execution_count": 151,
   "id": "b03e8487",
   "metadata": {},
   "outputs": [],
   "source": [
    "inventory['월드콘'] = [500,7]"
   ]
  },
  {
   "cell_type": "code",
   "execution_count": 152,
   "id": "3a4ccdab",
   "metadata": {},
   "outputs": [
    {
     "data": {
      "text/plain": [
       "{'메로나': [300, 20], '비비빅': [400, 3], '죠스바': [250, 100], '월드콘': [500, 7]}"
      ]
     },
     "execution_count": 152,
     "metadata": {},
     "output_type": "execute_result"
    }
   ],
   "source": [
    "inventory"
   ]
  },
  {
   "cell_type": "markdown",
   "id": "241c42c3",
   "metadata": {},
   "source": [
    "### 95. 딕셔너리 keys() 메서드"
   ]
  },
  {
   "cell_type": "code",
   "execution_count": 153,
   "id": "89fe09ca",
   "metadata": {},
   "outputs": [],
   "source": [
    "icecream = {'탱크보이': 1200, '폴라포': 1200, '빵빠레': 1800, '월드콘': 1500, '메로나': 1000}"
   ]
  },
  {
   "cell_type": "code",
   "execution_count": 156,
   "id": "033442fe",
   "metadata": {},
   "outputs": [],
   "source": [
    "icename = list(icecream.keys())"
   ]
  },
  {
   "cell_type": "code",
   "execution_count": 157,
   "id": "e37ab5e0",
   "metadata": {},
   "outputs": [
    {
     "data": {
      "text/plain": [
       "['탱크보이', '폴라포', '빵빠레', '월드콘', '메로나']"
      ]
     },
     "execution_count": 157,
     "metadata": {},
     "output_type": "execute_result"
    }
   ],
   "source": [
    "icename"
   ]
  },
  {
   "cell_type": "markdown",
   "id": "d1d1c70f",
   "metadata": {},
   "source": [
    "### 96. 딕셔너리 values() 메서드"
   ]
  },
  {
   "cell_type": "code",
   "execution_count": 158,
   "id": "8ed10fda",
   "metadata": {},
   "outputs": [],
   "source": [
    "icecream = {'탱크보이': 1200, '폴라포': 1200, '빵빠레': 1800, '월드콘': 1500, '메로나': 1000}"
   ]
  },
  {
   "cell_type": "code",
   "execution_count": 161,
   "id": "849c53c4",
   "metadata": {},
   "outputs": [],
   "source": [
    "iceprice = list(icecream.values())"
   ]
  },
  {
   "cell_type": "code",
   "execution_count": 162,
   "id": "a4afdda1",
   "metadata": {},
   "outputs": [
    {
     "data": {
      "text/plain": [
       "[1200, 1200, 1800, 1500, 1000]"
      ]
     },
     "execution_count": 162,
     "metadata": {},
     "output_type": "execute_result"
    }
   ],
   "source": [
    "iceprice"
   ]
  },
  {
   "cell_type": "markdown",
   "id": "e69f342a",
   "metadata": {},
   "source": [
    "### 97. 딕셔너리 values() 메서드"
   ]
  },
  {
   "cell_type": "code",
   "execution_count": 163,
   "id": "875ec394",
   "metadata": {},
   "outputs": [],
   "source": [
    "icecream = {'탱크보이': 1200, '폴라포': 1200, '빵빠레': 1800, '월드콘': 1500, '메로나': 1000}"
   ]
  },
  {
   "cell_type": "code",
   "execution_count": 166,
   "id": "09e72360",
   "metadata": {},
   "outputs": [
    {
     "data": {
      "text/plain": [
       "6700"
      ]
     },
     "execution_count": 166,
     "metadata": {},
     "output_type": "execute_result"
    }
   ],
   "source": [
    "sum(icecream.values())"
   ]
  },
  {
   "cell_type": "markdown",
   "id": "4bb2b407",
   "metadata": {},
   "source": [
    "### 98. 딕셔너리 update 메서드"
   ]
  },
  {
   "cell_type": "code",
   "execution_count": 167,
   "id": "79ad38bb",
   "metadata": {},
   "outputs": [],
   "source": [
    "icecream = {'탱크보이': 1200, '폴라포': 1200, '빵빠레': 1800, '월드콘': 1500, '메로나': 1000}\n",
    "new_product = {'팥빙수':2700, '아맛나':1000}"
   ]
  },
  {
   "cell_type": "code",
   "execution_count": 168,
   "id": "e08671f4",
   "metadata": {},
   "outputs": [],
   "source": [
    "icecream.update(new_product)"
   ]
  },
  {
   "cell_type": "code",
   "execution_count": 169,
   "id": "3585141e",
   "metadata": {},
   "outputs": [
    {
     "name": "stdout",
     "output_type": "stream",
     "text": [
      "{'탱크보이': 1200, '폴라포': 1200, '빵빠레': 1800, '월드콘': 1500, '메로나': 1000, '팥빙수': 2700, '아맛나': 1000}\n"
     ]
    }
   ],
   "source": [
    "print(icecream)"
   ]
  },
  {
   "cell_type": "markdown",
   "id": "c4309d87",
   "metadata": {},
   "source": [
    "### 99. zip과 dict"
   ]
  },
  {
   "cell_type": "code",
   "execution_count": 170,
   "id": "27a4313b",
   "metadata": {},
   "outputs": [],
   "source": [
    "keys = (\"apple\", \"pear\", \"peach\")\n",
    "vals = (300, 250, 400)"
   ]
  },
  {
   "cell_type": "code",
   "execution_count": 186,
   "id": "76594c37",
   "metadata": {},
   "outputs": [],
   "source": [
    "result = dict(zip(keys, vals))"
   ]
  },
  {
   "cell_type": "code",
   "execution_count": 187,
   "id": "00356e14",
   "metadata": {},
   "outputs": [
    {
     "name": "stdout",
     "output_type": "stream",
     "text": [
      "{'apple': 300, 'pear': 250, 'peach': 400}\n"
     ]
    }
   ],
   "source": [
    "print(result)"
   ]
  },
  {
   "cell_type": "markdown",
   "id": "28fe20cd",
   "metadata": {},
   "source": [
    "### 100. zip과 dict"
   ]
  },
  {
   "cell_type": "code",
   "execution_count": 188,
   "id": "f410954b",
   "metadata": {},
   "outputs": [],
   "source": [
    "date = ['09/05', '09/06', '09/07', '09/08', '09/09']\n",
    "close_price = [10500, 10300, 10100, 10800, 11000]"
   ]
  },
  {
   "cell_type": "code",
   "execution_count": 190,
   "id": "0aa713f8",
   "metadata": {},
   "outputs": [],
   "source": [
    "close_table = dict(zip(date, close_price))"
   ]
  },
  {
   "cell_type": "code",
   "execution_count": 191,
   "id": "4c63dbc4",
   "metadata": {},
   "outputs": [
    {
     "name": "stdout",
     "output_type": "stream",
     "text": [
      "{'09/05': 10500, '09/06': 10300, '09/07': 10100, '09/08': 10800, '09/09': 11000}\n"
     ]
    }
   ],
   "source": [
    "print(close_table)"
   ]
  },
  {
   "cell_type": "markdown",
   "id": "1357e129",
   "metadata": {},
   "source": [
    "# 파이썬 분기문"
   ]
  },
  {
   "cell_type": "markdown",
   "id": "05721a09",
   "metadata": {},
   "source": [
    "## 101~130"
   ]
  },
  {
   "cell_type": "markdown",
   "id": "a09efe79",
   "metadata": {},
   "source": [
    "### 101"
   ]
  },
  {
   "cell_type": "code",
   "execution_count": 1,
   "id": "accdb298",
   "metadata": {},
   "outputs": [],
   "source": [
    "# 파이썬에서 True 혹은 False를 갖는 데이터 타입은 무엇인가?\n",
    "# 불린 타입 boolen type"
   ]
  },
  {
   "cell_type": "markdown",
   "id": "f48f7dda",
   "metadata": {},
   "source": [
    "### 102"
   ]
  },
  {
   "cell_type": "code",
   "execution_count": 2,
   "id": "eabe101a",
   "metadata": {},
   "outputs": [
    {
     "name": "stdout",
     "output_type": "stream",
     "text": [
      "False\n"
     ]
    }
   ],
   "source": [
    "print(3 == 5)\n",
    "# False"
   ]
  },
  {
   "cell_type": "markdown",
   "id": "a43f39fd",
   "metadata": {},
   "source": [
    "### 103"
   ]
  },
  {
   "cell_type": "code",
   "execution_count": 4,
   "id": "cf5f8bdb",
   "metadata": {},
   "outputs": [
    {
     "name": "stdout",
     "output_type": "stream",
     "text": [
      "True\n"
     ]
    }
   ],
   "source": [
    "print(3 < 5)\n",
    "# True"
   ]
  },
  {
   "cell_type": "markdown",
   "id": "1383a177",
   "metadata": {},
   "source": [
    "### 104"
   ]
  },
  {
   "cell_type": "code",
   "execution_count": 5,
   "id": "b607ad86",
   "metadata": {},
   "outputs": [],
   "source": [
    "x = 4"
   ]
  },
  {
   "cell_type": "code",
   "execution_count": 6,
   "id": "45fd02b0",
   "metadata": {},
   "outputs": [
    {
     "name": "stdout",
     "output_type": "stream",
     "text": [
      "True\n"
     ]
    }
   ],
   "source": [
    "print(1 < x <5)\n",
    "# True"
   ]
  },
  {
   "cell_type": "markdown",
   "id": "90e234f5",
   "metadata": {},
   "source": [
    "### 105"
   ]
  },
  {
   "cell_type": "code",
   "execution_count": 7,
   "id": "fe20ec10",
   "metadata": {},
   "outputs": [
    {
     "name": "stdout",
     "output_type": "stream",
     "text": [
      "True\n"
     ]
    }
   ],
   "source": [
    "print ((3 == 3) and (4 != 3))\n",
    "# True"
   ]
  },
  {
   "cell_type": "markdown",
   "id": "bca09e16",
   "metadata": {},
   "source": [
    "### 106"
   ]
  },
  {
   "cell_type": "code",
   "execution_count": 9,
   "id": "0cfdb7cd",
   "metadata": {},
   "outputs": [
    {
     "name": "stdout",
     "output_type": "stream",
     "text": [
      "False\n"
     ]
    }
   ],
   "source": [
    "print(3 => 4)\n",
    "# 지원하지 않는 연산자\n",
    "# >= 로 해야 함"
   ]
  },
  {
   "cell_type": "markdown",
   "id": "8127ef43",
   "metadata": {},
   "source": [
    "### 107"
   ]
  },
  {
   "cell_type": "code",
   "execution_count": 10,
   "id": "1390254c",
   "metadata": {},
   "outputs": [],
   "source": [
    "if 4 < 3:\n",
    "    print('Hello World')\n",
    "# 아무것도 출력되지 않음"
   ]
  },
  {
   "cell_type": "markdown",
   "id": "8a652908",
   "metadata": {},
   "source": [
    "### 108"
   ]
  },
  {
   "cell_type": "code",
   "execution_count": 11,
   "id": "09983b0a",
   "metadata": {},
   "outputs": [
    {
     "name": "stdout",
     "output_type": "stream",
     "text": [
      "Hi, there.\n"
     ]
    }
   ],
   "source": [
    "if 4 < 3:\n",
    "    print('Hello World.')\n",
    "else:\n",
    "    print('Hi, there.')\n",
    "# Hi, there."
   ]
  },
  {
   "cell_type": "markdown",
   "id": "ff9cd28d",
   "metadata": {},
   "source": [
    "### 109"
   ]
  },
  {
   "cell_type": "code",
   "execution_count": 12,
   "id": "aa157d53",
   "metadata": {},
   "outputs": [
    {
     "name": "stdout",
     "output_type": "stream",
     "text": [
      "1\n",
      "2\n",
      "4\n"
     ]
    }
   ],
   "source": [
    "if True:\n",
    "    print('1')\n",
    "    print('2')\n",
    "else:\n",
    "    print('3')\n",
    "print('4')\n",
    "# 1, 2, 4"
   ]
  },
  {
   "cell_type": "markdown",
   "id": "203c0708",
   "metadata": {},
   "source": [
    "### 110"
   ]
  },
  {
   "cell_type": "code",
   "execution_count": 13,
   "id": "30d6d3c3",
   "metadata": {},
   "outputs": [
    {
     "name": "stdout",
     "output_type": "stream",
     "text": [
      "3\n",
      "5\n"
     ]
    }
   ],
   "source": [
    "if True:\n",
    "    if False:\n",
    "        print('1')\n",
    "        print('2')\n",
    "    else:\n",
    "        print('3')\n",
    "else:\n",
    "    print('4')\n",
    "print('5')\n",
    "# 3, 5"
   ]
  },
  {
   "cell_type": "markdown",
   "id": "52e85077",
   "metadata": {},
   "source": [
    "### 111"
   ]
  },
  {
   "cell_type": "code",
   "execution_count": 14,
   "id": "9467e6c9",
   "metadata": {},
   "outputs": [
    {
     "name": "stdout",
     "output_type": "stream",
     "text": [
      "안녕하세요\n",
      "안녕하세요안녕하세요\n"
     ]
    }
   ],
   "source": [
    "print(input()*2)"
   ]
  },
  {
   "cell_type": "code",
   "execution_count": 15,
   "id": "f315135f",
   "metadata": {},
   "outputs": [
    {
     "name": "stdout",
     "output_type": "stream",
     "text": [
      "입력:안녕하세요\n",
      "안녕하세요안녕하세요\n"
     ]
    }
   ],
   "source": [
    "user = input(\"입력:\")\n",
    "print(user * 2)"
   ]
  },
  {
   "cell_type": "markdown",
   "id": "2d578f47",
   "metadata": {},
   "source": [
    "### 112"
   ]
  },
  {
   "cell_type": "code",
   "execution_count": 17,
   "id": "7fdd9c8d",
   "metadata": {},
   "outputs": [
    {
     "name": "stdout",
     "output_type": "stream",
     "text": [
      "숫자를 입력하세요: 30\n",
      "40\n"
     ]
    }
   ],
   "source": [
    "add = int(input('숫자를 입력하세요: '))\n",
    "print(add + 10)"
   ]
  },
  {
   "cell_type": "markdown",
   "id": "a19cca43",
   "metadata": {},
   "source": [
    "### 113"
   ]
  },
  {
   "cell_type": "code",
   "execution_count": 19,
   "id": "8ad4f18d",
   "metadata": {},
   "outputs": [
    {
     "name": "stdout",
     "output_type": "stream",
     "text": [
      "1\n",
      "홀수\n"
     ]
    }
   ],
   "source": [
    "user = int(input())\n",
    "if user % 2 == 0:\n",
    "    print('짝수')\n",
    "else:\n",
    "    print('홀수')"
   ]
  },
  {
   "cell_type": "markdown",
   "id": "9ce2bfd9",
   "metadata": {},
   "source": [
    "### 114"
   ]
  },
  {
   "cell_type": "code",
   "execution_count": 30,
   "id": "00830533",
   "metadata": {},
   "outputs": [
    {
     "name": "stdout",
     "output_type": "stream",
     "text": [
      "입력값: 236\n",
      "출력값: 255\n"
     ]
    }
   ],
   "source": [
    "user = int(input('입력값: '))\n",
    "\n",
    "if user + 20 > 255:\n",
    "    print('출력값:', 255)\n",
    "else:\n",
    "    print('출력값:', user + 20)"
   ]
  },
  {
   "cell_type": "markdown",
   "id": "041413ea",
   "metadata": {},
   "source": [
    "### 115"
   ]
  },
  {
   "cell_type": "code",
   "execution_count": 35,
   "id": "3350693b",
   "metadata": {},
   "outputs": [
    {
     "name": "stdout",
     "output_type": "stream",
     "text": [
      "입력값: 15\n",
      "출력값: 0\n"
     ]
    }
   ],
   "source": [
    "user = int(input('입력값: '))\n",
    "minus = user - 20\n",
    "\n",
    "if minus < 0:\n",
    "    print('출력값:', 0)\n",
    "elif minus > 255:\n",
    "    print('출력값:', 255)\n",
    "else:\n",
    "    print('출력값', minus)"
   ]
  },
  {
   "cell_type": "markdown",
   "id": "cff02a8e",
   "metadata": {},
   "source": [
    "### 116"
   ]
  },
  {
   "cell_type": "code",
   "execution_count": 36,
   "id": "e51ca276",
   "metadata": {},
   "outputs": [
    {
     "name": "stdout",
     "output_type": "stream",
     "text": [
      "현재시간: 2:0\n"
     ]
    },
    {
     "ename": "ValueError",
     "evalue": "invalid literal for int() with base 10: '2:0'",
     "output_type": "error",
     "traceback": [
      "\u001b[1;31m---------------------------------------------------------------------------\u001b[0m",
      "\u001b[1;31mValueError\u001b[0m                                Traceback (most recent call last)",
      "Cell \u001b[1;32mIn[36], line 1\u001b[0m\n\u001b[1;32m----> 1\u001b[0m user \u001b[38;5;241m=\u001b[39m \u001b[38;5;28mint\u001b[39m(\u001b[38;5;28minput\u001b[39m(\u001b[38;5;124m'\u001b[39m\u001b[38;5;124m현재시간: \u001b[39m\u001b[38;5;124m'\u001b[39m))\n\u001b[0;32m      3\u001b[0m \u001b[38;5;28;01mif\u001b[39;00m user \u001b[38;5;241m%\u001b[39m \u001b[38;5;241m60\u001b[39m \u001b[38;5;241m==\u001b[39m \u001b[38;5;241m0\u001b[39m:\n\u001b[0;32m      4\u001b[0m     \u001b[38;5;28mprint\u001b[39m(\u001b[38;5;124m'\u001b[39m\u001b[38;5;124m정각 입니다.\u001b[39m\u001b[38;5;124m'\u001b[39m)\n",
      "\u001b[1;31mValueError\u001b[0m: invalid literal for int() with base 10: '2:0'"
     ]
    }
   ],
   "source": [
    "user = int(input('현재시간: '))\n",
    "\n",
    "if user % 60 == 0:\n",
    "    print('정각 입니다.')\n",
    "else:\n",
    "    print('정각이 아닙니다.')"
   ]
  },
  {
   "cell_type": "code",
   "execution_count": 39,
   "id": "c473718c",
   "metadata": {},
   "outputs": [
    {
     "name": "stdout",
     "output_type": "stream",
     "text": [
      "현재시간: 19:20\n",
      "정각이 아닙니다.\n"
     ]
    }
   ],
   "source": [
    "time = input(\"현재시간: \")\n",
    "\n",
    "if time[-2:] == '00':\n",
    "    print('정각 입니다.')\n",
    "else:\n",
    "    print('정각이 아닙니다.')"
   ]
  },
  {
   "cell_type": "markdown",
   "id": "90b06317",
   "metadata": {},
   "source": [
    "### 117"
   ]
  },
  {
   "cell_type": "code",
   "execution_count": 41,
   "id": "4a3179ff",
   "metadata": {},
   "outputs": [
    {
     "name": "stdout",
     "output_type": "stream",
     "text": [
      "좋아하는 과일은? 복숭아\n",
      "오답입니다.\n"
     ]
    }
   ],
   "source": [
    "fruit = [\"사과\", \"포도\", \"홍시\"]\n",
    "\n",
    "user = input('좋아하는 과일은? ')\n",
    "\n",
    "if user in fruit:\n",
    "    print('정답입니다.')\n",
    "else:\n",
    "    print('오답입니다.')"
   ]
  },
  {
   "cell_type": "markdown",
   "id": "9a64cc42",
   "metadata": {},
   "source": [
    "### 118"
   ]
  },
  {
   "cell_type": "code",
   "execution_count": 42,
   "id": "6d687c83",
   "metadata": {},
   "outputs": [
    {
     "name": "stdout",
     "output_type": "stream",
     "text": [
      "Microsoft\n",
      "투자 경고 종목입니다\n"
     ]
    }
   ],
   "source": [
    "warn_investment_list = [\"Microsoft\", \"Google\", \"Naver\", \"Kakao\", \"SAMSUNG\", \"LG\"]\n",
    "user = input()\n",
    "\n",
    "if user in warn_investment_list:\n",
    "    print('투자 경고 종목입니다')\n",
    "else:\n",
    "    print('투자 경고 종목이 아닙니다.')"
   ]
  },
  {
   "cell_type": "markdown",
   "id": "f027a7cd",
   "metadata": {},
   "source": [
    "### 119"
   ]
  },
  {
   "cell_type": "code",
   "execution_count": 45,
   "id": "7a98a17a",
   "metadata": {},
   "outputs": [
    {
     "name": "stdout",
     "output_type": "stream",
     "text": [
      "제가 좋아하는 계절: 겨울\n",
      "오답입니다\n"
     ]
    }
   ],
   "source": [
    "fruit = {\"봄\" : \"딸기\", \"여름\" : \"토마토\", \"가을\" : \"사과\"}\n",
    "user = input('제가 좋아하는 계절: ')\n",
    "\n",
    "if user in fruit:\n",
    "    print('정답입니다')\n",
    "else:\n",
    "    print('오답입니다')"
   ]
  },
  {
   "cell_type": "markdown",
   "id": "f32e1e6c",
   "metadata": {},
   "source": [
    "### 120"
   ]
  },
  {
   "cell_type": "code",
   "execution_count": 49,
   "id": "fc2ad6a5",
   "metadata": {},
   "outputs": [
    {
     "name": "stdout",
     "output_type": "stream",
     "text": [
      "좋아하는 과일: 딸기\n",
      "정답입니다\n"
     ]
    }
   ],
   "source": [
    "fruit = {\"봄\" : \"딸기\", \"여름\" : \"토마토\", \"가을\" : \"사과\"}\n",
    "user = input('좋아하는 과일: ')\n",
    "\n",
    "if user in fruit.values():\n",
    "    print('정답입니다')\n",
    "else:\n",
    "    print('오답입니다')"
   ]
  },
  {
   "cell_type": "markdown",
   "id": "fccad334",
   "metadata": {},
   "source": [
    "### 121"
   ]
  },
  {
   "cell_type": "code",
   "execution_count": 53,
   "id": "60a8fee9",
   "metadata": {},
   "outputs": [
    {
     "name": "stdout",
     "output_type": "stream",
     "text": [
      "A\n",
      "a\n"
     ]
    }
   ],
   "source": [
    "user = input()\n",
    "\n",
    "if user.islower():\n",
    "    print(user.upper())\n",
    "else:\n",
    "    print(user.lower())"
   ]
  },
  {
   "cell_type": "markdown",
   "id": "3a8d4dc2",
   "metadata": {},
   "source": [
    "### 122"
   ]
  },
  {
   "cell_type": "code",
   "execution_count": 56,
   "id": "01ffa727",
   "metadata": {},
   "outputs": [
    {
     "name": "stdout",
     "output_type": "stream",
     "text": [
      "score: 2\n",
      "grade is E\n"
     ]
    }
   ],
   "source": [
    "score = int(input('score: '))\n",
    "\n",
    "if score > 80:\n",
    "    print('grade is A')\n",
    "elif score > 60:\n",
    "    print('grade is B')\n",
    "elif score > 40:\n",
    "    print('grade is C')\n",
    "elif score > 20:\n",
    "    print('grade is D')\n",
    "else:\n",
    "    print('grade is E')"
   ]
  },
  {
   "cell_type": "markdown",
   "id": "d1bf503f",
   "metadata": {},
   "source": [
    "### 123"
   ]
  },
  {
   "cell_type": "code",
   "execution_count": 64,
   "id": "7d3bb6f5",
   "metadata": {},
   "outputs": [
    {
     "name": "stdout",
     "output_type": "stream",
     "text": [
      "입력: 100 위안\n",
      "17100 원\n"
     ]
    }
   ],
   "source": [
    "user = input('입력: ')\n",
    "user_split = user.split(' ')\n",
    "\n",
    "if user_split[1] == ('달러'):\n",
    "    print(int(user_split[0])*1167, '원')\n",
    "elif user_split[1] == ('엔'):\n",
    "    print(int(user_split[0])*1.096, '원')\n",
    "elif user_split[1] == ('유로'):\n",
    "    print(int(user_split[0])*1268, '원')\n",
    "else:\n",
    "    print(int(user_split[0])*171, '원')"
   ]
  },
  {
   "cell_type": "code",
   "execution_count": 65,
   "id": "5ba80c05",
   "metadata": {},
   "outputs": [
    {
     "name": "stdout",
     "output_type": "stream",
     "text": [
      "입력: 102 달러\n",
      "119034.0 원\n"
     ]
    }
   ],
   "source": [
    "환율 = {\"달러\": 1167, \n",
    "        \"엔\": 1.096, \n",
    "        \"유로\": 1268, \n",
    "        \"위안\": 171}\n",
    "user = input(\"입력: \")\n",
    "num, currency = user.split()\n",
    "print(float(num) * 환율[currency], \"원\")"
   ]
  },
  {
   "cell_type": "markdown",
   "id": "910b8ac2",
   "metadata": {},
   "source": [
    "### 124"
   ]
  },
  {
   "cell_type": "code",
   "execution_count": 75,
   "id": "a394b022",
   "metadata": {},
   "outputs": [
    {
     "name": "stdout",
     "output_type": "stream",
     "text": [
      "input number1: 2\n",
      "input number2: 6\n",
      "input number3: 0\n",
      "6\n"
     ]
    }
   ],
   "source": [
    "a = int(input('input number1: '))\n",
    "b = int(input('input number2: '))\n",
    "c = int(input('input number3: '))\n",
    "\n",
    "if a >= b and a >= c:\n",
    "    print(a)\n",
    "elif b >= a and b >= c:\n",
    "    print(b)\n",
    "else:\n",
    "    print(c)"
   ]
  },
  {
   "cell_type": "markdown",
   "id": "b8b8924f",
   "metadata": {},
   "source": [
    "### 125"
   ]
  },
  {
   "cell_type": "code",
   "execution_count": 81,
   "id": "ef04aa5d",
   "metadata": {},
   "outputs": [
    {
     "name": "stdout",
     "output_type": "stream",
     "text": [
      "휴대전화 번호 입력: 010-2020-2020\n",
      "알수없음\n"
     ]
    }
   ],
   "source": [
    "user = input('휴대전화 번호 입력: ')\n",
    "number = user[:3]\n",
    "\n",
    "if number == '011':\n",
    "    print('당신은 SKT 사용자입니다.')\n",
    "elif number == '016':\n",
    "    print('당신은 KT 사용자입니다.')\n",
    "elif number == '019':\n",
    "    print('당신은 LGU 사용자입니다.')\n",
    "else:\n",
    "    print('알수없음')"
   ]
  },
  {
   "cell_type": "code",
   "execution_count": 82,
   "id": "73ad75c0",
   "metadata": {},
   "outputs": [
    {
     "name": "stdout",
     "output_type": "stream",
     "text": [
      "휴대전화 번호 입력: 010-2020-3030\n",
      "당신은 알수없음 사용자입니다.\n"
     ]
    }
   ],
   "source": [
    "number = input(\"휴대전화 번호 입력: \")\n",
    "num = number.split(\"-\")[0]\n",
    "if num == \"011\":\n",
    "    com = \"SKT\"\n",
    "elif num == \"016\":\n",
    "    com = \"KT\"\n",
    "elif num == \"019\":\n",
    "    com = \"LGU\"\n",
    "else:\n",
    "    com = \"알수없음\"\n",
    "print(f\"당신은 {com} 사용자입니다.\")"
   ]
  },
  {
   "cell_type": "markdown",
   "id": "a4a1aa9b",
   "metadata": {},
   "source": [
    "### 126"
   ]
  },
  {
   "cell_type": "code",
   "execution_count": 92,
   "id": "51947c2d",
   "metadata": {},
   "outputs": [
    {
     "name": "stdout",
     "output_type": "stream",
     "text": [
      "우편번호: 01677\n",
      "노원구\n"
     ]
    }
   ],
   "source": [
    "user = input('우편번호: ')\n",
    "postnum = user[:3]\n",
    "\n",
    "if postnum in ('010', '011', '012'):\n",
    "    region = '강북구'\n",
    "elif postnum in ('013', '014','015'):\n",
    "    region = '도봉구'\n",
    "else:\n",
    "    region = '노원구'\n",
    "print(region)"
   ]
  },
  {
   "cell_type": "markdown",
   "id": "007a0ab7",
   "metadata": {},
   "source": [
    "### 127"
   ]
  },
  {
   "cell_type": "code",
   "execution_count": 98,
   "id": "effa962b",
   "metadata": {},
   "outputs": [
    {
     "name": "stdout",
     "output_type": "stream",
     "text": [
      "주민등록번호: 000972-2876543\n",
      "여자\n"
     ]
    }
   ],
   "source": [
    "user = input('주민등록번호: ')\n",
    "sex = int(user[7])\n",
    "\n",
    "if sex == 1 or sex == 3:\n",
    "    print('남자')\n",
    "else:\n",
    "    print('여자')"
   ]
  },
  {
   "cell_type": "code",
   "execution_count": 99,
   "id": "2c145583",
   "metadata": {},
   "outputs": [
    {
     "name": "stdout",
     "output_type": "stream",
     "text": [
      "주민등록번호: 123445-2938473\n",
      "여자\n"
     ]
    }
   ],
   "source": [
    "주민번호 = input(\"주민등록번호: \")\n",
    "주민번호 = 주민번호.split(\"-\")[1]\n",
    "if 주민번호[0] == \"1\" or 주민번호[0] == \"3\":\n",
    "    print(\"남자\")\n",
    "else:\n",
    "    print(\"여자\")"
   ]
  },
  {
   "cell_type": "markdown",
   "id": "ca309206",
   "metadata": {},
   "source": [
    "### 128"
   ]
  },
  {
   "cell_type": "code",
   "execution_count": 102,
   "id": "d3e4d8bc",
   "metadata": {},
   "outputs": [
    {
     "name": "stdout",
     "output_type": "stream",
     "text": [
      "주민등록번호: 000982-2039474\n",
      "서울 입니다.\n"
     ]
    }
   ],
   "source": [
    "user = input('주민등록번호: ')\n",
    "user = user.split('-')[1]\n",
    "seoulcode = ['00', '01','02','03','04','05','06','07','08']\n",
    "busancode = ['09','10','11','12']\n",
    "\n",
    "if user[1:3] in seoulcode:\n",
    "    region = '서울'\n",
    "    print(f'{region} 입니다.')\n",
    "else:\n",
    "    region = '서울'\n",
    "    print(f'{region}이 아닙니다.')\n"
   ]
  },
  {
   "cell_type": "code",
   "execution_count": 103,
   "id": "09223c9d",
   "metadata": {},
   "outputs": [
    {
     "name": "stdout",
     "output_type": "stream",
     "text": [
      "주민등록번호: 0000222-3938474\n",
      "서울이 아닙니다.\n"
     ]
    }
   ],
   "source": [
    "주민번호 = input(\"주민등록번호: \")\n",
    "뒷자리 = 주민번호.split(\"-\")[1]\n",
    "if 0 <= int(뒷자리[1:3]) <= 8:\n",
    "    print(\"서울입니다.\")\n",
    "else:\n",
    "    print(\"서울이 아닙니다.\")"
   ]
  },
  {
   "cell_type": "markdown",
   "id": "dd457bc4",
   "metadata": {},
   "source": [
    "### 129"
   ]
  },
  {
   "cell_type": "code",
   "execution_count": 110,
   "id": "4b241f37",
   "metadata": {},
   "outputs": [
    {
     "name": "stdout",
     "output_type": "stream",
     "text": [
      "주민등록번호: 009971-1234567\n",
      "유효한 주민등록번호입니다.\n"
     ]
    }
   ],
   "source": [
    "user = input('주민등록번호: ')\n",
    "\n",
    "last = (int(user[0])*2 + int(user[1])*3 + int(user[2])*4 + int(user[3]) * 5 +\n",
    " int(user[4])*6 + int(user[5])*7 + int(user[7])*8 + int(user[8])*9 +\n",
    " int(user[9])*2 + int(user[10])*3 + int(user[11])*4 + int(user[12])*5)\n",
    "\n",
    "if str(11 - (last % 11)) == user[-1]:\n",
    "    print('유효한 주민등록번호입니다.')\n",
    "else:\n",
    "    print('유효하지 않은 주민등록번호입니다.')"
   ]
  },
  {
   "cell_type": "code",
   "execution_count": 108,
   "id": "23bff1e4",
   "metadata": {},
   "outputs": [
    {
     "name": "stdout",
     "output_type": "stream",
     "text": [
      "주민등록번호: 009971-1234567\n",
      "유효한 주민등록번호입니다.\n"
     ]
    }
   ],
   "source": [
    "num = input(\"주민등록번호: \")\n",
    "계산1 = int(num[0]) * 2 + int(num[1]) * 3 + int(num[2]) * 4 + int(num[3]) * 5 + int(num[4]) * 6 + \\\n",
    "        int(num[5]) * 7 + int(num[7]) * 8 + int(num[8]) * 9 + int(num[9]) * 2 + int(num[10])* 3 + \\\n",
    "        int(num[11])* 4 + int(num[12]) * 5\n",
    "계산2 = 11 - (계산1 % 11)\n",
    "계산3 = str(계산2)\n",
    "\n",
    "if num[-1] == 계산3[-1]:\n",
    "    print(\"유효한 주민등록번호입니다.\")\n",
    "else:\n",
    "    print(\"유효하지 않은 주민등록번호입니다.\")"
   ]
  },
  {
   "cell_type": "markdown",
   "id": "52501ea0",
   "metadata": {},
   "source": [
    "### 130"
   ]
  },
  {
   "cell_type": "code",
   "execution_count": 111,
   "id": "2fd5ed62",
   "metadata": {},
   "outputs": [],
   "source": [
    "import requests\n",
    "btc = requests.get(\"https://api.bithumb.com/public/ticker/\").json()['data']"
   ]
  },
  {
   "cell_type": "code",
   "execution_count": 112,
   "id": "d7c4a84f",
   "metadata": {},
   "outputs": [
    {
     "data": {
      "text/plain": [
       "{'opening_price': '92129000',\n",
       " 'closing_price': '94308000',\n",
       " 'min_price': '91500000',\n",
       " 'max_price': '96860000',\n",
       " 'units_traded': '3937.44767792',\n",
       " 'acc_trade_value': '371395697010.1892',\n",
       " 'prev_closing_price': '92129000',\n",
       " 'units_traded_24H': '4315.97724715',\n",
       " 'acc_trade_value_24H': '405978326478.1751',\n",
       " 'fluctate_24H': '3418000',\n",
       " 'fluctate_rate_24H': '3.76',\n",
       " 'date': '1709641904813'}"
      ]
     },
     "execution_count": 112,
     "metadata": {},
     "output_type": "execute_result"
    }
   ],
   "source": [
    "btc"
   ]
  },
  {
   "cell_type": "code",
   "execution_count": 116,
   "id": "4885a23b",
   "metadata": {},
   "outputs": [
    {
     "name": "stdout",
     "output_type": "stream",
     "text": [
      "상승장\n"
     ]
    }
   ],
   "source": [
    "wave = int(btc['max_price']) - int(btc['min_price'])\n",
    "\n",
    "if (int(btc['opening_price'])+wave) > int(btc['max_price']):\n",
    "    print('상승장')\n",
    "else:\n",
    "    print('하락장')"
   ]
  },
  {
   "cell_type": "code",
   "execution_count": 117,
   "id": "eeec1a1d",
   "metadata": {},
   "outputs": [
    {
     "name": "stdout",
     "output_type": "stream",
     "text": [
      "상승장\n"
     ]
    }
   ],
   "source": [
    "변동폭 = float(btc['max_price']) - float(btc['min_price'])\n",
    "시가 = float(btc['opening_price'])\n",
    "최고가 = float(btc['max_price'])\n",
    "\n",
    "if (시가+변동폭) > 최고가:\n",
    "    print(\"상승장\")\n",
    "else:\n",
    "    print(\"하락장\")"
   ]
  },
  {
   "cell_type": "markdown",
   "id": "14f1a63e",
   "metadata": {},
   "source": [
    "# 파이썬 반복문"
   ]
  },
  {
   "cell_type": "markdown",
   "id": "83e46e1f",
   "metadata": {},
   "source": [
    "## 131~200"
   ]
  },
  {
   "cell_type": "markdown",
   "id": "37bb5d62",
   "metadata": {},
   "source": [
    "### 131"
   ]
  },
  {
   "cell_type": "code",
   "execution_count": 118,
   "id": "3425dccf",
   "metadata": {},
   "outputs": [
    {
     "name": "stdout",
     "output_type": "stream",
     "text": [
      "사과\n",
      "귤\n",
      "수박\n"
     ]
    }
   ],
   "source": [
    "과일 = [\"사과\", \"귤\", \"수박\"]\n",
    "for 변수 in 과일:\n",
    "    print(변수)\n",
    "# '사과', '귤', '수박'"
   ]
  },
  {
   "cell_type": "markdown",
   "id": "c7f63748",
   "metadata": {},
   "source": [
    "### 132"
   ]
  },
  {
   "cell_type": "markdown",
   "id": "96eb5b17",
   "metadata": {},
   "source": [
    "for문의 핵심은 \"들여쓰기된 코드가 자료구조에 저장된 데이터 개수만큼 반복된다"
   ]
  },
  {
   "cell_type": "code",
   "execution_count": 119,
   "id": "e7711944",
   "metadata": {},
   "outputs": [
    {
     "name": "stdout",
     "output_type": "stream",
     "text": [
      "#####\n",
      "#####\n",
      "#####\n"
     ]
    }
   ],
   "source": [
    "과일 = [\"사과\", \"귤\", \"수박\"]\n",
    "for 변수 in 과일:\n",
    "  print(\"#####\")\n",
    "# #####이 세 개 출력"
   ]
  },
  {
   "cell_type": "markdown",
   "id": "fb4b69f9",
   "metadata": {},
   "source": [
    "### 133"
   ]
  },
  {
   "cell_type": "code",
   "execution_count": 120,
   "id": "ef565e28",
   "metadata": {},
   "outputs": [
    {
     "name": "stdout",
     "output_type": "stream",
     "text": [
      "A\n",
      "B\n",
      "C\n"
     ]
    }
   ],
   "source": [
    "for 변수 in [\"A\", \"B\", \"C\"]:\n",
    "  print(변수)"
   ]
  },
  {
   "cell_type": "code",
   "execution_count": 121,
   "id": "2e018acf",
   "metadata": {},
   "outputs": [
    {
     "name": "stdout",
     "output_type": "stream",
     "text": [
      "A\n",
      "B\n",
      "C\n"
     ]
    }
   ],
   "source": [
    "print(\"A\")\n",
    "print(\"B\")\n",
    "print(\"C\")"
   ]
  },
  {
   "cell_type": "markdown",
   "id": "ec5f63d6",
   "metadata": {},
   "source": [
    "### 134"
   ]
  },
  {
   "cell_type": "code",
   "execution_count": 122,
   "id": "823f1a0b",
   "metadata": {},
   "outputs": [
    {
     "name": "stdout",
     "output_type": "stream",
     "text": [
      "출력: A\n",
      "출력: B\n",
      "출력: C\n"
     ]
    }
   ],
   "source": [
    "for 변수 in [\"A\", \"B\", \"C\"]:\n",
    "  print(\"출력:\", 변수)"
   ]
  },
  {
   "cell_type": "code",
   "execution_count": 125,
   "id": "e04d1d88",
   "metadata": {},
   "outputs": [
    {
     "name": "stdout",
     "output_type": "stream",
     "text": [
      "출력: A\n",
      "출력: B\n",
      "출력: C\n"
     ]
    }
   ],
   "source": [
    "변수 = [\"A\", \"B\", \"C\"]\n",
    "print(\"출력:\", 변수[0])\n",
    "print(\"출력:\", 변수[1])\n",
    "print(\"출력:\", 변수[2])"
   ]
  },
  {
   "cell_type": "markdown",
   "id": "32a6eeb0",
   "metadata": {},
   "source": [
    "### 135"
   ]
  },
  {
   "cell_type": "code",
   "execution_count": 126,
   "id": "e738e120",
   "metadata": {},
   "outputs": [
    {
     "name": "stdout",
     "output_type": "stream",
     "text": [
      "변환: a\n",
      "변환: b\n",
      "변환: c\n"
     ]
    }
   ],
   "source": [
    "for 변수 in [\"A\", \"B\", \"C\"]:\n",
    "  b = 변수.lower()\n",
    "  print(\"변환:\", b)"
   ]
  },
  {
   "cell_type": "code",
   "execution_count": 129,
   "id": "fa300f64",
   "metadata": {},
   "outputs": [
    {
     "name": "stdout",
     "output_type": "stream",
     "text": [
      "변환: a\n",
      "변환: b\n",
      "변환: c\n"
     ]
    }
   ],
   "source": [
    "변수 = [\"A\", \"B\", \"C\"]\n",
    "print(\"변환:\", 변수[0].lower())\n",
    "print(\"변환:\", 변수[1].lower())\n",
    "print(\"변환:\", 변수[2].lower())"
   ]
  },
  {
   "cell_type": "code",
   "execution_count": 130,
   "id": "e921ea2b",
   "metadata": {},
   "outputs": [
    {
     "name": "stdout",
     "output_type": "stream",
     "text": [
      "변환: a\n",
      "변환: b\n",
      "변환: c\n"
     ]
    }
   ],
   "source": [
    "변수 = \"A\"\n",
    "b = 변수.lower()\n",
    "print(\"변환:\", b)\n",
    "변수 = \"B\"\n",
    "b = 변수.lower()\n",
    "print(\"변환:\", b)\n",
    "변수 = \"C\"\n",
    "b = 변수.lower()\n",
    "print(\"변환:\", b)"
   ]
  },
  {
   "cell_type": "markdown",
   "id": "3ac5ee87",
   "metadata": {},
   "source": [
    "### 136"
   ]
  },
  {
   "cell_type": "code",
   "execution_count": 131,
   "id": "2f2c5210",
   "metadata": {},
   "outputs": [
    {
     "name": "stdout",
     "output_type": "stream",
     "text": [
      "10\n",
      "20\n",
      "30\n"
     ]
    }
   ],
   "source": [
    "변수 = 10\n",
    "print(변수)\n",
    "변수 = 20\n",
    "print(변수)\n",
    "변수 = 30\n",
    "print(변수)"
   ]
  },
  {
   "cell_type": "code",
   "execution_count": 132,
   "id": "f1ff5a4a",
   "metadata": {},
   "outputs": [
    {
     "name": "stdout",
     "output_type": "stream",
     "text": [
      "10\n",
      "20\n",
      "30\n"
     ]
    }
   ],
   "source": [
    "for 변수 in [10, 20, 30]:\n",
    "    print(변수)"
   ]
  },
  {
   "cell_type": "markdown",
   "id": "4e590676",
   "metadata": {},
   "source": [
    "### 137"
   ]
  },
  {
   "cell_type": "code",
   "execution_count": 133,
   "id": "344746d6",
   "metadata": {},
   "outputs": [
    {
     "name": "stdout",
     "output_type": "stream",
     "text": [
      "10\n",
      "20\n",
      "30\n"
     ]
    }
   ],
   "source": [
    "print(10)\n",
    "print(20)\n",
    "print(30)"
   ]
  },
  {
   "cell_type": "code",
   "execution_count": 135,
   "id": "46bef9db",
   "metadata": {},
   "outputs": [
    {
     "name": "stdout",
     "output_type": "stream",
     "text": [
      "10\n",
      "20\n",
      "30\n"
     ]
    }
   ],
   "source": [
    "for i in range(10, 40, 10):\n",
    "    print(i)"
   ]
  },
  {
   "cell_type": "markdown",
   "id": "ec89d148",
   "metadata": {},
   "source": [
    "### 138"
   ]
  },
  {
   "cell_type": "code",
   "execution_count": 136,
   "id": "a12ae5e0",
   "metadata": {},
   "outputs": [
    {
     "name": "stdout",
     "output_type": "stream",
     "text": [
      "10\n",
      "-------\n",
      "20\n",
      "-------\n",
      "30\n",
      "-------\n"
     ]
    }
   ],
   "source": [
    "print(10)\n",
    "print(\"-------\")\n",
    "print(20)\n",
    "print(\"-------\")\n",
    "print(30)\n",
    "print(\"-------\")"
   ]
  },
  {
   "cell_type": "code",
   "execution_count": 137,
   "id": "639255aa",
   "metadata": {},
   "outputs": [
    {
     "name": "stdout",
     "output_type": "stream",
     "text": [
      "10\n",
      "-------\n",
      "20\n",
      "-------\n",
      "30\n",
      "-------\n"
     ]
    }
   ],
   "source": [
    "for i in [10, 20, 30]:\n",
    "    print(i)\n",
    "    print(\"-------\")"
   ]
  },
  {
   "cell_type": "markdown",
   "id": "340013dc",
   "metadata": {},
   "source": [
    "### 139"
   ]
  },
  {
   "cell_type": "code",
   "execution_count": 138,
   "id": "01bba4a5",
   "metadata": {},
   "outputs": [
    {
     "name": "stdout",
     "output_type": "stream",
     "text": [
      "++++\n",
      "10\n",
      "20\n",
      "30\n"
     ]
    }
   ],
   "source": [
    "print(\"++++\")\n",
    "print(10)\n",
    "print(20)\n",
    "print(30)"
   ]
  },
  {
   "cell_type": "code",
   "execution_count": 141,
   "id": "bcd1ef25",
   "metadata": {},
   "outputs": [
    {
     "name": "stdout",
     "output_type": "stream",
     "text": [
      "++++\n",
      "10\n",
      "20\n",
      "30\n"
     ]
    }
   ],
   "source": [
    "print('++++')\n",
    "for i in [10, 20, 30]:\n",
    "    print(i)"
   ]
  },
  {
   "cell_type": "markdown",
   "id": "0e774c7d",
   "metadata": {},
   "source": [
    "### 140"
   ]
  },
  {
   "cell_type": "code",
   "execution_count": 142,
   "id": "74bb8330",
   "metadata": {},
   "outputs": [
    {
     "name": "stdout",
     "output_type": "stream",
     "text": [
      "-------\n",
      "-------\n",
      "-------\n",
      "-------\n"
     ]
    }
   ],
   "source": [
    "print(\"-------\")\n",
    "print(\"-------\")\n",
    "print(\"-------\")\n",
    "print(\"-------\")"
   ]
  },
  {
   "cell_type": "code",
   "execution_count": 143,
   "id": "84b7aacc",
   "metadata": {},
   "outputs": [
    {
     "name": "stdout",
     "output_type": "stream",
     "text": [
      "-------\n",
      "-------\n",
      "-------\n",
      "-------\n"
     ]
    }
   ],
   "source": [
    "for i in range(4):\n",
    "    print(\"-------\")"
   ]
  },
  {
   "cell_type": "markdown",
   "id": "9e753707",
   "metadata": {},
   "source": [
    "### 141"
   ]
  },
  {
   "cell_type": "code",
   "execution_count": 149,
   "id": "e65f111f",
   "metadata": {},
   "outputs": [
    {
     "name": "stdout",
     "output_type": "stream",
     "text": [
      "110\n",
      "210\n",
      "310\n"
     ]
    }
   ],
   "source": [
    "리스트 = [100, 200, 300]\n",
    "부가세 = 10\n",
    "\n",
    "for i in 리스트:\n",
    "    print(i + 부가세)"
   ]
  },
  {
   "cell_type": "markdown",
   "id": "8b09f34c",
   "metadata": {},
   "source": [
    "### 142"
   ]
  },
  {
   "cell_type": "code",
   "execution_count": 150,
   "id": "3a63b642",
   "metadata": {},
   "outputs": [
    {
     "name": "stdout",
     "output_type": "stream",
     "text": [
      "오늘의 메뉴: 김밥\n",
      "오늘의 메뉴: 라면\n",
      "오늘의 메뉴: 튀김\n"
     ]
    }
   ],
   "source": [
    "리스트 = [\"김밥\", \"라면\", \"튀김\"]\n",
    "\n",
    "for i in 리스트:\n",
    "    print('오늘의 메뉴:', i)"
   ]
  },
  {
   "cell_type": "markdown",
   "id": "79d50e9f",
   "metadata": {},
   "source": [
    "### 143"
   ]
  },
  {
   "cell_type": "code",
   "execution_count": 152,
   "id": "01c9e0bb",
   "metadata": {},
   "outputs": [
    {
     "name": "stdout",
     "output_type": "stream",
     "text": [
      "6\n",
      "4\n",
      "4\n"
     ]
    }
   ],
   "source": [
    "리스트 = [\"SK하이닉스\", \"삼성전자\", \"LG전자\"]\n",
    "\n",
    "for i in 리스트:\n",
    "    print(len(i))"
   ]
  },
  {
   "cell_type": "markdown",
   "id": "fffc5688",
   "metadata": {},
   "source": [
    "### 144"
   ]
  },
  {
   "cell_type": "code",
   "execution_count": 153,
   "id": "1f06488d",
   "metadata": {},
   "outputs": [
    {
     "name": "stdout",
     "output_type": "stream",
     "text": [
      "dog 3\n",
      "cat 3\n",
      "parrot 6\n"
     ]
    }
   ],
   "source": [
    "리스트 = ['dog', 'cat', 'parrot']\n",
    "\n",
    "for i in 리스트:\n",
    "    print(i, len(i))"
   ]
  },
  {
   "cell_type": "markdown",
   "id": "d7c2b97c",
   "metadata": {},
   "source": [
    "### 145"
   ]
  },
  {
   "cell_type": "code",
   "execution_count": 154,
   "id": "df5cc730",
   "metadata": {},
   "outputs": [
    {
     "name": "stdout",
     "output_type": "stream",
     "text": [
      "d\n",
      "c\n",
      "p\n"
     ]
    }
   ],
   "source": [
    "리스트 = ['dog', 'cat', 'parrot']\n",
    "\n",
    "for i in 리스트:\n",
    "    print(i[0])"
   ]
  },
  {
   "cell_type": "markdown",
   "id": "45dd7de7",
   "metadata": {},
   "source": [
    "### 146"
   ]
  },
  {
   "cell_type": "code",
   "execution_count": 156,
   "id": "a758316a",
   "metadata": {},
   "outputs": [
    {
     "name": "stdout",
     "output_type": "stream",
     "text": [
      "3 x 1\n",
      "3 x 2\n",
      "3 x 3\n"
     ]
    }
   ],
   "source": [
    "리스트 = [1, 2, 3]\n",
    "\n",
    "for i in 리스트:\n",
    "    print('3 x', i)"
   ]
  },
  {
   "cell_type": "markdown",
   "id": "bce0d9ae",
   "metadata": {},
   "source": [
    "### 147"
   ]
  },
  {
   "cell_type": "code",
   "execution_count": 157,
   "id": "a0158ca5",
   "metadata": {},
   "outputs": [
    {
     "name": "stdout",
     "output_type": "stream",
     "text": [
      "3 x 1 = 3\n",
      "3 x 2 = 6\n",
      "3 x 3 = 9\n"
     ]
    }
   ],
   "source": [
    "리스트 = [1, 2, 3]\n",
    "\n",
    "for i in 리스트:\n",
    "    print('3 x', i, '=', 3*i)"
   ]
  },
  {
   "cell_type": "code",
   "execution_count": 158,
   "id": "782b9e92",
   "metadata": {},
   "outputs": [
    {
     "name": "stdout",
     "output_type": "stream",
     "text": [
      "3 x 1 = 3\n",
      "3 x 2 = 6\n",
      "3 x 3 = 9\n"
     ]
    }
   ],
   "source": [
    "for 변수 in 리스트:\n",
    "  print(\"3 x {} = {}\".format(변수, 3 * 변수))"
   ]
  },
  {
   "cell_type": "markdown",
   "id": "848495e7",
   "metadata": {},
   "source": [
    "### 148"
   ]
  },
  {
   "cell_type": "code",
   "execution_count": 164,
   "id": "7ffd0110",
   "metadata": {},
   "outputs": [
    {
     "name": "stdout",
     "output_type": "stream",
     "text": [
      "나\n",
      "다\n",
      "라\n"
     ]
    }
   ],
   "source": [
    "리스트 = [\"가\", \"나\", \"다\", \"라\"]\n",
    "\n",
    "for i in 리스트[1:]:\n",
    "    print(i)"
   ]
  },
  {
   "cell_type": "markdown",
   "id": "410a205e",
   "metadata": {},
   "source": [
    "### 149"
   ]
  },
  {
   "cell_type": "code",
   "execution_count": 165,
   "id": "8d3885ed",
   "metadata": {},
   "outputs": [
    {
     "name": "stdout",
     "output_type": "stream",
     "text": [
      "가\n",
      "다\n"
     ]
    }
   ],
   "source": [
    "리스트 = [\"가\", \"나\", \"다\", \"라\"]\n",
    "\n",
    "for i in 리스트[::2]:\n",
    "    print(i)"
   ]
  },
  {
   "cell_type": "markdown",
   "id": "9f02e945",
   "metadata": {},
   "source": [
    "### 150"
   ]
  },
  {
   "cell_type": "code",
   "execution_count": 168,
   "id": "cb5ae349",
   "metadata": {},
   "outputs": [
    {
     "name": "stdout",
     "output_type": "stream",
     "text": [
      "라\n",
      "다\n",
      "나\n",
      "가\n"
     ]
    }
   ],
   "source": [
    "리스트 = [\"가\", \"나\", \"다\", \"라\"]\n",
    "\n",
    "for i in 리스트[::-1]:\n",
    "    print(i)"
   ]
  },
  {
   "cell_type": "markdown",
   "id": "776151ac",
   "metadata": {},
   "source": [
    "### 151"
   ]
  },
  {
   "cell_type": "code",
   "execution_count": 5,
   "id": "86cb9127",
   "metadata": {},
   "outputs": [
    {
     "name": "stdout",
     "output_type": "stream",
     "text": [
      "-20\n",
      "-3\n"
     ]
    }
   ],
   "source": [
    "리스트 = [3, -20, -3, 44]\n",
    "\n",
    "for i in 리스트:\n",
    "    if i < 0:\n",
    "        print(i)\n",
    "    else:\n",
    "        pass"
   ]
  },
  {
   "cell_type": "markdown",
   "id": "d04d27d7",
   "metadata": {},
   "source": [
    "### 152"
   ]
  },
  {
   "cell_type": "code",
   "execution_count": 6,
   "id": "5bc7dd49",
   "metadata": {},
   "outputs": [
    {
     "name": "stdout",
     "output_type": "stream",
     "text": [
      "3\n"
     ]
    }
   ],
   "source": [
    "리스트 = [3, 100, 23, 44]\n",
    "\n",
    "for i in 리스트:\n",
    "    if i % 3 == 0:\n",
    "        print(i)\n",
    "    else:\n",
    "        pass"
   ]
  },
  {
   "cell_type": "markdown",
   "id": "261ba90c",
   "metadata": {},
   "source": [
    "### 153"
   ]
  },
  {
   "cell_type": "code",
   "execution_count": 7,
   "id": "e383892f",
   "metadata": {},
   "outputs": [
    {
     "name": "stdout",
     "output_type": "stream",
     "text": [
      "12\n",
      "18\n"
     ]
    }
   ],
   "source": [
    "리스트 = [13, 21, 12, 14, 30, 18]\n",
    "\n",
    "for i in 리스트:\n",
    "    if i < 20 and i % 3 == 0:\n",
    "        print(i)\n",
    "    else:\n",
    "        pass"
   ]
  },
  {
   "cell_type": "markdown",
   "id": "56d20f80",
   "metadata": {},
   "source": [
    "### 154"
   ]
  },
  {
   "cell_type": "code",
   "execution_count": 8,
   "id": "299d7030",
   "metadata": {},
   "outputs": [
    {
     "name": "stdout",
     "output_type": "stream",
     "text": [
      "study\n",
      "python\n",
      "language\n"
     ]
    }
   ],
   "source": [
    "리스트 = [\"I\", \"study\", \"python\", \"language\", \"!\"]\n",
    "\n",
    "for i in 리스트:\n",
    "    if len(i) >= 3:\n",
    "        print(i)\n",
    "    else:\n",
    "        pass"
   ]
  },
  {
   "cell_type": "markdown",
   "id": "07f81235",
   "metadata": {},
   "source": [
    "### 155"
   ]
  },
  {
   "cell_type": "code",
   "execution_count": 9,
   "id": "2b9c5a09",
   "metadata": {},
   "outputs": [
    {
     "name": "stdout",
     "output_type": "stream",
     "text": [
      "A\n",
      "D\n"
     ]
    }
   ],
   "source": [
    "리스트 = [\"A\", \"b\", \"c\", \"D\"]\n",
    "\n",
    "for i in 리스트:\n",
    "    if i.isupper() == True:\n",
    "        print(i)\n",
    "    else:\n",
    "        pass"
   ]
  },
  {
   "cell_type": "markdown",
   "id": "754c2bf5",
   "metadata": {},
   "source": [
    "### 156"
   ]
  },
  {
   "cell_type": "code",
   "execution_count": 10,
   "id": "fc52af72",
   "metadata": {},
   "outputs": [
    {
     "name": "stdout",
     "output_type": "stream",
     "text": [
      "b\n",
      "c\n"
     ]
    }
   ],
   "source": [
    "리스트 = [\"A\", \"b\", \"c\", \"D\"]\n",
    "\n",
    "for i in 리스트:\n",
    "    if i.islower():\n",
    "        print(i)\n",
    "    else:\n",
    "        pass"
   ]
  },
  {
   "cell_type": "markdown",
   "id": "74e3865f",
   "metadata": {},
   "source": [
    "### 157"
   ]
  },
  {
   "cell_type": "code",
   "execution_count": 16,
   "id": "74a8275e",
   "metadata": {},
   "outputs": [
    {
     "name": "stdout",
     "output_type": "stream",
     "text": [
      "Dog\n",
      "Cat\n",
      "Parrot\n"
     ]
    }
   ],
   "source": [
    "리스트 = ['dog', 'cat', 'parrot']\n",
    "\n",
    "for i in 리스트:\n",
    "    num = i.capitalize()\n",
    "    print(num)"
   ]
  },
  {
   "cell_type": "markdown",
   "id": "4a5c1a85",
   "metadata": {},
   "source": [
    "### 158"
   ]
  },
  {
   "cell_type": "code",
   "execution_count": 18,
   "id": "ac64dabe",
   "metadata": {},
   "outputs": [
    {
     "name": "stdout",
     "output_type": "stream",
     "text": [
      "hello\n",
      "ex01\n",
      "intro\n"
     ]
    }
   ],
   "source": [
    "리스트 = ['hello.py', 'ex01.py', 'intro.hwp']\n",
    "\n",
    "for i in 리스트:\n",
    "    file_name = i.split('.')\n",
    "    print(file_name[0])"
   ]
  },
  {
   "cell_type": "markdown",
   "id": "20470855",
   "metadata": {},
   "source": [
    "### 159"
   ]
  },
  {
   "cell_type": "code",
   "execution_count": 20,
   "id": "ac9eafa3",
   "metadata": {},
   "outputs": [
    {
     "name": "stdout",
     "output_type": "stream",
     "text": [
      "intra.h\n",
      "define.h\n"
     ]
    }
   ],
   "source": [
    "리스트 = ['intra.h', 'intra.c', 'define.h', 'run.py']\n",
    "\n",
    "for i in 리스트:\n",
    "    if i.endswith('.h') == True:\n",
    "        print(i)"
   ]
  },
  {
   "cell_type": "markdown",
   "id": "90cefbf1",
   "metadata": {},
   "source": [
    "### 160"
   ]
  },
  {
   "cell_type": "code",
   "execution_count": 22,
   "id": "14cef2ed",
   "metadata": {},
   "outputs": [
    {
     "name": "stdout",
     "output_type": "stream",
     "text": [
      "intra.h\n",
      "intra.c\n",
      "define.h\n"
     ]
    }
   ],
   "source": [
    "리스트 = ['intra.h', 'intra.c', 'define.h', 'run.py']\n",
    "\n",
    "for i in 리스트:\n",
    "    if i.endswith('.h') or i.endswith('.c') == True:\n",
    "        print(i)"
   ]
  },
  {
   "cell_type": "markdown",
   "id": "b4d489e8",
   "metadata": {},
   "source": [
    "### 161"
   ]
  },
  {
   "cell_type": "code",
   "execution_count": 24,
   "id": "b71a7edb",
   "metadata": {},
   "outputs": [
    {
     "name": "stdout",
     "output_type": "stream",
     "text": [
      "0\n",
      "1\n",
      "2\n",
      "3\n",
      "4\n",
      "5\n",
      "6\n",
      "7\n",
      "8\n",
      "9\n",
      "10\n",
      "11\n",
      "12\n",
      "13\n",
      "14\n",
      "15\n",
      "16\n",
      "17\n",
      "18\n",
      "19\n",
      "20\n",
      "21\n",
      "22\n",
      "23\n",
      "24\n",
      "25\n",
      "26\n",
      "27\n",
      "28\n",
      "29\n",
      "30\n",
      "31\n",
      "32\n",
      "33\n",
      "34\n",
      "35\n",
      "36\n",
      "37\n",
      "38\n",
      "39\n",
      "40\n",
      "41\n",
      "42\n",
      "43\n",
      "44\n",
      "45\n",
      "46\n",
      "47\n",
      "48\n",
      "49\n",
      "50\n",
      "51\n",
      "52\n",
      "53\n",
      "54\n",
      "55\n",
      "56\n",
      "57\n",
      "58\n",
      "59\n",
      "60\n",
      "61\n",
      "62\n",
      "63\n",
      "64\n",
      "65\n",
      "66\n",
      "67\n",
      "68\n",
      "69\n",
      "70\n",
      "71\n",
      "72\n",
      "73\n",
      "74\n",
      "75\n",
      "76\n",
      "77\n",
      "78\n",
      "79\n",
      "80\n",
      "81\n",
      "82\n",
      "83\n",
      "84\n",
      "85\n",
      "86\n",
      "87\n",
      "88\n",
      "89\n",
      "90\n",
      "91\n",
      "92\n",
      "93\n",
      "94\n",
      "95\n",
      "96\n",
      "97\n",
      "98\n",
      "99\n"
     ]
    }
   ],
   "source": [
    "for i in range(0, 100):\n",
    "    print(i)"
   ]
  },
  {
   "cell_type": "markdown",
   "id": "9c61f058",
   "metadata": {},
   "source": [
    "### 162"
   ]
  },
  {
   "cell_type": "code",
   "execution_count": 26,
   "id": "3d049921",
   "metadata": {},
   "outputs": [
    {
     "name": "stdout",
     "output_type": "stream",
     "text": [
      "2002\n",
      "2006\n",
      "2010\n",
      "2014\n",
      "2018\n",
      "2022\n",
      "2026\n",
      "2030\n",
      "2034\n",
      "2038\n",
      "2042\n",
      "2046\n",
      "2050\n"
     ]
    }
   ],
   "source": [
    "for i in range(2002, 2051, 4):\n",
    "    print(i)"
   ]
  },
  {
   "cell_type": "markdown",
   "id": "36bbf11c",
   "metadata": {},
   "source": [
    "### 163"
   ]
  },
  {
   "cell_type": "code",
   "execution_count": 30,
   "id": "af175de5",
   "metadata": {},
   "outputs": [
    {
     "name": "stdout",
     "output_type": "stream",
     "text": [
      "3\n",
      "6\n",
      "9\n",
      "12\n",
      "15\n",
      "18\n",
      "21\n",
      "24\n",
      "27\n",
      "30\n"
     ]
    }
   ],
   "source": [
    "for i in range(1, 31):\n",
    "    if i % 3 == 0:\n",
    "        print(i)"
   ]
  },
  {
   "cell_type": "markdown",
   "id": "505ebd62",
   "metadata": {},
   "source": [
    "### 164"
   ]
  },
  {
   "cell_type": "code",
   "execution_count": 32,
   "id": "09b4cad2",
   "metadata": {},
   "outputs": [
    {
     "name": "stdout",
     "output_type": "stream",
     "text": [
      "99\n",
      "98\n",
      "97\n",
      "96\n",
      "95\n",
      "94\n",
      "93\n",
      "92\n",
      "91\n",
      "90\n",
      "89\n",
      "88\n",
      "87\n",
      "86\n",
      "85\n",
      "84\n",
      "83\n",
      "82\n",
      "81\n",
      "80\n",
      "79\n",
      "78\n",
      "77\n",
      "76\n",
      "75\n",
      "74\n",
      "73\n",
      "72\n",
      "71\n",
      "70\n",
      "69\n",
      "68\n",
      "67\n",
      "66\n",
      "65\n",
      "64\n",
      "63\n",
      "62\n",
      "61\n",
      "60\n",
      "59\n",
      "58\n",
      "57\n",
      "56\n",
      "55\n",
      "54\n",
      "53\n",
      "52\n",
      "51\n",
      "50\n",
      "49\n",
      "48\n",
      "47\n",
      "46\n",
      "45\n",
      "44\n",
      "43\n",
      "42\n",
      "41\n",
      "40\n",
      "39\n",
      "38\n",
      "37\n",
      "36\n",
      "35\n",
      "34\n",
      "33\n",
      "32\n",
      "31\n",
      "30\n",
      "29\n",
      "28\n",
      "27\n",
      "26\n",
      "25\n",
      "24\n",
      "23\n",
      "22\n",
      "21\n",
      "20\n",
      "19\n",
      "18\n",
      "17\n",
      "16\n",
      "15\n",
      "14\n",
      "13\n",
      "12\n",
      "11\n",
      "10\n",
      "9\n",
      "8\n",
      "7\n",
      "6\n",
      "5\n",
      "4\n",
      "3\n",
      "2\n",
      "1\n",
      "0\n"
     ]
    }
   ],
   "source": [
    "for i in range(99, -1, -1):\n",
    "    print(i)"
   ]
  },
  {
   "cell_type": "code",
   "execution_count": 33,
   "id": "77b0ab82",
   "metadata": {},
   "outputs": [
    {
     "name": "stdout",
     "output_type": "stream",
     "text": [
      "99\n",
      "98\n",
      "97\n",
      "96\n",
      "95\n",
      "94\n",
      "93\n",
      "92\n",
      "91\n",
      "90\n",
      "89\n",
      "88\n",
      "87\n",
      "86\n",
      "85\n",
      "84\n",
      "83\n",
      "82\n",
      "81\n",
      "80\n",
      "79\n",
      "78\n",
      "77\n",
      "76\n",
      "75\n",
      "74\n",
      "73\n",
      "72\n",
      "71\n",
      "70\n",
      "69\n",
      "68\n",
      "67\n",
      "66\n",
      "65\n",
      "64\n",
      "63\n",
      "62\n",
      "61\n",
      "60\n",
      "59\n",
      "58\n",
      "57\n",
      "56\n",
      "55\n",
      "54\n",
      "53\n",
      "52\n",
      "51\n",
      "50\n",
      "49\n",
      "48\n",
      "47\n",
      "46\n",
      "45\n",
      "44\n",
      "43\n",
      "42\n",
      "41\n",
      "40\n",
      "39\n",
      "38\n",
      "37\n",
      "36\n",
      "35\n",
      "34\n",
      "33\n",
      "32\n",
      "31\n",
      "30\n",
      "29\n",
      "28\n",
      "27\n",
      "26\n",
      "25\n",
      "24\n",
      "23\n",
      "22\n",
      "21\n",
      "20\n",
      "19\n",
      "18\n",
      "17\n",
      "16\n",
      "15\n",
      "14\n",
      "13\n",
      "12\n",
      "11\n",
      "10\n",
      "9\n",
      "8\n",
      "7\n",
      "6\n",
      "5\n",
      "4\n",
      "3\n",
      "2\n",
      "1\n",
      "0\n"
     ]
    }
   ],
   "source": [
    "for i in range(100):\n",
    "    print(99 - i)"
   ]
  },
  {
   "cell_type": "markdown",
   "id": "3ee1890b",
   "metadata": {},
   "source": [
    "### 165"
   ]
  },
  {
   "cell_type": "code",
   "execution_count": 47,
   "id": "cc73c7fc",
   "metadata": {},
   "outputs": [
    {
     "name": "stdout",
     "output_type": "stream",
     "text": [
      "0.0\n",
      "0.1\n",
      "0.2\n",
      "0.3\n",
      "0.4\n",
      "0.5\n",
      "0.6\n",
      "0.7\n",
      "0.8\n",
      "0.9\n"
     ]
    }
   ],
   "source": [
    "for i in range(10):\n",
    "    print(i/10)"
   ]
  },
  {
   "cell_type": "code",
   "execution_count": 41,
   "id": "36bbf314",
   "metadata": {},
   "outputs": [],
   "source": [
    "range?"
   ]
  },
  {
   "cell_type": "markdown",
   "id": "9e79d7e9",
   "metadata": {},
   "source": [
    "### 166"
   ]
  },
  {
   "cell_type": "code",
   "execution_count": 55,
   "id": "f6c4eae6",
   "metadata": {},
   "outputs": [
    {
     "name": "stdout",
     "output_type": "stream",
     "text": [
      "3x1 = 3\n",
      "3x2 = 6\n",
      "3x3 = 9\n",
      "3x4 = 12\n",
      "3x5 = 15\n",
      "3x6 = 18\n",
      "3x7 = 21\n",
      "3x8 = 24\n",
      "3x9 = 27\n"
     ]
    }
   ],
   "source": [
    "for i in range(3, 4):\n",
    "    for j in range(1, 10):\n",
    "        print(f'{i}x{j} = {i*j}')"
   ]
  },
  {
   "cell_type": "markdown",
   "id": "ead9e0cf",
   "metadata": {},
   "source": [
    "### 167"
   ]
  },
  {
   "cell_type": "code",
   "execution_count": 56,
   "id": "129dd777",
   "metadata": {},
   "outputs": [
    {
     "name": "stdout",
     "output_type": "stream",
     "text": [
      "3x1 = 3\n",
      "3x3 = 9\n",
      "3x5 = 15\n",
      "3x7 = 21\n",
      "3x9 = 27\n"
     ]
    }
   ],
   "source": [
    "for i in range(3, 4):\n",
    "    for j in range(1, 10):\n",
    "        if i*j % 2 == 1:\n",
    "            print(f'{i}x{j} = {i*j}')"
   ]
  },
  {
   "cell_type": "markdown",
   "id": "fdee2060",
   "metadata": {},
   "source": [
    "### 168"
   ]
  },
  {
   "cell_type": "code",
   "execution_count": 60,
   "id": "d7e018d5",
   "metadata": {},
   "outputs": [
    {
     "name": "stdout",
     "output_type": "stream",
     "text": [
      "합 : 55\n"
     ]
    }
   ],
   "source": [
    "sumnum = 0\n",
    "for i in range(11):\n",
    "    sumnum += i\n",
    "print('합 :', sumnum)"
   ]
  },
  {
   "cell_type": "markdown",
   "id": "89b5ffb8",
   "metadata": {},
   "source": [
    "### 169"
   ]
  },
  {
   "cell_type": "code",
   "execution_count": 63,
   "id": "ce2ca237",
   "metadata": {},
   "outputs": [
    {
     "name": "stdout",
     "output_type": "stream",
     "text": [
      "합: 25\n"
     ]
    }
   ],
   "source": [
    "sumodd = 0\n",
    "for i in range(11):\n",
    "    if i % 2 == 1:\n",
    "        sumodd += i\n",
    "print('합:', sumodd)"
   ]
  },
  {
   "cell_type": "markdown",
   "id": "fcf14f90",
   "metadata": {},
   "source": [
    "### 170"
   ]
  },
  {
   "cell_type": "code",
   "execution_count": 66,
   "id": "281a6e4e",
   "metadata": {},
   "outputs": [
    {
     "name": "stdout",
     "output_type": "stream",
     "text": [
      "3628800\n"
     ]
    }
   ],
   "source": [
    "star = 1\n",
    "for i in range(1, 11):\n",
    "    star = star * i\n",
    "print(star)"
   ]
  },
  {
   "cell_type": "code",
   "execution_count": 67,
   "id": "d9f47a50",
   "metadata": {},
   "outputs": [
    {
     "name": "stdout",
     "output_type": "stream",
     "text": [
      "3628800\n"
     ]
    }
   ],
   "source": [
    "result = 1\n",
    "for i in range(1, 11) :\n",
    "    result *= i\n",
    "print(result)"
   ]
  },
  {
   "cell_type": "markdown",
   "id": "d040aa10",
   "metadata": {},
   "source": [
    "### 171"
   ]
  },
  {
   "cell_type": "code",
   "execution_count": 69,
   "id": "ef6a22f1",
   "metadata": {},
   "outputs": [
    {
     "name": "stdout",
     "output_type": "stream",
     "text": [
      "32100\n",
      "32150\n",
      "32000\n",
      "32500\n"
     ]
    }
   ],
   "source": [
    "price_list = [32100, 32150, 32000, 32500]\n",
    "\n",
    "for i in range(len(price_list)):\n",
    "    print(price_list[i])"
   ]
  },
  {
   "cell_type": "markdown",
   "id": "da09e565",
   "metadata": {},
   "source": [
    "### 172"
   ]
  },
  {
   "cell_type": "code",
   "execution_count": 70,
   "id": "2aa1b20b",
   "metadata": {},
   "outputs": [
    {
     "name": "stdout",
     "output_type": "stream",
     "text": [
      "0 32100\n",
      "1 32150\n",
      "2 32000\n",
      "3 32500\n"
     ]
    }
   ],
   "source": [
    "price_list = [32100, 32150, 32000, 32500]\n",
    "\n",
    "for i in range(len(price_list)):\n",
    "    print(i, price_list[i])"
   ]
  },
  {
   "cell_type": "code",
   "execution_count": 71,
   "id": "e1903482",
   "metadata": {},
   "outputs": [
    {
     "name": "stdout",
     "output_type": "stream",
     "text": [
      "0 32100\n",
      "1 32150\n",
      "2 32000\n",
      "3 32500\n"
     ]
    }
   ],
   "source": [
    "price_list = [32100, 32150, 32000, 32500]\n",
    "for i, data in enumerate(price_list):\n",
    "    print(i, data)"
   ]
  },
  {
   "cell_type": "code",
   "execution_count": 73,
   "id": "aadb1365",
   "metadata": {},
   "outputs": [
    {
     "name": "stdout",
     "output_type": "stream",
     "text": [
      "<enumerate object at 0x000001F77EB4A4D0>\n"
     ]
    }
   ],
   "source": [
    "print(enumerate(price_list))"
   ]
  },
  {
   "cell_type": "markdown",
   "id": "33462ebd",
   "metadata": {},
   "source": [
    "### 173"
   ]
  },
  {
   "cell_type": "code",
   "execution_count": 79,
   "id": "f9f81869",
   "metadata": {},
   "outputs": [
    {
     "name": "stdout",
     "output_type": "stream",
     "text": [
      "3 32100\n",
      "2 32150\n",
      "1 32000\n",
      "0 32500\n"
     ]
    }
   ],
   "source": [
    "price_list = [32100, 32150, 32000, 32500]\n",
    "\n",
    "for i in range(len(price_list)):\n",
    "    print((len(price_list)-1)-i, price_list[i])"
   ]
  },
  {
   "cell_type": "markdown",
   "id": "77c815d2",
   "metadata": {},
   "source": [
    "### 174"
   ]
  },
  {
   "cell_type": "code",
   "execution_count": 87,
   "id": "5dda5451",
   "metadata": {},
   "outputs": [
    {
     "name": "stdout",
     "output_type": "stream",
     "text": [
      "110 32150\n",
      "120 32000\n",
      "130 32500\n"
     ]
    }
   ],
   "source": [
    "price_list = [32100, 32150, 32000, 32500]\n",
    "\n",
    "for i in range(1,4):\n",
    "    print(i*10+100, price_list[i])"
   ]
  },
  {
   "cell_type": "markdown",
   "id": "4e0b41cf",
   "metadata": {},
   "source": [
    "### 175"
   ]
  },
  {
   "cell_type": "code",
   "execution_count": 96,
   "id": "5d2abdc0",
   "metadata": {},
   "outputs": [
    {
     "name": "stdout",
     "output_type": "stream",
     "text": [
      "가 나\n",
      "나 다\n",
      "다 라\n"
     ]
    }
   ],
   "source": [
    "my_list = [\"가\", \"나\", \"다\", \"라\"]\n",
    "\n",
    "for i in range(1, len(my_list)):\n",
    "    print(my_list[i-1], my_list[i])"
   ]
  },
  {
   "cell_type": "markdown",
   "id": "0f44848e",
   "metadata": {},
   "source": [
    "### 176"
   ]
  },
  {
   "cell_type": "code",
   "execution_count": 105,
   "id": "936ff186",
   "metadata": {},
   "outputs": [
    {
     "name": "stdout",
     "output_type": "stream",
     "text": [
      "가 나 다\n",
      "나 다 라\n",
      "다 라 마\n"
     ]
    }
   ],
   "source": [
    "my_list = [\"가\", \"나\", \"다\", \"라\", \"마\"]\n",
    "\n",
    "for i in range(2, len(my_list)):\n",
    "    print(my_list[i-2],my_list[i-1], my_list[i])"
   ]
  },
  {
   "cell_type": "markdown",
   "id": "c1a4e50b",
   "metadata": {},
   "source": [
    "### 177"
   ]
  },
  {
   "cell_type": "code",
   "execution_count": 128,
   "id": "3d2d9815",
   "metadata": {},
   "outputs": [
    {
     "name": "stdout",
     "output_type": "stream",
     "text": [
      "라 다\n",
      "다 나\n",
      "나 가\n"
     ]
    }
   ],
   "source": [
    "my_list = [\"가\", \"나\", \"다\", \"라\"]\n",
    "\n",
    "for i in range(len(my_list), 1, -1):\n",
    "    print(my_list[i-1], my_list[i-2])"
   ]
  },
  {
   "cell_type": "markdown",
   "id": "6ffeaf41",
   "metadata": {},
   "source": [
    "### 178"
   ]
  },
  {
   "cell_type": "code",
   "execution_count": 132,
   "id": "5e9316af",
   "metadata": {},
   "outputs": [
    {
     "name": "stdout",
     "output_type": "stream",
     "text": [
      "100\n",
      "200\n",
      "400\n"
     ]
    }
   ],
   "source": [
    "my_list = [100, 200, 400, 800]\n",
    "\n",
    "for i in range(1, len(my_list)):\n",
    "    print(my_list[i]-my_list[i-1])"
   ]
  },
  {
   "cell_type": "code",
   "execution_count": 136,
   "id": "dad4da55",
   "metadata": {},
   "outputs": [
    {
     "name": "stdout",
     "output_type": "stream",
     "text": [
      "100\n",
      "200\n",
      "400\n"
     ]
    }
   ],
   "source": [
    "for i in range(len(my_list) -1):\n",
    "    print(my_list[i+1] - my_list[i])"
   ]
  },
  {
   "cell_type": "markdown",
   "id": "df22ed48",
   "metadata": {},
   "source": [
    "### 179"
   ]
  },
  {
   "cell_type": "code",
   "execution_count": 143,
   "id": "b97e186d",
   "metadata": {},
   "outputs": [
    {
     "name": "stdout",
     "output_type": "stream",
     "text": [
      "233.33333333333334\n",
      "466.6666666666667\n",
      "733.3333333333334\n",
      "1033.3333333333333\n"
     ]
    }
   ],
   "source": [
    "my_list = [100, 200, 400, 800, 1000, 1300]\n",
    "for i in range(len(my_list)-2):\n",
    "    print((my_list[i] + my_list[i+1] + my_list[i+2])/3)"
   ]
  },
  {
   "cell_type": "markdown",
   "id": "56f44231",
   "metadata": {},
   "source": [
    "### 180"
   ]
  },
  {
   "cell_type": "code",
   "execution_count": 147,
   "id": "0ea9bd7d",
   "metadata": {},
   "outputs": [
    {
     "name": "stdout",
     "output_type": "stream",
     "text": [
      "[50, 100, 30, 80, 0]\n"
     ]
    }
   ],
   "source": [
    "low_prices  = [100, 200, 400, 800, 1000]\n",
    "high_prices = [150, 300, 430, 880, 1000]\n",
    "volatility = []\n",
    "\n",
    "for i in range(len(low_prices)):\n",
    "    volatility.append(high_prices[i] - low_prices[i])\n",
    "print(volatility)"
   ]
  },
  {
   "cell_type": "markdown",
   "id": "2b42ab4c",
   "metadata": {},
   "source": [
    "### 181"
   ]
  },
  {
   "cell_type": "code",
   "execution_count": 148,
   "id": "8b6a3273",
   "metadata": {},
   "outputs": [],
   "source": [
    "apart = [['101호', '102호'], ['201호', '202호'], ['301호', '302호']]"
   ]
  },
  {
   "cell_type": "code",
   "execution_count": 149,
   "id": "1ec77184",
   "metadata": {},
   "outputs": [
    {
     "name": "stdout",
     "output_type": "stream",
     "text": [
      "[['101호', '102호'], ['201호', '202호'], ['301호', '302호']]\n"
     ]
    }
   ],
   "source": [
    "print(apart)"
   ]
  },
  {
   "cell_type": "markdown",
   "id": "587b3967",
   "metadata": {},
   "source": [
    "### 182"
   ]
  },
  {
   "cell_type": "code",
   "execution_count": 151,
   "id": "36952efd",
   "metadata": {},
   "outputs": [],
   "source": [
    "stock = [['시가', 100, 200, 300], ['종가', 80, 210, 330]]"
   ]
  },
  {
   "cell_type": "code",
   "execution_count": 152,
   "id": "002102c9",
   "metadata": {},
   "outputs": [
    {
     "name": "stdout",
     "output_type": "stream",
     "text": [
      "[['시가', 100, 200, 300], ['종가', 80, 210, 330]]\n"
     ]
    }
   ],
   "source": [
    "print(stock)"
   ]
  },
  {
   "cell_type": "markdown",
   "id": "14d5bb5d",
   "metadata": {},
   "source": [
    "### 183"
   ]
  },
  {
   "cell_type": "code",
   "execution_count": 156,
   "id": "b9e145f8",
   "metadata": {},
   "outputs": [
    {
     "name": "stdout",
     "output_type": "stream",
     "text": [
      "{'시가': [100, 200, 300], '종가': [80, 210, 330]}\n"
     ]
    }
   ],
   "source": [
    "stock = {'시가':[100,200,300], '종가':[80,210,330]}\n",
    "print(stock)"
   ]
  },
  {
   "cell_type": "markdown",
   "id": "74f2dc9b",
   "metadata": {},
   "source": [
    "### 184"
   ]
  },
  {
   "cell_type": "code",
   "execution_count": 159,
   "id": "9510a1c3",
   "metadata": {},
   "outputs": [
    {
     "name": "stdout",
     "output_type": "stream",
     "text": [
      "{'10/10': [80, 110, 70, 90], '10/11': [210, 230, 190, 200]}\n"
     ]
    }
   ],
   "source": [
    "stock = {'10/10':[80,110,70,90], '10/11':[210,230,190,200]}\n",
    "print(stock)"
   ]
  },
  {
   "cell_type": "markdown",
   "id": "c9c5717e",
   "metadata": {},
   "source": [
    "### 185"
   ]
  },
  {
   "cell_type": "code",
   "execution_count": 171,
   "id": "973d907e",
   "metadata": {},
   "outputs": [
    {
     "name": "stdout",
     "output_type": "stream",
     "text": [
      "101호\n",
      "102호\n",
      "201호\n",
      "202호\n",
      "301호\n",
      "302호\n"
     ]
    }
   ],
   "source": [
    "apart = [ [101, 102], [201, 202], [301, 302] ]\n",
    "\n",
    "for i in range(len(apart)):\n",
    "    for j in range(len(apart)-1):\n",
    "        print(f'{apart[i][j]}호')"
   ]
  },
  {
   "cell_type": "code",
   "execution_count": 168,
   "id": "3be8b2cc",
   "metadata": {},
   "outputs": [
    {
     "name": "stdout",
     "output_type": "stream",
     "text": [
      "101 호\n",
      "102 호\n",
      "201 호\n",
      "202 호\n",
      "301 호\n",
      "302 호\n"
     ]
    }
   ],
   "source": [
    "for row in apart:\n",
    "    for col in row:\n",
    "        print(col, \"호\")"
   ]
  },
  {
   "cell_type": "markdown",
   "id": "25eac1a5",
   "metadata": {},
   "source": [
    "### 186"
   ]
  },
  {
   "cell_type": "code",
   "execution_count": 182,
   "id": "67f8b2b0",
   "metadata": {},
   "outputs": [
    {
     "name": "stdout",
     "output_type": "stream",
     "text": [
      "301호\n",
      "302호\n",
      "201호\n",
      "202호\n",
      "101호\n",
      "102호\n"
     ]
    }
   ],
   "source": [
    "apart = [ [101, 102], [201, 202], [301, 302] ]\n",
    "\n",
    "for i in range(len(apart),0,-1):\n",
    "    for j in range(len(apart)-1):\n",
    "        print(f'{apart[i-1][j]}호')"
   ]
  },
  {
   "cell_type": "code",
   "execution_count": 183,
   "id": "c93326b5",
   "metadata": {},
   "outputs": [
    {
     "name": "stdout",
     "output_type": "stream",
     "text": [
      "301 호\n",
      "302 호\n",
      "201 호\n",
      "202 호\n",
      "101 호\n",
      "102 호\n"
     ]
    }
   ],
   "source": [
    "for row in apart[::-1]:\n",
    "    for col in row:\n",
    "        print(col, \"호\")"
   ]
  },
  {
   "cell_type": "markdown",
   "id": "ac28c646",
   "metadata": {},
   "source": [
    "### 187"
   ]
  },
  {
   "cell_type": "code",
   "execution_count": 195,
   "id": "78af6015",
   "metadata": {},
   "outputs": [
    {
     "name": "stdout",
     "output_type": "stream",
     "text": [
      "302호\n",
      "301호\n",
      "202호\n",
      "201호\n",
      "102호\n",
      "101호\n"
     ]
    }
   ],
   "source": [
    "apart = [ [101, 102], [201, 202], [301, 302] ]\n",
    "\n",
    "for i in range(len(apart),0,-1):\n",
    "    for j in range(len(apart)-1, 0, -1):\n",
    "        print(f'{apart[i-1][j-1]}호')"
   ]
  },
  {
   "cell_type": "code",
   "execution_count": 196,
   "id": "6268a508",
   "metadata": {},
   "outputs": [
    {
     "name": "stdout",
     "output_type": "stream",
     "text": [
      "302 호\n",
      "301 호\n",
      "202 호\n",
      "201 호\n",
      "102 호\n",
      "101 호\n"
     ]
    }
   ],
   "source": [
    "for row in apart[::-1]:\n",
    "    for col in row[::-1]:\n",
    "        print(col, \"호\")"
   ]
  },
  {
   "cell_type": "markdown",
   "id": "62b74fc5",
   "metadata": {},
   "source": [
    "### 188"
   ]
  },
  {
   "cell_type": "code",
   "execution_count": 198,
   "id": "dee08e77",
   "metadata": {},
   "outputs": [
    {
     "name": "stdout",
     "output_type": "stream",
     "text": [
      "101호\n",
      "-----\n",
      "102호\n",
      "-----\n",
      "201호\n",
      "-----\n",
      "202호\n",
      "-----\n",
      "301호\n",
      "-----\n",
      "302호\n",
      "-----\n"
     ]
    }
   ],
   "source": [
    "apart = [ [101, 102], [201, 202], [301, 302] ]\n",
    "\n",
    "for i in range(len(apart)):\n",
    "    for j in range(len(apart)-1):\n",
    "        print(f'{apart[i][j]}호')\n",
    "        print('-----')"
   ]
  },
  {
   "cell_type": "markdown",
   "id": "59e3ae9b",
   "metadata": {},
   "source": [
    "### 189"
   ]
  },
  {
   "cell_type": "code",
   "execution_count": 200,
   "id": "5b291cc5",
   "metadata": {},
   "outputs": [
    {
     "name": "stdout",
     "output_type": "stream",
     "text": [
      "101호\n",
      "102호\n",
      "-----\n",
      "201호\n",
      "202호\n",
      "-----\n",
      "301호\n",
      "302호\n",
      "-----\n"
     ]
    }
   ],
   "source": [
    "apart = [ [101, 102], [201, 202], [301, 302] ]\n",
    "\n",
    "for i in range(len(apart)):\n",
    "    for j in range(len(apart)-1):\n",
    "        print(f'{apart[i][j]}호')\n",
    "    print('-----')"
   ]
  },
  {
   "cell_type": "markdown",
   "id": "f403242e",
   "metadata": {},
   "source": [
    "### 190"
   ]
  },
  {
   "cell_type": "code",
   "execution_count": 201,
   "id": "9e7ab8eb",
   "metadata": {},
   "outputs": [
    {
     "name": "stdout",
     "output_type": "stream",
     "text": [
      "101호\n",
      "102호\n",
      "201호\n",
      "202호\n",
      "301호\n",
      "302호\n",
      "-----\n"
     ]
    }
   ],
   "source": [
    "apart = [ [101, 102], [201, 202], [301, 302] ]\n",
    "\n",
    "for i in range(len(apart)):\n",
    "    for j in range(len(apart)-1):\n",
    "        print(f'{apart[i][j]}호')\n",
    "print('-----')"
   ]
  },
  {
   "cell_type": "markdown",
   "id": "015567ad",
   "metadata": {},
   "source": [
    "### 191"
   ]
  },
  {
   "cell_type": "code",
   "execution_count": 202,
   "id": "7fad39d9",
   "metadata": {},
   "outputs": [],
   "source": [
    "data = [\n",
    "    [ 2000,  3050,  2050,  1980],\n",
    "    [ 7500,  2050,  2050,  1980],\n",
    "    [15450, 15050, 15550, 14900]\n",
    "]"
   ]
  },
  {
   "cell_type": "code",
   "execution_count": 210,
   "id": "ae9893bf",
   "metadata": {},
   "outputs": [
    {
     "name": "stdout",
     "output_type": "stream",
     "text": [
      "2000.28\n",
      "3050.427\n",
      "2050.287\n",
      "1980.2772\n",
      "7501.05\n",
      "2050.287\n",
      "2050.287\n",
      "1980.2772\n",
      "15452.163\n",
      "15052.107\n",
      "15552.177\n",
      "14902.086\n"
     ]
    }
   ],
   "source": [
    "for i in range(len(data)):\n",
    "    for j in range(len(data)+1):\n",
    "        print(data[i][j]+data[i][j]*0.00014)"
   ]
  },
  {
   "cell_type": "markdown",
   "id": "406d3568",
   "metadata": {},
   "source": [
    "### 192"
   ]
  },
  {
   "cell_type": "code",
   "execution_count": 211,
   "id": "e1b81879",
   "metadata": {},
   "outputs": [
    {
     "name": "stdout",
     "output_type": "stream",
     "text": [
      "2000.28\n",
      "3050.427\n",
      "2050.287\n",
      "1980.2772\n",
      "----\n",
      "7501.05\n",
      "2050.287\n",
      "2050.287\n",
      "1980.2772\n",
      "----\n",
      "15452.163\n",
      "15052.107\n",
      "15552.177\n",
      "14902.086\n",
      "----\n"
     ]
    }
   ],
   "source": [
    "for i in range(len(data)):\n",
    "    for j in range(len(data)+1):\n",
    "        print(data[i][j]+data[i][j]*0.00014)\n",
    "    print('----')"
   ]
  },
  {
   "cell_type": "markdown",
   "id": "d63f9268",
   "metadata": {},
   "source": [
    "### 193"
   ]
  },
  {
   "cell_type": "code",
   "execution_count": 216,
   "id": "2a04488c",
   "metadata": {},
   "outputs": [
    {
     "name": "stdout",
     "output_type": "stream",
     "text": [
      "[2000.28, 3050.427, 2050.287, 1980.2772, 7501.05, 2050.287, 2050.287, 1980.2772, 15452.163, 15052.107, 15552.177, 14902.086]\n"
     ]
    }
   ],
   "source": [
    "result = []\n",
    "for i in range(len(data)):\n",
    "    for j in range(len(data)+1):\n",
    "        result.append(data[i][j]+data[i][j]*0.00014)\n",
    "print(result)"
   ]
  },
  {
   "cell_type": "markdown",
   "id": "1f7d6afe",
   "metadata": {},
   "source": [
    "### 194"
   ]
  },
  {
   "cell_type": "code",
   "execution_count": 229,
   "id": "ea6ae93d",
   "metadata": {},
   "outputs": [
    {
     "name": "stdout",
     "output_type": "stream",
     "text": [
      "[[2000.28, 3050.427, 2050.287, 1980.2772], [7501.05, 2050.287, 2050.287, 1980.2772], [15452.163, 15052.107, 15552.177, 14902.086]]\n"
     ]
    }
   ],
   "source": [
    "result = []\n",
    "for i in range(len(data)):\n",
    "    sub = []\n",
    "    for j in range(len(data)+1):\n",
    "        sub.append(data[i][j]+data[i][j]*0.00014)\n",
    "    result.append(sub)\n",
    "print(result)"
   ]
  },
  {
   "cell_type": "markdown",
   "id": "5590eada",
   "metadata": {},
   "source": [
    "### 195"
   ]
  },
  {
   "cell_type": "code",
   "execution_count": 230,
   "id": "e1361fc1",
   "metadata": {},
   "outputs": [],
   "source": [
    "ohlc = [[\"open\", \"high\", \"low\", \"close\"],\n",
    "        [100, 110, 70, 100],\n",
    "        [200, 210, 180, 190],\n",
    "        [300, 310, 300, 310]]"
   ]
  },
  {
   "cell_type": "code",
   "execution_count": 242,
   "id": "2fb6abcc",
   "metadata": {},
   "outputs": [
    {
     "name": "stdout",
     "output_type": "stream",
     "text": [
      "100\n",
      "190\n",
      "310\n"
     ]
    }
   ],
   "source": [
    "for i in range(len(ohlc)-1):\n",
    "    for j in range(len(ohlc)):\n",
    "        if j == 3:\n",
    "            print(ohlc[i+1][j])"
   ]
  },
  {
   "cell_type": "markdown",
   "id": "8181636f",
   "metadata": {},
   "source": [
    "### 196"
   ]
  },
  {
   "cell_type": "code",
   "execution_count": 246,
   "id": "80527899",
   "metadata": {},
   "outputs": [
    {
     "name": "stdout",
     "output_type": "stream",
     "text": [
      "190\n",
      "310\n"
     ]
    }
   ],
   "source": [
    "for row in ohlc[1:]:\n",
    "    if row[3] > 150:\n",
    "        print(row[3])"
   ]
  },
  {
   "cell_type": "markdown",
   "id": "5ecdf5fd",
   "metadata": {},
   "source": [
    "### 197"
   ]
  },
  {
   "cell_type": "code",
   "execution_count": 249,
   "id": "3549066b",
   "metadata": {},
   "outputs": [
    {
     "name": "stdout",
     "output_type": "stream",
     "text": [
      "100\n",
      "310\n"
     ]
    }
   ],
   "source": [
    "for row in ohlc[1:]:\n",
    "    if row[3] >= row[0]:\n",
    "        print(row[3])"
   ]
  },
  {
   "cell_type": "markdown",
   "id": "44f93811",
   "metadata": {},
   "source": [
    "### 198"
   ]
  },
  {
   "cell_type": "code",
   "execution_count": 250,
   "id": "63efbdfe",
   "metadata": {},
   "outputs": [
    {
     "name": "stdout",
     "output_type": "stream",
     "text": [
      "[40, 30, 10]\n"
     ]
    }
   ],
   "source": [
    "volatility = []\n",
    "for row in ohlc[1:]:\n",
    "    volatility.append(row[1]-row[2])\n",
    "print(volatility)"
   ]
  },
  {
   "cell_type": "markdown",
   "id": "9ccb1ca7",
   "metadata": {},
   "source": [
    "### 199"
   ]
  },
  {
   "cell_type": "code",
   "execution_count": 251,
   "id": "0a26fe40",
   "metadata": {},
   "outputs": [
    {
     "name": "stdout",
     "output_type": "stream",
     "text": [
      "[10]\n"
     ]
    }
   ],
   "source": [
    "volatility = []\n",
    "for row in ohlc[1:]:\n",
    "    if row[3] > row[0]:\n",
    "        volatility.append(row[1]-row[2])\n",
    "print(volatility)"
   ]
  },
  {
   "cell_type": "markdown",
   "id": "cccfbc6d",
   "metadata": {},
   "source": [
    "### 200"
   ]
  },
  {
   "cell_type": "code",
   "execution_count": 260,
   "id": "8e37bf86",
   "metadata": {},
   "outputs": [
    {
     "name": "stdout",
     "output_type": "stream",
     "text": [
      "0\n"
     ]
    }
   ],
   "source": [
    "earn = 0\n",
    "for row in ohlc[1:]:\n",
    "    sub = row[0]-row[3]\n",
    "    earn = earn + sub\n",
    "print(earn)"
   ]
  },
  {
   "cell_type": "markdown",
   "id": "1f86a636",
   "metadata": {},
   "source": [
    "# 파이썬 함수"
   ]
  },
  {
   "cell_type": "markdown",
   "id": "a46b83ef",
   "metadata": {},
   "source": [
    "## 201~240"
   ]
  },
  {
   "cell_type": "markdown",
   "id": "6ac3ee8c",
   "metadata": {},
   "source": [
    "### 201"
   ]
  },
  {
   "cell_type": "code",
   "execution_count": 1,
   "id": "185620ab",
   "metadata": {},
   "outputs": [],
   "source": [
    "def print_coin():\n",
    "    print('비트코인')"
   ]
  },
  {
   "cell_type": "markdown",
   "id": "0facfb2a",
   "metadata": {},
   "source": [
    "### 202"
   ]
  },
  {
   "cell_type": "code",
   "execution_count": 2,
   "id": "1b0371ec",
   "metadata": {},
   "outputs": [
    {
     "name": "stdout",
     "output_type": "stream",
     "text": [
      "비트코인\n"
     ]
    }
   ],
   "source": [
    "print_coin()"
   ]
  },
  {
   "cell_type": "markdown",
   "id": "6ba4a224",
   "metadata": {},
   "source": [
    "### 203"
   ]
  },
  {
   "cell_type": "code",
   "execution_count": 3,
   "id": "dd116171",
   "metadata": {},
   "outputs": [
    {
     "name": "stdout",
     "output_type": "stream",
     "text": [
      "비트코인\n",
      "비트코인\n",
      "비트코인\n",
      "비트코인\n",
      "비트코인\n",
      "비트코인\n",
      "비트코인\n",
      "비트코인\n",
      "비트코인\n",
      "비트코인\n",
      "비트코인\n",
      "비트코인\n",
      "비트코인\n",
      "비트코인\n",
      "비트코인\n",
      "비트코인\n",
      "비트코인\n",
      "비트코인\n",
      "비트코인\n",
      "비트코인\n",
      "비트코인\n",
      "비트코인\n",
      "비트코인\n",
      "비트코인\n",
      "비트코인\n",
      "비트코인\n",
      "비트코인\n",
      "비트코인\n",
      "비트코인\n",
      "비트코인\n",
      "비트코인\n",
      "비트코인\n",
      "비트코인\n",
      "비트코인\n",
      "비트코인\n",
      "비트코인\n",
      "비트코인\n",
      "비트코인\n",
      "비트코인\n",
      "비트코인\n",
      "비트코인\n",
      "비트코인\n",
      "비트코인\n",
      "비트코인\n",
      "비트코인\n",
      "비트코인\n",
      "비트코인\n",
      "비트코인\n",
      "비트코인\n",
      "비트코인\n",
      "비트코인\n",
      "비트코인\n",
      "비트코인\n",
      "비트코인\n",
      "비트코인\n",
      "비트코인\n",
      "비트코인\n",
      "비트코인\n",
      "비트코인\n",
      "비트코인\n",
      "비트코인\n",
      "비트코인\n",
      "비트코인\n",
      "비트코인\n",
      "비트코인\n",
      "비트코인\n",
      "비트코인\n",
      "비트코인\n",
      "비트코인\n",
      "비트코인\n",
      "비트코인\n",
      "비트코인\n",
      "비트코인\n",
      "비트코인\n",
      "비트코인\n",
      "비트코인\n",
      "비트코인\n",
      "비트코인\n",
      "비트코인\n",
      "비트코인\n",
      "비트코인\n",
      "비트코인\n",
      "비트코인\n",
      "비트코인\n",
      "비트코인\n",
      "비트코인\n",
      "비트코인\n",
      "비트코인\n",
      "비트코인\n",
      "비트코인\n",
      "비트코인\n",
      "비트코인\n",
      "비트코인\n",
      "비트코인\n",
      "비트코인\n",
      "비트코인\n",
      "비트코인\n",
      "비트코인\n",
      "비트코인\n",
      "비트코인\n"
     ]
    }
   ],
   "source": [
    "for i in range(100):\n",
    "    print_coin()"
   ]
  },
  {
   "cell_type": "markdown",
   "id": "4160697c",
   "metadata": {},
   "source": [
    "### 204"
   ]
  },
  {
   "cell_type": "code",
   "execution_count": 4,
   "id": "f25c61c2",
   "metadata": {},
   "outputs": [],
   "source": [
    "def print_coins():\n",
    "    for i in range(100):\n",
    "        print('비트코인')"
   ]
  },
  {
   "cell_type": "markdown",
   "id": "e2a7ca07",
   "metadata": {},
   "source": [
    "### 205"
   ]
  },
  {
   "cell_type": "code",
   "execution_count": 5,
   "id": "53200719",
   "metadata": {},
   "outputs": [
    {
     "ename": "NameError",
     "evalue": "name 'hello' is not defined",
     "output_type": "error",
     "traceback": [
      "\u001b[1;31m---------------------------------------------------------------------------\u001b[0m",
      "\u001b[1;31mNameError\u001b[0m                                 Traceback (most recent call last)",
      "Cell \u001b[1;32mIn[5], line 1\u001b[0m\n\u001b[1;32m----> 1\u001b[0m hello()\n\u001b[0;32m      2\u001b[0m \u001b[38;5;28;01mdef\u001b[39;00m \u001b[38;5;21mhello\u001b[39m():\n\u001b[0;32m      3\u001b[0m     \u001b[38;5;28mprint\u001b[39m(\u001b[38;5;124m\"\u001b[39m\u001b[38;5;124mHi\u001b[39m\u001b[38;5;124m\"\u001b[39m)\n",
      "\u001b[1;31mNameError\u001b[0m: name 'hello' is not defined"
     ]
    }
   ],
   "source": [
    "hello()\n",
    "def hello():\n",
    "    print(\"Hi\")\n",
    "# hello() 함수가 정의되어 있지 않아서 오류가 난다."
   ]
  },
  {
   "cell_type": "code",
   "execution_count": 6,
   "id": "baa30957",
   "metadata": {},
   "outputs": [
    {
     "name": "stdout",
     "output_type": "stream",
     "text": [
      "Hi\n"
     ]
    }
   ],
   "source": [
    "def hello():\n",
    "    print(\"Hi\")\n",
    "hello()"
   ]
  },
  {
   "cell_type": "markdown",
   "id": "4c13489e",
   "metadata": {},
   "source": [
    "### 206"
   ]
  },
  {
   "cell_type": "code",
   "execution_count": 7,
   "id": "d7016b4f",
   "metadata": {},
   "outputs": [
    {
     "name": "stdout",
     "output_type": "stream",
     "text": [
      "A\n",
      "B\n",
      "C\n",
      "A\n",
      "B\n"
     ]
    }
   ],
   "source": [
    "def message() :\n",
    "    print(\"A\")\n",
    "    print(\"B\")\n",
    "\n",
    "message()\n",
    "print(\"C\")\n",
    "message()\n",
    "# A, B, C, A, B"
   ]
  },
  {
   "cell_type": "markdown",
   "id": "3eec23cf",
   "metadata": {},
   "source": [
    "### 207"
   ]
  },
  {
   "cell_type": "code",
   "execution_count": 8,
   "id": "7eb35a5d",
   "metadata": {},
   "outputs": [
    {
     "name": "stdout",
     "output_type": "stream",
     "text": [
      "A\n",
      "C\n",
      "B\n"
     ]
    }
   ],
   "source": [
    "print(\"A\")\n",
    "\n",
    "def message() :\n",
    "    print(\"B\")\n",
    "\n",
    "print(\"C\")\n",
    "message()\n",
    "# A, C, B"
   ]
  },
  {
   "cell_type": "markdown",
   "id": "cf36a92c",
   "metadata": {},
   "source": [
    "### 208"
   ]
  },
  {
   "cell_type": "code",
   "execution_count": 9,
   "id": "cf7042b6",
   "metadata": {},
   "outputs": [
    {
     "name": "stdout",
     "output_type": "stream",
     "text": [
      "A\n",
      "C\n",
      "B\n",
      "E\n",
      "D\n"
     ]
    }
   ],
   "source": [
    "print(\"A\")\n",
    "def message1() :\n",
    "    print(\"B\")\n",
    "print(\"C\")\n",
    "def message2() :\n",
    "    print(\"D\")\n",
    "message1()\n",
    "print(\"E\")\n",
    "message2()\n",
    "# A, C, B, E, D"
   ]
  },
  {
   "cell_type": "markdown",
   "id": "6f801310",
   "metadata": {},
   "source": [
    "### 209"
   ]
  },
  {
   "cell_type": "code",
   "execution_count": 10,
   "id": "7d3e8d14",
   "metadata": {},
   "outputs": [
    {
     "name": "stdout",
     "output_type": "stream",
     "text": [
      "B\n",
      "A\n"
     ]
    }
   ],
   "source": [
    "def message1():\n",
    "    print(\"A\")\n",
    "\n",
    "def message2():\n",
    "    print(\"B\")\n",
    "    message1()\n",
    "\n",
    "message2()\n",
    "# B, A"
   ]
  },
  {
   "cell_type": "markdown",
   "id": "3951fc07",
   "metadata": {},
   "source": [
    "### 210"
   ]
  },
  {
   "cell_type": "code",
   "execution_count": 11,
   "id": "8ebb0156",
   "metadata": {},
   "outputs": [
    {
     "name": "stdout",
     "output_type": "stream",
     "text": [
      "B\n",
      "C\n",
      "B\n",
      "C\n",
      "B\n",
      "C\n",
      "A\n"
     ]
    }
   ],
   "source": [
    "def message1():\n",
    "    print(\"A\")\n",
    "\n",
    "def message2():\n",
    "    print(\"B\")\n",
    "\n",
    "def message3():\n",
    "    for i in range (3) :\n",
    "        message2()\n",
    "        print(\"C\")\n",
    "    message1()\n",
    "\n",
    "message3()\n",
    "# B, C, B, C, B, C, A"
   ]
  },
  {
   "cell_type": "markdown",
   "id": "ee91a97e",
   "metadata": {},
   "source": [
    "### 211"
   ]
  },
  {
   "cell_type": "code",
   "execution_count": 12,
   "id": "c7b9f297",
   "metadata": {},
   "outputs": [
    {
     "name": "stdout",
     "output_type": "stream",
     "text": [
      "안녕\n",
      "Hi\n"
     ]
    }
   ],
   "source": [
    "def 함수(문자열) :\n",
    "    print(문자열)\n",
    "\n",
    "함수(\"안녕\")\n",
    "함수(\"Hi\")\n",
    "# 안녕, Hi"
   ]
  },
  {
   "cell_type": "markdown",
   "id": "8b00b0f7",
   "metadata": {},
   "source": [
    "### 212"
   ]
  },
  {
   "cell_type": "code",
   "execution_count": 13,
   "id": "32d23c90",
   "metadata": {},
   "outputs": [
    {
     "name": "stdout",
     "output_type": "stream",
     "text": [
      "7\n",
      "15\n"
     ]
    }
   ],
   "source": [
    "def 함수(a, b) :\n",
    "    print(a + b)\n",
    "\n",
    "함수(3, 4)\n",
    "함수(7, 8)\n",
    "# 7, 15"
   ]
  },
  {
   "cell_type": "markdown",
   "id": "36681255",
   "metadata": {},
   "source": [
    "### 213"
   ]
  },
  {
   "cell_type": "code",
   "execution_count": 15,
   "id": "4d78fe24",
   "metadata": {},
   "outputs": [
    {
     "ename": "TypeError",
     "evalue": "함수() missing 1 required positional argument: '문자열'",
     "output_type": "error",
     "traceback": [
      "\u001b[1;31m---------------------------------------------------------------------------\u001b[0m",
      "\u001b[1;31mTypeError\u001b[0m                                 Traceback (most recent call last)",
      "Cell \u001b[1;32mIn[15], line 3\u001b[0m\n\u001b[0;32m      1\u001b[0m \u001b[38;5;28;01mdef\u001b[39;00m \u001b[38;5;21m함수\u001b[39m(문자열) :\n\u001b[0;32m      2\u001b[0m     \u001b[38;5;28mprint\u001b[39m(문자열)\n\u001b[1;32m----> 3\u001b[0m 함수()\n",
      "\u001b[1;31mTypeError\u001b[0m: 함수() missing 1 required positional argument: '문자열'"
     ]
    }
   ],
   "source": [
    "def 함수(문자열) :\n",
    "    print(문자열)\n",
    "함수()\n",
    "# 매개변수에 인자를 받지 않아서 오류가 났다."
   ]
  },
  {
   "cell_type": "markdown",
   "id": "b1fc0656",
   "metadata": {},
   "source": [
    "### 214"
   ]
  },
  {
   "cell_type": "code",
   "execution_count": 16,
   "id": "e7b61c22",
   "metadata": {},
   "outputs": [
    {
     "ename": "TypeError",
     "evalue": "can only concatenate str (not \"int\") to str",
     "output_type": "error",
     "traceback": [
      "\u001b[1;31m---------------------------------------------------------------------------\u001b[0m",
      "\u001b[1;31mTypeError\u001b[0m                                 Traceback (most recent call last)",
      "Cell \u001b[1;32mIn[16], line 4\u001b[0m\n\u001b[0;32m      1\u001b[0m \u001b[38;5;28;01mdef\u001b[39;00m \u001b[38;5;21m함수\u001b[39m(a, b) :\n\u001b[0;32m      2\u001b[0m     \u001b[38;5;28mprint\u001b[39m(a \u001b[38;5;241m+\u001b[39m b)\n\u001b[1;32m----> 4\u001b[0m 함수(\u001b[38;5;124m\"\u001b[39m\u001b[38;5;124m안녕\u001b[39m\u001b[38;5;124m\"\u001b[39m, \u001b[38;5;241m3\u001b[39m)\n",
      "Cell \u001b[1;32mIn[16], line 2\u001b[0m, in \u001b[0;36m함수\u001b[1;34m(a, b)\u001b[0m\n\u001b[0;32m      1\u001b[0m \u001b[38;5;28;01mdef\u001b[39;00m \u001b[38;5;21m함수\u001b[39m(a, b) :\n\u001b[1;32m----> 2\u001b[0m     \u001b[38;5;28mprint\u001b[39m(a \u001b[38;5;241m+\u001b[39m b)\n",
      "\u001b[1;31mTypeError\u001b[0m: can only concatenate str (not \"int\") to str"
     ]
    }
   ],
   "source": [
    "def 함수(a, b) :\n",
    "    print(a + b)\n",
    "\n",
    "함수(\"안녕\", 3)\n",
    "# 문자열을 인수로 넣어서 오류가 났다.\n",
    "# 문자열과 숫자를 입력해서 문자열과 숫자는 더할 수 없다."
   ]
  },
  {
   "cell_type": "markdown",
   "id": "a8fccf27",
   "metadata": {},
   "source": [
    "### 215"
   ]
  },
  {
   "cell_type": "code",
   "execution_count": 18,
   "id": "c727ecd9",
   "metadata": {},
   "outputs": [],
   "source": [
    "def print_with_smile():\n",
    "    a = input('문자를 입력해주세요: ')\n",
    "    result = a + ':D'\n",
    "    print(result)"
   ]
  },
  {
   "cell_type": "markdown",
   "id": "a71eb98b",
   "metadata": {},
   "source": [
    "### 216"
   ]
  },
  {
   "cell_type": "code",
   "execution_count": 19,
   "id": "35629862",
   "metadata": {},
   "outputs": [
    {
     "name": "stdout",
     "output_type": "stream",
     "text": [
      "문자를 입력해주세요: 안녕하세요\n",
      "안녕하세요:D\n"
     ]
    }
   ],
   "source": [
    "print_with_smile()"
   ]
  },
  {
   "cell_type": "markdown",
   "id": "5e9860dc",
   "metadata": {},
   "source": [
    "### 217"
   ]
  },
  {
   "cell_type": "code",
   "execution_count": 22,
   "id": "0f7b7019",
   "metadata": {},
   "outputs": [],
   "source": [
    "def print_upper_price():\n",
    "    a = int(input('현재 가격을 입력해주세요: '))\n",
    "    high = a * 1.3\n",
    "    print(f'상한가 30%는 {high} 입니다.')"
   ]
  },
  {
   "cell_type": "code",
   "execution_count": 23,
   "id": "61049af0",
   "metadata": {},
   "outputs": [
    {
     "name": "stdout",
     "output_type": "stream",
     "text": [
      "현재 가격을 입력해주세요: 1000\n",
      "상한가 30%는 1300.0 입니다.\n"
     ]
    }
   ],
   "source": [
    "print_upper_price()"
   ]
  },
  {
   "cell_type": "markdown",
   "id": "2f3687b7",
   "metadata": {},
   "source": [
    "### 218"
   ]
  },
  {
   "cell_type": "code",
   "execution_count": 24,
   "id": "1d45f4e3",
   "metadata": {},
   "outputs": [],
   "source": [
    "def print_sum(a, b):\n",
    "    print(a + b)"
   ]
  },
  {
   "cell_type": "code",
   "execution_count": 25,
   "id": "45ad07c2",
   "metadata": {},
   "outputs": [
    {
     "name": "stdout",
     "output_type": "stream",
     "text": [
      "3\n"
     ]
    }
   ],
   "source": [
    "print_sum(1, 2)"
   ]
  },
  {
   "cell_type": "markdown",
   "id": "04f39dac",
   "metadata": {},
   "source": [
    "### 219"
   ]
  },
  {
   "cell_type": "code",
   "execution_count": 26,
   "id": "1ac05353",
   "metadata": {},
   "outputs": [],
   "source": [
    "def print_arithmetic_operation(a, b):\n",
    "    print(f'{a} + {b} = {a+b}')\n",
    "    print(f'{a} - {b} = {a-b}')\n",
    "    print(f'{a} * {b} = {a*b}')\n",
    "    print(f'{a} / {b} = {a/b}')"
   ]
  },
  {
   "cell_type": "code",
   "execution_count": 27,
   "id": "db4c427f",
   "metadata": {},
   "outputs": [
    {
     "name": "stdout",
     "output_type": "stream",
     "text": [
      "3 + 4 = 7\n",
      "3 - 4 = -1\n",
      "3 * 4 = 12\n",
      "3 / 4 = 0.75\n"
     ]
    }
   ],
   "source": [
    "print_arithmetic_operation(3, 4)"
   ]
  },
  {
   "cell_type": "markdown",
   "id": "bd461274",
   "metadata": {},
   "source": [
    "### 220"
   ]
  },
  {
   "cell_type": "code",
   "execution_count": 28,
   "id": "52546443",
   "metadata": {},
   "outputs": [],
   "source": [
    "def print_max(a, b, c):\n",
    "    if a > b and a > c:\n",
    "        print(a)\n",
    "    elif b > a and b > c:\n",
    "        print(b)\n",
    "    else:\n",
    "        print(c)"
   ]
  },
  {
   "cell_type": "code",
   "execution_count": 29,
   "id": "fbf8d692",
   "metadata": {},
   "outputs": [
    {
     "name": "stdout",
     "output_type": "stream",
     "text": [
      "3\n"
     ]
    }
   ],
   "source": [
    "print_max(1,2,3)"
   ]
  },
  {
   "cell_type": "code",
   "execution_count": 30,
   "id": "09341b1c",
   "metadata": {},
   "outputs": [
    {
     "name": "stdout",
     "output_type": "stream",
     "text": [
      "4\n"
     ]
    }
   ],
   "source": [
    "print_max(4,3,1)"
   ]
  },
  {
   "cell_type": "markdown",
   "id": "8823bab7",
   "metadata": {},
   "source": [
    "### 221"
   ]
  },
  {
   "cell_type": "code",
   "execution_count": 31,
   "id": "8f1e8f46",
   "metadata": {},
   "outputs": [],
   "source": [
    "def print_reverse(a):\n",
    "    print(a[::-1])"
   ]
  },
  {
   "cell_type": "code",
   "execution_count": 32,
   "id": "afebde1d",
   "metadata": {},
   "outputs": [
    {
     "name": "stdout",
     "output_type": "stream",
     "text": [
      "nohtyp\n"
     ]
    }
   ],
   "source": [
    "print_reverse(\"python\")"
   ]
  },
  {
   "cell_type": "markdown",
   "id": "438662cb",
   "metadata": {},
   "source": [
    "### 222"
   ]
  },
  {
   "cell_type": "code",
   "execution_count": 33,
   "id": "8cc1de38",
   "metadata": {},
   "outputs": [],
   "source": [
    "def print_score(list):\n",
    "    print(sum(list)/len(list))"
   ]
  },
  {
   "cell_type": "code",
   "execution_count": 35,
   "id": "f3d99b25",
   "metadata": {},
   "outputs": [
    {
     "name": "stdout",
     "output_type": "stream",
     "text": [
      "2.0\n"
     ]
    }
   ],
   "source": [
    "print_score([1,2,3])"
   ]
  },
  {
   "cell_type": "markdown",
   "id": "76af2e03",
   "metadata": {},
   "source": [
    "### 223"
   ]
  },
  {
   "cell_type": "code",
   "execution_count": 36,
   "id": "08a21c47",
   "metadata": {},
   "outputs": [],
   "source": [
    "def print_even(list):\n",
    "    for i in list:\n",
    "        if i % 2 == 0:\n",
    "            print(i)\n",
    "        else:\n",
    "            pass"
   ]
  },
  {
   "cell_type": "code",
   "execution_count": 37,
   "id": "12ca2831",
   "metadata": {},
   "outputs": [
    {
     "name": "stdout",
     "output_type": "stream",
     "text": [
      "2\n",
      "10\n",
      "12\n"
     ]
    }
   ],
   "source": [
    "print_even([1, 3, 2, 10, 12, 11, 15])"
   ]
  },
  {
   "cell_type": "markdown",
   "id": "26591373",
   "metadata": {},
   "source": [
    "### 224"
   ]
  },
  {
   "cell_type": "code",
   "execution_count": 40,
   "id": "56f46a31",
   "metadata": {},
   "outputs": [],
   "source": [
    "def print_keys(dict):\n",
    "    for key in dict.keys():\n",
    "        print(key)"
   ]
  },
  {
   "cell_type": "code",
   "execution_count": 41,
   "id": "dc03972b",
   "metadata": {},
   "outputs": [
    {
     "name": "stdout",
     "output_type": "stream",
     "text": [
      "이름\n",
      "나이\n",
      "성별\n"
     ]
    }
   ],
   "source": [
    "print_keys({\"이름\":\"김말똥\", \"나이\":30, \"성별\":0})"
   ]
  },
  {
   "cell_type": "markdown",
   "id": "4f266edf",
   "metadata": {},
   "source": [
    "### 225"
   ]
  },
  {
   "cell_type": "code",
   "execution_count": 1,
   "id": "2a7234ef",
   "metadata": {},
   "outputs": [],
   "source": [
    "my_dict = {\"10/26\" : [100, 130, 100, 100],\n",
    "           \"10/27\" : [10, 12, 10, 11]}"
   ]
  },
  {
   "cell_type": "code",
   "execution_count": 14,
   "id": "06768c13",
   "metadata": {},
   "outputs": [],
   "source": [
    "def print_value_by_key(dict, key):\n",
    "    print(dict[key])"
   ]
  },
  {
   "cell_type": "code",
   "execution_count": 15,
   "id": "8fd5ab55",
   "metadata": {},
   "outputs": [
    {
     "name": "stdout",
     "output_type": "stream",
     "text": [
      "[100, 130, 100, 100]\n"
     ]
    }
   ],
   "source": [
    "print_value_by_key(my_dict, \"10/26\")"
   ]
  },
  {
   "cell_type": "markdown",
   "id": "85042ab0",
   "metadata": {},
   "source": [
    "### 226"
   ]
  },
  {
   "cell_type": "code",
   "execution_count": 30,
   "id": "72d99679",
   "metadata": {},
   "outputs": [],
   "source": [
    "def print_5xn(string):\n",
    "    chunk_num = int(len(string)/5)\n",
    "    print(chunk_num)\n",
    "    for i in range(chunk_num + 1):\n",
    "        print(string[i*5:i*5+5])"
   ]
  },
  {
   "cell_type": "code",
   "execution_count": 31,
   "id": "e0d69dca",
   "metadata": {},
   "outputs": [
    {
     "name": "stdout",
     "output_type": "stream",
     "text": [
      "2\n",
      "아이엠어보\n",
      "이유알어걸\n",
      "\n"
     ]
    }
   ],
   "source": [
    "print_5xn(\"아이엠어보이유알어걸\")"
   ]
  },
  {
   "cell_type": "markdown",
   "id": "f64d3170",
   "metadata": {},
   "source": [
    "### 227"
   ]
  },
  {
   "cell_type": "code",
   "execution_count": 37,
   "id": "297424b0",
   "metadata": {},
   "outputs": [],
   "source": [
    "def print_mxn(string, mxn):\n",
    "    chunk_num = int(len(string)/mxn)\n",
    "    for i in range(chunk_num + 1):\n",
    "        print(string[i*mxn:i*mxn+mxn])"
   ]
  },
  {
   "cell_type": "code",
   "execution_count": 38,
   "id": "77d63dbf",
   "metadata": {},
   "outputs": [
    {
     "name": "stdout",
     "output_type": "stream",
     "text": [
      "아이엠\n",
      "어보이\n",
      "유알어\n",
      "걸\n"
     ]
    }
   ],
   "source": [
    "print_mxn(\"아이엠어보이유알어걸\", 3)"
   ]
  },
  {
   "cell_type": "markdown",
   "id": "b3906ebc",
   "metadata": {},
   "source": [
    "### 228"
   ]
  },
  {
   "cell_type": "code",
   "execution_count": 44,
   "id": "6683c9e1",
   "metadata": {},
   "outputs": [],
   "source": [
    "def calc_monthly_salary(annual_salary):\n",
    "    monthly_salary = int(annual_salary/12)\n",
    "    return monthly_salary"
   ]
  },
  {
   "cell_type": "code",
   "execution_count": 45,
   "id": "0e07bbbd",
   "metadata": {},
   "outputs": [
    {
     "data": {
      "text/plain": [
       "1000000"
      ]
     },
     "execution_count": 45,
     "metadata": {},
     "output_type": "execute_result"
    }
   ],
   "source": [
    "calc_monthly_salary(12000000)"
   ]
  },
  {
   "cell_type": "markdown",
   "id": "a8673191",
   "metadata": {},
   "source": [
    "### 229"
   ]
  },
  {
   "cell_type": "code",
   "execution_count": 46,
   "id": "2f95d618",
   "metadata": {},
   "outputs": [
    {
     "name": "stdout",
     "output_type": "stream",
     "text": [
      "왼쪽: 100\n",
      "오른쪽: 200\n"
     ]
    }
   ],
   "source": [
    "def my_print (a, b) :\n",
    "    print(\"왼쪽:\", a)\n",
    "    print(\"오른쪽:\", b)\n",
    "\n",
    "my_print(a=100, b=200)\n",
    "# 왼쪽: 100, 오른쪽: 200"
   ]
  },
  {
   "cell_type": "markdown",
   "id": "f41875e0",
   "metadata": {},
   "source": [
    "### 230"
   ]
  },
  {
   "cell_type": "code",
   "execution_count": 47,
   "id": "9cfd0ee3",
   "metadata": {},
   "outputs": [
    {
     "name": "stdout",
     "output_type": "stream",
     "text": [
      "왼쪽: 200\n",
      "오른쪽: 100\n"
     ]
    }
   ],
   "source": [
    "def my_print (a, b) :\n",
    "    print(\"왼쪽:\", a)\n",
    "    print(\"오른쪽:\", b)\n",
    "\n",
    "my_print(b=100, a=200)\n",
    "# 왼쪽: 200, 오른쪽: 100"
   ]
  },
  {
   "cell_type": "markdown",
   "id": "c5cb3675",
   "metadata": {},
   "source": [
    "### 231"
   ]
  },
  {
   "cell_type": "code",
   "execution_count": 48,
   "id": "7f83d51f",
   "metadata": {},
   "outputs": [
    {
     "ename": "NameError",
     "evalue": "name 'result' is not defined",
     "output_type": "error",
     "traceback": [
      "\u001b[1;31m---------------------------------------------------------------------------\u001b[0m",
      "\u001b[1;31mNameError\u001b[0m                                 Traceback (most recent call last)",
      "Cell \u001b[1;32mIn[48], line 5\u001b[0m\n\u001b[0;32m      2\u001b[0m     result \u001b[38;5;241m=\u001b[39m n \u001b[38;5;241m+\u001b[39m \u001b[38;5;241m1\u001b[39m\n\u001b[0;32m      4\u001b[0m n_plus_1(\u001b[38;5;241m3\u001b[39m)\n\u001b[1;32m----> 5\u001b[0m \u001b[38;5;28mprint\u001b[39m (result)\n",
      "\u001b[1;31mNameError\u001b[0m: name 'result' is not defined"
     ]
    }
   ],
   "source": [
    "def n_plus_1 (n) :\n",
    "    result = n + 1\n",
    "\n",
    "n_plus_1(3)\n",
    "print (result)\n",
    "# result는 로컬 변수여서 글로벌 영역에서 출력되지 않는다."
   ]
  },
  {
   "cell_type": "markdown",
   "id": "e2656ac0",
   "metadata": {},
   "source": [
    "### 232"
   ]
  },
  {
   "cell_type": "code",
   "execution_count": 50,
   "id": "804179aa",
   "metadata": {},
   "outputs": [],
   "source": [
    "def make_url(string):\n",
    "    print(f'www.{string}.com')"
   ]
  },
  {
   "cell_type": "code",
   "execution_count": 51,
   "id": "00ffcd77",
   "metadata": {},
   "outputs": [
    {
     "name": "stdout",
     "output_type": "stream",
     "text": [
      "www.naver.com\n"
     ]
    }
   ],
   "source": [
    "make_url('naver')"
   ]
  },
  {
   "cell_type": "code",
   "execution_count": 52,
   "id": "35da3757",
   "metadata": {},
   "outputs": [],
   "source": [
    "def make_url(string) :\n",
    "    return \"www.\" + string + \".com\""
   ]
  },
  {
   "cell_type": "markdown",
   "id": "7dfe2083",
   "metadata": {},
   "source": [
    "### 233"
   ]
  },
  {
   "cell_type": "code",
   "execution_count": 55,
   "id": "df34263f",
   "metadata": {},
   "outputs": [],
   "source": [
    "def make_list(string):\n",
    "    a = []\n",
    "    for i in string:\n",
    "        a.append(i)\n",
    "    return a"
   ]
  },
  {
   "cell_type": "code",
   "execution_count": 56,
   "id": "0799562b",
   "metadata": {},
   "outputs": [
    {
     "data": {
      "text/plain": [
       "['a', 'b', 'c', 'd']"
      ]
     },
     "execution_count": 56,
     "metadata": {},
     "output_type": "execute_result"
    }
   ],
   "source": [
    "make_list(\"abcd\")"
   ]
  },
  {
   "cell_type": "markdown",
   "id": "b72224ba",
   "metadata": {},
   "source": [
    "### 234"
   ]
  },
  {
   "cell_type": "code",
   "execution_count": 63,
   "id": "fe76b865",
   "metadata": {},
   "outputs": [],
   "source": [
    "def pickup_even(num_list):\n",
    "    even_list = []\n",
    "    for i in num_list:\n",
    "        if i % 2 == 0:\n",
    "            even_list.append(i)\n",
    "    return even_list"
   ]
  },
  {
   "cell_type": "code",
   "execution_count": 64,
   "id": "302c0598",
   "metadata": {},
   "outputs": [
    {
     "data": {
      "text/plain": [
       "[4, 6, 8]"
      ]
     },
     "execution_count": 64,
     "metadata": {},
     "output_type": "execute_result"
    }
   ],
   "source": [
    "pickup_even([3, 4, 5, 6, 7, 8])"
   ]
  },
  {
   "cell_type": "markdown",
   "id": "7a593f59",
   "metadata": {},
   "source": [
    "### 235"
   ]
  },
  {
   "cell_type": "code",
   "execution_count": 71,
   "id": "5e28e764",
   "metadata": {},
   "outputs": [],
   "source": [
    "def convert_int(string):\n",
    "    a = int(string.replace(',', ''))\n",
    "    return a"
   ]
  },
  {
   "cell_type": "code",
   "execution_count": 72,
   "id": "2fe0c172",
   "metadata": {},
   "outputs": [
    {
     "data": {
      "text/plain": [
       "1234567"
      ]
     },
     "execution_count": 72,
     "metadata": {},
     "output_type": "execute_result"
    }
   ],
   "source": [
    "convert_int(\"1,234,567\")"
   ]
  },
  {
   "cell_type": "markdown",
   "id": "eb911b1f",
   "metadata": {},
   "source": [
    "### 236"
   ]
  },
  {
   "cell_type": "code",
   "execution_count": 73,
   "id": "7c00c55c",
   "metadata": {},
   "outputs": [
    {
     "name": "stdout",
     "output_type": "stream",
     "text": [
      "22\n"
     ]
    }
   ],
   "source": [
    "def 함수(num) :\n",
    "    return num + 4\n",
    "\n",
    "a = 함수(10)\n",
    "b = 함수(a)\n",
    "c = 함수(b)\n",
    "print(c)\n",
    "# 22"
   ]
  },
  {
   "cell_type": "markdown",
   "id": "c849888f",
   "metadata": {},
   "source": [
    "### 237"
   ]
  },
  {
   "cell_type": "code",
   "execution_count": 74,
   "id": "a15c8f5e",
   "metadata": {},
   "outputs": [
    {
     "name": "stdout",
     "output_type": "stream",
     "text": [
      "22\n"
     ]
    }
   ],
   "source": [
    "def 함수(num) :\n",
    "    return num + 4\n",
    "\n",
    "c = 함수(함수(함수(10)))\n",
    "print(c)\n",
    "# 22"
   ]
  },
  {
   "cell_type": "markdown",
   "id": "bb2bb1d6",
   "metadata": {},
   "source": [
    "### 238"
   ]
  },
  {
   "cell_type": "code",
   "execution_count": 75,
   "id": "10dd266f",
   "metadata": {},
   "outputs": [
    {
     "name": "stdout",
     "output_type": "stream",
     "text": [
      "140\n"
     ]
    }
   ],
   "source": [
    "def 함수1(num) :\n",
    "    return num + 4\n",
    "\n",
    "def 함수2(num) :\n",
    "    return num * 10\n",
    "\n",
    "a = 함수1(10)\n",
    "c = 함수2(a)\n",
    "print(c)\n",
    "# 140"
   ]
  },
  {
   "cell_type": "markdown",
   "id": "dfe03567",
   "metadata": {},
   "source": [
    "### 239"
   ]
  },
  {
   "cell_type": "code",
   "execution_count": 76,
   "id": "96ffe9b2",
   "metadata": {},
   "outputs": [
    {
     "name": "stdout",
     "output_type": "stream",
     "text": [
      "16\n"
     ]
    }
   ],
   "source": [
    "def 함수1(num) :\n",
    "    return num + 4\n",
    "\n",
    "def 함수2(num) :\n",
    "    num = num + 2\n",
    "    return 함수1(num)\n",
    "\n",
    "c = 함수2(10)\n",
    "print(c)\n",
    "# 16"
   ]
  },
  {
   "cell_type": "markdown",
   "id": "f2f9f18b",
   "metadata": {},
   "source": [
    "### 240"
   ]
  },
  {
   "cell_type": "code",
   "execution_count": 77,
   "id": "5e682611",
   "metadata": {},
   "outputs": [
    {
     "name": "stdout",
     "output_type": "stream",
     "text": [
      "28\n"
     ]
    }
   ],
   "source": [
    "def 함수0(num) :\n",
    "    return num * 2\n",
    "\n",
    "def 함수1(num) :\n",
    "    return 함수0(num + 2)\n",
    "\n",
    "def 함수2(num) :\n",
    "    num = num + 10\n",
    "    return 함수1(num)\n",
    "\n",
    "c = 함수2(2)\n",
    "print(c)\n",
    "# 28"
   ]
  }
 ],
 "metadata": {
  "kernelspec": {
   "display_name": "Python 3 (ipykernel)",
   "language": "python",
   "name": "python3"
  },
  "language_info": {
   "codemirror_mode": {
    "name": "ipython",
    "version": 3
   },
   "file_extension": ".py",
   "mimetype": "text/x-python",
   "name": "python",
   "nbconvert_exporter": "python",
   "pygments_lexer": "ipython3",
   "version": "3.11.5"
  },
  "toc": {
   "base_numbering": 1,
   "nav_menu": {},
   "number_sections": true,
   "sideBar": true,
   "skip_h1_title": false,
   "title_cell": "Table of Contents",
   "title_sidebar": "Contents",
   "toc_cell": false,
   "toc_position": {
    "height": "calc(100% - 180px)",
    "left": "10px",
    "top": "150px",
    "width": "210.4px"
   },
   "toc_section_display": true,
   "toc_window_display": true
  }
 },
 "nbformat": 4,
 "nbformat_minor": 5
}
