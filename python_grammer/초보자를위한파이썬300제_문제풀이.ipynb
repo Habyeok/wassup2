{
 "cells": [
  {
   "cell_type": "markdown",
   "id": "0a017329",
   "metadata": {},
   "source": [
    "# 파이썬 시작하기"
   ]
  },
  {
   "cell_type": "markdown",
   "id": "f7711b32",
   "metadata": {},
   "source": [
    "## 1~10"
   ]
  },
  {
   "cell_type": "markdown",
   "id": "e76ad050",
   "metadata": {},
   "source": [
    "### 1~4. print 기초"
   ]
  },
  {
   "cell_type": "code",
   "execution_count": 1,
   "id": "c0c85497",
   "metadata": {},
   "outputs": [
    {
     "name": "stdout",
     "output_type": "stream",
     "text": [
      "Hello World\n"
     ]
    }
   ],
   "source": [
    "# 화면에 Hello World 문자열을 출력하세요.\n",
    "print('Hello World')"
   ]
  },
  {
   "cell_type": "code",
   "execution_count": 2,
   "id": "c54b0a6c",
   "metadata": {},
   "outputs": [
    {
     "name": "stdout",
     "output_type": "stream",
     "text": [
      "Mary's cosmetics\n"
     ]
    }
   ],
   "source": [
    "# 화면에 Mary's cosmetics을 출력하세요.\n",
    "print(\"Mary's cosmetics\")"
   ]
  },
  {
   "cell_type": "code",
   "execution_count": 3,
   "id": "a0dede82",
   "metadata": {},
   "outputs": [
    {
     "name": "stdout",
     "output_type": "stream",
     "text": [
      "신씨가 소리질렀다. \"도둑이야\".\n"
     ]
    }
   ],
   "source": [
    "# 신씨가 소리질렀다. \"도둑이야\".\n",
    "print('신씨가 소리질렀다. \"도둑이야\".')"
   ]
  },
  {
   "cell_type": "code",
   "execution_count": 4,
   "id": "77d1725c",
   "metadata": {},
   "outputs": [
    {
     "name": "stdout",
     "output_type": "stream",
     "text": [
      "C:\\Windows\n"
     ]
    }
   ],
   "source": [
    "print('C:\\Windows')"
   ]
  },
  {
   "cell_type": "markdown",
   "id": "e281161d",
   "metadata": {},
   "source": [
    "### 5. print 탭과 줄바꿈"
   ]
  },
  {
   "cell_type": "code",
   "execution_count": 5,
   "id": "18479f0a",
   "metadata": {},
   "outputs": [
    {
     "name": "stdout",
     "output_type": "stream",
     "text": [
      "안녕하세요.\n",
      "만나서\t\t반갑습니다.\n"
     ]
    }
   ],
   "source": [
    "print(\"안녕하세요.\\n만나서\\t\\t반갑습니다.\")\n",
    "# \\n: 줄바꿈\n",
    "# \\t: 탭"
   ]
  },
  {
   "cell_type": "markdown",
   "id": "40f108c3",
   "metadata": {},
   "source": [
    "### 6. print 여러 데이터 출력"
   ]
  },
  {
   "cell_type": "code",
   "execution_count": 8,
   "id": "08ab1761",
   "metadata": {},
   "outputs": [
    {
     "name": "stdout",
     "output_type": "stream",
     "text": [
      "오늘은 일요일\n"
     ]
    }
   ],
   "source": [
    "print (\"오늘은\", \"일요일\")\n",
    "# 오늘은 일요일\n",
    "# 내장함수 print의 기본 구분자는 공백이다."
   ]
  },
  {
   "cell_type": "markdown",
   "id": "7297053c",
   "metadata": {},
   "source": [
    "### 7~8. print 기초"
   ]
  },
  {
   "cell_type": "code",
   "execution_count": 17,
   "id": "fa41f026",
   "metadata": {},
   "outputs": [
    {
     "name": "stdout",
     "output_type": "stream",
     "text": [
      "naver;kakao;sk;samsung\n",
      "naver;kakao;sk;samsung\n"
     ]
    }
   ],
   "source": [
    "print('naver;kakao;sk;samsung')\n",
    "print('naver', 'kakao', 'sk', 'samsung', sep=';')"
   ]
  },
  {
   "cell_type": "code",
   "execution_count": 18,
   "id": "b9013636",
   "metadata": {},
   "outputs": [
    {
     "name": "stdout",
     "output_type": "stream",
     "text": [
      "naver/kakao/sk/samsung\n",
      "naver/kakao/sk/samsung\n"
     ]
    }
   ],
   "source": [
    "print('naver/kakao/sk/samsung')\n",
    "print('naver', 'kakao', 'sk', 'samsung', sep='/')"
   ]
  },
  {
   "cell_type": "markdown",
   "id": "84952dc7",
   "metadata": {},
   "source": [
    "### 9. print 줄바꿈"
   ]
  },
  {
   "cell_type": "code",
   "execution_count": 14,
   "id": "bfeb8817",
   "metadata": {},
   "outputs": [
    {
     "name": "stdout",
     "output_type": "stream",
     "text": [
      "firstsecond\n"
     ]
    }
   ],
   "source": [
    "print(\"first\", end='');print(\"second\")"
   ]
  },
  {
   "cell_type": "markdown",
   "id": "a495f551",
   "metadata": {},
   "source": [
    "### 10. 연산 결과 출력"
   ]
  },
  {
   "cell_type": "code",
   "execution_count": 15,
   "id": "6d9f1be7",
   "metadata": {},
   "outputs": [
    {
     "data": {
      "text/plain": [
       "1.6666666666666667"
      ]
     },
     "execution_count": 15,
     "metadata": {},
     "output_type": "execute_result"
    }
   ],
   "source": [
    "5/3"
   ]
  },
  {
   "cell_type": "code",
   "execution_count": 16,
   "id": "cac14acd",
   "metadata": {},
   "outputs": [
    {
     "name": "stdout",
     "output_type": "stream",
     "text": [
      "1.6666666666666667\n"
     ]
    }
   ],
   "source": [
    "print(5/3)"
   ]
  },
  {
   "cell_type": "code",
   "execution_count": null,
   "id": "a5ca3037",
   "metadata": {},
   "outputs": [],
   "source": []
  }
 ],
 "metadata": {
  "kernelspec": {
   "display_name": "Python 3 (ipykernel)",
   "language": "python",
   "name": "python3"
  },
  "language_info": {
   "codemirror_mode": {
    "name": "ipython",
    "version": 3
   },
   "file_extension": ".py",
   "mimetype": "text/x-python",
   "name": "python",
   "nbconvert_exporter": "python",
   "pygments_lexer": "ipython3",
   "version": "3.11.5"
  }
 },
 "nbformat": 4,
 "nbformat_minor": 5
}
