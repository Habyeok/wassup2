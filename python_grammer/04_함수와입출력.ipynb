{
 "cells": [
  {
   "cell_type": "markdown",
   "id": "dff98eb3",
   "metadata": {},
   "source": [
    "# 함수와 입출력"
   ]
  },
  {
   "cell_type": "markdown",
   "id": "93b02b3a",
   "metadata": {},
   "source": [
    "## 함수"
   ]
  },
  {
   "cell_type": "markdown",
   "id": "134dab2d",
   "metadata": {},
   "source": [
    "### 함수의 구조"
   ]
  },
  {
   "cell_type": "code",
   "execution_count": 6,
   "id": "f6824f01",
   "metadata": {},
   "outputs": [],
   "source": [
    "def add(a, b): # 매개변수\n",
    "    return a + b"
   ]
  },
  {
   "cell_type": "code",
   "execution_count": 7,
   "id": "73fc0354",
   "metadata": {},
   "outputs": [
    {
     "data": {
      "text/plain": [
       "7"
      ]
     },
     "execution_count": 7,
     "metadata": {},
     "output_type": "execute_result"
    }
   ],
   "source": [
    "c = 3\n",
    "d = 4\n",
    "add(c, d) # 인수"
   ]
  },
  {
   "cell_type": "code",
   "execution_count": 5,
   "id": "8ec02abc",
   "metadata": {},
   "outputs": [
    {
     "name": "stdout",
     "output_type": "stream",
     "text": [
      "7\n"
     ]
    }
   ],
   "source": [
    "e = add(c, d)\n",
    "print(e)"
   ]
  },
  {
   "cell_type": "markdown",
   "id": "0d491f23",
   "metadata": {},
   "source": [
    "### 매개변수와 인수"
   ]
  },
  {
   "cell_type": "code",
   "execution_count": 8,
   "id": "dad87657",
   "metadata": {},
   "outputs": [
    {
     "data": {
      "text/plain": [
       "12"
      ]
     },
     "execution_count": 8,
     "metadata": {},
     "output_type": "execute_result"
    }
   ],
   "source": [
    "add(5, 7)"
   ]
  },
  {
   "cell_type": "markdown",
   "id": "946c6fe4",
   "metadata": {},
   "source": [
    "### 입력값과 리턴값에 따른 함수의 형태"
   ]
  },
  {
   "cell_type": "markdown",
   "id": "5cfec533",
   "metadata": {},
   "source": [
    "함수의 형태는 입력값과 리턴값의 존재 유무에 따라 4가지 유형으로 나뉜다."
   ]
  },
  {
   "cell_type": "markdown",
   "id": "0be0ab61",
   "metadata": {},
   "source": [
    "#### 일반적인 함수"
   ]
  },
  {
   "cell_type": "code",
   "execution_count": 9,
   "id": "6141ba03",
   "metadata": {},
   "outputs": [],
   "source": [
    "def add(a, b): \n",
    "    result = a + b \n",
    "    return result"
   ]
  },
  {
   "cell_type": "code",
   "execution_count": 10,
   "id": "d8f07ea5",
   "metadata": {
    "scrolled": true
   },
   "outputs": [
    {
     "name": "stdout",
     "output_type": "stream",
     "text": [
      "7\n"
     ]
    }
   ],
   "source": [
    "a = add(3, 4)\n",
    "print(a)"
   ]
  },
  {
   "cell_type": "markdown",
   "id": "c2b6fd70",
   "metadata": {},
   "source": [
    "#### 입력값이 없는 함수"
   ]
  },
  {
   "cell_type": "code",
   "execution_count": 11,
   "id": "1f948083",
   "metadata": {},
   "outputs": [],
   "source": [
    "def say(): \n",
    "    return 'Hi' "
   ]
  },
  {
   "cell_type": "code",
   "execution_count": 13,
   "id": "1ce11740",
   "metadata": {},
   "outputs": [
    {
     "name": "stdout",
     "output_type": "stream",
     "text": [
      "Hi\n"
     ]
    }
   ],
   "source": [
    "a = say()\n",
    "print(a)"
   ]
  },
  {
   "cell_type": "markdown",
   "id": "84aef3b0",
   "metadata": {},
   "source": [
    "#### 리턴값이 없는 함수"
   ]
  },
  {
   "cell_type": "code",
   "execution_count": 14,
   "id": "e0cd2d32",
   "metadata": {},
   "outputs": [],
   "source": [
    "# 리턴값이 없는 함수\n",
    "def add(a, b): \n",
    "    print(\"%d, %d의 합은 %d입니다.\" % (a, b, a+b))### 입력값이 없는 함수"
   ]
  },
  {
   "cell_type": "code",
   "execution_count": 15,
   "id": "d3e17a2a",
   "metadata": {},
   "outputs": [
    {
     "name": "stdout",
     "output_type": "stream",
     "text": [
      "3, 4의 합은 7입니다.\n"
     ]
    }
   ],
   "source": [
    "add(3, 4)"
   ]
  },
  {
   "cell_type": "markdown",
   "id": "6cce530d",
   "metadata": {},
   "source": [
    "print 문은 함수의 구성 요소 중 하나인 ‘수행할_문장’에 해당하는 부분일 뿐이다. 리턴값은 당연히 없다. 리턴값은 오직 return 명령어로만 돌려받을 수 있다."
   ]
  },
  {
   "cell_type": "code",
   "execution_count": 16,
   "id": "ee757bf1",
   "metadata": {},
   "outputs": [
    {
     "name": "stdout",
     "output_type": "stream",
     "text": [
      "3, 4의 합은 7입니다.\n",
      "None\n"
     ]
    }
   ],
   "source": [
    "a = add(3, 4)\n",
    "print(a) # 리턴값이 없는 함수는 변수 할당을 할 수 없다."
   ]
  },
  {
   "cell_type": "markdown",
   "id": "9defbdcb",
   "metadata": {},
   "source": [
    "return은 값을 돌려 받았기 때문에 할당이 가능하고(글로벌 영역), print문은 함수 안에서 끝났기 때문에 할당할 리턴값이 없다.(로컬 영역)"
   ]
  },
  {
   "cell_type": "markdown",
   "id": "842860dd",
   "metadata": {},
   "source": [
    "#### 입력값도 리턴값도 없는 함수"
   ]
  },
  {
   "cell_type": "code",
   "execution_count": 17,
   "id": "1bc5c389",
   "metadata": {},
   "outputs": [],
   "source": [
    "def say(): \n",
    "    print('Hi') # 입력값은 없지만 실행문이 있다. 글로벌에서 값을 받아와서 실행하는게 아니다."
   ]
  },
  {
   "cell_type": "code",
   "execution_count": 18,
   "id": "b47458be",
   "metadata": {},
   "outputs": [
    {
     "name": "stdout",
     "output_type": "stream",
     "text": [
      "Hi\n"
     ]
    }
   ],
   "source": [
    "say()"
   ]
  },
  {
   "cell_type": "code",
   "execution_count": 19,
   "id": "96a2bfa5",
   "metadata": {},
   "outputs": [
    {
     "name": "stdout",
     "output_type": "stream",
     "text": [
      "Hi\n"
     ]
    }
   ],
   "source": [
    "a = say() # 로컬 영역에서 실행된 게 보이는 거지 글로벌 영역에 할당된 게 아니다."
   ]
  },
  {
   "cell_type": "code",
   "execution_count": 20,
   "id": "40aecfa2",
   "metadata": {},
   "outputs": [],
   "source": [
    "a # Hi가 출력되지 않는다."
   ]
  },
  {
   "cell_type": "markdown",
   "id": "e7f92be9",
   "metadata": {},
   "source": [
    "### 매개변수를 지정하여 호출하기"
   ]
  },
  {
   "cell_type": "code",
   "execution_count": 21,
   "id": "c64d2ff1",
   "metadata": {},
   "outputs": [],
   "source": [
    "def sub(a, b):\n",
    "    return a - b"
   ]
  },
  {
   "cell_type": "code",
   "execution_count": 22,
   "id": "72e74f43",
   "metadata": {},
   "outputs": [
    {
     "name": "stdout",
     "output_type": "stream",
     "text": [
      "4\n"
     ]
    }
   ],
   "source": [
    "result = sub(a=7, b=3)\n",
    "print(result)"
   ]
  },
  {
   "cell_type": "code",
   "execution_count": 23,
   "id": "3a97c6fb",
   "metadata": {},
   "outputs": [
    {
     "name": "stdout",
     "output_type": "stream",
     "text": [
      "-2\n"
     ]
    }
   ],
   "source": [
    "result = sub(b=5, a=3) # 매개변수 지정해서 값을 할당하면 순서를 바꿔도 동작한다.\n",
    "print(result)"
   ]
  },
  {
   "cell_type": "markdown",
   "id": "c4b6e821",
   "metadata": {},
   "source": [
    "### 입력값이 몇 개가 될지 모를 때는 어떻게 해야 할까?"
   ]
  },
  {
   "cell_type": "markdown",
   "id": "6c7a9f58",
   "metadata": {},
   "source": [
    "#### 여러 개의 입력값을 받는 함수 만들기"
   ]
  },
  {
   "cell_type": "code",
   "execution_count": 25,
   "id": "931e7a7c",
   "metadata": {},
   "outputs": [],
   "source": [
    "def add_many(*args): \n",
    "    result = 0 \n",
    "    for i in args: \n",
    "        result = result + i   # *args에 입력받은 모든 값을 더한다.\n",
    "    return result "
   ]
  },
  {
   "cell_type": "code",
   "execution_count": 27,
   "id": "c45a2dde",
   "metadata": {},
   "outputs": [
    {
     "name": "stdout",
     "output_type": "stream",
     "text": [
      "6\n"
     ]
    }
   ],
   "source": [
    "result = add_many(1,2,3)\n",
    "print(result)"
   ]
  },
  {
   "cell_type": "code",
   "execution_count": 28,
   "id": "05135758",
   "metadata": {},
   "outputs": [
    {
     "name": "stdout",
     "output_type": "stream",
     "text": [
      "55\n"
     ]
    }
   ],
   "source": [
    "result = add_many(1,2,3,4,5,6,7,8,9,10)\n",
    "print(result)"
   ]
  },
  {
   "cell_type": "code",
   "execution_count": 29,
   "id": "44521462",
   "metadata": {},
   "outputs": [],
   "source": [
    "def add_mul(choice, *args): \n",
    "     if choice == \"add\":   # 매개변수 choice에 \"add\"를 입력받았을 때\n",
    "         result = 0 \n",
    "         for i in args: \n",
    "             result = result + i \n",
    "     elif choice == \"mul\":   # 매개변수 choice에 \"mul\"을 입력받았을 때\n",
    "         result = 1 \n",
    "         for i in args: \n",
    "             result = result * i \n",
    "     return result "
   ]
  },
  {
   "cell_type": "code",
   "execution_count": 30,
   "id": "432750ca",
   "metadata": {},
   "outputs": [
    {
     "name": "stdout",
     "output_type": "stream",
     "text": [
      "15\n"
     ]
    }
   ],
   "source": [
    "result = add_mul('add', 1,2,3,4,5)\n",
    "print(result)"
   ]
  },
  {
   "cell_type": "code",
   "execution_count": 31,
   "id": "d9438e6e",
   "metadata": {},
   "outputs": [
    {
     "name": "stdout",
     "output_type": "stream",
     "text": [
      "120\n"
     ]
    }
   ],
   "source": [
    "result = add_mul('mul', 1,2,3,4,5)\n",
    "print(result)"
   ]
  },
  {
   "cell_type": "markdown",
   "id": "03165385",
   "metadata": {},
   "source": [
    "### 키워드 매개변수, kwargs"
   ]
  },
  {
   "cell_type": "code",
   "execution_count": 32,
   "id": "5cc5962e",
   "metadata": {},
   "outputs": [],
   "source": [
    "def print_kwargs(**kwargs):\n",
    "     print(kwargs)"
   ]
  },
  {
   "cell_type": "code",
   "execution_count": 33,
   "id": "967d4cd1",
   "metadata": {},
   "outputs": [
    {
     "name": "stdout",
     "output_type": "stream",
     "text": [
      "{'a': 1}\n"
     ]
    }
   ],
   "source": [
    "print_kwargs(a=1)"
   ]
  },
  {
   "cell_type": "code",
   "execution_count": 34,
   "id": "b7eca567",
   "metadata": {},
   "outputs": [
    {
     "name": "stdout",
     "output_type": "stream",
     "text": [
      "{'name': 'foo', 'age': 3}\n"
     ]
    }
   ],
   "source": [
    "print_kwargs(name='foo', age=3)"
   ]
  },
  {
   "cell_type": "markdown",
   "id": "4cea684f",
   "metadata": {},
   "source": [
    "### 함수의 리턴값은 언제나 하나이다"
   ]
  },
  {
   "cell_type": "code",
   "execution_count": 35,
   "id": "3c2691b2",
   "metadata": {},
   "outputs": [],
   "source": [
    "def add_and_mul(a,b): \n",
    "     return a+b, a*b"
   ]
  },
  {
   "cell_type": "code",
   "execution_count": 36,
   "id": "6b05aeb7",
   "metadata": {},
   "outputs": [],
   "source": [
    "result = add_and_mul(3,4)"
   ]
  },
  {
   "cell_type": "markdown",
   "id": "74160f7c",
   "metadata": {},
   "source": [
    "함수의 리턴값은 2개가 아니라 언제나 1개라는 데 있다. add_and_mul 함수의 리턴값 a+b와 a*b는 튜플값 하나인 (a+b, a*b)로 리턴된다."
   ]
  },
  {
   "cell_type": "code",
   "execution_count": 37,
   "id": "2ad06406",
   "metadata": {},
   "outputs": [
    {
     "name": "stdout",
     "output_type": "stream",
     "text": [
      "(7, 12)\n"
     ]
    }
   ],
   "source": [
    "print(result)"
   ]
  },
  {
   "cell_type": "code",
   "execution_count": 39,
   "id": "92b9c81f",
   "metadata": {},
   "outputs": [
    {
     "name": "stdout",
     "output_type": "stream",
     "text": [
      "7 12\n"
     ]
    }
   ],
   "source": [
    "# 값을 분리해서 저장하고 싶을 때\n",
    "result1, result2 = add_and_mul(3, 4)\n",
    "print(result1, result2)"
   ]
  },
  {
   "cell_type": "markdown",
   "id": "aa1d9366",
   "metadata": {},
   "source": [
    "result1, result2 = (7, 12)가 되어 result1은 7, result2는 12가 된다."
   ]
  },
  {
   "cell_type": "code",
   "execution_count": 41,
   "id": "6912e971",
   "metadata": {},
   "outputs": [],
   "source": [
    "def add_and_mul(a,b): \n",
    "     return a+b # 함수는 return 문을 만나는 순간, 리턴값을 돌려 준 다음 함수를 빠져나가게 된다.\n",
    "     return a*b # 실행되지 않는다."
   ]
  },
  {
   "cell_type": "code",
   "execution_count": 42,
   "id": "a093d77c",
   "metadata": {},
   "outputs": [],
   "source": [
    "def say_nick(nick): \n",
    "     if nick == \"바보\": \n",
    "         return \n",
    "     print(\"나의 별명은 %s 입니다.\" % nick)"
   ]
  },
  {
   "cell_type": "code",
   "execution_count": 43,
   "id": "b88461e1",
   "metadata": {},
   "outputs": [
    {
     "name": "stdout",
     "output_type": "stream",
     "text": [
      "나의 별명은 야호 입니다.\n"
     ]
    }
   ],
   "source": [
    "say_nick('야호')"
   ]
  },
  {
   "cell_type": "code",
   "execution_count": 44,
   "id": "e7ca5ed0",
   "metadata": {},
   "outputs": [],
   "source": [
    "say_nick('바보') # 리턴값이 없는 함수에서 return으로 함수를 빠져나간다."
   ]
  },
  {
   "cell_type": "markdown",
   "id": "76281b7d",
   "metadata": {},
   "source": [
    "### 매개변수에 초깃값 미리 설정하기"
   ]
  },
  {
   "cell_type": "code",
   "execution_count": 45,
   "id": "fc314b86",
   "metadata": {},
   "outputs": [],
   "source": [
    "def say_myself(name, age, man=True): # 디폴트값(초깃값) 포함\n",
    "    print(\"나의 이름은 %s 입니다.\" % name) \n",
    "    print(\"나이는 %d살입니다.\" % age) \n",
    "    if man: \n",
    "        print(\"남자입니다.\")\n",
    "    else: \n",
    "        print(\"여자입니다.\")"
   ]
  },
  {
   "cell_type": "code",
   "execution_count": 48,
   "id": "d8deddfb",
   "metadata": {},
   "outputs": [
    {
     "name": "stdout",
     "output_type": "stream",
     "text": [
      "나의 이름은 김다혜 입니다.\n",
      "나이는 25살입니다.\n",
      "남자입니다.\n"
     ]
    }
   ],
   "source": [
    "say_myself(\"김다혜\", 25)"
   ]
  },
  {
   "cell_type": "code",
   "execution_count": 49,
   "id": "995712b8",
   "metadata": {},
   "outputs": [
    {
     "name": "stdout",
     "output_type": "stream",
     "text": [
      "나의 이름은 김다혜 입니다.\n",
      "나이는 25살입니다.\n",
      "여자입니다.\n"
     ]
    }
   ],
   "source": [
    "say_myself(\"김다혜\", 25, False)"
   ]
  },
  {
   "cell_type": "markdown",
   "id": "9e41cd5d",
   "metadata": {},
   "source": [
    "초기화하고 싶은 매개변수는 항상 뒤쪽에 놓아야 한다는 것을 잊지 말자.  \n",
    "(name, man=True, age)는 안된다"
   ]
  },
  {
   "cell_type": "markdown",
   "id": "cd3f670b",
   "metadata": {},
   "source": [
    "### 함수 안에서 선언한 변수의 효력 범위"
   ]
  },
  {
   "cell_type": "code",
   "execution_count": 50,
   "id": "2f6e992f",
   "metadata": {},
   "outputs": [
    {
     "name": "stdout",
     "output_type": "stream",
     "text": [
      "1\n"
     ]
    }
   ],
   "source": [
    "a = 1\n",
    "def vartest(a):\n",
    "    a = a +1 # 로컬에서 만든 값이 글로벌로 가려면 반드시 return을 해줘야 한다.\n",
    "\n",
    "vartest(a)\n",
    "print(a)"
   ]
  },
  {
   "cell_type": "code",
   "execution_count": 51,
   "id": "0f91487a",
   "metadata": {},
   "outputs": [
    {
     "name": "stdout",
     "output_type": "stream",
     "text": [
      "None\n"
     ]
    }
   ],
   "source": [
    "print(vartest(a)) # 로컬 안에서만 할당한 거기 때문에 글로벌에서 출력할 수 없다."
   ]
  },
  {
   "cell_type": "markdown",
   "id": "4abe3771",
   "metadata": {},
   "source": [
    "### 함수 안에서 함수 밖의 변수를 변경하는 방법"
   ]
  },
  {
   "cell_type": "markdown",
   "id": "3cbd3be2",
   "metadata": {},
   "source": [
    "#### return 사용하기"
   ]
  },
  {
   "cell_type": "code",
   "execution_count": 52,
   "id": "99a4e51d",
   "metadata": {},
   "outputs": [
    {
     "name": "stdout",
     "output_type": "stream",
     "text": [
      "2\n"
     ]
    }
   ],
   "source": [
    "a = 1 \n",
    "def vartest(a): \n",
    "    a = a +1 \n",
    "    return a\n",
    "\n",
    "a = vartest(a) \n",
    "print(a)"
   ]
  },
  {
   "cell_type": "markdown",
   "id": "073e13c1",
   "metadata": {},
   "source": [
    "#### global 명령어 사용하기"
   ]
  },
  {
   "cell_type": "code",
   "execution_count": 53,
   "id": "ad63861b",
   "metadata": {},
   "outputs": [
    {
     "name": "stdout",
     "output_type": "stream",
     "text": [
      "2\n"
     ]
    }
   ],
   "source": [
    "a = 1 \n",
    "def vartest(): \n",
    "    global a \n",
    "    a = a+1\n",
    "\n",
    "vartest() \n",
    "print(a)"
   ]
  },
  {
   "cell_type": "markdown",
   "id": "66bd5682",
   "metadata": {},
   "source": [
    "### lambda 예약어"
   ]
  },
  {
   "cell_type": "code",
   "execution_count": 55,
   "id": "b4efec92",
   "metadata": {},
   "outputs": [
    {
     "name": "stdout",
     "output_type": "stream",
     "text": [
      "7\n"
     ]
    }
   ],
   "source": [
    "add = lambda a, b: a+b\n",
    "result = add(3, 4) # lambda로 만든 함수는 return 명령어가 없어도 표현식의 결괏값을 리턴한다.\n",
    "print(result)"
   ]
  },
  {
   "cell_type": "markdown",
   "id": "4e0ddc41",
   "metadata": {},
   "source": [
    "# 사용자 입출력"
   ]
  },
  {
   "cell_type": "code",
   "execution_count": 58,
   "id": "3b0f5ff1",
   "metadata": {},
   "outputs": [
    {
     "name": "stdout",
     "output_type": "stream",
     "text": [
      "Life is too short, you need python\n"
     ]
    },
    {
     "data": {
      "text/plain": [
       "'Life is too short, you need python'"
      ]
     },
     "execution_count": 58,
     "metadata": {},
     "output_type": "execute_result"
    }
   ],
   "source": [
    "# input 사용\n",
    "a = input()\n",
    "a"
   ]
  },
  {
   "cell_type": "code",
   "execution_count": 60,
   "id": "abb23732",
   "metadata": {},
   "outputs": [
    {
     "name": "stdout",
     "output_type": "stream",
     "text": [
      "숫자를 입력하세요: 1\n"
     ]
    }
   ],
   "source": [
    "# 프롬프트 띄우기\n",
    "number = input(\"숫자를 입력하세요: \")"
   ]
  },
  {
   "cell_type": "code",
   "execution_count": 61,
   "id": "730bb833",
   "metadata": {},
   "outputs": [
    {
     "data": {
      "text/plain": [
       "str"
      ]
     },
     "execution_count": 61,
     "metadata": {},
     "output_type": "execute_result"
    }
   ],
   "source": [
    "type(number)"
   ]
  },
  {
   "cell_type": "markdown",
   "id": "85de294e",
   "metadata": {},
   "source": [
    "## print"
   ]
  },
  {
   "cell_type": "code",
   "execution_count": 62,
   "id": "d354ea7d",
   "metadata": {},
   "outputs": [
    {
     "name": "stdout",
     "output_type": "stream",
     "text": [
      "lifeistoo short\n",
      "lifeistoo short\n"
     ]
    }
   ],
   "source": [
    "print(\"life\" \"is\" \"too short\")  # 1번\n",
    "print(\"life\"+\"is\"+\"too short\")  # 2번"
   ]
  },
  {
   "cell_type": "code",
   "execution_count": 63,
   "id": "cb40beb2",
   "metadata": {},
   "outputs": [
    {
     "name": "stdout",
     "output_type": "stream",
     "text": [
      "life is too short\n"
     ]
    }
   ],
   "source": [
    "print(\"life\", \"is\", \"too short\")"
   ]
  },
  {
   "cell_type": "code",
   "execution_count": 64,
   "id": "a2123e4f",
   "metadata": {},
   "outputs": [
    {
     "name": "stdout",
     "output_type": "stream",
     "text": [
      "0 1 2 3 4 5 6 7 8 9 "
     ]
    }
   ],
   "source": [
    "for i in range(10):\n",
    "     print(i, end=' ')"
   ]
  },
  {
   "cell_type": "markdown",
   "id": "21fb6b49",
   "metadata": {},
   "source": [
    "# 파일 읽고 쓰기"
   ]
  },
  {
   "cell_type": "markdown",
   "id": "bb28823f",
   "metadata": {},
   "source": [
    "## 파일 생성하기"
   ]
  },
  {
   "cell_type": "code",
   "execution_count": 66,
   "id": "57ea7824",
   "metadata": {},
   "outputs": [],
   "source": [
    "open?"
   ]
  },
  {
   "cell_type": "code",
   "execution_count": 67,
   "id": "a00eac73",
   "metadata": {},
   "outputs": [
    {
     "data": {
      "text/plain": [
       "<_io.TextIOWrapper name='새파일.txt' mode='w' encoding='cp949'>"
      ]
     },
     "execution_count": 67,
     "metadata": {},
     "output_type": "execute_result"
    }
   ],
   "source": [
    "f = open(\"새파일.txt\", 'w')\n",
    "f # 객체"
   ]
  },
  {
   "cell_type": "code",
   "execution_count": 68,
   "id": "c061c3df",
   "metadata": {},
   "outputs": [],
   "source": [
    "f.close()"
   ]
  },
  {
   "cell_type": "markdown",
   "id": "c0106e9f",
   "metadata": {},
   "source": [
    " close()를 사용해서 열려 있는 파일을 직접 닫아 주는 것이 좋다. 쓰기모드로 열었던 파일을 닫지 않고 다시 사용하려고 하면 오류가 발생하기 때문이다."
   ]
  },
  {
   "cell_type": "markdown",
   "id": "840d5f1d",
   "metadata": {},
   "source": [
    "## 파일을 쓰기 모드로 열어 내용 쓰기"
   ]
  },
  {
   "cell_type": "code",
   "execution_count": 69,
   "id": "8d282b50",
   "metadata": {},
   "outputs": [
    {
     "data": {
      "text/plain": [
       "'C:\\\\workspace\\\\wassup2\\\\wassup2\\\\python_grammer'"
      ]
     },
     "execution_count": 69,
     "metadata": {},
     "output_type": "execute_result"
    }
   ],
   "source": [
    "pwd"
   ]
  },
  {
   "cell_type": "code",
   "execution_count": 70,
   "id": "2d83dcec",
   "metadata": {},
   "outputs": [],
   "source": [
    "f = open(\"C:/workspace/wassup2/wassup2/python_grammer/새파일.txt\", 'w')\n",
    "for i in range(1, 11):\n",
    "    data = \"%d번째 줄입니다.\\n\" % i\n",
    "    f.write(data)\n",
    "f.close()"
   ]
  },
  {
   "cell_type": "markdown",
   "id": "348d9f6f",
   "metadata": {},
   "source": [
    "## 파일을 읽는 여러 가지 방법"
   ]
  },
  {
   "cell_type": "markdown",
   "id": "d1893abe",
   "metadata": {},
   "source": [
    "### readline 함수 이용하기"
   ]
  },
  {
   "cell_type": "code",
   "execution_count": 71,
   "id": "64b2f179",
   "metadata": {},
   "outputs": [
    {
     "name": "stdout",
     "output_type": "stream",
     "text": [
      "1번째 줄입니다.\n",
      "\n"
     ]
    }
   ],
   "source": [
    "f = open(\"새파일.txt\", 'r')\n",
    "line = f.readline()\n",
    "print(line)\n",
    "f.close()"
   ]
  },
  {
   "cell_type": "code",
   "execution_count": 72,
   "id": "c6bc4cec",
   "metadata": {},
   "outputs": [
    {
     "name": "stdout",
     "output_type": "stream",
     "text": [
      "1번째 줄입니다.\n",
      "\n",
      "2번째 줄입니다.\n",
      "\n",
      "3번째 줄입니다.\n",
      "\n",
      "4번째 줄입니다.\n",
      "\n",
      "5번째 줄입니다.\n",
      "\n",
      "6번째 줄입니다.\n",
      "\n",
      "7번째 줄입니다.\n",
      "\n",
      "8번째 줄입니다.\n",
      "\n",
      "9번째 줄입니다.\n",
      "\n",
      "10번째 줄입니다.\n",
      "\n"
     ]
    }
   ],
   "source": [
    "f = open(\"새파일.txt\", 'r')\n",
    "while True:\n",
    "    line = f.readline()\n",
    "    if not line: break\n",
    "    print(line)\n",
    "f.close()"
   ]
  },
  {
   "cell_type": "markdown",
   "id": "ea417411",
   "metadata": {},
   "source": [
    "### readlines 함수 사용하기"
   ]
  },
  {
   "cell_type": "code",
   "execution_count": 76,
   "id": "49cd2f5d",
   "metadata": {},
   "outputs": [
    {
     "name": "stdout",
     "output_type": "stream",
     "text": [
      "['1번째 줄입니다.\\n', '2번째 줄입니다.\\n', '3번째 줄입니다.\\n', '4번째 줄입니다.\\n', '5번째 줄입니다.\\n', '6번째 줄입니다.\\n', '7번째 줄입니다.\\n', '8번째 줄입니다.\\n', '9번째 줄입니다.\\n', '10번째 줄입니다.\\n']\n",
      "--------------------------------------------------\n",
      "1번째 줄입니다.\n",
      "\n",
      "2번째 줄입니다.\n",
      "\n",
      "3번째 줄입니다.\n",
      "\n",
      "4번째 줄입니다.\n",
      "\n",
      "5번째 줄입니다.\n",
      "\n",
      "6번째 줄입니다.\n",
      "\n",
      "7번째 줄입니다.\n",
      "\n",
      "8번째 줄입니다.\n",
      "\n",
      "9번째 줄입니다.\n",
      "\n",
      "10번째 줄입니다.\n",
      "\n"
     ]
    }
   ],
   "source": [
    "f = open(\"새파일.txt\", 'r')\n",
    "lines = f.readlines()\n",
    "print(lines)\n",
    "print('-'*50)\n",
    "for line in lines:\n",
    "    print(line)\n",
    "f.close()"
   ]
  },
  {
   "cell_type": "code",
   "execution_count": 79,
   "id": "29ea5fdf",
   "metadata": {},
   "outputs": [
    {
     "name": "stdout",
     "output_type": "stream",
     "text": [
      "1번째 줄입니다.\n",
      "2번째 줄입니다.\n",
      "3번째 줄입니다.\n",
      "4번째 줄입니다.\n",
      "5번째 줄입니다.\n",
      "6번째 줄입니다.\n",
      "7번째 줄입니다.\n",
      "8번째 줄입니다.\n",
      "9번째 줄입니다.\n",
      "10번째 줄입니다.\n"
     ]
    }
   ],
   "source": [
    "f = open(\"새파일.txt\", 'r')\n",
    "lines = f.readlines()\n",
    "for line in lines:\n",
    "    line = line.strip()  # 줄 끝의 줄 바꿈 문자를 제거한다.\n",
    "    print(line)\n",
    "f.close()"
   ]
  },
  {
   "cell_type": "markdown",
   "id": "5d355b3e",
   "metadata": {},
   "source": [
    "### read 함수 사용하기"
   ]
  },
  {
   "cell_type": "code",
   "execution_count": 81,
   "id": "a28dd9ed",
   "metadata": {},
   "outputs": [
    {
     "name": "stdout",
     "output_type": "stream",
     "text": [
      "1번째 줄입니다.\n",
      "2번째 줄입니다.\n",
      "3번째 줄입니다.\n",
      "4번째 줄입니다.\n",
      "5번째 줄입니다.\n",
      "6번째 줄입니다.\n",
      "7번째 줄입니다.\n",
      "8번째 줄입니다.\n",
      "9번째 줄입니다.\n",
      "10번째 줄입니다.\n",
      "\n",
      "<class 'str'>\n"
     ]
    }
   ],
   "source": [
    "f = open(\"새파일.txt\", 'r')\n",
    "data = f.read()\n",
    "print(data)\n",
    "print(type(data))\n",
    "f.close()"
   ]
  },
  {
   "cell_type": "markdown",
   "id": "7d6f2aa6",
   "metadata": {},
   "source": [
    "## 파일에 새로운 내용 추가하기"
   ]
  },
  {
   "cell_type": "code",
   "execution_count": 82,
   "id": "bd180dec",
   "metadata": {},
   "outputs": [],
   "source": [
    "f = open(\"새파일.txt\",'a')\n",
    "for i in range(11, 20):\n",
    "    data = \"%d번째 줄입니다.\\n\" % i\n",
    "    f.write(data)\n",
    "f.close()"
   ]
  },
  {
   "cell_type": "markdown",
   "id": "ef224684",
   "metadata": {},
   "source": [
    "## with 문과 함께 사용하기"
   ]
  },
  {
   "cell_type": "code",
   "execution_count": 83,
   "id": "515f4446",
   "metadata": {},
   "outputs": [],
   "source": [
    "with open(\"foo.txt\", \"w\") as f:\n",
    "    f.write(\"Life is too short, you need python\")"
   ]
  },
  {
   "cell_type": "code",
   "execution_count": null,
   "id": "f45bcbf5",
   "metadata": {},
   "outputs": [],
   "source": []
  }
 ],
 "metadata": {
  "kernelspec": {
   "display_name": "Python 3 (ipykernel)",
   "language": "python",
   "name": "python3"
  },
  "language_info": {
   "codemirror_mode": {
    "name": "ipython",
    "version": 3
   },
   "file_extension": ".py",
   "mimetype": "text/x-python",
   "name": "python",
   "nbconvert_exporter": "python",
   "pygments_lexer": "ipython3",
   "version": "3.11.5"
  },
  "toc": {
   "base_numbering": 1,
   "nav_menu": {},
   "number_sections": true,
   "sideBar": true,
   "skip_h1_title": false,
   "title_cell": "Table of Contents",
   "title_sidebar": "Contents",
   "toc_cell": false,
   "toc_position": {
    "height": "calc(100% - 180px)",
    "left": "10px",
    "top": "150px",
    "width": "221.225px"
   },
   "toc_section_display": true,
   "toc_window_display": true
  }
 },
 "nbformat": 4,
 "nbformat_minor": 5
}
