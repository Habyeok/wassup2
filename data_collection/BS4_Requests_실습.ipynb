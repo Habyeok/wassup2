{
 "cells": [
  {
   "cell_type": "markdown",
   "id": "f7f3b2e0",
   "metadata": {},
   "source": [
    "# Requests 라이브러리 실습"
   ]
  },
  {
   "cell_type": "markdown",
   "id": "169fcd93",
   "metadata": {},
   "source": [
    "## 네이버 스포츠 배구 뉴스 제목과 URL 가져오기"
   ]
  },
  {
   "cell_type": "markdown",
   "id": "963db8c2",
   "metadata": {},
   "source": [
    "https://sports.naver.com/volleyball/index"
   ]
  },
  {
   "cell_type": "code",
   "execution_count": null,
   "id": "681084d0",
   "metadata": {},
   "outputs": [],
   "source": [
    "pip install requests"
   ]
  },
  {
   "cell_type": "code",
   "execution_count": 3,
   "id": "a0400e6c",
   "metadata": {},
   "outputs": [],
   "source": [
    "import requests\n",
    "from bs4 import BeautifulSoup"
   ]
  },
  {
   "cell_type": "code",
   "execution_count": 4,
   "id": "714bb16e",
   "metadata": {},
   "outputs": [],
   "source": [
    "PATH = 'https://sports.naver.com/volleyball/index'\n",
    "resp = requests.get(PATH)"
   ]
  },
  {
   "cell_type": "code",
   "execution_count": 5,
   "id": "62c2edc9",
   "metadata": {},
   "outputs": [],
   "source": [
    "requests.get?"
   ]
  },
  {
   "cell_type": "code",
   "execution_count": 6,
   "id": "fee56b8d",
   "metadata": {},
   "outputs": [
    {
     "data": {
      "text/plain": [
       "<Response [200]>"
      ]
     },
     "execution_count": 6,
     "metadata": {},
     "output_type": "execute_result"
    }
   ],
   "source": [
    "# requests 응답 정보 객체\n",
    "resp"
   ]
  },
  {
   "cell_type": "code",
   "execution_count": 4,
   "id": "ee777c47",
   "metadata": {},
   "outputs": [],
   "source": [
    "resp?"
   ]
  },
  {
   "cell_type": "code",
   "execution_count": null,
   "id": "847669b4",
   "metadata": {},
   "outputs": [],
   "source": [
    "resp.text"
   ]
  },
  {
   "cell_type": "code",
   "execution_count": null,
   "id": "1b43454c",
   "metadata": {},
   "outputs": [],
   "source": [
    "print(resp.text)"
   ]
  },
  {
   "cell_type": "code",
   "execution_count": 9,
   "id": "f0ac4a08",
   "metadata": {},
   "outputs": [],
   "source": [
    "src = resp.text"
   ]
  },
  {
   "cell_type": "code",
   "execution_count": 10,
   "id": "09633618",
   "metadata": {},
   "outputs": [],
   "source": [
    "soup = BeautifulSoup(src, 'lxml')"
   ]
  },
  {
   "cell_type": "code",
   "execution_count": null,
   "id": "d210cb33",
   "metadata": {},
   "outputs": [],
   "source": [
    "print(soup)"
   ]
  },
  {
   "cell_type": "code",
   "execution_count": 12,
   "id": "46c6d9c2",
   "metadata": {},
   "outputs": [],
   "source": [
    "# 뉴스 목록 찾기\n",
    "srclist = soup.select('.home_news_list a')"
   ]
  },
  {
   "cell_type": "code",
   "execution_count": null,
   "id": "d375cdc5",
   "metadata": {},
   "outputs": [],
   "source": [
    "srclist"
   ]
  },
  {
   "cell_type": "code",
   "execution_count": 14,
   "id": "e80ab9be",
   "metadata": {},
   "outputs": [
    {
     "name": "stdout",
     "output_type": "stream",
     "text": [
      "<class 'bs4.element.ResultSet'>\n"
     ]
    }
   ],
   "source": [
    "print(type(srclist))"
   ]
  },
  {
   "cell_type": "code",
   "execution_count": null,
   "id": "bb8deb89",
   "metadata": {},
   "outputs": [],
   "source": [
    "print(len(srclist))\n",
    "print(srclist)"
   ]
  },
  {
   "cell_type": "code",
   "execution_count": 16,
   "id": "73c22a44",
   "metadata": {},
   "outputs": [],
   "source": [
    "sample = srclist[0]"
   ]
  },
  {
   "cell_type": "code",
   "execution_count": 35,
   "id": "8d9d0c31",
   "metadata": {},
   "outputs": [],
   "source": [
    "sample?"
   ]
  },
  {
   "cell_type": "code",
   "execution_count": 17,
   "id": "35c74048",
   "metadata": {},
   "outputs": [
    {
     "name": "stdout",
     "output_type": "stream",
     "text": [
      "<a data-clickcode=\"mnl.txt\" data-gdid=\"88156f78_000000000000000001039569\" data-model-version=\"sports_v1.2:control\" data-session-id=\"HhPUhX6ivvCHoHNG\" href=\"/news?oid=468&amp;aid=0001039569\" target=\"\" title=\"4시즌 연속 준PO 성사?…현대캐피탈, 승점 2만 따도 ‘봄무대’ 밟는다\">\n",
      "<span>\n",
      "\t\t\t\t\t\t\t\n",
      "\t\t\t\t\t\t\t4시즌 연속 준PO 성사?…현대캐피탈, 승점 2만 따도 ‘봄무대’ 밟는다\n",
      "\t\t\t\t\t\t</span>\n",
      "</a>\n"
     ]
    }
   ],
   "source": [
    "print(sample)"
   ]
  },
  {
   "cell_type": "code",
   "execution_count": 19,
   "id": "32e2c087",
   "metadata": {},
   "outputs": [
    {
     "data": {
      "text/plain": [
       "'4시즌 연속 준PO 성사?…현대캐피탈, 승점 2만 따도 ‘봄무대’ 밟는다'"
      ]
     },
     "execution_count": 19,
     "metadata": {},
     "output_type": "execute_result"
    }
   ],
   "source": [
    "sample.text.strip()"
   ]
  },
  {
   "cell_type": "code",
   "execution_count": 20,
   "id": "62b572f3",
   "metadata": {},
   "outputs": [
    {
     "data": {
      "text/plain": [
       "'4시즌 연속 준PO 성사?…현대캐피탈, 승점 2만 따도 ‘봄무대’ 밟는다'"
      ]
     },
     "execution_count": 20,
     "metadata": {},
     "output_type": "execute_result"
    }
   ],
   "source": [
    "sample['title']"
   ]
  },
  {
   "cell_type": "code",
   "execution_count": 21,
   "id": "a3243a3e",
   "metadata": {},
   "outputs": [
    {
     "data": {
      "text/plain": [
       "'/news?oid=468&aid=0001039569'"
      ]
     },
     "execution_count": 21,
     "metadata": {},
     "output_type": "execute_result"
    }
   ],
   "source": [
    "sample['href']"
   ]
  },
  {
   "cell_type": "markdown",
   "id": "bb86e746",
   "metadata": {},
   "source": [
    "### 상대 URL을 절대 URL로 변환하기"
   ]
  },
  {
   "cell_type": "code",
   "execution_count": 22,
   "id": "cfa012cc",
   "metadata": {},
   "outputs": [],
   "source": [
    "href = sample['href']"
   ]
  },
  {
   "cell_type": "code",
   "execution_count": 23,
   "id": "ac924453",
   "metadata": {},
   "outputs": [
    {
     "data": {
      "text/plain": [
       "'https://sports.naver.com/volleyball/index/news?oid=468&aid=0001039569'"
      ]
     },
     "execution_count": 23,
     "metadata": {},
     "output_type": "execute_result"
    }
   ],
   "source": [
    "PATH + href"
   ]
  },
  {
   "cell_type": "code",
   "execution_count": 24,
   "id": "3e6561c0",
   "metadata": {},
   "outputs": [],
   "source": [
    "from urllib.parse import urljoin"
   ]
  },
  {
   "cell_type": "code",
   "execution_count": 25,
   "id": "24abeb23",
   "metadata": {},
   "outputs": [
    {
     "data": {
      "text/plain": [
       "'https://sports.naver.com/news?oid=468&aid=0001039569'"
      ]
     },
     "execution_count": 25,
     "metadata": {},
     "output_type": "execute_result"
    }
   ],
   "source": [
    "urljoin(PATH, href)"
   ]
  },
  {
   "cell_type": "code",
   "execution_count": 26,
   "id": "7bca41f4",
   "metadata": {},
   "outputs": [
    {
     "name": "stdout",
     "output_type": "stream",
     "text": [
      "4시즌 연속 준PO 성사?…현대캐피탈, 승점 2만 따도 ‘봄무대’ 밟는다 https://sports.naver.com/news?oid=468&aid=0001039569\n",
      "29일 챔피언결정전 직행 팀은 ‘1위 탈환’ 대한항공? 우리카드 운명의 16일 결과에 희비 갈린다 https://sports.naver.com/news?oid=109&aid=0005035525\n",
      "‘부담스러운 광주 원정길’ 현대건설, 그럼에도 ‘우승 키’는 우리에게! https://sports.naver.com/news?oid=382&aid=0001112735\n",
      "4승 13패→감독 경질→13승 5패 ‘대반전’…위기의 현대캐피탈 구한 안젤코 통역 출신 소방수, 기적의 봄배구도 가능할까 https://sports.naver.com/news?oid=410&aid=0000985532\n",
      "대한항공은 ‘최선’을 만들었다… ‘통합 4연패’ 운명은 16일 우리카드 손으로 https://sports.naver.com/news?oid=396&aid=0000670413\n",
      "‘메가 파워’ 16,000석 대형 인도네시아 아레나에서 경기라니…정관장, 4월 인도네시아 올스타와 붙는다 https://sports.naver.com/news?oid=410&aid=0000985526\n",
      "‘발등 통증’ 임동혁의 부상 투혼...기회 잡은 ‘빅보이’는 2024년 봄배구를 기다린다 https://sports.naver.com/news?oid=530&aid=0000009843\n",
      "꼴찌의 막판 매운맛…현대건설 떨고 있니? https://sports.naver.com/news?oid=144&aid=0000949314\n",
      "“그 경기는 못 본다” 우리카드 최종전 차마 못 보겠다는 토미 감독[현장인터뷰] https://sports.naver.com/news?oid=468&aid=0001039552\n",
      "'역전 우승 포기는 없다' 대한항공, 최종전서 KB손보 완파 '1위 탈환' [IS 의정부] https://sports.naver.com/news?oid=241&aid=0003335971\n",
      "\"우리카드전 틀어 놓고 안 봤다\" 조마조마했던 대한항공, \"희망은 남아있다\" [IS 의정부] https://sports.naver.com/news?oid=241&aid=0003335854\n",
      "초반 1위 돌풍까지 일으켰는데…침통한 김상우 감독, 왜 말을 잃었나 https://sports.naver.com/news?oid=076&aid=0004120945\n",
      "'바쁘다 바빠 승리한 배구황제' 김연경하고 불렀다 [mhn숏폼] https://sports.naver.com/news?oid=445&aid=0000178007\n",
      "‘정규리그 1위 행방의 열쇠’ 쥔 야스민 “현대건설을 사랑하고 응원하지만…” https://sports.naver.com/news?oid=530&aid=0000009842\n",
      "흥국생명·정관장 연파한 ‘꼴찌’ 페퍼저축은행…현대건설 상대로도 ‘매운맛’ 보여줄까 https://sports.naver.com/news?oid=144&aid=0000949171\n",
      "페퍼저축은행, '주전 수납' 정관장 상대로 창단 첫 연승+17연패 탈출! https://sports.naver.com/news?oid=445&aid=0000177977\n",
      "임성진 '폭발' 한국전력, 마지막 홈경기서 유종의 미 https://sports.naver.com/news?oid=047&aid=0002425721\n",
      "왼쪽 날개 꺾인 현대건설, 암운 드리운 포스트시즌 https://sports.naver.com/news?oid=241&aid=0003335574\n",
      "페퍼전 ‘충격패’ 털고, 벼랑 끝 ‘기회 살린’ 흥국생명, 1위 싸움 끝까지 간다 [SS현장] https://sports.naver.com/news?oid=468&aid=0001039135\n",
      "화내라고요? '수원 왕자' 임성진의 반박 \"저까지 성질내면 큰일나요\"[인터뷰] https://sports.naver.com/news?oid=076&aid=0004120615\n",
      "내려갈 팀은 내려간다…DTD 기록 새로 쓴 삼성화재 [발리볼 비키니] https://sports.naver.com/news?oid=020&aid=0003553182\n",
      "'역대급' 우승 경쟁… 정규리그 1위 '시즌 최종전' 결정 https://sports.naver.com/news?oid=417&aid=0000988621\n",
      "‘창단 첫 2연승’ 페퍼저축은행, 현대건설 발목 잡나 https://sports.naver.com/news?oid=119&aid=0002809087\n",
      "'야스민+박정아 48득점' 페퍼저축은행 창단 3년만에 첫 2연승! '선택과 집중' 임한 정관장 8연승 저지 https://sports.naver.com/news?oid=076&aid=0004120564\n",
      "'아직 안 끝났어!' 김연경 \"최대한 높은 곳까지\" https://sports.naver.com/news?oid=214&aid=0001336215\n",
      "\"V리그 출범 이후 처음\"…프로배구 1위 싸움 대혼전 https://sports.naver.com/news?oid=422&aid=0000649576\n",
      "은퇴 질문에 \"노코멘트\"...김현수의 직언은 김연경에게 어떤 영향을 미쳤을까 https://sports.naver.com/news?oid=241&aid=0003335487\n",
      "끝날 때까지 끝 아냐…‘진짜 마지막 찬스’ 대한항공, 새 역사가 이뤄지나? https://sports.naver.com/news?oid=382&aid=0001112290\n",
      "최민호 '물세례 도주, 준비한 선수가 오히려 물벼락을' https://sports.naver.com/news?oid=117&aid=0003812346\n",
      "모마 기세 꺾고 듀스 만든 김수지, 흥국 우승 불씨 살린 '언성 히어로' https://sports.naver.com/news?oid=241&aid=0003335318\n"
     ]
    }
   ],
   "source": [
    "news_title = []\n",
    "news_url = []\n",
    "\n",
    "for i in srclist:\n",
    "    title = i['title']\n",
    "    url = urljoin(PATH, i['href'])\n",
    "    print(title, url)\n",
    "    news_title.append(title)\n",
    "    news_url.append(url)"
   ]
  },
  {
   "cell_type": "code",
   "execution_count": 27,
   "id": "f4fd491f",
   "metadata": {},
   "outputs": [
    {
     "data": {
      "text/plain": [
       "['4시즌 연속 준PO 성사?…현대캐피탈, 승점 2만 따도 ‘봄무대’ 밟는다',\n",
       " '29일 챔피언결정전 직행 팀은 ‘1위 탈환’ 대한항공? 우리카드 운명의 16일 결과에 희비 갈린다',\n",
       " '‘부담스러운 광주 원정길’ 현대건설, 그럼에도 ‘우승 키’는 우리에게!',\n",
       " '4승 13패→감독 경질→13승 5패 ‘대반전’…위기의 현대캐피탈 구한 안젤코 통역 출신 소방수, 기적의 봄배구도 가능할까',\n",
       " '대한항공은 ‘최선’을 만들었다… ‘통합 4연패’ 운명은 16일 우리카드 손으로',\n",
       " '‘메가 파워’ 16,000석 대형 인도네시아 아레나에서 경기라니…정관장, 4월 인도네시아 올스타와 붙는다',\n",
       " '‘발등 통증’ 임동혁의 부상 투혼...기회 잡은 ‘빅보이’는 2024년 봄배구를 기다린다',\n",
       " '꼴찌의 막판 매운맛…현대건설 떨고 있니?',\n",
       " '“그 경기는 못 본다” 우리카드 최종전 차마 못 보겠다는 토미 감독[현장인터뷰]',\n",
       " \"'역전 우승 포기는 없다' 대한항공, 최종전서 KB손보 완파 '1위 탈환' [IS 의정부]\",\n",
       " '\"우리카드전 틀어 놓고 안 봤다\" 조마조마했던 대한항공, \"희망은 남아있다\" [IS 의정부]',\n",
       " '초반 1위 돌풍까지 일으켰는데…침통한 김상우 감독, 왜 말을 잃었나',\n",
       " \"'바쁘다 바빠 승리한 배구황제' 김연경하고 불렀다 [mhn숏폼]\",\n",
       " '‘정규리그 1위 행방의 열쇠’ 쥔 야스민 “현대건설을 사랑하고 응원하지만…”',\n",
       " '흥국생명·정관장 연파한 ‘꼴찌’ 페퍼저축은행…현대건설 상대로도 ‘매운맛’ 보여줄까',\n",
       " \"페퍼저축은행, '주전 수납' 정관장 상대로 창단 첫 연승+17연패 탈출!\",\n",
       " \"임성진 '폭발' 한국전력, 마지막 홈경기서 유종의 미\",\n",
       " '왼쪽 날개 꺾인 현대건설, 암운 드리운 포스트시즌',\n",
       " '페퍼전 ‘충격패’ 털고, 벼랑 끝 ‘기회 살린’ 흥국생명, 1위 싸움 끝까지 간다 [SS현장]',\n",
       " '화내라고요? \\'수원 왕자\\' 임성진의 반박 \"저까지 성질내면 큰일나요\"[인터뷰]',\n",
       " '내려갈 팀은 내려간다…DTD 기록 새로 쓴 삼성화재 [발리볼 비키니]',\n",
       " \"'역대급' 우승 경쟁… 정규리그 1위 '시즌 최종전' 결정\",\n",
       " '‘창단 첫 2연승’ 페퍼저축은행, 현대건설 발목 잡나',\n",
       " \"'야스민+박정아 48득점' 페퍼저축은행 창단 3년만에 첫 2연승! '선택과 집중' 임한 정관장 8연승 저지\",\n",
       " '\\'아직 안 끝났어!\\' 김연경 \"최대한 높은 곳까지\"',\n",
       " '\"V리그 출범 이후 처음\"…프로배구 1위 싸움 대혼전',\n",
       " '은퇴 질문에 \"노코멘트\"...김현수의 직언은 김연경에게 어떤 영향을 미쳤을까',\n",
       " '끝날 때까지 끝 아냐…‘진짜 마지막 찬스’ 대한항공, 새 역사가 이뤄지나?',\n",
       " \"최민호 '물세례 도주, 준비한 선수가 오히려 물벼락을'\",\n",
       " \"모마 기세 꺾고 듀스 만든 김수지, 흥국 우승 불씨 살린 '언성 히어로'\"]"
      ]
     },
     "execution_count": 27,
     "metadata": {},
     "output_type": "execute_result"
    }
   ],
   "source": [
    "news_title"
   ]
  },
  {
   "cell_type": "code",
   "execution_count": 28,
   "id": "015869a8",
   "metadata": {},
   "outputs": [
    {
     "data": {
      "text/plain": [
       "['https://sports.naver.com/news?oid=468&aid=0001039569',\n",
       " 'https://sports.naver.com/news?oid=109&aid=0005035525',\n",
       " 'https://sports.naver.com/news?oid=382&aid=0001112735',\n",
       " 'https://sports.naver.com/news?oid=410&aid=0000985532',\n",
       " 'https://sports.naver.com/news?oid=396&aid=0000670413',\n",
       " 'https://sports.naver.com/news?oid=410&aid=0000985526',\n",
       " 'https://sports.naver.com/news?oid=530&aid=0000009843',\n",
       " 'https://sports.naver.com/news?oid=144&aid=0000949314',\n",
       " 'https://sports.naver.com/news?oid=468&aid=0001039552',\n",
       " 'https://sports.naver.com/news?oid=241&aid=0003335971',\n",
       " 'https://sports.naver.com/news?oid=241&aid=0003335854',\n",
       " 'https://sports.naver.com/news?oid=076&aid=0004120945',\n",
       " 'https://sports.naver.com/news?oid=445&aid=0000178007',\n",
       " 'https://sports.naver.com/news?oid=530&aid=0000009842',\n",
       " 'https://sports.naver.com/news?oid=144&aid=0000949171',\n",
       " 'https://sports.naver.com/news?oid=445&aid=0000177977',\n",
       " 'https://sports.naver.com/news?oid=047&aid=0002425721',\n",
       " 'https://sports.naver.com/news?oid=241&aid=0003335574',\n",
       " 'https://sports.naver.com/news?oid=468&aid=0001039135',\n",
       " 'https://sports.naver.com/news?oid=076&aid=0004120615',\n",
       " 'https://sports.naver.com/news?oid=020&aid=0003553182',\n",
       " 'https://sports.naver.com/news?oid=417&aid=0000988621',\n",
       " 'https://sports.naver.com/news?oid=119&aid=0002809087',\n",
       " 'https://sports.naver.com/news?oid=076&aid=0004120564',\n",
       " 'https://sports.naver.com/news?oid=214&aid=0001336215',\n",
       " 'https://sports.naver.com/news?oid=422&aid=0000649576',\n",
       " 'https://sports.naver.com/news?oid=241&aid=0003335487',\n",
       " 'https://sports.naver.com/news?oid=382&aid=0001112290',\n",
       " 'https://sports.naver.com/news?oid=117&aid=0003812346',\n",
       " 'https://sports.naver.com/news?oid=241&aid=0003335318']"
      ]
     },
     "execution_count": 28,
     "metadata": {},
     "output_type": "execute_result"
    }
   ],
   "source": [
    "news_url"
   ]
  },
  {
   "cell_type": "code",
   "execution_count": 29,
   "id": "3228377e",
   "metadata": {},
   "outputs": [
    {
     "data": {
      "text/plain": [
       "30"
      ]
     },
     "execution_count": 29,
     "metadata": {},
     "output_type": "execute_result"
    }
   ],
   "source": [
    "len(news_title)"
   ]
  },
  {
   "cell_type": "markdown",
   "id": "b5114704",
   "metadata": {},
   "source": [
    "### 데이터 프레임 변환"
   ]
  },
  {
   "cell_type": "code",
   "execution_count": 30,
   "id": "600df053",
   "metadata": {},
   "outputs": [],
   "source": [
    "import pandas as pd"
   ]
  },
  {
   "cell_type": "code",
   "execution_count": 31,
   "id": "5415e401",
   "metadata": {},
   "outputs": [],
   "source": [
    "df = pd.DataFrame({'제목':news_title, 'URL':news_url})"
   ]
  },
  {
   "cell_type": "code",
   "execution_count": 32,
   "id": "97213314",
   "metadata": {},
   "outputs": [
    {
     "data": {
      "text/html": [
       "<div>\n",
       "<style scoped>\n",
       "    .dataframe tbody tr th:only-of-type {\n",
       "        vertical-align: middle;\n",
       "    }\n",
       "\n",
       "    .dataframe tbody tr th {\n",
       "        vertical-align: top;\n",
       "    }\n",
       "\n",
       "    .dataframe thead th {\n",
       "        text-align: right;\n",
       "    }\n",
       "</style>\n",
       "<table border=\"1\" class=\"dataframe\">\n",
       "  <thead>\n",
       "    <tr style=\"text-align: right;\">\n",
       "      <th></th>\n",
       "      <th>제목</th>\n",
       "      <th>URL</th>\n",
       "    </tr>\n",
       "  </thead>\n",
       "  <tbody>\n",
       "    <tr>\n",
       "      <th>0</th>\n",
       "      <td>4시즌 연속 준PO 성사?…현대캐피탈, 승점 2만 따도 ‘봄무대’ 밟는다</td>\n",
       "      <td>https://sports.naver.com/news?oid=468&amp;aid=0001...</td>\n",
       "    </tr>\n",
       "    <tr>\n",
       "      <th>1</th>\n",
       "      <td>29일 챔피언결정전 직행 팀은 ‘1위 탈환’ 대한항공? 우리카드 운명의 16일 결과...</td>\n",
       "      <td>https://sports.naver.com/news?oid=109&amp;aid=0005...</td>\n",
       "    </tr>\n",
       "    <tr>\n",
       "      <th>2</th>\n",
       "      <td>‘부담스러운 광주 원정길’ 현대건설, 그럼에도 ‘우승 키’는 우리에게!</td>\n",
       "      <td>https://sports.naver.com/news?oid=382&amp;aid=0001...</td>\n",
       "    </tr>\n",
       "    <tr>\n",
       "      <th>3</th>\n",
       "      <td>4승 13패→감독 경질→13승 5패 ‘대반전’…위기의 현대캐피탈 구한 안젤코 통역 ...</td>\n",
       "      <td>https://sports.naver.com/news?oid=410&amp;aid=0000...</td>\n",
       "    </tr>\n",
       "    <tr>\n",
       "      <th>4</th>\n",
       "      <td>대한항공은 ‘최선’을 만들었다… ‘통합 4연패’ 운명은 16일 우리카드 손으로</td>\n",
       "      <td>https://sports.naver.com/news?oid=396&amp;aid=0000...</td>\n",
       "    </tr>\n",
       "    <tr>\n",
       "      <th>5</th>\n",
       "      <td>‘메가 파워’ 16,000석 대형 인도네시아 아레나에서 경기라니…정관장, 4월 인도...</td>\n",
       "      <td>https://sports.naver.com/news?oid=410&amp;aid=0000...</td>\n",
       "    </tr>\n",
       "    <tr>\n",
       "      <th>6</th>\n",
       "      <td>‘발등 통증’ 임동혁의 부상 투혼...기회 잡은 ‘빅보이’는 2024년 봄배구를 기다린다</td>\n",
       "      <td>https://sports.naver.com/news?oid=530&amp;aid=0000...</td>\n",
       "    </tr>\n",
       "    <tr>\n",
       "      <th>7</th>\n",
       "      <td>꼴찌의 막판 매운맛…현대건설 떨고 있니?</td>\n",
       "      <td>https://sports.naver.com/news?oid=144&amp;aid=0000...</td>\n",
       "    </tr>\n",
       "    <tr>\n",
       "      <th>8</th>\n",
       "      <td>“그 경기는 못 본다” 우리카드 최종전 차마 못 보겠다는 토미 감독[현장인터뷰]</td>\n",
       "      <td>https://sports.naver.com/news?oid=468&amp;aid=0001...</td>\n",
       "    </tr>\n",
       "    <tr>\n",
       "      <th>9</th>\n",
       "      <td>'역전 우승 포기는 없다' 대한항공, 최종전서 KB손보 완파 '1위 탈환' [IS ...</td>\n",
       "      <td>https://sports.naver.com/news?oid=241&amp;aid=0003...</td>\n",
       "    </tr>\n",
       "    <tr>\n",
       "      <th>10</th>\n",
       "      <td>\"우리카드전 틀어 놓고 안 봤다\" 조마조마했던 대한항공, \"희망은 남아있다\" [IS...</td>\n",
       "      <td>https://sports.naver.com/news?oid=241&amp;aid=0003...</td>\n",
       "    </tr>\n",
       "    <tr>\n",
       "      <th>11</th>\n",
       "      <td>초반 1위 돌풍까지 일으켰는데…침통한 김상우 감독, 왜 말을 잃었나</td>\n",
       "      <td>https://sports.naver.com/news?oid=076&amp;aid=0004...</td>\n",
       "    </tr>\n",
       "    <tr>\n",
       "      <th>12</th>\n",
       "      <td>'바쁘다 바빠 승리한 배구황제' 김연경하고 불렀다 [mhn숏폼]</td>\n",
       "      <td>https://sports.naver.com/news?oid=445&amp;aid=0000...</td>\n",
       "    </tr>\n",
       "    <tr>\n",
       "      <th>13</th>\n",
       "      <td>‘정규리그 1위 행방의 열쇠’ 쥔 야스민 “현대건설을 사랑하고 응원하지만…”</td>\n",
       "      <td>https://sports.naver.com/news?oid=530&amp;aid=0000...</td>\n",
       "    </tr>\n",
       "    <tr>\n",
       "      <th>14</th>\n",
       "      <td>흥국생명·정관장 연파한 ‘꼴찌’ 페퍼저축은행…현대건설 상대로도 ‘매운맛’ 보여줄까</td>\n",
       "      <td>https://sports.naver.com/news?oid=144&amp;aid=0000...</td>\n",
       "    </tr>\n",
       "    <tr>\n",
       "      <th>15</th>\n",
       "      <td>페퍼저축은행, '주전 수납' 정관장 상대로 창단 첫 연승+17연패 탈출!</td>\n",
       "      <td>https://sports.naver.com/news?oid=445&amp;aid=0000...</td>\n",
       "    </tr>\n",
       "    <tr>\n",
       "      <th>16</th>\n",
       "      <td>임성진 '폭발' 한국전력, 마지막 홈경기서 유종의 미</td>\n",
       "      <td>https://sports.naver.com/news?oid=047&amp;aid=0002...</td>\n",
       "    </tr>\n",
       "    <tr>\n",
       "      <th>17</th>\n",
       "      <td>왼쪽 날개 꺾인 현대건설, 암운 드리운 포스트시즌</td>\n",
       "      <td>https://sports.naver.com/news?oid=241&amp;aid=0003...</td>\n",
       "    </tr>\n",
       "    <tr>\n",
       "      <th>18</th>\n",
       "      <td>페퍼전 ‘충격패’ 털고, 벼랑 끝 ‘기회 살린’ 흥국생명, 1위 싸움 끝까지 간다 ...</td>\n",
       "      <td>https://sports.naver.com/news?oid=468&amp;aid=0001...</td>\n",
       "    </tr>\n",
       "    <tr>\n",
       "      <th>19</th>\n",
       "      <td>화내라고요? '수원 왕자' 임성진의 반박 \"저까지 성질내면 큰일나요\"[인터뷰]</td>\n",
       "      <td>https://sports.naver.com/news?oid=076&amp;aid=0004...</td>\n",
       "    </tr>\n",
       "    <tr>\n",
       "      <th>20</th>\n",
       "      <td>내려갈 팀은 내려간다…DTD 기록 새로 쓴 삼성화재 [발리볼 비키니]</td>\n",
       "      <td>https://sports.naver.com/news?oid=020&amp;aid=0003...</td>\n",
       "    </tr>\n",
       "    <tr>\n",
       "      <th>21</th>\n",
       "      <td>'역대급' 우승 경쟁… 정규리그 1위 '시즌 최종전' 결정</td>\n",
       "      <td>https://sports.naver.com/news?oid=417&amp;aid=0000...</td>\n",
       "    </tr>\n",
       "    <tr>\n",
       "      <th>22</th>\n",
       "      <td>‘창단 첫 2연승’ 페퍼저축은행, 현대건설 발목 잡나</td>\n",
       "      <td>https://sports.naver.com/news?oid=119&amp;aid=0002...</td>\n",
       "    </tr>\n",
       "    <tr>\n",
       "      <th>23</th>\n",
       "      <td>'야스민+박정아 48득점' 페퍼저축은행 창단 3년만에 첫 2연승! '선택과 집중' ...</td>\n",
       "      <td>https://sports.naver.com/news?oid=076&amp;aid=0004...</td>\n",
       "    </tr>\n",
       "    <tr>\n",
       "      <th>24</th>\n",
       "      <td>'아직 안 끝났어!' 김연경 \"최대한 높은 곳까지\"</td>\n",
       "      <td>https://sports.naver.com/news?oid=214&amp;aid=0001...</td>\n",
       "    </tr>\n",
       "    <tr>\n",
       "      <th>25</th>\n",
       "      <td>\"V리그 출범 이후 처음\"…프로배구 1위 싸움 대혼전</td>\n",
       "      <td>https://sports.naver.com/news?oid=422&amp;aid=0000...</td>\n",
       "    </tr>\n",
       "    <tr>\n",
       "      <th>26</th>\n",
       "      <td>은퇴 질문에 \"노코멘트\"...김현수의 직언은 김연경에게 어떤 영향을 미쳤을까</td>\n",
       "      <td>https://sports.naver.com/news?oid=241&amp;aid=0003...</td>\n",
       "    </tr>\n",
       "    <tr>\n",
       "      <th>27</th>\n",
       "      <td>끝날 때까지 끝 아냐…‘진짜 마지막 찬스’ 대한항공, 새 역사가 이뤄지나?</td>\n",
       "      <td>https://sports.naver.com/news?oid=382&amp;aid=0001...</td>\n",
       "    </tr>\n",
       "    <tr>\n",
       "      <th>28</th>\n",
       "      <td>최민호 '물세례 도주, 준비한 선수가 오히려 물벼락을'</td>\n",
       "      <td>https://sports.naver.com/news?oid=117&amp;aid=0003...</td>\n",
       "    </tr>\n",
       "    <tr>\n",
       "      <th>29</th>\n",
       "      <td>모마 기세 꺾고 듀스 만든 김수지, 흥국 우승 불씨 살린 '언성 히어로'</td>\n",
       "      <td>https://sports.naver.com/news?oid=241&amp;aid=0003...</td>\n",
       "    </tr>\n",
       "  </tbody>\n",
       "</table>\n",
       "</div>"
      ],
      "text/plain": [
       "                                                   제목  \\\n",
       "0            4시즌 연속 준PO 성사?…현대캐피탈, 승점 2만 따도 ‘봄무대’ 밟는다   \n",
       "1   29일 챔피언결정전 직행 팀은 ‘1위 탈환’ 대한항공? 우리카드 운명의 16일 결과...   \n",
       "2             ‘부담스러운 광주 원정길’ 현대건설, 그럼에도 ‘우승 키’는 우리에게!   \n",
       "3   4승 13패→감독 경질→13승 5패 ‘대반전’…위기의 현대캐피탈 구한 안젤코 통역 ...   \n",
       "4         대한항공은 ‘최선’을 만들었다… ‘통합 4연패’ 운명은 16일 우리카드 손으로   \n",
       "5   ‘메가 파워’ 16,000석 대형 인도네시아 아레나에서 경기라니…정관장, 4월 인도...   \n",
       "6   ‘발등 통증’ 임동혁의 부상 투혼...기회 잡은 ‘빅보이’는 2024년 봄배구를 기다린다   \n",
       "7                              꼴찌의 막판 매운맛…현대건설 떨고 있니?   \n",
       "8        “그 경기는 못 본다” 우리카드 최종전 차마 못 보겠다는 토미 감독[현장인터뷰]   \n",
       "9   '역전 우승 포기는 없다' 대한항공, 최종전서 KB손보 완파 '1위 탈환' [IS ...   \n",
       "10  \"우리카드전 틀어 놓고 안 봤다\" 조마조마했던 대한항공, \"희망은 남아있다\" [IS...   \n",
       "11              초반 1위 돌풍까지 일으켰는데…침통한 김상우 감독, 왜 말을 잃었나   \n",
       "12                '바쁘다 바빠 승리한 배구황제' 김연경하고 불렀다 [mhn숏폼]   \n",
       "13         ‘정규리그 1위 행방의 열쇠’ 쥔 야스민 “현대건설을 사랑하고 응원하지만…”   \n",
       "14      흥국생명·정관장 연파한 ‘꼴찌’ 페퍼저축은행…현대건설 상대로도 ‘매운맛’ 보여줄까   \n",
       "15           페퍼저축은행, '주전 수납' 정관장 상대로 창단 첫 연승+17연패 탈출!   \n",
       "16                      임성진 '폭발' 한국전력, 마지막 홈경기서 유종의 미   \n",
       "17                        왼쪽 날개 꺾인 현대건설, 암운 드리운 포스트시즌   \n",
       "18  페퍼전 ‘충격패’ 털고, 벼랑 끝 ‘기회 살린’ 흥국생명, 1위 싸움 끝까지 간다 ...   \n",
       "19        화내라고요? '수원 왕자' 임성진의 반박 \"저까지 성질내면 큰일나요\"[인터뷰]   \n",
       "20             내려갈 팀은 내려간다…DTD 기록 새로 쓴 삼성화재 [발리볼 비키니]   \n",
       "21                   '역대급' 우승 경쟁… 정규리그 1위 '시즌 최종전' 결정   \n",
       "22                      ‘창단 첫 2연승’ 페퍼저축은행, 현대건설 발목 잡나   \n",
       "23  '야스민+박정아 48득점' 페퍼저축은행 창단 3년만에 첫 2연승! '선택과 집중' ...   \n",
       "24                       '아직 안 끝났어!' 김연경 \"최대한 높은 곳까지\"   \n",
       "25                      \"V리그 출범 이후 처음\"…프로배구 1위 싸움 대혼전   \n",
       "26         은퇴 질문에 \"노코멘트\"...김현수의 직언은 김연경에게 어떤 영향을 미쳤을까   \n",
       "27          끝날 때까지 끝 아냐…‘진짜 마지막 찬스’ 대한항공, 새 역사가 이뤄지나?   \n",
       "28                     최민호 '물세례 도주, 준비한 선수가 오히려 물벼락을'   \n",
       "29           모마 기세 꺾고 듀스 만든 김수지, 흥국 우승 불씨 살린 '언성 히어로'   \n",
       "\n",
       "                                                  URL  \n",
       "0   https://sports.naver.com/news?oid=468&aid=0001...  \n",
       "1   https://sports.naver.com/news?oid=109&aid=0005...  \n",
       "2   https://sports.naver.com/news?oid=382&aid=0001...  \n",
       "3   https://sports.naver.com/news?oid=410&aid=0000...  \n",
       "4   https://sports.naver.com/news?oid=396&aid=0000...  \n",
       "5   https://sports.naver.com/news?oid=410&aid=0000...  \n",
       "6   https://sports.naver.com/news?oid=530&aid=0000...  \n",
       "7   https://sports.naver.com/news?oid=144&aid=0000...  \n",
       "8   https://sports.naver.com/news?oid=468&aid=0001...  \n",
       "9   https://sports.naver.com/news?oid=241&aid=0003...  \n",
       "10  https://sports.naver.com/news?oid=241&aid=0003...  \n",
       "11  https://sports.naver.com/news?oid=076&aid=0004...  \n",
       "12  https://sports.naver.com/news?oid=445&aid=0000...  \n",
       "13  https://sports.naver.com/news?oid=530&aid=0000...  \n",
       "14  https://sports.naver.com/news?oid=144&aid=0000...  \n",
       "15  https://sports.naver.com/news?oid=445&aid=0000...  \n",
       "16  https://sports.naver.com/news?oid=047&aid=0002...  \n",
       "17  https://sports.naver.com/news?oid=241&aid=0003...  \n",
       "18  https://sports.naver.com/news?oid=468&aid=0001...  \n",
       "19  https://sports.naver.com/news?oid=076&aid=0004...  \n",
       "20  https://sports.naver.com/news?oid=020&aid=0003...  \n",
       "21  https://sports.naver.com/news?oid=417&aid=0000...  \n",
       "22  https://sports.naver.com/news?oid=119&aid=0002...  \n",
       "23  https://sports.naver.com/news?oid=076&aid=0004...  \n",
       "24  https://sports.naver.com/news?oid=214&aid=0001...  \n",
       "25  https://sports.naver.com/news?oid=422&aid=0000...  \n",
       "26  https://sports.naver.com/news?oid=241&aid=0003...  \n",
       "27  https://sports.naver.com/news?oid=382&aid=0001...  \n",
       "28  https://sports.naver.com/news?oid=117&aid=0003...  \n",
       "29  https://sports.naver.com/news?oid=241&aid=0003...  "
      ]
     },
     "execution_count": 32,
     "metadata": {},
     "output_type": "execute_result"
    }
   ],
   "source": [
    "df"
   ]
  },
  {
   "cell_type": "code",
   "execution_count": 33,
   "id": "26e41ee7",
   "metadata": {},
   "outputs": [
    {
     "name": "stdout",
     "output_type": "stream",
     "text": [
      "                                                   제목  \\\n",
      "0            4시즌 연속 준PO 성사?…현대캐피탈, 승점 2만 따도 ‘봄무대’ 밟는다   \n",
      "1   29일 챔피언결정전 직행 팀은 ‘1위 탈환’ 대한항공? 우리카드 운명의 16일 결과...   \n",
      "2             ‘부담스러운 광주 원정길’ 현대건설, 그럼에도 ‘우승 키’는 우리에게!   \n",
      "3   4승 13패→감독 경질→13승 5패 ‘대반전’…위기의 현대캐피탈 구한 안젤코 통역 ...   \n",
      "4         대한항공은 ‘최선’을 만들었다… ‘통합 4연패’ 운명은 16일 우리카드 손으로   \n",
      "5   ‘메가 파워’ 16,000석 대형 인도네시아 아레나에서 경기라니…정관장, 4월 인도...   \n",
      "6   ‘발등 통증’ 임동혁의 부상 투혼...기회 잡은 ‘빅보이’는 2024년 봄배구를 기다린다   \n",
      "7                              꼴찌의 막판 매운맛…현대건설 떨고 있니?   \n",
      "8        “그 경기는 못 본다” 우리카드 최종전 차마 못 보겠다는 토미 감독[현장인터뷰]   \n",
      "9   '역전 우승 포기는 없다' 대한항공, 최종전서 KB손보 완파 '1위 탈환' [IS ...   \n",
      "10  \"우리카드전 틀어 놓고 안 봤다\" 조마조마했던 대한항공, \"희망은 남아있다\" [IS...   \n",
      "11              초반 1위 돌풍까지 일으켰는데…침통한 김상우 감독, 왜 말을 잃었나   \n",
      "12                '바쁘다 바빠 승리한 배구황제' 김연경하고 불렀다 [mhn숏폼]   \n",
      "13         ‘정규리그 1위 행방의 열쇠’ 쥔 야스민 “현대건설을 사랑하고 응원하지만…”   \n",
      "14      흥국생명·정관장 연파한 ‘꼴찌’ 페퍼저축은행…현대건설 상대로도 ‘매운맛’ 보여줄까   \n",
      "15           페퍼저축은행, '주전 수납' 정관장 상대로 창단 첫 연승+17연패 탈출!   \n",
      "16                      임성진 '폭발' 한국전력, 마지막 홈경기서 유종의 미   \n",
      "17                        왼쪽 날개 꺾인 현대건설, 암운 드리운 포스트시즌   \n",
      "18  페퍼전 ‘충격패’ 털고, 벼랑 끝 ‘기회 살린’ 흥국생명, 1위 싸움 끝까지 간다 ...   \n",
      "19        화내라고요? '수원 왕자' 임성진의 반박 \"저까지 성질내면 큰일나요\"[인터뷰]   \n",
      "20             내려갈 팀은 내려간다…DTD 기록 새로 쓴 삼성화재 [발리볼 비키니]   \n",
      "21                   '역대급' 우승 경쟁… 정규리그 1위 '시즌 최종전' 결정   \n",
      "22                      ‘창단 첫 2연승’ 페퍼저축은행, 현대건설 발목 잡나   \n",
      "23  '야스민+박정아 48득점' 페퍼저축은행 창단 3년만에 첫 2연승! '선택과 집중' ...   \n",
      "24                       '아직 안 끝났어!' 김연경 \"최대한 높은 곳까지\"   \n",
      "25                      \"V리그 출범 이후 처음\"…프로배구 1위 싸움 대혼전   \n",
      "26         은퇴 질문에 \"노코멘트\"...김현수의 직언은 김연경에게 어떤 영향을 미쳤을까   \n",
      "27          끝날 때까지 끝 아냐…‘진짜 마지막 찬스’ 대한항공, 새 역사가 이뤄지나?   \n",
      "28                     최민호 '물세례 도주, 준비한 선수가 오히려 물벼락을'   \n",
      "29           모마 기세 꺾고 듀스 만든 김수지, 흥국 우승 불씨 살린 '언성 히어로'   \n",
      "\n",
      "                                                  URL  \n",
      "0   https://sports.naver.com/news?oid=468&aid=0001...  \n",
      "1   https://sports.naver.com/news?oid=109&aid=0005...  \n",
      "2   https://sports.naver.com/news?oid=382&aid=0001...  \n",
      "3   https://sports.naver.com/news?oid=410&aid=0000...  \n",
      "4   https://sports.naver.com/news?oid=396&aid=0000...  \n",
      "5   https://sports.naver.com/news?oid=410&aid=0000...  \n",
      "6   https://sports.naver.com/news?oid=530&aid=0000...  \n",
      "7   https://sports.naver.com/news?oid=144&aid=0000...  \n",
      "8   https://sports.naver.com/news?oid=468&aid=0001...  \n",
      "9   https://sports.naver.com/news?oid=241&aid=0003...  \n",
      "10  https://sports.naver.com/news?oid=241&aid=0003...  \n",
      "11  https://sports.naver.com/news?oid=076&aid=0004...  \n",
      "12  https://sports.naver.com/news?oid=445&aid=0000...  \n",
      "13  https://sports.naver.com/news?oid=530&aid=0000...  \n",
      "14  https://sports.naver.com/news?oid=144&aid=0000...  \n",
      "15  https://sports.naver.com/news?oid=445&aid=0000...  \n",
      "16  https://sports.naver.com/news?oid=047&aid=0002...  \n",
      "17  https://sports.naver.com/news?oid=241&aid=0003...  \n",
      "18  https://sports.naver.com/news?oid=468&aid=0001...  \n",
      "19  https://sports.naver.com/news?oid=076&aid=0004...  \n",
      "20  https://sports.naver.com/news?oid=020&aid=0003...  \n",
      "21  https://sports.naver.com/news?oid=417&aid=0000...  \n",
      "22  https://sports.naver.com/news?oid=119&aid=0002...  \n",
      "23  https://sports.naver.com/news?oid=076&aid=0004...  \n",
      "24  https://sports.naver.com/news?oid=214&aid=0001...  \n",
      "25  https://sports.naver.com/news?oid=422&aid=0000...  \n",
      "26  https://sports.naver.com/news?oid=241&aid=0003...  \n",
      "27  https://sports.naver.com/news?oid=382&aid=0001...  \n",
      "28  https://sports.naver.com/news?oid=117&aid=0003...  \n",
      "29  https://sports.naver.com/news?oid=241&aid=0003...  \n"
     ]
    }
   ],
   "source": [
    "print(df)"
   ]
  },
  {
   "cell_type": "markdown",
   "id": "7e286355",
   "metadata": {},
   "source": [
    "### excel 파일 저장"
   ]
  },
  {
   "cell_type": "code",
   "execution_count": 63,
   "id": "630ec473",
   "metadata": {},
   "outputs": [],
   "source": [
    "df.to_excel('volleyball_news.xlsx', index=False)"
   ]
  },
  {
   "cell_type": "markdown",
   "id": "b82bcf55",
   "metadata": {},
   "source": [
    "### 파일명에 저장날짜 추가"
   ]
  },
  {
   "cell_type": "code",
   "execution_count": 64,
   "id": "564de893",
   "metadata": {},
   "outputs": [],
   "source": [
    "import time"
   ]
  },
  {
   "cell_type": "code",
   "execution_count": 65,
   "id": "ae0e1401",
   "metadata": {},
   "outputs": [],
   "source": [
    "today = time.localtime()"
   ]
  },
  {
   "cell_type": "code",
   "execution_count": 66,
   "id": "a86f3ff0",
   "metadata": {},
   "outputs": [
    {
     "data": {
      "text/plain": [
       "time.struct_time(tm_year=2024, tm_mon=3, tm_mday=14, tm_hour=13, tm_min=42, tm_sec=9, tm_wday=3, tm_yday=74, tm_isdst=0)"
      ]
     },
     "execution_count": 66,
     "metadata": {},
     "output_type": "execute_result"
    }
   ],
   "source": [
    "today"
   ]
  },
  {
   "cell_type": "code",
   "execution_count": 67,
   "id": "0facf634",
   "metadata": {},
   "outputs": [],
   "source": [
    "df.to_excel(f'{today.tm_year}{today.tm_mon}{today.tm_mday}_volleyball_news.xlsx', index=False)"
   ]
  },
  {
   "cell_type": "code",
   "execution_count": 68,
   "id": "817c50da",
   "metadata": {},
   "outputs": [
    {
     "name": "stdout",
     "output_type": "stream",
     "text": [
      "2024-03-14 2024-03-14_volleyball_news.xlsx\n"
     ]
    }
   ],
   "source": [
    "file_name = '%d-%02d-%02d' % (today.tm_year, today.tm_mon, today.tm_mday)\n",
    "excel_name = f'{file_name}_volleyball_news' + '.xlsx'\n",
    "print(file_name, excel_name)"
   ]
  },
  {
   "cell_type": "code",
   "execution_count": 69,
   "id": "66afd53d",
   "metadata": {},
   "outputs": [],
   "source": [
    "df.to_excel(excel_name, index=False)"
   ]
  },
  {
   "cell_type": "markdown",
   "id": "9e9e466b",
   "metadata": {},
   "source": [
    "## 유튜브 한국 구독자수 랭킹"
   ]
  },
  {
   "cell_type": "markdown",
   "id": "039c6585",
   "metadata": {},
   "source": [
    "https://kr.noxinfluencer.com/youtube-channel-rank/top-100-kr-all-youtuber-sorted-by-subs-weekly"
   ]
  },
  {
   "cell_type": "code",
   "execution_count": 13,
   "id": "a2f3a959",
   "metadata": {},
   "outputs": [],
   "source": [
    "import requests\n",
    "from bs4 import BeautifulSoup\n",
    "import pandas as pd"
   ]
  },
  {
   "cell_type": "code",
   "execution_count": 14,
   "id": "44352ddf",
   "metadata": {},
   "outputs": [],
   "source": [
    "info = {'User-Agent':'Mozilla/5.0 (Windows NT 10.0; Win64; x64) AppleWebKit/537.36'}"
   ]
  },
  {
   "cell_type": "code",
   "execution_count": 15,
   "id": "83cbf349",
   "metadata": {},
   "outputs": [
    {
     "data": {
      "text/plain": [
       "<Response [200]>"
      ]
     },
     "execution_count": 15,
     "metadata": {},
     "output_type": "execute_result"
    }
   ],
   "source": [
    "PATH = 'https://kr.noxinfluencer.com/youtube-channel-rank/top-100-kr-all-youtuber-sorted-by-subs-weekly'\n",
    "resp = requests.get(PATH, headers=info)\n",
    "resp"
   ]
  },
  {
   "cell_type": "code",
   "execution_count": 16,
   "id": "3444f184",
   "metadata": {},
   "outputs": [
    {
     "data": {
      "text/plain": [
       "'<!DOCTYPE html><html lang=\"kr\"><head>  <title>유튜브 순위 TOP 100 - 녹스인플루언서</title>  <meta name=\"keywords\" content=\"유튜브 순위,YouTube,NoxInfluencer,유튜브 인플루언서,BLACKPINK,BANGTANTV,유튜버 순위,구독자 순위,유튜브 랭킹\"><meta name=\"description\" content=\"한국 TOP 100 유튜브 채널. 유튜브 순위, 조회수 순위 등 랭킹 순위를 쉽게 확인해 보세요\"> <meta name=\"twitter:image\" content=\"https://res06.bignox.com/noxinfluencer/youtube/avatar/influencer_launcher_app.png\"><meta name=\"twitter:card\" content=\"summary\"><meta name=\"twitter:title\" content=\" 유튜브 순위 TOP 100 - 녹스인플루언서 \"><meta property=\"og:image:width\" content=\"250\"><meta property=\"og:image:height\" content=\"250\"><meta property=\"og:type\" content=\"website\"><meta property=\"fb:app_id\" content=\"314894179081566\"><meta property=\"og:image\" content=\"https://res06.bignox.com/noxinfluencer/youtube/avatar/influencer_launcher_app.png\"> <meta property=\"og:title\" content=\"유튜브 순위 TOP 100 - 녹스인플루언서\"><meta property=\"og:description\" content=\"한국 TOP 100 유튜브 채널. 유튜브 순위, 조회수 순위 등 랭킹 순위를 쉽게 확인해 보세요\"><link rel=\"canonical\" href=\"https://kr.noxinfluencer.com/youtube-channel-rank/top-100-kr-all-youtuber-sorted-by-subs-weekly\">  <meta property=\"og:url\" content=\"https://kr.noxinfluencer.com/youtube-channel-rank/top-100-kr-all-youtuber-sorted-by-subs-weekly?utm_source=facebook\">  <meta name=\"google-site-verification\" content=\"iaFGWUTfITKiaBXGR7k9ktw63UHj54kGW2XyxEb8HVs\">   <meta name=\"360-site-verification\" content=\"b7626251b1b03c8f676f8464fee5f135\"><meta name=\"msvalidate.01\" content=\"ADC57FC612DD08D828FEF7741B72F245\"> <meta charset=\"utf-8\"><link rel=\"shortcut icon\" href=\"/favicon.ico\" type=\"image/x-icon\"><meta name=\"renderer\" content=\"webkit\"><meta http-equiv=\"X-UA-Compatible\" content=\"IE=edge\"> <link rel=\"alternate\" hreflang=\"en\" href=\"https://www.noxinfluencer.com/youtube-channel-rank/top-100-kr-all-youtuber-sorted-by-subs-weekly\"><link rel=\"alternate\" hreflang=\"zh-Hans\" href=\"https://cn.noxinfluencer.com/youtube-channel-rank/top-100-kr-all-youtuber-sorted-by-subs-weekly\"><link rel=\"alternate\" hreflang=\"es\" href=\"https://es.noxinfluencer.com/youtube-channel-rank/top-100-kr-all-youtuber-sorted-by-subs-weekly\"><link rel=\"alternate\" hreflang=\"vi\" href=\"https://vn.noxinfluencer.com/youtube-channel-rank/top-100-kr-all-youtuber-sorted-by-subs-weekly\"><link rel=\"alternate\" hreflang=\"th\" href=\"https://th.noxinfluencer.com/youtube-channel-rank/top-100-kr-all-youtuber-sorted-by-subs-weekly\"><link rel=\"alternate\" hreflang=\"pt\" href=\"https://pt.noxinfluencer.com/youtube-channel-rank/top-100-kr-all-youtuber-sorted-by-subs-weekly\"><link rel=\"alternate\" hreflang=\"id\" href=\"https://id.noxinfluencer.com/youtube-channel-rank/top-100-kr-all-youtuber-sorted-by-subs-weekly\"><link rel=\"alternate\" hreflang=\"ko\" href=\"https://kr.noxinfluencer.com/youtube-channel-rank/top-100-kr-all-youtuber-sorted-by-subs-weekly\"><link rel=\"alternate\" hreflang=\"ja\" href=\"https://jp.noxinfluencer.com/youtube-channel-rank/top-100-kr-all-youtuber-sorted-by-subs-weekly\"><link rel=\"alternate\" hreflang=\"zh-Hant\" href=\"https://tw.noxinfluencer.com/youtube-channel-rank/top-100-kr-all-youtuber-sorted-by-subs-weekly\"><link rel=\"alternate\" hreflang=\"x-default\" href=\"https://www.noxinfluencer.com/youtube-channel-rank/top-100-kr-all-youtuber-sorted-by-subs-weekly\">  <link rel=\"preconnect\" href=\"https://fonts.googleapis.com\"><link rel=\"preconnect\" href=\"https://fonts.gstatic.com\" crossorigin><link href=\"https://fonts.googleapis.com/css2?family=Noto+Sans+Display:wght@100;200;300;400;500;600;700;800;900&display=swap\" rel=\"stylesheet\"><link href=\"https://fonts.googleapis.com/css2?family=Noto+Sans+SC:wght@100;300;400;500;700;900&display=swap\" rel=\"stylesheet\"><link href=\"https://fonts.googleapis.com/css2?family=Noto+Sans+KR:wght@100;300;400;500;700;900&display=swap\" rel=\"stylesheet\"><link href=\"https://fonts.googleapis.com/css2?family=Noto+Sans+TC:wght@100;300;400;500;700;900&display=swap\" rel=\"stylesheet\"><link href=\"https://fonts.googleapis.com/css2?family=Noto+Sans+JP:wght@100;300;400;500;700;900&display=swap\" rel=\"stylesheet\">  <!-- Global site tag (gtag.js) - Google Analytics -->          <script async src=\"https://www.googletagmanager.com/gtag/js?id=UA-116275628-9\"></script><script>window.dataLayer = window.dataLayer || [];\\n  function gtag() { dataLayer.push(arguments); }\\n  gtag(\\'js\\', new Date());\\n  gtag(\\'config\\', \\'UA-116275628-9\\');\\n  // 转化追踪\\n  gtag(\\'config\\', \\'AW-307418288\\');</script><!-- naver 统计 --><script type=\"text/javascript\" src=\"https://wcs.naver.net/wcslog.js\"></script><script type=\"text/javascript\">if (!wcs_add) var wcs_add = {};\\n  wcs_add.wa = \\'s_3ee6bd4edfdf\\';\\n  if (!_nasa) var _nasa = {};\\n  wcs.inflow(\"noxinfluencer.com\");</script>    <!-- Global site tag (gtag.js) - Google Analytics --><script async src=\"https://www.googletagmanager.com/gtag/js?id=UA-226258965-1\"></script><script>window.dataLayer = window.dataLayer || [];\\n  function gtag(){dataLayer.push(arguments);}\\n  gtag(\\'js\\', new Date());\\n\\n  gtag(\\'config\\', \\'UA-226258965-1\\');</script><!-- Google tag (gtag.js) --><script async src=\"https://www.googletagmanager.com/gtag/js?id=G-PZTQQRP507\"></script><script>window.dataLayer = window.dataLayer || [];\\n  function gtag() { dataLayer.push(arguments); }\\n  gtag(\\'js\\', new Date());\\n  gtag(\\'config\\', \\'G-PZTQQRP507\\');\\n  window.gtag = gtag;</script> <script>var _hmt = _hmt || [];\\n(function() {\\n  var hm = document.createElement(\"script\");\\n  hm.src = \"https://hm.baidu.com/hm.js?f3e03938f6b7a8b3a66b7bb07bfdd11b\";\\n  var s = document.getElementsByTagName(\"script\")[0]; \\n  s.parentNode.insertBefore(hm, s);\\n})();</script>  <!-- Google Tag Manager --><script>(function(w,d,s,l,i){w[l]=w[l]||[];w[l].push({\\'gtm.start\\':\\nnew Date().getTime(),event:\\'gtm.js\\'});var f=d.getElementsByTagName(s)[0],\\nj=d.createElement(s),dl=l!=\\'dataLayer\\'?\\'&l=\\'+l:\\'\\';j.async=true;j.src=\\n\\'https://www.googletagmanager.com/gtm.js?id=\\'+i+dl;f.parentNode.insertBefore(j,f);\\n})(window,document,\\'script\\',\\'dataLayer\\',\\'GTM-PR9ZSLQ\\');</script><!-- End Google Tag Manager --> <!-- Facebook Pixel Code --> <script>!function(f,b,e,v,n,t,s)\\n  {if(f.fbq)return;n=f.fbq=function(){n.callMethod?\\n  n.callMethod.apply(n,arguments):n.queue.push(arguments)};\\n  if(!f._fbq)f._fbq=n;n.push=n;n.loaded=!0;n.version=\\'2.0\\';\\n  n.queue=[];t=b.createElement(e);t.async=!0;\\n  t.src=v;s=b.getElementsByTagName(e)[0];\\n  s.parentNode.insertBefore(t,s)}(window, document,\\'script\\',\\n  \\'https://connect.facebook.net/en_US/fbevents.js\\');\\n  fbq(\\'init\\', \\'1144204275775049\\');\\n  fbq(\\'track\\', \\'PageView\\');</script><noscript><img height=\"1\" width=\"1\" style=\"display:none\" src=\"https://www.facebook.com/tr?id=1144204275775049&ev=PageView&noscript=1\"></noscript> <!-- End Facebook Pixel Code -->  <script>window.saStartTime = new Date();\\n  window.onload = function () {\\n    // window.saEndTime = new Date();\\n    // sa.track(\\'pageLoadTime\\',{\\n    //     loadTime:window.saEndTime.getTime() -  window.saStartTime.getTime()\\n    // });\\n  }</script>  <link href=\"https://res-static.noxinfluencer.com/kol/2024/03/public/css/common.ec61a271d442ed4e1e41.css\" rel=\"stylesheet\"><link href=\"https://res-static.noxinfluencer.com/kol/2024/03/public/css/youtubeChannelRank.d75706a40c76b0105ddc.css\" rel=\"stylesheet\">  </head><body class=\"lang_kr\" data-locale=\"kr\">  <input style=\"opacity: 0;position: absolute;z-index: -1;\" name=\"email\" type=\"text\" autocomplete=\"none\"> <input style=\"opacity: 0;position: absolute;z-index: -1;\" name=\"pwd\" type=\"password\" autocomplete=\"none\">     <!-- 左侧导航菜单-->  <!-- 有侧边导航Header -->  <!-- if(!isLogin | !newNav) -->  <header class=\"header \"><div class=\"header-container\"><a href=\"/\" class=\"logo\" title=\"NoxInfluencer\"><img src=\"https://res-static.noxinfluencer.com/kol/2024/03/public/img/216253b9.png\" alt=\"NoxInfluencer\"></a><div class=\"header-nav\"> <ul class=\"header-nav-container\">   <li class=\"nav-item has-sub-menu\"><span class=\"nav-link\">인기 순위</span><div class=\"sub-menu top-list-menu\" id=\"top-list-menu\"><ul class=\"top-list-tab clearfix\"><li class=\"top-tab-item active\" data-content-id=\"header-tab-youtube\"><span class=\"tab-link\"><i style=\"color: #d40c18;\" class=\"kolicon kol-icon-youtube-circle-filled\"></i> <span class=\"tab-title\">YouTube</span></span></li><li class=\"top-tab-item\" data-content-id=\"header-tab-instagram\"><span class=\"tab-link\"><i class=\"kol-icon kol-icon-ins-circle\"></i> <span class=\"tab-title\">Instagram</span></span></li><li class=\"top-tab-item\" data-content-id=\"header-tab-tiktok\"><span class=\"tab-link\"><i class=\"kol-icon kol-icon-tiktok-circle\"></i> <span class=\"tab-title\">TikTok</span></span></li><li class=\"top-tab-item\" data-content-id=\"header-tab-twitch\"><span class=\"tab-link\"><i style=\"color: #6441a5\" class=\"kolicon kol-icon-twitch-circle-filled\"></i> <span class=\"tab-title\">Twitch</span></span></li></ul><div class=\"sub-menu-container\"><div class=\"top-list-content\"><div id=\"header-tab-youtube\" class=\"content-pane active\"><div class=\"top-menu-column\"><div class=\"top-menu-title\">인기 유튜버 순위</div><ul class=\"top-menu-list\"><li class=\"top-menu-item\"><a href=\"/youtube-channel-rank/top-100-kr-all-youtuber-sorted-by-subs-weekly\" class=\"top-menu-link\">Top 100 유튜버 순위 (구독자 순)</a></li><li class=\"top-menu-item\"><a href=\"/youtube-channel-rank/top-100-kr-all-youtuber-sorted-by-growth-weekly\" class=\"top-menu-link\">Top 100 유튜버 순위 (급상승 순)</a></li><li class=\"top-menu-item\"><a href=\"/youtube-channel-rank/top-100-kr-all-youtuber-sorted-by-avgview-weekly\" class=\"top-menu-link\">Top 100 유튜버 순위 (평균 조회수 순)</a></li><li class=\"top-menu-item\"><a href=\"/youtube-channel-rank/top-100-kr-all-youtuber-sorted-by-noxscore-weekly\" class=\"top-menu-link\">Top 100 유튜버 순위 (NoxScore 순)</a></li><li class=\"top-menu-item\"><a href=\"/youtube-channel-rank/top-100-kr-all-youtuber-sorted-by-decrease-weekly\" class=\"top-menu-link\">Top 100 유튜버 순위 (하락세 순)</a></li><li class=\"top-menu-item\"><a href=\"/youtube-channel-rank/top-100-kr-all-youtuber-sorted-by-views-monthly\" class=\"top-menu-link\">Top 100 유튜버 순위(월조회수 순)</a></li></ul></div><div class=\"top-menu-column\"><div class=\"top-menu-title\">YouTube 동영상 랭킹</div><ul class=\"top-menu-list\">  <li class=\"top-menu-item\">  <a href=\"/youtube-video-rank\" class=\"top-menu-link\"> 오늘의 인기 동영상 </a>  </li>  <li class=\"top-menu-item\">  <a href=\"/youtube-video-rank/top-kr-all-video-day\" class=\"top-menu-link\"> 오늘의 Top 100 한국 </a>  </li>  <li class=\"top-menu-item\">  <a href=\"/youtube-video-rank/top-jp-all-video-day\" class=\"top-menu-link\"> 오늘의 Top 100 일본 </a>  </li>  <li class=\"top-menu-item\">  <a href=\"/youtube-video-rank/top-us-all-video-day\" class=\"top-menu-link\"> 오늘의 Top 100 미국 </a>  </li>  <li class=\"top-menu-item\">  <a href=\"/youtube-video-rank/top-uk-all-video-day\" class=\"top-menu-link\"> 오늘의 Top 100 영국 </a>  </li>  <li class=\"top-menu-item\">  <a href=\"/youtube-video-rank/top-id-all-video-day\" class=\"top-menu-link\"> 오늘의 Top 100 인도네시아 </a>  </li>  </ul></div><div class=\"top-menu-column\"><div class=\"top-menu-title\">인기 YouTube 카테고리</div><ul class=\"top-menu-list\">  <li class=\"top-menu-item\"><a href=\"/youtube-channel-rank/top-100-kr-gaming-youtuber-sorted-by-subs-weekly\" class=\"top-menu-link\">게임 </a></li>  <li class=\"top-menu-item\"><a href=\"/youtube-channel-rank/top-100-kr-science%20%26%20technology-youtuber-sorted-by-subs-weekly\" class=\"top-menu-link\">과학기술 </a></li>  <li class=\"top-menu-item\"><a href=\"/youtube-channel-rank/top-100-kr-entertainment-youtuber-sorted-by-subs-weekly\" class=\"top-menu-link\">엔터테인먼트 </a></li>  <li class=\"top-menu-item\"><a href=\"/youtube-channel-rank/top-100-kr-travel%20%26%20events-youtuber-sorted-by-subs-weekly\" class=\"top-menu-link\">여행/이벤트 </a></li>  <li class=\"top-menu-item\"><a href=\"/youtube-channel-rank/top-100-kr-howto%20%26%20style-youtuber-sorted-by-subs-weekly\" class=\"top-menu-link\">노하우/스타일 </a></li>  <li class=\"top-menu-item\"><a href=\"/youtube-channel-rank/top-100-kr-autos%20%26%20vehicles-youtuber-sorted-by-subs-weekly\" class=\"top-menu-link\">자동차 </a></li>  </ul></div></div><div id=\"header-tab-instagram\" class=\"content-pane\"><div class=\"top-menu-column\"><div class=\"top-menu-title\">Instagram 순위</div><ul class=\"top-menu-list\"><li class=\"top-menu-item\"><a href=\"/instagram-channel-rank/top-100-kr-all-sorted-by-followers-weekly\" class=\"top-menu-link\"> Top 100 Instagram 팔로워 순위 </a></li><li class=\"top-menu-item\"><a href=\"/instagram-channel-rank/top-100-kr-all-sorted-by-noxscore-weekly\" class=\"top-menu-link\"> Top 100 Instagram Nox 평점 순위 </a></li><li class=\"top-menu-item\"><a href=\"/instagram-channel-rank/top-100-kr-all-sorted-by-uploads-weekly\" class=\"top-menu-link\"> Top 100 Instagram 게시물 순위 </a></li><li class=\"top-menu-item\"><a href=\"/instagram-channel-rank/top-100-kr-all-sorted-by-engagementrate-weekly\" class=\"top-menu-link\"> Top 100 Instagram 참여도 순위 </a></li></ul></div></div><div id=\"header-tab-tiktok\" class=\"content-pane\"><div class=\"top-menu-column\"><div class=\"top-menu-title\">TikTok 순위</div><ul class=\"top-menu-list\"><li class=\"top-menu-item\"><a href=\"/tiktok-channel-rank/top-100-all-all-sorted-by-followers-weekly\" class=\"top-menu-link\"> Top 100 TikTok 팔로워 순위 </a></li><li class=\"top-menu-item\"><a href=\"/tiktok-channel-rank/top-100-all-all-sorted-by-noxscore-weekly\" class=\"top-menu-link\"> Top 100 TikTok Nox 평점 순위 </a></li><li class=\"top-menu-item\"><a href=\"/tiktok-channel-rank/top-100-all-all-sorted-by-engagementrate-weekly\" class=\"top-menu-link\"> Top 100 TikTok 참여도 순위 </a></li></ul></div></div><div id=\"header-tab-twitch\" class=\"content-pane\"><div class=\"top-menu-column\"><div class=\"top-menu-title\"> Twitch 순위</div><ul class=\"top-menu-list\"><li class=\"top-menu-item\"><a href=\"/twitch-channel-rank/top-100-all-all-sorted-by-followers-weekly\" class=\"top-menu-link\"> Top 100 Twitch 팔로워 순위 </a></li><li class=\"top-menu-item\"><a href=\"/twitch-channel-rank/top-100-all-all-sorted-by-noxscore-weekly\" class=\"top-menu-link\"> Top 100 Twitch Nox 평점 순위 </a></li></ul></div><div class=\"top-menu-column\"><div class=\"top-menu-title\"> 인기 Twitch 카테고리</div><ul class=\"top-menu-list\"><li class=\"top-menu-item\"><a href=\"/twitch-channel-rank/top-100-all-Fortnite-sorted-by-followers-weekly\" class=\"top-menu-link\"> Fortnite </a></li><li class=\"top-menu-item\"><a href=\"/twitch-channel-rank/top-100-all-League%20of%20Legends-sorted-by-followers-weekly\" class=\"top-menu-link\"> League of Legends </a></li><li class=\"top-menu-item\"><a href=\"/twitch-channel-rank/top-100-all-Minecraft-sorted-by-followers-weekly\" class=\"top-menu-link\"> Minecraft </a></li><li class=\"top-menu-item\"><a href=\"/twitch-channel-rank/top-100-all-Just%20Chatting-sorted-by-followers-weekly\" class=\"top-menu-link\"> Just Chatting </a></li></ul></div></div></div></div></div></li>   <li class=\"nav-item has-sub-menu\"><span class=\"nav-link\">마케팅 서비스</span><div class=\"advanced-sub-menu market-list-menu\"><div class=\"advanced-container clearfix advanced-double\">  <div class=\"advanced-list pull-left\">  <div class=\"advanced-title\">광고주</div>   <a href=\"/login?userType=brand&service=%2Fbrand%2Fcampaigns\" class=\"advance-link brand-campaign\"><span class=\"kolicon kol-icon-file1\"></span> <span class=\"title\">광고 등록</span><span class=\"sub-title\">셀프 광고 등록 시스템 및 인플루언서 요청 시스템 제공</span></a><a href=\"/login?userType=brand&service=%2Fresource%2Flist\" class=\"advance-link brand-favorite\"><span class=\"kolicon kol-icon-heart\"></span> <span class=\"title\">인플루언서 마케팅풀</span><span class=\"sub-title\">인플루언서 데이터 저장 및 관리</span></a><a href=\"/login?userType=brand&service=%2Fbrand%2Femail%2Flist\" class=\"advance-link brand-email\"><span class=\"kolicon kol-icon-email1\"></span> <span class=\"title\">이메일 일괄 발송</span><span class=\"sub-title\">여러 인플루언서에게 이메일 일괄 발송하기</span></a><a href=\"/brand-marketing\" class=\"advance-link brand-marketing\"><span class=\"kolicon kol-icon-tool\"></span> <span class=\"title\">인플루언서 마케팅 도구</span><span class=\"sub-title\">전문적인 인플루언서 검색 및 분석 서비스</span></a>  <a href=\"/api-service\" class=\"advance-link ytb-calculator\"><span class=\"kolicon kol-icon-open-data\"></span> <span class=\"title\">녹스인플루언서 API</span><span class=\"sub-title\">인플루언서 데이터를 내부 시스템에 통합</span></a>  </div>   <div class=\"advanced-list pull-left\">  <div class=\"advanced-title\">인플루언서</div>  <a href=\"/login?userType=kol&service=%2Fkol%2Fcampaigns\" class=\"advance-link kol-campaign\"><span class=\"kolicon kol-icon-file1\"></span> <span class=\"title\">광고마켓</span><span class=\"sub-title\">광고 캠페인 신청하기</span></a></div>  </div></div></li>   <li class=\"nav-item has-sub-menu\"><span class=\"nav-link\">채널 도구</span><div class=\"advanced-sub-menu tool-list-menu\"><div class=\"sub-menu-container clearfix\"><div class=\"advanced-container clearfix advanced-double\"><div class=\"advanced-list pull-left\"><div class=\"advanced-title\">분석</div><a href=\"/youtube/channel-calculator\" class=\"advance-link ytb-calculator\" title=\"YouTube 채널 예상 수입\"><span class=\"kolicon kol-icon-calculator\"></span> <span class=\"title\">YouTube 채널 예상 수입</span><span class=\"sub-title\">몇 초 만에 YouTube 채널 가치를 분석해낼 수 있습니다</span></a><a href=\"/youtube/video-analytics\" class=\"advance-link ytb-video-analysis\" title=\"YouTube 동영상 분석하기\"><span class=\"kolicon kol-icon-video-analysis\"></span> <span class=\"title\">YouTube 동영상 분석하기</span><span class=\"sub-title\">YouTube 동영상 실적에 대한 깊은 분석, YouTube SEO 최적화</span></a><a href=\"/youtube/channel-compare\" class=\"advance-link ytb-compare\" title=\"유튜버 비교하기\"><span class=\"kolicon kol-icon-battle\"></span> <span class=\"title\">유튜버 비교하기</span><span class=\"sub-title\">다차원적으로 YouTube 채널를 비교해서 우열을 바로 알 수 있습니다</span></a><a href=\"/youtube/realtime-subs-count\" class=\"advance-link ytb-realtime\" title=\"실시간 YouTube 구독자 수\"><span class=\"kolicon kol-icon-beat\"></span> <span class=\"title\">실시간 YouTube 구독자 수</span><span class=\"sub-title\">최고의 실시간 구독자 통계 도구</span></a>  </div><div class=\"advanced-list pull-left\"><div class=\"advanced-title\">창작</div><a href=\"/youtube/video-title\" class=\"advance-link ytb-video-title\" title=\"유튜브 영상 제목 분석 도구\"><span class=\"kolicon kol-icon-title\"></span> <span class=\"title\">유튜브 영상 제목 분석 도구</span><span class=\"sub-title\">유튜브 검색엔진에 최적화된 제목을 찾아주는 유튜버 필수 도구입니다</span></a><a href=\"/youtube/thumbnails-gallery\" class=\"advance-link ytb-thumbnails\" title=\"유튜브 썸네일 도구\"><span class=\"kolicon kol-icon-image\"></span> <span class=\"title\">유튜브 썸네일 도구</span><span class=\"sub-title\">유튜브 썸네일 검색 및 다운로드를 도와주는 서비스입니다.</span></a><a href=\"/trend\" class=\"advance-link ytb-trend\" title=\"유튜브 트렌드\"><span class=\"kolicon kol-icon-fire\"></span> <span class=\"title\">유튜브 트렌드</span><span class=\"sub-title\">녹스 인플루언서에서 오늘의 유튜브 트렌드를 알아보세요</span></a><a href=\"/trend/keywords/YouTube\" class=\"advance-link ytb-trend-keywords\" title=\"유튜브 키워드 툴\"><span class=\"kolicon kol-icon-key\"></span> <span class=\"title\">유튜브 키워드 툴</span><span class=\"sub-title\">녹스 인플루언서의 유튜브 키워드 검색 도구는 유튜브 동영상의 검색 노출를 최대화 시킵니다</span></a></div></div></div></div></li>   <li class=\"nav-item has-sub-menu\"><span class=\"nav-link\">더보기</span><div class=\"sub-menu resources-list-menu\"><div class=\"sub-menu-container\"><ul class=\"sub-menu-list\">    <li class=\"sub-menu-item\"><a href=\"/help/\" title=\"고객센터\" class=\"sub-menu-link\" sensors-name=\"kol_help_center\" target=\"_blank\"> 고객센터 </a></li>  <li class=\"sub-menu-item\">  <a href=\"/help/member/introduction/\" title=\"NoxInfluencer 서비스 소개\" target=\"_blank\" class=\"sub-menu-link\"> NoxInfluencer 서비스 소개 </a>  </li>  <li class=\"sub-menu-item\"><a href=\"/article\" title=\"공식블로그\" target=\"_blank\" class=\"sub-menu-link\">공식블로그</a></li>  <li class=\"sub-menu-item\"><a href=\"/about-us\" title=\"회사소개\" target=\"_blank\" class=\"sub-menu-link\"> 회사소개 </a></li></ul></div></div></li>  <li class=\"nav-item no-sub-menu\"><a href=\"/product/pricing\" title=\"유료회원 가입\" class=\"nav-link\"><span class=\"vip-icon\"></span>&nbsp;유료회원 가입 </a></li></ul> </div><div class=\"header-option\"> <div class=\"header-search\" id=\"header-search\"><i class=\"kolicon kol-icon-search1\"></i> <input id=\"header-search-input\" type=\"text\" class=\"header-search-input\" > <i class=\"kolicon kol-icon-close-circle-filled\" id=\"header-search-clear\"></i></div> <div class=\"header-lang\"><div class=\"target-lang\"><span> 한국어 </span><span class=\"icon kolicon kol-icon-left\"></span></div><ul class=\"dropdown-menu list\">  <li class=\"list-item\"><a href=\"http://www.noxinfluencer.com/youtube-channel-rank/top-100-kr-all-youtuber-sorted-by-subs-weekly\" data-lang-host=\"EN\" class=\"link\" title=\"English\" sensors-name=\"kol_web_EN\"> English </a></li>  <li class=\"list-item\"><a href=\"http://kr.noxinfluencer.com/youtube-channel-rank/top-100-kr-all-youtuber-sorted-by-subs-weekly\" data-lang-host=\"KR\" class=\"link\" title=\"한국어\" sensors-name=\"kol_web_KR\"> 한국어 </a></li>  <li class=\"list-item\"><a href=\"http://jp.noxinfluencer.com/youtube-channel-rank/top-100-kr-all-youtuber-sorted-by-subs-weekly\" data-lang-host=\"JP\" class=\"link\" title=\"日本語\" sensors-name=\"kol_web_JP\"> 日本語 </a></li>  <li class=\"list-item\"><a href=\"http://tw.noxinfluencer.com/youtube-channel-rank/top-100-kr-all-youtuber-sorted-by-subs-weekly\" data-lang-host=\"TW\" class=\"link\" title=\"繁體中文\" sensors-name=\"kol_web_TW\"> 繁體中文 </a></li>  <li class=\"list-item\"><a href=\"http://cn.noxinfluencer.com/youtube-channel-rank/top-100-kr-all-youtuber-sorted-by-subs-weekly\" data-lang-host=\"ZH\" class=\"link\" title=\"简体中文\" sensors-name=\"kol_web_ZH\"> 简体中文 </a></li>  <li class=\"list-item\"><a href=\"http://id.noxinfluencer.com/youtube-channel-rank/top-100-kr-all-youtuber-sorted-by-subs-weekly\" data-lang-host=\"ID\" class=\"link\" title=\"Bahasa\" sensors-name=\"kol_web_ID\"> Bahasa </a></li>  <li class=\"list-item\"><a href=\"http://es.noxinfluencer.com/youtube-channel-rank/top-100-kr-all-youtuber-sorted-by-subs-weekly\" data-lang-host=\"ES\" class=\"link\" title=\"Español\" sensors-name=\"kol_web_ES\"> Español </a></li>  <li class=\"list-item\"><a href=\"http://th.noxinfluencer.com/youtube-channel-rank/top-100-kr-all-youtuber-sorted-by-subs-weekly\" data-lang-host=\"TH\" class=\"link\" title=\"ไทย\" sensors-name=\"kol_web_TH\"> ไทย </a></li>  <li class=\"list-item\"><a href=\"http://vn.noxinfluencer.com/youtube-channel-rank/top-100-kr-all-youtuber-sorted-by-subs-weekly\" data-lang-host=\"VN\" class=\"link\" title=\"Tiếng Việt\" sensors-name=\"kol_web_VN\"> Tiếng Việt </a></li>  <li class=\"list-item\"><a href=\"http://pt.noxinfluencer.com/youtube-channel-rank/top-100-kr-all-youtuber-sorted-by-subs-weekly\" data-lang-host=\"PT\" class=\"link\" title=\"Português\" sensors-name=\"kol_web_PT\"> Português </a></li>  </ul></div>  <div class=\"btn-list\"><span id=\"header-login\" data-user-type=\"kol\" sensors-name=\"header_kol_login\" class=\"header-login-btn\"> 나는 유튜버다  </span><span id=\"header-login\" data-user-type=\"brand\" sensors-name=\"header_brand_login\" class=\"header-login-btn\"> 나는 광고주다 </span></div>  </div></div></header><div class=\"header-placeholder\"></div>    <section class=\"lang-check-block\"><div class=\"section-container\"><span class=\"langText\"></span> <a class=\"switch\" data-switch></a><div class=\"btn-close\"><i class=\"kolicon kol-icon-close\"></i></div></div></section><section > <div id=\"fb-root\"></div> <script>window.twttr = (function(d, s, id) {\\n    var js, fjs = d.getElementsByTagName(s)[0],\\n            t = window.twttr || {};\\n    if (d.getElementById(id)) return t;\\n    js = d.createElement(s);\\n    js.id = id;\\n    js.src = \"https://platform.twitter.com/widgets.js\";\\n    fjs.parentNode.insertBefore(js, fjs);\\n\\n    t._e = [];\\n    t.ready = function(f) {\\n        t._e.push(f);\\n    };\\n\\n    return t;\\n}(document, \"script\", \"twitter-wjs\"));</script> <script>window.fbAsyncInit = function() {\\n        FB.init({\\n            // appId            : \\'314894179081566\\',\\n            appId            : \\'421885018935284\\',\\n            autoLogAppEvents : true,\\n            xfbml            : true,\\n            version          : \\'v3.1\\'\\n        });\\n    };\\n\\n    (function(d, s, id){\\n        var js, fjs = d.getElementsByTagName(s)[0];\\n        if (d.getElementById(id)) {return;}\\n        js = d.createElement(s); js.id = id;\\n        js.src = \"https://connect.facebook.net/en_US/sdk.js\";\\n        fjs.parentNode.insertBefore(js, fjs);\\n    }(document, \\'script\\', \\'facebook-jssdk\\'));</script> <div class=\"page-wrap\"><div class=\"rank-header-wrap\"><div class=\"rank-header-content\"><div class=\"header-title-wrap clearfix\"><div class=\"title-content pull-left\"><h1 class=\"title ellipsis\">한국 TOP 100 유튜브 채널</h1><div class=\"rank-data\"><span class=\"update-data\"> YouTube 순위 차트 업데이트 날짜:  <span id=\"date-span\">2024-03-15</span></span><span class=\"divide\"></span> <span class=\"share-data\"> 공유하기 <i data-share-fb class=\"kolicon kol-icon-facebook1-filled\"></i> <i data-share-tw class=\"kolicon kol-icon-twitter-filled\"></i></span></div></div><div class=\"plat-content pull-right clearfix\"><a class=\"link active\"><i style=\"color: #D40C18;\" class=\"kolicon kol-icon-youtube-circle-filled\"></i> </a><a href=\"/instagram-channel-rank/top-100-all-all-sorted-by-followers-weekly\" class=\"link\"><i class=\"kol-icon kol-icon-ins-circle\"></i> </a><a href=\"/tiktok-channel-rank/top-100-all-all-sorted-by-followers-weekly\" class=\"link\"><i class=\"kol-icon tab-icon kol-icon-tiktok-circle\"></i> </a><a href=\"/twitch-channel-rank/top-100-all-all-sorted-by-followers-weekly\" class=\"link\"><i style=\"color: #6441a5\" class=\"kolicon tab-icon kol-icon-twitch-circle-filled\"></i></a></div></div><div class=\"rank-type-wrap clearfix\"><span data-type-value=\"noxscore\" class=\"rank-type pull-left \"> Nox 평점 순위 </span><span data-type-value=\"subs\" class=\"rank-type pull-left checked\"> 유튜브 구독자 순위 </span><span data-type-value=\"avgview\" class=\"rank-type pull-left \"> 평균 조회수 순위 </span><span data-type-value=\"growth\" class=\"rank-type pull-left \"> 구독자 급상승 순위 </span><span data-type-value=\"decrease\" class=\"rank-type pull-left \"> 구독자 구독취소 순위 </span><span data-type-value=\"views\" class=\"rank-type pull-left \"> 30일 누적조회수 순위 </span>  <span data-type-value=\"mcn\" class=\"rank-type pull-left \"> MCN소속 구독자 순위 </span><span data-type-value=\"individual\" class=\"rank-type pull-left \"> 개인채널 구독자 순위 </span>  </div></div></div><div class=\"rank-result-wrap\"><div class=\"result-title-wrap\"><span class=\"result-title\">인플루언서 랭킹</span><div class=\"filter-wrap clearfix\">  <div class=\"select-wrap\"><select name=\"area-filter\" id=\"area-filter-select\" class=\"select\">  <option value=\"ALL\"> 전체 지역 </option>  <option value=\"BR\"> 브라질 </option>  <option value=\"TW\"> 대만 </option>  <option value=\"TH\"> 태국 </option>  <option value=\"IN\"> 인도 </option>  <option value=\"JP\"> 일본 </option>  <option value=\"UK\"> 영국 </option>  <option value=\"KR\"> 한국 </option>  <option value=\"VN\"> 베트남 </option>  <option value=\"ID\"> 인도네시아 </option>  <option value=\"US\"> 미국 </option>  <option value=\"ST\"> 상투메 프린시페 민주공화국 </option>  <option value=\"NR\"> 나우루 </option>  <option value=\"LS\"> 레소토 </option>  <option value=\"NU\"> 니우에 </option>  <option value=\"GW\"> 기니비사우 </option>  <option value=\"MH\"> 마셜제도 </option>  <option value=\"PM\"> 세인트피에르미퀠론 </option>  <option value=\"KI\"> 키리바시 </option>  <option value=\"GQ\"> 적도기니 </option>  <option value=\"PN\"> 핏케언 제도 </option>  <option value=\"KM\"> 코모로 </option>  <option value=\"BL\"> 세인트 바르텔레미 </option>  <option value=\"TO\"> 통가 </option>  <option value=\"TF\"> 프랑스령 남부 </option>  <option value=\"WS\"> 사모아 </option>  <option value=\"SB\"> 솔로몬제도 </option>  <option value=\"SS\"> 남수단 </option>  <option value=\"LR\"> 라이베리아 </option>  <option value=\"SC\"> 세이셸 </option>  <option value=\"MS\"> 몬트세랫 </option>  <option value=\"MW\"> 말라위 </option>  <option value=\"BV\"> 부베섬 </option>  <option value=\"CC\"> 코코스제도 </option>  <option value=\"MF\"> 상마르탱 섬 </option>  <option value=\"SJ\"> 스발바르 얀마옌 제도 </option>  <option value=\"ER\"> 에리트레아 </option>  <option value=\"SX\"> 신트마르턴 </option>  <option value=\"CF\"> 중앙아프리카공화국 </option>  <option value=\"GM\"> 감비아 </option>  <option value=\"NF\"> 노퍽 섬 </option>  <option value=\"PW\"> 팔라우 </option>  <option value=\"SH\"> 세인트헬레나 </option>  <option value=\"SL\"> 시에라리온 </option>  <option value=\"BQ\"> 카리브해 네덜란드 </option>  <option value=\"SZ\"> 스와질란드 </option>  <option value=\"GN\"> 기니 </option>  <option value=\"TM\"> 투르크메니스탄 </option>  <option value=\"CK\"> 쿡제도 </option>  <option value=\"FM\"> 미크로네시아 </option>  <option value=\"TV\"> 투발루 </option>  <option value=\"KN\"> 세인트키츠네비스 </option>  <option value=\"FK\"> 포클랜드 제도 </option>  <option value=\"DJ\"> 지부티 </option>  <option value=\"VU\"> 바누아투 </option>  <option value=\"TL\"> 동티모르 </option>  <option value=\"SM\"> 산마리노 </option>  <option value=\"BI\"> 부룬디 </option>  <option value=\"CG\"> 콩고 공화국 </option>  <option value=\"EH\"> 서사하라 </option>  <option value=\"MR\"> 모리타니 </option>  <option value=\"CV\"> 카보베르데 </option>  <option value=\"TC\"> 터크스케이커스 제도 </option>  <option value=\"GG\"> 건지 </option>  <option value=\"WF\"> 월리스푸투나제도 </option>  <option value=\"BF\"> 부르키나파소 </option>  <option value=\"TD\"> 차드 </option>  <option value=\"GD\"> 그레나다 </option>  <option value=\"MP\"> 북마리아나제도 </option>  <option value=\"DM\"> 도미니카 </option>  <option value=\"VC\"> 세인트빈센트그레나딘 </option>  <option value=\"ML\"> 말리 </option>  <option value=\"GI\"> 지브롤터 </option>  <option value=\"LC\"> 세인트루시아 </option>  <option value=\"BJ\"> 베냉 </option>  <option value=\"BT\"> 부탄 </option>  <option value=\"FO\"> 페로제도 </option>  <option value=\"CW\"> 퀴라소 </option>  <option value=\"IO\"> 영국령 인도양 식민지 </option>  <option value=\"HM\"> 허드 맥도날드 제도 </option>  <option value=\"GS\"> 샌드위치 섬 </option>  <option value=\"SR\"> 수리남 </option>  <option value=\"YT\"> 마요트 섬 </option>  <option value=\"TG\"> 토고 </option>  <option value=\"GA\"> 가봉 </option>  <option value=\"NC\"> 뉴칼레도니아 </option>  <option value=\"FJ\"> 피지 </option>  <option value=\"NE\"> 니제르 </option>  <option value=\"AG\"> 안티가 &amp; 바뷰다 </option>  <option value=\"GL\"> 그린란드 </option>  <option value=\"IM\"> 맨섬 </option>  <option value=\"KY\"> 케이맨제도 </option>  <option value=\"PF\"> 프랑스령폴리네시아 </option>  <option value=\"AX\"> 올란드제도 </option>  <option value=\"MC\"> 모나코 </option>  <option value=\"BZ\"> 벨리즈 </option>  <option value=\"CX\"> 크리스마스 섬 </option>  <option value=\"SD\"> 수단 </option>  <option value=\"BW\"> 보츠와나 </option>  <option value=\"GY\"> 가이아나 </option>  <option value=\"MG\"> 마다가스카르 </option>  <option value=\"GF\"> 프랑스령 기아나 </option>  <option value=\"VG\"> 영국령 버진아일랜드 </option>  <option value=\"CD\"> 콩고민주공화국 </option>  <option value=\"JE\"> 저지섬 </option>  <option value=\"MV\"> 몰디브 </option>  <option value=\"MZ\"> 모잠비크 </option>  <option value=\"GU\"> 괌 </option>  <option value=\"VA\"> 바티칸 </option>  <option value=\"TJ\"> 타지키스탄 </option>  <option value=\"NA\"> 나미비아 </option>  <option value=\"RW\"> 르완다 </option>  <option value=\"HT\"> 아이티 </option>  <option value=\"ZM\"> 잠비아 </option>  <option value=\"BM\"> 버뮤다 </option>  <option value=\"LI\"> 리히텐슈타인 </option>  <option value=\"BN\"> 브루나이 </option>  <option value=\"PG\"> 파푸아뉴기니 </option>  <option value=\"MQ\"> 마르티니크 섬 </option>  <option value=\"AI\"> 앵귈라 </option>  <option value=\"BB\"> 바베이도스 </option>  <option value=\"CU\"> 쿠바 </option>  <option value=\"GP\"> 과들루프 </option>  <option value=\"MO\"> 마카오, 중국 </option>  <option value=\"CM\"> 카메룬 </option>  <option value=\"BS\"> 바하마 </option>  <option value=\"MM\"> 미얀마(버마) </option>  <option value=\"AD\"> 안도라 </option>  <option value=\"UM\"> 미국령 군소 제도 </option>  <option value=\"CI\"> 코트디부아르 </option>  <option value=\"AO\"> 앙골라 </option>  <option value=\"MU\"> 모리셔스 </option>  <option value=\"KG\"> 키르기스스탄 </option>  <option value=\"AW\"> 아루바 </option>  <option value=\"KP\"> 북한 </option>  <option value=\"ET\"> 에티오피아 </option>  <option value=\"SO\"> 소말리아 </option>  <option value=\"MN\"> 몽골 </option>  <option value=\"LA\"> 라오스 </option>  <option value=\"IR\"> 이란 </option>  <option value=\"UZ\"> 우즈베키스탄 </option>  <option value=\"VI\"> 미국령 버진아일랜드 </option>  <option value=\"QO\"> 남극 대륙 </option>  <option value=\"RE\"> 레위니 </option>  <option value=\"LY\"> 리비아 </option>  <option value=\"PS\"> 팔레스타인 영토 </option>  <option value=\"SY\"> 시리아 </option>  <option value=\"TT\"> 트리니다드토바고 </option>  <option value=\"ME\"> 몬테네그로 </option>  <option value=\"MD\"> 몰도바 </option>  <option value=\"LU\"> 룩셈부르크 </option>  <option value=\"AS\"> 아메리칸사모아 </option>  <option value=\"NI\"> 니카라과 </option>  <option value=\"ZW\"> 짐바브웨 </option>  <option value=\"AM\"> 아르메니아 </option>  <option value=\"AL\"> 알바니아 </option>  <option value=\"MT\"> 몰타 </option>  <option value=\"IS\"> 아이슬란드 </option>  <option value=\"PY\"> 파라과이 </option>  <option value=\"MK\"> 마케도니아 </option>  <option value=\"CY\"> 키프로스 </option>  <option value=\"YE\"> 예멘 </option>  <option value=\"HN\"> 온두라스 </option>  <option value=\"BH\"> 바레인 </option>  <option value=\"OM\"> 오만 </option>  <option value=\"UG\"> 우간다 </option>  <option value=\"PA\"> 파나마 </option>  <option value=\"SN\"> 세네갈 </option>  <option value=\"SV\"> 엘살바도르 </option>  <option value=\"QA\"> 카타르 </option>  <option value=\"LB\"> 레바논 </option>  <option value=\"RB\"> 볼리비아 </option>  <option value=\"PR\"> 푸에르토리코 </option>  <option value=\"TZ\"> 탄자니아 </option>  <option value=\"CR\"> 코스타리카 </option>  <option value=\"BA\"> 보스니아-헤르체코비나 </option>  <option value=\"LV\"> 라트비아 </option>  <option value=\"GT\"> 과테말라 </option>  <option value=\"AF\"> 아프가니스탄 </option>  <option value=\"KW\"> 쿠웨이트 </option>  <option value=\"JM\"> 자메이카 </option>  <option value=\"GH\"> 가나 </option>  <option value=\"KH\"> 캄보디아 </option>  <option value=\"LT\"> 리투아니아 </option>  <option value=\"UY\"> 우루과이 </option>  <option value=\"JO\"> 요르단 </option>  <option value=\"TN\"> 튀니지 </option>  <option value=\"HR\"> 크로아티아 </option>  <option value=\"GE\"> 그루지아 </option>  <option value=\"SK\"> 슬로바키아 </option>  <option value=\"CN\"> 중국 </option>  <option value=\"VE\"> 베네수엘라 </option>  <option value=\"AZ\"> 아제르바이잔 </option>  <option value=\"BY\"> 벨로루시 </option>  <option value=\"KE\"> 케냐 </option>  <option value=\"DO\"> 도미니카공화국 </option>  <option value=\"RS\"> 세르비아 </option>  <option value=\"BG\"> 불가리아 </option>  <option value=\"KZ\"> 카자흐스탄 </option>  <option value=\"NG\"> 나이지리아 </option>  <option value=\"SI\"> 슬로베니아 </option>  <option value=\"NO\"> 노르웨이 </option>  <option value=\"EC\"> 에콰도르 </option>  <option value=\"LK\"> 스리랑카 </option>  <option value=\"NZ\"> 뉴질랜드 </option>  <option value=\"IL\"> 이스라엘 </option>  <option value=\"IE\"> 아일랜드 </option>  <option value=\"AT\"> 오스트리아 </option>  <option value=\"CH\"> 스위스 </option>  <option value=\"NP\"> 네팔 </option>  <option value=\"ZA\"> 남아프리카 </option>  <option value=\"IQ\"> 이라크 </option>  <option value=\"DZ\"> 알제리 </option>  <option value=\"SG\"> 싱가포르 </option>  <option value=\"PT\"> 포르투갈 </option>  <option value=\"BE\"> 벨기에 </option>  <option value=\"CL\"> 칠레 </option>  <option value=\"AE\"> 아랍 에미레이트 </option>  <option value=\"EE\"> 에스토니아 </option>  <option value=\"GR\"> 그리스 </option>  <option value=\"SA\"> 사우디아라비아 </option>  <option value=\"PE\"> 페루 </option>  <option value=\"HU\"> 헝가리 </option>  <option value=\"HK\"> 중국 홍콩 </option>  <option value=\"FI\"> 핀란드 </option>  <option value=\"MA\"> 모로코 </option>  <option value=\"MY\"> 말레이시아 </option>  <option value=\"CO\"> 콜롬비아 </option>  <option value=\"UA\"> 우크라이나 </option>  <option value=\"EG\"> 이집트 </option>  <option value=\"SE\"> 스웨덴 </option>  <option value=\"RO\"> 루마니아 </option>  <option value=\"AR\"> 아르헨티나 </option>  <option value=\"BD\"> 방글라데시 </option>  <option value=\"CZ\"> 체코 </option>  <option value=\"AU\"> 호주 </option>  <option value=\"TR\"> 터키 </option>  <option value=\"MX\"> 멕시코 </option>  <option value=\"ES\"> 스페인 </option>  <option value=\"DK\"> 덴마크 </option>  <option value=\"PH\"> 필리핀 </option>  <option value=\"PK\"> 파키스탄 </option>  <option value=\"CA\"> 캐나다 </option>  <option value=\"FR\"> 프랑스 </option>  <option value=\"IT\"> 이탈리아 </option>  <option value=\"NL\"> 네덜란드 </option>  <option value=\"PL\"> 폴란드 </option>  <option value=\"DE\"> 독일 </option>  <option value=\"RU\"> 러시아 </option>  <option value=\"OTHERS\"> 기타 </option>  </select></div>  <div class=\"select-wrap\"><div class=\"select-manual pull-left\" id=\"tag-filter-select\"><div class=\"select-manual-content\"><span class=\"select-text ellipsis\">Nox카테고리</span><span class=\"select-arrow\"></span></div><div class=\"select-manual-absolute\"><div class=\"select-manual-list\"><div class=\"tag-list\">  <div class=\"tag-label can-select\"  data-tag-id=\"0\" > Nox카테고리  </div>  <div class=\"tag-label \" > 게임  <div class=\"tag-child-list-wrap\"><div class=\"tag-child-list\">  <div class=\"tag-child-label has-parent can-select\" data-tag-id=\"1\"> 게임 </div>  <div class=\"tag-child-label has-parent can-select\" data-tag-id=\"2\"> 액션게임 </div>  <div class=\"tag-child-label has-parent can-select\" data-tag-id=\"3\"> Action-adventure </div>  <div class=\"tag-child-label has-parent can-select\" data-tag-id=\"4\"> 캐주얼게임 </div>  <div class=\"tag-child-label has-parent can-select\" data-tag-id=\"5\"> 리듬게임 </div>  <div class=\"tag-child-label has-parent can-select\" data-tag-id=\"6\"> Puzzle video </div>  <div class=\"tag-child-label has-parent can-select\" data-tag-id=\"7\"> Racing video </div>  <div class=\"tag-child-label has-parent can-select\" data-tag-id=\"8\"> RPG게임 </div>  <div class=\"tag-child-label has-parent can-select\" data-tag-id=\"9\"> Simulation video </div>  <div class=\"tag-child-label has-parent can-select\" data-tag-id=\"10\"> 스포츠게임 </div>  <div class=\"tag-child-label has-parent can-select\" data-tag-id=\"11\"> 전략게임 </div>  <div class=\"tag-child-label has-parent can-select\" data-tag-id=\"12\"> Arcade </div>  <div class=\"tag-child-label has-parent can-select\" data-tag-id=\"13\"> Board </div>  <div class=\"tag-child-label has-parent can-select\" data-tag-id=\"14\"> Card </div>  <div class=\"tag-child-label has-parent can-select\" data-tag-id=\"17\"> RTS게임 </div>  </div></div>  </div>  <div class=\"tag-label \" > 뷰티,메이크업  <div class=\"tag-child-list-wrap\"><div class=\"tag-child-list\">  <div class=\"tag-child-label has-parent can-select\" data-tag-id=\"46\"> 뷰티,메이크업 </div>  <div class=\"tag-child-label has-parent can-select\" data-tag-id=\"47\"> 메이크업 </div>  <div class=\"tag-child-label has-parent can-select\" data-tag-id=\"48\"> 스킨케어 </div>  <div class=\"tag-child-label has-parent can-select\" data-tag-id=\"49\"> 헤어스타일 </div>  <div class=\"tag-child-label has-parent can-select\" data-tag-id=\"50\"> 네일 </div>  </div></div>  </div>  <div class=\"tag-label \" > 패션  <div class=\"tag-child-list-wrap\"><div class=\"tag-child-list\">  <div class=\"tag-child-label has-parent can-select\" data-tag-id=\"284\"> 패션 </div>  <div class=\"tag-child-label has-parent can-select\" data-tag-id=\"54\"> 옷 </div>  <div class=\"tag-child-label has-parent can-select\" data-tag-id=\"58\"> 주얼리 </div>  <div class=\"tag-child-label has-parent can-select\" data-tag-id=\"57\"> 슈즈 </div>  <div class=\"tag-child-label has-parent can-select\" data-tag-id=\"299\"> 가방 </div>  <div class=\"tag-child-label has-parent can-select\" data-tag-id=\"300\"> 모자 </div>  </div></div>  </div>  <div class=\"tag-label \" > 전자제품  <div class=\"tag-child-list-wrap\"><div class=\"tag-child-list\">  <div class=\"tag-child-label has-parent can-select\" data-tag-id=\"301\"> 전자제품 </div>  <div class=\"tag-child-label has-parent can-select\" data-tag-id=\"150\"> 스마트폰 </div>  <div class=\"tag-child-label has-parent can-select\" data-tag-id=\"155\"> 카메라 </div>  <div class=\"tag-child-label has-parent can-select\" data-tag-id=\"157\"> 컴퓨터 </div>  <div class=\"tag-child-label has-parent can-select\" data-tag-id=\"309\"> 게임콘솔 </div>  <div class=\"tag-child-label has-parent can-select\" data-tag-id=\"311\"> 헤드셋 </div>  <div class=\"tag-child-label has-parent can-select\" data-tag-id=\"310\"> 텔레비전 </div>  <div class=\"tag-child-label has-parent can-select\" data-tag-id=\"400\"> Smartwatch </div>  <div class=\"tag-child-label has-parent can-select\" data-tag-id=\"401\"> 전자담배 </div>  <div class=\"tag-child-label has-parent can-select\" data-tag-id=\"402\"> 충전기 &amp; 건전지 &amp; 전원 </div>  <div class=\"tag-child-label has-parent can-select\" data-tag-id=\"403\"> 전자담배 </div>  </div></div>  </div>  <div class=\"tag-label \" > 라이프스타일  <div class=\"tag-child-list-wrap\"><div class=\"tag-child-list\">  <div class=\"tag-child-label has-parent can-select\" data-tag-id=\"86\"> 라이프스타일 </div>  <div class=\"tag-child-label has-parent can-select\" data-tag-id=\"133\"> 여행 </div>  <div class=\"tag-child-label has-parent can-select\" data-tag-id=\"60\"> 음식 </div>  <div class=\"tag-child-label has-parent can-select\" data-tag-id=\"77\"> 피트니스 </div>  <div class=\"tag-child-label has-parent can-select\" data-tag-id=\"69\"> 건강 </div>  <div class=\"tag-child-label has-parent can-select\" data-tag-id=\"104\"> 스포츠 </div>  <div class=\"tag-child-label has-parent can-select\" data-tag-id=\"96\"> 애완동물 </div>  <div class=\"tag-child-label has-parent can-select\" data-tag-id=\"162\"> 키즈 </div>  <div class=\"tag-child-label has-parent can-select\" data-tag-id=\"264\"> 장난감 </div>  <div class=\"tag-child-label has-parent can-select\" data-tag-id=\"83\"> DIY </div>  <div class=\"tag-child-label has-parent can-select\" data-tag-id=\"404\"> 아웃도어 스포츠 </div>  <div class=\"tag-child-label has-parent can-select\" data-tag-id=\"91\"> Gardening </div>  <div class=\"tag-child-label has-parent can-select\" data-tag-id=\"405\"> 라이프&amp;인테리어 </div>  <div class=\"tag-child-label has-parent can-select\" data-tag-id=\"406\"> 주방 용품 </div>  <div class=\"tag-child-label has-parent can-select\" data-tag-id=\"407\"> 가구 </div>  <div class=\"tag-child-label has-parent can-select\" data-tag-id=\"99\"> Vehicles </div>  <div class=\"tag-child-label has-parent can-select\" data-tag-id=\"408\"> 쇼핑 </div>  <div class=\"tag-child-label has-parent can-select\" data-tag-id=\"409\"> 출산&amp;유아동 </div>  </div></div>  </div>  <div class=\"tag-label \" > 음악  <div class=\"tag-child-list-wrap\"><div class=\"tag-child-list\">  <div class=\"tag-child-label has-parent can-select\" data-tag-id=\"31\"> 음악 </div>  <div class=\"tag-child-label has-parent can-select\" data-tag-id=\"32\"> Rock </div>  <div class=\"tag-child-label has-parent can-select\" data-tag-id=\"34\"> 클래식 </div>  <div class=\"tag-child-label has-parent can-select\" data-tag-id=\"36\"> 일렉트로닉 </div>  <div class=\"tag-child-label has-parent can-select\" data-tag-id=\"37\"> 힙합 </div>  <div class=\"tag-child-label has-parent can-select\" data-tag-id=\"42\"> 팝송 </div>  </div></div>  </div>  <div class=\"tag-label \" > 엔터테인먼트  <div class=\"tag-child-list-wrap\"><div class=\"tag-child-list\">  <div class=\"tag-child-label has-parent can-select\" data-tag-id=\"125\"> 엔터테인먼트 </div>  <div class=\"tag-child-label has-parent can-select\" data-tag-id=\"126\"> 영화 </div>  <div class=\"tag-child-label has-parent can-select\" data-tag-id=\"128\"> 만화 </div>  <div class=\"tag-child-label has-parent can-select\" data-tag-id=\"129\"> 유머 </div>  <div class=\"tag-child-label has-parent can-select\" data-tag-id=\"132\"> 방송 </div>  <div class=\"tag-child-label has-parent can-select\" data-tag-id=\"304\"> 다큐먼터리 </div>  </div></div>  </div>  <div class=\"tag-label \" > 언박싱  <div class=\"tag-child-list-wrap\"><div class=\"tag-child-list\">  <div class=\"tag-child-label has-parent can-select\" data-tag-id=\"305\"> 언박싱 </div>  </div></div>  </div>  <div class=\"tag-label \" > ASMR  <div class=\"tag-child-list-wrap\"><div class=\"tag-child-list\">  <div class=\"tag-child-label has-parent can-select\" data-tag-id=\"306\"> ASMR </div>  </div></div>  </div>  <div class=\"tag-label \" > 브이로그  <div class=\"tag-child-list-wrap\"><div class=\"tag-child-list\">  <div class=\"tag-child-label has-parent can-select\" data-tag-id=\"307\"> 브이로그 </div>  </div></div>  </div>  <div class=\"tag-label \" > 과학기술  <div class=\"tag-child-list-wrap\"><div class=\"tag-child-list\">  <div class=\"tag-child-label has-parent can-select\" data-tag-id=\"312\"> 과학기술 </div>  </div></div>  </div>  <div class=\"tag-label \" > 교육  <div class=\"tag-child-list-wrap\"><div class=\"tag-child-list\">  <div class=\"tag-child-label has-parent can-select\" data-tag-id=\"165\"> 교육 </div>  </div></div>  </div>  <div class=\"tag-label \" > 금융  <div class=\"tag-child-list-wrap\"><div class=\"tag-child-list\">  <div class=\"tag-child-label has-parent can-select\" data-tag-id=\"410\"> 금융 </div>  </div></div>  </div>  </div></div></div></div></div>  <div class=\"select-wrap\"><select name=\"category-filter\" id=\"category-filter-select\" class=\"select\">  <option value=\"0\"> YouTube카테고리 </option>  <option value=\"1\"> 영화/애니메이션 </option>  <option value=\"2\"> 자동차 </option>  <option value=\"10\"> 음악 </option>  <option value=\"15\"> 동물 </option>  <option value=\"17\"> 스포츠 </option>  <option value=\"19\"> 여행/이벤트 </option>  <option value=\"20\"> 게임 </option>  <option value=\"22\"> 인물/블로그 </option>  <option value=\"24\"> 엔터테인먼트 </option>  <option value=\"25\"> 뉴스/정치 </option>  <option value=\"26\"> 노하우/스타일 </option>  <option value=\"27\"> 교육 </option>  <option value=\"28\"> 과학기술 </option>  <option value=\"29\"> 봉사활동 </option>  <option value=\"34\"> 코미디 </option>  <option value=\"43\"> 프로그램 </option>  <option value=\"44\"> 예고편 </option>  </select></div>   </div></div><div class=\"result-table-wrap\"><div class=\"table-header clearfix\"><span class=\"rank-cell pull-left rank-number\">&nbsp;</span> <span class=\"rank-cell pull-left rank-desc\">기본 정보</span><span class=\"rank-cell pull-left rank-category\"  id=\"rank-category\">YouTube카테고리</span><span class=\"rank-cell pull-left rank-subs\"> 구독자 <i data-original-title=\"지난주의 같은 요일 대비\" data-toggle=\"tooltip\" data-container=\"body\"  class=\"kolicon kol-icon-question-circle-filled\"></i> </span><span class=\"rank-cell pull-left rank-avg-view\"><span class=\"rank-avg-view-header\">  평균 조회수  </span><i data-original-title=\"지난주의 같은 요일 대비\" data-toggle=\"tooltip\" data-container=\"body\"  class=\"kolicon kol-icon-question-circle-filled\"></i> </span><span class=\"rank-cell pull-left rank-score\">NoxScore</span></div><div class=\"table-body\" id=\"table-body\">  <div class=\"table-line clearfix\"><span class=\"rank-cell pull-left rank-number\"><span class=\"number number-bold number-1\">1</span><span class=\"change change-1 none\">  -    </span></span><span class=\"rank-cell pull-left rank-desc\"><a class=\"link clearfix\" href=\"/youtube/channel/UCOmHUn--16B90oW2L6FRR3A\"><img src=\"https://res-kol.noxgroup.com/noxinfluencer/youtube/avatar/fb1835125cd27f97705ebfa63c3ede27.png\" class=\"avatar pull-left\" onerror=\"this.src = \\'https://res06.bignox.com/s3group/player/launch/2020/08/26/d6de214734f247f2a884b6838825e49b.svg\\'\"> <span class=\"title pull-left ellipsis\">BLACKPINK</span></a></span>  <span class=\"rank-cell pull-left rank-category\">  <a href=\"/youtube-channel-rank/top-100-kr-music-youtuber-sorted-by-subs-weekly\" class=\"category\">음악</a>  </span>  <span class=\"rank-cell pull-left rank-subs\"><span class=\"number\">9310만</span><span class=\"change none\">  -    </span></span><span class=\"rank-cell pull-left rank-avg-view\">  <span class=\"number\">915.16만</span>   <span class=\"change up\">    <span class=\"kolicon kol-icon-point-up\"></span> 100%  </span>  </span><span class=\"rank-cell pull-left rank-score\"> <i class=\"kol-icon kol-icon-star-full\"></i><i class=\"kol-icon kol-icon-star-full\"></i><i class=\"kol-icon kol-icon-star-full\"></i><i class=\"kol-icon kol-icon-star-full\"></i><i class=\"kol-icon kol-icon-star-full\"></i> </span></div>  <div class=\"table-line clearfix\"><span class=\"rank-cell pull-left rank-number\"><span class=\"number number-bold number-2\">2</span><span class=\"change change-2 none\">  -    </span></span><span class=\"rank-cell pull-left rank-desc\"><a class=\"link clearfix\" href=\"/youtube/channel/UCLkAepWjdylmXSltofFvsYQ\"><img src=\"https://res-kol.noxgroup.com/noxinfluencer/youtube/avatar/b55c6f4292f7272b7f4b15f3a35489b8.png\" class=\"avatar pull-left\" onerror=\"this.src = \\'https://res06.bignox.com/s3group/player/launch/2020/08/26/d6de214734f247f2a884b6838825e49b.svg\\'\"> <span class=\"title pull-left ellipsis\">BANGTANTV</span></a></span>  <span class=\"rank-cell pull-left rank-category\">  <a href=\"/youtube-channel-rank/top-100-kr-music-youtuber-sorted-by-subs-weekly\" class=\"category\">음악</a>  </span>  <span class=\"rank-cell pull-left rank-subs\"><span class=\"number\">7760만</span><span class=\"change up\">    <span class=\"kolicon kol-icon-point-up\"></span> 0.1%  </span></span><span class=\"rank-cell pull-left rank-avg-view\">  <span class=\"number\">104.68만</span>   <span class=\"change down\">   <span class=\"kolicon kol-icon-point-down\"></span> 16.7%   </span>  </span><span class=\"rank-cell pull-left rank-score\"> <i class=\"kol-icon kol-icon-star-full\"></i><i class=\"kol-icon kol-icon-star-full\"></i><i class=\"kol-icon kol-icon-star-full\"></i><i class=\"kol-icon kol-icon-star-full\"></i><i class=\"kol-icon kol-icon-star-empty\"></i> </span></div>  <div class=\"table-line clearfix\"><span class=\"rank-cell pull-left rank-number\"><span class=\"number number-bold number-3\">3</span><span class=\"change change-3 none\">  -    </span></span><span class=\"rank-cell pull-left rank-desc\"><a class=\"link clearfix\" href=\"/youtube/channel/UC3IZKseVpdzPSBaWxBxundA\"><img src=\"https://res-kol.noxgroup.com/noxinfluencer/youtube/avatar/08edf64b08a460b2d7ef1fc6b83e3bcf.png\" class=\"avatar pull-left\" onerror=\"this.src = \\'https://res06.bignox.com/s3group/player/launch/2020/08/26/d6de214734f247f2a884b6838825e49b.svg\\'\"> <span class=\"title pull-left ellipsis\">HYBE LABELS</span></a></span>  <span class=\"rank-cell pull-left rank-category\">  <a href=\"/youtube-channel-rank/top-100-kr-music-youtuber-sorted-by-subs-weekly\" class=\"category\">음악</a>  </span>  <span class=\"rank-cell pull-left rank-subs\"><span class=\"number\">7410만</span><span class=\"change up\">    <span class=\"kolicon kol-icon-point-up\"></span> 0.1%  </span></span><span class=\"rank-cell pull-left rank-avg-view\">  <span class=\"number\">76.39만</span>   <span class=\"change up\">    <span class=\"kolicon kol-icon-point-up\"></span> 7.3%  </span>  </span><span class=\"rank-cell pull-left rank-score\"> <i class=\"kol-icon kol-icon-star-full\"></i><i class=\"kol-icon kol-icon-star-full\"></i><i class=\"kol-icon kol-icon-star-full\"></i><i class=\"kol-icon kol-icon-star-full\"></i><i class=\"kol-icon kol-icon-star-half\"></i> </span></div>  <div class=\"table-line clearfix\"><span class=\"rank-cell pull-left rank-number\"><span class=\"number number-bold number-4\">4</span><span class=\"change change-4 none\">  -    </span></span><span class=\"rank-cell pull-left rank-desc\"><a class=\"link clearfix\" href=\"/youtube/channel/UCiVs2pnGW5mLIc1jS2nxhjg\"><img src=\"https://res-kol.noxgroup.com/noxinfluencer/youtube/avatar/664f1229ce7f2469b34803ca5d230e5f.png\" class=\"avatar pull-left\" onerror=\"this.src = \\'https://res06.bignox.com/s3group/player/launch/2020/08/26/d6de214734f247f2a884b6838825e49b.svg\\'\"> <span class=\"title pull-left ellipsis\">김프로KIMPRO</span></a></span>  <span class=\"rank-cell pull-left rank-category\">  <a href=\"/youtube-channel-rank/top-100-kr-people &amp; blogs-youtuber-sorted-by-subs-weekly\" class=\"category\">인물/블로그</a>  </span>  <span class=\"rank-cell pull-left rank-subs\"><span class=\"number\">3420만</span><span class=\"change up\">    <span class=\"kolicon kol-icon-point-up\"></span> 1.2%  </span></span><span class=\"rank-cell pull-left rank-avg-view\">  <span class=\"number\">96.69만</span>   <span class=\"change up\">    <span class=\"kolicon kol-icon-point-up\"></span> 84.4%  </span>  </span><span class=\"rank-cell pull-left rank-score\"> <i class=\"kol-icon kol-icon-star-full\"></i><i class=\"kol-icon kol-icon-star-full\"></i><i class=\"kol-icon kol-icon-star-full\"></i><i class=\"kol-icon kol-icon-star-full\"></i><i class=\"kol-icon kol-icon-star-half\"></i> </span></div>  <div class=\"table-line clearfix\"><span class=\"rank-cell pull-left rank-number\"><span class=\"number number-bold number-5\">5</span><span class=\"change change-5 none\">  -    </span></span><span class=\"rank-cell pull-left rank-desc\"><a class=\"link clearfix\" href=\"/youtube/channel/UCEf_Bc-KVd7onSeifS3py9g\"><img src=\"https://res-kol.noxgroup.com/noxinfluencer/youtube/avatar/38e3d45d6a52eb22827c42571a08059b.png\" class=\"avatar pull-left\" onerror=\"this.src = \\'https://res06.bignox.com/s3group/player/launch/2020/08/26/d6de214734f247f2a884b6838825e49b.svg\\'\"> <span class=\"title pull-left ellipsis\">SMTOWN</span></a></span>  <span class=\"rank-cell pull-left rank-category\">  <a href=\"/youtube-channel-rank/top-100-kr-music-youtuber-sorted-by-subs-weekly\" class=\"category\">음악</a>  </span>  <span class=\"rank-cell pull-left rank-subs\"><span class=\"number\">3240만</span><span class=\"change none\">  -    </span></span><span class=\"rank-cell pull-left rank-avg-view\">  <span class=\"number\">175.18만</span>   <span class=\"change down\">   <span class=\"kolicon kol-icon-point-down\"></span> 14%   </span>  </span><span class=\"rank-cell pull-left rank-score\"> <i class=\"kol-icon kol-icon-star-full\"></i><i class=\"kol-icon kol-icon-star-full\"></i><i class=\"kol-icon kol-icon-star-full\"></i><i class=\"kol-icon kol-icon-star-half\"></i><i class=\"kol-icon kol-icon-star-empty\"></i> </span></div>  <div class=\"table-line clearfix\"><span class=\"rank-cell pull-left rank-number\"><span class=\"number number-bold number-6\">6</span><span class=\"change change-6 none\">  -    </span></span><span class=\"rank-cell pull-left rank-desc\"><a class=\"link clearfix\" href=\"/youtube/channel/UCaO6TYtlC8U5ttz62hTrZgg\"><img src=\"https://res-kol.noxgroup.com/noxinfluencer/youtube/avatar/10b3d95bc49e25ec06d3df2ff7690730.png\" class=\"avatar pull-left\" onerror=\"this.src = \\'https://res06.bignox.com/s3group/player/launch/2020/08/26/d6de214734f247f2a884b6838825e49b.svg\\'\"> <span class=\"title pull-left ellipsis\">JYP Entertainment</span></a></span>  <span class=\"rank-cell pull-left rank-category\">  <a href=\"/youtube-channel-rank/top-100-kr-music-youtuber-sorted-by-subs-weekly\" class=\"category\">음악</a>  </span>  <span class=\"rank-cell pull-left rank-subs\"><span class=\"number\">2880만</span><span class=\"change none\">  -    </span></span><span class=\"rank-cell pull-left rank-avg-view\">  <span class=\"number\">246.37만</span>   <span class=\"change down\">   <span class=\"kolicon kol-icon-point-down\"></span> 24.6%   </span>  </span><span class=\"rank-cell pull-left rank-score\"> <i class=\"kol-icon kol-icon-star-full\"></i><i class=\"kol-icon kol-icon-star-full\"></i><i class=\"kol-icon kol-icon-star-full\"></i><i class=\"kol-icon kol-icon-star-full\"></i><i class=\"kol-icon kol-icon-star-empty\"></i> </span></div>  <div class=\"table-line clearfix\"><span class=\"rank-cell pull-left rank-number\"><span class=\"number number-bold number-7\">7</span><span class=\"change change-7 none\">  -    </span></span><span class=\"rank-cell pull-left rank-desc\"><a class=\"link clearfix\" href=\"/youtube/channel/UCdX5KXiCTPYWYZscfphgQ4g\"><img src=\"https://res-kol.noxgroup.com/noxinfluencer/youtube/avatar/eef45ba0835b8e9ca10a353e019688ce.png\" class=\"avatar pull-left\" onerror=\"this.src = \\'https://res06.bignox.com/s3group/player/launch/2020/08/26/d6de214734f247f2a884b6838825e49b.svg\\'\"> <span class=\"title pull-left ellipsis\">BeatboxJCOP</span></a></span>  <span class=\"rank-cell pull-left rank-category\">  <a href=\"/youtube-channel-rank/top-100-kr-entertainment-youtuber-sorted-by-subs-weekly\" class=\"category\">엔터테인먼트</a>  </span>  <span class=\"rank-cell pull-left rank-subs\"><span class=\"number\">2800만</span><span class=\"change up\">    <span class=\"kolicon kol-icon-point-up\"></span> 0.7%  </span></span><span class=\"rank-cell pull-left rank-avg-view\">  <span class=\"number\">533.43만</span>   <span class=\"change up\">    <span class=\"kolicon kol-icon-point-up\"></span> 11.2%  </span>  </span><span class=\"rank-cell pull-left rank-score\"> <i class=\"kol-icon kol-icon-star-full\"></i><i class=\"kol-icon kol-icon-star-full\"></i><i class=\"kol-icon kol-icon-star-full\"></i><i class=\"kol-icon kol-icon-star-empty\"></i><i class=\"kol-icon kol-icon-star-empty\"></i> </span></div>  <div class=\"table-line clearfix\"><span class=\"rank-cell pull-left rank-number\"><span class=\"number number-bold number-8\">8</span><span class=\"change change-8 none\">  -    </span></span><span class=\"rank-cell pull-left rank-desc\"><a class=\"link clearfix\" href=\"/youtube/channel/UCKqx9r4mrFglauNBJc1L_eg\"><img src=\"https://res-kol.noxgroup.com/noxinfluencer/youtube/avatar/890331fed23b750f8a4176b58de409ec.png\" class=\"avatar pull-left\" onerror=\"this.src = \\'https://res06.bignox.com/s3group/player/launch/2020/08/26/d6de214734f247f2a884b6838825e49b.svg\\'\"> <span class=\"title pull-left ellipsis\">ToyPuddingTV</span></a></span>  <span class=\"rank-cell pull-left rank-category\">  <a href=\"/youtube-channel-rank/top-100-kr-entertainment-youtuber-sorted-by-subs-weekly\" class=\"category\">엔터테인먼트</a>  </span>  <span class=\"rank-cell pull-left rank-subs\"><span class=\"number\">2720만</span><span class=\"change none\">  -    </span></span><span class=\"rank-cell pull-left rank-avg-view\">  <span class=\"number\">3.59만</span>   <span class=\"change up\">    <span class=\"kolicon kol-icon-point-up\"></span> 0.7%  </span>  </span><span class=\"rank-cell pull-left rank-score\"> <i class=\"kol-icon kol-icon-star-full\"></i><i class=\"kol-icon kol-icon-star-full\"></i><i class=\"kol-icon kol-icon-star-empty\"></i><i class=\"kol-icon kol-icon-star-empty\"></i><i class=\"kol-icon kol-icon-star-empty\"></i> </span></div>  <div class=\"table-line clearfix\"><span class=\"rank-cell pull-left rank-number\"><span class=\"number number-bold number-9\">9</span><span class=\"change change-9 none\">  -    </span></span><span class=\"rank-cell pull-left rank-desc\"><a class=\"link clearfix\" href=\"/youtube/channel/UCw8ZhLPdQ0u_Y-TLKd61hGA\"><img src=\"https://res-kol.noxgroup.com/noxinfluencer/youtube/avatar/d534438858b9be7a55aabccfa5ff050a.png\" class=\"avatar pull-left\" onerror=\"this.src = \\'https://res06.bignox.com/s3group/player/launch/2020/08/26/d6de214734f247f2a884b6838825e49b.svg\\'\"> <span class=\"title pull-left ellipsis\">1MILLION Dance Studio</span></a></span>  <span class=\"rank-cell pull-left rank-category\">  <a href=\"/youtube-channel-rank/top-100-kr-entertainment-youtuber-sorted-by-subs-weekly\" class=\"category\">엔터테인먼트</a>  </span>  <span class=\"rank-cell pull-left rank-subs\"><span class=\"number\">2630만</span><span class=\"change none\">  -    </span></span><span class=\"rank-cell pull-left rank-avg-view\">  <span class=\"number\">1.79만</span>   <span class=\"change down\">   <span class=\"kolicon kol-icon-point-down\"></span> 10.1%   </span>  </span><span class=\"rank-cell pull-left rank-score\"> <i class=\"kol-icon kol-icon-star-full\"></i><i class=\"kol-icon kol-icon-star-full\"></i><i class=\"kol-icon kol-icon-star-half\"></i><i class=\"kol-icon kol-icon-star-empty\"></i><i class=\"kol-icon kol-icon-star-empty\"></i> </span></div>  <div class=\"table-line clearfix\"><span class=\"rank-cell pull-left rank-number\"><span class=\"number number-bold number-10\">10</span><span class=\"change change-10 none\">  -    </span></span><span class=\"rank-cell pull-left rank-desc\"><a class=\"link clearfix\" href=\"/youtube/channel/UCweOkPb1wVVH0Q0Tlj4a5Pw\"><img src=\"https://res-kol.noxgroup.com/noxinfluencer/youtube/avatar/75275cd919286581fef42e534d90e3f2.png\" class=\"avatar pull-left\" onerror=\"this.src = \\'https://res06.bignox.com/s3group/player/launch/2020/08/26/d6de214734f247f2a884b6838825e49b.svg\\'\"> <span class=\"title pull-left ellipsis\">1theK (원더케이)</span></a></span>  <span class=\"rank-cell pull-left rank-category\">  <a href=\"/youtube-channel-rank/top-100-kr-music-youtuber-sorted-by-subs-weekly\" class=\"category\">음악</a>  </span>  <span class=\"rank-cell pull-left rank-subs\"><span class=\"number\">2470만</span><span class=\"change none\">  -    </span></span><span class=\"rank-cell pull-left rank-avg-view\">  <span class=\"number\">60.08만</span>   <span class=\"change up\">    <span class=\"kolicon kol-icon-point-up\"></span> 2711.5%  </span>  </span><span class=\"rank-cell pull-left rank-score\"> <i class=\"kol-icon kol-icon-star-full\"></i><i class=\"kol-icon kol-icon-star-full\"></i><i class=\"kol-icon kol-icon-star-full\"></i><i class=\"kol-icon kol-icon-star-empty\"></i><i class=\"kol-icon kol-icon-star-empty\"></i> </span></div>  <div class=\"table-line clearfix\"><span class=\"rank-cell pull-left rank-number\"><span class=\"number number-bold number-11\">11</span><span class=\"change change-11 none\">  -    </span></span><span class=\"rank-cell pull-left rank-desc\"><a class=\"link clearfix\" href=\"/youtube/channel/UCkLNHZZsC3LKdUAroKNwOOw\"><img src=\"https://res-kol.noxgroup.com/noxinfluencer/youtube/avatar/975567e0a033605ed24c5d6bf5d85315.png\" class=\"avatar pull-left\" onerror=\"this.src = \\'https://res06.bignox.com/s3group/player/launch/2020/08/26/d6de214734f247f2a884b6838825e49b.svg\\'\"> <span class=\"title pull-left ellipsis\">CuRe 구래</span></a></span>  <span class=\"rank-cell pull-left rank-category\">  <a href=\"/youtube-channel-rank/top-100-kr-comedy-youtuber-sorted-by-subs-weekly\" class=\"category\">코미디</a>  </span>  <span class=\"rank-cell pull-left rank-subs\"><span class=\"number\">2110만</span><span class=\"change up\">    <span class=\"kolicon kol-icon-point-up\"></span> 0.5%  </span></span><span class=\"rank-cell pull-left rank-avg-view\">  <span class=\"number\">0</span>   <span class=\"change down\">   <span class=\"kolicon kol-icon-point-down\"></span> 100%   </span>  </span><span class=\"rank-cell pull-left rank-score\"> <i class=\"kol-icon kol-icon-star-full\"></i><i class=\"kol-icon kol-icon-star-full\"></i><i class=\"kol-icon kol-icon-star-full\"></i><i class=\"kol-icon kol-icon-star-full\"></i><i class=\"kol-icon kol-icon-star-half\"></i> </span></div>  <div class=\"table-line clearfix\"><span class=\"rank-cell pull-left rank-number\"><span class=\"number number-bold number-12\">12</span><span class=\"change change-12 none\">  -    </span></span><span class=\"rank-cell pull-left rank-desc\"><a class=\"link clearfix\" href=\"/youtube/channel/UCbD8EppRX3ZwJSou-TVo90A\"><img src=\"https://res-kol.noxgroup.com/noxinfluencer/youtube/avatar/e2234f0ea385b6699bcfca06e29608b9.png\" class=\"avatar pull-left\" onerror=\"this.src = \\'https://res06.bignox.com/s3group/player/launch/2020/08/26/d6de214734f247f2a884b6838825e49b.svg\\'\"> <span class=\"title pull-left ellipsis\">Mnet K-POP</span></a></span>  <span class=\"rank-cell pull-left rank-category\">  <a href=\"/youtube-channel-rank/top-100-kr-gaming-youtuber-sorted-by-subs-weekly\" class=\"category\">게임</a>  </span>  <span class=\"rank-cell pull-left rank-subs\"><span class=\"number\">2080만</span><span class=\"change none\">  -    </span></span><span class=\"rank-cell pull-left rank-avg-view\">  <span class=\"number\">7112</span>   <span class=\"change down\">   <span class=\"kolicon kol-icon-point-down\"></span> 63.6%   </span>  </span><span class=\"rank-cell pull-left rank-score\"> <i class=\"kol-icon kol-icon-star-full\"></i><i class=\"kol-icon kol-icon-star-full\"></i><i class=\"kol-icon kol-icon-star-full\"></i><i class=\"kol-icon kol-icon-star-empty\"></i><i class=\"kol-icon kol-icon-star-empty\"></i> </span></div>  <div class=\"table-line clearfix\"><span class=\"rank-cell pull-left rank-number\"><span class=\"number number-bold number-13\">13</span><span class=\"change change-13 none\">  -    </span></span><span class=\"rank-cell pull-left rank-desc\"><a class=\"link clearfix\" href=\"/youtube/channel/UCPhHBEtG6dVZ5fJKoNArcJw\"><img src=\"https://res-kol.noxgroup.com/noxinfluencer/youtube/avatar/dd67214b01233f7e68856fb4ab66d017.png\" class=\"avatar pull-left\" onerror=\"this.src = \\'https://res06.bignox.com/s3group/player/launch/2020/08/26/d6de214734f247f2a884b6838825e49b.svg\\'\"> <span class=\"title pull-left ellipsis\">승비니 Seungbini</span></a></span>  <span class=\"rank-cell pull-left rank-category\">  <a href=\"/youtube-channel-rank/top-100-kr-people &amp; blogs-youtuber-sorted-by-subs-weekly\" class=\"category\">인물/블로그</a>  </span>  <span class=\"rank-cell pull-left rank-subs\"><span class=\"number\">2010만</span><span class=\"change up\">    <span class=\"kolicon kol-icon-point-up\"></span> 1%  </span></span><span class=\"rank-cell pull-left rank-avg-view\">  <span class=\"number\">1069.42만</span>   <span class=\"change up\">    <span class=\"kolicon kol-icon-point-up\"></span> 10.4%  </span>  </span><span class=\"rank-cell pull-left rank-score\"> <i class=\"kol-icon kol-icon-star-full\"></i><i class=\"kol-icon kol-icon-star-full\"></i><i class=\"kol-icon kol-icon-star-full\"></i><i class=\"kol-icon kol-icon-star-full\"></i><i class=\"kol-icon kol-icon-star-half\"></i> </span></div>  <div class=\"table-line clearfix\"><span class=\"rank-cell pull-left rank-number\"><span class=\"number number-bold number-14\">14</span><span class=\"change change-14 none\">  -    </span></span><span class=\"rank-cell pull-left rank-desc\"><a class=\"link clearfix\" href=\"/youtube/channel/UC5BMQOsAB8hKUyHu9KI6yig\"><img src=\"https://res-kol.noxgroup.com/noxinfluencer/youtube/avatar/0a599aa9f2f076db4a163da645601b52.png\" class=\"avatar pull-left\" onerror=\"this.src = \\'https://res06.bignox.com/s3group/player/launch/2020/08/26/d6de214734f247f2a884b6838825e49b.svg\\'\"> <span class=\"title pull-left ellipsis\">KBS WORLD TV</span></a></span>  <span class=\"rank-cell pull-left rank-category\">  <a href=\"/youtube-channel-rank/top-100-kr-entertainment-youtuber-sorted-by-subs-weekly\" class=\"category\">엔터테인먼트</a>  </span>  <span class=\"rank-cell pull-left rank-subs\"><span class=\"number\">1950만</span><span class=\"change none\">  -    </span></span><span class=\"rank-cell pull-left rank-avg-view\">  <span class=\"number\">3679</span>   <span class=\"change down\">   <span class=\"kolicon kol-icon-point-down\"></span> 83.2%   </span>  </span><span class=\"rank-cell pull-left rank-score\"> <i class=\"kol-icon kol-icon-star-full\"></i><i class=\"kol-icon kol-icon-star-full\"></i><i class=\"kol-icon kol-icon-star-half\"></i><i class=\"kol-icon kol-icon-star-empty\"></i><i class=\"kol-icon kol-icon-star-empty\"></i> </span></div>  <div class=\"table-line clearfix\"><span class=\"rank-cell pull-left rank-number\"><span class=\"number number-bold number-15\">15</span><span class=\"change change-15 none\">  -    </span></span><span class=\"rank-cell pull-left rank-desc\"><a class=\"link clearfix\" href=\"/youtube/channel/UCrDkAvwZum-UTjHmzDI2iIw\"><img src=\"https://res-kol.noxgroup.com/noxinfluencer/youtube/avatar/a1f87df90e50ed3414e7c59e252bded0.png\" class=\"avatar pull-left\" onerror=\"this.src = \\'https://res06.bignox.com/s3group/player/launch/2020/08/26/d6de214734f247f2a884b6838825e49b.svg\\'\"> <span class=\"title pull-left ellipsis\">officialpsy</span></a></span>  <span class=\"rank-cell pull-left rank-category\">  <a href=\"/youtube-channel-rank/top-100-kr-music-youtuber-sorted-by-subs-weekly\" class=\"category\">음악</a>  </span>  <span class=\"rank-cell pull-left rank-subs\"><span class=\"number\">1860만</span><span class=\"change none\">  -    </span></span><span class=\"rank-cell pull-left rank-avg-view\">  <span class=\"number\">550.65만</span>   <span class=\"change up\">    <span class=\"kolicon kol-icon-point-up\"></span> 0.6%  </span>  </span><span class=\"rank-cell pull-left rank-score\"> <i class=\"kol-icon kol-icon-star-half\"></i><i class=\"kol-icon kol-icon-star-empty\"></i><i class=\"kol-icon kol-icon-star-empty\"></i><i class=\"kol-icon kol-icon-star-empty\"></i><i class=\"kol-icon kol-icon-star-empty\"></i> </span></div>  <div class=\"table-line clearfix\"><span class=\"rank-cell pull-left rank-number\"><span class=\"number number-bold number-16\">16</span><span class=\"change change-16 none\">  -    </span></span><span class=\"rank-cell pull-left rank-desc\"><a class=\"link clearfix\" href=\"/youtube/channel/UCdrBnBNLsN4_cH32HWbr9qg\"><img src=\"https://res-kol.noxgroup.com/noxinfluencer/youtube/avatar/60d79437003bef2ed9d3a2a01c875dac.png\" class=\"avatar pull-left\" onerror=\"this.src = \\'https://res06.bignox.com/s3group/player/launch/2020/08/26/d6de214734f247f2a884b6838825e49b.svg\\'\"> <span class=\"title pull-left ellipsis\">GH&#x27;S</span></a></span>  <span class=\"rank-cell pull-left rank-category\">  <a href=\"/youtube-channel-rank/top-100-kr-gaming-youtuber-sorted-by-subs-weekly\" class=\"category\">게임</a>  </span>  <span class=\"rank-cell pull-left rank-subs\"><span class=\"number\">1850만</span><span class=\"change up\">    <span class=\"kolicon kol-icon-point-up\"></span> 1.7%  </span></span><span class=\"rank-cell pull-left rank-avg-view\">  <span class=\"number\">1472.74만</span>   <span class=\"change up\">    <span class=\"kolicon kol-icon-point-up\"></span> 8.9%  </span>  </span><span class=\"rank-cell pull-left rank-score\"> <i class=\"kol-icon kol-icon-star-full\"></i><i class=\"kol-icon kol-icon-star-full\"></i><i class=\"kol-icon kol-icon-star-full\"></i><i class=\"kol-icon kol-icon-star-full\"></i><i class=\"kol-icon kol-icon-star-half\"></i> </span></div>  <div class=\"table-line clearfix\"><span class=\"rank-cell pull-left rank-number\"><span class=\"number number-bold number-17\">17</span><span class=\"change change-17 none\">  -    </span></span><span class=\"rank-cell pull-left rank-desc\"><a class=\"link clearfix\" href=\"/youtube/channel/UC2fsxQr6Hcx1enORxXgKpxQ\"><img src=\"https://res-kol.noxgroup.com/noxinfluencer/youtube/avatar/017ad943da9d9d1c7ca87967da6847ea.png\" class=\"avatar pull-left\" onerror=\"this.src = \\'https://res06.bignox.com/s3group/player/launch/2020/08/26/d6de214734f247f2a884b6838825e49b.svg\\'\"> <span class=\"title pull-left ellipsis\">Jane ASMR 제인</span></a></span>  <span class=\"rank-cell pull-left rank-category\">  <a href=\"/youtube-channel-rank/top-100-kr-people &amp; blogs-youtuber-sorted-by-subs-weekly\" class=\"category\">인물/블로그</a>  </span>  <span class=\"rank-cell pull-left rank-subs\"><span class=\"number\">1790만</span><span class=\"change up\">    <span class=\"kolicon kol-icon-point-up\"></span> 0.6%  </span></span><span class=\"rank-cell pull-left rank-avg-view\">  <span class=\"number\">12.55만</span>   <span class=\"change down\">   <span class=\"kolicon kol-icon-point-down\"></span> 0%   </span>  </span><span class=\"rank-cell pull-left rank-score\"> <i class=\"kol-icon kol-icon-star-full\"></i><i class=\"kol-icon kol-icon-star-full\"></i><i class=\"kol-icon kol-icon-star-half\"></i><i class=\"kol-icon kol-icon-star-empty\"></i><i class=\"kol-icon kol-icon-star-empty\"></i> </span></div>  <div class=\"table-line clearfix\"><span class=\"rank-cell pull-left rank-number\"><span class=\"number number-bold number-18\">18</span><span class=\"change change-18 none\">  -    </span></span><span class=\"rank-cell pull-left rank-desc\"><a class=\"link clearfix\" href=\"/youtube/channel/UClkRzsdvg7_RKVhwDwiDZOA\"><img src=\"https://res-kol.noxgroup.com/noxinfluencer/youtube/avatar/06f53497a8367847a151df7e3ab97c20.png\" class=\"avatar pull-left\" onerror=\"this.src = \\'https://res06.bignox.com/s3group/player/launch/2020/08/26/d6de214734f247f2a884b6838825e49b.svg\\'\"> <span class=\"title pull-left ellipsis\">JFlaMusic</span></a></span>  <span class=\"rank-cell pull-left rank-category\">  <a href=\"/youtube-channel-rank/top-100-kr-music-youtuber-sorted-by-subs-weekly\" class=\"category\">음악</a>  </span>  <span class=\"rank-cell pull-left rank-subs\"><span class=\"number\">1750만</span><span class=\"change none\">  -    </span></span><span class=\"rank-cell pull-left rank-avg-view\">  <span class=\"number\">15.31만</span>   <span class=\"change down\">   <span class=\"kolicon kol-icon-point-down\"></span> 2.4%   </span>  </span><span class=\"rank-cell pull-left rank-score\"> <i class=\"kol-icon kol-icon-star-full\"></i><i class=\"kol-icon kol-icon-star-half\"></i><i class=\"kol-icon kol-icon-star-empty\"></i><i class=\"kol-icon kol-icon-star-empty\"></i><i class=\"kol-icon kol-icon-star-empty\"></i> </span></div>  <div class=\"table-line clearfix\"><span class=\"rank-cell pull-left rank-number\"><span class=\"number number-bold number-19\">19</span><span class=\"change change-19 none\">  -    </span></span><span class=\"rank-cell pull-left rank-desc\"><a class=\"link clearfix\" href=\"/youtube/channel/UCP-Ng5SXUEt0VE-TXqRdL6g\"><img src=\"https://res-kol.noxgroup.com/noxinfluencer/youtube/avatar/0c013aeb2df4d5042f281557b0fb67ae.png\" class=\"avatar pull-left\" onerror=\"this.src = \\'https://res06.bignox.com/s3group/player/launch/2020/08/26/d6de214734f247f2a884b6838825e49b.svg\\'\"> <span class=\"title pull-left ellipsis\">LEGO</span></a></span>  <span class=\"rank-cell pull-left rank-category\">  <a href=\"/youtube-channel-rank/top-100-kr-film &amp; animation-youtuber-sorted-by-subs-weekly\" class=\"category\">영화/애니메이션</a>  </span>  <span class=\"rank-cell pull-left rank-subs\"><span class=\"number\">1750만</span><span class=\"change none\">  -    </span></span><span class=\"rank-cell pull-left rank-avg-view\">  <span class=\"number\">3765</span>   <span class=\"change down\">   <span class=\"kolicon kol-icon-point-down\"></span> 43.4%   </span>  </span><span class=\"rank-cell pull-left rank-score\"> <i class=\"kol-icon kol-icon-star-full\"></i><i class=\"kol-icon kol-icon-star-full\"></i><i class=\"kol-icon kol-icon-star-empty\"></i><i class=\"kol-icon kol-icon-star-empty\"></i><i class=\"kol-icon kol-icon-star-empty\"></i> </span></div>  <div class=\"table-line clearfix\"><span class=\"rank-cell pull-left rank-number\"><span class=\"number number-bold number-20\">20</span><span class=\"change change-20 none\">  -    </span></span><span class=\"rank-cell pull-left rank-desc\"><a class=\"link clearfix\" href=\"/youtube/channel/UCzgxx_DM2Dcb9Y1spb9mUJA\"><img src=\"https://res-kol.noxgroup.com/noxinfluencer/youtube/avatar/50af36d7f94fbaaa38221a0c64ade59b.png\" class=\"avatar pull-left\" onerror=\"this.src = \\'https://res06.bignox.com/s3group/player/launch/2020/08/26/d6de214734f247f2a884b6838825e49b.svg\\'\"> <span class=\"title pull-left ellipsis\">TWICE</span></a></span>  <span class=\"rank-cell pull-left rank-category\">  <a href=\"/youtube-channel-rank/top-100-kr-music-youtuber-sorted-by-subs-weekly\" class=\"category\">음악</a>  </span>  <span class=\"rank-cell pull-left rank-subs\"><span class=\"number\">1690만</span><span class=\"change none\">  -    </span></span><span class=\"rank-cell pull-left rank-avg-view\">  <span class=\"number\">68.21만</span>   <span class=\"change up\">    <span class=\"kolicon kol-icon-point-up\"></span> 63.4%  </span>  </span><span class=\"rank-cell pull-left rank-score\"> <i class=\"kol-icon kol-icon-star-full\"></i><i class=\"kol-icon kol-icon-star-full\"></i><i class=\"kol-icon kol-icon-star-full\"></i><i class=\"kol-icon kol-icon-star-half\"></i><i class=\"kol-icon kol-icon-star-empty\"></i> </span></div>  <div class=\"table-line clearfix\"><span class=\"rank-cell pull-left rank-number\"><span class=\"number number-bold number-21\">21</span><span class=\"change change-21 up\">    <span class=\"kolicon kol-icon-point-up\"></span> 1  </span></span><span class=\"rank-cell pull-left rank-desc\"><a class=\"link clearfix\" href=\"/youtube/channel/UC9rMiEjNaCSsebs31MRDCRA\"><img src=\"https://res-kol.noxgroup.com/noxinfluencer/youtube/avatar/ca420ae4a9165ba26d3d42a14747f83d.png\" class=\"avatar pull-left\" onerror=\"this.src = \\'https://res06.bignox.com/s3group/player/launch/2020/08/26/d6de214734f247f2a884b6838825e49b.svg\\'\"> <span class=\"title pull-left ellipsis\">Stray Kids</span></a></span>  <span class=\"rank-cell pull-left rank-category\">  <a href=\"/youtube-channel-rank/top-100-kr-people &amp; blogs-youtuber-sorted-by-subs-weekly\" class=\"category\">인물/블로그</a>  </span>  <span class=\"rank-cell pull-left rank-subs\"><span class=\"number\">1580만</span><span class=\"change up\">    <span class=\"kolicon kol-icon-point-up\"></span> 0.6%  </span></span><span class=\"rank-cell pull-left rank-avg-view\">  <span class=\"number\">138.83만</span>   <span class=\"change down\">   <span class=\"kolicon kol-icon-point-down\"></span> 5.9%   </span>  </span><span class=\"rank-cell pull-left rank-score\"> <i class=\"kol-icon kol-icon-star-full\"></i><i class=\"kol-icon kol-icon-star-full\"></i><i class=\"kol-icon kol-icon-star-full\"></i><i class=\"kol-icon kol-icon-star-empty\"></i><i class=\"kol-icon kol-icon-star-empty\"></i> </span></div>  <div class=\"table-line clearfix\"><span class=\"rank-cell pull-left rank-number\"><span class=\"number number-bold number-22\">22</span><span class=\"change change-22 down\">   <span class=\"kolicon kol-icon-point-down\"></span> 1   </span></span><span class=\"rank-cell pull-left rank-desc\"><a class=\"link clearfix\" href=\"/youtube/channel/UCxtLc0Jqq3SKBWlIXM_OC9g\"><img src=\"https://res-kol.noxgroup.com/noxinfluencer/youtube/avatar/ee2addcab593d4c54e1fe5b5fbc9030d.png\" class=\"avatar pull-left\" onerror=\"this.src = \\'https://res06.bignox.com/s3group/player/launch/2020/08/26/d6de214734f247f2a884b6838825e49b.svg\\'\"> <span class=\"title pull-left ellipsis\">Hongyu ASMR 홍유</span></a></span>  <span class=\"rank-cell pull-left rank-category\">  <a href=\"/youtube-channel-rank/top-100-kr-people &amp; blogs-youtuber-sorted-by-subs-weekly\" class=\"category\">인물/블로그</a>  </span>  <span class=\"rank-cell pull-left rank-subs\"><span class=\"number\">1570만</span><span class=\"change none\">  -    </span></span><span class=\"rank-cell pull-left rank-avg-view\">  <span class=\"number\">69.47만</span>   <span class=\"change up\">    <span class=\"kolicon kol-icon-point-up\"></span> 8.4%  </span>  </span><span class=\"rank-cell pull-left rank-score\"> <i class=\"kol-icon kol-icon-star-full\"></i><i class=\"kol-icon kol-icon-star-full\"></i><i class=\"kol-icon kol-icon-star-half\"></i><i class=\"kol-icon kol-icon-star-empty\"></i><i class=\"kol-icon kol-icon-star-empty\"></i> </span></div>  <div class=\"table-line clearfix\"><span class=\"rank-cell pull-left rank-number\"><span class=\"number number-bold number-23\">23</span><span class=\"change change-23 none\">  -    </span></span><span class=\"rank-cell pull-left rank-desc\"><a class=\"link clearfix\" href=\"/youtube/channel/UCzw-C7fNfs018R1FzIKnlaA\"><img src=\"https://res-kol.noxgroup.com/noxinfluencer/youtube/avatar/05dfd14b2121451a7a23d29a5b254296.png\" class=\"avatar pull-left\" onerror=\"this.src = \\'https://res06.bignox.com/s3group/player/launch/2020/08/26/d6de214734f247f2a884b6838825e49b.svg\\'\"> <span class=\"title pull-left ellipsis\">BIGBANG</span></a></span>  <span class=\"rank-cell pull-left rank-category\">  <a href=\"/youtube-channel-rank/top-100-kr-music-youtuber-sorted-by-subs-weekly\" class=\"category\">음악</a>  </span>  <span class=\"rank-cell pull-left rank-subs\"><span class=\"number\">1510만</span><span class=\"change none\">  -    </span></span><span class=\"rank-cell pull-left rank-avg-view\">  <span class=\"number\">371.71만</span>   <span class=\"change up\">    <span class=\"kolicon kol-icon-point-up\"></span> 0.3%  </span>  </span><span class=\"rank-cell pull-left rank-score\"> <i class=\"kol-icon kol-icon-star-half\"></i><i class=\"kol-icon kol-icon-star-empty\"></i><i class=\"kol-icon kol-icon-star-empty\"></i><i class=\"kol-icon kol-icon-star-empty\"></i><i class=\"kol-icon kol-icon-star-empty\"></i> </span></div>  <div class=\"table-line clearfix\"><span class=\"rank-cell pull-left rank-number\"><span class=\"number number-bold number-24\">24</span><span class=\"change change-24 none\">  -    </span></span><span class=\"rank-cell pull-left rank-desc\"><a class=\"link clearfix\" href=\"/youtube/channel/UC3pnQ7MHDABUFungNcMQ7dA\"><img src=\"https://res-kol.noxgroup.com/noxinfluencer/youtube/avatar/bf8744af6ae37c986ad47f18a689d3bb.png\" class=\"avatar pull-left\" onerror=\"this.src = \\'https://res06.bignox.com/s3group/player/launch/2020/08/26/d6de214734f247f2a884b6838825e49b.svg\\'\"> <span class=\"title pull-left ellipsis\">Boram Tube ToysReview [보람튜브 토이리뷰]</span></a></span>  <span class=\"rank-cell pull-left rank-category\">  <a href=\"/youtube-channel-rank/top-100-kr-entertainment-youtuber-sorted-by-subs-weekly\" class=\"category\">엔터테인먼트</a>  </span>  <span class=\"rank-cell pull-left rank-subs\"><span class=\"number\">1460만</span><span class=\"change none\">  -    </span></span><span class=\"rank-cell pull-left rank-avg-view\">  <span class=\"number\">1.13만</span>   <span class=\"change down\">   <span class=\"kolicon kol-icon-point-down\"></span> 53.1%   </span>  </span><span class=\"rank-cell pull-left rank-score\"> <i class=\"kol-icon kol-icon-star-full\"></i><i class=\"kol-icon kol-icon-star-full\"></i><i class=\"kol-icon kol-icon-star-empty\"></i><i class=\"kol-icon kol-icon-star-empty\"></i><i class=\"kol-icon kol-icon-star-empty\"></i> </span></div>  <div class=\"table-line clearfix\"><span class=\"rank-cell pull-left rank-number\"><span class=\"number number-bold number-25\">25</span><span class=\"change change-25 none\">  -    </span></span><span class=\"rank-cell pull-left rank-desc\"><a class=\"link clearfix\" href=\"/youtube/channel/UCNQAoLEv87L7NgUp4We3HIg\"><img src=\"https://res-kol.noxgroup.com/noxinfluencer/youtube/avatar/30a916a02ec07a9c018f9d35976767be.png\" class=\"avatar pull-left\" onerror=\"this.src = \\'https://res06.bignox.com/s3group/player/launch/2020/08/26/d6de214734f247f2a884b6838825e49b.svg\\'\"> <span class=\"title pull-left ellipsis\">CRAZY GREAPA</span></a></span>  <span class=\"rank-cell pull-left rank-category\">  <a href=\"/youtube-channel-rank/top-100-kr-entertainment-youtuber-sorted-by-subs-weekly\" class=\"category\">엔터테인먼트</a>  </span>  <span class=\"rank-cell pull-left rank-subs\"><span class=\"number\">1450만</span><span class=\"change up\">    <span class=\"kolicon kol-icon-point-up\"></span> 0.7%  </span></span><span class=\"rank-cell pull-left rank-avg-view\">  <span class=\"number\">423.68만</span>   <span class=\"change up\">    <span class=\"kolicon kol-icon-point-up\"></span> 16.5%  </span>  </span><span class=\"rank-cell pull-left rank-score\"> <i class=\"kol-icon kol-icon-star-full\"></i><i class=\"kol-icon kol-icon-star-full\"></i><i class=\"kol-icon kol-icon-star-full\"></i><i class=\"kol-icon kol-icon-star-full\"></i><i class=\"kol-icon kol-icon-star-half\"></i> </span></div>  <div class=\"table-line clearfix\"><span class=\"rank-cell pull-left rank-number\"><span class=\"number number-bold number-26\">26</span><span class=\"change change-26 none\">  -    </span></span><span class=\"rank-cell pull-left rank-desc\"><a class=\"link clearfix\" href=\"/youtube/channel/UCraaN4FiNe7l3F4XR6s246A\"><img src=\"https://res-kol.noxgroup.com/noxinfluencer/youtube/avatar/39655e462e8aebbf8c8e7de682361242.png\" class=\"avatar pull-left\" onerror=\"this.src = \\'https://res06.bignox.com/s3group/player/launch/2020/08/26/d6de214734f247f2a884b6838825e49b.svg\\'\"> <span class=\"title pull-left ellipsis\">서은일상이야기</span></a></span>  <span class=\"rank-cell pull-left rank-category\">  <a href=\"/youtube-channel-rank/top-100-kr-entertainment-youtuber-sorted-by-subs-weekly\" class=\"category\">엔터테인먼트</a>  </span>  <span class=\"rank-cell pull-left rank-subs\"><span class=\"number\">1440만</span><span class=\"change none\">  -    </span></span><span class=\"rank-cell pull-left rank-avg-view\">  <span class=\"number\">4124</span>   <span class=\"change down\">   <span class=\"kolicon kol-icon-point-down\"></span> 8%   </span>  </span><span class=\"rank-cell pull-left rank-score\"> <i class=\"kol-icon kol-icon-star-full\"></i><i class=\"kol-icon kol-icon-star-full\"></i><i class=\"kol-icon kol-icon-star-empty\"></i><i class=\"kol-icon kol-icon-star-empty\"></i><i class=\"kol-icon kol-icon-star-empty\"></i> </span></div>  <div class=\"table-line clearfix\"><span class=\"rank-cell pull-left rank-number\"><span class=\"number number-bold number-27\">27</span><span class=\"change change-27 none\">  -    </span></span><span class=\"rank-cell pull-left rank-desc\"><a class=\"link clearfix\" href=\"/youtube/channel/UCIafb9ExBkh4WsCOagZssZA\"><img src=\"https://res-kol.noxgroup.com/noxinfluencer/youtube/avatar/6018af6768f34a2e1cac896ffdd670f5.png\" class=\"avatar pull-left\" onerror=\"this.src = \\'https://res06.bignox.com/s3group/player/launch/2020/08/26/d6de214734f247f2a884b6838825e49b.svg\\'\"> <span class=\"title pull-left ellipsis\">설기양SULGI</span></a></span>  <span class=\"rank-cell pull-left rank-category\">  <a href=\"/youtube-channel-rank/top-100-kr-people &amp; blogs-youtuber-sorted-by-subs-weekly\" class=\"category\">인물/블로그</a>  </span>  <span class=\"rank-cell pull-left rank-subs\"><span class=\"number\">1360만</span><span class=\"change none\">  -    </span></span><span class=\"rank-cell pull-left rank-avg-view\">  <span class=\"number\">50.15만</span>   <span class=\"change up\">    <span class=\"kolicon kol-icon-point-up\"></span> 12.5%  </span>  </span><span class=\"rank-cell pull-left rank-score\"> <i class=\"kol-icon kol-icon-star-full\"></i><i class=\"kol-icon kol-icon-star-full\"></i><i class=\"kol-icon kol-icon-star-full\"></i><i class=\"kol-icon kol-icon-star-empty\"></i><i class=\"kol-icon kol-icon-star-empty\"></i> </span></div>  <div class=\"table-line clearfix\"><span class=\"rank-cell pull-left rank-number\"><span class=\"number number-bold number-28\">28</span><span class=\"change change-28 none\">  -    </span></span><span class=\"rank-cell pull-left rank-desc\"><a class=\"link clearfix\" href=\"/youtube/channel/UCL4r3zHKJpcJ0jEYSbobk1Q\"><img src=\"https://res-kol.noxgroup.com/noxinfluencer/youtube/avatar/438188bcf0cdd15a8d320d4dd80a58eb.png\" class=\"avatar pull-left\" onerror=\"this.src = \\'https://res06.bignox.com/s3group/player/launch/2020/08/26/d6de214734f247f2a884b6838825e49b.svg\\'\"> <span class=\"title pull-left ellipsis\">BIBO와 장난감</span></a></span>  <span class=\"rank-cell pull-left rank-category\">  <a href=\"/youtube-channel-rank/top-100-kr-entertainment-youtuber-sorted-by-subs-weekly\" class=\"category\">엔터테인먼트</a>  </span>  <span class=\"rank-cell pull-left rank-subs\"><span class=\"number\">1340만</span><span class=\"change none\">  -    </span></span><span class=\"rank-cell pull-left rank-avg-view\">  <span class=\"number\">0</span>   <span class=\"change down\">   <span class=\"kolicon kol-icon-point-down\"></span> 100%   </span>  </span><span class=\"rank-cell pull-left rank-score\"> <i class=\"kol-icon kol-icon-star-full\"></i><i class=\"kol-icon kol-icon-star-full\"></i><i class=\"kol-icon kol-icon-star-empty\"></i><i class=\"kol-icon kol-icon-star-empty\"></i><i class=\"kol-icon kol-icon-star-empty\"></i> </span></div>  <div class=\"table-line clearfix\"><span class=\"rank-cell pull-left rank-number\"><span class=\"number number-bold number-29\">29</span><span class=\"change change-29 none\">  -    </span></span><span class=\"rank-cell pull-left rank-desc\"><a class=\"link clearfix\" href=\"/youtube/channel/UCPKNKldggioffXPkSmjs5lQ\"><img src=\"https://res-kol.noxgroup.com/noxinfluencer/youtube/avatar/ee0cd203d3be63d04c895c84fdfc8719.png\" class=\"avatar pull-left\" onerror=\"this.src = \\'https://res06.bignox.com/s3group/player/launch/2020/08/26/d6de214734f247f2a884b6838825e49b.svg\\'\"> <span class=\"title pull-left ellipsis\">[햄지]Hamzy</span></a></span>  <span class=\"rank-cell pull-left rank-category\">  <a href=\"/youtube-channel-rank/top-100-kr-entertainment-youtuber-sorted-by-subs-weekly\" class=\"category\">엔터테인먼트</a>  </span>  <span class=\"rank-cell pull-left rank-subs\"><span class=\"number\">1240만</span><span class=\"change up\">    <span class=\"kolicon kol-icon-point-up\"></span> 0.8%  </span></span><span class=\"rank-cell pull-left rank-avg-view\">  <span class=\"number\">71.46만</span>   <span class=\"change up\">    <span class=\"kolicon kol-icon-point-up\"></span> 100%  </span>  </span><span class=\"rank-cell pull-left rank-score\"> <i class=\"kol-icon kol-icon-star-full\"></i><i class=\"kol-icon kol-icon-star-full\"></i><i class=\"kol-icon kol-icon-star-full\"></i><i class=\"kol-icon kol-icon-star-empty\"></i><i class=\"kol-icon kol-icon-star-empty\"></i> </span></div>  <div class=\"table-line clearfix\"><span class=\"rank-cell pull-left rank-number\"><span class=\"number number-bold number-30\">30</span><span class=\"change change-30 none\">  -    </span></span><span class=\"rank-cell pull-left rank-desc\"><a class=\"link clearfix\" href=\"/youtube/channel/UC2B5onlYkZ7IaVekR9yIB6w\"><img src=\"https://res-kol.noxgroup.com/noxinfluencer/youtube/avatar/3fce80a4abfade26747c44c210ff5afd.png\" class=\"avatar pull-left\" onerror=\"this.src = \\'https://res06.bignox.com/s3group/player/launch/2020/08/26/d6de214734f247f2a884b6838825e49b.svg\\'\"> <span class=\"title pull-left ellipsis\">GONGSAM TABLE 이공삼</span></a></span>  <span class=\"rank-cell pull-left rank-category\">  <a href=\"/youtube-channel-rank/top-100-kr-entertainment-youtuber-sorted-by-subs-weekly\" class=\"category\">엔터테인먼트</a>  </span>  <span class=\"rank-cell pull-left rank-subs\"><span class=\"number\">1200만</span><span class=\"change up\">    <span class=\"kolicon kol-icon-point-up\"></span> 0.8%  </span></span><span class=\"rank-cell pull-left rank-avg-view\">  <span class=\"number\">99.13만</span>   <span class=\"change up\">    <span class=\"kolicon kol-icon-point-up\"></span> 4.4%  </span>  </span><span class=\"rank-cell pull-left rank-score\"> <i class=\"kol-icon kol-icon-star-full\"></i><i class=\"kol-icon kol-icon-star-full\"></i><i class=\"kol-icon kol-icon-star-full\"></i><i class=\"kol-icon kol-icon-star-empty\"></i><i class=\"kol-icon kol-icon-star-empty\"></i> </span></div>  <div class=\"table-line clearfix\"><span class=\"rank-cell pull-left rank-number\"><span class=\"number number-bold number-31\">31</span><span class=\"change change-31 none\">  -    </span></span><span class=\"rank-cell pull-left rank-desc\"><a class=\"link clearfix\" href=\"/youtube/channel/UCtiObj3CsEAdNU6ZPWDsddQ\"><img src=\"https://res-kol.noxgroup.com/noxinfluencer/youtube/avatar/2f39ac709a5ab0de8e95297ea7f3dc04.png\" class=\"avatar pull-left\" onerror=\"this.src = \\'https://res06.bignox.com/s3group/player/launch/2020/08/26/d6de214734f247f2a884b6838825e49b.svg\\'\"> <span class=\"title pull-left ellipsis\">TOMORROW X TOGETHER OFFICIAL</span></a></span>  <span class=\"rank-cell pull-left rank-category\">  <a href=\"/youtube-channel-rank/top-100-kr-music-youtuber-sorted-by-subs-weekly\" class=\"category\">음악</a>  </span>  <span class=\"rank-cell pull-left rank-subs\"><span class=\"number\">1160만</span><span class=\"change none\">  -    </span></span><span class=\"rank-cell pull-left rank-avg-view\">  <span class=\"number\">23.2만</span>   <span class=\"change down\">   <span class=\"kolicon kol-icon-point-down\"></span> 21.3%   </span>  </span><span class=\"rank-cell pull-left rank-score\"> <i class=\"kol-icon kol-icon-star-full\"></i><i class=\"kol-icon kol-icon-star-full\"></i><i class=\"kol-icon kol-icon-star-full\"></i><i class=\"kol-icon kol-icon-star-empty\"></i><i class=\"kol-icon kol-icon-star-empty\"></i> </span></div>  <div class=\"table-line clearfix\"><span class=\"rank-cell pull-left rank-number\"><span class=\"number number-bold number-32\">32</span><span class=\"change change-32 none\">  -    </span></span><span class=\"rank-cell pull-left rank-desc\"><a class=\"link clearfix\" href=\"/youtube/channel/UCcQ18ScARDXR0hf-OMQofsw\"><img src=\"https://res-kol.noxgroup.com/noxinfluencer/youtube/avatar/de45e5c4123c5c4991adf6aedd65b483.png\" class=\"avatar pull-left\" onerror=\"this.src = \\'https://res06.bignox.com/s3group/player/launch/2020/08/26/d6de214734f247f2a884b6838825e49b.svg\\'\"> <span class=\"title pull-left ellipsis\">ox_zung 원정맨</span></a></span>  <span class=\"rank-cell pull-left rank-category\">  <a href=\"/youtube-channel-rank/top-100-kr-science &amp; technology-youtuber-sorted-by-subs-weekly\" class=\"category\">과학기술</a>  </span>  <span class=\"rank-cell pull-left rank-subs\"><span class=\"number\">1160만</span><span class=\"change none\">  -    </span></span><span class=\"rank-cell pull-left rank-avg-view\">  <span class=\"number\">259.22만</span>   <span class=\"change up\">    <span class=\"kolicon kol-icon-point-up\"></span> 1.9%  </span>  </span><span class=\"rank-cell pull-left rank-score\"> <i class=\"kol-icon kol-icon-star-full\"></i><i class=\"kol-icon kol-icon-star-full\"></i><i class=\"kol-icon kol-icon-star-full\"></i><i class=\"kol-icon kol-icon-star-empty\"></i><i class=\"kol-icon kol-icon-star-empty\"></i> </span></div>  <div class=\"table-line clearfix\"><span class=\"rank-cell pull-left rank-number\"><span class=\"number number-bold number-33\">33</span><span class=\"change change-33 none\">  -    </span></span><span class=\"rank-cell pull-left rank-desc\"><a class=\"link clearfix\" href=\"/youtube/channel/UCqXwKu6dKobXEQFhdKtiJLQ\"><img src=\"https://res-kol.noxgroup.com/noxinfluencer/youtube/avatar/a0ee41741f34df494c1e0526f4ac5e82.png\" class=\"avatar pull-left\" onerror=\"this.src = \\'https://res06.bignox.com/s3group/player/launch/2020/08/26/d6de214734f247f2a884b6838825e49b.svg\\'\"> <span class=\"title pull-left ellipsis\">핑크퐁 (인기 동요・동화)</span></a></span>  <span class=\"rank-cell pull-left rank-category\">  <a href=\"/youtube-channel-rank/top-100-kr-education-youtuber-sorted-by-subs-weekly\" class=\"category\">교육</a>  </span>  <span class=\"rank-cell pull-left rank-subs\"><span class=\"number\">1140만</span><span class=\"change none\">  -    </span></span><span class=\"rank-cell pull-left rank-avg-view\">  <span class=\"number\">4.27만</span>   <span class=\"change up\">    <span class=\"kolicon kol-icon-point-up\"></span> 24.2%  </span>  </span><span class=\"rank-cell pull-left rank-score\"> <i class=\"kol-icon kol-icon-star-full\"></i><i class=\"kol-icon kol-icon-star-full\"></i><i class=\"kol-icon kol-icon-star-empty\"></i><i class=\"kol-icon kol-icon-star-empty\"></i><i class=\"kol-icon kol-icon-star-empty\"></i> </span></div>  <div class=\"table-line clearfix\"><span class=\"rank-cell pull-left rank-number\"><span class=\"number number-bold number-34\">34</span><span class=\"change change-34 none\">  -    </span></span><span class=\"rank-cell pull-left rank-desc\"><a class=\"link clearfix\" href=\"/youtube/channel/UCBWfn-wv65_skdt2UDyhfUw\"><img src=\"https://res-kol.noxgroup.com/noxinfluencer/youtube/avatar/3167154141bc359b9e8db6ce411f596a.png\" class=\"avatar pull-left\" onerror=\"this.src = \\'https://res06.bignox.com/s3group/player/launch/2020/08/26/d6de214734f247f2a884b6838825e49b.svg\\'\"> <span class=\"title pull-left ellipsis\">KKUBI STUDIO</span></a></span>  <span class=\"rank-cell pull-left rank-category\">  <a href=\"/youtube-channel-rank/top-100-kr-people &amp; blogs-youtuber-sorted-by-subs-weekly\" class=\"category\">인물/블로그</a>  </span>  <span class=\"rank-cell pull-left rank-subs\"><span class=\"number\">1130만</span><span class=\"change up\">    <span class=\"kolicon kol-icon-point-up\"></span> 0.9%  </span></span><span class=\"rank-cell pull-left rank-avg-view\">  <span class=\"number\">16.58만</span>   <span class=\"change up\">    <span class=\"kolicon kol-icon-point-up\"></span> 40.7%  </span>  </span><span class=\"rank-cell pull-left rank-score\"> <i class=\"kol-icon kol-icon-star-empty\"></i><i class=\"kol-icon kol-icon-star-empty\"></i><i class=\"kol-icon kol-icon-star-empty\"></i><i class=\"kol-icon kol-icon-star-empty\"></i><i class=\"kol-icon kol-icon-star-empty\"></i> </span></div>  <div class=\"table-line clearfix\"><span class=\"rank-cell pull-left rank-number\"><span class=\"number number-bold number-35\">35</span><span class=\"change change-35 none\">  -    </span></span><span class=\"rank-cell pull-left rank-desc\"><a class=\"link clearfix\" href=\"/youtube/channel/UCByBXiL8TC7atFvIuNC95Hg\"><img src=\"https://res-kol.noxgroup.com/noxinfluencer/youtube/avatar/c42bd0a09f4754a01c0d93909517e869.png\" class=\"avatar pull-left\" onerror=\"this.src = \\'https://res06.bignox.com/s3group/player/launch/2020/08/26/d6de214734f247f2a884b6838825e49b.svg\\'\"> <span class=\"title pull-left ellipsis\">DuDuPopTOY</span></a></span>  <span class=\"rank-cell pull-left rank-category\">  <a href=\"/youtube-channel-rank/top-100-kr-entertainment-youtuber-sorted-by-subs-weekly\" class=\"category\">엔터테인먼트</a>  </span>  <span class=\"rank-cell pull-left rank-subs\"><span class=\"number\">1110만</span><span class=\"change none\">  -    </span></span><span class=\"rank-cell pull-left rank-avg-view\">  <span class=\"number\">2.43만</span>   <span class=\"change up\">    <span class=\"kolicon kol-icon-point-up\"></span> 5.7%  </span>  </span><span class=\"rank-cell pull-left rank-score\"> <i class=\"kol-icon kol-icon-star-full\"></i><i class=\"kol-icon kol-icon-star-full\"></i><i class=\"kol-icon kol-icon-star-empty\"></i><i class=\"kol-icon kol-icon-star-empty\"></i><i class=\"kol-icon kol-icon-star-empty\"></i> </span></div>  <div class=\"table-line clearfix\"><span class=\"rank-cell pull-left rank-number\"><span class=\"number number-bold number-36\">36</span><span class=\"change change-36 none\">  -    </span></span><span class=\"rank-cell pull-left rank-desc\"><a class=\"link clearfix\" href=\"/youtube/channel/UC0vDCy8moGUhR7kRL19wWpw\"><img src=\"https://res-kol.noxgroup.com/noxinfluencer/youtube/avatar/138527923991839aa60b4eba94dfe399.png\" class=\"avatar pull-left\" onerror=\"this.src = \\'https://res06.bignox.com/s3group/player/launch/2020/08/26/d6de214734f247f2a884b6838825e49b.svg\\'\"> <span class=\"title pull-left ellipsis\">토이몽 TV - ToyMong Tv</span></a></span>  <span class=\"rank-cell pull-left rank-category\">  <a href=\"/youtube-channel-rank/top-100-kr-entertainment-youtuber-sorted-by-subs-weekly\" class=\"category\">엔터테인먼트</a>  </span>  <span class=\"rank-cell pull-left rank-subs\"><span class=\"number\">1100만</span><span class=\"change none\">  -    </span></span><span class=\"rank-cell pull-left rank-avg-view\">  <span class=\"number\">18.3만</span>   <span class=\"change up\">    <span class=\"kolicon kol-icon-point-up\"></span> 11.2%  </span>  </span><span class=\"rank-cell pull-left rank-score\"> <i class=\"kol-icon kol-icon-star-full\"></i><i class=\"kol-icon kol-icon-star-full\"></i><i class=\"kol-icon kol-icon-star-empty\"></i><i class=\"kol-icon kol-icon-star-empty\"></i><i class=\"kol-icon kol-icon-star-empty\"></i> </span></div>  <div class=\"table-line clearfix\"><span class=\"rank-cell pull-left rank-number\"><span class=\"number number-bold number-37\">37</span><span class=\"change change-37 none\">  -    </span></span><span class=\"rank-cell pull-left rank-desc\"><a class=\"link clearfix\" href=\"/youtube/channel/UCz8gf4PK1Qth50lLHdvTCcA\"><img src=\"https://res-kol.noxgroup.com/noxinfluencer/youtube/avatar/e254b3ca6a19cd37997e43ef2048cb8b.png\" class=\"avatar pull-left\" onerror=\"this.src = \\'https://res06.bignox.com/s3group/player/launch/2020/08/26/d6de214734f247f2a884b6838825e49b.svg\\'\"> <span class=\"title pull-left ellipsis\">유백합 kkubi99</span></a></span>  <span class=\"rank-cell pull-left rank-category\">  <a href=\"/youtube-channel-rank/top-100-kr-entertainment-youtuber-sorted-by-subs-weekly\" class=\"category\">엔터테인먼트</a>  </span>  <span class=\"rank-cell pull-left rank-subs\"><span class=\"number\">1090만</span><span class=\"change up\">    <span class=\"kolicon kol-icon-point-up\"></span> 0.9%  </span></span><span class=\"rank-cell pull-left rank-avg-view\">  <span class=\"number\">0</span>   <span class=\"change down\">   <span class=\"kolicon kol-icon-point-down\"></span> 100%   </span>  </span><span class=\"rank-cell pull-left rank-score\"> <i class=\"kol-icon kol-icon-star-full\"></i><i class=\"kol-icon kol-icon-star-full\"></i><i class=\"kol-icon kol-icon-star-full\"></i><i class=\"kol-icon kol-icon-star-empty\"></i><i class=\"kol-icon kol-icon-star-empty\"></i> </span></div>  <div class=\"table-line clearfix\"><span class=\"rank-cell pull-left rank-number\"><span class=\"number number-bold number-38\">38</span><span class=\"change change-38 up\">    <span class=\"kolicon kol-icon-point-up\"></span> 2  </span></span><span class=\"rank-cell pull-left rank-desc\"><a class=\"link clearfix\" href=\"/youtube/channel/UCfkXDY7vwkcJ8ddFGz8KusA\"><img src=\"https://res-kol.noxgroup.com/noxinfluencer/youtube/avatar/b432e0bdd53672adf8053738af02218d.png\" class=\"avatar pull-left\" onerror=\"this.src = \\'https://res06.bignox.com/s3group/player/launch/2020/08/26/d6de214734f247f2a884b6838825e49b.svg\\'\"> <span class=\"title pull-left ellipsis\">SEVENTEEN</span></a></span>  <span class=\"rank-cell pull-left rank-category\">  <a href=\"/youtube-channel-rank/top-100-kr-music-youtuber-sorted-by-subs-weekly\" class=\"category\">음악</a>  </span>  <span class=\"rank-cell pull-left rank-subs\"><span class=\"number\">1090만</span><span class=\"change up\">    <span class=\"kolicon kol-icon-point-up\"></span> 0.9%  </span></span><span class=\"rank-cell pull-left rank-avg-view\">  <span class=\"number\">25.32만</span>   <span class=\"change up\">    <span class=\"kolicon kol-icon-point-up\"></span> 8.5%  </span>  </span><span class=\"rank-cell pull-left rank-score\"> <i class=\"kol-icon kol-icon-star-full\"></i><i class=\"kol-icon kol-icon-star-full\"></i><i class=\"kol-icon kol-icon-star-full\"></i><i class=\"kol-icon kol-icon-star-empty\"></i><i class=\"kol-icon kol-icon-star-empty\"></i> </span></div>  <div class=\"table-line clearfix\"><span class=\"rank-cell pull-left rank-number\"><span class=\"number number-bold number-39\">39</span><span class=\"change change-39 down\">   <span class=\"kolicon kol-icon-point-down\"></span> 1   </span></span><span class=\"rank-cell pull-left rank-desc\"><a class=\"link clearfix\" href=\"/youtube/channel/UCe52oeb7Xv_KaJsEzcKXJJg\"><img src=\"https://res-kol.noxgroup.com/noxinfluencer/youtube/avatar/f814f2ee2e8a77c4d643ebc165f4a781.png\" class=\"avatar pull-left\" onerror=\"this.src = \\'https://res06.bignox.com/s3group/player/launch/2020/08/26/d6de214734f247f2a884b6838825e49b.svg\\'\"> <span class=\"title pull-left ellipsis\">MBCkpop</span></a></span>  <span class=\"rank-cell pull-left rank-category\">  <a href=\"/youtube-channel-rank/top-100-kr-music-youtuber-sorted-by-subs-weekly\" class=\"category\">음악</a>  </span>  <span class=\"rank-cell pull-left rank-subs\"><span class=\"number\">1080만</span><span class=\"change none\">  -    </span></span><span class=\"rank-cell pull-left rank-avg-view\">  <span class=\"number\">1.51만</span>   <span class=\"change down\">   <span class=\"kolicon kol-icon-point-down\"></span> 15.8%   </span>  </span><span class=\"rank-cell pull-left rank-score\"> <i class=\"kol-icon kol-icon-star-full\"></i><i class=\"kol-icon kol-icon-star-full\"></i><i class=\"kol-icon kol-icon-star-empty\"></i><i class=\"kol-icon kol-icon-star-empty\"></i><i class=\"kol-icon kol-icon-star-empty\"></i> </span></div>  <div class=\"table-line clearfix\"><span class=\"rank-cell pull-left rank-number\"><span class=\"number number-bold number-40\">40</span><span class=\"change change-40 down\">   <span class=\"kolicon kol-icon-point-down\"></span> 1   </span></span><span class=\"rank-cell pull-left rank-desc\"><a class=\"link clearfix\" href=\"/youtube/channel/UC_pwIXKXNm5KGhdEVzmY60A\"><img src=\"https://res-kol.noxgroup.com/noxinfluencer/youtube/avatar/cce6fd37b3484cd04e2f210772e680f5.png\" class=\"avatar pull-left\" onerror=\"this.src = \\'https://res06.bignox.com/s3group/player/launch/2020/08/26/d6de214734f247f2a884b6838825e49b.svg\\'\"> <span class=\"title pull-left ellipsis\">Stone Music Entertainment</span></a></span>  <span class=\"rank-cell pull-left rank-category\">  <a href=\"/youtube-channel-rank/top-100-kr-music-youtuber-sorted-by-subs-weekly\" class=\"category\">음악</a>  </span>  <span class=\"rank-cell pull-left rank-subs\"><span class=\"number\">1080만</span><span class=\"change none\">  -    </span></span><span class=\"rank-cell pull-left rank-avg-view\">  <span class=\"number\">8019</span>   <span class=\"change down\">   <span class=\"kolicon kol-icon-point-down\"></span> 8.5%   </span>  </span><span class=\"rank-cell pull-left rank-score\"> <i class=\"kol-icon kol-icon-star-full\"></i><i class=\"kol-icon kol-icon-star-full\"></i><i class=\"kol-icon kol-icon-star-half\"></i><i class=\"kol-icon kol-icon-star-empty\"></i><i class=\"kol-icon kol-icon-star-empty\"></i> </span></div>  <div class=\"table-line clearfix\"><span class=\"rank-cell pull-left rank-number\"><span class=\"number number-bold number-41\">41</span><span class=\"change change-41 none\">  -    </span></span><span class=\"rank-cell pull-left rank-desc\"><a class=\"link clearfix\" href=\"/youtube/channel/UC4PpFUrfT2Pou7OwpVF0MUQ\"><img src=\"https://res-kol.noxgroup.com/noxinfluencer/youtube/avatar/f4c781270c16885ff18b5b99681a3d44.png\" class=\"avatar pull-left\" onerror=\"this.src = \\'https://res06.bignox.com/s3group/player/launch/2020/08/26/d6de214734f247f2a884b6838825e49b.svg\\'\"> <span class=\"title pull-left ellipsis\">쏘영 Ssoyoung</span></a></span>  <span class=\"rank-cell pull-left rank-category\">  <a href=\"/youtube-channel-rank/top-100-kr-entertainment-youtuber-sorted-by-subs-weekly\" class=\"category\">엔터테인먼트</a>  </span>  <span class=\"rank-cell pull-left rank-subs\"><span class=\"number\">1070만</span><span class=\"change none\">  -    </span></span><span class=\"rank-cell pull-left rank-avg-view\">  <span class=\"number\">29.22만</span>   <span class=\"change down\">   <span class=\"kolicon kol-icon-point-down\"></span> 2.1%   </span>  </span><span class=\"rank-cell pull-left rank-score\"> <i class=\"kol-icon kol-icon-star-full\"></i><i class=\"kol-icon kol-icon-star-full\"></i><i class=\"kol-icon kol-icon-star-full\"></i><i class=\"kol-icon kol-icon-star-empty\"></i><i class=\"kol-icon kol-icon-star-empty\"></i> </span></div>  <div class=\"table-line clearfix\"><span class=\"rank-cell pull-left rank-number\"><span class=\"number number-bold number-42\">42</span><span class=\"change change-42 none\">  -    </span></span><span class=\"rank-cell pull-left rank-desc\"><a class=\"link clearfix\" href=\"/youtube/channel/UCMa-5a4Hg3KnbiDOvhdfb3w\"><img src=\"https://res-kol.noxgroup.com/noxinfluencer/youtube/avatar/91f838fecfc951afa8fcecec93526526.png\" class=\"avatar pull-left\" onerror=\"this.src = \\'https://res06.bignox.com/s3group/player/launch/2020/08/26/d6de214734f247f2a884b6838825e49b.svg\\'\"> <span class=\"title pull-left ellipsis\">TwinRoozi 쌍둥이 루지</span></a></span>  <span class=\"rank-cell pull-left rank-category\">  <a href=\"/youtube-channel-rank/top-100-kr-people &amp; blogs-youtuber-sorted-by-subs-weekly\" class=\"category\">인물/블로그</a>  </span>  <span class=\"rank-cell pull-left rank-subs\"><span class=\"number\">1060만</span><span class=\"change none\">  -    </span></span><span class=\"rank-cell pull-left rank-avg-view\">  <span class=\"number\">3.82만</span>   <span class=\"change down\">   <span class=\"kolicon kol-icon-point-down\"></span> 1.1%   </span>  </span><span class=\"rank-cell pull-left rank-score\"> <i class=\"kol-icon kol-icon-star-full\"></i><i class=\"kol-icon kol-icon-star-full\"></i><i class=\"kol-icon kol-icon-star-half\"></i><i class=\"kol-icon kol-icon-star-empty\"></i><i class=\"kol-icon kol-icon-star-empty\"></i> </span></div>  <div class=\"table-line clearfix\"><span class=\"rank-cell pull-left rank-number\"><span class=\"number number-bold number-43\">43</span><span class=\"change change-43 none\">  -    </span></span><span class=\"rank-cell pull-left rank-desc\"><a class=\"link clearfix\" href=\"/youtube/channel/UCNYi_zGmR519r5gYdOKLTjQ\"><img src=\"https://res-kol.noxgroup.com/noxinfluencer/youtube/avatar/9857ee675ea1892dd8c4e7378efbb4a0.png\" class=\"avatar pull-left\" onerror=\"this.src = \\'https://res06.bignox.com/s3group/player/launch/2020/08/26/d6de214734f247f2a884b6838825e49b.svg\\'\"> <span class=\"title pull-left ellipsis\">Jennierubyjane Official</span></a></span>  <span class=\"rank-cell pull-left rank-category\">  <a href=\"/youtube-channel-rank/top-100-kr-entertainment-youtuber-sorted-by-subs-weekly\" class=\"category\">엔터테인먼트</a>  </span>  <span class=\"rank-cell pull-left rank-subs\"><span class=\"number\">1040만</span><span class=\"change none\">  -    </span></span><span class=\"rank-cell pull-left rank-avg-view\">  <span class=\"number\">607.08만</span>   <span class=\"change down\">   <span class=\"kolicon kol-icon-point-down\"></span> 2.8%   </span>  </span><span class=\"rank-cell pull-left rank-score\"> <i class=\"kol-icon kol-icon-star-full\"></i><i class=\"kol-icon kol-icon-star-half\"></i><i class=\"kol-icon kol-icon-star-empty\"></i><i class=\"kol-icon kol-icon-star-empty\"></i><i class=\"kol-icon kol-icon-star-empty\"></i> </span></div>  <div class=\"table-line clearfix\"><span class=\"rank-cell pull-left rank-number\"><span class=\"number number-bold number-44\">44</span><span class=\"change change-44 none\">  -    </span></span><span class=\"rank-cell pull-left rank-desc\"><a class=\"link clearfix\" href=\"/youtube/channel/UCph-WGR0oCbJDpaWmNHb5zg\"><img src=\"https://res-kol.noxgroup.com/noxinfluencer/youtube/avatar/63aaa0396544249b7f7d5f4dd0162fa3.png\" class=\"avatar pull-left\" onerror=\"this.src = \\'https://res06.bignox.com/s3group/player/launch/2020/08/26/d6de214734f247f2a884b6838825e49b.svg\\'\"> <span class=\"title pull-left ellipsis\">Larva TUBA</span></a></span>  <span class=\"rank-cell pull-left rank-category\">  <a href=\"/youtube-channel-rank/top-100-kr-film &amp; animation-youtuber-sorted-by-subs-weekly\" class=\"category\">영화/애니메이션</a>  </span>  <span class=\"rank-cell pull-left rank-subs\"><span class=\"number\">1010만</span><span class=\"change none\">  -    </span></span><span class=\"rank-cell pull-left rank-avg-view\">  <span class=\"number\">7.8만</span>   <span class=\"change up\">    <span class=\"kolicon kol-icon-point-up\"></span> 9.3%  </span>  </span><span class=\"rank-cell pull-left rank-score\"> <i class=\"kol-icon kol-icon-star-full\"></i><i class=\"kol-icon kol-icon-star-full\"></i><i class=\"kol-icon kol-icon-star-empty\"></i><i class=\"kol-icon kol-icon-star-empty\"></i><i class=\"kol-icon kol-icon-star-empty\"></i> </span></div>  <div class=\"table-line clearfix\"><span class=\"rank-cell pull-left rank-number\"><span class=\"number number-bold number-45\">45</span><span class=\"change change-45 none\">  -    </span></span><span class=\"rank-cell pull-left rank-desc\"><a class=\"link clearfix\" href=\"/youtube/channel/UCRtoqRleHkDQRVgN9OwV6TA\"><img src=\"https://res-kol.noxgroup.com/noxinfluencer/youtube/avatar/feb5196cbf516218bdfeaefb255d5431.png\" class=\"avatar pull-left\" onerror=\"this.src = \\'https://res06.bignox.com/s3group/player/launch/2020/08/26/d6de214734f247f2a884b6838825e49b.svg\\'\"> <span class=\"title pull-left ellipsis\">SIO ASMR</span></a></span>  <span class=\"rank-cell pull-left rank-category\">  <a href=\"/youtube-channel-rank/top-100-kr-people &amp; blogs-youtuber-sorted-by-subs-weekly\" class=\"category\">인물/블로그</a>  </span>  <span class=\"rank-cell pull-left rank-subs\"><span class=\"number\">990만</span><span class=\"change up\">    <span class=\"kolicon kol-icon-point-up\"></span> 0.1%  </span></span><span class=\"rank-cell pull-left rank-avg-view\">  <span class=\"number\">32.36만</span>   <span class=\"change down\">   <span class=\"kolicon kol-icon-point-down\"></span> 11%   </span>  </span><span class=\"rank-cell pull-left rank-score\"> <i class=\"kol-icon kol-icon-star-full\"></i><i class=\"kol-icon kol-icon-star-full\"></i><i class=\"kol-icon kol-icon-star-half\"></i><i class=\"kol-icon kol-icon-star-empty\"></i><i class=\"kol-icon kol-icon-star-empty\"></i> </span></div>  <div class=\"table-line clearfix\"><span class=\"rank-cell pull-left rank-number\"><span class=\"number number-bold number-46\">46</span><span class=\"change change-46 none\">  -    </span></span><span class=\"rank-cell pull-left rank-desc\"><a class=\"link clearfix\" href=\"/youtube/channel/UCTQVIXvcHrR9jYoJ6qaBAow\"><img src=\"https://res-kol.noxgroup.com/noxinfluencer/youtube/avatar/787639ef641bfe219d19619a50a6b351.png\" class=\"avatar pull-left\" onerror=\"this.src = \\'https://res06.bignox.com/s3group/player/launch/2020/08/26/d6de214734f247f2a884b6838825e49b.svg\\'\"> <span class=\"title pull-left ellipsis\">M2</span></a></span>  <span class=\"rank-cell pull-left rank-category\">  <a href=\"/youtube-channel-rank/top-100-kr-entertainment-youtuber-sorted-by-subs-weekly\" class=\"category\">엔터테인먼트</a>  </span>  <span class=\"rank-cell pull-left rank-subs\"><span class=\"number\">971만</span><span class=\"change up\">    <span class=\"kolicon kol-icon-point-up\"></span> 0.1%  </span></span><span class=\"rank-cell pull-left rank-avg-view\">  <span class=\"number\">8176</span>   <span class=\"change down\">   <span class=\"kolicon kol-icon-point-down\"></span> 72.3%   </span>  </span><span class=\"rank-cell pull-left rank-score\"> <i class=\"kol-icon kol-icon-star-full\"></i><i class=\"kol-icon kol-icon-star-full\"></i><i class=\"kol-icon kol-icon-star-half\"></i><i class=\"kol-icon kol-icon-star-empty\"></i><i class=\"kol-icon kol-icon-star-empty\"></i> </span></div>  <div class=\"table-line clearfix\"><span class=\"rank-cell pull-left rank-number\"><span class=\"number number-bold number-47\">47</span><span class=\"change change-47 up\">    <span class=\"kolicon kol-icon-point-up\"></span> 1  </span></span><span class=\"rank-cell pull-left rank-desc\"><a class=\"link clearfix\" href=\"/youtube/channel/UCoLQZ4ZClFqVPCvvjuiUSRA\"><img src=\"https://res-kol.noxgroup.com/noxinfluencer/youtube/avatar/58bb5cf04832f53527cedd56b62a26c8.png\" class=\"avatar pull-left\" onerror=\"this.src = \\'https://res06.bignox.com/s3group/player/launch/2020/08/26/d6de214734f247f2a884b6838825e49b.svg\\'\"> <span class=\"title pull-left ellipsis\">문복희 Eat with Boki</span></a></span>  <span class=\"rank-cell pull-left rank-category\">  <a href=\"/youtube-channel-rank/top-100-kr-people &amp; blogs-youtuber-sorted-by-subs-weekly\" class=\"category\">인물/블로그</a>  </span>  <span class=\"rank-cell pull-left rank-subs\"><span class=\"number\">965만</span><span class=\"change up\">    <span class=\"kolicon kol-icon-point-up\"></span> 0.2%  </span></span><span class=\"rank-cell pull-left rank-avg-view\">  <span class=\"number\">114.91만</span>   <span class=\"change down\">   <span class=\"kolicon kol-icon-point-down\"></span> 3.1%   </span>  </span><span class=\"rank-cell pull-left rank-score\"> <i class=\"kol-icon kol-icon-star-full\"></i><i class=\"kol-icon kol-icon-star-full\"></i><i class=\"kol-icon kol-icon-star-full\"></i><i class=\"kol-icon kol-icon-star-half\"></i><i class=\"kol-icon kol-icon-star-empty\"></i> </span></div>  <div class=\"table-line clearfix\"><span class=\"rank-cell pull-left rank-number\"><span class=\"number number-bold number-48\">48</span><span class=\"change change-48 down\">   <span class=\"kolicon kol-icon-point-down\"></span> 1   </span></span><span class=\"rank-cell pull-left rank-desc\"><a class=\"link clearfix\" href=\"/youtube/channel/UCzCedBCSSltI1TFd3bKyN6g\"><img src=\"https://res-kol.noxgroup.com/noxinfluencer/youtube/avatar/306cd3ba15cefda55bb5905a8c002cf3.png\" class=\"avatar pull-left\" onerror=\"this.src = \\'https://res06.bignox.com/s3group/player/launch/2020/08/26/d6de214734f247f2a884b6838825e49b.svg\\'\"> <span class=\"title pull-left ellipsis\">EXO</span></a></span>  <span class=\"rank-cell pull-left rank-category\">  <a href=\"/youtube-channel-rank/top-100-kr-entertainment-youtuber-sorted-by-subs-weekly\" class=\"category\">엔터테인먼트</a>  </span>  <span class=\"rank-cell pull-left rank-subs\"><span class=\"number\">963만</span><span class=\"change none\">  -    </span></span><span class=\"rank-cell pull-left rank-avg-view\">  <span class=\"number\">31.14만</span>   <span class=\"change up\">    <span class=\"kolicon kol-icon-point-up\"></span> 0.7%  </span>  </span><span class=\"rank-cell pull-left rank-score\"> <i class=\"kol-icon kol-icon-star-full\"></i><i class=\"kol-icon kol-icon-star-full\"></i><i class=\"kol-icon kol-icon-star-full\"></i><i class=\"kol-icon kol-icon-star-empty\"></i><i class=\"kol-icon kol-icon-star-empty\"></i> </span></div>  <div class=\"table-line clearfix\"><span class=\"rank-cell pull-left rank-number\"><span class=\"number number-bold number-49\">49</span><span class=\"change change-49 none\">  -    </span></span><span class=\"rank-cell pull-left rank-desc\"><a class=\"link clearfix\" href=\"/youtube/channel/UC3SyT4_WLHzN7JmHQwKQZww\"><img src=\"https://res-kol.noxgroup.com/noxinfluencer/youtube/avatar/73636ea7cf9543f3c87a7514ff902ce7.png\" class=\"avatar pull-left\" onerror=\"this.src = \\'https://res06.bignox.com/s3group/player/launch/2020/08/26/d6de214734f247f2a884b6838825e49b.svg\\'\"> <span class=\"title pull-left ellipsis\">이지금 [IU Official]</span></a></span>  <span class=\"rank-cell pull-left rank-category\">  <a href=\"/youtube-channel-rank/top-100-kr-entertainment-youtuber-sorted-by-subs-weekly\" class=\"category\">엔터테인먼트</a>  </span>  <span class=\"rank-cell pull-left rank-subs\"><span class=\"number\">950만</span><span class=\"change up\">    <span class=\"kolicon kol-icon-point-up\"></span> 0.1%  </span></span><span class=\"rank-cell pull-left rank-avg-view\">  <span class=\"number\">119.91만</span>   <span class=\"change up\">    <span class=\"kolicon kol-icon-point-up\"></span> 11.8%  </span>  </span><span class=\"rank-cell pull-left rank-score\"> <i class=\"kol-icon kol-icon-star-full\"></i><i class=\"kol-icon kol-icon-star-full\"></i><i class=\"kol-icon kol-icon-star-empty\"></i><i class=\"kol-icon kol-icon-star-empty\"></i><i class=\"kol-icon kol-icon-star-empty\"></i> </span></div>  <div class=\"table-line clearfix\"><span class=\"rank-cell pull-left rank-number\"><span class=\"number number-bold number-50\">50</span><span class=\"change change-50 none\">  -    </span></span><span class=\"rank-cell pull-left rank-desc\"><a class=\"link clearfix\" href=\"/youtube/channel/UCJedRe-OQCN-75DhLmG3VPQ\"><img src=\"https://res-kol.noxgroup.com/noxinfluencer/youtube/avatar/806a56cfb19f791b0d401cd06d0729a0.png\" class=\"avatar pull-left\" onerror=\"this.src = \\'https://res06.bignox.com/s3group/player/launch/2020/08/26/d6de214734f247f2a884b6838825e49b.svg\\'\"> <span class=\"title pull-left ellipsis\">Boram Tube [宝蓝和朋友们]</span></a></span>  <span class=\"rank-cell pull-left rank-category\">  <a href=\"/youtube-channel-rank/top-100-kr-film &amp; animation-youtuber-sorted-by-subs-weekly\" class=\"category\">영화/애니메이션</a>  </span>  <span class=\"rank-cell pull-left rank-subs\"><span class=\"number\">942만</span><span class=\"change none\">  -    </span></span><span class=\"rank-cell pull-left rank-avg-view\">  <span class=\"number\">0</span>   <span class=\"change down\">   <span class=\"kolicon kol-icon-point-down\"></span> 100%   </span>  </span><span class=\"rank-cell pull-left rank-score\"> <i class=\"kol-icon kol-icon-star-full\"></i><i class=\"kol-icon kol-icon-star-full\"></i><i class=\"kol-icon kol-icon-star-empty\"></i><i class=\"kol-icon kol-icon-star-empty\"></i><i class=\"kol-icon kol-icon-star-empty\"></i> </span></div>  </div><div class=\"table-status\" id=\"table-status\" data-end=\"false\" data-limit=\"0\"><div class=\"status loading\" ><span class=\"kolicon kol-icon-loading\"></span></div><div class=\"status end\"  style=\"display:none\" ><span>- 마지막입니다 -</span></div><div class=\"status limit-update\" style=\"display: none;\"> 멤버십 업그레이드하여 더 많은 데이터를 확인하세요.<a href=\\'/product/pricing\\' target=\\'_blank\\'>회원 업그레이드</a>  </div><div class=\"status limit-login\" style=\"display: none;\"> 로그인하여 더 많은 순위를 확인하세요. <a class=\\'login-btn\\'>로그인</a> </div><div class=\"status limit-upper\" style=\"display: none;\"> 조회 한도에 도달하였습니다. <a class=\\'red\\' href=\"/cdn-cgi/l/email-protection#6d1e081f1b040e082d03021504030b011808030e081f430e0200\"><span class=\"__cf_email__\" data-cfemail=\"dba8bea9adb2b8be9bb5b4a3b2b5bdb7aebeb5b8bea9f5b8b4b6\">[email&#160;protected]</span></a>에게 문의 주세요. </div></div><div class=\"table-loading\" id=\"table-loading\"><span class=\"kolicon kol-icon-loading\"></span></div></div></div></div><div class=\"scroll-top-btn-wrap\"><div id=\"scroll-top-btn\" class=\"scroll-top-btn\"><i class=\"kolicon kol-icon-top\"></i></div></div> </section>    <section class=\"footer  \" id=\"footer\"><div class=\"footer-valentine-layout\"><div class=\"footer-container \"><ul class=\"links-wrap\"><li class=\"logo-wrap\"><a class=\"marketing-logo\" href=\"/\" title=\"NoxInfluencer\"></a><div class=\"nav-lang dropdown\"><a href=\"javascript:void(0)\" class=\"dropdown-toggle lang\" data-sensor-name=\"language_switch\" data-toggle=\"dropdown\"><span class=\"golbal-icon\"><span class=\"kolicon kol-icon-global-filled\"></span> </span><span class=\"name\">한국어</span><span class=\"icon kolicon kol-icon-left\"></span></a><ul class=\"dropdown-menu list\">  <li class=\"list-item\"><a href=\"http://www.noxinfluencer.com/youtube-channel-rank/top-100-kr-all-youtuber-sorted-by-subs-weekly\" data-lang-host=\"EN\" class=\"link\" title=\"English\" sensors-name=\"kol_web_EN\"> English </a></li>  <li class=\"list-item\"><a href=\"http://kr.noxinfluencer.com/youtube-channel-rank/top-100-kr-all-youtuber-sorted-by-subs-weekly\" data-lang-host=\"KR\" class=\"link\" title=\"한국어\" sensors-name=\"kol_web_KR\"> 한국어 </a></li>  <li class=\"list-item\"><a href=\"http://jp.noxinfluencer.com/youtube-channel-rank/top-100-kr-all-youtuber-sorted-by-subs-weekly\" data-lang-host=\"JP\" class=\"link\" title=\"日本語\" sensors-name=\"kol_web_JP\"> 日本語 </a></li>  <li class=\"list-item\"><a href=\"http://tw.noxinfluencer.com/youtube-channel-rank/top-100-kr-all-youtuber-sorted-by-subs-weekly\" data-lang-host=\"TW\" class=\"link\" title=\"繁體中文\" sensors-name=\"kol_web_TW\"> 繁體中文 </a></li>  <li class=\"list-item\"><a href=\"http://cn.noxinfluencer.com/youtube-channel-rank/top-100-kr-all-youtuber-sorted-by-subs-weekly\" data-lang-host=\"ZH\" class=\"link\" title=\"简体中文\" sensors-name=\"kol_web_ZH\"> 简体中文 </a></li>  <li class=\"list-item\"><a href=\"http://id.noxinfluencer.com/youtube-channel-rank/top-100-kr-all-youtuber-sorted-by-subs-weekly\" data-lang-host=\"ID\" class=\"link\" title=\"Bahasa\" sensors-name=\"kol_web_ID\"> Bahasa </a></li>  <li class=\"list-item\"><a href=\"http://es.noxinfluencer.com/youtube-channel-rank/top-100-kr-all-youtuber-sorted-by-subs-weekly\" data-lang-host=\"ES\" class=\"link\" title=\"Español\" sensors-name=\"kol_web_ES\"> Español </a></li>  <li class=\"list-item\"><a href=\"http://th.noxinfluencer.com/youtube-channel-rank/top-100-kr-all-youtuber-sorted-by-subs-weekly\" data-lang-host=\"TH\" class=\"link\" title=\"ไทย\" sensors-name=\"kol_web_TH\"> ไทย </a></li>  <li class=\"list-item\"><a href=\"http://vn.noxinfluencer.com/youtube-channel-rank/top-100-kr-all-youtuber-sorted-by-subs-weekly\" data-lang-host=\"VN\" class=\"link\" title=\"Tiếng Việt\" sensors-name=\"kol_web_VN\"> Tiếng Việt </a></li>  <li class=\"list-item\"><a href=\"http://pt.noxinfluencer.com/youtube-channel-rank/top-100-kr-all-youtuber-sorted-by-subs-weekly\" data-lang-host=\"PT\" class=\"link\" title=\"Português\" sensors-name=\"kol_web_PT\"> Português </a></li>  </ul></div><div class=\"iresearch-image\" style=\"margin-top: 32px; margin-left: -1px\"><img src=\"https://res-static.noxinfluencer.com/kol/2024/03/public/img/footer/86687ffa.png\"></div></li><li><div class=\"title\">제품</div><ul class=\"links\"><li><a class=\"link\" href=\"https://play.google.com/store/apps/details?id=com.noxgroup.influencer.app\" target=\"_blank\"><img src=\"https://res06.bignox.com/s3group/player/launch/2020/12/08/50f5e952480b4f86a379bb0b0a4e57c4.png\"></a></li><li><a class=\"link\" href=\"https://chrome.google.com/webstore/detail/nox-influencer-for-youtub/jlfjeiginakiemnmnldphodhelhnmgkh\" title=\"크롬 확장프로그램\"> 크롬 확장프로그램 </a></li>  <li><a class=\"link\" href=\"/youtube/channel-calculator\" title=\"YouTube 채널 예상 수입\"> YouTube 채널 예상 수입 </a></li><li><a class=\"link\" href=\"/youtube/video-analytics\" title=\"YouTube 동영상 분석하기\"> YouTube 동영상 분석하기 </a></li>  </ul></li><li><div class=\"title\">문의하기</div><ul class=\"links\"><li class=\"icon-links\"><a href=\"https://www.facebook.com/NoxInfluencer\" class=\"icon-item\"><i class=\"kolicon kol-icon-facebook-filled\"></i> </a><a href=\"https://www.youtube.com/channel/UCFSqZpCZw4EOkPs5QDBJOdg\" class=\"icon-item\"><i class=\"kolicon kol-icon-youtube-filled\"></i> </a><a href=\"https://twitter.com/NoxInfluencer\" class=\"icon-item\"><i class=\"kolicon kol-icon-twitter\"></i> </a>  </li><li><i class=\"define-icon kolicon kol-icon-email2\"></i> <a href=\"/cdn-cgi/l/email-protection#b2d0c7c1dbdcd7c1c1f2dcddcadbdcd4dec7d7dcd1d7c09cd1dddf\" class=\"link\" sensors-name=\"kol_web_contact_email\"><span class=\"__cf_email__\" data-cfemail=\"3e5c4b4d57505b4d4d7e505146575058524b5b505d5b4c105d5153\">[email&#160;protected]</span></a></li>  <li class=\"clearfix\"><div class=\"pull-left wechat-content\"><span class=\"wechat-title\">Kakao</span><img class=\"wechat-img\" src=\"https://res06.bignox.com/noxinfluencer/static/kakao_qrcode.png\"> <span class=\"wechat-scale\"><img class=\"wechat-scale-img\" src=\"https://res06.bignox.com/noxinfluencer/static/kakao_qrcode.png\"></span></div></li>  </ul></li><li><div class=\"title\">기업정보</div><ul class=\"links\"><li><a href=\"/about-us\" title=\"회사소개\" class=\"link\" sensors-name=\"kol_web_about_us\" target=\"_blank\"> 회사소개 </a></li><li><a href=\"/terms\" title=\"PRIVACY\" class=\"link\" sensors-name=\"kol_web_privacy\" target=\"_blank\"> 서비스 이용약관 </a></li><li><a href=\"/privacy\" title=\"PRIVACY\" class=\"link\" sensors-name=\"kol_web_privacy\" target=\"_blank\"> 개인정보처리방침 </a></li>  <li><a href=\"https://kr.bignox.com/\" title=\"회사소개\" class=\"link\" sensors-name=\"kol_web_about_us\" target=\"_blank\">NoxPlayer</a></li>  <li><span title=\"copyright\" class=\"link\">Copyright &copy; 2023 noxinfluencer.com</span></li></ul></li></ul></div></div></section>     <div class=\"default-notification-area\"></div>  <script data-cfasync=\"false\" src=\"/cdn-cgi/scripts/5c5dd728/cloudflare-static/email-decode.min.js\"></script><script id=\"template-common-notification-data\" type=\"text/html\"><div class=\"notification-wrap\">\\n    <div class=\"notification-header\">\\n      <i class=\"kolicon kol-icon-close\" id=\"notification-close\"></i>\\n      <div class=\"title\">\\n        <img class=\"header-image\" src=\"https://res-static.noxinfluencer.com/kol/2024/03/public/img/5aa01453.svg\"/>\\n        <span><%= title %></span>\\n      </div>\\n      <div class=\"content-text\"><%= contentText %></div>\\n      <a class=\"kol-btn kol-btn-primary\" href=\"<%= linkShortLink %>\" id=\"link-to\" target=\"_blank\"><%= linkName %></a>\\n    </div>\\n    <img class=\"showLink\" src=\"<%= showShortLink %>\"/>\\n  </div></script><script id=\"image-common-notification-data\" type=\"text/html\"><div class=\"image-notification-wrap\">\\n    <img src=\"https://res-static.noxinfluencer.com/kol/2024/03/public/img/b2b18a03.svg\" id=\"notification-close\"/>\\n    <a href=\"<%= linkShortLink %>\" id=\"link-to\" target=\"_blank\">\\n      <img src=\"<%= pictureUrl %>\" class=\"target-image\"/>\\n    </a>\\n    <img class=\"showLink\" src=\"<%= showShortLink %>\"/>\\n  </div></script> <input id=\"uid\" type=\"hidden\" value=\"\"> <input id=\"id\" type=\"hidden\" value=\"\"> <input id=\"userType\" type=\"hidden\" value=\"visitor\"> <input id=\"parentEmail\" type=\"hidden\" value=\"\"> <input id=\"fansNum\" type=\"hidden\" value=\"\"> <input id=\"vipLevel\" type=\"hidden\" value=\"\"> <input id=\"vipExpireDate\" type=\"hidden\" value=\"\"> <input id=\"publicKey\" type=\"hidden\" value=\"-----BEGIN PUBLIC KEY-----\\nMIGfMA0GCSqGSIb3DQEBAQUAA4GNADCBiQKBgQDP5kv/JUSqrRbUlzWyYnHeYypn\\nBTI7vSFsyHgrfqMQa0BwsxPNkHN+S1Rt46VVgwB1YXWZgqeuqbteBPM4TTNbX9lh\\nBDghnXUjKQYZLP+moxxGvChkASVkMw7ddRT5d1Ph+sG4mubGP6lqe9q/eA573kdt\\nbtjvtvR1nsRd5VQeYQIDAQAB\\n-----END PUBLIC KEY-----\"> <input id=\"channelConflict\" type=\"hidden\" value=\"\"> <input id=\"lastLogin\" type=\"hidden\" value=\"\"> <input id=\"accessPublicKey\" type=\"hidden\" value=\"-----BEGIN PUBLIC KEY-----\\nMIGfMA0GCSqGSIb3DQEBAQUAA4GNADCBiQKBgQDAp+GfznL8fPPBAGUiLuzKiUWg\\nKjABwyp0OYZrS0X7q8MACIqIiBgYGav22wn4D6hg2Wvl2If1HBo7uTRYjeXwcNd8\\n7dYdSuZ/QhsXgfIK5IZkwv7a5nYt0mPP4LfTxIot0nqecoqJCcgSMkgbDwVsB2Tk\\nj+DOu3sql731dOVE2wIDAQAB\\n-----END PUBLIC KEY-----\"> <input id=\"accessStringRandom\" type=\"hidden\" value=\"Tz7mI0XqktIJ14NE\"> <input id=\"flagNewRegister\" type=\"hidden\" value=\"\"> <input id=\"couponAndNewStatus\" type=\"hidden\" value=\"\"> <input id=\"passportEmail\" type=\"hidden\" value=\"\"> <div class=\"scroll-top-btn-wrap\"><div id=\"scroll-top-btn\" class=\"scroll-top-btn\"><i class=\"kolicon kol-icon-top\"></i></div></div> <script src=\"https://res-static.noxinfluencer.com/kol/2024/03/public/js/kr.19611fe4.js\"></script> <script>window._CACHE = {\"exchangeRate\":{\"zh\":6.967,\"en\":1,\"tw\":29.273,\"vn\":22750,\"th\":31.82,\"id\":13753,\"kr\":1078.89,\"jp\":109.4451,\"undefined\":56.9087}} </script>   <section id=\"cover-to-login\" class=\"popup\" data-popup-click=\"close\" style=\"display: none;\"><div class=\"content-container login-wrap\"><div class=\"cover-content\"><span data-close-popup class=\"kolicon kol-icon-close cover-close\"></span><div class=\"login-content\" id=\"login-content\">  <div class=\"login-main\" id=\"login-choose\"><div class=\"login-choose-title\">로그인</div><div class=\"choose-wrap\"><span class=\"choose-type brand\"></span> <span class=\"choose-text\">4300만 명의 인플루언서를 만나보세요.</span><span class=\"choose-button\" id=\"choose-button\" data-user-type=\"brand\"> 나는 광고주다 </span></div><div class=\"choose-wrap\"><span class=\"choose-type kol\"></span> <span class=\"choose-text\">유튜브 채널 분석과 광고 제안을 받아보세요.</span><span class=\"choose-button\" id=\"choose-button\" data-user-type=\"kol\"> 나는 유튜버다 </span></div></div><div id=\"login-choose-next\" style=\"display: none;\"><div id=\"login-tab\" class=\"login-tab\"><span sensors-name=\"kol_modal_login_tab_kol\" data-user-type=\"kol\" class=\"tab-content\"> 인플루언서 </span><span sensors-name=\"kol_modal_login_tab_brand\" data-user-type=\"brand\" class=\"tab-content\"> 광고주 </span></div><!--  广告主 --><div class=\"login-main\" id=\"login-brand\" style=\"display: none;\"><div class=\"button-wrap\"><span sensors-name=\"kol_modal_login_brand_google\" id=\"brand-gg\" class=\"login-button login-gg\"><span class=\"login-icon icon-google\"></span> Google으로 계속하기 </span></div><div class=\"divide-line mar-top-24\"><span class=\"divide-text\">OR</span></div><div class=\"input-wrap mar-top-24\"><div id=\"email-wrap\" class=\"input-content\"><input sensors-name=\"kol_modal_login_brand_email\" id=\"email\" class=\"input\" type=\"text\" name=\"email\" placeholder=\"이메일\" autocomplete=\"none\"> <span class=\"kolicon kol-icon-email2 icon-left\"></span></div></div><div class=\"error-wrap mar-top-8\" id=\"email-error\" style=\"display: none;\"></div><div class=\"input-wrap mar-top-16\"><div id=\"pwd-wrap\" class=\"input-content\"><input sensors-name=\"kol_modal_login_brand_pwd\" id=\"pwd\" name=\"pwd\" autocomplete=\"none\" class=\"input input-short\" type=\"password\" placeholder=\"비밀번호\"> <input id=\"pwd-text\" autocomplete=\"none\" class=\"input input-short hide\" type=\"text\" placeholder=\"비밀번호\"> <span class=\"kolicon kol-icon-lock icon-left\"></span> <span id=\"pwd-show\" class=\"kolicon kol-icon-show-filled icon-right\"></span> <span id=\"pwd-hide\" class=\"kolicon kol-icon-hide-filled icon-right\" style=\"display: none;\"></span></div></div><div class=\"error-wrap mar-top-8\" id=\"common-error\" style=\"display: none;\"></div><div class=\"extend-wrap clearfix mar-top-16\"><span id=\"link-verfication\" class=\"forget-pwd pull-right\">비밀번호를 잊으셨나요?</span></div><div class=\"button-wrap mar-top-32\"><span sensors-name=\"kol_modal_login_brand_login\" id=\"login-submit\" class=\"login-button\"> 로그인<span class=\"dot-loading\" id=\"login-loading\">...</span></span></div><div class=\"extend-wrap mar-top-16\"><span class=\"change\"> 아직회원이 아니신가요? <span id=\"link-signup\" class=\"link\">무료 회원가입</span></span></div></div><!--  网红 --><div class=\"login-main\" id=\"login-kol\" style=\"display: none;\"><div class=\"button-wrap mar-top-64\"><span sensors-name=\"kol_modal_login_kol_youtube\" id=\"kol-ytb\" class=\"login-button\"><span class=\"login-icon kolicon kol-icon-youtube-filled\"></span>YouTube으로 계속하기 </span></div><div class=\"button-wrap mar-top-24\"><span sensors-name=\"kol_login_kol_tiktok\" id=\"kol-tt\" class=\"login-button login-tt\"><span class=\"login-icon icon-tiktok\"></span>Continue with TikTok</span></div><div class=\"desc-wrap\">1. 내채널 인증시 채널 데이터가 매일 업데이트됩니다.<br/> 2. 내채널 인증시 양질의 광고 제휴 제안을 추천해 드립니다.</div></div></div>  <div class=\"login-bottom\"><div class=\"divide-line\"></div><div class=\"agreement-wrap mar-top-16\">회원가입 시 <a href=\\'/terms\\' class=\\'link\\'>서비스 이용약관</a> 및 <a href=\\'/privacy\\' class=\\'link\\'>개인정보 보호정책</a>에 동의하는 것을 의미합니다.</div></div></div></div></div></section><!--  tiktok 登陆异常弹窗 --><div id=\"tiktok-out\" class=\"tiktok-out-box\"><div class=\"tiktok-out-mask\"><div class=\"tiktok-out-wrap\"><span class=\"kolicon kol-icon-warning-circle\"></span> <span class=\"kick-title\">Login Error Notification</span> <span class=\"kick-des\">Sorry, you failed to login our website with your social media account. It might be caused by our system issue, please contact <span class=\"email\"><a href=\"/cdn-cgi/l/email-protection\" class=\"__cf_email__\" data-cfemail=\"85f6e0f7f3ece6e0c5ebeafdecebe3e9f0e0ebe6e0f7abe6eae8\">[email&#160;protected]</a></span> for help. </span><span class=\"kick-button-wrap clearfix\"><span class=\"kick-button button confirm\" id=\"tiktok-out-confirm\"> 확인 </span></span></div></div></div><!--  tiktok, 登陆时获取频道id所需时间较长，需要Loading (其它方式登陆也可以使用) --><div id=\"login-loading-id\" class=\"login-loading\"><div class=\"loading-box\"><span class=\"kolicon kol-icon-loading\"></span></div></div>  <section id=\"cover-to-update\" class=\"popup\" data-popup-click=\"close\" style=\"display: none;\"><div class=\"content-container\">  <div class=\"cover-content\"><span data-close-popup class=\"kol-icon kol-icon-fork cover-close\"></span><div class=\"cover-title\">회원 업그레이드</div><div class=\"cover-description\">회원 업그레이드 후 이용 가능한 서비스입니다.</div><div class=\"cover-button-content\"><a href=\"/product/pricing\" class=\"kol-btn kol-btn-primary cover-button-large\"> 회원 업그레이드 </a></div></div>  </div></section>  <section id=\"cover-to-customized\" class=\"popup\" data-popup-click=\"close\" style=\"display: none;\"><div class=\"content-container\"><div class=\"cover-content\"><span data-close-popup class=\"kol-icon kol-icon-fork cover-close\"></span><div class=\"cover-title\">권한 부족</div><div class=\"cover-description\">엔터프라이즈 회원만 이용 가능한 서비스입니다.</div><div class=\"cover-button-content\"><a href=\"/product/pricing\" class=\"kol-btn kol-btn-primary cover-button-large\"> 서비스 알아보기 </a></div></div></div></section>  <section id=\"cover-to-advance-customized\" class=\"popup\" data-popup-click=\"close\" style=\"display: none;\"><div class=\"content-container\"><div class=\"cover-content\"><span data-close-popup class=\"kol-icon kol-icon-fork cover-close\"></span><div class=\"cover-title\">프리미엄 엔터프라이즈 서비스</div><div class=\"cover-description\">프리미엄 엔터프라이즈 멤버십 사용자가 사용 가능한 서비스입니다. 프리미엄 엔터프라이즈 서비스에 대해 자세히 알아보려면 클릭하세요.</div><div class=\"cover-button-content\"><a href=\"/product/pricing\" class=\"kol-btn kol-btn-primary cover-button-large\"> 서비스 알아보기 </a></div></div></div></section>  <section id=\"cover-to-business\" class=\"popup\" data-popup-click=\"close\" style=\"display: none;\"><div class=\"content-container\"><div class=\"cover-content\"><span data-close-popup class=\"kol-icon kol-icon-fork cover-close\"></span><div class=\"cover-title\">멤버십 등급 불일치</div><div class=\"cover-description\">비즈니스 버전 사용자만 구매 가능합니다.</div></div></div></section>  <section id=\"cover-to-upper\" class=\"popup\" data-popup-click=\"close\" style=\"display: none;\"><div class=\"content-container\">  <div class=\"cover-content\"><span data-close-popup class=\"kol-icon kol-icon-fork cover-close\"></span><div class=\"cover-title\">Quota 소진될 예정입니다</div><div class=\"cover-description\">죄송하지만 현재 최대 수량이 제한 되어 있습니다. 해당 내용을 문의하시려면<a class=\\'red\\' href=\"/cdn-cgi/l/email-protection#43302631352a2026032d2c3b2a2d252f36262d2026316d202c2e\"><span class=\"__cf_email__\" data-cfemail=\"f083958286999395b09e9f88999e969c85959e939582de939f9d\">[email&#160;protected]</span></a>로 연락하세요.</div></div>  </div></section>  <section id=\"cover-to-subAccountUnable\" class=\"popup\" data-popup-click=\"close\" style=\"display: none;\"><div class=\"content-container\"><div class=\"cover-content\"><span data-close-popup class=\"kol-icon kol-icon-fork cover-close\"></span><div class=\"cover-title\">연결해제</div><div class=\"cover-question\">{subAccount} 계정의 연결을 해제하시겠습니까?</div><div class=\"cover-description\">연결 해제 시 해당 계정은 더 이상 메인 계정의 정보를 공유받을 수 없습니다 {parentAccount}</div><div class=\"cover-button-content\"><span data-close-popup class=\"kol-btn kol-btn cover-button\"> 취소 </span><span class=\"unbound-confirm kol-btn kol-btn-primary cover-button\"> 연결해제 </span></div></div></div></section>  <section id=\"cover-to-unusable\" class=\"popup\" data-popup-click=\"close\" style=\"display: none;\"><div class=\"content-container\"><div class=\"cover-content\"><span data-close-popup class=\"kol-icon kol-icon-fork cover-close\"></span><div class=\"cover-title\">구매제한</div><div class=\"cover-description\">현재 회원 등급으로 쿼타 구매 또는 유료회원 가입을 할 수 없습니다. <a href=\"/cdn-cgi/l/email-protection\" class=\"__cf_email__\" data-cfemail=\"92e1f7e0e4fbf1f7d2fcfdeafbfcf4fee7f7fcf1f7e0bcf1fdff\">[email&#160;protected]</a> 으로 문의 주시기 바랍니다.</div></div></div></section>  <section id=\"cover-to-buy\" class=\"popup\" data-popup-click=\"close\" style=\"display: none;\"><div class=\"content-container\">  <div class=\"cover-content\"><span data-close-popup class=\"kol-icon kol-icon-fork cover-close\"></span><div class=\"cover-title\">회원 서비스</div><div class=\"cover-description\">회원 구매 후 이용 가능한 서비스입니다.</div><div class=\"cover-button-content\"><a href=\"/product/pricing\" class=\"kol-btn kol-btn-primary cover-button-large\"> 회원 구매 </a></div></div>  </div></section>  <section id=\"cover-to-buy-quota\" class=\"popup\" data-popup-click=\"close\" style=\"display: none;\"><div class=\"content-container\">  <div class=\"cover-content\"><span data-close-popup class=\"kol-icon kol-icon-fork cover-close\"></span><div class=\"cover-title\">쿼타가 부족합니다</div><div class=\"cover-description\">쿼타를 구매하여 추가 데이터를 확인하세요.</div><div class=\"cover-button-content\"><a href=\"/product/pricing#api-service\" class=\"kol-btn kol-btn-primary cover-button-large\"> 쿼타 구매 </a></div></div>  </div></section>  <section id=\"cover-to-channel-conflict\"  style=\"display: none;\"  class=\"popup \"><div class=\"content-container larger\"><div class=\"cover-content\"><div class=\"cover-title\">Account authentication conflict</div><div class=\"cover-compare\">The current account has been authenticated to other channels:</div><div class=\"cover-compare\"><span class=\"weight\">Authenticated Channel：</span>&nbsp; <span></span><br><span class=\"weight\">Channel ID：</span>&nbsp; <span></span></div><div class=\"cover-compare\"><span class=\"weight\">Current Channel：</span>&nbsp; <span></span><br><span class=\"weight\">Channel ID：</span>&nbsp; <span></span></div><div class=\"cover-compare\">Please contact: <span class=\\'red\\'><a href=\"/cdn-cgi/l/email-protection\" class=\"__cf_email__\" data-cfemail=\"c6b5a3b4b0afa5a386a8a9beafa8a0aab3a3a8a5a3b4e8a5a9ab\">[email&#160;protected]</a></span></div><div class=\"cover-button-content\"><span id=\"confirm-channel-conflict\" class=\"kol-btn kol-btn-primary cover-button-large\"> I Know </span></div></div></div></section>  <section id=\"cover-to-unlock-email\" class=\"popup\" data-popup-click=\"close\" style=\"display: none;\"><div class=\"content-container\"><div class=\"cover-content\"><span data-close-popup class=\"kol-icon kol-icon-fork cover-close\"></span><div class=\"cover-title\">데이터 보기 확인</div><div class=\"cover-message\"><div class=\"cover-message-item clearfix\"><span class=\"msg-title pull-left\">잔여 이메일 조회 횟수</span><span class=\"msg-info number-remainder red pull-right\"></span></div>  <div class=\"cover-message-item clearfix\"><span class=\"msg-title pull-left\">다음 업데이트 시간: </span><span class=\"msg-info email-update red pull-right\"></span></div>  </div><div class=\"cover-check\"><input type=\"checkbox\" style=\"display: none;\" id=\"no-alert\"> <label for=\"no-alert\"><span class=\"check-cube kolicon kol-icon-correct\"></span> <span class=\"check-text\">다시 보지 않기</span></label></div><div class=\"cover-button-content\"><span data-close-popup class=\"kol-btn kol-btn cover-button\"> 취소 </span><span class=\"email-confirm kol-btn kol-btn-primary cover-button\"> 클릭하여 알아보기 </span></div></div></div></section>  <section id=\"cover-to-unlock-hight-quality\" class=\"popup\" data-popup-click=\"close\" style=\"display: none;\"><div class=\"content-container\"><div class=\"cover-content\"><span data-close-popup class=\"kol-icon kol-icon-fork cover-close\"></span><div class=\"cover-title\">데이터 보기 확인</div><div class=\"cover-message\"><div class=\"cover-message-item clearfix\"><span class=\"msg-title pull-left\">잔여 이메일 조회 횟수</span><span class=\"msg-info number-remainder red pull-right\"></span></div></div><div class=\"cover-check\"><input type=\"checkbox\" style=\"display: none;\" id=\"no-alert\"> <label for=\"no-alert\"><span class=\"check-cube kolicon kol-icon-correct\"></span> <span class=\"check-text\">다시 보지 않기</span></label></div><div class=\"cover-button-content\"><span data-close-popup class=\"kol-btn kol-btn cover-button\"> 취소 </span><span class=\"email-confirm kol-btn kol-btn-primary cover-button\"> 클릭하여 알아보기 </span></div></div></div></section>   <section id=\"un-bound\" class=\"popup\" data-popup-click=\"close\" style=\"display: none;\"><div class=\"content-container un-bound\"><div class=\"cover-content\"><span data-close-popup class=\"kol-icon kol-icon-fork cover-close\"></span><div class=\"cover-title\">연결해제</div><div class=\"cover-description\"><span class=\"weight\"> <span id=\\'own-email\\'></span> 계정의 연결을 해제하시겠습니까? </span><span class=\"des\"> 연결 해제 시 해당 계정은 더 이상 메인 계정의 정보를 공유받을 수 없습니다  <span class=\"parent-email\"></span></span></div><div class=\"cover-button-content\"><span data-close-popup class=\"kol-btn kol-btn cover-button\"> 취소 </span><span class=\"un-bound-confirm kol-btn kol-btn-primary cover-button\"> 연결해제 </span></div></div></div></section>       <section id=\"export-xls\" class=\"popup\" style=\"display: none;\"><div class=\"content-container\"><div class=\"cover-content\"><span data-close-popup class=\"kol-icon kol-icon-fork cover-close\"></span><div class=\"cover-title\">Excel파일 추출</div><div class=\"search-export-wrap\"><div class=\"export-content\"><div class=\"export-content-title\"><span>기본 필수 항목</span><span class=\"kolicon kol-icon-left\"></span></div>  <div class=\"export-list\">  <div class=\"export-item clearfix\">  <div class=\"item pull-left\"><input type=\"checkbox\" class=\"export-check export-base\" id=\"base-1\" disabled=\"disabled\"> <label for=\"base-1\" class=\"clearfix\"><span class=\"check-box kolicon kol-icon-correct pull-left\"></span> <span title=\"인플루언서\" class=\"check-name pull-left ellipsis\">인플루언서</span></label></div>  <div class=\"item pull-left\"><input type=\"checkbox\" class=\"export-check export-base\" id=\"base-2\" disabled=\"disabled\"> <label for=\"base-2\" class=\"clearfix\"><span class=\"check-box kolicon kol-icon-correct pull-left\"></span> <span title=\"인플루언서 URL\" class=\"check-name pull-left ellipsis\">인플루언서 URL</span></label></div>  </div>  <div class=\"export-item clearfix\">  <div class=\"item pull-left\"><input type=\"checkbox\" class=\"export-check export-base\" id=\"base-3\" disabled=\"disabled\"> <label for=\"base-3\" class=\"clearfix\"><span class=\"check-box kolicon kol-icon-correct pull-left\"></span> <span title=\"YouTube\" class=\"check-name pull-left ellipsis\">YouTube</span></label></div>  <div class=\"item pull-left\"><input type=\"checkbox\" class=\"export-check export-base\" id=\"base-4\" disabled=\"disabled\"> <label for=\"base-4\" class=\"clearfix\"><span class=\"check-box kolicon kol-icon-correct pull-left\"></span> <span title=\"오디언스\" class=\"check-name pull-left ellipsis\">오디언스</span></label></div>  </div>  <div class=\"export-item clearfix\">  <div class=\"item pull-left\"><input type=\"checkbox\" class=\"export-check export-base\" id=\"base-10\" disabled=\"disabled\"> <label for=\"base-10\" class=\"clearfix\"><span class=\"check-box kolicon kol-icon-correct pull-left\"></span> <span title=\"지역\" class=\"check-name pull-left ellipsis\">지역</span></label></div>  <div class=\"item pull-left\"><input type=\"checkbox\" class=\"export-check export-base\" id=\"base-7\" disabled=\"disabled\"> <label for=\"base-7\" class=\"clearfix\"><span class=\"check-box kolicon kol-icon-correct pull-left\"></span> <span title=\"NoxScore\" class=\"check-name pull-left ellipsis\">NoxScore</span></label></div>  </div>  <div class=\"export-item clearfix\">  <div class=\"item pull-left\"><input type=\"checkbox\" class=\"export-check export-base\" id=\"base-11\" disabled=\"disabled\"> <label for=\"base-11\" class=\"clearfix\"><span class=\"check-box kolicon kol-icon-correct pull-left\"></span> <span title=\"언어\" class=\"check-name pull-left ellipsis\">언어</span></label></div>  <div class=\"item pull-left\"><input type=\"checkbox\" class=\"export-check export-base\" id=\"base-12\" disabled=\"disabled\"> <label for=\"base-12\" class=\"clearfix\"><span class=\"check-box kolicon kol-icon-correct pull-left\"></span> <span title=\"YouTube 카테고리\" class=\"check-name pull-left ellipsis\">YouTube 카테고리</span></label></div>  </div>  <div class=\"export-item clearfix\">  <div class=\"item pull-left\"><input type=\"checkbox\" class=\"export-check export-base\" id=\"base-6\" disabled=\"disabled\"> <label for=\"base-6\" class=\"clearfix\"><span class=\"check-box kolicon kol-icon-correct pull-left\"></span> <span title=\"게시글\" class=\"check-name pull-left ellipsis\">게시글</span></label></div>  <div class=\"item pull-left\"><input type=\"checkbox\" class=\"export-check export-base\" id=\"base-9\" disabled=\"disabled\"> <label for=\"base-9\" class=\"clearfix\"><span class=\"check-box kolicon kol-icon-correct pull-left\"></span> <span title=\"지역 랭킹\" class=\"check-name pull-left ellipsis\">지역 랭킹</span></label></div>  </div>  <div class=\"export-item clearfix\">  <div class=\"item pull-left\"><input type=\"checkbox\" class=\"export-check export-base\" id=\"base-8\" disabled=\"disabled\"> <label for=\"base-8\" class=\"clearfix\"><span class=\"check-box kolicon kol-icon-correct pull-left\"></span> <span title=\"글로벌 랭킹\" class=\"check-name pull-left ellipsis\">글로벌 랭킹</span></label></div>  <div class=\"item pull-left\"><input type=\"checkbox\" class=\"export-check export-base\" id=\"base-5\" disabled=\"disabled\"> <label for=\"base-5\" class=\"clearfix\"><span class=\"check-box kolicon kol-icon-correct pull-left\"></span> <span title=\"누적 조회수\" class=\"check-name pull-left ellipsis\">누적 조회수</span></label></div>  </div>  <div class=\"export-item clearfix\">  <div class=\"item pull-left\"><input type=\"checkbox\" class=\"export-check export-base\" id=\"base-13\" disabled=\"disabled\"> <label for=\"base-13\" class=\"clearfix\"><span class=\"check-box kolicon kol-icon-correct pull-left\"></span> <span title=\"만든시간\" class=\"check-name pull-left ellipsis\">만든시간</span></label></div>  </div>  </div>  </div><div class=\"export-content list-show\"><div class=\"export-content-title\"><span>비즈니스 회원 선택 가능 항목</span><span class=\"kolicon kol-icon-left\"></span></div>  <div class=\"export-list\">  <div class=\"export-item clearfix\">  <div class=\"item pull-left\"><input type=\"checkbox\" class=\"export-check export-business\" data-id=\"14\" data-quota=\"30\" id=\"business-14\"> <label for=\"business-14\" class=\"clearfix\"><span class=\"check-box kolicon kol-icon-correct pull-left\"></span> <span title=\"Nox카테고리\" class=\"check-name pull-left ellipsis\">Nox카테고리</span></label></div>  <div class=\"item pull-left\"><input type=\"checkbox\" class=\"export-check export-business\" data-id=\"15\" data-quota=\"5\" id=\"business-15\"> <label for=\"business-15\" class=\"clearfix\"><span class=\"check-box kolicon kol-icon-correct pull-left\"></span> <span title=\"예상 조회수\" class=\"check-name pull-left ellipsis\">예상 조회수</span></label></div>  </div>  <div class=\"export-item clearfix\">  <div class=\"item pull-left\"><input type=\"checkbox\" class=\"export-check export-business\" data-id=\"16\" data-quota=\"5\" id=\"business-16\"> <label for=\"business-16\" class=\"clearfix\"><span class=\"check-box kolicon kol-icon-correct pull-left\"></span> <span title=\"예상 광고단가\" class=\"check-name pull-left ellipsis\">예상 광고단가</span></label></div>  <div class=\"item pull-left\"><input type=\"checkbox\" class=\"export-check export-business\" data-id=\"22\" data-quota=\"2\" id=\"business-22\"> <label for=\"business-22\" class=\"clearfix\"><span class=\"check-box kolicon kol-icon-correct pull-left\"></span> <span title=\"최근 10개 영상의 참여율(ER)\" class=\"check-name pull-left ellipsis\">최근 10개 영상의 참여율(ER)</span></label></div>  </div>  <div class=\"export-item clearfix\">  <div class=\"item pull-left\"><input type=\"checkbox\" class=\"export-check export-business\" data-id=\"26\" data-quota=\"2\" id=\"business-26\"> <label for=\"business-26\" class=\"clearfix\"><span class=\"check-box kolicon kol-icon-correct pull-left\"></span> <span title=\"최근 10개 영상의 평균 조회수\" class=\"check-name pull-left ellipsis\">최근 10개 영상의 평균 조회수</span></label></div>  <div class=\"item pull-left\"><input type=\"checkbox\" class=\"export-check export-business\" data-id=\"19\" data-quota=\"10\" id=\"business-19\"> <label for=\"business-19\" class=\"clearfix\"><span class=\"check-box kolicon kol-icon-correct pull-left\"></span> <span title=\"시청자 지역분포\" class=\"check-name pull-left ellipsis\">시청자 지역분포</span></label></div>  </div>  <div class=\"export-item clearfix\">  <div class=\"item pull-left\"><input type=\"checkbox\" class=\"export-check export-business\" data-id=\"20\" data-quota=\"10\" id=\"business-20\"> <label for=\"business-20\" class=\"clearfix\"><span class=\"check-box kolicon kol-icon-correct pull-left\"></span> <span title=\"시청자 성별 및 연령 분포\" class=\"check-name pull-left ellipsis\">시청자 성별 및 연령 분포</span></label></div>  <div class=\"item pull-left\"><input type=\"checkbox\" class=\"export-check export-business\" data-id=\"21\" data-quota=\"2\" id=\"business-21\"> <label for=\"business-21\" class=\"clearfix\"><span class=\"check-box kolicon kol-icon-correct pull-left\"></span> <span title=\"최근 5개 영상의 참여율(ER)\" class=\"check-name pull-left ellipsis\">최근 5개 영상의 참여율(ER)</span></label></div>  </div>  <div class=\"export-item clearfix\">  <div class=\"item pull-left\"><input type=\"checkbox\" class=\"export-check export-business\" data-id=\"23\" data-quota=\"2\" id=\"business-23\"> <label for=\"business-23\" class=\"clearfix\"><span class=\"check-box kolicon kol-icon-correct pull-left\"></span> <span title=\"최근 30개 영상의 참여율(ER)\" class=\"check-name pull-left ellipsis\">최근 30개 영상의 참여율(ER)</span></label></div>  <div class=\"item pull-left\"><input type=\"checkbox\" class=\"export-check export-business\" data-id=\"25\" data-quota=\"2\" id=\"business-25\"> <label for=\"business-25\" class=\"clearfix\"><span class=\"check-box kolicon kol-icon-correct pull-left\"></span> <span title=\"최근 5개 영상의 평균 조회수\" class=\"check-name pull-left ellipsis\">최근 5개 영상의 평균 조회수</span></label></div>  </div>  <div class=\"export-item clearfix\">  <div class=\"item pull-left\"><input type=\"checkbox\" class=\"export-check export-business\" data-id=\"27\" data-quota=\"2\" id=\"business-27\"> <label for=\"business-27\" class=\"clearfix\"><span class=\"check-box kolicon kol-icon-correct pull-left\"></span> <span title=\"최근 30개 영상의 평균 조회수\" class=\"check-name pull-left ellipsis\">최근 30개 영상의 평균 조회수</span></label></div>  <div class=\"item pull-left\"><input type=\"checkbox\" class=\"export-check export-business\" data-id=\"24\" data-quota=\"2\" id=\"business-24\"> <label for=\"business-24\" class=\"clearfix\"><span class=\"check-box kolicon kol-icon-correct pull-left\"></span> <span title=\"최근 30일 업로드한 영상의 참여율(ER)\" class=\"check-name pull-left ellipsis\">최근 30일 업로드한 영상의 참여율(ER)</span></label></div>  </div>  <div class=\"export-item clearfix\">  <div class=\"item pull-left\"><input type=\"checkbox\" class=\"export-check export-business\" data-id=\"28\" data-quota=\"2\" id=\"business-28\"> <label for=\"business-28\" class=\"clearfix\"><span class=\"check-box kolicon kol-icon-correct pull-left\"></span> <span title=\"최근 10일 업로드한 영상의 평균 조회수\" class=\"check-name pull-left ellipsis\">최근 10일 업로드한 영상의 평균 조회수</span></label></div>  <div class=\"item pull-left\"><input type=\"checkbox\" class=\"export-check export-business\" data-id=\"29\" data-quota=\"2\" id=\"business-29\"> <label for=\"business-29\" class=\"clearfix\"><span class=\"check-box kolicon kol-icon-correct pull-left\"></span> <span title=\"최근 30일 업로드한 영상의 평균 조회수\" class=\"check-name pull-left ellipsis\">최근 30일 업로드한 영상의 평균 조회수</span></label></div>  </div>  <div class=\"export-item clearfix\">  <div class=\"item pull-left\"><input type=\"checkbox\" class=\"export-check export-business\" data-id=\"30\" data-quota=\"2\" id=\"business-30\"> <label for=\"business-30\" class=\"clearfix\"><span class=\"check-box kolicon kol-icon-correct pull-left\"></span> <span title=\"최근 10일 업로드한 영상수\" class=\"check-name pull-left ellipsis\">최근 10일 업로드한 영상수</span></label></div>  <div class=\"item pull-left\"><input type=\"checkbox\" class=\"export-check export-business\" data-id=\"32\" data-quota=\"2\" id=\"business-32\"> <label for=\"business-32\" class=\"clearfix\"><span class=\"check-box kolicon kol-icon-correct pull-left\"></span> <span title=\"최근 30일 업로드한 영상의 조회수/구독자 비율\" class=\"check-name pull-left ellipsis\">최근 30일 업로드한 영상의 조회수/구독자 비율</span></label></div>  </div>  <div class=\"export-item clearfix\">  <div class=\"item pull-left\"><input type=\"checkbox\" class=\"export-check export-business\" data-id=\"33\" data-quota=\"2\" id=\"business-33\"> <label for=\"business-33\" class=\"clearfix\"><span class=\"check-box kolicon kol-icon-correct pull-left\"></span> <span title=\"최근 30일 업로드한 영사의 좋아요/조회수 비율\" class=\"check-name pull-left ellipsis\">최근 30일 업로드한 영사의 좋아요/조회수 비율</span></label></div>  <div class=\"item pull-left\"><input type=\"checkbox\" class=\"export-check export-business\" data-id=\"34\" data-quota=\"2\" id=\"business-34\"> <label for=\"business-34\" class=\"clearfix\"><span class=\"check-box kolicon kol-icon-correct pull-left\"></span> <span title=\"최근 30일 업로드한 영상의 댓글/조회수 비율\" class=\"check-name pull-left ellipsis\">최근 30일 업로드한 영상의 댓글/조회수 비율</span></label></div>  </div>  <div class=\"export-item clearfix\">  <div class=\"item pull-left\"><input type=\"checkbox\" class=\"export-check export-business\" data-id=\"31\" data-quota=\"2\" id=\"business-31\"> <label for=\"business-31\" class=\"clearfix\"><span class=\"check-box kolicon kol-icon-correct pull-left\"></span> <span title=\"최근 30일 업로드한 영상수\" class=\"check-name pull-left ellipsis\">최근 30일 업로드한 영상수</span></label></div>  <div class=\"item pull-left\"><input type=\"checkbox\" class=\"export-check export-business\" data-id=\"35\" data-quota=\"2\" id=\"business-35\"> <label for=\"business-35\" class=\"clearfix\"><span class=\"check-box kolicon kol-icon-correct pull-left\"></span> <span title=\"최근 30일 업로드한 영상의 평균 싫어요/조회수 비율\" class=\"check-name pull-left ellipsis\">최근 30일 업로드한 영상의 평균 싫어요/조회수 비율</span></label></div>  </div>  <div class=\"export-item clearfix\">  <div class=\"item pull-left\"><input type=\"checkbox\" class=\"export-check export-business\" data-id=\"36\" data-quota=\"2\" id=\"business-36\"> <label for=\"business-36\" class=\"clearfix\"><span class=\"check-box kolicon kol-icon-correct pull-left\"></span> <span title=\"최근 30개 영상의 평균 조회수/구독자 비율\" class=\"check-name pull-left ellipsis\">최근 30개 영상의 평균 조회수/구독자 비율</span></label></div>  <div class=\"item pull-left\"><input type=\"checkbox\" class=\"export-check export-business\" data-id=\"37\" data-quota=\"2\" id=\"business-37\"> <label for=\"business-37\" class=\"clearfix\"><span class=\"check-box kolicon kol-icon-correct pull-left\"></span> <span title=\"최근 30개 영상의 평균 좋아요/조회수 비율\" class=\"check-name pull-left ellipsis\">최근 30개 영상의 평균 좋아요/조회수 비율</span></label></div>  </div>  <div class=\"export-item clearfix\">  <div class=\"item pull-left\"><input type=\"checkbox\" class=\"export-check export-business\" data-id=\"38\" data-quota=\"2\" id=\"business-38\"> <label for=\"business-38\" class=\"clearfix\"><span class=\"check-box kolicon kol-icon-correct pull-left\"></span> <span title=\"최근 30개 영상의 평균 댓글수/조회수 비율\" class=\"check-name pull-left ellipsis\">최근 30개 영상의 평균 댓글수/조회수 비율</span></label></div>  <div class=\"item pull-left\"><input type=\"checkbox\" class=\"export-check export-business\" data-id=\"39\" data-quota=\"2\" id=\"business-39\"> <label for=\"business-39\" class=\"clearfix\"><span class=\"check-box kolicon kol-icon-correct pull-left\"></span> <span title=\"최근 30개 영상의 평균 싫어요/조회수 비율\" class=\"check-name pull-left ellipsis\">최근 30개 영상의 평균 싫어요/조회수 비율</span></label></div>  </div>  </div>  </div><div class=\"export-content\"><div class=\"export-content-title\"><span>엔터프라이즈 회원 선택 가능 항목 <img data-toggle=\"tooltip\" data-container=\"body\" data-original-title=\"엔터프라이즈 회원만 이용 가능한 서비스입니다\" class=\"email-search-viplevel\" src=\"https://res-static.noxinfluencer.com/kol/2024/03/public/img/vip/263ee96f.svg\"></span><span class=\"kolicon kol-icon-left\"></span></div>  <div class=\"export-list\">  <div class=\"export-item clearfix\">  <div class=\"item pull-left\">  <input type=\"checkbox\" class=\"export-check export-customized\" data-id=\"17\" id=\"customized-17\">  <label for=\"customized-17\" class=\"clearfix\"><span class=\"check-box kolicon kol-icon-correct pull-left\"></span> <span title=\"이메일\" class=\"check-name pull-left ellipsis\">이메일</span></label></div>  <div class=\"item pull-left\">  <input type=\"checkbox\" class=\"export-check export-customized\" data-id=\"40\" id=\"customized-40\">  <label for=\"customized-40\" class=\"clearfix\"><span class=\"check-box kolicon kol-icon-correct pull-left\"></span> <span title=\"SNS\" class=\"check-name pull-left ellipsis\">SNS</span></label></div>  </div>  <div class=\"export-item clearfix\">  <div class=\"item pull-left\">  <input type=\"checkbox\" class=\"export-check export-customized\" data-id=\"18\" id=\"customized-18\">  <label for=\"customized-18\" class=\"clearfix\"><span class=\"check-box kolicon kol-icon-correct pull-left\"></span> <span title=\"광고 사례 (브랜드)\" class=\"check-name pull-left ellipsis\">광고 사례 (브랜드)</span></label></div>  <div class=\"item pull-left\">  <input type=\"checkbox\" class=\"export-check export-customized\" data-id=\"43\" id=\"customized-43\">  <label for=\"customized-43\" class=\"clearfix\"><span class=\"check-box kolicon kol-icon-correct pull-left\"></span> <span title=\"일별 구독자 데이터\" class=\"check-name pull-left ellipsis\">일별 구독자 데이터</span></label></div>  </div>  <div class=\"export-item clearfix\">  <div class=\"item pull-left\">  <input type=\"checkbox\" class=\"export-check export-customized\" data-id=\"44\" id=\"customized-44\">  <label for=\"customized-44\" class=\"clearfix\"><span class=\"check-box kolicon kol-icon-correct pull-left\"></span> <span title=\"일별 조회수 데이터\" class=\"check-name pull-left ellipsis\">일별 조회수 데이터</span></label></div>  </div>  </div>  </div><div class=\"export-number\"><span class=\"number-label\">수량</span><div class=\"export-input clearfix\"><div class=\"input-wrap pull-left\"><input class=\"search-quantity input\" type=\"text\" placeholder=\"저장할 채널의 수량을 입력하세요\"></div><div class=\"export-number-tips tips pull-right\">tip: 최대 20,000개 검색결과 저장 가능합니다. </div></div></div><div class=\"export-quota-wrap\"><div class=\"quota-balance\">  <div class=\"quota-balance\"> 잔여수량  <span class=\"export-remainder\"></span></div>  </div></div><span class=\"purchase-export kol-btn kol-btn-primary cover-button-large mar-top-24\"> 저장 </span></div></div></div></section>    <section id=\"export-success\" data-popup-click=\"close\" class=\"popup\" style=\"display: none;\"><div class=\"content-container\"><div class=\"cover-content\"><span data-close-popup class=\"kol-icon kol-icon-fork cover-close\"></span><div class=\"cover-title\">파일 내보내기 중</div><div class=\"cover-compare\">파일 내보내기가 완료되었습니다. 확인 버튼을 클릭하여 결과를 확인하세요.</div><div class=\"cover-button-content\"><a href=\"/service/data-out\" id=\"purchase-export\" class=\"kol-btn kol-btn-primary cover-button-large\"> 결과확인 </a></div></div></div></section>       <div class=\"cookie-privacy\" id=\"cookie-privacy\"><div class=\"content\"> noxInfluencer.com은 사용자 경험을 향상시키기 위해 쿠키를 사용합니다. 웹사이트를 계속 사용할 경우 쿠키허용을 의미합니다.  <a href=\"/privacy\">쿠키정책</a><span class=\"kolicon kol-icon-close\"></span></div></div>  <div id=\"kick-out\" class=\"kick-out-wrap\"  style=\"display: none;\" ><span class=\"kolicon kol-icon-warning-circle\"></span> <span class=\"kick-title\">로그아웃 알림</span><span class=\"kick-des\"></span><span class=\"kick-des\">팀원과 함께 계정 공유가 필요할 경우 <a href=\\'javascript:void(0)\\' class=\\'kick-button kick-reset-pwd\\' data-click=\\'addSub\\'>서브계정</a>(Staff Account) 설정을 통해 계정 공유 가능합니다.</span><span class=\"kick-button-wrap clearfix\"><span class=\"kick-button button confirm pull-left\" data-click=\"relog\">재로그인</span><span class=\"kick-button button pull-left\">확인</span></span></div><div id=\"time-out\" class=\"time-out-wrap\" style=\"display: none;\"><i class=\"kolicon kol-icon-close-line close\" id=\"time-out-close\"></i> <span class=\"kolicon kol-icon-warning-circle\"></span> <span class=\"kick-title\">로딩 실패</span><span class=\"kick-des\">컴퓨터의 시스템 시간이 거주 국가의 표준시과 불일치로 인해 데이터를 액세스할 수 없습니다. 시스템 시간 설정을 거주 국가의 표준시로 변경 후 해당 페이지를 새로고침해 주세요.</span></div><script data-cfasync=\"false\" src=\"/cdn-cgi/scripts/5c5dd728/cloudflare-static/email-decode.min.js\"></script><script id=\"template-global-alert\" type=\"text/html\"><div class=\"global-alert-wrap\">\\n      <% if (status === \\'success\\') { %>\\n      <span class=\"kolicon kol-icon-correct-circle-filled\"></span>\\n      <% } else { %>\\n      <span class=\"kolicon kol-icon-close-circle-filled\"></span>\\n      <% } %>\\n      <span class=\"alert-text\"><%=# text %></span>\\n      <% if ( !isNoCancel ) { %>\\n      <a class=\"cancel-collect\"><%= cancelText %></a>\\n      <% } %>\\n      <span class=\"kolicon kol-icon-close\"></span>\\n    </div></script>  <input id=\"country\" type=\"hidden\" value=\"KR\"> <input id=\"type\" type=\"hidden\" value=\"subs\"> <input id=\"interval\" type=\"hidden\" value=\"weekly\"> <input id=\"category\" type=\"hidden\" value=\"0\"> <input id=\"tag\" type=\"hidden\" value=\"\"><script src=\"https://res-static.noxinfluencer.com/kol/2024/03/public/js/runtime.f18d6bba7.js\"></script><script src=\"https://res-static.noxinfluencer.com/kol/2024/03/public/js/chunk.vendor.e88b6cdb.js\"></script><script src=\"https://res-static.noxinfluencer.com/kol/2024/03/public/js/chunk.common.4967740a.js\"></script><script src=\"https://res-static.noxinfluencer.com/kol/2024/03/public/js/chunk.youtubeChannelRank.323e840f.js\"></script>   <script type=\"text/javascript\">if (wcs_do) wcs_do(_nasa);</script>    <script>window.__lc = window.__lc || {};\\n  window.__lc.license = 13249272;\\n  ; (function (n, t, c) { function i(n) { return e._h ? e._h.apply(null, n) : e._q.push(n) } var e = { _q: [], _h: null, _v: \"2.0\", on: function () { i([\"on\", c.call(arguments)]) }, once: function () { i([\"once\", c.call(arguments)]) }, off: function () { i([\"off\", c.call(arguments)]) }, get: function () { if (!e._h) throw new Error(\"[LiveChatWidget] You can\\'t use getters before load.\"); return i([\"get\", c.call(arguments)]) }, call: function () { i([\"call\", c.call(arguments)]) }, init: function () { var n = t.createElement(\"script\"); n.async = !0, n.type = \"text/javascript\", n.src = \"https://cdn.livechatinc.com/tracking.js\", t.head.appendChild(n) } }; !n.__lc.asyncInit && e.init(), n.LiveChatWidget = n.LiveChatWidget || e }(window, document, [].slice))</script><noscript><a href=\"https://www.livechatinc.com/chat-with/13249272/\" rel=\"nofollow\">Chat with us</a>, powered by <a href=\"https://www.livechatinc.com/?welcome\" rel=\"noopener nofollow\" target=\"_blank\">LiveChat</a></noscript>  </html>'"
      ]
     },
     "execution_count": 16,
     "metadata": {},
     "output_type": "execute_result"
    }
   ],
   "source": [
    "html_src = resp.text\n",
    "html_src"
   ]
  },
  {
   "cell_type": "code",
   "execution_count": 17,
   "id": "71cc5ecc",
   "metadata": {},
   "outputs": [
    {
     "data": {
      "text/plain": [
       "<!DOCTYPE html>\n",
       "<html lang=\"kr\"><head> <title>유튜브 순위 TOP 100 - 녹스인플루언서</title> <meta content=\"유튜브 순위,YouTube,NoxInfluencer,유튜브 인플루언서,BLACKPINK,BANGTANTV,유튜버 순위,구독자 순위,유튜브 랭킹\" name=\"keywords\"/><meta content=\"한국 TOP 100 유튜브 채널. 유튜브 순위, 조회수 순위 등 랭킹 순위를 쉽게 확인해 보세요\" name=\"description\"/> <meta content=\"https://res06.bignox.com/noxinfluencer/youtube/avatar/influencer_launcher_app.png\" name=\"twitter:image\"/><meta content=\"summary\" name=\"twitter:card\"/><meta content=\" 유튜브 순위 TOP 100 - 녹스인플루언서 \" name=\"twitter:title\"/><meta content=\"250\" property=\"og:image:width\"/><meta content=\"250\" property=\"og:image:height\"/><meta content=\"website\" property=\"og:type\"/><meta content=\"314894179081566\" property=\"fb:app_id\"/><meta content=\"https://res06.bignox.com/noxinfluencer/youtube/avatar/influencer_launcher_app.png\" property=\"og:image\"/> <meta content=\"유튜브 순위 TOP 100 - 녹스인플루언서\" property=\"og:title\"/><meta content=\"한국 TOP 100 유튜브 채널. 유튜브 순위, 조회수 순위 등 랭킹 순위를 쉽게 확인해 보세요\" property=\"og:description\"/><link href=\"https://kr.noxinfluencer.com/youtube-channel-rank/top-100-kr-all-youtuber-sorted-by-subs-weekly\" rel=\"canonical\"/> <meta content=\"https://kr.noxinfluencer.com/youtube-channel-rank/top-100-kr-all-youtuber-sorted-by-subs-weekly?utm_source=facebook\" property=\"og:url\"/> <meta content=\"iaFGWUTfITKiaBXGR7k9ktw63UHj54kGW2XyxEb8HVs\" name=\"google-site-verification\"/> <meta content=\"b7626251b1b03c8f676f8464fee5f135\" name=\"360-site-verification\"/><meta content=\"ADC57FC612DD08D828FEF7741B72F245\" name=\"msvalidate.01\"/> <meta charset=\"utf-8\"/><link href=\"/favicon.ico\" rel=\"shortcut icon\" type=\"image/x-icon\"/><meta content=\"webkit\" name=\"renderer\"/><meta content=\"IE=edge\" http-equiv=\"X-UA-Compatible\"/> <link href=\"https://www.noxinfluencer.com/youtube-channel-rank/top-100-kr-all-youtuber-sorted-by-subs-weekly\" hreflang=\"en\" rel=\"alternate\"/><link href=\"https://cn.noxinfluencer.com/youtube-channel-rank/top-100-kr-all-youtuber-sorted-by-subs-weekly\" hreflang=\"zh-Hans\" rel=\"alternate\"/><link href=\"https://es.noxinfluencer.com/youtube-channel-rank/top-100-kr-all-youtuber-sorted-by-subs-weekly\" hreflang=\"es\" rel=\"alternate\"/><link href=\"https://vn.noxinfluencer.com/youtube-channel-rank/top-100-kr-all-youtuber-sorted-by-subs-weekly\" hreflang=\"vi\" rel=\"alternate\"/><link href=\"https://th.noxinfluencer.com/youtube-channel-rank/top-100-kr-all-youtuber-sorted-by-subs-weekly\" hreflang=\"th\" rel=\"alternate\"/><link href=\"https://pt.noxinfluencer.com/youtube-channel-rank/top-100-kr-all-youtuber-sorted-by-subs-weekly\" hreflang=\"pt\" rel=\"alternate\"/><link href=\"https://id.noxinfluencer.com/youtube-channel-rank/top-100-kr-all-youtuber-sorted-by-subs-weekly\" hreflang=\"id\" rel=\"alternate\"/><link href=\"https://kr.noxinfluencer.com/youtube-channel-rank/top-100-kr-all-youtuber-sorted-by-subs-weekly\" hreflang=\"ko\" rel=\"alternate\"/><link href=\"https://jp.noxinfluencer.com/youtube-channel-rank/top-100-kr-all-youtuber-sorted-by-subs-weekly\" hreflang=\"ja\" rel=\"alternate\"/><link href=\"https://tw.noxinfluencer.com/youtube-channel-rank/top-100-kr-all-youtuber-sorted-by-subs-weekly\" hreflang=\"zh-Hant\" rel=\"alternate\"/><link href=\"https://www.noxinfluencer.com/youtube-channel-rank/top-100-kr-all-youtuber-sorted-by-subs-weekly\" hreflang=\"x-default\" rel=\"alternate\"/> <link href=\"https://fonts.googleapis.com\" rel=\"preconnect\"/><link crossorigin=\"\" href=\"https://fonts.gstatic.com\" rel=\"preconnect\"/><link href=\"https://fonts.googleapis.com/css2?family=Noto+Sans+Display:wght@100;200;300;400;500;600;700;800;900&amp;display=swap\" rel=\"stylesheet\"/><link href=\"https://fonts.googleapis.com/css2?family=Noto+Sans+SC:wght@100;300;400;500;700;900&amp;display=swap\" rel=\"stylesheet\"/><link href=\"https://fonts.googleapis.com/css2?family=Noto+Sans+KR:wght@100;300;400;500;700;900&amp;display=swap\" rel=\"stylesheet\"/><link href=\"https://fonts.googleapis.com/css2?family=Noto+Sans+TC:wght@100;300;400;500;700;900&amp;display=swap\" rel=\"stylesheet\"/><link href=\"https://fonts.googleapis.com/css2?family=Noto+Sans+JP:wght@100;300;400;500;700;900&amp;display=swap\" rel=\"stylesheet\"/> <!-- Global site tag (gtag.js) - Google Analytics --> <script async=\"\" src=\"https://www.googletagmanager.com/gtag/js?id=UA-116275628-9\"></script><script>window.dataLayer = window.dataLayer || [];\n",
       "  function gtag() { dataLayer.push(arguments); }\n",
       "  gtag('js', new Date());\n",
       "  gtag('config', 'UA-116275628-9');\n",
       "  // 转化追踪\n",
       "  gtag('config', 'AW-307418288');</script><!-- naver 统计 --><script src=\"https://wcs.naver.net/wcslog.js\" type=\"text/javascript\"></script><script type=\"text/javascript\">if (!wcs_add) var wcs_add = {};\n",
       "  wcs_add.wa = 's_3ee6bd4edfdf';\n",
       "  if (!_nasa) var _nasa = {};\n",
       "  wcs.inflow(\"noxinfluencer.com\");</script> <!-- Global site tag (gtag.js) - Google Analytics --><script async=\"\" src=\"https://www.googletagmanager.com/gtag/js?id=UA-226258965-1\"></script><script>window.dataLayer = window.dataLayer || [];\n",
       "  function gtag(){dataLayer.push(arguments);}\n",
       "  gtag('js', new Date());\n",
       "\n",
       "  gtag('config', 'UA-226258965-1');</script><!-- Google tag (gtag.js) --><script async=\"\" src=\"https://www.googletagmanager.com/gtag/js?id=G-PZTQQRP507\"></script><script>window.dataLayer = window.dataLayer || [];\n",
       "  function gtag() { dataLayer.push(arguments); }\n",
       "  gtag('js', new Date());\n",
       "  gtag('config', 'G-PZTQQRP507');\n",
       "  window.gtag = gtag;</script> <script>var _hmt = _hmt || [];\n",
       "(function() {\n",
       "  var hm = document.createElement(\"script\");\n",
       "  hm.src = \"https://hm.baidu.com/hm.js?f3e03938f6b7a8b3a66b7bb07bfdd11b\";\n",
       "  var s = document.getElementsByTagName(\"script\")[0]; \n",
       "  s.parentNode.insertBefore(hm, s);\n",
       "})();</script> <!-- Google Tag Manager --><script>(function(w,d,s,l,i){w[l]=w[l]||[];w[l].push({'gtm.start':\n",
       "new Date().getTime(),event:'gtm.js'});var f=d.getElementsByTagName(s)[0],\n",
       "j=d.createElement(s),dl=l!='dataLayer'?'&l='+l:'';j.async=true;j.src=\n",
       "'https://www.googletagmanager.com/gtm.js?id='+i+dl;f.parentNode.insertBefore(j,f);\n",
       "})(window,document,'script','dataLayer','GTM-PR9ZSLQ');</script><!-- End Google Tag Manager --> <!-- Facebook Pixel Code --> <script>!function(f,b,e,v,n,t,s)\n",
       "  {if(f.fbq)return;n=f.fbq=function(){n.callMethod?\n",
       "  n.callMethod.apply(n,arguments):n.queue.push(arguments)};\n",
       "  if(!f._fbq)f._fbq=n;n.push=n;n.loaded=!0;n.version='2.0';\n",
       "  n.queue=[];t=b.createElement(e);t.async=!0;\n",
       "  t.src=v;s=b.getElementsByTagName(e)[0];\n",
       "  s.parentNode.insertBefore(t,s)}(window, document,'script',\n",
       "  'https://connect.facebook.net/en_US/fbevents.js');\n",
       "  fbq('init', '1144204275775049');\n",
       "  fbq('track', 'PageView');</script><noscript><img height=\"1\" src=\"https://www.facebook.com/tr?id=1144204275775049&amp;ev=PageView&amp;noscript=1\" style=\"display:none\" width=\"1\"/></noscript> <!-- End Facebook Pixel Code --> <script>window.saStartTime = new Date();\n",
       "  window.onload = function () {\n",
       "    // window.saEndTime = new Date();\n",
       "    // sa.track('pageLoadTime',{\n",
       "    //     loadTime:window.saEndTime.getTime() -  window.saStartTime.getTime()\n",
       "    // });\n",
       "  }</script> <link href=\"https://res-static.noxinfluencer.com/kol/2024/03/public/css/common.ec61a271d442ed4e1e41.css\" rel=\"stylesheet\"/><link href=\"https://res-static.noxinfluencer.com/kol/2024/03/public/css/youtubeChannelRank.d75706a40c76b0105ddc.css\" rel=\"stylesheet\"/> </head><body class=\"lang_kr\" data-locale=\"kr\"> <input autocomplete=\"none\" name=\"email\" style=\"opacity: 0;position: absolute;z-index: -1;\" type=\"text\"/> <input autocomplete=\"none\" name=\"pwd\" style=\"opacity: 0;position: absolute;z-index: -1;\" type=\"password\"/> <!-- 左侧导航菜单--> <!-- 有侧边导航Header --> <!-- if(!isLogin | !newNav) --> <header class=\"header\"><div class=\"header-container\"><a class=\"logo\" href=\"/\" title=\"NoxInfluencer\"><img alt=\"NoxInfluencer\" src=\"https://res-static.noxinfluencer.com/kol/2024/03/public/img/216253b9.png\"/></a><div class=\"header-nav\"> <ul class=\"header-nav-container\"> <li class=\"nav-item has-sub-menu\"><span class=\"nav-link\">인기 순위</span><div class=\"sub-menu top-list-menu\" id=\"top-list-menu\"><ul class=\"top-list-tab clearfix\"><li class=\"top-tab-item active\" data-content-id=\"header-tab-youtube\"><span class=\"tab-link\"><i class=\"kolicon kol-icon-youtube-circle-filled\" style=\"color: #d40c18;\"></i> <span class=\"tab-title\">YouTube</span></span></li><li class=\"top-tab-item\" data-content-id=\"header-tab-instagram\"><span class=\"tab-link\"><i class=\"kol-icon kol-icon-ins-circle\"></i> <span class=\"tab-title\">Instagram</span></span></li><li class=\"top-tab-item\" data-content-id=\"header-tab-tiktok\"><span class=\"tab-link\"><i class=\"kol-icon kol-icon-tiktok-circle\"></i> <span class=\"tab-title\">TikTok</span></span></li><li class=\"top-tab-item\" data-content-id=\"header-tab-twitch\"><span class=\"tab-link\"><i class=\"kolicon kol-icon-twitch-circle-filled\" style=\"color: #6441a5\"></i> <span class=\"tab-title\">Twitch</span></span></li></ul><div class=\"sub-menu-container\"><div class=\"top-list-content\"><div class=\"content-pane active\" id=\"header-tab-youtube\"><div class=\"top-menu-column\"><div class=\"top-menu-title\">인기 유튜버 순위</div><ul class=\"top-menu-list\"><li class=\"top-menu-item\"><a class=\"top-menu-link\" href=\"/youtube-channel-rank/top-100-kr-all-youtuber-sorted-by-subs-weekly\">Top 100 유튜버 순위 (구독자 순)</a></li><li class=\"top-menu-item\"><a class=\"top-menu-link\" href=\"/youtube-channel-rank/top-100-kr-all-youtuber-sorted-by-growth-weekly\">Top 100 유튜버 순위 (급상승 순)</a></li><li class=\"top-menu-item\"><a class=\"top-menu-link\" href=\"/youtube-channel-rank/top-100-kr-all-youtuber-sorted-by-avgview-weekly\">Top 100 유튜버 순위 (평균 조회수 순)</a></li><li class=\"top-menu-item\"><a class=\"top-menu-link\" href=\"/youtube-channel-rank/top-100-kr-all-youtuber-sorted-by-noxscore-weekly\">Top 100 유튜버 순위 (NoxScore 순)</a></li><li class=\"top-menu-item\"><a class=\"top-menu-link\" href=\"/youtube-channel-rank/top-100-kr-all-youtuber-sorted-by-decrease-weekly\">Top 100 유튜버 순위 (하락세 순)</a></li><li class=\"top-menu-item\"><a class=\"top-menu-link\" href=\"/youtube-channel-rank/top-100-kr-all-youtuber-sorted-by-views-monthly\">Top 100 유튜버 순위(월조회수 순)</a></li></ul></div><div class=\"top-menu-column\"><div class=\"top-menu-title\">YouTube 동영상 랭킹</div><ul class=\"top-menu-list\"> <li class=\"top-menu-item\"> <a class=\"top-menu-link\" href=\"/youtube-video-rank\"> 오늘의 인기 동영상 </a> </li> <li class=\"top-menu-item\"> <a class=\"top-menu-link\" href=\"/youtube-video-rank/top-kr-all-video-day\"> 오늘의 Top 100 한국 </a> </li> <li class=\"top-menu-item\"> <a class=\"top-menu-link\" href=\"/youtube-video-rank/top-jp-all-video-day\"> 오늘의 Top 100 일본 </a> </li> <li class=\"top-menu-item\"> <a class=\"top-menu-link\" href=\"/youtube-video-rank/top-us-all-video-day\"> 오늘의 Top 100 미국 </a> </li> <li class=\"top-menu-item\"> <a class=\"top-menu-link\" href=\"/youtube-video-rank/top-uk-all-video-day\"> 오늘의 Top 100 영국 </a> </li> <li class=\"top-menu-item\"> <a class=\"top-menu-link\" href=\"/youtube-video-rank/top-id-all-video-day\"> 오늘의 Top 100 인도네시아 </a> </li> </ul></div><div class=\"top-menu-column\"><div class=\"top-menu-title\">인기 YouTube 카테고리</div><ul class=\"top-menu-list\"> <li class=\"top-menu-item\"><a class=\"top-menu-link\" href=\"/youtube-channel-rank/top-100-kr-gaming-youtuber-sorted-by-subs-weekly\">게임 </a></li> <li class=\"top-menu-item\"><a class=\"top-menu-link\" href=\"/youtube-channel-rank/top-100-kr-science%20%26%20technology-youtuber-sorted-by-subs-weekly\">과학기술 </a></li> <li class=\"top-menu-item\"><a class=\"top-menu-link\" href=\"/youtube-channel-rank/top-100-kr-entertainment-youtuber-sorted-by-subs-weekly\">엔터테인먼트 </a></li> <li class=\"top-menu-item\"><a class=\"top-menu-link\" href=\"/youtube-channel-rank/top-100-kr-travel%20%26%20events-youtuber-sorted-by-subs-weekly\">여행/이벤트 </a></li> <li class=\"top-menu-item\"><a class=\"top-menu-link\" href=\"/youtube-channel-rank/top-100-kr-howto%20%26%20style-youtuber-sorted-by-subs-weekly\">노하우/스타일 </a></li> <li class=\"top-menu-item\"><a class=\"top-menu-link\" href=\"/youtube-channel-rank/top-100-kr-autos%20%26%20vehicles-youtuber-sorted-by-subs-weekly\">자동차 </a></li> </ul></div></div><div class=\"content-pane\" id=\"header-tab-instagram\"><div class=\"top-menu-column\"><div class=\"top-menu-title\">Instagram 순위</div><ul class=\"top-menu-list\"><li class=\"top-menu-item\"><a class=\"top-menu-link\" href=\"/instagram-channel-rank/top-100-kr-all-sorted-by-followers-weekly\"> Top 100 Instagram 팔로워 순위 </a></li><li class=\"top-menu-item\"><a class=\"top-menu-link\" href=\"/instagram-channel-rank/top-100-kr-all-sorted-by-noxscore-weekly\"> Top 100 Instagram Nox 평점 순위 </a></li><li class=\"top-menu-item\"><a class=\"top-menu-link\" href=\"/instagram-channel-rank/top-100-kr-all-sorted-by-uploads-weekly\"> Top 100 Instagram 게시물 순위 </a></li><li class=\"top-menu-item\"><a class=\"top-menu-link\" href=\"/instagram-channel-rank/top-100-kr-all-sorted-by-engagementrate-weekly\"> Top 100 Instagram 참여도 순위 </a></li></ul></div></div><div class=\"content-pane\" id=\"header-tab-tiktok\"><div class=\"top-menu-column\"><div class=\"top-menu-title\">TikTok 순위</div><ul class=\"top-menu-list\"><li class=\"top-menu-item\"><a class=\"top-menu-link\" href=\"/tiktok-channel-rank/top-100-all-all-sorted-by-followers-weekly\"> Top 100 TikTok 팔로워 순위 </a></li><li class=\"top-menu-item\"><a class=\"top-menu-link\" href=\"/tiktok-channel-rank/top-100-all-all-sorted-by-noxscore-weekly\"> Top 100 TikTok Nox 평점 순위 </a></li><li class=\"top-menu-item\"><a class=\"top-menu-link\" href=\"/tiktok-channel-rank/top-100-all-all-sorted-by-engagementrate-weekly\"> Top 100 TikTok 참여도 순위 </a></li></ul></div></div><div class=\"content-pane\" id=\"header-tab-twitch\"><div class=\"top-menu-column\"><div class=\"top-menu-title\"> Twitch 순위</div><ul class=\"top-menu-list\"><li class=\"top-menu-item\"><a class=\"top-menu-link\" href=\"/twitch-channel-rank/top-100-all-all-sorted-by-followers-weekly\"> Top 100 Twitch 팔로워 순위 </a></li><li class=\"top-menu-item\"><a class=\"top-menu-link\" href=\"/twitch-channel-rank/top-100-all-all-sorted-by-noxscore-weekly\"> Top 100 Twitch Nox 평점 순위 </a></li></ul></div><div class=\"top-menu-column\"><div class=\"top-menu-title\"> 인기 Twitch 카테고리</div><ul class=\"top-menu-list\"><li class=\"top-menu-item\"><a class=\"top-menu-link\" href=\"/twitch-channel-rank/top-100-all-Fortnite-sorted-by-followers-weekly\"> Fortnite </a></li><li class=\"top-menu-item\"><a class=\"top-menu-link\" href=\"/twitch-channel-rank/top-100-all-League%20of%20Legends-sorted-by-followers-weekly\"> League of Legends </a></li><li class=\"top-menu-item\"><a class=\"top-menu-link\" href=\"/twitch-channel-rank/top-100-all-Minecraft-sorted-by-followers-weekly\"> Minecraft </a></li><li class=\"top-menu-item\"><a class=\"top-menu-link\" href=\"/twitch-channel-rank/top-100-all-Just%20Chatting-sorted-by-followers-weekly\"> Just Chatting </a></li></ul></div></div></div></div></div></li> <li class=\"nav-item has-sub-menu\"><span class=\"nav-link\">마케팅 서비스</span><div class=\"advanced-sub-menu market-list-menu\"><div class=\"advanced-container clearfix advanced-double\"> <div class=\"advanced-list pull-left\"> <div class=\"advanced-title\">광고주</div> <a class=\"advance-link brand-campaign\" href=\"/login?userType=brand&amp;service=%2Fbrand%2Fcampaigns\"><span class=\"kolicon kol-icon-file1\"></span> <span class=\"title\">광고 등록</span><span class=\"sub-title\">셀프 광고 등록 시스템 및 인플루언서 요청 시스템 제공</span></a><a class=\"advance-link brand-favorite\" href=\"/login?userType=brand&amp;service=%2Fresource%2Flist\"><span class=\"kolicon kol-icon-heart\"></span> <span class=\"title\">인플루언서 마케팅풀</span><span class=\"sub-title\">인플루언서 데이터 저장 및 관리</span></a><a class=\"advance-link brand-email\" href=\"/login?userType=brand&amp;service=%2Fbrand%2Femail%2Flist\"><span class=\"kolicon kol-icon-email1\"></span> <span class=\"title\">이메일 일괄 발송</span><span class=\"sub-title\">여러 인플루언서에게 이메일 일괄 발송하기</span></a><a class=\"advance-link brand-marketing\" href=\"/brand-marketing\"><span class=\"kolicon kol-icon-tool\"></span> <span class=\"title\">인플루언서 마케팅 도구</span><span class=\"sub-title\">전문적인 인플루언서 검색 및 분석 서비스</span></a> <a class=\"advance-link ytb-calculator\" href=\"/api-service\"><span class=\"kolicon kol-icon-open-data\"></span> <span class=\"title\">녹스인플루언서 API</span><span class=\"sub-title\">인플루언서 데이터를 내부 시스템에 통합</span></a> </div> <div class=\"advanced-list pull-left\"> <div class=\"advanced-title\">인플루언서</div> <a class=\"advance-link kol-campaign\" href=\"/login?userType=kol&amp;service=%2Fkol%2Fcampaigns\"><span class=\"kolicon kol-icon-file1\"></span> <span class=\"title\">광고마켓</span><span class=\"sub-title\">광고 캠페인 신청하기</span></a></div> </div></div></li> <li class=\"nav-item has-sub-menu\"><span class=\"nav-link\">채널 도구</span><div class=\"advanced-sub-menu tool-list-menu\"><div class=\"sub-menu-container clearfix\"><div class=\"advanced-container clearfix advanced-double\"><div class=\"advanced-list pull-left\"><div class=\"advanced-title\">분석</div><a class=\"advance-link ytb-calculator\" href=\"/youtube/channel-calculator\" title=\"YouTube 채널 예상 수입\"><span class=\"kolicon kol-icon-calculator\"></span> <span class=\"title\">YouTube 채널 예상 수입</span><span class=\"sub-title\">몇 초 만에 YouTube 채널 가치를 분석해낼 수 있습니다</span></a><a class=\"advance-link ytb-video-analysis\" href=\"/youtube/video-analytics\" title=\"YouTube 동영상 분석하기\"><span class=\"kolicon kol-icon-video-analysis\"></span> <span class=\"title\">YouTube 동영상 분석하기</span><span class=\"sub-title\">YouTube 동영상 실적에 대한 깊은 분석, YouTube SEO 최적화</span></a><a class=\"advance-link ytb-compare\" href=\"/youtube/channel-compare\" title=\"유튜버 비교하기\"><span class=\"kolicon kol-icon-battle\"></span> <span class=\"title\">유튜버 비교하기</span><span class=\"sub-title\">다차원적으로 YouTube 채널를 비교해서 우열을 바로 알 수 있습니다</span></a><a class=\"advance-link ytb-realtime\" href=\"/youtube/realtime-subs-count\" title=\"실시간 YouTube 구독자 수\"><span class=\"kolicon kol-icon-beat\"></span> <span class=\"title\">실시간 YouTube 구독자 수</span><span class=\"sub-title\">최고의 실시간 구독자 통계 도구</span></a> </div><div class=\"advanced-list pull-left\"><div class=\"advanced-title\">창작</div><a class=\"advance-link ytb-video-title\" href=\"/youtube/video-title\" title=\"유튜브 영상 제목 분석 도구\"><span class=\"kolicon kol-icon-title\"></span> <span class=\"title\">유튜브 영상 제목 분석 도구</span><span class=\"sub-title\">유튜브 검색엔진에 최적화된 제목을 찾아주는 유튜버 필수 도구입니다</span></a><a class=\"advance-link ytb-thumbnails\" href=\"/youtube/thumbnails-gallery\" title=\"유튜브 썸네일 도구\"><span class=\"kolicon kol-icon-image\"></span> <span class=\"title\">유튜브 썸네일 도구</span><span class=\"sub-title\">유튜브 썸네일 검색 및 다운로드를 도와주는 서비스입니다.</span></a><a class=\"advance-link ytb-trend\" href=\"/trend\" title=\"유튜브 트렌드\"><span class=\"kolicon kol-icon-fire\"></span> <span class=\"title\">유튜브 트렌드</span><span class=\"sub-title\">녹스 인플루언서에서 오늘의 유튜브 트렌드를 알아보세요</span></a><a class=\"advance-link ytb-trend-keywords\" href=\"/trend/keywords/YouTube\" title=\"유튜브 키워드 툴\"><span class=\"kolicon kol-icon-key\"></span> <span class=\"title\">유튜브 키워드 툴</span><span class=\"sub-title\">녹스 인플루언서의 유튜브 키워드 검색 도구는 유튜브 동영상의 검색 노출를 최대화 시킵니다</span></a></div></div></div></div></li> <li class=\"nav-item has-sub-menu\"><span class=\"nav-link\">더보기</span><div class=\"sub-menu resources-list-menu\"><div class=\"sub-menu-container\"><ul class=\"sub-menu-list\"> <li class=\"sub-menu-item\"><a class=\"sub-menu-link\" href=\"/help/\" sensors-name=\"kol_help_center\" target=\"_blank\" title=\"고객센터\"> 고객센터 </a></li> <li class=\"sub-menu-item\"> <a class=\"sub-menu-link\" href=\"/help/member/introduction/\" target=\"_blank\" title=\"NoxInfluencer 서비스 소개\"> NoxInfluencer 서비스 소개 </a> </li> <li class=\"sub-menu-item\"><a class=\"sub-menu-link\" href=\"/article\" target=\"_blank\" title=\"공식블로그\">공식블로그</a></li> <li class=\"sub-menu-item\"><a class=\"sub-menu-link\" href=\"/about-us\" target=\"_blank\" title=\"회사소개\"> 회사소개 </a></li></ul></div></div></li> <li class=\"nav-item no-sub-menu\"><a class=\"nav-link\" href=\"/product/pricing\" title=\"유료회원 가입\"><span class=\"vip-icon\"></span> 유료회원 가입 </a></li></ul> </div><div class=\"header-option\"> <div class=\"header-search\" id=\"header-search\"><i class=\"kolicon kol-icon-search1\"></i> <input class=\"header-search-input\" id=\"header-search-input\" type=\"text\"/> <i class=\"kolicon kol-icon-close-circle-filled\" id=\"header-search-clear\"></i></div> <div class=\"header-lang\"><div class=\"target-lang\"><span> 한국어 </span><span class=\"icon kolicon kol-icon-left\"></span></div><ul class=\"dropdown-menu list\"> <li class=\"list-item\"><a class=\"link\" data-lang-host=\"EN\" href=\"http://www.noxinfluencer.com/youtube-channel-rank/top-100-kr-all-youtuber-sorted-by-subs-weekly\" sensors-name=\"kol_web_EN\" title=\"English\"> English </a></li> <li class=\"list-item\"><a class=\"link\" data-lang-host=\"KR\" href=\"http://kr.noxinfluencer.com/youtube-channel-rank/top-100-kr-all-youtuber-sorted-by-subs-weekly\" sensors-name=\"kol_web_KR\" title=\"한국어\"> 한국어 </a></li> <li class=\"list-item\"><a class=\"link\" data-lang-host=\"JP\" href=\"http://jp.noxinfluencer.com/youtube-channel-rank/top-100-kr-all-youtuber-sorted-by-subs-weekly\" sensors-name=\"kol_web_JP\" title=\"日本語\"> 日本語 </a></li> <li class=\"list-item\"><a class=\"link\" data-lang-host=\"TW\" href=\"http://tw.noxinfluencer.com/youtube-channel-rank/top-100-kr-all-youtuber-sorted-by-subs-weekly\" sensors-name=\"kol_web_TW\" title=\"繁體中文\"> 繁體中文 </a></li> <li class=\"list-item\"><a class=\"link\" data-lang-host=\"ZH\" href=\"http://cn.noxinfluencer.com/youtube-channel-rank/top-100-kr-all-youtuber-sorted-by-subs-weekly\" sensors-name=\"kol_web_ZH\" title=\"简体中文\"> 简体中文 </a></li> <li class=\"list-item\"><a class=\"link\" data-lang-host=\"ID\" href=\"http://id.noxinfluencer.com/youtube-channel-rank/top-100-kr-all-youtuber-sorted-by-subs-weekly\" sensors-name=\"kol_web_ID\" title=\"Bahasa\"> Bahasa </a></li> <li class=\"list-item\"><a class=\"link\" data-lang-host=\"ES\" href=\"http://es.noxinfluencer.com/youtube-channel-rank/top-100-kr-all-youtuber-sorted-by-subs-weekly\" sensors-name=\"kol_web_ES\" title=\"Español\"> Español </a></li> <li class=\"list-item\"><a class=\"link\" data-lang-host=\"TH\" href=\"http://th.noxinfluencer.com/youtube-channel-rank/top-100-kr-all-youtuber-sorted-by-subs-weekly\" sensors-name=\"kol_web_TH\" title=\"ไทย\"> ไทย </a></li> <li class=\"list-item\"><a class=\"link\" data-lang-host=\"VN\" href=\"http://vn.noxinfluencer.com/youtube-channel-rank/top-100-kr-all-youtuber-sorted-by-subs-weekly\" sensors-name=\"kol_web_VN\" title=\"Tiếng Việt\"> Tiếng Việt </a></li> <li class=\"list-item\"><a class=\"link\" data-lang-host=\"PT\" href=\"http://pt.noxinfluencer.com/youtube-channel-rank/top-100-kr-all-youtuber-sorted-by-subs-weekly\" sensors-name=\"kol_web_PT\" title=\"Português\"> Português </a></li> </ul></div> <div class=\"btn-list\"><span class=\"header-login-btn\" data-user-type=\"kol\" id=\"header-login\" sensors-name=\"header_kol_login\"> 나는 유튜버다  </span><span class=\"header-login-btn\" data-user-type=\"brand\" id=\"header-login\" sensors-name=\"header_brand_login\"> 나는 광고주다 </span></div> </div></div></header><div class=\"header-placeholder\"></div> <section class=\"lang-check-block\"><div class=\"section-container\"><span class=\"langText\"></span> <a class=\"switch\" data-switch=\"\"></a><div class=\"btn-close\"><i class=\"kolicon kol-icon-close\"></i></div></div></section><section> <div id=\"fb-root\"></div> <script>window.twttr = (function(d, s, id) {\n",
       "    var js, fjs = d.getElementsByTagName(s)[0],\n",
       "            t = window.twttr || {};\n",
       "    if (d.getElementById(id)) return t;\n",
       "    js = d.createElement(s);\n",
       "    js.id = id;\n",
       "    js.src = \"https://platform.twitter.com/widgets.js\";\n",
       "    fjs.parentNode.insertBefore(js, fjs);\n",
       "\n",
       "    t._e = [];\n",
       "    t.ready = function(f) {\n",
       "        t._e.push(f);\n",
       "    };\n",
       "\n",
       "    return t;\n",
       "}(document, \"script\", \"twitter-wjs\"));</script> <script>window.fbAsyncInit = function() {\n",
       "        FB.init({\n",
       "            // appId            : '314894179081566',\n",
       "            appId            : '421885018935284',\n",
       "            autoLogAppEvents : true,\n",
       "            xfbml            : true,\n",
       "            version          : 'v3.1'\n",
       "        });\n",
       "    };\n",
       "\n",
       "    (function(d, s, id){\n",
       "        var js, fjs = d.getElementsByTagName(s)[0];\n",
       "        if (d.getElementById(id)) {return;}\n",
       "        js = d.createElement(s); js.id = id;\n",
       "        js.src = \"https://connect.facebook.net/en_US/sdk.js\";\n",
       "        fjs.parentNode.insertBefore(js, fjs);\n",
       "    }(document, 'script', 'facebook-jssdk'));</script> <div class=\"page-wrap\"><div class=\"rank-header-wrap\"><div class=\"rank-header-content\"><div class=\"header-title-wrap clearfix\"><div class=\"title-content pull-left\"><h1 class=\"title ellipsis\">한국 TOP 100 유튜브 채널</h1><div class=\"rank-data\"><span class=\"update-data\"> YouTube 순위 차트 업데이트 날짜:  <span id=\"date-span\">2024-03-15</span></span><span class=\"divide\"></span> <span class=\"share-data\"> 공유하기 <i class=\"kolicon kol-icon-facebook1-filled\" data-share-fb=\"\"></i> <i class=\"kolicon kol-icon-twitter-filled\" data-share-tw=\"\"></i></span></div></div><div class=\"plat-content pull-right clearfix\"><a class=\"link active\"><i class=\"kolicon kol-icon-youtube-circle-filled\" style=\"color: #D40C18;\"></i> </a><a class=\"link\" href=\"/instagram-channel-rank/top-100-all-all-sorted-by-followers-weekly\"><i class=\"kol-icon kol-icon-ins-circle\"></i> </a><a class=\"link\" href=\"/tiktok-channel-rank/top-100-all-all-sorted-by-followers-weekly\"><i class=\"kol-icon tab-icon kol-icon-tiktok-circle\"></i> </a><a class=\"link\" href=\"/twitch-channel-rank/top-100-all-all-sorted-by-followers-weekly\"><i class=\"kolicon tab-icon kol-icon-twitch-circle-filled\" style=\"color: #6441a5\"></i></a></div></div><div class=\"rank-type-wrap clearfix\"><span class=\"rank-type pull-left\" data-type-value=\"noxscore\"> Nox 평점 순위 </span><span class=\"rank-type pull-left checked\" data-type-value=\"subs\"> 유튜브 구독자 순위 </span><span class=\"rank-type pull-left\" data-type-value=\"avgview\"> 평균 조회수 순위 </span><span class=\"rank-type pull-left\" data-type-value=\"growth\"> 구독자 급상승 순위 </span><span class=\"rank-type pull-left\" data-type-value=\"decrease\"> 구독자 구독취소 순위 </span><span class=\"rank-type pull-left\" data-type-value=\"views\"> 30일 누적조회수 순위 </span> <span class=\"rank-type pull-left\" data-type-value=\"mcn\"> MCN소속 구독자 순위 </span><span class=\"rank-type pull-left\" data-type-value=\"individual\"> 개인채널 구독자 순위 </span> </div></div></div><div class=\"rank-result-wrap\"><div class=\"result-title-wrap\"><span class=\"result-title\">인플루언서 랭킹</span><div class=\"filter-wrap clearfix\"> <div class=\"select-wrap\"><select class=\"select\" id=\"area-filter-select\" name=\"area-filter\"> <option value=\"ALL\"> 전체 지역 </option> <option value=\"BR\"> 브라질 </option> <option value=\"TW\"> 대만 </option> <option value=\"TH\"> 태국 </option> <option value=\"IN\"> 인도 </option> <option value=\"JP\"> 일본 </option> <option value=\"UK\"> 영국 </option> <option value=\"KR\"> 한국 </option> <option value=\"VN\"> 베트남 </option> <option value=\"ID\"> 인도네시아 </option> <option value=\"US\"> 미국 </option> <option value=\"ST\"> 상투메 프린시페 민주공화국 </option> <option value=\"NR\"> 나우루 </option> <option value=\"LS\"> 레소토 </option> <option value=\"NU\"> 니우에 </option> <option value=\"GW\"> 기니비사우 </option> <option value=\"MH\"> 마셜제도 </option> <option value=\"PM\"> 세인트피에르미퀠론 </option> <option value=\"KI\"> 키리바시 </option> <option value=\"GQ\"> 적도기니 </option> <option value=\"PN\"> 핏케언 제도 </option> <option value=\"KM\"> 코모로 </option> <option value=\"BL\"> 세인트 바르텔레미 </option> <option value=\"TO\"> 통가 </option> <option value=\"TF\"> 프랑스령 남부 </option> <option value=\"WS\"> 사모아 </option> <option value=\"SB\"> 솔로몬제도 </option> <option value=\"SS\"> 남수단 </option> <option value=\"LR\"> 라이베리아 </option> <option value=\"SC\"> 세이셸 </option> <option value=\"MS\"> 몬트세랫 </option> <option value=\"MW\"> 말라위 </option> <option value=\"BV\"> 부베섬 </option> <option value=\"CC\"> 코코스제도 </option> <option value=\"MF\"> 상마르탱 섬 </option> <option value=\"SJ\"> 스발바르 얀마옌 제도 </option> <option value=\"ER\"> 에리트레아 </option> <option value=\"SX\"> 신트마르턴 </option> <option value=\"CF\"> 중앙아프리카공화국 </option> <option value=\"GM\"> 감비아 </option> <option value=\"NF\"> 노퍽 섬 </option> <option value=\"PW\"> 팔라우 </option> <option value=\"SH\"> 세인트헬레나 </option> <option value=\"SL\"> 시에라리온 </option> <option value=\"BQ\"> 카리브해 네덜란드 </option> <option value=\"SZ\"> 스와질란드 </option> <option value=\"GN\"> 기니 </option> <option value=\"TM\"> 투르크메니스탄 </option> <option value=\"CK\"> 쿡제도 </option> <option value=\"FM\"> 미크로네시아 </option> <option value=\"TV\"> 투발루 </option> <option value=\"KN\"> 세인트키츠네비스 </option> <option value=\"FK\"> 포클랜드 제도 </option> <option value=\"DJ\"> 지부티 </option> <option value=\"VU\"> 바누아투 </option> <option value=\"TL\"> 동티모르 </option> <option value=\"SM\"> 산마리노 </option> <option value=\"BI\"> 부룬디 </option> <option value=\"CG\"> 콩고 공화국 </option> <option value=\"EH\"> 서사하라 </option> <option value=\"MR\"> 모리타니 </option> <option value=\"CV\"> 카보베르데 </option> <option value=\"TC\"> 터크스케이커스 제도 </option> <option value=\"GG\"> 건지 </option> <option value=\"WF\"> 월리스푸투나제도 </option> <option value=\"BF\"> 부르키나파소 </option> <option value=\"TD\"> 차드 </option> <option value=\"GD\"> 그레나다 </option> <option value=\"MP\"> 북마리아나제도 </option> <option value=\"DM\"> 도미니카 </option> <option value=\"VC\"> 세인트빈센트그레나딘 </option> <option value=\"ML\"> 말리 </option> <option value=\"GI\"> 지브롤터 </option> <option value=\"LC\"> 세인트루시아 </option> <option value=\"BJ\"> 베냉 </option> <option value=\"BT\"> 부탄 </option> <option value=\"FO\"> 페로제도 </option> <option value=\"CW\"> 퀴라소 </option> <option value=\"IO\"> 영국령 인도양 식민지 </option> <option value=\"HM\"> 허드 맥도날드 제도 </option> <option value=\"GS\"> 샌드위치 섬 </option> <option value=\"SR\"> 수리남 </option> <option value=\"YT\"> 마요트 섬 </option> <option value=\"TG\"> 토고 </option> <option value=\"GA\"> 가봉 </option> <option value=\"NC\"> 뉴칼레도니아 </option> <option value=\"FJ\"> 피지 </option> <option value=\"NE\"> 니제르 </option> <option value=\"AG\"> 안티가 &amp; 바뷰다 </option> <option value=\"GL\"> 그린란드 </option> <option value=\"IM\"> 맨섬 </option> <option value=\"KY\"> 케이맨제도 </option> <option value=\"PF\"> 프랑스령폴리네시아 </option> <option value=\"AX\"> 올란드제도 </option> <option value=\"MC\"> 모나코 </option> <option value=\"BZ\"> 벨리즈 </option> <option value=\"CX\"> 크리스마스 섬 </option> <option value=\"SD\"> 수단 </option> <option value=\"BW\"> 보츠와나 </option> <option value=\"GY\"> 가이아나 </option> <option value=\"MG\"> 마다가스카르 </option> <option value=\"GF\"> 프랑스령 기아나 </option> <option value=\"VG\"> 영국령 버진아일랜드 </option> <option value=\"CD\"> 콩고민주공화국 </option> <option value=\"JE\"> 저지섬 </option> <option value=\"MV\"> 몰디브 </option> <option value=\"MZ\"> 모잠비크 </option> <option value=\"GU\"> 괌 </option> <option value=\"VA\"> 바티칸 </option> <option value=\"TJ\"> 타지키스탄 </option> <option value=\"NA\"> 나미비아 </option> <option value=\"RW\"> 르완다 </option> <option value=\"HT\"> 아이티 </option> <option value=\"ZM\"> 잠비아 </option> <option value=\"BM\"> 버뮤다 </option> <option value=\"LI\"> 리히텐슈타인 </option> <option value=\"BN\"> 브루나이 </option> <option value=\"PG\"> 파푸아뉴기니 </option> <option value=\"MQ\"> 마르티니크 섬 </option> <option value=\"AI\"> 앵귈라 </option> <option value=\"BB\"> 바베이도스 </option> <option value=\"CU\"> 쿠바 </option> <option value=\"GP\"> 과들루프 </option> <option value=\"MO\"> 마카오, 중국 </option> <option value=\"CM\"> 카메룬 </option> <option value=\"BS\"> 바하마 </option> <option value=\"MM\"> 미얀마(버마) </option> <option value=\"AD\"> 안도라 </option> <option value=\"UM\"> 미국령 군소 제도 </option> <option value=\"CI\"> 코트디부아르 </option> <option value=\"AO\"> 앙골라 </option> <option value=\"MU\"> 모리셔스 </option> <option value=\"KG\"> 키르기스스탄 </option> <option value=\"AW\"> 아루바 </option> <option value=\"KP\"> 북한 </option> <option value=\"ET\"> 에티오피아 </option> <option value=\"SO\"> 소말리아 </option> <option value=\"MN\"> 몽골 </option> <option value=\"LA\"> 라오스 </option> <option value=\"IR\"> 이란 </option> <option value=\"UZ\"> 우즈베키스탄 </option> <option value=\"VI\"> 미국령 버진아일랜드 </option> <option value=\"QO\"> 남극 대륙 </option> <option value=\"RE\"> 레위니 </option> <option value=\"LY\"> 리비아 </option> <option value=\"PS\"> 팔레스타인 영토 </option> <option value=\"SY\"> 시리아 </option> <option value=\"TT\"> 트리니다드토바고 </option> <option value=\"ME\"> 몬테네그로 </option> <option value=\"MD\"> 몰도바 </option> <option value=\"LU\"> 룩셈부르크 </option> <option value=\"AS\"> 아메리칸사모아 </option> <option value=\"NI\"> 니카라과 </option> <option value=\"ZW\"> 짐바브웨 </option> <option value=\"AM\"> 아르메니아 </option> <option value=\"AL\"> 알바니아 </option> <option value=\"MT\"> 몰타 </option> <option value=\"IS\"> 아이슬란드 </option> <option value=\"PY\"> 파라과이 </option> <option value=\"MK\"> 마케도니아 </option> <option value=\"CY\"> 키프로스 </option> <option value=\"YE\"> 예멘 </option> <option value=\"HN\"> 온두라스 </option> <option value=\"BH\"> 바레인 </option> <option value=\"OM\"> 오만 </option> <option value=\"UG\"> 우간다 </option> <option value=\"PA\"> 파나마 </option> <option value=\"SN\"> 세네갈 </option> <option value=\"SV\"> 엘살바도르 </option> <option value=\"QA\"> 카타르 </option> <option value=\"LB\"> 레바논 </option> <option value=\"RB\"> 볼리비아 </option> <option value=\"PR\"> 푸에르토리코 </option> <option value=\"TZ\"> 탄자니아 </option> <option value=\"CR\"> 코스타리카 </option> <option value=\"BA\"> 보스니아-헤르체코비나 </option> <option value=\"LV\"> 라트비아 </option> <option value=\"GT\"> 과테말라 </option> <option value=\"AF\"> 아프가니스탄 </option> <option value=\"KW\"> 쿠웨이트 </option> <option value=\"JM\"> 자메이카 </option> <option value=\"GH\"> 가나 </option> <option value=\"KH\"> 캄보디아 </option> <option value=\"LT\"> 리투아니아 </option> <option value=\"UY\"> 우루과이 </option> <option value=\"JO\"> 요르단 </option> <option value=\"TN\"> 튀니지 </option> <option value=\"HR\"> 크로아티아 </option> <option value=\"GE\"> 그루지아 </option> <option value=\"SK\"> 슬로바키아 </option> <option value=\"CN\"> 중국 </option> <option value=\"VE\"> 베네수엘라 </option> <option value=\"AZ\"> 아제르바이잔 </option> <option value=\"BY\"> 벨로루시 </option> <option value=\"KE\"> 케냐 </option> <option value=\"DO\"> 도미니카공화국 </option> <option value=\"RS\"> 세르비아 </option> <option value=\"BG\"> 불가리아 </option> <option value=\"KZ\"> 카자흐스탄 </option> <option value=\"NG\"> 나이지리아 </option> <option value=\"SI\"> 슬로베니아 </option> <option value=\"NO\"> 노르웨이 </option> <option value=\"EC\"> 에콰도르 </option> <option value=\"LK\"> 스리랑카 </option> <option value=\"NZ\"> 뉴질랜드 </option> <option value=\"IL\"> 이스라엘 </option> <option value=\"IE\"> 아일랜드 </option> <option value=\"AT\"> 오스트리아 </option> <option value=\"CH\"> 스위스 </option> <option value=\"NP\"> 네팔 </option> <option value=\"ZA\"> 남아프리카 </option> <option value=\"IQ\"> 이라크 </option> <option value=\"DZ\"> 알제리 </option> <option value=\"SG\"> 싱가포르 </option> <option value=\"PT\"> 포르투갈 </option> <option value=\"BE\"> 벨기에 </option> <option value=\"CL\"> 칠레 </option> <option value=\"AE\"> 아랍 에미레이트 </option> <option value=\"EE\"> 에스토니아 </option> <option value=\"GR\"> 그리스 </option> <option value=\"SA\"> 사우디아라비아 </option> <option value=\"PE\"> 페루 </option> <option value=\"HU\"> 헝가리 </option> <option value=\"HK\"> 중국 홍콩 </option> <option value=\"FI\"> 핀란드 </option> <option value=\"MA\"> 모로코 </option> <option value=\"MY\"> 말레이시아 </option> <option value=\"CO\"> 콜롬비아 </option> <option value=\"UA\"> 우크라이나 </option> <option value=\"EG\"> 이집트 </option> <option value=\"SE\"> 스웨덴 </option> <option value=\"RO\"> 루마니아 </option> <option value=\"AR\"> 아르헨티나 </option> <option value=\"BD\"> 방글라데시 </option> <option value=\"CZ\"> 체코 </option> <option value=\"AU\"> 호주 </option> <option value=\"TR\"> 터키 </option> <option value=\"MX\"> 멕시코 </option> <option value=\"ES\"> 스페인 </option> <option value=\"DK\"> 덴마크 </option> <option value=\"PH\"> 필리핀 </option> <option value=\"PK\"> 파키스탄 </option> <option value=\"CA\"> 캐나다 </option> <option value=\"FR\"> 프랑스 </option> <option value=\"IT\"> 이탈리아 </option> <option value=\"NL\"> 네덜란드 </option> <option value=\"PL\"> 폴란드 </option> <option value=\"DE\"> 독일 </option> <option value=\"RU\"> 러시아 </option> <option value=\"OTHERS\"> 기타 </option> </select></div> <div class=\"select-wrap\"><div class=\"select-manual pull-left\" id=\"tag-filter-select\"><div class=\"select-manual-content\"><span class=\"select-text ellipsis\">Nox카테고리</span><span class=\"select-arrow\"></span></div><div class=\"select-manual-absolute\"><div class=\"select-manual-list\"><div class=\"tag-list\"> <div class=\"tag-label can-select\" data-tag-id=\"0\"> Nox카테고리  </div> <div class=\"tag-label\"> 게임  <div class=\"tag-child-list-wrap\"><div class=\"tag-child-list\"> <div class=\"tag-child-label has-parent can-select\" data-tag-id=\"1\"> 게임 </div> <div class=\"tag-child-label has-parent can-select\" data-tag-id=\"2\"> 액션게임 </div> <div class=\"tag-child-label has-parent can-select\" data-tag-id=\"3\"> Action-adventure </div> <div class=\"tag-child-label has-parent can-select\" data-tag-id=\"4\"> 캐주얼게임 </div> <div class=\"tag-child-label has-parent can-select\" data-tag-id=\"5\"> 리듬게임 </div> <div class=\"tag-child-label has-parent can-select\" data-tag-id=\"6\"> Puzzle video </div> <div class=\"tag-child-label has-parent can-select\" data-tag-id=\"7\"> Racing video </div> <div class=\"tag-child-label has-parent can-select\" data-tag-id=\"8\"> RPG게임 </div> <div class=\"tag-child-label has-parent can-select\" data-tag-id=\"9\"> Simulation video </div> <div class=\"tag-child-label has-parent can-select\" data-tag-id=\"10\"> 스포츠게임 </div> <div class=\"tag-child-label has-parent can-select\" data-tag-id=\"11\"> 전략게임 </div> <div class=\"tag-child-label has-parent can-select\" data-tag-id=\"12\"> Arcade </div> <div class=\"tag-child-label has-parent can-select\" data-tag-id=\"13\"> Board </div> <div class=\"tag-child-label has-parent can-select\" data-tag-id=\"14\"> Card </div> <div class=\"tag-child-label has-parent can-select\" data-tag-id=\"17\"> RTS게임 </div> </div></div> </div> <div class=\"tag-label\"> 뷰티,메이크업  <div class=\"tag-child-list-wrap\"><div class=\"tag-child-list\"> <div class=\"tag-child-label has-parent can-select\" data-tag-id=\"46\"> 뷰티,메이크업 </div> <div class=\"tag-child-label has-parent can-select\" data-tag-id=\"47\"> 메이크업 </div> <div class=\"tag-child-label has-parent can-select\" data-tag-id=\"48\"> 스킨케어 </div> <div class=\"tag-child-label has-parent can-select\" data-tag-id=\"49\"> 헤어스타일 </div> <div class=\"tag-child-label has-parent can-select\" data-tag-id=\"50\"> 네일 </div> </div></div> </div> <div class=\"tag-label\"> 패션  <div class=\"tag-child-list-wrap\"><div class=\"tag-child-list\"> <div class=\"tag-child-label has-parent can-select\" data-tag-id=\"284\"> 패션 </div> <div class=\"tag-child-label has-parent can-select\" data-tag-id=\"54\"> 옷 </div> <div class=\"tag-child-label has-parent can-select\" data-tag-id=\"58\"> 주얼리 </div> <div class=\"tag-child-label has-parent can-select\" data-tag-id=\"57\"> 슈즈 </div> <div class=\"tag-child-label has-parent can-select\" data-tag-id=\"299\"> 가방 </div> <div class=\"tag-child-label has-parent can-select\" data-tag-id=\"300\"> 모자 </div> </div></div> </div> <div class=\"tag-label\"> 전자제품  <div class=\"tag-child-list-wrap\"><div class=\"tag-child-list\"> <div class=\"tag-child-label has-parent can-select\" data-tag-id=\"301\"> 전자제품 </div> <div class=\"tag-child-label has-parent can-select\" data-tag-id=\"150\"> 스마트폰 </div> <div class=\"tag-child-label has-parent can-select\" data-tag-id=\"155\"> 카메라 </div> <div class=\"tag-child-label has-parent can-select\" data-tag-id=\"157\"> 컴퓨터 </div> <div class=\"tag-child-label has-parent can-select\" data-tag-id=\"309\"> 게임콘솔 </div> <div class=\"tag-child-label has-parent can-select\" data-tag-id=\"311\"> 헤드셋 </div> <div class=\"tag-child-label has-parent can-select\" data-tag-id=\"310\"> 텔레비전 </div> <div class=\"tag-child-label has-parent can-select\" data-tag-id=\"400\"> Smartwatch </div> <div class=\"tag-child-label has-parent can-select\" data-tag-id=\"401\"> 전자담배 </div> <div class=\"tag-child-label has-parent can-select\" data-tag-id=\"402\"> 충전기 &amp; 건전지 &amp; 전원 </div> <div class=\"tag-child-label has-parent can-select\" data-tag-id=\"403\"> 전자담배 </div> </div></div> </div> <div class=\"tag-label\"> 라이프스타일  <div class=\"tag-child-list-wrap\"><div class=\"tag-child-list\"> <div class=\"tag-child-label has-parent can-select\" data-tag-id=\"86\"> 라이프스타일 </div> <div class=\"tag-child-label has-parent can-select\" data-tag-id=\"133\"> 여행 </div> <div class=\"tag-child-label has-parent can-select\" data-tag-id=\"60\"> 음식 </div> <div class=\"tag-child-label has-parent can-select\" data-tag-id=\"77\"> 피트니스 </div> <div class=\"tag-child-label has-parent can-select\" data-tag-id=\"69\"> 건강 </div> <div class=\"tag-child-label has-parent can-select\" data-tag-id=\"104\"> 스포츠 </div> <div class=\"tag-child-label has-parent can-select\" data-tag-id=\"96\"> 애완동물 </div> <div class=\"tag-child-label has-parent can-select\" data-tag-id=\"162\"> 키즈 </div> <div class=\"tag-child-label has-parent can-select\" data-tag-id=\"264\"> 장난감 </div> <div class=\"tag-child-label has-parent can-select\" data-tag-id=\"83\"> DIY </div> <div class=\"tag-child-label has-parent can-select\" data-tag-id=\"404\"> 아웃도어 스포츠 </div> <div class=\"tag-child-label has-parent can-select\" data-tag-id=\"91\"> Gardening </div> <div class=\"tag-child-label has-parent can-select\" data-tag-id=\"405\"> 라이프&amp;인테리어 </div> <div class=\"tag-child-label has-parent can-select\" data-tag-id=\"406\"> 주방 용품 </div> <div class=\"tag-child-label has-parent can-select\" data-tag-id=\"407\"> 가구 </div> <div class=\"tag-child-label has-parent can-select\" data-tag-id=\"99\"> Vehicles </div> <div class=\"tag-child-label has-parent can-select\" data-tag-id=\"408\"> 쇼핑 </div> <div class=\"tag-child-label has-parent can-select\" data-tag-id=\"409\"> 출산&amp;유아동 </div> </div></div> </div> <div class=\"tag-label\"> 음악  <div class=\"tag-child-list-wrap\"><div class=\"tag-child-list\"> <div class=\"tag-child-label has-parent can-select\" data-tag-id=\"31\"> 음악 </div> <div class=\"tag-child-label has-parent can-select\" data-tag-id=\"32\"> Rock </div> <div class=\"tag-child-label has-parent can-select\" data-tag-id=\"34\"> 클래식 </div> <div class=\"tag-child-label has-parent can-select\" data-tag-id=\"36\"> 일렉트로닉 </div> <div class=\"tag-child-label has-parent can-select\" data-tag-id=\"37\"> 힙합 </div> <div class=\"tag-child-label has-parent can-select\" data-tag-id=\"42\"> 팝송 </div> </div></div> </div> <div class=\"tag-label\"> 엔터테인먼트  <div class=\"tag-child-list-wrap\"><div class=\"tag-child-list\"> <div class=\"tag-child-label has-parent can-select\" data-tag-id=\"125\"> 엔터테인먼트 </div> <div class=\"tag-child-label has-parent can-select\" data-tag-id=\"126\"> 영화 </div> <div class=\"tag-child-label has-parent can-select\" data-tag-id=\"128\"> 만화 </div> <div class=\"tag-child-label has-parent can-select\" data-tag-id=\"129\"> 유머 </div> <div class=\"tag-child-label has-parent can-select\" data-tag-id=\"132\"> 방송 </div> <div class=\"tag-child-label has-parent can-select\" data-tag-id=\"304\"> 다큐먼터리 </div> </div></div> </div> <div class=\"tag-label\"> 언박싱  <div class=\"tag-child-list-wrap\"><div class=\"tag-child-list\"> <div class=\"tag-child-label has-parent can-select\" data-tag-id=\"305\"> 언박싱 </div> </div></div> </div> <div class=\"tag-label\"> ASMR  <div class=\"tag-child-list-wrap\"><div class=\"tag-child-list\"> <div class=\"tag-child-label has-parent can-select\" data-tag-id=\"306\"> ASMR </div> </div></div> </div> <div class=\"tag-label\"> 브이로그  <div class=\"tag-child-list-wrap\"><div class=\"tag-child-list\"> <div class=\"tag-child-label has-parent can-select\" data-tag-id=\"307\"> 브이로그 </div> </div></div> </div> <div class=\"tag-label\"> 과학기술  <div class=\"tag-child-list-wrap\"><div class=\"tag-child-list\"> <div class=\"tag-child-label has-parent can-select\" data-tag-id=\"312\"> 과학기술 </div> </div></div> </div> <div class=\"tag-label\"> 교육  <div class=\"tag-child-list-wrap\"><div class=\"tag-child-list\"> <div class=\"tag-child-label has-parent can-select\" data-tag-id=\"165\"> 교육 </div> </div></div> </div> <div class=\"tag-label\"> 금융  <div class=\"tag-child-list-wrap\"><div class=\"tag-child-list\"> <div class=\"tag-child-label has-parent can-select\" data-tag-id=\"410\"> 금융 </div> </div></div> </div> </div></div></div></div></div> <div class=\"select-wrap\"><select class=\"select\" id=\"category-filter-select\" name=\"category-filter\"> <option value=\"0\"> YouTube카테고리 </option> <option value=\"1\"> 영화/애니메이션 </option> <option value=\"2\"> 자동차 </option> <option value=\"10\"> 음악 </option> <option value=\"15\"> 동물 </option> <option value=\"17\"> 스포츠 </option> <option value=\"19\"> 여행/이벤트 </option> <option value=\"20\"> 게임 </option> <option value=\"22\"> 인물/블로그 </option> <option value=\"24\"> 엔터테인먼트 </option> <option value=\"25\"> 뉴스/정치 </option> <option value=\"26\"> 노하우/스타일 </option> <option value=\"27\"> 교육 </option> <option value=\"28\"> 과학기술 </option> <option value=\"29\"> 봉사활동 </option> <option value=\"34\"> 코미디 </option> <option value=\"43\"> 프로그램 </option> <option value=\"44\"> 예고편 </option> </select></div> </div></div><div class=\"result-table-wrap\"><div class=\"table-header clearfix\"><span class=\"rank-cell pull-left rank-number\"> </span> <span class=\"rank-cell pull-left rank-desc\">기본 정보</span><span class=\"rank-cell pull-left rank-category\" id=\"rank-category\">YouTube카테고리</span><span class=\"rank-cell pull-left rank-subs\"> 구독자 <i class=\"kolicon kol-icon-question-circle-filled\" data-container=\"body\" data-original-title=\"지난주의 같은 요일 대비\" data-toggle=\"tooltip\"></i> </span><span class=\"rank-cell pull-left rank-avg-view\"><span class=\"rank-avg-view-header\">  평균 조회수  </span><i class=\"kolicon kol-icon-question-circle-filled\" data-container=\"body\" data-original-title=\"지난주의 같은 요일 대비\" data-toggle=\"tooltip\"></i> </span><span class=\"rank-cell pull-left rank-score\">NoxScore</span></div><div class=\"table-body\" id=\"table-body\"> <div class=\"table-line clearfix\"><span class=\"rank-cell pull-left rank-number\"><span class=\"number number-bold number-1\">1</span><span class=\"change change-1 none\">  -    </span></span><span class=\"rank-cell pull-left rank-desc\"><a class=\"link clearfix\" href=\"/youtube/channel/UCOmHUn--16B90oW2L6FRR3A\"><img class=\"avatar pull-left\" onerror=\"this.src = 'https://res06.bignox.com/s3group/player/launch/2020/08/26/d6de214734f247f2a884b6838825e49b.svg'\" src=\"https://res-kol.noxgroup.com/noxinfluencer/youtube/avatar/fb1835125cd27f97705ebfa63c3ede27.png\"/> <span class=\"title pull-left ellipsis\">BLACKPINK</span></a></span> <span class=\"rank-cell pull-left rank-category\"> <a class=\"category\" href=\"/youtube-channel-rank/top-100-kr-music-youtuber-sorted-by-subs-weekly\">음악</a> </span> <span class=\"rank-cell pull-left rank-subs\"><span class=\"number\">9310만</span><span class=\"change none\">  -    </span></span><span class=\"rank-cell pull-left rank-avg-view\"> <span class=\"number\">915.16만</span> <span class=\"change up\"> <span class=\"kolicon kol-icon-point-up\"></span> 100%  </span> </span><span class=\"rank-cell pull-left rank-score\"> <i class=\"kol-icon kol-icon-star-full\"></i><i class=\"kol-icon kol-icon-star-full\"></i><i class=\"kol-icon kol-icon-star-full\"></i><i class=\"kol-icon kol-icon-star-full\"></i><i class=\"kol-icon kol-icon-star-full\"></i> </span></div> <div class=\"table-line clearfix\"><span class=\"rank-cell pull-left rank-number\"><span class=\"number number-bold number-2\">2</span><span class=\"change change-2 none\">  -    </span></span><span class=\"rank-cell pull-left rank-desc\"><a class=\"link clearfix\" href=\"/youtube/channel/UCLkAepWjdylmXSltofFvsYQ\"><img class=\"avatar pull-left\" onerror=\"this.src = 'https://res06.bignox.com/s3group/player/launch/2020/08/26/d6de214734f247f2a884b6838825e49b.svg'\" src=\"https://res-kol.noxgroup.com/noxinfluencer/youtube/avatar/b55c6f4292f7272b7f4b15f3a35489b8.png\"/> <span class=\"title pull-left ellipsis\">BANGTANTV</span></a></span> <span class=\"rank-cell pull-left rank-category\"> <a class=\"category\" href=\"/youtube-channel-rank/top-100-kr-music-youtuber-sorted-by-subs-weekly\">음악</a> </span> <span class=\"rank-cell pull-left rank-subs\"><span class=\"number\">7760만</span><span class=\"change up\"> <span class=\"kolicon kol-icon-point-up\"></span> 0.1%  </span></span><span class=\"rank-cell pull-left rank-avg-view\"> <span class=\"number\">104.68만</span> <span class=\"change down\"> <span class=\"kolicon kol-icon-point-down\"></span> 16.7%   </span> </span><span class=\"rank-cell pull-left rank-score\"> <i class=\"kol-icon kol-icon-star-full\"></i><i class=\"kol-icon kol-icon-star-full\"></i><i class=\"kol-icon kol-icon-star-full\"></i><i class=\"kol-icon kol-icon-star-full\"></i><i class=\"kol-icon kol-icon-star-empty\"></i> </span></div> <div class=\"table-line clearfix\"><span class=\"rank-cell pull-left rank-number\"><span class=\"number number-bold number-3\">3</span><span class=\"change change-3 none\">  -    </span></span><span class=\"rank-cell pull-left rank-desc\"><a class=\"link clearfix\" href=\"/youtube/channel/UC3IZKseVpdzPSBaWxBxundA\"><img class=\"avatar pull-left\" onerror=\"this.src = 'https://res06.bignox.com/s3group/player/launch/2020/08/26/d6de214734f247f2a884b6838825e49b.svg'\" src=\"https://res-kol.noxgroup.com/noxinfluencer/youtube/avatar/08edf64b08a460b2d7ef1fc6b83e3bcf.png\"/> <span class=\"title pull-left ellipsis\">HYBE LABELS</span></a></span> <span class=\"rank-cell pull-left rank-category\"> <a class=\"category\" href=\"/youtube-channel-rank/top-100-kr-music-youtuber-sorted-by-subs-weekly\">음악</a> </span> <span class=\"rank-cell pull-left rank-subs\"><span class=\"number\">7410만</span><span class=\"change up\"> <span class=\"kolicon kol-icon-point-up\"></span> 0.1%  </span></span><span class=\"rank-cell pull-left rank-avg-view\"> <span class=\"number\">76.39만</span> <span class=\"change up\"> <span class=\"kolicon kol-icon-point-up\"></span> 7.3%  </span> </span><span class=\"rank-cell pull-left rank-score\"> <i class=\"kol-icon kol-icon-star-full\"></i><i class=\"kol-icon kol-icon-star-full\"></i><i class=\"kol-icon kol-icon-star-full\"></i><i class=\"kol-icon kol-icon-star-full\"></i><i class=\"kol-icon kol-icon-star-half\"></i> </span></div> <div class=\"table-line clearfix\"><span class=\"rank-cell pull-left rank-number\"><span class=\"number number-bold number-4\">4</span><span class=\"change change-4 none\">  -    </span></span><span class=\"rank-cell pull-left rank-desc\"><a class=\"link clearfix\" href=\"/youtube/channel/UCiVs2pnGW5mLIc1jS2nxhjg\"><img class=\"avatar pull-left\" onerror=\"this.src = 'https://res06.bignox.com/s3group/player/launch/2020/08/26/d6de214734f247f2a884b6838825e49b.svg'\" src=\"https://res-kol.noxgroup.com/noxinfluencer/youtube/avatar/664f1229ce7f2469b34803ca5d230e5f.png\"/> <span class=\"title pull-left ellipsis\">김프로KIMPRO</span></a></span> <span class=\"rank-cell pull-left rank-category\"> <a class=\"category\" href=\"/youtube-channel-rank/top-100-kr-people &amp; blogs-youtuber-sorted-by-subs-weekly\">인물/블로그</a> </span> <span class=\"rank-cell pull-left rank-subs\"><span class=\"number\">3420만</span><span class=\"change up\"> <span class=\"kolicon kol-icon-point-up\"></span> 1.2%  </span></span><span class=\"rank-cell pull-left rank-avg-view\"> <span class=\"number\">96.69만</span> <span class=\"change up\"> <span class=\"kolicon kol-icon-point-up\"></span> 84.4%  </span> </span><span class=\"rank-cell pull-left rank-score\"> <i class=\"kol-icon kol-icon-star-full\"></i><i class=\"kol-icon kol-icon-star-full\"></i><i class=\"kol-icon kol-icon-star-full\"></i><i class=\"kol-icon kol-icon-star-full\"></i><i class=\"kol-icon kol-icon-star-half\"></i> </span></div> <div class=\"table-line clearfix\"><span class=\"rank-cell pull-left rank-number\"><span class=\"number number-bold number-5\">5</span><span class=\"change change-5 none\">  -    </span></span><span class=\"rank-cell pull-left rank-desc\"><a class=\"link clearfix\" href=\"/youtube/channel/UCEf_Bc-KVd7onSeifS3py9g\"><img class=\"avatar pull-left\" onerror=\"this.src = 'https://res06.bignox.com/s3group/player/launch/2020/08/26/d6de214734f247f2a884b6838825e49b.svg'\" src=\"https://res-kol.noxgroup.com/noxinfluencer/youtube/avatar/38e3d45d6a52eb22827c42571a08059b.png\"/> <span class=\"title pull-left ellipsis\">SMTOWN</span></a></span> <span class=\"rank-cell pull-left rank-category\"> <a class=\"category\" href=\"/youtube-channel-rank/top-100-kr-music-youtuber-sorted-by-subs-weekly\">음악</a> </span> <span class=\"rank-cell pull-left rank-subs\"><span class=\"number\">3240만</span><span class=\"change none\">  -    </span></span><span class=\"rank-cell pull-left rank-avg-view\"> <span class=\"number\">175.18만</span> <span class=\"change down\"> <span class=\"kolicon kol-icon-point-down\"></span> 14%   </span> </span><span class=\"rank-cell pull-left rank-score\"> <i class=\"kol-icon kol-icon-star-full\"></i><i class=\"kol-icon kol-icon-star-full\"></i><i class=\"kol-icon kol-icon-star-full\"></i><i class=\"kol-icon kol-icon-star-half\"></i><i class=\"kol-icon kol-icon-star-empty\"></i> </span></div> <div class=\"table-line clearfix\"><span class=\"rank-cell pull-left rank-number\"><span class=\"number number-bold number-6\">6</span><span class=\"change change-6 none\">  -    </span></span><span class=\"rank-cell pull-left rank-desc\"><a class=\"link clearfix\" href=\"/youtube/channel/UCaO6TYtlC8U5ttz62hTrZgg\"><img class=\"avatar pull-left\" onerror=\"this.src = 'https://res06.bignox.com/s3group/player/launch/2020/08/26/d6de214734f247f2a884b6838825e49b.svg'\" src=\"https://res-kol.noxgroup.com/noxinfluencer/youtube/avatar/10b3d95bc49e25ec06d3df2ff7690730.png\"/> <span class=\"title pull-left ellipsis\">JYP Entertainment</span></a></span> <span class=\"rank-cell pull-left rank-category\"> <a class=\"category\" href=\"/youtube-channel-rank/top-100-kr-music-youtuber-sorted-by-subs-weekly\">음악</a> </span> <span class=\"rank-cell pull-left rank-subs\"><span class=\"number\">2880만</span><span class=\"change none\">  -    </span></span><span class=\"rank-cell pull-left rank-avg-view\"> <span class=\"number\">246.37만</span> <span class=\"change down\"> <span class=\"kolicon kol-icon-point-down\"></span> 24.6%   </span> </span><span class=\"rank-cell pull-left rank-score\"> <i class=\"kol-icon kol-icon-star-full\"></i><i class=\"kol-icon kol-icon-star-full\"></i><i class=\"kol-icon kol-icon-star-full\"></i><i class=\"kol-icon kol-icon-star-full\"></i><i class=\"kol-icon kol-icon-star-empty\"></i> </span></div> <div class=\"table-line clearfix\"><span class=\"rank-cell pull-left rank-number\"><span class=\"number number-bold number-7\">7</span><span class=\"change change-7 none\">  -    </span></span><span class=\"rank-cell pull-left rank-desc\"><a class=\"link clearfix\" href=\"/youtube/channel/UCdX5KXiCTPYWYZscfphgQ4g\"><img class=\"avatar pull-left\" onerror=\"this.src = 'https://res06.bignox.com/s3group/player/launch/2020/08/26/d6de214734f247f2a884b6838825e49b.svg'\" src=\"https://res-kol.noxgroup.com/noxinfluencer/youtube/avatar/eef45ba0835b8e9ca10a353e019688ce.png\"/> <span class=\"title pull-left ellipsis\">BeatboxJCOP</span></a></span> <span class=\"rank-cell pull-left rank-category\"> <a class=\"category\" href=\"/youtube-channel-rank/top-100-kr-entertainment-youtuber-sorted-by-subs-weekly\">엔터테인먼트</a> </span> <span class=\"rank-cell pull-left rank-subs\"><span class=\"number\">2800만</span><span class=\"change up\"> <span class=\"kolicon kol-icon-point-up\"></span> 0.7%  </span></span><span class=\"rank-cell pull-left rank-avg-view\"> <span class=\"number\">533.43만</span> <span class=\"change up\"> <span class=\"kolicon kol-icon-point-up\"></span> 11.2%  </span> </span><span class=\"rank-cell pull-left rank-score\"> <i class=\"kol-icon kol-icon-star-full\"></i><i class=\"kol-icon kol-icon-star-full\"></i><i class=\"kol-icon kol-icon-star-full\"></i><i class=\"kol-icon kol-icon-star-empty\"></i><i class=\"kol-icon kol-icon-star-empty\"></i> </span></div> <div class=\"table-line clearfix\"><span class=\"rank-cell pull-left rank-number\"><span class=\"number number-bold number-8\">8</span><span class=\"change change-8 none\">  -    </span></span><span class=\"rank-cell pull-left rank-desc\"><a class=\"link clearfix\" href=\"/youtube/channel/UCKqx9r4mrFglauNBJc1L_eg\"><img class=\"avatar pull-left\" onerror=\"this.src = 'https://res06.bignox.com/s3group/player/launch/2020/08/26/d6de214734f247f2a884b6838825e49b.svg'\" src=\"https://res-kol.noxgroup.com/noxinfluencer/youtube/avatar/890331fed23b750f8a4176b58de409ec.png\"/> <span class=\"title pull-left ellipsis\">ToyPuddingTV</span></a></span> <span class=\"rank-cell pull-left rank-category\"> <a class=\"category\" href=\"/youtube-channel-rank/top-100-kr-entertainment-youtuber-sorted-by-subs-weekly\">엔터테인먼트</a> </span> <span class=\"rank-cell pull-left rank-subs\"><span class=\"number\">2720만</span><span class=\"change none\">  -    </span></span><span class=\"rank-cell pull-left rank-avg-view\"> <span class=\"number\">3.59만</span> <span class=\"change up\"> <span class=\"kolicon kol-icon-point-up\"></span> 0.7%  </span> </span><span class=\"rank-cell pull-left rank-score\"> <i class=\"kol-icon kol-icon-star-full\"></i><i class=\"kol-icon kol-icon-star-full\"></i><i class=\"kol-icon kol-icon-star-empty\"></i><i class=\"kol-icon kol-icon-star-empty\"></i><i class=\"kol-icon kol-icon-star-empty\"></i> </span></div> <div class=\"table-line clearfix\"><span class=\"rank-cell pull-left rank-number\"><span class=\"number number-bold number-9\">9</span><span class=\"change change-9 none\">  -    </span></span><span class=\"rank-cell pull-left rank-desc\"><a class=\"link clearfix\" href=\"/youtube/channel/UCw8ZhLPdQ0u_Y-TLKd61hGA\"><img class=\"avatar pull-left\" onerror=\"this.src = 'https://res06.bignox.com/s3group/player/launch/2020/08/26/d6de214734f247f2a884b6838825e49b.svg'\" src=\"https://res-kol.noxgroup.com/noxinfluencer/youtube/avatar/d534438858b9be7a55aabccfa5ff050a.png\"/> <span class=\"title pull-left ellipsis\">1MILLION Dance Studio</span></a></span> <span class=\"rank-cell pull-left rank-category\"> <a class=\"category\" href=\"/youtube-channel-rank/top-100-kr-entertainment-youtuber-sorted-by-subs-weekly\">엔터테인먼트</a> </span> <span class=\"rank-cell pull-left rank-subs\"><span class=\"number\">2630만</span><span class=\"change none\">  -    </span></span><span class=\"rank-cell pull-left rank-avg-view\"> <span class=\"number\">1.79만</span> <span class=\"change down\"> <span class=\"kolicon kol-icon-point-down\"></span> 10.1%   </span> </span><span class=\"rank-cell pull-left rank-score\"> <i class=\"kol-icon kol-icon-star-full\"></i><i class=\"kol-icon kol-icon-star-full\"></i><i class=\"kol-icon kol-icon-star-half\"></i><i class=\"kol-icon kol-icon-star-empty\"></i><i class=\"kol-icon kol-icon-star-empty\"></i> </span></div> <div class=\"table-line clearfix\"><span class=\"rank-cell pull-left rank-number\"><span class=\"number number-bold number-10\">10</span><span class=\"change change-10 none\">  -    </span></span><span class=\"rank-cell pull-left rank-desc\"><a class=\"link clearfix\" href=\"/youtube/channel/UCweOkPb1wVVH0Q0Tlj4a5Pw\"><img class=\"avatar pull-left\" onerror=\"this.src = 'https://res06.bignox.com/s3group/player/launch/2020/08/26/d6de214734f247f2a884b6838825e49b.svg'\" src=\"https://res-kol.noxgroup.com/noxinfluencer/youtube/avatar/75275cd919286581fef42e534d90e3f2.png\"/> <span class=\"title pull-left ellipsis\">1theK (원더케이)</span></a></span> <span class=\"rank-cell pull-left rank-category\"> <a class=\"category\" href=\"/youtube-channel-rank/top-100-kr-music-youtuber-sorted-by-subs-weekly\">음악</a> </span> <span class=\"rank-cell pull-left rank-subs\"><span class=\"number\">2470만</span><span class=\"change none\">  -    </span></span><span class=\"rank-cell pull-left rank-avg-view\"> <span class=\"number\">60.08만</span> <span class=\"change up\"> <span class=\"kolicon kol-icon-point-up\"></span> 2711.5%  </span> </span><span class=\"rank-cell pull-left rank-score\"> <i class=\"kol-icon kol-icon-star-full\"></i><i class=\"kol-icon kol-icon-star-full\"></i><i class=\"kol-icon kol-icon-star-full\"></i><i class=\"kol-icon kol-icon-star-empty\"></i><i class=\"kol-icon kol-icon-star-empty\"></i> </span></div> <div class=\"table-line clearfix\"><span class=\"rank-cell pull-left rank-number\"><span class=\"number number-bold number-11\">11</span><span class=\"change change-11 none\">  -    </span></span><span class=\"rank-cell pull-left rank-desc\"><a class=\"link clearfix\" href=\"/youtube/channel/UCkLNHZZsC3LKdUAroKNwOOw\"><img class=\"avatar pull-left\" onerror=\"this.src = 'https://res06.bignox.com/s3group/player/launch/2020/08/26/d6de214734f247f2a884b6838825e49b.svg'\" src=\"https://res-kol.noxgroup.com/noxinfluencer/youtube/avatar/975567e0a033605ed24c5d6bf5d85315.png\"/> <span class=\"title pull-left ellipsis\">CuRe 구래</span></a></span> <span class=\"rank-cell pull-left rank-category\"> <a class=\"category\" href=\"/youtube-channel-rank/top-100-kr-comedy-youtuber-sorted-by-subs-weekly\">코미디</a> </span> <span class=\"rank-cell pull-left rank-subs\"><span class=\"number\">2110만</span><span class=\"change up\"> <span class=\"kolicon kol-icon-point-up\"></span> 0.5%  </span></span><span class=\"rank-cell pull-left rank-avg-view\"> <span class=\"number\">0</span> <span class=\"change down\"> <span class=\"kolicon kol-icon-point-down\"></span> 100%   </span> </span><span class=\"rank-cell pull-left rank-score\"> <i class=\"kol-icon kol-icon-star-full\"></i><i class=\"kol-icon kol-icon-star-full\"></i><i class=\"kol-icon kol-icon-star-full\"></i><i class=\"kol-icon kol-icon-star-full\"></i><i class=\"kol-icon kol-icon-star-half\"></i> </span></div> <div class=\"table-line clearfix\"><span class=\"rank-cell pull-left rank-number\"><span class=\"number number-bold number-12\">12</span><span class=\"change change-12 none\">  -    </span></span><span class=\"rank-cell pull-left rank-desc\"><a class=\"link clearfix\" href=\"/youtube/channel/UCbD8EppRX3ZwJSou-TVo90A\"><img class=\"avatar pull-left\" onerror=\"this.src = 'https://res06.bignox.com/s3group/player/launch/2020/08/26/d6de214734f247f2a884b6838825e49b.svg'\" src=\"https://res-kol.noxgroup.com/noxinfluencer/youtube/avatar/e2234f0ea385b6699bcfca06e29608b9.png\"/> <span class=\"title pull-left ellipsis\">Mnet K-POP</span></a></span> <span class=\"rank-cell pull-left rank-category\"> <a class=\"category\" href=\"/youtube-channel-rank/top-100-kr-gaming-youtuber-sorted-by-subs-weekly\">게임</a> </span> <span class=\"rank-cell pull-left rank-subs\"><span class=\"number\">2080만</span><span class=\"change none\">  -    </span></span><span class=\"rank-cell pull-left rank-avg-view\"> <span class=\"number\">7112</span> <span class=\"change down\"> <span class=\"kolicon kol-icon-point-down\"></span> 63.6%   </span> </span><span class=\"rank-cell pull-left rank-score\"> <i class=\"kol-icon kol-icon-star-full\"></i><i class=\"kol-icon kol-icon-star-full\"></i><i class=\"kol-icon kol-icon-star-full\"></i><i class=\"kol-icon kol-icon-star-empty\"></i><i class=\"kol-icon kol-icon-star-empty\"></i> </span></div> <div class=\"table-line clearfix\"><span class=\"rank-cell pull-left rank-number\"><span class=\"number number-bold number-13\">13</span><span class=\"change change-13 none\">  -    </span></span><span class=\"rank-cell pull-left rank-desc\"><a class=\"link clearfix\" href=\"/youtube/channel/UCPhHBEtG6dVZ5fJKoNArcJw\"><img class=\"avatar pull-left\" onerror=\"this.src = 'https://res06.bignox.com/s3group/player/launch/2020/08/26/d6de214734f247f2a884b6838825e49b.svg'\" src=\"https://res-kol.noxgroup.com/noxinfluencer/youtube/avatar/dd67214b01233f7e68856fb4ab66d017.png\"/> <span class=\"title pull-left ellipsis\">승비니 Seungbini</span></a></span> <span class=\"rank-cell pull-left rank-category\"> <a class=\"category\" href=\"/youtube-channel-rank/top-100-kr-people &amp; blogs-youtuber-sorted-by-subs-weekly\">인물/블로그</a> </span> <span class=\"rank-cell pull-left rank-subs\"><span class=\"number\">2010만</span><span class=\"change up\"> <span class=\"kolicon kol-icon-point-up\"></span> 1%  </span></span><span class=\"rank-cell pull-left rank-avg-view\"> <span class=\"number\">1069.42만</span> <span class=\"change up\"> <span class=\"kolicon kol-icon-point-up\"></span> 10.4%  </span> </span><span class=\"rank-cell pull-left rank-score\"> <i class=\"kol-icon kol-icon-star-full\"></i><i class=\"kol-icon kol-icon-star-full\"></i><i class=\"kol-icon kol-icon-star-full\"></i><i class=\"kol-icon kol-icon-star-full\"></i><i class=\"kol-icon kol-icon-star-half\"></i> </span></div> <div class=\"table-line clearfix\"><span class=\"rank-cell pull-left rank-number\"><span class=\"number number-bold number-14\">14</span><span class=\"change change-14 none\">  -    </span></span><span class=\"rank-cell pull-left rank-desc\"><a class=\"link clearfix\" href=\"/youtube/channel/UC5BMQOsAB8hKUyHu9KI6yig\"><img class=\"avatar pull-left\" onerror=\"this.src = 'https://res06.bignox.com/s3group/player/launch/2020/08/26/d6de214734f247f2a884b6838825e49b.svg'\" src=\"https://res-kol.noxgroup.com/noxinfluencer/youtube/avatar/0a599aa9f2f076db4a163da645601b52.png\"/> <span class=\"title pull-left ellipsis\">KBS WORLD TV</span></a></span> <span class=\"rank-cell pull-left rank-category\"> <a class=\"category\" href=\"/youtube-channel-rank/top-100-kr-entertainment-youtuber-sorted-by-subs-weekly\">엔터테인먼트</a> </span> <span class=\"rank-cell pull-left rank-subs\"><span class=\"number\">1950만</span><span class=\"change none\">  -    </span></span><span class=\"rank-cell pull-left rank-avg-view\"> <span class=\"number\">3679</span> <span class=\"change down\"> <span class=\"kolicon kol-icon-point-down\"></span> 83.2%   </span> </span><span class=\"rank-cell pull-left rank-score\"> <i class=\"kol-icon kol-icon-star-full\"></i><i class=\"kol-icon kol-icon-star-full\"></i><i class=\"kol-icon kol-icon-star-half\"></i><i class=\"kol-icon kol-icon-star-empty\"></i><i class=\"kol-icon kol-icon-star-empty\"></i> </span></div> <div class=\"table-line clearfix\"><span class=\"rank-cell pull-left rank-number\"><span class=\"number number-bold number-15\">15</span><span class=\"change change-15 none\">  -    </span></span><span class=\"rank-cell pull-left rank-desc\"><a class=\"link clearfix\" href=\"/youtube/channel/UCrDkAvwZum-UTjHmzDI2iIw\"><img class=\"avatar pull-left\" onerror=\"this.src = 'https://res06.bignox.com/s3group/player/launch/2020/08/26/d6de214734f247f2a884b6838825e49b.svg'\" src=\"https://res-kol.noxgroup.com/noxinfluencer/youtube/avatar/a1f87df90e50ed3414e7c59e252bded0.png\"/> <span class=\"title pull-left ellipsis\">officialpsy</span></a></span> <span class=\"rank-cell pull-left rank-category\"> <a class=\"category\" href=\"/youtube-channel-rank/top-100-kr-music-youtuber-sorted-by-subs-weekly\">음악</a> </span> <span class=\"rank-cell pull-left rank-subs\"><span class=\"number\">1860만</span><span class=\"change none\">  -    </span></span><span class=\"rank-cell pull-left rank-avg-view\"> <span class=\"number\">550.65만</span> <span class=\"change up\"> <span class=\"kolicon kol-icon-point-up\"></span> 0.6%  </span> </span><span class=\"rank-cell pull-left rank-score\"> <i class=\"kol-icon kol-icon-star-half\"></i><i class=\"kol-icon kol-icon-star-empty\"></i><i class=\"kol-icon kol-icon-star-empty\"></i><i class=\"kol-icon kol-icon-star-empty\"></i><i class=\"kol-icon kol-icon-star-empty\"></i> </span></div> <div class=\"table-line clearfix\"><span class=\"rank-cell pull-left rank-number\"><span class=\"number number-bold number-16\">16</span><span class=\"change change-16 none\">  -    </span></span><span class=\"rank-cell pull-left rank-desc\"><a class=\"link clearfix\" href=\"/youtube/channel/UCdrBnBNLsN4_cH32HWbr9qg\"><img class=\"avatar pull-left\" onerror=\"this.src = 'https://res06.bignox.com/s3group/player/launch/2020/08/26/d6de214734f247f2a884b6838825e49b.svg'\" src=\"https://res-kol.noxgroup.com/noxinfluencer/youtube/avatar/60d79437003bef2ed9d3a2a01c875dac.png\"/> <span class=\"title pull-left ellipsis\">GH'S</span></a></span> <span class=\"rank-cell pull-left rank-category\"> <a class=\"category\" href=\"/youtube-channel-rank/top-100-kr-gaming-youtuber-sorted-by-subs-weekly\">게임</a> </span> <span class=\"rank-cell pull-left rank-subs\"><span class=\"number\">1850만</span><span class=\"change up\"> <span class=\"kolicon kol-icon-point-up\"></span> 1.7%  </span></span><span class=\"rank-cell pull-left rank-avg-view\"> <span class=\"number\">1472.74만</span> <span class=\"change up\"> <span class=\"kolicon kol-icon-point-up\"></span> 8.9%  </span> </span><span class=\"rank-cell pull-left rank-score\"> <i class=\"kol-icon kol-icon-star-full\"></i><i class=\"kol-icon kol-icon-star-full\"></i><i class=\"kol-icon kol-icon-star-full\"></i><i class=\"kol-icon kol-icon-star-full\"></i><i class=\"kol-icon kol-icon-star-half\"></i> </span></div> <div class=\"table-line clearfix\"><span class=\"rank-cell pull-left rank-number\"><span class=\"number number-bold number-17\">17</span><span class=\"change change-17 none\">  -    </span></span><span class=\"rank-cell pull-left rank-desc\"><a class=\"link clearfix\" href=\"/youtube/channel/UC2fsxQr6Hcx1enORxXgKpxQ\"><img class=\"avatar pull-left\" onerror=\"this.src = 'https://res06.bignox.com/s3group/player/launch/2020/08/26/d6de214734f247f2a884b6838825e49b.svg'\" src=\"https://res-kol.noxgroup.com/noxinfluencer/youtube/avatar/017ad943da9d9d1c7ca87967da6847ea.png\"/> <span class=\"title pull-left ellipsis\">Jane ASMR 제인</span></a></span> <span class=\"rank-cell pull-left rank-category\"> <a class=\"category\" href=\"/youtube-channel-rank/top-100-kr-people &amp; blogs-youtuber-sorted-by-subs-weekly\">인물/블로그</a> </span> <span class=\"rank-cell pull-left rank-subs\"><span class=\"number\">1790만</span><span class=\"change up\"> <span class=\"kolicon kol-icon-point-up\"></span> 0.6%  </span></span><span class=\"rank-cell pull-left rank-avg-view\"> <span class=\"number\">12.55만</span> <span class=\"change down\"> <span class=\"kolicon kol-icon-point-down\"></span> 0%   </span> </span><span class=\"rank-cell pull-left rank-score\"> <i class=\"kol-icon kol-icon-star-full\"></i><i class=\"kol-icon kol-icon-star-full\"></i><i class=\"kol-icon kol-icon-star-half\"></i><i class=\"kol-icon kol-icon-star-empty\"></i><i class=\"kol-icon kol-icon-star-empty\"></i> </span></div> <div class=\"table-line clearfix\"><span class=\"rank-cell pull-left rank-number\"><span class=\"number number-bold number-18\">18</span><span class=\"change change-18 none\">  -    </span></span><span class=\"rank-cell pull-left rank-desc\"><a class=\"link clearfix\" href=\"/youtube/channel/UClkRzsdvg7_RKVhwDwiDZOA\"><img class=\"avatar pull-left\" onerror=\"this.src = 'https://res06.bignox.com/s3group/player/launch/2020/08/26/d6de214734f247f2a884b6838825e49b.svg'\" src=\"https://res-kol.noxgroup.com/noxinfluencer/youtube/avatar/06f53497a8367847a151df7e3ab97c20.png\"/> <span class=\"title pull-left ellipsis\">JFlaMusic</span></a></span> <span class=\"rank-cell pull-left rank-category\"> <a class=\"category\" href=\"/youtube-channel-rank/top-100-kr-music-youtuber-sorted-by-subs-weekly\">음악</a> </span> <span class=\"rank-cell pull-left rank-subs\"><span class=\"number\">1750만</span><span class=\"change none\">  -    </span></span><span class=\"rank-cell pull-left rank-avg-view\"> <span class=\"number\">15.31만</span> <span class=\"change down\"> <span class=\"kolicon kol-icon-point-down\"></span> 2.4%   </span> </span><span class=\"rank-cell pull-left rank-score\"> <i class=\"kol-icon kol-icon-star-full\"></i><i class=\"kol-icon kol-icon-star-half\"></i><i class=\"kol-icon kol-icon-star-empty\"></i><i class=\"kol-icon kol-icon-star-empty\"></i><i class=\"kol-icon kol-icon-star-empty\"></i> </span></div> <div class=\"table-line clearfix\"><span class=\"rank-cell pull-left rank-number\"><span class=\"number number-bold number-19\">19</span><span class=\"change change-19 none\">  -    </span></span><span class=\"rank-cell pull-left rank-desc\"><a class=\"link clearfix\" href=\"/youtube/channel/UCP-Ng5SXUEt0VE-TXqRdL6g\"><img class=\"avatar pull-left\" onerror=\"this.src = 'https://res06.bignox.com/s3group/player/launch/2020/08/26/d6de214734f247f2a884b6838825e49b.svg'\" src=\"https://res-kol.noxgroup.com/noxinfluencer/youtube/avatar/0c013aeb2df4d5042f281557b0fb67ae.png\"/> <span class=\"title pull-left ellipsis\">LEGO</span></a></span> <span class=\"rank-cell pull-left rank-category\"> <a class=\"category\" href=\"/youtube-channel-rank/top-100-kr-film &amp; animation-youtuber-sorted-by-subs-weekly\">영화/애니메이션</a> </span> <span class=\"rank-cell pull-left rank-subs\"><span class=\"number\">1750만</span><span class=\"change none\">  -    </span></span><span class=\"rank-cell pull-left rank-avg-view\"> <span class=\"number\">3765</span> <span class=\"change down\"> <span class=\"kolicon kol-icon-point-down\"></span> 43.4%   </span> </span><span class=\"rank-cell pull-left rank-score\"> <i class=\"kol-icon kol-icon-star-full\"></i><i class=\"kol-icon kol-icon-star-full\"></i><i class=\"kol-icon kol-icon-star-empty\"></i><i class=\"kol-icon kol-icon-star-empty\"></i><i class=\"kol-icon kol-icon-star-empty\"></i> </span></div> <div class=\"table-line clearfix\"><span class=\"rank-cell pull-left rank-number\"><span class=\"number number-bold number-20\">20</span><span class=\"change change-20 none\">  -    </span></span><span class=\"rank-cell pull-left rank-desc\"><a class=\"link clearfix\" href=\"/youtube/channel/UCzgxx_DM2Dcb9Y1spb9mUJA\"><img class=\"avatar pull-left\" onerror=\"this.src = 'https://res06.bignox.com/s3group/player/launch/2020/08/26/d6de214734f247f2a884b6838825e49b.svg'\" src=\"https://res-kol.noxgroup.com/noxinfluencer/youtube/avatar/50af36d7f94fbaaa38221a0c64ade59b.png\"/> <span class=\"title pull-left ellipsis\">TWICE</span></a></span> <span class=\"rank-cell pull-left rank-category\"> <a class=\"category\" href=\"/youtube-channel-rank/top-100-kr-music-youtuber-sorted-by-subs-weekly\">음악</a> </span> <span class=\"rank-cell pull-left rank-subs\"><span class=\"number\">1690만</span><span class=\"change none\">  -    </span></span><span class=\"rank-cell pull-left rank-avg-view\"> <span class=\"number\">68.21만</span> <span class=\"change up\"> <span class=\"kolicon kol-icon-point-up\"></span> 63.4%  </span> </span><span class=\"rank-cell pull-left rank-score\"> <i class=\"kol-icon kol-icon-star-full\"></i><i class=\"kol-icon kol-icon-star-full\"></i><i class=\"kol-icon kol-icon-star-full\"></i><i class=\"kol-icon kol-icon-star-half\"></i><i class=\"kol-icon kol-icon-star-empty\"></i> </span></div> <div class=\"table-line clearfix\"><span class=\"rank-cell pull-left rank-number\"><span class=\"number number-bold number-21\">21</span><span class=\"change change-21 up\"> <span class=\"kolicon kol-icon-point-up\"></span> 1  </span></span><span class=\"rank-cell pull-left rank-desc\"><a class=\"link clearfix\" href=\"/youtube/channel/UC9rMiEjNaCSsebs31MRDCRA\"><img class=\"avatar pull-left\" onerror=\"this.src = 'https://res06.bignox.com/s3group/player/launch/2020/08/26/d6de214734f247f2a884b6838825e49b.svg'\" src=\"https://res-kol.noxgroup.com/noxinfluencer/youtube/avatar/ca420ae4a9165ba26d3d42a14747f83d.png\"/> <span class=\"title pull-left ellipsis\">Stray Kids</span></a></span> <span class=\"rank-cell pull-left rank-category\"> <a class=\"category\" href=\"/youtube-channel-rank/top-100-kr-people &amp; blogs-youtuber-sorted-by-subs-weekly\">인물/블로그</a> </span> <span class=\"rank-cell pull-left rank-subs\"><span class=\"number\">1580만</span><span class=\"change up\"> <span class=\"kolicon kol-icon-point-up\"></span> 0.6%  </span></span><span class=\"rank-cell pull-left rank-avg-view\"> <span class=\"number\">138.83만</span> <span class=\"change down\"> <span class=\"kolicon kol-icon-point-down\"></span> 5.9%   </span> </span><span class=\"rank-cell pull-left rank-score\"> <i class=\"kol-icon kol-icon-star-full\"></i><i class=\"kol-icon kol-icon-star-full\"></i><i class=\"kol-icon kol-icon-star-full\"></i><i class=\"kol-icon kol-icon-star-empty\"></i><i class=\"kol-icon kol-icon-star-empty\"></i> </span></div> <div class=\"table-line clearfix\"><span class=\"rank-cell pull-left rank-number\"><span class=\"number number-bold number-22\">22</span><span class=\"change change-22 down\"> <span class=\"kolicon kol-icon-point-down\"></span> 1   </span></span><span class=\"rank-cell pull-left rank-desc\"><a class=\"link clearfix\" href=\"/youtube/channel/UCxtLc0Jqq3SKBWlIXM_OC9g\"><img class=\"avatar pull-left\" onerror=\"this.src = 'https://res06.bignox.com/s3group/player/launch/2020/08/26/d6de214734f247f2a884b6838825e49b.svg'\" src=\"https://res-kol.noxgroup.com/noxinfluencer/youtube/avatar/ee2addcab593d4c54e1fe5b5fbc9030d.png\"/> <span class=\"title pull-left ellipsis\">Hongyu ASMR 홍유</span></a></span> <span class=\"rank-cell pull-left rank-category\"> <a class=\"category\" href=\"/youtube-channel-rank/top-100-kr-people &amp; blogs-youtuber-sorted-by-subs-weekly\">인물/블로그</a> </span> <span class=\"rank-cell pull-left rank-subs\"><span class=\"number\">1570만</span><span class=\"change none\">  -    </span></span><span class=\"rank-cell pull-left rank-avg-view\"> <span class=\"number\">69.47만</span> <span class=\"change up\"> <span class=\"kolicon kol-icon-point-up\"></span> 8.4%  </span> </span><span class=\"rank-cell pull-left rank-score\"> <i class=\"kol-icon kol-icon-star-full\"></i><i class=\"kol-icon kol-icon-star-full\"></i><i class=\"kol-icon kol-icon-star-half\"></i><i class=\"kol-icon kol-icon-star-empty\"></i><i class=\"kol-icon kol-icon-star-empty\"></i> </span></div> <div class=\"table-line clearfix\"><span class=\"rank-cell pull-left rank-number\"><span class=\"number number-bold number-23\">23</span><span class=\"change change-23 none\">  -    </span></span><span class=\"rank-cell pull-left rank-desc\"><a class=\"link clearfix\" href=\"/youtube/channel/UCzw-C7fNfs018R1FzIKnlaA\"><img class=\"avatar pull-left\" onerror=\"this.src = 'https://res06.bignox.com/s3group/player/launch/2020/08/26/d6de214734f247f2a884b6838825e49b.svg'\" src=\"https://res-kol.noxgroup.com/noxinfluencer/youtube/avatar/05dfd14b2121451a7a23d29a5b254296.png\"/> <span class=\"title pull-left ellipsis\">BIGBANG</span></a></span> <span class=\"rank-cell pull-left rank-category\"> <a class=\"category\" href=\"/youtube-channel-rank/top-100-kr-music-youtuber-sorted-by-subs-weekly\">음악</a> </span> <span class=\"rank-cell pull-left rank-subs\"><span class=\"number\">1510만</span><span class=\"change none\">  -    </span></span><span class=\"rank-cell pull-left rank-avg-view\"> <span class=\"number\">371.71만</span> <span class=\"change up\"> <span class=\"kolicon kol-icon-point-up\"></span> 0.3%  </span> </span><span class=\"rank-cell pull-left rank-score\"> <i class=\"kol-icon kol-icon-star-half\"></i><i class=\"kol-icon kol-icon-star-empty\"></i><i class=\"kol-icon kol-icon-star-empty\"></i><i class=\"kol-icon kol-icon-star-empty\"></i><i class=\"kol-icon kol-icon-star-empty\"></i> </span></div> <div class=\"table-line clearfix\"><span class=\"rank-cell pull-left rank-number\"><span class=\"number number-bold number-24\">24</span><span class=\"change change-24 none\">  -    </span></span><span class=\"rank-cell pull-left rank-desc\"><a class=\"link clearfix\" href=\"/youtube/channel/UC3pnQ7MHDABUFungNcMQ7dA\"><img class=\"avatar pull-left\" onerror=\"this.src = 'https://res06.bignox.com/s3group/player/launch/2020/08/26/d6de214734f247f2a884b6838825e49b.svg'\" src=\"https://res-kol.noxgroup.com/noxinfluencer/youtube/avatar/bf8744af6ae37c986ad47f18a689d3bb.png\"/> <span class=\"title pull-left ellipsis\">Boram Tube ToysReview [보람튜브 토이리뷰]</span></a></span> <span class=\"rank-cell pull-left rank-category\"> <a class=\"category\" href=\"/youtube-channel-rank/top-100-kr-entertainment-youtuber-sorted-by-subs-weekly\">엔터테인먼트</a> </span> <span class=\"rank-cell pull-left rank-subs\"><span class=\"number\">1460만</span><span class=\"change none\">  -    </span></span><span class=\"rank-cell pull-left rank-avg-view\"> <span class=\"number\">1.13만</span> <span class=\"change down\"> <span class=\"kolicon kol-icon-point-down\"></span> 53.1%   </span> </span><span class=\"rank-cell pull-left rank-score\"> <i class=\"kol-icon kol-icon-star-full\"></i><i class=\"kol-icon kol-icon-star-full\"></i><i class=\"kol-icon kol-icon-star-empty\"></i><i class=\"kol-icon kol-icon-star-empty\"></i><i class=\"kol-icon kol-icon-star-empty\"></i> </span></div> <div class=\"table-line clearfix\"><span class=\"rank-cell pull-left rank-number\"><span class=\"number number-bold number-25\">25</span><span class=\"change change-25 none\">  -    </span></span><span class=\"rank-cell pull-left rank-desc\"><a class=\"link clearfix\" href=\"/youtube/channel/UCNQAoLEv87L7NgUp4We3HIg\"><img class=\"avatar pull-left\" onerror=\"this.src = 'https://res06.bignox.com/s3group/player/launch/2020/08/26/d6de214734f247f2a884b6838825e49b.svg'\" src=\"https://res-kol.noxgroup.com/noxinfluencer/youtube/avatar/30a916a02ec07a9c018f9d35976767be.png\"/> <span class=\"title pull-left ellipsis\">CRAZY GREAPA</span></a></span> <span class=\"rank-cell pull-left rank-category\"> <a class=\"category\" href=\"/youtube-channel-rank/top-100-kr-entertainment-youtuber-sorted-by-subs-weekly\">엔터테인먼트</a> </span> <span class=\"rank-cell pull-left rank-subs\"><span class=\"number\">1450만</span><span class=\"change up\"> <span class=\"kolicon kol-icon-point-up\"></span> 0.7%  </span></span><span class=\"rank-cell pull-left rank-avg-view\"> <span class=\"number\">423.68만</span> <span class=\"change up\"> <span class=\"kolicon kol-icon-point-up\"></span> 16.5%  </span> </span><span class=\"rank-cell pull-left rank-score\"> <i class=\"kol-icon kol-icon-star-full\"></i><i class=\"kol-icon kol-icon-star-full\"></i><i class=\"kol-icon kol-icon-star-full\"></i><i class=\"kol-icon kol-icon-star-full\"></i><i class=\"kol-icon kol-icon-star-half\"></i> </span></div> <div class=\"table-line clearfix\"><span class=\"rank-cell pull-left rank-number\"><span class=\"number number-bold number-26\">26</span><span class=\"change change-26 none\">  -    </span></span><span class=\"rank-cell pull-left rank-desc\"><a class=\"link clearfix\" href=\"/youtube/channel/UCraaN4FiNe7l3F4XR6s246A\"><img class=\"avatar pull-left\" onerror=\"this.src = 'https://res06.bignox.com/s3group/player/launch/2020/08/26/d6de214734f247f2a884b6838825e49b.svg'\" src=\"https://res-kol.noxgroup.com/noxinfluencer/youtube/avatar/39655e462e8aebbf8c8e7de682361242.png\"/> <span class=\"title pull-left ellipsis\">서은일상이야기</span></a></span> <span class=\"rank-cell pull-left rank-category\"> <a class=\"category\" href=\"/youtube-channel-rank/top-100-kr-entertainment-youtuber-sorted-by-subs-weekly\">엔터테인먼트</a> </span> <span class=\"rank-cell pull-left rank-subs\"><span class=\"number\">1440만</span><span class=\"change none\">  -    </span></span><span class=\"rank-cell pull-left rank-avg-view\"> <span class=\"number\">4124</span> <span class=\"change down\"> <span class=\"kolicon kol-icon-point-down\"></span> 8%   </span> </span><span class=\"rank-cell pull-left rank-score\"> <i class=\"kol-icon kol-icon-star-full\"></i><i class=\"kol-icon kol-icon-star-full\"></i><i class=\"kol-icon kol-icon-star-empty\"></i><i class=\"kol-icon kol-icon-star-empty\"></i><i class=\"kol-icon kol-icon-star-empty\"></i> </span></div> <div class=\"table-line clearfix\"><span class=\"rank-cell pull-left rank-number\"><span class=\"number number-bold number-27\">27</span><span class=\"change change-27 none\">  -    </span></span><span class=\"rank-cell pull-left rank-desc\"><a class=\"link clearfix\" href=\"/youtube/channel/UCIafb9ExBkh4WsCOagZssZA\"><img class=\"avatar pull-left\" onerror=\"this.src = 'https://res06.bignox.com/s3group/player/launch/2020/08/26/d6de214734f247f2a884b6838825e49b.svg'\" src=\"https://res-kol.noxgroup.com/noxinfluencer/youtube/avatar/6018af6768f34a2e1cac896ffdd670f5.png\"/> <span class=\"title pull-left ellipsis\">설기양SULGI</span></a></span> <span class=\"rank-cell pull-left rank-category\"> <a class=\"category\" href=\"/youtube-channel-rank/top-100-kr-people &amp; blogs-youtuber-sorted-by-subs-weekly\">인물/블로그</a> </span> <span class=\"rank-cell pull-left rank-subs\"><span class=\"number\">1360만</span><span class=\"change none\">  -    </span></span><span class=\"rank-cell pull-left rank-avg-view\"> <span class=\"number\">50.15만</span> <span class=\"change up\"> <span class=\"kolicon kol-icon-point-up\"></span> 12.5%  </span> </span><span class=\"rank-cell pull-left rank-score\"> <i class=\"kol-icon kol-icon-star-full\"></i><i class=\"kol-icon kol-icon-star-full\"></i><i class=\"kol-icon kol-icon-star-full\"></i><i class=\"kol-icon kol-icon-star-empty\"></i><i class=\"kol-icon kol-icon-star-empty\"></i> </span></div> <div class=\"table-line clearfix\"><span class=\"rank-cell pull-left rank-number\"><span class=\"number number-bold number-28\">28</span><span class=\"change change-28 none\">  -    </span></span><span class=\"rank-cell pull-left rank-desc\"><a class=\"link clearfix\" href=\"/youtube/channel/UCL4r3zHKJpcJ0jEYSbobk1Q\"><img class=\"avatar pull-left\" onerror=\"this.src = 'https://res06.bignox.com/s3group/player/launch/2020/08/26/d6de214734f247f2a884b6838825e49b.svg'\" src=\"https://res-kol.noxgroup.com/noxinfluencer/youtube/avatar/438188bcf0cdd15a8d320d4dd80a58eb.png\"/> <span class=\"title pull-left ellipsis\">BIBO와 장난감</span></a></span> <span class=\"rank-cell pull-left rank-category\"> <a class=\"category\" href=\"/youtube-channel-rank/top-100-kr-entertainment-youtuber-sorted-by-subs-weekly\">엔터테인먼트</a> </span> <span class=\"rank-cell pull-left rank-subs\"><span class=\"number\">1340만</span><span class=\"change none\">  -    </span></span><span class=\"rank-cell pull-left rank-avg-view\"> <span class=\"number\">0</span> <span class=\"change down\"> <span class=\"kolicon kol-icon-point-down\"></span> 100%   </span> </span><span class=\"rank-cell pull-left rank-score\"> <i class=\"kol-icon kol-icon-star-full\"></i><i class=\"kol-icon kol-icon-star-full\"></i><i class=\"kol-icon kol-icon-star-empty\"></i><i class=\"kol-icon kol-icon-star-empty\"></i><i class=\"kol-icon kol-icon-star-empty\"></i> </span></div> <div class=\"table-line clearfix\"><span class=\"rank-cell pull-left rank-number\"><span class=\"number number-bold number-29\">29</span><span class=\"change change-29 none\">  -    </span></span><span class=\"rank-cell pull-left rank-desc\"><a class=\"link clearfix\" href=\"/youtube/channel/UCPKNKldggioffXPkSmjs5lQ\"><img class=\"avatar pull-left\" onerror=\"this.src = 'https://res06.bignox.com/s3group/player/launch/2020/08/26/d6de214734f247f2a884b6838825e49b.svg'\" src=\"https://res-kol.noxgroup.com/noxinfluencer/youtube/avatar/ee0cd203d3be63d04c895c84fdfc8719.png\"/> <span class=\"title pull-left ellipsis\">[햄지]Hamzy</span></a></span> <span class=\"rank-cell pull-left rank-category\"> <a class=\"category\" href=\"/youtube-channel-rank/top-100-kr-entertainment-youtuber-sorted-by-subs-weekly\">엔터테인먼트</a> </span> <span class=\"rank-cell pull-left rank-subs\"><span class=\"number\">1240만</span><span class=\"change up\"> <span class=\"kolicon kol-icon-point-up\"></span> 0.8%  </span></span><span class=\"rank-cell pull-left rank-avg-view\"> <span class=\"number\">71.46만</span> <span class=\"change up\"> <span class=\"kolicon kol-icon-point-up\"></span> 100%  </span> </span><span class=\"rank-cell pull-left rank-score\"> <i class=\"kol-icon kol-icon-star-full\"></i><i class=\"kol-icon kol-icon-star-full\"></i><i class=\"kol-icon kol-icon-star-full\"></i><i class=\"kol-icon kol-icon-star-empty\"></i><i class=\"kol-icon kol-icon-star-empty\"></i> </span></div> <div class=\"table-line clearfix\"><span class=\"rank-cell pull-left rank-number\"><span class=\"number number-bold number-30\">30</span><span class=\"change change-30 none\">  -    </span></span><span class=\"rank-cell pull-left rank-desc\"><a class=\"link clearfix\" href=\"/youtube/channel/UC2B5onlYkZ7IaVekR9yIB6w\"><img class=\"avatar pull-left\" onerror=\"this.src = 'https://res06.bignox.com/s3group/player/launch/2020/08/26/d6de214734f247f2a884b6838825e49b.svg'\" src=\"https://res-kol.noxgroup.com/noxinfluencer/youtube/avatar/3fce80a4abfade26747c44c210ff5afd.png\"/> <span class=\"title pull-left ellipsis\">GONGSAM TABLE 이공삼</span></a></span> <span class=\"rank-cell pull-left rank-category\"> <a class=\"category\" href=\"/youtube-channel-rank/top-100-kr-entertainment-youtuber-sorted-by-subs-weekly\">엔터테인먼트</a> </span> <span class=\"rank-cell pull-left rank-subs\"><span class=\"number\">1200만</span><span class=\"change up\"> <span class=\"kolicon kol-icon-point-up\"></span> 0.8%  </span></span><span class=\"rank-cell pull-left rank-avg-view\"> <span class=\"number\">99.13만</span> <span class=\"change up\"> <span class=\"kolicon kol-icon-point-up\"></span> 4.4%  </span> </span><span class=\"rank-cell pull-left rank-score\"> <i class=\"kol-icon kol-icon-star-full\"></i><i class=\"kol-icon kol-icon-star-full\"></i><i class=\"kol-icon kol-icon-star-full\"></i><i class=\"kol-icon kol-icon-star-empty\"></i><i class=\"kol-icon kol-icon-star-empty\"></i> </span></div> <div class=\"table-line clearfix\"><span class=\"rank-cell pull-left rank-number\"><span class=\"number number-bold number-31\">31</span><span class=\"change change-31 none\">  -    </span></span><span class=\"rank-cell pull-left rank-desc\"><a class=\"link clearfix\" href=\"/youtube/channel/UCtiObj3CsEAdNU6ZPWDsddQ\"><img class=\"avatar pull-left\" onerror=\"this.src = 'https://res06.bignox.com/s3group/player/launch/2020/08/26/d6de214734f247f2a884b6838825e49b.svg'\" src=\"https://res-kol.noxgroup.com/noxinfluencer/youtube/avatar/2f39ac709a5ab0de8e95297ea7f3dc04.png\"/> <span class=\"title pull-left ellipsis\">TOMORROW X TOGETHER OFFICIAL</span></a></span> <span class=\"rank-cell pull-left rank-category\"> <a class=\"category\" href=\"/youtube-channel-rank/top-100-kr-music-youtuber-sorted-by-subs-weekly\">음악</a> </span> <span class=\"rank-cell pull-left rank-subs\"><span class=\"number\">1160만</span><span class=\"change none\">  -    </span></span><span class=\"rank-cell pull-left rank-avg-view\"> <span class=\"number\">23.2만</span> <span class=\"change down\"> <span class=\"kolicon kol-icon-point-down\"></span> 21.3%   </span> </span><span class=\"rank-cell pull-left rank-score\"> <i class=\"kol-icon kol-icon-star-full\"></i><i class=\"kol-icon kol-icon-star-full\"></i><i class=\"kol-icon kol-icon-star-full\"></i><i class=\"kol-icon kol-icon-star-empty\"></i><i class=\"kol-icon kol-icon-star-empty\"></i> </span></div> <div class=\"table-line clearfix\"><span class=\"rank-cell pull-left rank-number\"><span class=\"number number-bold number-32\">32</span><span class=\"change change-32 none\">  -    </span></span><span class=\"rank-cell pull-left rank-desc\"><a class=\"link clearfix\" href=\"/youtube/channel/UCcQ18ScARDXR0hf-OMQofsw\"><img class=\"avatar pull-left\" onerror=\"this.src = 'https://res06.bignox.com/s3group/player/launch/2020/08/26/d6de214734f247f2a884b6838825e49b.svg'\" src=\"https://res-kol.noxgroup.com/noxinfluencer/youtube/avatar/de45e5c4123c5c4991adf6aedd65b483.png\"/> <span class=\"title pull-left ellipsis\">ox_zung 원정맨</span></a></span> <span class=\"rank-cell pull-left rank-category\"> <a class=\"category\" href=\"/youtube-channel-rank/top-100-kr-science &amp; technology-youtuber-sorted-by-subs-weekly\">과학기술</a> </span> <span class=\"rank-cell pull-left rank-subs\"><span class=\"number\">1160만</span><span class=\"change none\">  -    </span></span><span class=\"rank-cell pull-left rank-avg-view\"> <span class=\"number\">259.22만</span> <span class=\"change up\"> <span class=\"kolicon kol-icon-point-up\"></span> 1.9%  </span> </span><span class=\"rank-cell pull-left rank-score\"> <i class=\"kol-icon kol-icon-star-full\"></i><i class=\"kol-icon kol-icon-star-full\"></i><i class=\"kol-icon kol-icon-star-full\"></i><i class=\"kol-icon kol-icon-star-empty\"></i><i class=\"kol-icon kol-icon-star-empty\"></i> </span></div> <div class=\"table-line clearfix\"><span class=\"rank-cell pull-left rank-number\"><span class=\"number number-bold number-33\">33</span><span class=\"change change-33 none\">  -    </span></span><span class=\"rank-cell pull-left rank-desc\"><a class=\"link clearfix\" href=\"/youtube/channel/UCqXwKu6dKobXEQFhdKtiJLQ\"><img class=\"avatar pull-left\" onerror=\"this.src = 'https://res06.bignox.com/s3group/player/launch/2020/08/26/d6de214734f247f2a884b6838825e49b.svg'\" src=\"https://res-kol.noxgroup.com/noxinfluencer/youtube/avatar/a0ee41741f34df494c1e0526f4ac5e82.png\"/> <span class=\"title pull-left ellipsis\">핑크퐁 (인기 동요・동화)</span></a></span> <span class=\"rank-cell pull-left rank-category\"> <a class=\"category\" href=\"/youtube-channel-rank/top-100-kr-education-youtuber-sorted-by-subs-weekly\">교육</a> </span> <span class=\"rank-cell pull-left rank-subs\"><span class=\"number\">1140만</span><span class=\"change none\">  -    </span></span><span class=\"rank-cell pull-left rank-avg-view\"> <span class=\"number\">4.27만</span> <span class=\"change up\"> <span class=\"kolicon kol-icon-point-up\"></span> 24.2%  </span> </span><span class=\"rank-cell pull-left rank-score\"> <i class=\"kol-icon kol-icon-star-full\"></i><i class=\"kol-icon kol-icon-star-full\"></i><i class=\"kol-icon kol-icon-star-empty\"></i><i class=\"kol-icon kol-icon-star-empty\"></i><i class=\"kol-icon kol-icon-star-empty\"></i> </span></div> <div class=\"table-line clearfix\"><span class=\"rank-cell pull-left rank-number\"><span class=\"number number-bold number-34\">34</span><span class=\"change change-34 none\">  -    </span></span><span class=\"rank-cell pull-left rank-desc\"><a class=\"link clearfix\" href=\"/youtube/channel/UCBWfn-wv65_skdt2UDyhfUw\"><img class=\"avatar pull-left\" onerror=\"this.src = 'https://res06.bignox.com/s3group/player/launch/2020/08/26/d6de214734f247f2a884b6838825e49b.svg'\" src=\"https://res-kol.noxgroup.com/noxinfluencer/youtube/avatar/3167154141bc359b9e8db6ce411f596a.png\"/> <span class=\"title pull-left ellipsis\">KKUBI STUDIO</span></a></span> <span class=\"rank-cell pull-left rank-category\"> <a class=\"category\" href=\"/youtube-channel-rank/top-100-kr-people &amp; blogs-youtuber-sorted-by-subs-weekly\">인물/블로그</a> </span> <span class=\"rank-cell pull-left rank-subs\"><span class=\"number\">1130만</span><span class=\"change up\"> <span class=\"kolicon kol-icon-point-up\"></span> 0.9%  </span></span><span class=\"rank-cell pull-left rank-avg-view\"> <span class=\"number\">16.58만</span> <span class=\"change up\"> <span class=\"kolicon kol-icon-point-up\"></span> 40.7%  </span> </span><span class=\"rank-cell pull-left rank-score\"> <i class=\"kol-icon kol-icon-star-empty\"></i><i class=\"kol-icon kol-icon-star-empty\"></i><i class=\"kol-icon kol-icon-star-empty\"></i><i class=\"kol-icon kol-icon-star-empty\"></i><i class=\"kol-icon kol-icon-star-empty\"></i> </span></div> <div class=\"table-line clearfix\"><span class=\"rank-cell pull-left rank-number\"><span class=\"number number-bold number-35\">35</span><span class=\"change change-35 none\">  -    </span></span><span class=\"rank-cell pull-left rank-desc\"><a class=\"link clearfix\" href=\"/youtube/channel/UCByBXiL8TC7atFvIuNC95Hg\"><img class=\"avatar pull-left\" onerror=\"this.src = 'https://res06.bignox.com/s3group/player/launch/2020/08/26/d6de214734f247f2a884b6838825e49b.svg'\" src=\"https://res-kol.noxgroup.com/noxinfluencer/youtube/avatar/c42bd0a09f4754a01c0d93909517e869.png\"/> <span class=\"title pull-left ellipsis\">DuDuPopTOY</span></a></span> <span class=\"rank-cell pull-left rank-category\"> <a class=\"category\" href=\"/youtube-channel-rank/top-100-kr-entertainment-youtuber-sorted-by-subs-weekly\">엔터테인먼트</a> </span> <span class=\"rank-cell pull-left rank-subs\"><span class=\"number\">1110만</span><span class=\"change none\">  -    </span></span><span class=\"rank-cell pull-left rank-avg-view\"> <span class=\"number\">2.43만</span> <span class=\"change up\"> <span class=\"kolicon kol-icon-point-up\"></span> 5.7%  </span> </span><span class=\"rank-cell pull-left rank-score\"> <i class=\"kol-icon kol-icon-star-full\"></i><i class=\"kol-icon kol-icon-star-full\"></i><i class=\"kol-icon kol-icon-star-empty\"></i><i class=\"kol-icon kol-icon-star-empty\"></i><i class=\"kol-icon kol-icon-star-empty\"></i> </span></div> <div class=\"table-line clearfix\"><span class=\"rank-cell pull-left rank-number\"><span class=\"number number-bold number-36\">36</span><span class=\"change change-36 none\">  -    </span></span><span class=\"rank-cell pull-left rank-desc\"><a class=\"link clearfix\" href=\"/youtube/channel/UC0vDCy8moGUhR7kRL19wWpw\"><img class=\"avatar pull-left\" onerror=\"this.src = 'https://res06.bignox.com/s3group/player/launch/2020/08/26/d6de214734f247f2a884b6838825e49b.svg'\" src=\"https://res-kol.noxgroup.com/noxinfluencer/youtube/avatar/138527923991839aa60b4eba94dfe399.png\"/> <span class=\"title pull-left ellipsis\">토이몽 TV - ToyMong Tv</span></a></span> <span class=\"rank-cell pull-left rank-category\"> <a class=\"category\" href=\"/youtube-channel-rank/top-100-kr-entertainment-youtuber-sorted-by-subs-weekly\">엔터테인먼트</a> </span> <span class=\"rank-cell pull-left rank-subs\"><span class=\"number\">1100만</span><span class=\"change none\">  -    </span></span><span class=\"rank-cell pull-left rank-avg-view\"> <span class=\"number\">18.3만</span> <span class=\"change up\"> <span class=\"kolicon kol-icon-point-up\"></span> 11.2%  </span> </span><span class=\"rank-cell pull-left rank-score\"> <i class=\"kol-icon kol-icon-star-full\"></i><i class=\"kol-icon kol-icon-star-full\"></i><i class=\"kol-icon kol-icon-star-empty\"></i><i class=\"kol-icon kol-icon-star-empty\"></i><i class=\"kol-icon kol-icon-star-empty\"></i> </span></div> <div class=\"table-line clearfix\"><span class=\"rank-cell pull-left rank-number\"><span class=\"number number-bold number-37\">37</span><span class=\"change change-37 none\">  -    </span></span><span class=\"rank-cell pull-left rank-desc\"><a class=\"link clearfix\" href=\"/youtube/channel/UCz8gf4PK1Qth50lLHdvTCcA\"><img class=\"avatar pull-left\" onerror=\"this.src = 'https://res06.bignox.com/s3group/player/launch/2020/08/26/d6de214734f247f2a884b6838825e49b.svg'\" src=\"https://res-kol.noxgroup.com/noxinfluencer/youtube/avatar/e254b3ca6a19cd37997e43ef2048cb8b.png\"/> <span class=\"title pull-left ellipsis\">유백합 kkubi99</span></a></span> <span class=\"rank-cell pull-left rank-category\"> <a class=\"category\" href=\"/youtube-channel-rank/top-100-kr-entertainment-youtuber-sorted-by-subs-weekly\">엔터테인먼트</a> </span> <span class=\"rank-cell pull-left rank-subs\"><span class=\"number\">1090만</span><span class=\"change up\"> <span class=\"kolicon kol-icon-point-up\"></span> 0.9%  </span></span><span class=\"rank-cell pull-left rank-avg-view\"> <span class=\"number\">0</span> <span class=\"change down\"> <span class=\"kolicon kol-icon-point-down\"></span> 100%   </span> </span><span class=\"rank-cell pull-left rank-score\"> <i class=\"kol-icon kol-icon-star-full\"></i><i class=\"kol-icon kol-icon-star-full\"></i><i class=\"kol-icon kol-icon-star-full\"></i><i class=\"kol-icon kol-icon-star-empty\"></i><i class=\"kol-icon kol-icon-star-empty\"></i> </span></div> <div class=\"table-line clearfix\"><span class=\"rank-cell pull-left rank-number\"><span class=\"number number-bold number-38\">38</span><span class=\"change change-38 up\"> <span class=\"kolicon kol-icon-point-up\"></span> 2  </span></span><span class=\"rank-cell pull-left rank-desc\"><a class=\"link clearfix\" href=\"/youtube/channel/UCfkXDY7vwkcJ8ddFGz8KusA\"><img class=\"avatar pull-left\" onerror=\"this.src = 'https://res06.bignox.com/s3group/player/launch/2020/08/26/d6de214734f247f2a884b6838825e49b.svg'\" src=\"https://res-kol.noxgroup.com/noxinfluencer/youtube/avatar/b432e0bdd53672adf8053738af02218d.png\"/> <span class=\"title pull-left ellipsis\">SEVENTEEN</span></a></span> <span class=\"rank-cell pull-left rank-category\"> <a class=\"category\" href=\"/youtube-channel-rank/top-100-kr-music-youtuber-sorted-by-subs-weekly\">음악</a> </span> <span class=\"rank-cell pull-left rank-subs\"><span class=\"number\">1090만</span><span class=\"change up\"> <span class=\"kolicon kol-icon-point-up\"></span> 0.9%  </span></span><span class=\"rank-cell pull-left rank-avg-view\"> <span class=\"number\">25.32만</span> <span class=\"change up\"> <span class=\"kolicon kol-icon-point-up\"></span> 8.5%  </span> </span><span class=\"rank-cell pull-left rank-score\"> <i class=\"kol-icon kol-icon-star-full\"></i><i class=\"kol-icon kol-icon-star-full\"></i><i class=\"kol-icon kol-icon-star-full\"></i><i class=\"kol-icon kol-icon-star-empty\"></i><i class=\"kol-icon kol-icon-star-empty\"></i> </span></div> <div class=\"table-line clearfix\"><span class=\"rank-cell pull-left rank-number\"><span class=\"number number-bold number-39\">39</span><span class=\"change change-39 down\"> <span class=\"kolicon kol-icon-point-down\"></span> 1   </span></span><span class=\"rank-cell pull-left rank-desc\"><a class=\"link clearfix\" href=\"/youtube/channel/UCe52oeb7Xv_KaJsEzcKXJJg\"><img class=\"avatar pull-left\" onerror=\"this.src = 'https://res06.bignox.com/s3group/player/launch/2020/08/26/d6de214734f247f2a884b6838825e49b.svg'\" src=\"https://res-kol.noxgroup.com/noxinfluencer/youtube/avatar/f814f2ee2e8a77c4d643ebc165f4a781.png\"/> <span class=\"title pull-left ellipsis\">MBCkpop</span></a></span> <span class=\"rank-cell pull-left rank-category\"> <a class=\"category\" href=\"/youtube-channel-rank/top-100-kr-music-youtuber-sorted-by-subs-weekly\">음악</a> </span> <span class=\"rank-cell pull-left rank-subs\"><span class=\"number\">1080만</span><span class=\"change none\">  -    </span></span><span class=\"rank-cell pull-left rank-avg-view\"> <span class=\"number\">1.51만</span> <span class=\"change down\"> <span class=\"kolicon kol-icon-point-down\"></span> 15.8%   </span> </span><span class=\"rank-cell pull-left rank-score\"> <i class=\"kol-icon kol-icon-star-full\"></i><i class=\"kol-icon kol-icon-star-full\"></i><i class=\"kol-icon kol-icon-star-empty\"></i><i class=\"kol-icon kol-icon-star-empty\"></i><i class=\"kol-icon kol-icon-star-empty\"></i> </span></div> <div class=\"table-line clearfix\"><span class=\"rank-cell pull-left rank-number\"><span class=\"number number-bold number-40\">40</span><span class=\"change change-40 down\"> <span class=\"kolicon kol-icon-point-down\"></span> 1   </span></span><span class=\"rank-cell pull-left rank-desc\"><a class=\"link clearfix\" href=\"/youtube/channel/UC_pwIXKXNm5KGhdEVzmY60A\"><img class=\"avatar pull-left\" onerror=\"this.src = 'https://res06.bignox.com/s3group/player/launch/2020/08/26/d6de214734f247f2a884b6838825e49b.svg'\" src=\"https://res-kol.noxgroup.com/noxinfluencer/youtube/avatar/cce6fd37b3484cd04e2f210772e680f5.png\"/> <span class=\"title pull-left ellipsis\">Stone Music Entertainment</span></a></span> <span class=\"rank-cell pull-left rank-category\"> <a class=\"category\" href=\"/youtube-channel-rank/top-100-kr-music-youtuber-sorted-by-subs-weekly\">음악</a> </span> <span class=\"rank-cell pull-left rank-subs\"><span class=\"number\">1080만</span><span class=\"change none\">  -    </span></span><span class=\"rank-cell pull-left rank-avg-view\"> <span class=\"number\">8019</span> <span class=\"change down\"> <span class=\"kolicon kol-icon-point-down\"></span> 8.5%   </span> </span><span class=\"rank-cell pull-left rank-score\"> <i class=\"kol-icon kol-icon-star-full\"></i><i class=\"kol-icon kol-icon-star-full\"></i><i class=\"kol-icon kol-icon-star-half\"></i><i class=\"kol-icon kol-icon-star-empty\"></i><i class=\"kol-icon kol-icon-star-empty\"></i> </span></div> <div class=\"table-line clearfix\"><span class=\"rank-cell pull-left rank-number\"><span class=\"number number-bold number-41\">41</span><span class=\"change change-41 none\">  -    </span></span><span class=\"rank-cell pull-left rank-desc\"><a class=\"link clearfix\" href=\"/youtube/channel/UC4PpFUrfT2Pou7OwpVF0MUQ\"><img class=\"avatar pull-left\" onerror=\"this.src = 'https://res06.bignox.com/s3group/player/launch/2020/08/26/d6de214734f247f2a884b6838825e49b.svg'\" src=\"https://res-kol.noxgroup.com/noxinfluencer/youtube/avatar/f4c781270c16885ff18b5b99681a3d44.png\"/> <span class=\"title pull-left ellipsis\">쏘영 Ssoyoung</span></a></span> <span class=\"rank-cell pull-left rank-category\"> <a class=\"category\" href=\"/youtube-channel-rank/top-100-kr-entertainment-youtuber-sorted-by-subs-weekly\">엔터테인먼트</a> </span> <span class=\"rank-cell pull-left rank-subs\"><span class=\"number\">1070만</span><span class=\"change none\">  -    </span></span><span class=\"rank-cell pull-left rank-avg-view\"> <span class=\"number\">29.22만</span> <span class=\"change down\"> <span class=\"kolicon kol-icon-point-down\"></span> 2.1%   </span> </span><span class=\"rank-cell pull-left rank-score\"> <i class=\"kol-icon kol-icon-star-full\"></i><i class=\"kol-icon kol-icon-star-full\"></i><i class=\"kol-icon kol-icon-star-full\"></i><i class=\"kol-icon kol-icon-star-empty\"></i><i class=\"kol-icon kol-icon-star-empty\"></i> </span></div> <div class=\"table-line clearfix\"><span class=\"rank-cell pull-left rank-number\"><span class=\"number number-bold number-42\">42</span><span class=\"change change-42 none\">  -    </span></span><span class=\"rank-cell pull-left rank-desc\"><a class=\"link clearfix\" href=\"/youtube/channel/UCMa-5a4Hg3KnbiDOvhdfb3w\"><img class=\"avatar pull-left\" onerror=\"this.src = 'https://res06.bignox.com/s3group/player/launch/2020/08/26/d6de214734f247f2a884b6838825e49b.svg'\" src=\"https://res-kol.noxgroup.com/noxinfluencer/youtube/avatar/91f838fecfc951afa8fcecec93526526.png\"/> <span class=\"title pull-left ellipsis\">TwinRoozi 쌍둥이 루지</span></a></span> <span class=\"rank-cell pull-left rank-category\"> <a class=\"category\" href=\"/youtube-channel-rank/top-100-kr-people &amp; blogs-youtuber-sorted-by-subs-weekly\">인물/블로그</a> </span> <span class=\"rank-cell pull-left rank-subs\"><span class=\"number\">1060만</span><span class=\"change none\">  -    </span></span><span class=\"rank-cell pull-left rank-avg-view\"> <span class=\"number\">3.82만</span> <span class=\"change down\"> <span class=\"kolicon kol-icon-point-down\"></span> 1.1%   </span> </span><span class=\"rank-cell pull-left rank-score\"> <i class=\"kol-icon kol-icon-star-full\"></i><i class=\"kol-icon kol-icon-star-full\"></i><i class=\"kol-icon kol-icon-star-half\"></i><i class=\"kol-icon kol-icon-star-empty\"></i><i class=\"kol-icon kol-icon-star-empty\"></i> </span></div> <div class=\"table-line clearfix\"><span class=\"rank-cell pull-left rank-number\"><span class=\"number number-bold number-43\">43</span><span class=\"change change-43 none\">  -    </span></span><span class=\"rank-cell pull-left rank-desc\"><a class=\"link clearfix\" href=\"/youtube/channel/UCNYi_zGmR519r5gYdOKLTjQ\"><img class=\"avatar pull-left\" onerror=\"this.src = 'https://res06.bignox.com/s3group/player/launch/2020/08/26/d6de214734f247f2a884b6838825e49b.svg'\" src=\"https://res-kol.noxgroup.com/noxinfluencer/youtube/avatar/9857ee675ea1892dd8c4e7378efbb4a0.png\"/> <span class=\"title pull-left ellipsis\">Jennierubyjane Official</span></a></span> <span class=\"rank-cell pull-left rank-category\"> <a class=\"category\" href=\"/youtube-channel-rank/top-100-kr-entertainment-youtuber-sorted-by-subs-weekly\">엔터테인먼트</a> </span> <span class=\"rank-cell pull-left rank-subs\"><span class=\"number\">1040만</span><span class=\"change none\">  -    </span></span><span class=\"rank-cell pull-left rank-avg-view\"> <span class=\"number\">607.08만</span> <span class=\"change down\"> <span class=\"kolicon kol-icon-point-down\"></span> 2.8%   </span> </span><span class=\"rank-cell pull-left rank-score\"> <i class=\"kol-icon kol-icon-star-full\"></i><i class=\"kol-icon kol-icon-star-half\"></i><i class=\"kol-icon kol-icon-star-empty\"></i><i class=\"kol-icon kol-icon-star-empty\"></i><i class=\"kol-icon kol-icon-star-empty\"></i> </span></div> <div class=\"table-line clearfix\"><span class=\"rank-cell pull-left rank-number\"><span class=\"number number-bold number-44\">44</span><span class=\"change change-44 none\">  -    </span></span><span class=\"rank-cell pull-left rank-desc\"><a class=\"link clearfix\" href=\"/youtube/channel/UCph-WGR0oCbJDpaWmNHb5zg\"><img class=\"avatar pull-left\" onerror=\"this.src = 'https://res06.bignox.com/s3group/player/launch/2020/08/26/d6de214734f247f2a884b6838825e49b.svg'\" src=\"https://res-kol.noxgroup.com/noxinfluencer/youtube/avatar/63aaa0396544249b7f7d5f4dd0162fa3.png\"/> <span class=\"title pull-left ellipsis\">Larva TUBA</span></a></span> <span class=\"rank-cell pull-left rank-category\"> <a class=\"category\" href=\"/youtube-channel-rank/top-100-kr-film &amp; animation-youtuber-sorted-by-subs-weekly\">영화/애니메이션</a> </span> <span class=\"rank-cell pull-left rank-subs\"><span class=\"number\">1010만</span><span class=\"change none\">  -    </span></span><span class=\"rank-cell pull-left rank-avg-view\"> <span class=\"number\">7.8만</span> <span class=\"change up\"> <span class=\"kolicon kol-icon-point-up\"></span> 9.3%  </span> </span><span class=\"rank-cell pull-left rank-score\"> <i class=\"kol-icon kol-icon-star-full\"></i><i class=\"kol-icon kol-icon-star-full\"></i><i class=\"kol-icon kol-icon-star-empty\"></i><i class=\"kol-icon kol-icon-star-empty\"></i><i class=\"kol-icon kol-icon-star-empty\"></i> </span></div> <div class=\"table-line clearfix\"><span class=\"rank-cell pull-left rank-number\"><span class=\"number number-bold number-45\">45</span><span class=\"change change-45 none\">  -    </span></span><span class=\"rank-cell pull-left rank-desc\"><a class=\"link clearfix\" href=\"/youtube/channel/UCRtoqRleHkDQRVgN9OwV6TA\"><img class=\"avatar pull-left\" onerror=\"this.src = 'https://res06.bignox.com/s3group/player/launch/2020/08/26/d6de214734f247f2a884b6838825e49b.svg'\" src=\"https://res-kol.noxgroup.com/noxinfluencer/youtube/avatar/feb5196cbf516218bdfeaefb255d5431.png\"/> <span class=\"title pull-left ellipsis\">SIO ASMR</span></a></span> <span class=\"rank-cell pull-left rank-category\"> <a class=\"category\" href=\"/youtube-channel-rank/top-100-kr-people &amp; blogs-youtuber-sorted-by-subs-weekly\">인물/블로그</a> </span> <span class=\"rank-cell pull-left rank-subs\"><span class=\"number\">990만</span><span class=\"change up\"> <span class=\"kolicon kol-icon-point-up\"></span> 0.1%  </span></span><span class=\"rank-cell pull-left rank-avg-view\"> <span class=\"number\">32.36만</span> <span class=\"change down\"> <span class=\"kolicon kol-icon-point-down\"></span> 11%   </span> </span><span class=\"rank-cell pull-left rank-score\"> <i class=\"kol-icon kol-icon-star-full\"></i><i class=\"kol-icon kol-icon-star-full\"></i><i class=\"kol-icon kol-icon-star-half\"></i><i class=\"kol-icon kol-icon-star-empty\"></i><i class=\"kol-icon kol-icon-star-empty\"></i> </span></div> <div class=\"table-line clearfix\"><span class=\"rank-cell pull-left rank-number\"><span class=\"number number-bold number-46\">46</span><span class=\"change change-46 none\">  -    </span></span><span class=\"rank-cell pull-left rank-desc\"><a class=\"link clearfix\" href=\"/youtube/channel/UCTQVIXvcHrR9jYoJ6qaBAow\"><img class=\"avatar pull-left\" onerror=\"this.src = 'https://res06.bignox.com/s3group/player/launch/2020/08/26/d6de214734f247f2a884b6838825e49b.svg'\" src=\"https://res-kol.noxgroup.com/noxinfluencer/youtube/avatar/787639ef641bfe219d19619a50a6b351.png\"/> <span class=\"title pull-left ellipsis\">M2</span></a></span> <span class=\"rank-cell pull-left rank-category\"> <a class=\"category\" href=\"/youtube-channel-rank/top-100-kr-entertainment-youtuber-sorted-by-subs-weekly\">엔터테인먼트</a> </span> <span class=\"rank-cell pull-left rank-subs\"><span class=\"number\">971만</span><span class=\"change up\"> <span class=\"kolicon kol-icon-point-up\"></span> 0.1%  </span></span><span class=\"rank-cell pull-left rank-avg-view\"> <span class=\"number\">8176</span> <span class=\"change down\"> <span class=\"kolicon kol-icon-point-down\"></span> 72.3%   </span> </span><span class=\"rank-cell pull-left rank-score\"> <i class=\"kol-icon kol-icon-star-full\"></i><i class=\"kol-icon kol-icon-star-full\"></i><i class=\"kol-icon kol-icon-star-half\"></i><i class=\"kol-icon kol-icon-star-empty\"></i><i class=\"kol-icon kol-icon-star-empty\"></i> </span></div> <div class=\"table-line clearfix\"><span class=\"rank-cell pull-left rank-number\"><span class=\"number number-bold number-47\">47</span><span class=\"change change-47 up\"> <span class=\"kolicon kol-icon-point-up\"></span> 1  </span></span><span class=\"rank-cell pull-left rank-desc\"><a class=\"link clearfix\" href=\"/youtube/channel/UCoLQZ4ZClFqVPCvvjuiUSRA\"><img class=\"avatar pull-left\" onerror=\"this.src = 'https://res06.bignox.com/s3group/player/launch/2020/08/26/d6de214734f247f2a884b6838825e49b.svg'\" src=\"https://res-kol.noxgroup.com/noxinfluencer/youtube/avatar/58bb5cf04832f53527cedd56b62a26c8.png\"/> <span class=\"title pull-left ellipsis\">문복희 Eat with Boki</span></a></span> <span class=\"rank-cell pull-left rank-category\"> <a class=\"category\" href=\"/youtube-channel-rank/top-100-kr-people &amp; blogs-youtuber-sorted-by-subs-weekly\">인물/블로그</a> </span> <span class=\"rank-cell pull-left rank-subs\"><span class=\"number\">965만</span><span class=\"change up\"> <span class=\"kolicon kol-icon-point-up\"></span> 0.2%  </span></span><span class=\"rank-cell pull-left rank-avg-view\"> <span class=\"number\">114.91만</span> <span class=\"change down\"> <span class=\"kolicon kol-icon-point-down\"></span> 3.1%   </span> </span><span class=\"rank-cell pull-left rank-score\"> <i class=\"kol-icon kol-icon-star-full\"></i><i class=\"kol-icon kol-icon-star-full\"></i><i class=\"kol-icon kol-icon-star-full\"></i><i class=\"kol-icon kol-icon-star-half\"></i><i class=\"kol-icon kol-icon-star-empty\"></i> </span></div> <div class=\"table-line clearfix\"><span class=\"rank-cell pull-left rank-number\"><span class=\"number number-bold number-48\">48</span><span class=\"change change-48 down\"> <span class=\"kolicon kol-icon-point-down\"></span> 1   </span></span><span class=\"rank-cell pull-left rank-desc\"><a class=\"link clearfix\" href=\"/youtube/channel/UCzCedBCSSltI1TFd3bKyN6g\"><img class=\"avatar pull-left\" onerror=\"this.src = 'https://res06.bignox.com/s3group/player/launch/2020/08/26/d6de214734f247f2a884b6838825e49b.svg'\" src=\"https://res-kol.noxgroup.com/noxinfluencer/youtube/avatar/306cd3ba15cefda55bb5905a8c002cf3.png\"/> <span class=\"title pull-left ellipsis\">EXO</span></a></span> <span class=\"rank-cell pull-left rank-category\"> <a class=\"category\" href=\"/youtube-channel-rank/top-100-kr-entertainment-youtuber-sorted-by-subs-weekly\">엔터테인먼트</a> </span> <span class=\"rank-cell pull-left rank-subs\"><span class=\"number\">963만</span><span class=\"change none\">  -    </span></span><span class=\"rank-cell pull-left rank-avg-view\"> <span class=\"number\">31.14만</span> <span class=\"change up\"> <span class=\"kolicon kol-icon-point-up\"></span> 0.7%  </span> </span><span class=\"rank-cell pull-left rank-score\"> <i class=\"kol-icon kol-icon-star-full\"></i><i class=\"kol-icon kol-icon-star-full\"></i><i class=\"kol-icon kol-icon-star-full\"></i><i class=\"kol-icon kol-icon-star-empty\"></i><i class=\"kol-icon kol-icon-star-empty\"></i> </span></div> <div class=\"table-line clearfix\"><span class=\"rank-cell pull-left rank-number\"><span class=\"number number-bold number-49\">49</span><span class=\"change change-49 none\">  -    </span></span><span class=\"rank-cell pull-left rank-desc\"><a class=\"link clearfix\" href=\"/youtube/channel/UC3SyT4_WLHzN7JmHQwKQZww\"><img class=\"avatar pull-left\" onerror=\"this.src = 'https://res06.bignox.com/s3group/player/launch/2020/08/26/d6de214734f247f2a884b6838825e49b.svg'\" src=\"https://res-kol.noxgroup.com/noxinfluencer/youtube/avatar/73636ea7cf9543f3c87a7514ff902ce7.png\"/> <span class=\"title pull-left ellipsis\">이지금 [IU Official]</span></a></span> <span class=\"rank-cell pull-left rank-category\"> <a class=\"category\" href=\"/youtube-channel-rank/top-100-kr-entertainment-youtuber-sorted-by-subs-weekly\">엔터테인먼트</a> </span> <span class=\"rank-cell pull-left rank-subs\"><span class=\"number\">950만</span><span class=\"change up\"> <span class=\"kolicon kol-icon-point-up\"></span> 0.1%  </span></span><span class=\"rank-cell pull-left rank-avg-view\"> <span class=\"number\">119.91만</span> <span class=\"change up\"> <span class=\"kolicon kol-icon-point-up\"></span> 11.8%  </span> </span><span class=\"rank-cell pull-left rank-score\"> <i class=\"kol-icon kol-icon-star-full\"></i><i class=\"kol-icon kol-icon-star-full\"></i><i class=\"kol-icon kol-icon-star-empty\"></i><i class=\"kol-icon kol-icon-star-empty\"></i><i class=\"kol-icon kol-icon-star-empty\"></i> </span></div> <div class=\"table-line clearfix\"><span class=\"rank-cell pull-left rank-number\"><span class=\"number number-bold number-50\">50</span><span class=\"change change-50 none\">  -    </span></span><span class=\"rank-cell pull-left rank-desc\"><a class=\"link clearfix\" href=\"/youtube/channel/UCJedRe-OQCN-75DhLmG3VPQ\"><img class=\"avatar pull-left\" onerror=\"this.src = 'https://res06.bignox.com/s3group/player/launch/2020/08/26/d6de214734f247f2a884b6838825e49b.svg'\" src=\"https://res-kol.noxgroup.com/noxinfluencer/youtube/avatar/806a56cfb19f791b0d401cd06d0729a0.png\"/> <span class=\"title pull-left ellipsis\">Boram Tube [宝蓝和朋友们]</span></a></span> <span class=\"rank-cell pull-left rank-category\"> <a class=\"category\" href=\"/youtube-channel-rank/top-100-kr-film &amp; animation-youtuber-sorted-by-subs-weekly\">영화/애니메이션</a> </span> <span class=\"rank-cell pull-left rank-subs\"><span class=\"number\">942만</span><span class=\"change none\">  -    </span></span><span class=\"rank-cell pull-left rank-avg-view\"> <span class=\"number\">0</span> <span class=\"change down\"> <span class=\"kolicon kol-icon-point-down\"></span> 100%   </span> </span><span class=\"rank-cell pull-left rank-score\"> <i class=\"kol-icon kol-icon-star-full\"></i><i class=\"kol-icon kol-icon-star-full\"></i><i class=\"kol-icon kol-icon-star-empty\"></i><i class=\"kol-icon kol-icon-star-empty\"></i><i class=\"kol-icon kol-icon-star-empty\"></i> </span></div> </div><div class=\"table-status\" data-end=\"false\" data-limit=\"0\" id=\"table-status\"><div class=\"status loading\"><span class=\"kolicon kol-icon-loading\"></span></div><div class=\"status end\" style=\"display:none\"><span>- 마지막입니다 -</span></div><div class=\"status limit-update\" style=\"display: none;\"> 멤버십 업그레이드하여 더 많은 데이터를 확인하세요.<a href=\"/product/pricing\" target=\"_blank\">회원 업그레이드</a> </div><div class=\"status limit-login\" style=\"display: none;\"> 로그인하여 더 많은 순위를 확인하세요. <a class=\"login-btn\">로그인</a> </div><div class=\"status limit-upper\" style=\"display: none;\"> 조회 한도에 도달하였습니다. <a class=\"red\" href=\"/cdn-cgi/l/email-protection#6d1e081f1b040e082d03021504030b011808030e081f430e0200\"><span class=\"__cf_email__\" data-cfemail=\"dba8bea9adb2b8be9bb5b4a3b2b5bdb7aebeb5b8bea9f5b8b4b6\">[email protected]</span></a>에게 문의 주세요. </div></div><div class=\"table-loading\" id=\"table-loading\"><span class=\"kolicon kol-icon-loading\"></span></div></div></div></div><div class=\"scroll-top-btn-wrap\"><div class=\"scroll-top-btn\" id=\"scroll-top-btn\"><i class=\"kolicon kol-icon-top\"></i></div></div> </section> <section class=\"footer\" id=\"footer\"><div class=\"footer-valentine-layout\"><div class=\"footer-container\"><ul class=\"links-wrap\"><li class=\"logo-wrap\"><a class=\"marketing-logo\" href=\"/\" title=\"NoxInfluencer\"></a><div class=\"nav-lang dropdown\"><a class=\"dropdown-toggle lang\" data-sensor-name=\"language_switch\" data-toggle=\"dropdown\" href=\"javascript:void(0)\"><span class=\"golbal-icon\"><span class=\"kolicon kol-icon-global-filled\"></span> </span><span class=\"name\">한국어</span><span class=\"icon kolicon kol-icon-left\"></span></a><ul class=\"dropdown-menu list\"> <li class=\"list-item\"><a class=\"link\" data-lang-host=\"EN\" href=\"http://www.noxinfluencer.com/youtube-channel-rank/top-100-kr-all-youtuber-sorted-by-subs-weekly\" sensors-name=\"kol_web_EN\" title=\"English\"> English </a></li> <li class=\"list-item\"><a class=\"link\" data-lang-host=\"KR\" href=\"http://kr.noxinfluencer.com/youtube-channel-rank/top-100-kr-all-youtuber-sorted-by-subs-weekly\" sensors-name=\"kol_web_KR\" title=\"한국어\"> 한국어 </a></li> <li class=\"list-item\"><a class=\"link\" data-lang-host=\"JP\" href=\"http://jp.noxinfluencer.com/youtube-channel-rank/top-100-kr-all-youtuber-sorted-by-subs-weekly\" sensors-name=\"kol_web_JP\" title=\"日本語\"> 日本語 </a></li> <li class=\"list-item\"><a class=\"link\" data-lang-host=\"TW\" href=\"http://tw.noxinfluencer.com/youtube-channel-rank/top-100-kr-all-youtuber-sorted-by-subs-weekly\" sensors-name=\"kol_web_TW\" title=\"繁體中文\"> 繁體中文 </a></li> <li class=\"list-item\"><a class=\"link\" data-lang-host=\"ZH\" href=\"http://cn.noxinfluencer.com/youtube-channel-rank/top-100-kr-all-youtuber-sorted-by-subs-weekly\" sensors-name=\"kol_web_ZH\" title=\"简体中文\"> 简体中文 </a></li> <li class=\"list-item\"><a class=\"link\" data-lang-host=\"ID\" href=\"http://id.noxinfluencer.com/youtube-channel-rank/top-100-kr-all-youtuber-sorted-by-subs-weekly\" sensors-name=\"kol_web_ID\" title=\"Bahasa\"> Bahasa </a></li> <li class=\"list-item\"><a class=\"link\" data-lang-host=\"ES\" href=\"http://es.noxinfluencer.com/youtube-channel-rank/top-100-kr-all-youtuber-sorted-by-subs-weekly\" sensors-name=\"kol_web_ES\" title=\"Español\"> Español </a></li> <li class=\"list-item\"><a class=\"link\" data-lang-host=\"TH\" href=\"http://th.noxinfluencer.com/youtube-channel-rank/top-100-kr-all-youtuber-sorted-by-subs-weekly\" sensors-name=\"kol_web_TH\" title=\"ไทย\"> ไทย </a></li> <li class=\"list-item\"><a class=\"link\" data-lang-host=\"VN\" href=\"http://vn.noxinfluencer.com/youtube-channel-rank/top-100-kr-all-youtuber-sorted-by-subs-weekly\" sensors-name=\"kol_web_VN\" title=\"Tiếng Việt\"> Tiếng Việt </a></li> <li class=\"list-item\"><a class=\"link\" data-lang-host=\"PT\" href=\"http://pt.noxinfluencer.com/youtube-channel-rank/top-100-kr-all-youtuber-sorted-by-subs-weekly\" sensors-name=\"kol_web_PT\" title=\"Português\"> Português </a></li> </ul></div><div class=\"iresearch-image\" style=\"margin-top: 32px; margin-left: -1px\"><img src=\"https://res-static.noxinfluencer.com/kol/2024/03/public/img/footer/86687ffa.png\"/></div></li><li><div class=\"title\">제품</div><ul class=\"links\"><li><a class=\"link\" href=\"https://play.google.com/store/apps/details?id=com.noxgroup.influencer.app\" target=\"_blank\"><img src=\"https://res06.bignox.com/s3group/player/launch/2020/12/08/50f5e952480b4f86a379bb0b0a4e57c4.png\"/></a></li><li><a class=\"link\" href=\"https://chrome.google.com/webstore/detail/nox-influencer-for-youtub/jlfjeiginakiemnmnldphodhelhnmgkh\" title=\"크롬 확장프로그램\"> 크롬 확장프로그램 </a></li> <li><a class=\"link\" href=\"/youtube/channel-calculator\" title=\"YouTube 채널 예상 수입\"> YouTube 채널 예상 수입 </a></li><li><a class=\"link\" href=\"/youtube/video-analytics\" title=\"YouTube 동영상 분석하기\"> YouTube 동영상 분석하기 </a></li> </ul></li><li><div class=\"title\">문의하기</div><ul class=\"links\"><li class=\"icon-links\"><a class=\"icon-item\" href=\"https://www.facebook.com/NoxInfluencer\"><i class=\"kolicon kol-icon-facebook-filled\"></i> </a><a class=\"icon-item\" href=\"https://www.youtube.com/channel/UCFSqZpCZw4EOkPs5QDBJOdg\"><i class=\"kolicon kol-icon-youtube-filled\"></i> </a><a class=\"icon-item\" href=\"https://twitter.com/NoxInfluencer\"><i class=\"kolicon kol-icon-twitter\"></i> </a> </li><li><i class=\"define-icon kolicon kol-icon-email2\"></i> <a class=\"link\" href=\"/cdn-cgi/l/email-protection#b2d0c7c1dbdcd7c1c1f2dcddcadbdcd4dec7d7dcd1d7c09cd1dddf\" sensors-name=\"kol_web_contact_email\"><span class=\"__cf_email__\" data-cfemail=\"3e5c4b4d57505b4d4d7e505146575058524b5b505d5b4c105d5153\">[email protected]</span></a></li> <li class=\"clearfix\"><div class=\"pull-left wechat-content\"><span class=\"wechat-title\">Kakao</span><img class=\"wechat-img\" src=\"https://res06.bignox.com/noxinfluencer/static/kakao_qrcode.png\"/> <span class=\"wechat-scale\"><img class=\"wechat-scale-img\" src=\"https://res06.bignox.com/noxinfluencer/static/kakao_qrcode.png\"/></span></div></li> </ul></li><li><div class=\"title\">기업정보</div><ul class=\"links\"><li><a class=\"link\" href=\"/about-us\" sensors-name=\"kol_web_about_us\" target=\"_blank\" title=\"회사소개\"> 회사소개 </a></li><li><a class=\"link\" href=\"/terms\" sensors-name=\"kol_web_privacy\" target=\"_blank\" title=\"PRIVACY\"> 서비스 이용약관 </a></li><li><a class=\"link\" href=\"/privacy\" sensors-name=\"kol_web_privacy\" target=\"_blank\" title=\"PRIVACY\"> 개인정보처리방침 </a></li> <li><a class=\"link\" href=\"https://kr.bignox.com/\" sensors-name=\"kol_web_about_us\" target=\"_blank\" title=\"회사소개\">NoxPlayer</a></li> <li><span class=\"link\" title=\"copyright\">Copyright © 2023 noxinfluencer.com</span></li></ul></li></ul></div></div></section> <div class=\"default-notification-area\"></div> <script data-cfasync=\"false\" src=\"/cdn-cgi/scripts/5c5dd728/cloudflare-static/email-decode.min.js\"></script><script id=\"template-common-notification-data\" type=\"text/html\"><div class=\"notification-wrap\">\n",
       "    <div class=\"notification-header\">\n",
       "      <i class=\"kolicon kol-icon-close\" id=\"notification-close\"></i>\n",
       "      <div class=\"title\">\n",
       "        <img class=\"header-image\" src=\"https://res-static.noxinfluencer.com/kol/2024/03/public/img/5aa01453.svg\"/>\n",
       "        <span><%= title %></span>\n",
       "      </div>\n",
       "      <div class=\"content-text\"><%= contentText %></div>\n",
       "      <a class=\"kol-btn kol-btn-primary\" href=\"<%= linkShortLink %>\" id=\"link-to\" target=\"_blank\"><%= linkName %></a>\n",
       "    </div>\n",
       "    <img class=\"showLink\" src=\"<%= showShortLink %>\"/>\n",
       "  </div></script><script id=\"image-common-notification-data\" type=\"text/html\"><div class=\"image-notification-wrap\">\n",
       "    <img src=\"https://res-static.noxinfluencer.com/kol/2024/03/public/img/b2b18a03.svg\" id=\"notification-close\"/>\n",
       "    <a href=\"<%= linkShortLink %>\" id=\"link-to\" target=\"_blank\">\n",
       "      <img src=\"<%= pictureUrl %>\" class=\"target-image\"/>\n",
       "    </a>\n",
       "    <img class=\"showLink\" src=\"<%= showShortLink %>\"/>\n",
       "  </div></script> <input id=\"uid\" type=\"hidden\" value=\"\"/> <input id=\"id\" type=\"hidden\" value=\"\"/> <input id=\"userType\" type=\"hidden\" value=\"visitor\"/> <input id=\"parentEmail\" type=\"hidden\" value=\"\"/> <input id=\"fansNum\" type=\"hidden\" value=\"\"/> <input id=\"vipLevel\" type=\"hidden\" value=\"\"/> <input id=\"vipExpireDate\" type=\"hidden\" value=\"\"/> <input id=\"publicKey\" type=\"hidden\" value=\"-----BEGIN PUBLIC KEY-----\n",
       "MIGfMA0GCSqGSIb3DQEBAQUAA4GNADCBiQKBgQDP5kv/JUSqrRbUlzWyYnHeYypn\n",
       "BTI7vSFsyHgrfqMQa0BwsxPNkHN+S1Rt46VVgwB1YXWZgqeuqbteBPM4TTNbX9lh\n",
       "BDghnXUjKQYZLP+moxxGvChkASVkMw7ddRT5d1Ph+sG4mubGP6lqe9q/eA573kdt\n",
       "btjvtvR1nsRd5VQeYQIDAQAB\n",
       "-----END PUBLIC KEY-----\"/> <input id=\"channelConflict\" type=\"hidden\" value=\"\"/> <input id=\"lastLogin\" type=\"hidden\" value=\"\"/> <input id=\"accessPublicKey\" type=\"hidden\" value=\"-----BEGIN PUBLIC KEY-----\n",
       "MIGfMA0GCSqGSIb3DQEBAQUAA4GNADCBiQKBgQDAp+GfznL8fPPBAGUiLuzKiUWg\n",
       "KjABwyp0OYZrS0X7q8MACIqIiBgYGav22wn4D6hg2Wvl2If1HBo7uTRYjeXwcNd8\n",
       "7dYdSuZ/QhsXgfIK5IZkwv7a5nYt0mPP4LfTxIot0nqecoqJCcgSMkgbDwVsB2Tk\n",
       "j+DOu3sql731dOVE2wIDAQAB\n",
       "-----END PUBLIC KEY-----\"/> <input id=\"accessStringRandom\" type=\"hidden\" value=\"Tz7mI0XqktIJ14NE\"/> <input id=\"flagNewRegister\" type=\"hidden\" value=\"\"/> <input id=\"couponAndNewStatus\" type=\"hidden\" value=\"\"/> <input id=\"passportEmail\" type=\"hidden\" value=\"\"/> <div class=\"scroll-top-btn-wrap\"><div class=\"scroll-top-btn\" id=\"scroll-top-btn\"><i class=\"kolicon kol-icon-top\"></i></div></div> <script src=\"https://res-static.noxinfluencer.com/kol/2024/03/public/js/kr.19611fe4.js\"></script> <script>window._CACHE = {\"exchangeRate\":{\"zh\":6.967,\"en\":1,\"tw\":29.273,\"vn\":22750,\"th\":31.82,\"id\":13753,\"kr\":1078.89,\"jp\":109.4451,\"undefined\":56.9087}} </script> <section class=\"popup\" data-popup-click=\"close\" id=\"cover-to-login\" style=\"display: none;\"><div class=\"content-container login-wrap\"><div class=\"cover-content\"><span class=\"kolicon kol-icon-close cover-close\" data-close-popup=\"\"></span><div class=\"login-content\" id=\"login-content\"> <div class=\"login-main\" id=\"login-choose\"><div class=\"login-choose-title\">로그인</div><div class=\"choose-wrap\"><span class=\"choose-type brand\"></span> <span class=\"choose-text\">4300만 명의 인플루언서를 만나보세요.</span><span class=\"choose-button\" data-user-type=\"brand\" id=\"choose-button\"> 나는 광고주다 </span></div><div class=\"choose-wrap\"><span class=\"choose-type kol\"></span> <span class=\"choose-text\">유튜브 채널 분석과 광고 제안을 받아보세요.</span><span class=\"choose-button\" data-user-type=\"kol\" id=\"choose-button\"> 나는 유튜버다 </span></div></div><div id=\"login-choose-next\" style=\"display: none;\"><div class=\"login-tab\" id=\"login-tab\"><span class=\"tab-content\" data-user-type=\"kol\" sensors-name=\"kol_modal_login_tab_kol\"> 인플루언서 </span><span class=\"tab-content\" data-user-type=\"brand\" sensors-name=\"kol_modal_login_tab_brand\"> 광고주 </span></div><!--  广告主 --><div class=\"login-main\" id=\"login-brand\" style=\"display: none;\"><div class=\"button-wrap\"><span class=\"login-button login-gg\" id=\"brand-gg\" sensors-name=\"kol_modal_login_brand_google\"><span class=\"login-icon icon-google\"></span> Google으로 계속하기 </span></div><div class=\"divide-line mar-top-24\"><span class=\"divide-text\">OR</span></div><div class=\"input-wrap mar-top-24\"><div class=\"input-content\" id=\"email-wrap\"><input autocomplete=\"none\" class=\"input\" id=\"email\" name=\"email\" placeholder=\"이메일\" sensors-name=\"kol_modal_login_brand_email\" type=\"text\"/> <span class=\"kolicon kol-icon-email2 icon-left\"></span></div></div><div class=\"error-wrap mar-top-8\" id=\"email-error\" style=\"display: none;\"></div><div class=\"input-wrap mar-top-16\"><div class=\"input-content\" id=\"pwd-wrap\"><input autocomplete=\"none\" class=\"input input-short\" id=\"pwd\" name=\"pwd\" placeholder=\"비밀번호\" sensors-name=\"kol_modal_login_brand_pwd\" type=\"password\"/> <input autocomplete=\"none\" class=\"input input-short hide\" id=\"pwd-text\" placeholder=\"비밀번호\" type=\"text\"/> <span class=\"kolicon kol-icon-lock icon-left\"></span> <span class=\"kolicon kol-icon-show-filled icon-right\" id=\"pwd-show\"></span> <span class=\"kolicon kol-icon-hide-filled icon-right\" id=\"pwd-hide\" style=\"display: none;\"></span></div></div><div class=\"error-wrap mar-top-8\" id=\"common-error\" style=\"display: none;\"></div><div class=\"extend-wrap clearfix mar-top-16\"><span class=\"forget-pwd pull-right\" id=\"link-verfication\">비밀번호를 잊으셨나요?</span></div><div class=\"button-wrap mar-top-32\"><span class=\"login-button\" id=\"login-submit\" sensors-name=\"kol_modal_login_brand_login\"> 로그인<span class=\"dot-loading\" id=\"login-loading\">...</span></span></div><div class=\"extend-wrap mar-top-16\"><span class=\"change\"> 아직회원이 아니신가요? <span class=\"link\" id=\"link-signup\">무료 회원가입</span></span></div></div><!--  网红 --><div class=\"login-main\" id=\"login-kol\" style=\"display: none;\"><div class=\"button-wrap mar-top-64\"><span class=\"login-button\" id=\"kol-ytb\" sensors-name=\"kol_modal_login_kol_youtube\"><span class=\"login-icon kolicon kol-icon-youtube-filled\"></span>YouTube으로 계속하기 </span></div><div class=\"button-wrap mar-top-24\"><span class=\"login-button login-tt\" id=\"kol-tt\" sensors-name=\"kol_login_kol_tiktok\"><span class=\"login-icon icon-tiktok\"></span>Continue with TikTok</span></div><div class=\"desc-wrap\">1. 내채널 인증시 채널 데이터가 매일 업데이트됩니다.<br/> 2. 내채널 인증시 양질의 광고 제휴 제안을 추천해 드립니다.</div></div></div> <div class=\"login-bottom\"><div class=\"divide-line\"></div><div class=\"agreement-wrap mar-top-16\">회원가입 시 <a class=\"link\" href=\"/terms\">서비스 이용약관</a> 및 <a class=\"link\" href=\"/privacy\">개인정보 보호정책</a>에 동의하는 것을 의미합니다.</div></div></div></div></div></section><!--  tiktok 登陆异常弹窗 --><div class=\"tiktok-out-box\" id=\"tiktok-out\"><div class=\"tiktok-out-mask\"><div class=\"tiktok-out-wrap\"><span class=\"kolicon kol-icon-warning-circle\"></span> <span class=\"kick-title\">Login Error Notification</span> <span class=\"kick-des\">Sorry, you failed to login our website with your social media account. It might be caused by our system issue, please contact <span class=\"email\"><a class=\"__cf_email__\" data-cfemail=\"85f6e0f7f3ece6e0c5ebeafdecebe3e9f0e0ebe6e0f7abe6eae8\" href=\"/cdn-cgi/l/email-protection\">[email protected]</a></span> for help. </span><span class=\"kick-button-wrap clearfix\"><span class=\"kick-button button confirm\" id=\"tiktok-out-confirm\"> 확인 </span></span></div></div></div><!--  tiktok, 登陆时获取频道id所需时间较长，需要Loading (其它方式登陆也可以使用) --><div class=\"login-loading\" id=\"login-loading-id\"><div class=\"loading-box\"><span class=\"kolicon kol-icon-loading\"></span></div></div> <section class=\"popup\" data-popup-click=\"close\" id=\"cover-to-update\" style=\"display: none;\"><div class=\"content-container\"> <div class=\"cover-content\"><span class=\"kol-icon kol-icon-fork cover-close\" data-close-popup=\"\"></span><div class=\"cover-title\">회원 업그레이드</div><div class=\"cover-description\">회원 업그레이드 후 이용 가능한 서비스입니다.</div><div class=\"cover-button-content\"><a class=\"kol-btn kol-btn-primary cover-button-large\" href=\"/product/pricing\"> 회원 업그레이드 </a></div></div> </div></section> <section class=\"popup\" data-popup-click=\"close\" id=\"cover-to-customized\" style=\"display: none;\"><div class=\"content-container\"><div class=\"cover-content\"><span class=\"kol-icon kol-icon-fork cover-close\" data-close-popup=\"\"></span><div class=\"cover-title\">권한 부족</div><div class=\"cover-description\">엔터프라이즈 회원만 이용 가능한 서비스입니다.</div><div class=\"cover-button-content\"><a class=\"kol-btn kol-btn-primary cover-button-large\" href=\"/product/pricing\"> 서비스 알아보기 </a></div></div></div></section> <section class=\"popup\" data-popup-click=\"close\" id=\"cover-to-advance-customized\" style=\"display: none;\"><div class=\"content-container\"><div class=\"cover-content\"><span class=\"kol-icon kol-icon-fork cover-close\" data-close-popup=\"\"></span><div class=\"cover-title\">프리미엄 엔터프라이즈 서비스</div><div class=\"cover-description\">프리미엄 엔터프라이즈 멤버십 사용자가 사용 가능한 서비스입니다. 프리미엄 엔터프라이즈 서비스에 대해 자세히 알아보려면 클릭하세요.</div><div class=\"cover-button-content\"><a class=\"kol-btn kol-btn-primary cover-button-large\" href=\"/product/pricing\"> 서비스 알아보기 </a></div></div></div></section> <section class=\"popup\" data-popup-click=\"close\" id=\"cover-to-business\" style=\"display: none;\"><div class=\"content-container\"><div class=\"cover-content\"><span class=\"kol-icon kol-icon-fork cover-close\" data-close-popup=\"\"></span><div class=\"cover-title\">멤버십 등급 불일치</div><div class=\"cover-description\">비즈니스 버전 사용자만 구매 가능합니다.</div></div></div></section> <section class=\"popup\" data-popup-click=\"close\" id=\"cover-to-upper\" style=\"display: none;\"><div class=\"content-container\"> <div class=\"cover-content\"><span class=\"kol-icon kol-icon-fork cover-close\" data-close-popup=\"\"></span><div class=\"cover-title\">Quota 소진될 예정입니다</div><div class=\"cover-description\">죄송하지만 현재 최대 수량이 제한 되어 있습니다. 해당 내용을 문의하시려면<a class=\"red\" href=\"/cdn-cgi/l/email-protection#43302631352a2026032d2c3b2a2d252f36262d2026316d202c2e\"><span class=\"__cf_email__\" data-cfemail=\"f083958286999395b09e9f88999e969c85959e939582de939f9d\">[email protected]</span></a>로 연락하세요.</div></div> </div></section> <section class=\"popup\" data-popup-click=\"close\" id=\"cover-to-subAccountUnable\" style=\"display: none;\"><div class=\"content-container\"><div class=\"cover-content\"><span class=\"kol-icon kol-icon-fork cover-close\" data-close-popup=\"\"></span><div class=\"cover-title\">연결해제</div><div class=\"cover-question\">{subAccount} 계정의 연결을 해제하시겠습니까?</div><div class=\"cover-description\">연결 해제 시 해당 계정은 더 이상 메인 계정의 정보를 공유받을 수 없습니다 {parentAccount}</div><div class=\"cover-button-content\"><span class=\"kol-btn kol-btn cover-button\" data-close-popup=\"\"> 취소 </span><span class=\"unbound-confirm kol-btn kol-btn-primary cover-button\"> 연결해제 </span></div></div></div></section> <section class=\"popup\" data-popup-click=\"close\" id=\"cover-to-unusable\" style=\"display: none;\"><div class=\"content-container\"><div class=\"cover-content\"><span class=\"kol-icon kol-icon-fork cover-close\" data-close-popup=\"\"></span><div class=\"cover-title\">구매제한</div><div class=\"cover-description\">현재 회원 등급으로 쿼타 구매 또는 유료회원 가입을 할 수 없습니다. <a class=\"__cf_email__\" data-cfemail=\"92e1f7e0e4fbf1f7d2fcfdeafbfcf4fee7f7fcf1f7e0bcf1fdff\" href=\"/cdn-cgi/l/email-protection\">[email protected]</a> 으로 문의 주시기 바랍니다.</div></div></div></section> <section class=\"popup\" data-popup-click=\"close\" id=\"cover-to-buy\" style=\"display: none;\"><div class=\"content-container\"> <div class=\"cover-content\"><span class=\"kol-icon kol-icon-fork cover-close\" data-close-popup=\"\"></span><div class=\"cover-title\">회원 서비스</div><div class=\"cover-description\">회원 구매 후 이용 가능한 서비스입니다.</div><div class=\"cover-button-content\"><a class=\"kol-btn kol-btn-primary cover-button-large\" href=\"/product/pricing\"> 회원 구매 </a></div></div> </div></section> <section class=\"popup\" data-popup-click=\"close\" id=\"cover-to-buy-quota\" style=\"display: none;\"><div class=\"content-container\"> <div class=\"cover-content\"><span class=\"kol-icon kol-icon-fork cover-close\" data-close-popup=\"\"></span><div class=\"cover-title\">쿼타가 부족합니다</div><div class=\"cover-description\">쿼타를 구매하여 추가 데이터를 확인하세요.</div><div class=\"cover-button-content\"><a class=\"kol-btn kol-btn-primary cover-button-large\" href=\"/product/pricing#api-service\"> 쿼타 구매 </a></div></div> </div></section> <section class=\"popup\" id=\"cover-to-channel-conflict\" style=\"display: none;\"><div class=\"content-container larger\"><div class=\"cover-content\"><div class=\"cover-title\">Account authentication conflict</div><div class=\"cover-compare\">The current account has been authenticated to other channels:</div><div class=\"cover-compare\"><span class=\"weight\">Authenticated Channel：</span>  <span></span><br/><span class=\"weight\">Channel ID：</span>  <span></span></div><div class=\"cover-compare\"><span class=\"weight\">Current Channel：</span>  <span></span><br/><span class=\"weight\">Channel ID：</span>  <span></span></div><div class=\"cover-compare\">Please contact: <span class=\"red\"><a class=\"__cf_email__\" data-cfemail=\"c6b5a3b4b0afa5a386a8a9beafa8a0aab3a3a8a5a3b4e8a5a9ab\" href=\"/cdn-cgi/l/email-protection\">[email protected]</a></span></div><div class=\"cover-button-content\"><span class=\"kol-btn kol-btn-primary cover-button-large\" id=\"confirm-channel-conflict\"> I Know </span></div></div></div></section> <section class=\"popup\" data-popup-click=\"close\" id=\"cover-to-unlock-email\" style=\"display: none;\"><div class=\"content-container\"><div class=\"cover-content\"><span class=\"kol-icon kol-icon-fork cover-close\" data-close-popup=\"\"></span><div class=\"cover-title\">데이터 보기 확인</div><div class=\"cover-message\"><div class=\"cover-message-item clearfix\"><span class=\"msg-title pull-left\">잔여 이메일 조회 횟수</span><span class=\"msg-info number-remainder red pull-right\"></span></div> <div class=\"cover-message-item clearfix\"><span class=\"msg-title pull-left\">다음 업데이트 시간: </span><span class=\"msg-info email-update red pull-right\"></span></div> </div><div class=\"cover-check\"><input id=\"no-alert\" style=\"display: none;\" type=\"checkbox\"/> <label for=\"no-alert\"><span class=\"check-cube kolicon kol-icon-correct\"></span> <span class=\"check-text\">다시 보지 않기</span></label></div><div class=\"cover-button-content\"><span class=\"kol-btn kol-btn cover-button\" data-close-popup=\"\"> 취소 </span><span class=\"email-confirm kol-btn kol-btn-primary cover-button\"> 클릭하여 알아보기 </span></div></div></div></section> <section class=\"popup\" data-popup-click=\"close\" id=\"cover-to-unlock-hight-quality\" style=\"display: none;\"><div class=\"content-container\"><div class=\"cover-content\"><span class=\"kol-icon kol-icon-fork cover-close\" data-close-popup=\"\"></span><div class=\"cover-title\">데이터 보기 확인</div><div class=\"cover-message\"><div class=\"cover-message-item clearfix\"><span class=\"msg-title pull-left\">잔여 이메일 조회 횟수</span><span class=\"msg-info number-remainder red pull-right\"></span></div></div><div class=\"cover-check\"><input id=\"no-alert\" style=\"display: none;\" type=\"checkbox\"/> <label for=\"no-alert\"><span class=\"check-cube kolicon kol-icon-correct\"></span> <span class=\"check-text\">다시 보지 않기</span></label></div><div class=\"cover-button-content\"><span class=\"kol-btn kol-btn cover-button\" data-close-popup=\"\"> 취소 </span><span class=\"email-confirm kol-btn kol-btn-primary cover-button\"> 클릭하여 알아보기 </span></div></div></div></section> <section class=\"popup\" data-popup-click=\"close\" id=\"un-bound\" style=\"display: none;\"><div class=\"content-container un-bound\"><div class=\"cover-content\"><span class=\"kol-icon kol-icon-fork cover-close\" data-close-popup=\"\"></span><div class=\"cover-title\">연결해제</div><div class=\"cover-description\"><span class=\"weight\"> <span id=\"own-email\"></span> 계정의 연결을 해제하시겠습니까? </span><span class=\"des\"> 연결 해제 시 해당 계정은 더 이상 메인 계정의 정보를 공유받을 수 없습니다  <span class=\"parent-email\"></span></span></div><div class=\"cover-button-content\"><span class=\"kol-btn kol-btn cover-button\" data-close-popup=\"\"> 취소 </span><span class=\"un-bound-confirm kol-btn kol-btn-primary cover-button\"> 연결해제 </span></div></div></div></section> <section class=\"popup\" id=\"export-xls\" style=\"display: none;\"><div class=\"content-container\"><div class=\"cover-content\"><span class=\"kol-icon kol-icon-fork cover-close\" data-close-popup=\"\"></span><div class=\"cover-title\">Excel파일 추출</div><div class=\"search-export-wrap\"><div class=\"export-content\"><div class=\"export-content-title\"><span>기본 필수 항목</span><span class=\"kolicon kol-icon-left\"></span></div> <div class=\"export-list\"> <div class=\"export-item clearfix\"> <div class=\"item pull-left\"><input class=\"export-check export-base\" disabled=\"disabled\" id=\"base-1\" type=\"checkbox\"/> <label class=\"clearfix\" for=\"base-1\"><span class=\"check-box kolicon kol-icon-correct pull-left\"></span> <span class=\"check-name pull-left ellipsis\" title=\"인플루언서\">인플루언서</span></label></div> <div class=\"item pull-left\"><input class=\"export-check export-base\" disabled=\"disabled\" id=\"base-2\" type=\"checkbox\"/> <label class=\"clearfix\" for=\"base-2\"><span class=\"check-box kolicon kol-icon-correct pull-left\"></span> <span class=\"check-name pull-left ellipsis\" title=\"인플루언서 URL\">인플루언서 URL</span></label></div> </div> <div class=\"export-item clearfix\"> <div class=\"item pull-left\"><input class=\"export-check export-base\" disabled=\"disabled\" id=\"base-3\" type=\"checkbox\"/> <label class=\"clearfix\" for=\"base-3\"><span class=\"check-box kolicon kol-icon-correct pull-left\"></span> <span class=\"check-name pull-left ellipsis\" title=\"YouTube\">YouTube</span></label></div> <div class=\"item pull-left\"><input class=\"export-check export-base\" disabled=\"disabled\" id=\"base-4\" type=\"checkbox\"/> <label class=\"clearfix\" for=\"base-4\"><span class=\"check-box kolicon kol-icon-correct pull-left\"></span> <span class=\"check-name pull-left ellipsis\" title=\"오디언스\">오디언스</span></label></div> </div> <div class=\"export-item clearfix\"> <div class=\"item pull-left\"><input class=\"export-check export-base\" disabled=\"disabled\" id=\"base-10\" type=\"checkbox\"/> <label class=\"clearfix\" for=\"base-10\"><span class=\"check-box kolicon kol-icon-correct pull-left\"></span> <span class=\"check-name pull-left ellipsis\" title=\"지역\">지역</span></label></div> <div class=\"item pull-left\"><input class=\"export-check export-base\" disabled=\"disabled\" id=\"base-7\" type=\"checkbox\"/> <label class=\"clearfix\" for=\"base-7\"><span class=\"check-box kolicon kol-icon-correct pull-left\"></span> <span class=\"check-name pull-left ellipsis\" title=\"NoxScore\">NoxScore</span></label></div> </div> <div class=\"export-item clearfix\"> <div class=\"item pull-left\"><input class=\"export-check export-base\" disabled=\"disabled\" id=\"base-11\" type=\"checkbox\"/> <label class=\"clearfix\" for=\"base-11\"><span class=\"check-box kolicon kol-icon-correct pull-left\"></span> <span class=\"check-name pull-left ellipsis\" title=\"언어\">언어</span></label></div> <div class=\"item pull-left\"><input class=\"export-check export-base\" disabled=\"disabled\" id=\"base-12\" type=\"checkbox\"/> <label class=\"clearfix\" for=\"base-12\"><span class=\"check-box kolicon kol-icon-correct pull-left\"></span> <span class=\"check-name pull-left ellipsis\" title=\"YouTube 카테고리\">YouTube 카테고리</span></label></div> </div> <div class=\"export-item clearfix\"> <div class=\"item pull-left\"><input class=\"export-check export-base\" disabled=\"disabled\" id=\"base-6\" type=\"checkbox\"/> <label class=\"clearfix\" for=\"base-6\"><span class=\"check-box kolicon kol-icon-correct pull-left\"></span> <span class=\"check-name pull-left ellipsis\" title=\"게시글\">게시글</span></label></div> <div class=\"item pull-left\"><input class=\"export-check export-base\" disabled=\"disabled\" id=\"base-9\" type=\"checkbox\"/> <label class=\"clearfix\" for=\"base-9\"><span class=\"check-box kolicon kol-icon-correct pull-left\"></span> <span class=\"check-name pull-left ellipsis\" title=\"지역 랭킹\">지역 랭킹</span></label></div> </div> <div class=\"export-item clearfix\"> <div class=\"item pull-left\"><input class=\"export-check export-base\" disabled=\"disabled\" id=\"base-8\" type=\"checkbox\"/> <label class=\"clearfix\" for=\"base-8\"><span class=\"check-box kolicon kol-icon-correct pull-left\"></span> <span class=\"check-name pull-left ellipsis\" title=\"글로벌 랭킹\">글로벌 랭킹</span></label></div> <div class=\"item pull-left\"><input class=\"export-check export-base\" disabled=\"disabled\" id=\"base-5\" type=\"checkbox\"/> <label class=\"clearfix\" for=\"base-5\"><span class=\"check-box kolicon kol-icon-correct pull-left\"></span> <span class=\"check-name pull-left ellipsis\" title=\"누적 조회수\">누적 조회수</span></label></div> </div> <div class=\"export-item clearfix\"> <div class=\"item pull-left\"><input class=\"export-check export-base\" disabled=\"disabled\" id=\"base-13\" type=\"checkbox\"/> <label class=\"clearfix\" for=\"base-13\"><span class=\"check-box kolicon kol-icon-correct pull-left\"></span> <span class=\"check-name pull-left ellipsis\" title=\"만든시간\">만든시간</span></label></div> </div> </div> </div><div class=\"export-content list-show\"><div class=\"export-content-title\"><span>비즈니스 회원 선택 가능 항목</span><span class=\"kolicon kol-icon-left\"></span></div> <div class=\"export-list\"> <div class=\"export-item clearfix\"> <div class=\"item pull-left\"><input class=\"export-check export-business\" data-id=\"14\" data-quota=\"30\" id=\"business-14\" type=\"checkbox\"/> <label class=\"clearfix\" for=\"business-14\"><span class=\"check-box kolicon kol-icon-correct pull-left\"></span> <span class=\"check-name pull-left ellipsis\" title=\"Nox카테고리\">Nox카테고리</span></label></div> <div class=\"item pull-left\"><input class=\"export-check export-business\" data-id=\"15\" data-quota=\"5\" id=\"business-15\" type=\"checkbox\"/> <label class=\"clearfix\" for=\"business-15\"><span class=\"check-box kolicon kol-icon-correct pull-left\"></span> <span class=\"check-name pull-left ellipsis\" title=\"예상 조회수\">예상 조회수</span></label></div> </div> <div class=\"export-item clearfix\"> <div class=\"item pull-left\"><input class=\"export-check export-business\" data-id=\"16\" data-quota=\"5\" id=\"business-16\" type=\"checkbox\"/> <label class=\"clearfix\" for=\"business-16\"><span class=\"check-box kolicon kol-icon-correct pull-left\"></span> <span class=\"check-name pull-left ellipsis\" title=\"예상 광고단가\">예상 광고단가</span></label></div> <div class=\"item pull-left\"><input class=\"export-check export-business\" data-id=\"22\" data-quota=\"2\" id=\"business-22\" type=\"checkbox\"/> <label class=\"clearfix\" for=\"business-22\"><span class=\"check-box kolicon kol-icon-correct pull-left\"></span> <span class=\"check-name pull-left ellipsis\" title=\"최근 10개 영상의 참여율(ER)\">최근 10개 영상의 참여율(ER)</span></label></div> </div> <div class=\"export-item clearfix\"> <div class=\"item pull-left\"><input class=\"export-check export-business\" data-id=\"26\" data-quota=\"2\" id=\"business-26\" type=\"checkbox\"/> <label class=\"clearfix\" for=\"business-26\"><span class=\"check-box kolicon kol-icon-correct pull-left\"></span> <span class=\"check-name pull-left ellipsis\" title=\"최근 10개 영상의 평균 조회수\">최근 10개 영상의 평균 조회수</span></label></div> <div class=\"item pull-left\"><input class=\"export-check export-business\" data-id=\"19\" data-quota=\"10\" id=\"business-19\" type=\"checkbox\"/> <label class=\"clearfix\" for=\"business-19\"><span class=\"check-box kolicon kol-icon-correct pull-left\"></span> <span class=\"check-name pull-left ellipsis\" title=\"시청자 지역분포\">시청자 지역분포</span></label></div> </div> <div class=\"export-item clearfix\"> <div class=\"item pull-left\"><input class=\"export-check export-business\" data-id=\"20\" data-quota=\"10\" id=\"business-20\" type=\"checkbox\"/> <label class=\"clearfix\" for=\"business-20\"><span class=\"check-box kolicon kol-icon-correct pull-left\"></span> <span class=\"check-name pull-left ellipsis\" title=\"시청자 성별 및 연령 분포\">시청자 성별 및 연령 분포</span></label></div> <div class=\"item pull-left\"><input class=\"export-check export-business\" data-id=\"21\" data-quota=\"2\" id=\"business-21\" type=\"checkbox\"/> <label class=\"clearfix\" for=\"business-21\"><span class=\"check-box kolicon kol-icon-correct pull-left\"></span> <span class=\"check-name pull-left ellipsis\" title=\"최근 5개 영상의 참여율(ER)\">최근 5개 영상의 참여율(ER)</span></label></div> </div> <div class=\"export-item clearfix\"> <div class=\"item pull-left\"><input class=\"export-check export-business\" data-id=\"23\" data-quota=\"2\" id=\"business-23\" type=\"checkbox\"/> <label class=\"clearfix\" for=\"business-23\"><span class=\"check-box kolicon kol-icon-correct pull-left\"></span> <span class=\"check-name pull-left ellipsis\" title=\"최근 30개 영상의 참여율(ER)\">최근 30개 영상의 참여율(ER)</span></label></div> <div class=\"item pull-left\"><input class=\"export-check export-business\" data-id=\"25\" data-quota=\"2\" id=\"business-25\" type=\"checkbox\"/> <label class=\"clearfix\" for=\"business-25\"><span class=\"check-box kolicon kol-icon-correct pull-left\"></span> <span class=\"check-name pull-left ellipsis\" title=\"최근 5개 영상의 평균 조회수\">최근 5개 영상의 평균 조회수</span></label></div> </div> <div class=\"export-item clearfix\"> <div class=\"item pull-left\"><input class=\"export-check export-business\" data-id=\"27\" data-quota=\"2\" id=\"business-27\" type=\"checkbox\"/> <label class=\"clearfix\" for=\"business-27\"><span class=\"check-box kolicon kol-icon-correct pull-left\"></span> <span class=\"check-name pull-left ellipsis\" title=\"최근 30개 영상의 평균 조회수\">최근 30개 영상의 평균 조회수</span></label></div> <div class=\"item pull-left\"><input class=\"export-check export-business\" data-id=\"24\" data-quota=\"2\" id=\"business-24\" type=\"checkbox\"/> <label class=\"clearfix\" for=\"business-24\"><span class=\"check-box kolicon kol-icon-correct pull-left\"></span> <span class=\"check-name pull-left ellipsis\" title=\"최근 30일 업로드한 영상의 참여율(ER)\">최근 30일 업로드한 영상의 참여율(ER)</span></label></div> </div> <div class=\"export-item clearfix\"> <div class=\"item pull-left\"><input class=\"export-check export-business\" data-id=\"28\" data-quota=\"2\" id=\"business-28\" type=\"checkbox\"/> <label class=\"clearfix\" for=\"business-28\"><span class=\"check-box kolicon kol-icon-correct pull-left\"></span> <span class=\"check-name pull-left ellipsis\" title=\"최근 10일 업로드한 영상의 평균 조회수\">최근 10일 업로드한 영상의 평균 조회수</span></label></div> <div class=\"item pull-left\"><input class=\"export-check export-business\" data-id=\"29\" data-quota=\"2\" id=\"business-29\" type=\"checkbox\"/> <label class=\"clearfix\" for=\"business-29\"><span class=\"check-box kolicon kol-icon-correct pull-left\"></span> <span class=\"check-name pull-left ellipsis\" title=\"최근 30일 업로드한 영상의 평균 조회수\">최근 30일 업로드한 영상의 평균 조회수</span></label></div> </div> <div class=\"export-item clearfix\"> <div class=\"item pull-left\"><input class=\"export-check export-business\" data-id=\"30\" data-quota=\"2\" id=\"business-30\" type=\"checkbox\"/> <label class=\"clearfix\" for=\"business-30\"><span class=\"check-box kolicon kol-icon-correct pull-left\"></span> <span class=\"check-name pull-left ellipsis\" title=\"최근 10일 업로드한 영상수\">최근 10일 업로드한 영상수</span></label></div> <div class=\"item pull-left\"><input class=\"export-check export-business\" data-id=\"32\" data-quota=\"2\" id=\"business-32\" type=\"checkbox\"/> <label class=\"clearfix\" for=\"business-32\"><span class=\"check-box kolicon kol-icon-correct pull-left\"></span> <span class=\"check-name pull-left ellipsis\" title=\"최근 30일 업로드한 영상의 조회수/구독자 비율\">최근 30일 업로드한 영상의 조회수/구독자 비율</span></label></div> </div> <div class=\"export-item clearfix\"> <div class=\"item pull-left\"><input class=\"export-check export-business\" data-id=\"33\" data-quota=\"2\" id=\"business-33\" type=\"checkbox\"/> <label class=\"clearfix\" for=\"business-33\"><span class=\"check-box kolicon kol-icon-correct pull-left\"></span> <span class=\"check-name pull-left ellipsis\" title=\"최근 30일 업로드한 영사의 좋아요/조회수 비율\">최근 30일 업로드한 영사의 좋아요/조회수 비율</span></label></div> <div class=\"item pull-left\"><input class=\"export-check export-business\" data-id=\"34\" data-quota=\"2\" id=\"business-34\" type=\"checkbox\"/> <label class=\"clearfix\" for=\"business-34\"><span class=\"check-box kolicon kol-icon-correct pull-left\"></span> <span class=\"check-name pull-left ellipsis\" title=\"최근 30일 업로드한 영상의 댓글/조회수 비율\">최근 30일 업로드한 영상의 댓글/조회수 비율</span></label></div> </div> <div class=\"export-item clearfix\"> <div class=\"item pull-left\"><input class=\"export-check export-business\" data-id=\"31\" data-quota=\"2\" id=\"business-31\" type=\"checkbox\"/> <label class=\"clearfix\" for=\"business-31\"><span class=\"check-box kolicon kol-icon-correct pull-left\"></span> <span class=\"check-name pull-left ellipsis\" title=\"최근 30일 업로드한 영상수\">최근 30일 업로드한 영상수</span></label></div> <div class=\"item pull-left\"><input class=\"export-check export-business\" data-id=\"35\" data-quota=\"2\" id=\"business-35\" type=\"checkbox\"/> <label class=\"clearfix\" for=\"business-35\"><span class=\"check-box kolicon kol-icon-correct pull-left\"></span> <span class=\"check-name pull-left ellipsis\" title=\"최근 30일 업로드한 영상의 평균 싫어요/조회수 비율\">최근 30일 업로드한 영상의 평균 싫어요/조회수 비율</span></label></div> </div> <div class=\"export-item clearfix\"> <div class=\"item pull-left\"><input class=\"export-check export-business\" data-id=\"36\" data-quota=\"2\" id=\"business-36\" type=\"checkbox\"/> <label class=\"clearfix\" for=\"business-36\"><span class=\"check-box kolicon kol-icon-correct pull-left\"></span> <span class=\"check-name pull-left ellipsis\" title=\"최근 30개 영상의 평균 조회수/구독자 비율\">최근 30개 영상의 평균 조회수/구독자 비율</span></label></div> <div class=\"item pull-left\"><input class=\"export-check export-business\" data-id=\"37\" data-quota=\"2\" id=\"business-37\" type=\"checkbox\"/> <label class=\"clearfix\" for=\"business-37\"><span class=\"check-box kolicon kol-icon-correct pull-left\"></span> <span class=\"check-name pull-left ellipsis\" title=\"최근 30개 영상의 평균 좋아요/조회수 비율\">최근 30개 영상의 평균 좋아요/조회수 비율</span></label></div> </div> <div class=\"export-item clearfix\"> <div class=\"item pull-left\"><input class=\"export-check export-business\" data-id=\"38\" data-quota=\"2\" id=\"business-38\" type=\"checkbox\"/> <label class=\"clearfix\" for=\"business-38\"><span class=\"check-box kolicon kol-icon-correct pull-left\"></span> <span class=\"check-name pull-left ellipsis\" title=\"최근 30개 영상의 평균 댓글수/조회수 비율\">최근 30개 영상의 평균 댓글수/조회수 비율</span></label></div> <div class=\"item pull-left\"><input class=\"export-check export-business\" data-id=\"39\" data-quota=\"2\" id=\"business-39\" type=\"checkbox\"/> <label class=\"clearfix\" for=\"business-39\"><span class=\"check-box kolicon kol-icon-correct pull-left\"></span> <span class=\"check-name pull-left ellipsis\" title=\"최근 30개 영상의 평균 싫어요/조회수 비율\">최근 30개 영상의 평균 싫어요/조회수 비율</span></label></div> </div> </div> </div><div class=\"export-content\"><div class=\"export-content-title\"><span>엔터프라이즈 회원 선택 가능 항목 <img class=\"email-search-viplevel\" data-container=\"body\" data-original-title=\"엔터프라이즈 회원만 이용 가능한 서비스입니다\" data-toggle=\"tooltip\" src=\"https://res-static.noxinfluencer.com/kol/2024/03/public/img/vip/263ee96f.svg\"/></span><span class=\"kolicon kol-icon-left\"></span></div> <div class=\"export-list\"> <div class=\"export-item clearfix\"> <div class=\"item pull-left\"> <input class=\"export-check export-customized\" data-id=\"17\" id=\"customized-17\" type=\"checkbox\"/> <label class=\"clearfix\" for=\"customized-17\"><span class=\"check-box kolicon kol-icon-correct pull-left\"></span> <span class=\"check-name pull-left ellipsis\" title=\"이메일\">이메일</span></label></div> <div class=\"item pull-left\"> <input class=\"export-check export-customized\" data-id=\"40\" id=\"customized-40\" type=\"checkbox\"/> <label class=\"clearfix\" for=\"customized-40\"><span class=\"check-box kolicon kol-icon-correct pull-left\"></span> <span class=\"check-name pull-left ellipsis\" title=\"SNS\">SNS</span></label></div> </div> <div class=\"export-item clearfix\"> <div class=\"item pull-left\"> <input class=\"export-check export-customized\" data-id=\"18\" id=\"customized-18\" type=\"checkbox\"/> <label class=\"clearfix\" for=\"customized-18\"><span class=\"check-box kolicon kol-icon-correct pull-left\"></span> <span class=\"check-name pull-left ellipsis\" title=\"광고 사례 (브랜드)\">광고 사례 (브랜드)</span></label></div> <div class=\"item pull-left\"> <input class=\"export-check export-customized\" data-id=\"43\" id=\"customized-43\" type=\"checkbox\"/> <label class=\"clearfix\" for=\"customized-43\"><span class=\"check-box kolicon kol-icon-correct pull-left\"></span> <span class=\"check-name pull-left ellipsis\" title=\"일별 구독자 데이터\">일별 구독자 데이터</span></label></div> </div> <div class=\"export-item clearfix\"> <div class=\"item pull-left\"> <input class=\"export-check export-customized\" data-id=\"44\" id=\"customized-44\" type=\"checkbox\"/> <label class=\"clearfix\" for=\"customized-44\"><span class=\"check-box kolicon kol-icon-correct pull-left\"></span> <span class=\"check-name pull-left ellipsis\" title=\"일별 조회수 데이터\">일별 조회수 데이터</span></label></div> </div> </div> </div><div class=\"export-number\"><span class=\"number-label\">수량</span><div class=\"export-input clearfix\"><div class=\"input-wrap pull-left\"><input class=\"search-quantity input\" placeholder=\"저장할 채널의 수량을 입력하세요\" type=\"text\"/></div><div class=\"export-number-tips tips pull-right\">tip: 최대 20,000개 검색결과 저장 가능합니다. </div></div></div><div class=\"export-quota-wrap\"><div class=\"quota-balance\"> <div class=\"quota-balance\"> 잔여수량  <span class=\"export-remainder\"></span></div> </div></div><span class=\"purchase-export kol-btn kol-btn-primary cover-button-large mar-top-24\"> 저장 </span></div></div></div></section> <section class=\"popup\" data-popup-click=\"close\" id=\"export-success\" style=\"display: none;\"><div class=\"content-container\"><div class=\"cover-content\"><span class=\"kol-icon kol-icon-fork cover-close\" data-close-popup=\"\"></span><div class=\"cover-title\">파일 내보내기 중</div><div class=\"cover-compare\">파일 내보내기가 완료되었습니다. 확인 버튼을 클릭하여 결과를 확인하세요.</div><div class=\"cover-button-content\"><a class=\"kol-btn kol-btn-primary cover-button-large\" href=\"/service/data-out\" id=\"purchase-export\"> 결과확인 </a></div></div></div></section> <div class=\"cookie-privacy\" id=\"cookie-privacy\"><div class=\"content\"> noxInfluencer.com은 사용자 경험을 향상시키기 위해 쿠키를 사용합니다. 웹사이트를 계속 사용할 경우 쿠키허용을 의미합니다.  <a href=\"/privacy\">쿠키정책</a><span class=\"kolicon kol-icon-close\"></span></div></div> <div class=\"kick-out-wrap\" id=\"kick-out\" style=\"display: none;\"><span class=\"kolicon kol-icon-warning-circle\"></span> <span class=\"kick-title\">로그아웃 알림</span><span class=\"kick-des\"></span><span class=\"kick-des\">팀원과 함께 계정 공유가 필요할 경우 <a class=\"kick-button kick-reset-pwd\" data-click=\"addSub\" href=\"javascript:void(0)\">서브계정</a>(Staff Account) 설정을 통해 계정 공유 가능합니다.</span><span class=\"kick-button-wrap clearfix\"><span class=\"kick-button button confirm pull-left\" data-click=\"relog\">재로그인</span><span class=\"kick-button button pull-left\">확인</span></span></div><div class=\"time-out-wrap\" id=\"time-out\" style=\"display: none;\"><i class=\"kolicon kol-icon-close-line close\" id=\"time-out-close\"></i> <span class=\"kolicon kol-icon-warning-circle\"></span> <span class=\"kick-title\">로딩 실패</span><span class=\"kick-des\">컴퓨터의 시스템 시간이 거주 국가의 표준시과 불일치로 인해 데이터를 액세스할 수 없습니다. 시스템 시간 설정을 거주 국가의 표준시로 변경 후 해당 페이지를 새로고침해 주세요.</span></div><script data-cfasync=\"false\" src=\"/cdn-cgi/scripts/5c5dd728/cloudflare-static/email-decode.min.js\"></script><script id=\"template-global-alert\" type=\"text/html\"><div class=\"global-alert-wrap\">\n",
       "      <% if (status === 'success') { %>\n",
       "      <span class=\"kolicon kol-icon-correct-circle-filled\"></span>\n",
       "      <% } else { %>\n",
       "      <span class=\"kolicon kol-icon-close-circle-filled\"></span>\n",
       "      <% } %>\n",
       "      <span class=\"alert-text\"><%=# text %></span>\n",
       "      <% if ( !isNoCancel ) { %>\n",
       "      <a class=\"cancel-collect\"><%= cancelText %></a>\n",
       "      <% } %>\n",
       "      <span class=\"kolicon kol-icon-close\"></span>\n",
       "    </div></script> <input id=\"country\" type=\"hidden\" value=\"KR\"/> <input id=\"type\" type=\"hidden\" value=\"subs\"/> <input id=\"interval\" type=\"hidden\" value=\"weekly\"/> <input id=\"category\" type=\"hidden\" value=\"0\"/> <input id=\"tag\" type=\"hidden\" value=\"\"/><script src=\"https://res-static.noxinfluencer.com/kol/2024/03/public/js/runtime.f18d6bba7.js\"></script><script src=\"https://res-static.noxinfluencer.com/kol/2024/03/public/js/chunk.vendor.e88b6cdb.js\"></script><script src=\"https://res-static.noxinfluencer.com/kol/2024/03/public/js/chunk.common.4967740a.js\"></script><script src=\"https://res-static.noxinfluencer.com/kol/2024/03/public/js/chunk.youtubeChannelRank.323e840f.js\"></script> <script type=\"text/javascript\">if (wcs_do) wcs_do(_nasa);</script> <script>window.__lc = window.__lc || {};\n",
       "  window.__lc.license = 13249272;\n",
       "  ; (function (n, t, c) { function i(n) { return e._h ? e._h.apply(null, n) : e._q.push(n) } var e = { _q: [], _h: null, _v: \"2.0\", on: function () { i([\"on\", c.call(arguments)]) }, once: function () { i([\"once\", c.call(arguments)]) }, off: function () { i([\"off\", c.call(arguments)]) }, get: function () { if (!e._h) throw new Error(\"[LiveChatWidget] You can't use getters before load.\"); return i([\"get\", c.call(arguments)]) }, call: function () { i([\"call\", c.call(arguments)]) }, init: function () { var n = t.createElement(\"script\"); n.async = !0, n.type = \"text/javascript\", n.src = \"https://cdn.livechatinc.com/tracking.js\", t.head.appendChild(n) } }; !n.__lc.asyncInit && e.init(), n.LiveChatWidget = n.LiveChatWidget || e }(window, document, [].slice))</script><noscript><a href=\"https://www.livechatinc.com/chat-with/13249272/\" rel=\"nofollow\">Chat with us</a>, powered by <a href=\"https://www.livechatinc.com/?welcome\" rel=\"noopener nofollow\" target=\"_blank\">LiveChat</a></noscript> </body></html>"
      ]
     },
     "execution_count": 17,
     "metadata": {},
     "output_type": "execute_result"
    }
   ],
   "source": [
    "soup = BeautifulSoup(html_src, 'lxml')\n",
    "soup"
   ]
  },
  {
   "cell_type": "code",
   "execution_count": 19,
   "id": "98728ff7",
   "metadata": {},
   "outputs": [
    {
     "data": {
      "text/plain": [
       "100"
      ]
     },
     "execution_count": 19,
     "metadata": {},
     "output_type": "execute_result"
    }
   ],
   "source": [
    "len(soup.select('.table-line.clearfix a'))"
   ]
  },
  {
   "cell_type": "code",
   "execution_count": 37,
   "id": "2c94d036",
   "metadata": {},
   "outputs": [],
   "source": [
    "channel_name = [item.text for item in soup.select('.rank-cell.pull-left.rank-desc')]"
   ]
  },
  {
   "cell_type": "code",
   "execution_count": 38,
   "id": "de3a1ff2",
   "metadata": {},
   "outputs": [],
   "source": [
    "channel_name = channel_name[1:]"
   ]
  },
  {
   "cell_type": "code",
   "execution_count": 39,
   "id": "9ad7d60c",
   "metadata": {},
   "outputs": [
    {
     "data": {
      "text/plain": [
       "50"
      ]
     },
     "execution_count": 39,
     "metadata": {},
     "output_type": "execute_result"
    }
   ],
   "source": [
    "len(channel_name)"
   ]
  },
  {
   "cell_type": "code",
   "execution_count": 36,
   "id": "36f92922",
   "metadata": {},
   "outputs": [],
   "source": [
    "category = [item.text for item in soup.select('.rank-cell.pull-left.rank-category')]"
   ]
  },
  {
   "cell_type": "code",
   "execution_count": 41,
   "id": "3e5dab78",
   "metadata": {},
   "outputs": [],
   "source": [
    "category = category[1:]"
   ]
  },
  {
   "cell_type": "code",
   "execution_count": 42,
   "id": "10854a1e",
   "metadata": {},
   "outputs": [
    {
     "data": {
      "text/plain": [
       "[' 음악 ',\n",
       " ' 음악 ',\n",
       " ' 음악 ',\n",
       " ' 인물/블로그 ',\n",
       " ' 음악 ',\n",
       " ' 음악 ',\n",
       " ' 엔터테인먼트 ',\n",
       " ' 엔터테인먼트 ',\n",
       " ' 엔터테인먼트 ',\n",
       " ' 음악 ',\n",
       " ' 코미디 ',\n",
       " ' 게임 ',\n",
       " ' 인물/블로그 ',\n",
       " ' 엔터테인먼트 ',\n",
       " ' 음악 ',\n",
       " ' 게임 ',\n",
       " ' 인물/블로그 ',\n",
       " ' 음악 ',\n",
       " ' 영화/애니메이션 ',\n",
       " ' 음악 ',\n",
       " ' 인물/블로그 ',\n",
       " ' 인물/블로그 ',\n",
       " ' 음악 ',\n",
       " ' 엔터테인먼트 ',\n",
       " ' 엔터테인먼트 ',\n",
       " ' 엔터테인먼트 ',\n",
       " ' 인물/블로그 ',\n",
       " ' 엔터테인먼트 ',\n",
       " ' 엔터테인먼트 ',\n",
       " ' 엔터테인먼트 ',\n",
       " ' 음악 ',\n",
       " ' 과학기술 ',\n",
       " ' 교육 ',\n",
       " ' 인물/블로그 ',\n",
       " ' 엔터테인먼트 ',\n",
       " ' 엔터테인먼트 ',\n",
       " ' 엔터테인먼트 ',\n",
       " ' 음악 ',\n",
       " ' 음악 ',\n",
       " ' 음악 ',\n",
       " ' 엔터테인먼트 ',\n",
       " ' 인물/블로그 ',\n",
       " ' 엔터테인먼트 ',\n",
       " ' 영화/애니메이션 ',\n",
       " ' 인물/블로그 ',\n",
       " ' 엔터테인먼트 ',\n",
       " ' 인물/블로그 ',\n",
       " ' 엔터테인먼트 ',\n",
       " ' 엔터테인먼트 ',\n",
       " ' 영화/애니메이션 ']"
      ]
     },
     "execution_count": 42,
     "metadata": {},
     "output_type": "execute_result"
    }
   ],
   "source": [
    "category"
   ]
  },
  {
   "cell_type": "code",
   "execution_count": 57,
   "id": "53f90bf8",
   "metadata": {},
   "outputs": [],
   "source": [
    "category_strip = []\n",
    "\n",
    "for i in category:\n",
    "    category_strip.append(i.strip())"
   ]
  },
  {
   "cell_type": "code",
   "execution_count": 58,
   "id": "bfb48a69",
   "metadata": {},
   "outputs": [
    {
     "data": {
      "text/plain": [
       "['음악',\n",
       " '음악',\n",
       " '음악',\n",
       " '인물/블로그',\n",
       " '음악',\n",
       " '음악',\n",
       " '엔터테인먼트',\n",
       " '엔터테인먼트',\n",
       " '엔터테인먼트',\n",
       " '음악',\n",
       " '코미디',\n",
       " '게임',\n",
       " '인물/블로그',\n",
       " '엔터테인먼트',\n",
       " '음악',\n",
       " '게임',\n",
       " '인물/블로그',\n",
       " '음악',\n",
       " '영화/애니메이션',\n",
       " '음악',\n",
       " '인물/블로그',\n",
       " '인물/블로그',\n",
       " '음악',\n",
       " '엔터테인먼트',\n",
       " '엔터테인먼트',\n",
       " '엔터테인먼트',\n",
       " '인물/블로그',\n",
       " '엔터테인먼트',\n",
       " '엔터테인먼트',\n",
       " '엔터테인먼트',\n",
       " '음악',\n",
       " '과학기술',\n",
       " '교육',\n",
       " '인물/블로그',\n",
       " '엔터테인먼트',\n",
       " '엔터테인먼트',\n",
       " '엔터테인먼트',\n",
       " '음악',\n",
       " '음악',\n",
       " '음악',\n",
       " '엔터테인먼트',\n",
       " '인물/블로그',\n",
       " '엔터테인먼트',\n",
       " '영화/애니메이션',\n",
       " '인물/블로그',\n",
       " '엔터테인먼트',\n",
       " '인물/블로그',\n",
       " '엔터테인먼트',\n",
       " '엔터테인먼트',\n",
       " '영화/애니메이션']"
      ]
     },
     "execution_count": 58,
     "metadata": {},
     "output_type": "execute_result"
    }
   ],
   "source": [
    "category_strip"
   ]
  },
  {
   "cell_type": "code",
   "execution_count": 53,
   "id": "b399bed9",
   "metadata": {},
   "outputs": [
    {
     "data": {
      "text/plain": [
       "50"
      ]
     },
     "execution_count": 53,
     "metadata": {},
     "output_type": "execute_result"
    }
   ],
   "source": [
    "len(category)"
   ]
  },
  {
   "cell_type": "code",
   "execution_count": 50,
   "id": "8d5b2a95",
   "metadata": {},
   "outputs": [],
   "source": [
    "subs = [item.text for item in soup.select('.rank-cell.pull-left.rank-subs > .number')]"
   ]
  },
  {
   "cell_type": "code",
   "execution_count": 51,
   "id": "3fb57398",
   "metadata": {},
   "outputs": [
    {
     "data": {
      "text/plain": [
       "['9310만',\n",
       " '7760만',\n",
       " '7410만',\n",
       " '3420만',\n",
       " '3240만',\n",
       " '2880만',\n",
       " '2800만',\n",
       " '2720만',\n",
       " '2630만',\n",
       " '2470만',\n",
       " '2110만',\n",
       " '2080만',\n",
       " '2010만',\n",
       " '1950만',\n",
       " '1860만',\n",
       " '1850만',\n",
       " '1790만',\n",
       " '1750만',\n",
       " '1750만',\n",
       " '1690만',\n",
       " '1580만',\n",
       " '1570만',\n",
       " '1510만',\n",
       " '1460만',\n",
       " '1450만',\n",
       " '1440만',\n",
       " '1360만',\n",
       " '1340만',\n",
       " '1240만',\n",
       " '1200만',\n",
       " '1160만',\n",
       " '1160만',\n",
       " '1140만',\n",
       " '1130만',\n",
       " '1110만',\n",
       " '1100만',\n",
       " '1090만',\n",
       " '1090만',\n",
       " '1080만',\n",
       " '1080만',\n",
       " '1070만',\n",
       " '1060만',\n",
       " '1040만',\n",
       " '1010만',\n",
       " '990만',\n",
       " '971만',\n",
       " '965만',\n",
       " '963만',\n",
       " '950만',\n",
       " '942만']"
      ]
     },
     "execution_count": 51,
     "metadata": {},
     "output_type": "execute_result"
    }
   ],
   "source": [
    "subs"
   ]
  },
  {
   "cell_type": "code",
   "execution_count": 52,
   "id": "b9f44210",
   "metadata": {},
   "outputs": [
    {
     "data": {
      "text/plain": [
       "50"
      ]
     },
     "execution_count": 52,
     "metadata": {},
     "output_type": "execute_result"
    }
   ],
   "source": [
    "len(subs)"
   ]
  },
  {
   "cell_type": "code",
   "execution_count": 34,
   "id": "050206d7",
   "metadata": {},
   "outputs": [
    {
     "data": {
      "text/plain": [
       "[1,\n",
       " 2,\n",
       " 3,\n",
       " 4,\n",
       " 5,\n",
       " 6,\n",
       " 7,\n",
       " 8,\n",
       " 9,\n",
       " 10,\n",
       " 11,\n",
       " 12,\n",
       " 13,\n",
       " 14,\n",
       " 15,\n",
       " 16,\n",
       " 17,\n",
       " 18,\n",
       " 19,\n",
       " 20,\n",
       " 21,\n",
       " 22,\n",
       " 23,\n",
       " 24,\n",
       " 25,\n",
       " 26,\n",
       " 27,\n",
       " 28,\n",
       " 29,\n",
       " 30,\n",
       " 31,\n",
       " 32,\n",
       " 33,\n",
       " 34,\n",
       " 35,\n",
       " 36,\n",
       " 37,\n",
       " 38,\n",
       " 39,\n",
       " 40,\n",
       " 41,\n",
       " 42,\n",
       " 43,\n",
       " 44,\n",
       " 45,\n",
       " 46,\n",
       " 47,\n",
       " 48,\n",
       " 49,\n",
       " 50]"
      ]
     },
     "execution_count": 34,
     "metadata": {},
     "output_type": "execute_result"
    }
   ],
   "source": [
    "rank_list = list(range(1, 51))\n",
    "rank_list"
   ]
  },
  {
   "cell_type": "code",
   "execution_count": 59,
   "id": "ff6ca944",
   "metadata": {},
   "outputs": [
    {
     "data": {
      "text/html": [
       "<div>\n",
       "<style scoped>\n",
       "    .dataframe tbody tr th:only-of-type {\n",
       "        vertical-align: middle;\n",
       "    }\n",
       "\n",
       "    .dataframe tbody tr th {\n",
       "        vertical-align: top;\n",
       "    }\n",
       "\n",
       "    .dataframe thead th {\n",
       "        text-align: right;\n",
       "    }\n",
       "</style>\n",
       "<table border=\"1\" class=\"dataframe\">\n",
       "  <thead>\n",
       "    <tr style=\"text-align: right;\">\n",
       "      <th></th>\n",
       "      <th>순위</th>\n",
       "      <th>채널이름</th>\n",
       "      <th>카테고리</th>\n",
       "      <th>구독자수</th>\n",
       "    </tr>\n",
       "  </thead>\n",
       "  <tbody>\n",
       "    <tr>\n",
       "      <th>0</th>\n",
       "      <td>1</td>\n",
       "      <td>BLACKPINK</td>\n",
       "      <td>음악</td>\n",
       "      <td>9310만</td>\n",
       "    </tr>\n",
       "    <tr>\n",
       "      <th>1</th>\n",
       "      <td>2</td>\n",
       "      <td>BANGTANTV</td>\n",
       "      <td>음악</td>\n",
       "      <td>7760만</td>\n",
       "    </tr>\n",
       "    <tr>\n",
       "      <th>2</th>\n",
       "      <td>3</td>\n",
       "      <td>HYBE LABELS</td>\n",
       "      <td>음악</td>\n",
       "      <td>7410만</td>\n",
       "    </tr>\n",
       "    <tr>\n",
       "      <th>3</th>\n",
       "      <td>4</td>\n",
       "      <td>김프로KIMPRO</td>\n",
       "      <td>인물/블로그</td>\n",
       "      <td>3420만</td>\n",
       "    </tr>\n",
       "    <tr>\n",
       "      <th>4</th>\n",
       "      <td>5</td>\n",
       "      <td>SMTOWN</td>\n",
       "      <td>음악</td>\n",
       "      <td>3240만</td>\n",
       "    </tr>\n",
       "    <tr>\n",
       "      <th>5</th>\n",
       "      <td>6</td>\n",
       "      <td>JYP Entertainment</td>\n",
       "      <td>음악</td>\n",
       "      <td>2880만</td>\n",
       "    </tr>\n",
       "    <tr>\n",
       "      <th>6</th>\n",
       "      <td>7</td>\n",
       "      <td>BeatboxJCOP</td>\n",
       "      <td>엔터테인먼트</td>\n",
       "      <td>2800만</td>\n",
       "    </tr>\n",
       "    <tr>\n",
       "      <th>7</th>\n",
       "      <td>8</td>\n",
       "      <td>ToyPuddingTV</td>\n",
       "      <td>엔터테인먼트</td>\n",
       "      <td>2720만</td>\n",
       "    </tr>\n",
       "    <tr>\n",
       "      <th>8</th>\n",
       "      <td>9</td>\n",
       "      <td>1MILLION Dance Studio</td>\n",
       "      <td>엔터테인먼트</td>\n",
       "      <td>2630만</td>\n",
       "    </tr>\n",
       "    <tr>\n",
       "      <th>9</th>\n",
       "      <td>10</td>\n",
       "      <td>1theK (원더케이)</td>\n",
       "      <td>음악</td>\n",
       "      <td>2470만</td>\n",
       "    </tr>\n",
       "    <tr>\n",
       "      <th>10</th>\n",
       "      <td>11</td>\n",
       "      <td>CuRe 구래</td>\n",
       "      <td>코미디</td>\n",
       "      <td>2110만</td>\n",
       "    </tr>\n",
       "    <tr>\n",
       "      <th>11</th>\n",
       "      <td>12</td>\n",
       "      <td>Mnet K-POP</td>\n",
       "      <td>게임</td>\n",
       "      <td>2080만</td>\n",
       "    </tr>\n",
       "    <tr>\n",
       "      <th>12</th>\n",
       "      <td>13</td>\n",
       "      <td>승비니 Seungbini</td>\n",
       "      <td>인물/블로그</td>\n",
       "      <td>2010만</td>\n",
       "    </tr>\n",
       "    <tr>\n",
       "      <th>13</th>\n",
       "      <td>14</td>\n",
       "      <td>KBS WORLD TV</td>\n",
       "      <td>엔터테인먼트</td>\n",
       "      <td>1950만</td>\n",
       "    </tr>\n",
       "    <tr>\n",
       "      <th>14</th>\n",
       "      <td>15</td>\n",
       "      <td>officialpsy</td>\n",
       "      <td>음악</td>\n",
       "      <td>1860만</td>\n",
       "    </tr>\n",
       "    <tr>\n",
       "      <th>15</th>\n",
       "      <td>16</td>\n",
       "      <td>GH'S</td>\n",
       "      <td>게임</td>\n",
       "      <td>1850만</td>\n",
       "    </tr>\n",
       "    <tr>\n",
       "      <th>16</th>\n",
       "      <td>17</td>\n",
       "      <td>Jane ASMR 제인</td>\n",
       "      <td>인물/블로그</td>\n",
       "      <td>1790만</td>\n",
       "    </tr>\n",
       "    <tr>\n",
       "      <th>17</th>\n",
       "      <td>18</td>\n",
       "      <td>JFlaMusic</td>\n",
       "      <td>음악</td>\n",
       "      <td>1750만</td>\n",
       "    </tr>\n",
       "    <tr>\n",
       "      <th>18</th>\n",
       "      <td>19</td>\n",
       "      <td>LEGO</td>\n",
       "      <td>영화/애니메이션</td>\n",
       "      <td>1750만</td>\n",
       "    </tr>\n",
       "    <tr>\n",
       "      <th>19</th>\n",
       "      <td>20</td>\n",
       "      <td>TWICE</td>\n",
       "      <td>음악</td>\n",
       "      <td>1690만</td>\n",
       "    </tr>\n",
       "    <tr>\n",
       "      <th>20</th>\n",
       "      <td>21</td>\n",
       "      <td>Stray Kids</td>\n",
       "      <td>인물/블로그</td>\n",
       "      <td>1580만</td>\n",
       "    </tr>\n",
       "    <tr>\n",
       "      <th>21</th>\n",
       "      <td>22</td>\n",
       "      <td>Hongyu ASMR 홍유</td>\n",
       "      <td>인물/블로그</td>\n",
       "      <td>1570만</td>\n",
       "    </tr>\n",
       "    <tr>\n",
       "      <th>22</th>\n",
       "      <td>23</td>\n",
       "      <td>BIGBANG</td>\n",
       "      <td>음악</td>\n",
       "      <td>1510만</td>\n",
       "    </tr>\n",
       "    <tr>\n",
       "      <th>23</th>\n",
       "      <td>24</td>\n",
       "      <td>Boram Tube ToysReview [보람튜브 토이리뷰]</td>\n",
       "      <td>엔터테인먼트</td>\n",
       "      <td>1460만</td>\n",
       "    </tr>\n",
       "    <tr>\n",
       "      <th>24</th>\n",
       "      <td>25</td>\n",
       "      <td>CRAZY GREAPA</td>\n",
       "      <td>엔터테인먼트</td>\n",
       "      <td>1450만</td>\n",
       "    </tr>\n",
       "    <tr>\n",
       "      <th>25</th>\n",
       "      <td>26</td>\n",
       "      <td>서은일상이야기</td>\n",
       "      <td>엔터테인먼트</td>\n",
       "      <td>1440만</td>\n",
       "    </tr>\n",
       "    <tr>\n",
       "      <th>26</th>\n",
       "      <td>27</td>\n",
       "      <td>설기양SULGI</td>\n",
       "      <td>인물/블로그</td>\n",
       "      <td>1360만</td>\n",
       "    </tr>\n",
       "    <tr>\n",
       "      <th>27</th>\n",
       "      <td>28</td>\n",
       "      <td>BIBO와 장난감</td>\n",
       "      <td>엔터테인먼트</td>\n",
       "      <td>1340만</td>\n",
       "    </tr>\n",
       "    <tr>\n",
       "      <th>28</th>\n",
       "      <td>29</td>\n",
       "      <td>[햄지]Hamzy</td>\n",
       "      <td>엔터테인먼트</td>\n",
       "      <td>1240만</td>\n",
       "    </tr>\n",
       "    <tr>\n",
       "      <th>29</th>\n",
       "      <td>30</td>\n",
       "      <td>GONGSAM TABLE 이공삼</td>\n",
       "      <td>엔터테인먼트</td>\n",
       "      <td>1200만</td>\n",
       "    </tr>\n",
       "    <tr>\n",
       "      <th>30</th>\n",
       "      <td>31</td>\n",
       "      <td>TOMORROW X TOGETHER OFFICIAL</td>\n",
       "      <td>음악</td>\n",
       "      <td>1160만</td>\n",
       "    </tr>\n",
       "    <tr>\n",
       "      <th>31</th>\n",
       "      <td>32</td>\n",
       "      <td>ox_zung 원정맨</td>\n",
       "      <td>과학기술</td>\n",
       "      <td>1160만</td>\n",
       "    </tr>\n",
       "    <tr>\n",
       "      <th>32</th>\n",
       "      <td>33</td>\n",
       "      <td>핑크퐁 (인기 동요・동화)</td>\n",
       "      <td>교육</td>\n",
       "      <td>1140만</td>\n",
       "    </tr>\n",
       "    <tr>\n",
       "      <th>33</th>\n",
       "      <td>34</td>\n",
       "      <td>KKUBI STUDIO</td>\n",
       "      <td>인물/블로그</td>\n",
       "      <td>1130만</td>\n",
       "    </tr>\n",
       "    <tr>\n",
       "      <th>34</th>\n",
       "      <td>35</td>\n",
       "      <td>DuDuPopTOY</td>\n",
       "      <td>엔터테인먼트</td>\n",
       "      <td>1110만</td>\n",
       "    </tr>\n",
       "    <tr>\n",
       "      <th>35</th>\n",
       "      <td>36</td>\n",
       "      <td>토이몽 TV - ToyMong Tv</td>\n",
       "      <td>엔터테인먼트</td>\n",
       "      <td>1100만</td>\n",
       "    </tr>\n",
       "    <tr>\n",
       "      <th>36</th>\n",
       "      <td>37</td>\n",
       "      <td>유백합 kkubi99</td>\n",
       "      <td>엔터테인먼트</td>\n",
       "      <td>1090만</td>\n",
       "    </tr>\n",
       "    <tr>\n",
       "      <th>37</th>\n",
       "      <td>38</td>\n",
       "      <td>SEVENTEEN</td>\n",
       "      <td>음악</td>\n",
       "      <td>1090만</td>\n",
       "    </tr>\n",
       "    <tr>\n",
       "      <th>38</th>\n",
       "      <td>39</td>\n",
       "      <td>MBCkpop</td>\n",
       "      <td>음악</td>\n",
       "      <td>1080만</td>\n",
       "    </tr>\n",
       "    <tr>\n",
       "      <th>39</th>\n",
       "      <td>40</td>\n",
       "      <td>Stone Music Entertainment</td>\n",
       "      <td>음악</td>\n",
       "      <td>1080만</td>\n",
       "    </tr>\n",
       "    <tr>\n",
       "      <th>40</th>\n",
       "      <td>41</td>\n",
       "      <td>쏘영 Ssoyoung</td>\n",
       "      <td>엔터테인먼트</td>\n",
       "      <td>1070만</td>\n",
       "    </tr>\n",
       "    <tr>\n",
       "      <th>41</th>\n",
       "      <td>42</td>\n",
       "      <td>TwinRoozi 쌍둥이 루지</td>\n",
       "      <td>인물/블로그</td>\n",
       "      <td>1060만</td>\n",
       "    </tr>\n",
       "    <tr>\n",
       "      <th>42</th>\n",
       "      <td>43</td>\n",
       "      <td>Jennierubyjane Official</td>\n",
       "      <td>엔터테인먼트</td>\n",
       "      <td>1040만</td>\n",
       "    </tr>\n",
       "    <tr>\n",
       "      <th>43</th>\n",
       "      <td>44</td>\n",
       "      <td>Larva TUBA</td>\n",
       "      <td>영화/애니메이션</td>\n",
       "      <td>1010만</td>\n",
       "    </tr>\n",
       "    <tr>\n",
       "      <th>44</th>\n",
       "      <td>45</td>\n",
       "      <td>SIO ASMR</td>\n",
       "      <td>인물/블로그</td>\n",
       "      <td>990만</td>\n",
       "    </tr>\n",
       "    <tr>\n",
       "      <th>45</th>\n",
       "      <td>46</td>\n",
       "      <td>M2</td>\n",
       "      <td>엔터테인먼트</td>\n",
       "      <td>971만</td>\n",
       "    </tr>\n",
       "    <tr>\n",
       "      <th>46</th>\n",
       "      <td>47</td>\n",
       "      <td>문복희 Eat with Boki</td>\n",
       "      <td>인물/블로그</td>\n",
       "      <td>965만</td>\n",
       "    </tr>\n",
       "    <tr>\n",
       "      <th>47</th>\n",
       "      <td>48</td>\n",
       "      <td>EXO</td>\n",
       "      <td>엔터테인먼트</td>\n",
       "      <td>963만</td>\n",
       "    </tr>\n",
       "    <tr>\n",
       "      <th>48</th>\n",
       "      <td>49</td>\n",
       "      <td>이지금 [IU Official]</td>\n",
       "      <td>엔터테인먼트</td>\n",
       "      <td>950만</td>\n",
       "    </tr>\n",
       "    <tr>\n",
       "      <th>49</th>\n",
       "      <td>50</td>\n",
       "      <td>Boram Tube [宝蓝和朋友们]</td>\n",
       "      <td>영화/애니메이션</td>\n",
       "      <td>942만</td>\n",
       "    </tr>\n",
       "  </tbody>\n",
       "</table>\n",
       "</div>"
      ],
      "text/plain": [
       "    순위                                채널이름      카테고리   구독자수\n",
       "0    1                           BLACKPINK        음악  9310만\n",
       "1    2                           BANGTANTV        음악  7760만\n",
       "2    3                         HYBE LABELS        음악  7410만\n",
       "3    4                           김프로KIMPRO    인물/블로그  3420만\n",
       "4    5                              SMTOWN        음악  3240만\n",
       "5    6                   JYP Entertainment        음악  2880만\n",
       "6    7                         BeatboxJCOP    엔터테인먼트  2800만\n",
       "7    8                        ToyPuddingTV    엔터테인먼트  2720만\n",
       "8    9               1MILLION Dance Studio    엔터테인먼트  2630만\n",
       "9   10                        1theK (원더케이)        음악  2470만\n",
       "10  11                             CuRe 구래       코미디  2110만\n",
       "11  12                          Mnet K-POP        게임  2080만\n",
       "12  13                       승비니 Seungbini    인물/블로그  2010만\n",
       "13  14                        KBS WORLD TV    엔터테인먼트  1950만\n",
       "14  15                         officialpsy        음악  1860만\n",
       "15  16                                GH'S        게임  1850만\n",
       "16  17                        Jane ASMR 제인    인물/블로그  1790만\n",
       "17  18                           JFlaMusic        음악  1750만\n",
       "18  19                                LEGO  영화/애니메이션  1750만\n",
       "19  20                               TWICE        음악  1690만\n",
       "20  21                          Stray Kids    인물/블로그  1580만\n",
       "21  22                      Hongyu ASMR 홍유    인물/블로그  1570만\n",
       "22  23                             BIGBANG        음악  1510만\n",
       "23  24   Boram Tube ToysReview [보람튜브 토이리뷰]    엔터테인먼트  1460만\n",
       "24  25                        CRAZY GREAPA    엔터테인먼트  1450만\n",
       "25  26                             서은일상이야기    엔터테인먼트  1440만\n",
       "26  27                            설기양SULGI    인물/블로그  1360만\n",
       "27  28                           BIBO와 장난감    엔터테인먼트  1340만\n",
       "28  29                           [햄지]Hamzy    엔터테인먼트  1240만\n",
       "29  30                   GONGSAM TABLE 이공삼    엔터테인먼트  1200만\n",
       "30  31        TOMORROW X TOGETHER OFFICIAL        음악  1160만\n",
       "31  32                         ox_zung 원정맨      과학기술  1160만\n",
       "32  33                      핑크퐁 (인기 동요・동화)        교육  1140만\n",
       "33  34                        KKUBI STUDIO    인물/블로그  1130만\n",
       "34  35                          DuDuPopTOY    엔터테인먼트  1110만\n",
       "35  36                 토이몽 TV - ToyMong Tv    엔터테인먼트  1100만\n",
       "36  37                         유백합 kkubi99    엔터테인먼트  1090만\n",
       "37  38                           SEVENTEEN        음악  1090만\n",
       "38  39                             MBCkpop        음악  1080만\n",
       "39  40           Stone Music Entertainment        음악  1080만\n",
       "40  41                         쏘영 Ssoyoung    엔터테인먼트  1070만\n",
       "41  42                    TwinRoozi 쌍둥이 루지    인물/블로그  1060만\n",
       "42  43             Jennierubyjane Official    엔터테인먼트  1040만\n",
       "43  44                          Larva TUBA  영화/애니메이션  1010만\n",
       "44  45                            SIO ASMR    인물/블로그   990만\n",
       "45  46                                  M2    엔터테인먼트   971만\n",
       "46  47                   문복희 Eat with Boki    인물/블로그   965만\n",
       "47  48                                 EXO    엔터테인먼트   963만\n",
       "48  49                   이지금 [IU Official]    엔터테인먼트   950만\n",
       "49  50                 Boram Tube [宝蓝和朋友们]  영화/애니메이션   942만"
      ]
     },
     "execution_count": 59,
     "metadata": {},
     "output_type": "execute_result"
    }
   ],
   "source": [
    "YoutubeDF = pd.DataFrame({\n",
    "    '순위':rank_list,\n",
    "    '채널이름':channel_name,\n",
    "    '카테고리':category_strip,\n",
    "    '구독자수':subs\n",
    "})\n",
    "YoutubeDF"
   ]
  },
  {
   "cell_type": "code",
   "execution_count": 60,
   "id": "da86cafe",
   "metadata": {},
   "outputs": [],
   "source": [
    "YoutubeDF.to_excel('YoutubeSubRank.xlsx', index=False)"
   ]
  },
  {
   "cell_type": "code",
   "execution_count": null,
   "id": "d7c21b08",
   "metadata": {},
   "outputs": [],
   "source": []
  }
 ],
 "metadata": {
  "kernelspec": {
   "display_name": "Python 3 (ipykernel)",
   "language": "python",
   "name": "python3"
  },
  "language_info": {
   "codemirror_mode": {
    "name": "ipython",
    "version": 3
   },
   "file_extension": ".py",
   "mimetype": "text/x-python",
   "name": "python",
   "nbconvert_exporter": "python",
   "pygments_lexer": "ipython3",
   "version": "3.11.5"
  },
  "toc": {
   "base_numbering": 1,
   "nav_menu": {},
   "number_sections": true,
   "sideBar": true,
   "skip_h1_title": false,
   "title_cell": "Table of Contents",
   "title_sidebar": "Contents",
   "toc_cell": false,
   "toc_position": {},
   "toc_section_display": true,
   "toc_window_display": false
  }
 },
 "nbformat": 4,
 "nbformat_minor": 5
}
