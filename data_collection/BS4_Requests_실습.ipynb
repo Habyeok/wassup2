{
 "cells": [
  {
   "cell_type": "markdown",
   "id": "f7f3b2e0",
   "metadata": {},
   "source": [
    "# Requests 라이브러리 실습"
   ]
  },
  {
   "cell_type": "markdown",
   "id": "169fcd93",
   "metadata": {},
   "source": [
    "## 네이버 스포츠 배구 뉴스 제목과 URL 가져오기"
   ]
  },
  {
   "cell_type": "markdown",
   "id": "963db8c2",
   "metadata": {},
   "source": [
    "https://sports.naver.com/volleyball/index"
   ]
  },
  {
   "cell_type": "code",
   "execution_count": null,
   "id": "681084d0",
   "metadata": {},
   "outputs": [],
   "source": [
    "pip install requests"
   ]
  },
  {
   "cell_type": "code",
   "execution_count": 3,
   "id": "a0400e6c",
   "metadata": {},
   "outputs": [],
   "source": [
    "import requests\n",
    "from bs4 import BeautifulSoup"
   ]
  },
  {
   "cell_type": "code",
   "execution_count": 4,
   "id": "714bb16e",
   "metadata": {},
   "outputs": [],
   "source": [
    "PATH = 'https://sports.naver.com/volleyball/index'\n",
    "resp = requests.get(PATH)"
   ]
  },
  {
   "cell_type": "code",
   "execution_count": 5,
   "id": "62c2edc9",
   "metadata": {},
   "outputs": [],
   "source": [
    "requests.get?"
   ]
  },
  {
   "cell_type": "code",
   "execution_count": 6,
   "id": "fee56b8d",
   "metadata": {},
   "outputs": [
    {
     "data": {
      "text/plain": [
       "<Response [200]>"
      ]
     },
     "execution_count": 6,
     "metadata": {},
     "output_type": "execute_result"
    }
   ],
   "source": [
    "# requests 응답 정보 객체\n",
    "resp"
   ]
  },
  {
   "cell_type": "code",
   "execution_count": 4,
   "id": "ee777c47",
   "metadata": {},
   "outputs": [],
   "source": [
    "resp?"
   ]
  },
  {
   "cell_type": "code",
   "execution_count": null,
   "id": "847669b4",
   "metadata": {},
   "outputs": [],
   "source": [
    "resp.text"
   ]
  },
  {
   "cell_type": "code",
   "execution_count": null,
   "id": "1b43454c",
   "metadata": {},
   "outputs": [],
   "source": [
    "print(resp.text)"
   ]
  },
  {
   "cell_type": "code",
   "execution_count": 9,
   "id": "f0ac4a08",
   "metadata": {},
   "outputs": [],
   "source": [
    "src = resp.text"
   ]
  },
  {
   "cell_type": "code",
   "execution_count": 10,
   "id": "09633618",
   "metadata": {},
   "outputs": [],
   "source": [
    "soup = BeautifulSoup(src, 'lxml')"
   ]
  },
  {
   "cell_type": "code",
   "execution_count": null,
   "id": "d210cb33",
   "metadata": {},
   "outputs": [],
   "source": [
    "print(soup)"
   ]
  },
  {
   "cell_type": "code",
   "execution_count": 12,
   "id": "46c6d9c2",
   "metadata": {},
   "outputs": [],
   "source": [
    "# 뉴스 목록 찾기\n",
    "srclist = soup.select('.home_news_list a')"
   ]
  },
  {
   "cell_type": "code",
   "execution_count": null,
   "id": "d375cdc5",
   "metadata": {},
   "outputs": [],
   "source": [
    "srclist"
   ]
  },
  {
   "cell_type": "code",
   "execution_count": 14,
   "id": "e80ab9be",
   "metadata": {},
   "outputs": [
    {
     "name": "stdout",
     "output_type": "stream",
     "text": [
      "<class 'bs4.element.ResultSet'>\n"
     ]
    }
   ],
   "source": [
    "print(type(srclist))"
   ]
  },
  {
   "cell_type": "code",
   "execution_count": null,
   "id": "bb8deb89",
   "metadata": {},
   "outputs": [],
   "source": [
    "print(len(srclist))\n",
    "print(srclist)"
   ]
  },
  {
   "cell_type": "code",
   "execution_count": 16,
   "id": "73c22a44",
   "metadata": {},
   "outputs": [],
   "source": [
    "sample = srclist[0]"
   ]
  },
  {
   "cell_type": "code",
   "execution_count": 35,
   "id": "8d9d0c31",
   "metadata": {},
   "outputs": [],
   "source": [
    "sample?"
   ]
  },
  {
   "cell_type": "code",
   "execution_count": 17,
   "id": "35c74048",
   "metadata": {},
   "outputs": [
    {
     "name": "stdout",
     "output_type": "stream",
     "text": [
      "<a data-clickcode=\"mnl.txt\" data-gdid=\"88156f78_000000000000000001039569\" data-model-version=\"sports_v1.2:control\" data-session-id=\"HhPUhX6ivvCHoHNG\" href=\"/news?oid=468&amp;aid=0001039569\" target=\"\" title=\"4시즌 연속 준PO 성사?…현대캐피탈, 승점 2만 따도 ‘봄무대’ 밟는다\">\n",
      "<span>\n",
      "\t\t\t\t\t\t\t\n",
      "\t\t\t\t\t\t\t4시즌 연속 준PO 성사?…현대캐피탈, 승점 2만 따도 ‘봄무대’ 밟는다\n",
      "\t\t\t\t\t\t</span>\n",
      "</a>\n"
     ]
    }
   ],
   "source": [
    "print(sample)"
   ]
  },
  {
   "cell_type": "code",
   "execution_count": 19,
   "id": "32e2c087",
   "metadata": {},
   "outputs": [
    {
     "data": {
      "text/plain": [
       "'4시즌 연속 준PO 성사?…현대캐피탈, 승점 2만 따도 ‘봄무대’ 밟는다'"
      ]
     },
     "execution_count": 19,
     "metadata": {},
     "output_type": "execute_result"
    }
   ],
   "source": [
    "sample.text.strip()"
   ]
  },
  {
   "cell_type": "code",
   "execution_count": 20,
   "id": "62b572f3",
   "metadata": {},
   "outputs": [
    {
     "data": {
      "text/plain": [
       "'4시즌 연속 준PO 성사?…현대캐피탈, 승점 2만 따도 ‘봄무대’ 밟는다'"
      ]
     },
     "execution_count": 20,
     "metadata": {},
     "output_type": "execute_result"
    }
   ],
   "source": [
    "sample['title']"
   ]
  },
  {
   "cell_type": "code",
   "execution_count": 21,
   "id": "a3243a3e",
   "metadata": {},
   "outputs": [
    {
     "data": {
      "text/plain": [
       "'/news?oid=468&aid=0001039569'"
      ]
     },
     "execution_count": 21,
     "metadata": {},
     "output_type": "execute_result"
    }
   ],
   "source": [
    "sample['href']"
   ]
  },
  {
   "cell_type": "markdown",
   "id": "bb86e746",
   "metadata": {},
   "source": [
    "### 상대 URL을 절대 URL로 변환하기"
   ]
  },
  {
   "cell_type": "code",
   "execution_count": 22,
   "id": "cfa012cc",
   "metadata": {},
   "outputs": [],
   "source": [
    "href = sample['href']"
   ]
  },
  {
   "cell_type": "code",
   "execution_count": 23,
   "id": "ac924453",
   "metadata": {},
   "outputs": [
    {
     "data": {
      "text/plain": [
       "'https://sports.naver.com/volleyball/index/news?oid=468&aid=0001039569'"
      ]
     },
     "execution_count": 23,
     "metadata": {},
     "output_type": "execute_result"
    }
   ],
   "source": [
    "PATH + href"
   ]
  },
  {
   "cell_type": "code",
   "execution_count": 24,
   "id": "3e6561c0",
   "metadata": {},
   "outputs": [],
   "source": [
    "from urllib.parse import urljoin"
   ]
  },
  {
   "cell_type": "code",
   "execution_count": 25,
   "id": "24abeb23",
   "metadata": {},
   "outputs": [
    {
     "data": {
      "text/plain": [
       "'https://sports.naver.com/news?oid=468&aid=0001039569'"
      ]
     },
     "execution_count": 25,
     "metadata": {},
     "output_type": "execute_result"
    }
   ],
   "source": [
    "urljoin(PATH, href)"
   ]
  },
  {
   "cell_type": "code",
   "execution_count": 26,
   "id": "7bca41f4",
   "metadata": {},
   "outputs": [
    {
     "name": "stdout",
     "output_type": "stream",
     "text": [
      "4시즌 연속 준PO 성사?…현대캐피탈, 승점 2만 따도 ‘봄무대’ 밟는다 https://sports.naver.com/news?oid=468&aid=0001039569\n",
      "29일 챔피언결정전 직행 팀은 ‘1위 탈환’ 대한항공? 우리카드 운명의 16일 결과에 희비 갈린다 https://sports.naver.com/news?oid=109&aid=0005035525\n",
      "‘부담스러운 광주 원정길’ 현대건설, 그럼에도 ‘우승 키’는 우리에게! https://sports.naver.com/news?oid=382&aid=0001112735\n",
      "4승 13패→감독 경질→13승 5패 ‘대반전’…위기의 현대캐피탈 구한 안젤코 통역 출신 소방수, 기적의 봄배구도 가능할까 https://sports.naver.com/news?oid=410&aid=0000985532\n",
      "대한항공은 ‘최선’을 만들었다… ‘통합 4연패’ 운명은 16일 우리카드 손으로 https://sports.naver.com/news?oid=396&aid=0000670413\n",
      "‘메가 파워’ 16,000석 대형 인도네시아 아레나에서 경기라니…정관장, 4월 인도네시아 올스타와 붙는다 https://sports.naver.com/news?oid=410&aid=0000985526\n",
      "‘발등 통증’ 임동혁의 부상 투혼...기회 잡은 ‘빅보이’는 2024년 봄배구를 기다린다 https://sports.naver.com/news?oid=530&aid=0000009843\n",
      "꼴찌의 막판 매운맛…현대건설 떨고 있니? https://sports.naver.com/news?oid=144&aid=0000949314\n",
      "“그 경기는 못 본다” 우리카드 최종전 차마 못 보겠다는 토미 감독[현장인터뷰] https://sports.naver.com/news?oid=468&aid=0001039552\n",
      "'역전 우승 포기는 없다' 대한항공, 최종전서 KB손보 완파 '1위 탈환' [IS 의정부] https://sports.naver.com/news?oid=241&aid=0003335971\n",
      "\"우리카드전 틀어 놓고 안 봤다\" 조마조마했던 대한항공, \"희망은 남아있다\" [IS 의정부] https://sports.naver.com/news?oid=241&aid=0003335854\n",
      "초반 1위 돌풍까지 일으켰는데…침통한 김상우 감독, 왜 말을 잃었나 https://sports.naver.com/news?oid=076&aid=0004120945\n",
      "'바쁘다 바빠 승리한 배구황제' 김연경하고 불렀다 [mhn숏폼] https://sports.naver.com/news?oid=445&aid=0000178007\n",
      "‘정규리그 1위 행방의 열쇠’ 쥔 야스민 “현대건설을 사랑하고 응원하지만…” https://sports.naver.com/news?oid=530&aid=0000009842\n",
      "흥국생명·정관장 연파한 ‘꼴찌’ 페퍼저축은행…현대건설 상대로도 ‘매운맛’ 보여줄까 https://sports.naver.com/news?oid=144&aid=0000949171\n",
      "페퍼저축은행, '주전 수납' 정관장 상대로 창단 첫 연승+17연패 탈출! https://sports.naver.com/news?oid=445&aid=0000177977\n",
      "임성진 '폭발' 한국전력, 마지막 홈경기서 유종의 미 https://sports.naver.com/news?oid=047&aid=0002425721\n",
      "왼쪽 날개 꺾인 현대건설, 암운 드리운 포스트시즌 https://sports.naver.com/news?oid=241&aid=0003335574\n",
      "페퍼전 ‘충격패’ 털고, 벼랑 끝 ‘기회 살린’ 흥국생명, 1위 싸움 끝까지 간다 [SS현장] https://sports.naver.com/news?oid=468&aid=0001039135\n",
      "화내라고요? '수원 왕자' 임성진의 반박 \"저까지 성질내면 큰일나요\"[인터뷰] https://sports.naver.com/news?oid=076&aid=0004120615\n",
      "내려갈 팀은 내려간다…DTD 기록 새로 쓴 삼성화재 [발리볼 비키니] https://sports.naver.com/news?oid=020&aid=0003553182\n",
      "'역대급' 우승 경쟁… 정규리그 1위 '시즌 최종전' 결정 https://sports.naver.com/news?oid=417&aid=0000988621\n",
      "‘창단 첫 2연승’ 페퍼저축은행, 현대건설 발목 잡나 https://sports.naver.com/news?oid=119&aid=0002809087\n",
      "'야스민+박정아 48득점' 페퍼저축은행 창단 3년만에 첫 2연승! '선택과 집중' 임한 정관장 8연승 저지 https://sports.naver.com/news?oid=076&aid=0004120564\n",
      "'아직 안 끝났어!' 김연경 \"최대한 높은 곳까지\" https://sports.naver.com/news?oid=214&aid=0001336215\n",
      "\"V리그 출범 이후 처음\"…프로배구 1위 싸움 대혼전 https://sports.naver.com/news?oid=422&aid=0000649576\n",
      "은퇴 질문에 \"노코멘트\"...김현수의 직언은 김연경에게 어떤 영향을 미쳤을까 https://sports.naver.com/news?oid=241&aid=0003335487\n",
      "끝날 때까지 끝 아냐…‘진짜 마지막 찬스’ 대한항공, 새 역사가 이뤄지나? https://sports.naver.com/news?oid=382&aid=0001112290\n",
      "최민호 '물세례 도주, 준비한 선수가 오히려 물벼락을' https://sports.naver.com/news?oid=117&aid=0003812346\n",
      "모마 기세 꺾고 듀스 만든 김수지, 흥국 우승 불씨 살린 '언성 히어로' https://sports.naver.com/news?oid=241&aid=0003335318\n"
     ]
    }
   ],
   "source": [
    "news_title = []\n",
    "news_url = []\n",
    "\n",
    "for i in srclist:\n",
    "    title = i['title']\n",
    "    url = urljoin(PATH, i['href'])\n",
    "    print(title, url)\n",
    "    news_title.append(title)\n",
    "    news_url.append(url)"
   ]
  },
  {
   "cell_type": "code",
   "execution_count": 27,
   "id": "f4fd491f",
   "metadata": {},
   "outputs": [
    {
     "data": {
      "text/plain": [
       "['4시즌 연속 준PO 성사?…현대캐피탈, 승점 2만 따도 ‘봄무대’ 밟는다',\n",
       " '29일 챔피언결정전 직행 팀은 ‘1위 탈환’ 대한항공? 우리카드 운명의 16일 결과에 희비 갈린다',\n",
       " '‘부담스러운 광주 원정길’ 현대건설, 그럼에도 ‘우승 키’는 우리에게!',\n",
       " '4승 13패→감독 경질→13승 5패 ‘대반전’…위기의 현대캐피탈 구한 안젤코 통역 출신 소방수, 기적의 봄배구도 가능할까',\n",
       " '대한항공은 ‘최선’을 만들었다… ‘통합 4연패’ 운명은 16일 우리카드 손으로',\n",
       " '‘메가 파워’ 16,000석 대형 인도네시아 아레나에서 경기라니…정관장, 4월 인도네시아 올스타와 붙는다',\n",
       " '‘발등 통증’ 임동혁의 부상 투혼...기회 잡은 ‘빅보이’는 2024년 봄배구를 기다린다',\n",
       " '꼴찌의 막판 매운맛…현대건설 떨고 있니?',\n",
       " '“그 경기는 못 본다” 우리카드 최종전 차마 못 보겠다는 토미 감독[현장인터뷰]',\n",
       " \"'역전 우승 포기는 없다' 대한항공, 최종전서 KB손보 완파 '1위 탈환' [IS 의정부]\",\n",
       " '\"우리카드전 틀어 놓고 안 봤다\" 조마조마했던 대한항공, \"희망은 남아있다\" [IS 의정부]',\n",
       " '초반 1위 돌풍까지 일으켰는데…침통한 김상우 감독, 왜 말을 잃었나',\n",
       " \"'바쁘다 바빠 승리한 배구황제' 김연경하고 불렀다 [mhn숏폼]\",\n",
       " '‘정규리그 1위 행방의 열쇠’ 쥔 야스민 “현대건설을 사랑하고 응원하지만…”',\n",
       " '흥국생명·정관장 연파한 ‘꼴찌’ 페퍼저축은행…현대건설 상대로도 ‘매운맛’ 보여줄까',\n",
       " \"페퍼저축은행, '주전 수납' 정관장 상대로 창단 첫 연승+17연패 탈출!\",\n",
       " \"임성진 '폭발' 한국전력, 마지막 홈경기서 유종의 미\",\n",
       " '왼쪽 날개 꺾인 현대건설, 암운 드리운 포스트시즌',\n",
       " '페퍼전 ‘충격패’ 털고, 벼랑 끝 ‘기회 살린’ 흥국생명, 1위 싸움 끝까지 간다 [SS현장]',\n",
       " '화내라고요? \\'수원 왕자\\' 임성진의 반박 \"저까지 성질내면 큰일나요\"[인터뷰]',\n",
       " '내려갈 팀은 내려간다…DTD 기록 새로 쓴 삼성화재 [발리볼 비키니]',\n",
       " \"'역대급' 우승 경쟁… 정규리그 1위 '시즌 최종전' 결정\",\n",
       " '‘창단 첫 2연승’ 페퍼저축은행, 현대건설 발목 잡나',\n",
       " \"'야스민+박정아 48득점' 페퍼저축은행 창단 3년만에 첫 2연승! '선택과 집중' 임한 정관장 8연승 저지\",\n",
       " '\\'아직 안 끝났어!\\' 김연경 \"최대한 높은 곳까지\"',\n",
       " '\"V리그 출범 이후 처음\"…프로배구 1위 싸움 대혼전',\n",
       " '은퇴 질문에 \"노코멘트\"...김현수의 직언은 김연경에게 어떤 영향을 미쳤을까',\n",
       " '끝날 때까지 끝 아냐…‘진짜 마지막 찬스’ 대한항공, 새 역사가 이뤄지나?',\n",
       " \"최민호 '물세례 도주, 준비한 선수가 오히려 물벼락을'\",\n",
       " \"모마 기세 꺾고 듀스 만든 김수지, 흥국 우승 불씨 살린 '언성 히어로'\"]"
      ]
     },
     "execution_count": 27,
     "metadata": {},
     "output_type": "execute_result"
    }
   ],
   "source": [
    "news_title"
   ]
  },
  {
   "cell_type": "code",
   "execution_count": 28,
   "id": "015869a8",
   "metadata": {},
   "outputs": [
    {
     "data": {
      "text/plain": [
       "['https://sports.naver.com/news?oid=468&aid=0001039569',\n",
       " 'https://sports.naver.com/news?oid=109&aid=0005035525',\n",
       " 'https://sports.naver.com/news?oid=382&aid=0001112735',\n",
       " 'https://sports.naver.com/news?oid=410&aid=0000985532',\n",
       " 'https://sports.naver.com/news?oid=396&aid=0000670413',\n",
       " 'https://sports.naver.com/news?oid=410&aid=0000985526',\n",
       " 'https://sports.naver.com/news?oid=530&aid=0000009843',\n",
       " 'https://sports.naver.com/news?oid=144&aid=0000949314',\n",
       " 'https://sports.naver.com/news?oid=468&aid=0001039552',\n",
       " 'https://sports.naver.com/news?oid=241&aid=0003335971',\n",
       " 'https://sports.naver.com/news?oid=241&aid=0003335854',\n",
       " 'https://sports.naver.com/news?oid=076&aid=0004120945',\n",
       " 'https://sports.naver.com/news?oid=445&aid=0000178007',\n",
       " 'https://sports.naver.com/news?oid=530&aid=0000009842',\n",
       " 'https://sports.naver.com/news?oid=144&aid=0000949171',\n",
       " 'https://sports.naver.com/news?oid=445&aid=0000177977',\n",
       " 'https://sports.naver.com/news?oid=047&aid=0002425721',\n",
       " 'https://sports.naver.com/news?oid=241&aid=0003335574',\n",
       " 'https://sports.naver.com/news?oid=468&aid=0001039135',\n",
       " 'https://sports.naver.com/news?oid=076&aid=0004120615',\n",
       " 'https://sports.naver.com/news?oid=020&aid=0003553182',\n",
       " 'https://sports.naver.com/news?oid=417&aid=0000988621',\n",
       " 'https://sports.naver.com/news?oid=119&aid=0002809087',\n",
       " 'https://sports.naver.com/news?oid=076&aid=0004120564',\n",
       " 'https://sports.naver.com/news?oid=214&aid=0001336215',\n",
       " 'https://sports.naver.com/news?oid=422&aid=0000649576',\n",
       " 'https://sports.naver.com/news?oid=241&aid=0003335487',\n",
       " 'https://sports.naver.com/news?oid=382&aid=0001112290',\n",
       " 'https://sports.naver.com/news?oid=117&aid=0003812346',\n",
       " 'https://sports.naver.com/news?oid=241&aid=0003335318']"
      ]
     },
     "execution_count": 28,
     "metadata": {},
     "output_type": "execute_result"
    }
   ],
   "source": [
    "news_url"
   ]
  },
  {
   "cell_type": "code",
   "execution_count": 29,
   "id": "3228377e",
   "metadata": {},
   "outputs": [
    {
     "data": {
      "text/plain": [
       "30"
      ]
     },
     "execution_count": 29,
     "metadata": {},
     "output_type": "execute_result"
    }
   ],
   "source": [
    "len(news_title)"
   ]
  },
  {
   "cell_type": "markdown",
   "id": "b5114704",
   "metadata": {},
   "source": [
    "### 데이터 프레임 변환"
   ]
  },
  {
   "cell_type": "code",
   "execution_count": 30,
   "id": "600df053",
   "metadata": {},
   "outputs": [],
   "source": [
    "import pandas as pd"
   ]
  },
  {
   "cell_type": "code",
   "execution_count": 31,
   "id": "5415e401",
   "metadata": {},
   "outputs": [],
   "source": [
    "df = pd.DataFrame({'제목':news_title, 'URL':news_url})"
   ]
  },
  {
   "cell_type": "code",
   "execution_count": 32,
   "id": "97213314",
   "metadata": {},
   "outputs": [
    {
     "data": {
      "text/html": [
       "<div>\n",
       "<style scoped>\n",
       "    .dataframe tbody tr th:only-of-type {\n",
       "        vertical-align: middle;\n",
       "    }\n",
       "\n",
       "    .dataframe tbody tr th {\n",
       "        vertical-align: top;\n",
       "    }\n",
       "\n",
       "    .dataframe thead th {\n",
       "        text-align: right;\n",
       "    }\n",
       "</style>\n",
       "<table border=\"1\" class=\"dataframe\">\n",
       "  <thead>\n",
       "    <tr style=\"text-align: right;\">\n",
       "      <th></th>\n",
       "      <th>제목</th>\n",
       "      <th>URL</th>\n",
       "    </tr>\n",
       "  </thead>\n",
       "  <tbody>\n",
       "    <tr>\n",
       "      <th>0</th>\n",
       "      <td>4시즌 연속 준PO 성사?…현대캐피탈, 승점 2만 따도 ‘봄무대’ 밟는다</td>\n",
       "      <td>https://sports.naver.com/news?oid=468&amp;aid=0001...</td>\n",
       "    </tr>\n",
       "    <tr>\n",
       "      <th>1</th>\n",
       "      <td>29일 챔피언결정전 직행 팀은 ‘1위 탈환’ 대한항공? 우리카드 운명의 16일 결과...</td>\n",
       "      <td>https://sports.naver.com/news?oid=109&amp;aid=0005...</td>\n",
       "    </tr>\n",
       "    <tr>\n",
       "      <th>2</th>\n",
       "      <td>‘부담스러운 광주 원정길’ 현대건설, 그럼에도 ‘우승 키’는 우리에게!</td>\n",
       "      <td>https://sports.naver.com/news?oid=382&amp;aid=0001...</td>\n",
       "    </tr>\n",
       "    <tr>\n",
       "      <th>3</th>\n",
       "      <td>4승 13패→감독 경질→13승 5패 ‘대반전’…위기의 현대캐피탈 구한 안젤코 통역 ...</td>\n",
       "      <td>https://sports.naver.com/news?oid=410&amp;aid=0000...</td>\n",
       "    </tr>\n",
       "    <tr>\n",
       "      <th>4</th>\n",
       "      <td>대한항공은 ‘최선’을 만들었다… ‘통합 4연패’ 운명은 16일 우리카드 손으로</td>\n",
       "      <td>https://sports.naver.com/news?oid=396&amp;aid=0000...</td>\n",
       "    </tr>\n",
       "    <tr>\n",
       "      <th>5</th>\n",
       "      <td>‘메가 파워’ 16,000석 대형 인도네시아 아레나에서 경기라니…정관장, 4월 인도...</td>\n",
       "      <td>https://sports.naver.com/news?oid=410&amp;aid=0000...</td>\n",
       "    </tr>\n",
       "    <tr>\n",
       "      <th>6</th>\n",
       "      <td>‘발등 통증’ 임동혁의 부상 투혼...기회 잡은 ‘빅보이’는 2024년 봄배구를 기다린다</td>\n",
       "      <td>https://sports.naver.com/news?oid=530&amp;aid=0000...</td>\n",
       "    </tr>\n",
       "    <tr>\n",
       "      <th>7</th>\n",
       "      <td>꼴찌의 막판 매운맛…현대건설 떨고 있니?</td>\n",
       "      <td>https://sports.naver.com/news?oid=144&amp;aid=0000...</td>\n",
       "    </tr>\n",
       "    <tr>\n",
       "      <th>8</th>\n",
       "      <td>“그 경기는 못 본다” 우리카드 최종전 차마 못 보겠다는 토미 감독[현장인터뷰]</td>\n",
       "      <td>https://sports.naver.com/news?oid=468&amp;aid=0001...</td>\n",
       "    </tr>\n",
       "    <tr>\n",
       "      <th>9</th>\n",
       "      <td>'역전 우승 포기는 없다' 대한항공, 최종전서 KB손보 완파 '1위 탈환' [IS ...</td>\n",
       "      <td>https://sports.naver.com/news?oid=241&amp;aid=0003...</td>\n",
       "    </tr>\n",
       "    <tr>\n",
       "      <th>10</th>\n",
       "      <td>\"우리카드전 틀어 놓고 안 봤다\" 조마조마했던 대한항공, \"희망은 남아있다\" [IS...</td>\n",
       "      <td>https://sports.naver.com/news?oid=241&amp;aid=0003...</td>\n",
       "    </tr>\n",
       "    <tr>\n",
       "      <th>11</th>\n",
       "      <td>초반 1위 돌풍까지 일으켰는데…침통한 김상우 감독, 왜 말을 잃었나</td>\n",
       "      <td>https://sports.naver.com/news?oid=076&amp;aid=0004...</td>\n",
       "    </tr>\n",
       "    <tr>\n",
       "      <th>12</th>\n",
       "      <td>'바쁘다 바빠 승리한 배구황제' 김연경하고 불렀다 [mhn숏폼]</td>\n",
       "      <td>https://sports.naver.com/news?oid=445&amp;aid=0000...</td>\n",
       "    </tr>\n",
       "    <tr>\n",
       "      <th>13</th>\n",
       "      <td>‘정규리그 1위 행방의 열쇠’ 쥔 야스민 “현대건설을 사랑하고 응원하지만…”</td>\n",
       "      <td>https://sports.naver.com/news?oid=530&amp;aid=0000...</td>\n",
       "    </tr>\n",
       "    <tr>\n",
       "      <th>14</th>\n",
       "      <td>흥국생명·정관장 연파한 ‘꼴찌’ 페퍼저축은행…현대건설 상대로도 ‘매운맛’ 보여줄까</td>\n",
       "      <td>https://sports.naver.com/news?oid=144&amp;aid=0000...</td>\n",
       "    </tr>\n",
       "    <tr>\n",
       "      <th>15</th>\n",
       "      <td>페퍼저축은행, '주전 수납' 정관장 상대로 창단 첫 연승+17연패 탈출!</td>\n",
       "      <td>https://sports.naver.com/news?oid=445&amp;aid=0000...</td>\n",
       "    </tr>\n",
       "    <tr>\n",
       "      <th>16</th>\n",
       "      <td>임성진 '폭발' 한국전력, 마지막 홈경기서 유종의 미</td>\n",
       "      <td>https://sports.naver.com/news?oid=047&amp;aid=0002...</td>\n",
       "    </tr>\n",
       "    <tr>\n",
       "      <th>17</th>\n",
       "      <td>왼쪽 날개 꺾인 현대건설, 암운 드리운 포스트시즌</td>\n",
       "      <td>https://sports.naver.com/news?oid=241&amp;aid=0003...</td>\n",
       "    </tr>\n",
       "    <tr>\n",
       "      <th>18</th>\n",
       "      <td>페퍼전 ‘충격패’ 털고, 벼랑 끝 ‘기회 살린’ 흥국생명, 1위 싸움 끝까지 간다 ...</td>\n",
       "      <td>https://sports.naver.com/news?oid=468&amp;aid=0001...</td>\n",
       "    </tr>\n",
       "    <tr>\n",
       "      <th>19</th>\n",
       "      <td>화내라고요? '수원 왕자' 임성진의 반박 \"저까지 성질내면 큰일나요\"[인터뷰]</td>\n",
       "      <td>https://sports.naver.com/news?oid=076&amp;aid=0004...</td>\n",
       "    </tr>\n",
       "    <tr>\n",
       "      <th>20</th>\n",
       "      <td>내려갈 팀은 내려간다…DTD 기록 새로 쓴 삼성화재 [발리볼 비키니]</td>\n",
       "      <td>https://sports.naver.com/news?oid=020&amp;aid=0003...</td>\n",
       "    </tr>\n",
       "    <tr>\n",
       "      <th>21</th>\n",
       "      <td>'역대급' 우승 경쟁… 정규리그 1위 '시즌 최종전' 결정</td>\n",
       "      <td>https://sports.naver.com/news?oid=417&amp;aid=0000...</td>\n",
       "    </tr>\n",
       "    <tr>\n",
       "      <th>22</th>\n",
       "      <td>‘창단 첫 2연승’ 페퍼저축은행, 현대건설 발목 잡나</td>\n",
       "      <td>https://sports.naver.com/news?oid=119&amp;aid=0002...</td>\n",
       "    </tr>\n",
       "    <tr>\n",
       "      <th>23</th>\n",
       "      <td>'야스민+박정아 48득점' 페퍼저축은행 창단 3년만에 첫 2연승! '선택과 집중' ...</td>\n",
       "      <td>https://sports.naver.com/news?oid=076&amp;aid=0004...</td>\n",
       "    </tr>\n",
       "    <tr>\n",
       "      <th>24</th>\n",
       "      <td>'아직 안 끝났어!' 김연경 \"최대한 높은 곳까지\"</td>\n",
       "      <td>https://sports.naver.com/news?oid=214&amp;aid=0001...</td>\n",
       "    </tr>\n",
       "    <tr>\n",
       "      <th>25</th>\n",
       "      <td>\"V리그 출범 이후 처음\"…프로배구 1위 싸움 대혼전</td>\n",
       "      <td>https://sports.naver.com/news?oid=422&amp;aid=0000...</td>\n",
       "    </tr>\n",
       "    <tr>\n",
       "      <th>26</th>\n",
       "      <td>은퇴 질문에 \"노코멘트\"...김현수의 직언은 김연경에게 어떤 영향을 미쳤을까</td>\n",
       "      <td>https://sports.naver.com/news?oid=241&amp;aid=0003...</td>\n",
       "    </tr>\n",
       "    <tr>\n",
       "      <th>27</th>\n",
       "      <td>끝날 때까지 끝 아냐…‘진짜 마지막 찬스’ 대한항공, 새 역사가 이뤄지나?</td>\n",
       "      <td>https://sports.naver.com/news?oid=382&amp;aid=0001...</td>\n",
       "    </tr>\n",
       "    <tr>\n",
       "      <th>28</th>\n",
       "      <td>최민호 '물세례 도주, 준비한 선수가 오히려 물벼락을'</td>\n",
       "      <td>https://sports.naver.com/news?oid=117&amp;aid=0003...</td>\n",
       "    </tr>\n",
       "    <tr>\n",
       "      <th>29</th>\n",
       "      <td>모마 기세 꺾고 듀스 만든 김수지, 흥국 우승 불씨 살린 '언성 히어로'</td>\n",
       "      <td>https://sports.naver.com/news?oid=241&amp;aid=0003...</td>\n",
       "    </tr>\n",
       "  </tbody>\n",
       "</table>\n",
       "</div>"
      ],
      "text/plain": [
       "                                                   제목  \\\n",
       "0            4시즌 연속 준PO 성사?…현대캐피탈, 승점 2만 따도 ‘봄무대’ 밟는다   \n",
       "1   29일 챔피언결정전 직행 팀은 ‘1위 탈환’ 대한항공? 우리카드 운명의 16일 결과...   \n",
       "2             ‘부담스러운 광주 원정길’ 현대건설, 그럼에도 ‘우승 키’는 우리에게!   \n",
       "3   4승 13패→감독 경질→13승 5패 ‘대반전’…위기의 현대캐피탈 구한 안젤코 통역 ...   \n",
       "4         대한항공은 ‘최선’을 만들었다… ‘통합 4연패’ 운명은 16일 우리카드 손으로   \n",
       "5   ‘메가 파워’ 16,000석 대형 인도네시아 아레나에서 경기라니…정관장, 4월 인도...   \n",
       "6   ‘발등 통증’ 임동혁의 부상 투혼...기회 잡은 ‘빅보이’는 2024년 봄배구를 기다린다   \n",
       "7                              꼴찌의 막판 매운맛…현대건설 떨고 있니?   \n",
       "8        “그 경기는 못 본다” 우리카드 최종전 차마 못 보겠다는 토미 감독[현장인터뷰]   \n",
       "9   '역전 우승 포기는 없다' 대한항공, 최종전서 KB손보 완파 '1위 탈환' [IS ...   \n",
       "10  \"우리카드전 틀어 놓고 안 봤다\" 조마조마했던 대한항공, \"희망은 남아있다\" [IS...   \n",
       "11              초반 1위 돌풍까지 일으켰는데…침통한 김상우 감독, 왜 말을 잃었나   \n",
       "12                '바쁘다 바빠 승리한 배구황제' 김연경하고 불렀다 [mhn숏폼]   \n",
       "13         ‘정규리그 1위 행방의 열쇠’ 쥔 야스민 “현대건설을 사랑하고 응원하지만…”   \n",
       "14      흥국생명·정관장 연파한 ‘꼴찌’ 페퍼저축은행…현대건설 상대로도 ‘매운맛’ 보여줄까   \n",
       "15           페퍼저축은행, '주전 수납' 정관장 상대로 창단 첫 연승+17연패 탈출!   \n",
       "16                      임성진 '폭발' 한국전력, 마지막 홈경기서 유종의 미   \n",
       "17                        왼쪽 날개 꺾인 현대건설, 암운 드리운 포스트시즌   \n",
       "18  페퍼전 ‘충격패’ 털고, 벼랑 끝 ‘기회 살린’ 흥국생명, 1위 싸움 끝까지 간다 ...   \n",
       "19        화내라고요? '수원 왕자' 임성진의 반박 \"저까지 성질내면 큰일나요\"[인터뷰]   \n",
       "20             내려갈 팀은 내려간다…DTD 기록 새로 쓴 삼성화재 [발리볼 비키니]   \n",
       "21                   '역대급' 우승 경쟁… 정규리그 1위 '시즌 최종전' 결정   \n",
       "22                      ‘창단 첫 2연승’ 페퍼저축은행, 현대건설 발목 잡나   \n",
       "23  '야스민+박정아 48득점' 페퍼저축은행 창단 3년만에 첫 2연승! '선택과 집중' ...   \n",
       "24                       '아직 안 끝났어!' 김연경 \"최대한 높은 곳까지\"   \n",
       "25                      \"V리그 출범 이후 처음\"…프로배구 1위 싸움 대혼전   \n",
       "26         은퇴 질문에 \"노코멘트\"...김현수의 직언은 김연경에게 어떤 영향을 미쳤을까   \n",
       "27          끝날 때까지 끝 아냐…‘진짜 마지막 찬스’ 대한항공, 새 역사가 이뤄지나?   \n",
       "28                     최민호 '물세례 도주, 준비한 선수가 오히려 물벼락을'   \n",
       "29           모마 기세 꺾고 듀스 만든 김수지, 흥국 우승 불씨 살린 '언성 히어로'   \n",
       "\n",
       "                                                  URL  \n",
       "0   https://sports.naver.com/news?oid=468&aid=0001...  \n",
       "1   https://sports.naver.com/news?oid=109&aid=0005...  \n",
       "2   https://sports.naver.com/news?oid=382&aid=0001...  \n",
       "3   https://sports.naver.com/news?oid=410&aid=0000...  \n",
       "4   https://sports.naver.com/news?oid=396&aid=0000...  \n",
       "5   https://sports.naver.com/news?oid=410&aid=0000...  \n",
       "6   https://sports.naver.com/news?oid=530&aid=0000...  \n",
       "7   https://sports.naver.com/news?oid=144&aid=0000...  \n",
       "8   https://sports.naver.com/news?oid=468&aid=0001...  \n",
       "9   https://sports.naver.com/news?oid=241&aid=0003...  \n",
       "10  https://sports.naver.com/news?oid=241&aid=0003...  \n",
       "11  https://sports.naver.com/news?oid=076&aid=0004...  \n",
       "12  https://sports.naver.com/news?oid=445&aid=0000...  \n",
       "13  https://sports.naver.com/news?oid=530&aid=0000...  \n",
       "14  https://sports.naver.com/news?oid=144&aid=0000...  \n",
       "15  https://sports.naver.com/news?oid=445&aid=0000...  \n",
       "16  https://sports.naver.com/news?oid=047&aid=0002...  \n",
       "17  https://sports.naver.com/news?oid=241&aid=0003...  \n",
       "18  https://sports.naver.com/news?oid=468&aid=0001...  \n",
       "19  https://sports.naver.com/news?oid=076&aid=0004...  \n",
       "20  https://sports.naver.com/news?oid=020&aid=0003...  \n",
       "21  https://sports.naver.com/news?oid=417&aid=0000...  \n",
       "22  https://sports.naver.com/news?oid=119&aid=0002...  \n",
       "23  https://sports.naver.com/news?oid=076&aid=0004...  \n",
       "24  https://sports.naver.com/news?oid=214&aid=0001...  \n",
       "25  https://sports.naver.com/news?oid=422&aid=0000...  \n",
       "26  https://sports.naver.com/news?oid=241&aid=0003...  \n",
       "27  https://sports.naver.com/news?oid=382&aid=0001...  \n",
       "28  https://sports.naver.com/news?oid=117&aid=0003...  \n",
       "29  https://sports.naver.com/news?oid=241&aid=0003...  "
      ]
     },
     "execution_count": 32,
     "metadata": {},
     "output_type": "execute_result"
    }
   ],
   "source": [
    "df"
   ]
  },
  {
   "cell_type": "code",
   "execution_count": 33,
   "id": "26e41ee7",
   "metadata": {},
   "outputs": [
    {
     "name": "stdout",
     "output_type": "stream",
     "text": [
      "                                                   제목  \\\n",
      "0            4시즌 연속 준PO 성사?…현대캐피탈, 승점 2만 따도 ‘봄무대’ 밟는다   \n",
      "1   29일 챔피언결정전 직행 팀은 ‘1위 탈환’ 대한항공? 우리카드 운명의 16일 결과...   \n",
      "2             ‘부담스러운 광주 원정길’ 현대건설, 그럼에도 ‘우승 키’는 우리에게!   \n",
      "3   4승 13패→감독 경질→13승 5패 ‘대반전’…위기의 현대캐피탈 구한 안젤코 통역 ...   \n",
      "4         대한항공은 ‘최선’을 만들었다… ‘통합 4연패’ 운명은 16일 우리카드 손으로   \n",
      "5   ‘메가 파워’ 16,000석 대형 인도네시아 아레나에서 경기라니…정관장, 4월 인도...   \n",
      "6   ‘발등 통증’ 임동혁의 부상 투혼...기회 잡은 ‘빅보이’는 2024년 봄배구를 기다린다   \n",
      "7                              꼴찌의 막판 매운맛…현대건설 떨고 있니?   \n",
      "8        “그 경기는 못 본다” 우리카드 최종전 차마 못 보겠다는 토미 감독[현장인터뷰]   \n",
      "9   '역전 우승 포기는 없다' 대한항공, 최종전서 KB손보 완파 '1위 탈환' [IS ...   \n",
      "10  \"우리카드전 틀어 놓고 안 봤다\" 조마조마했던 대한항공, \"희망은 남아있다\" [IS...   \n",
      "11              초반 1위 돌풍까지 일으켰는데…침통한 김상우 감독, 왜 말을 잃었나   \n",
      "12                '바쁘다 바빠 승리한 배구황제' 김연경하고 불렀다 [mhn숏폼]   \n",
      "13         ‘정규리그 1위 행방의 열쇠’ 쥔 야스민 “현대건설을 사랑하고 응원하지만…”   \n",
      "14      흥국생명·정관장 연파한 ‘꼴찌’ 페퍼저축은행…현대건설 상대로도 ‘매운맛’ 보여줄까   \n",
      "15           페퍼저축은행, '주전 수납' 정관장 상대로 창단 첫 연승+17연패 탈출!   \n",
      "16                      임성진 '폭발' 한국전력, 마지막 홈경기서 유종의 미   \n",
      "17                        왼쪽 날개 꺾인 현대건설, 암운 드리운 포스트시즌   \n",
      "18  페퍼전 ‘충격패’ 털고, 벼랑 끝 ‘기회 살린’ 흥국생명, 1위 싸움 끝까지 간다 ...   \n",
      "19        화내라고요? '수원 왕자' 임성진의 반박 \"저까지 성질내면 큰일나요\"[인터뷰]   \n",
      "20             내려갈 팀은 내려간다…DTD 기록 새로 쓴 삼성화재 [발리볼 비키니]   \n",
      "21                   '역대급' 우승 경쟁… 정규리그 1위 '시즌 최종전' 결정   \n",
      "22                      ‘창단 첫 2연승’ 페퍼저축은행, 현대건설 발목 잡나   \n",
      "23  '야스민+박정아 48득점' 페퍼저축은행 창단 3년만에 첫 2연승! '선택과 집중' ...   \n",
      "24                       '아직 안 끝났어!' 김연경 \"최대한 높은 곳까지\"   \n",
      "25                      \"V리그 출범 이후 처음\"…프로배구 1위 싸움 대혼전   \n",
      "26         은퇴 질문에 \"노코멘트\"...김현수의 직언은 김연경에게 어떤 영향을 미쳤을까   \n",
      "27          끝날 때까지 끝 아냐…‘진짜 마지막 찬스’ 대한항공, 새 역사가 이뤄지나?   \n",
      "28                     최민호 '물세례 도주, 준비한 선수가 오히려 물벼락을'   \n",
      "29           모마 기세 꺾고 듀스 만든 김수지, 흥국 우승 불씨 살린 '언성 히어로'   \n",
      "\n",
      "                                                  URL  \n",
      "0   https://sports.naver.com/news?oid=468&aid=0001...  \n",
      "1   https://sports.naver.com/news?oid=109&aid=0005...  \n",
      "2   https://sports.naver.com/news?oid=382&aid=0001...  \n",
      "3   https://sports.naver.com/news?oid=410&aid=0000...  \n",
      "4   https://sports.naver.com/news?oid=396&aid=0000...  \n",
      "5   https://sports.naver.com/news?oid=410&aid=0000...  \n",
      "6   https://sports.naver.com/news?oid=530&aid=0000...  \n",
      "7   https://sports.naver.com/news?oid=144&aid=0000...  \n",
      "8   https://sports.naver.com/news?oid=468&aid=0001...  \n",
      "9   https://sports.naver.com/news?oid=241&aid=0003...  \n",
      "10  https://sports.naver.com/news?oid=241&aid=0003...  \n",
      "11  https://sports.naver.com/news?oid=076&aid=0004...  \n",
      "12  https://sports.naver.com/news?oid=445&aid=0000...  \n",
      "13  https://sports.naver.com/news?oid=530&aid=0000...  \n",
      "14  https://sports.naver.com/news?oid=144&aid=0000...  \n",
      "15  https://sports.naver.com/news?oid=445&aid=0000...  \n",
      "16  https://sports.naver.com/news?oid=047&aid=0002...  \n",
      "17  https://sports.naver.com/news?oid=241&aid=0003...  \n",
      "18  https://sports.naver.com/news?oid=468&aid=0001...  \n",
      "19  https://sports.naver.com/news?oid=076&aid=0004...  \n",
      "20  https://sports.naver.com/news?oid=020&aid=0003...  \n",
      "21  https://sports.naver.com/news?oid=417&aid=0000...  \n",
      "22  https://sports.naver.com/news?oid=119&aid=0002...  \n",
      "23  https://sports.naver.com/news?oid=076&aid=0004...  \n",
      "24  https://sports.naver.com/news?oid=214&aid=0001...  \n",
      "25  https://sports.naver.com/news?oid=422&aid=0000...  \n",
      "26  https://sports.naver.com/news?oid=241&aid=0003...  \n",
      "27  https://sports.naver.com/news?oid=382&aid=0001...  \n",
      "28  https://sports.naver.com/news?oid=117&aid=0003...  \n",
      "29  https://sports.naver.com/news?oid=241&aid=0003...  \n"
     ]
    }
   ],
   "source": [
    "print(df)"
   ]
  },
  {
   "cell_type": "markdown",
   "id": "7e286355",
   "metadata": {},
   "source": [
    "### excel 파일 저장"
   ]
  },
  {
   "cell_type": "code",
   "execution_count": 63,
   "id": "630ec473",
   "metadata": {},
   "outputs": [],
   "source": [
    "df.to_excel('volleyball_news.xlsx', index=False)"
   ]
  },
  {
   "cell_type": "markdown",
   "id": "b82bcf55",
   "metadata": {},
   "source": [
    "### 파일명에 저장날짜 추가"
   ]
  },
  {
   "cell_type": "code",
   "execution_count": 64,
   "id": "564de893",
   "metadata": {},
   "outputs": [],
   "source": [
    "import time"
   ]
  },
  {
   "cell_type": "code",
   "execution_count": 65,
   "id": "ae0e1401",
   "metadata": {},
   "outputs": [],
   "source": [
    "today = time.localtime()"
   ]
  },
  {
   "cell_type": "code",
   "execution_count": 66,
   "id": "a86f3ff0",
   "metadata": {},
   "outputs": [
    {
     "data": {
      "text/plain": [
       "time.struct_time(tm_year=2024, tm_mon=3, tm_mday=14, tm_hour=13, tm_min=42, tm_sec=9, tm_wday=3, tm_yday=74, tm_isdst=0)"
      ]
     },
     "execution_count": 66,
     "metadata": {},
     "output_type": "execute_result"
    }
   ],
   "source": [
    "today"
   ]
  },
  {
   "cell_type": "code",
   "execution_count": 67,
   "id": "0facf634",
   "metadata": {},
   "outputs": [],
   "source": [
    "df.to_excel(f'{today.tm_year}{today.tm_mon}{today.tm_mday}_volleyball_news.xlsx', index=False)"
   ]
  },
  {
   "cell_type": "code",
   "execution_count": 68,
   "id": "817c50da",
   "metadata": {},
   "outputs": [
    {
     "name": "stdout",
     "output_type": "stream",
     "text": [
      "2024-03-14 2024-03-14_volleyball_news.xlsx\n"
     ]
    }
   ],
   "source": [
    "file_name = '%d-%02d-%02d' % (today.tm_year, today.tm_mon, today.tm_mday)\n",
    "excel_name = f'{file_name}_volleyball_news' + '.xlsx'\n",
    "print(file_name, excel_name)"
   ]
  },
  {
   "cell_type": "code",
   "execution_count": 69,
   "id": "66afd53d",
   "metadata": {},
   "outputs": [],
   "source": [
    "df.to_excel(excel_name, index=False)"
   ]
  }
 ],
 "metadata": {
  "kernelspec": {
   "display_name": "Python 3 (ipykernel)",
   "language": "python",
   "name": "python3"
  },
  "language_info": {
   "codemirror_mode": {
    "name": "ipython",
    "version": 3
   },
   "file_extension": ".py",
   "mimetype": "text/x-python",
   "name": "python",
   "nbconvert_exporter": "python",
   "pygments_lexer": "ipython3",
   "version": "3.11.5"
  },
  "toc": {
   "base_numbering": 1,
   "nav_menu": {},
   "number_sections": true,
   "sideBar": true,
   "skip_h1_title": false,
   "title_cell": "Table of Contents",
   "title_sidebar": "Contents",
   "toc_cell": false,
   "toc_position": {},
   "toc_section_display": true,
   "toc_window_display": false
  }
 },
 "nbformat": 4,
 "nbformat_minor": 5
}
